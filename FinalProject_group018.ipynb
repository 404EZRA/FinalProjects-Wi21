{
 "cells": [
  {
   "cell_type": "markdown",
   "metadata": {},
   "source": [
    "# COGS 108 - Gender Wage Gap Study"
   ]
  },
  {
   "cell_type": "markdown",
   "metadata": {},
   "source": [
    "# Overview"
   ]
  },
  {
   "cell_type": "markdown",
   "metadata": {},
   "source": [
    "The goal of our project is to determine if there's a significant gender wage gap in recent years. We will be looking at the US census dataset in 2019 in California. We first perfomed t-test to verify if there's a signifincat wage gap between male and female from the dataset. We then picked a few variables, education attainment, marital status, fertility rate, employment status, and age, to find if they are correlated with the wage gap. We are able to conclude that there's a significant gender wage gap in 2019 in California, and that the variables mentioned above are important factors in driving wage gap. We would like to generalize our research to worldwide gender wage gap situation. Since we only picked California residents, our analysis might not apply to worldwide population. "
   ]
  },
  {
   "cell_type": "markdown",
   "metadata": {},
   "source": [
    "# Names\n",
    "\n",
    "- Yueyan Tang\n",
    "- Hongxin Song\n",
    "- Ruojia Tao\n",
    "- Xiang Liu"
   ]
  },
  {
   "cell_type": "markdown",
   "metadata": {},
   "source": [
    "<a id='research_question'></a>\n",
    "# Research Question"
   ]
  },
  {
   "cell_type": "markdown",
   "metadata": {},
   "source": [
    "Is there a wage gap between women and men? If there is, what are some of the variables that correlate to the wage gap? In particular, we'll look at variables such as age, education attainment, marital status, fertility rate, and employment status."
   ]
  },
  {
   "cell_type": "markdown",
   "metadata": {},
   "source": [
    "<a id='background'></a>\n",
    "\n",
    "## Background & Prior Work"
   ]
  },
  {
   "cell_type": "markdown",
   "metadata": {},
   "source": [
    "Background:\n",
    "\n",
    "Women in the workforce have been treated differently from men historically. Such as employment, payment and promotion. In the US, although a lot of people try to improve the female’s situation in the workplace, there is still a large gap between female and male. For example, STEM was especially a male-dominated field. However, dramatic changes in gender inequality had happened in the last half century. Huge progress in achieving gender equality in the workplace has been made from 1970 to present. With movements such as the Paycheck Fairness Act, the Equal Employment Opportunity, the Let Girls Learn Initiative, and Women in STEM, the society strives to create a more inclusive and equal opportunity for all. Though efforts were made in different social factors, we are interested in investigating if there’s still a wage gap in employment. We are interested in learning how different social factors, such as the female educational attainment, marriage and pregnancy, and employment status have affected the wage gap in some way.\n",
    " \n",
    "Prior Work:\n",
    "\n",
    "Gender Wage Gap:\n",
    "\n",
    "The difference between male and female median wages still exists. According to a 2021 study on the past gender wage gaps, “women in Southern Europe earned approximately half of the men who are equally or less skilled” (Bleiweis, 2020). From the 1960s to the 1990s, the gender wage difference “dropped drastically” due to political movements worldwide (England, Paula, et al, 2020). Today world leaders push to advocate policies such as the Fair Pay Act to further reduce the gender wage gap to create a more inclusive environment. \n",
    " \n",
    "Education Rate:\n",
    "\n",
    "For a while, women were not able to attend universities, which restricted them from gaining a higher education and a professional job. However, as society developed, women have been granted equal access. According to the United States Census Bureau, between 2000 and 2019, educational attainment rates increased significantly for both genders. Overall, a higher percentage of bachelor’s degrees were awarded to females than to males in 2015–16 (58 vs. 42 percent). However, in STEM fields, a lower percentage of bachelor’s degrees were awarded to females than to males (36 vs. 64 percent). This pattern—in which females received higher percentages of bachelor’s degrees overall but lower percentages of bachelor’s degrees in STEM fields—was observed across all racial/ethnic groups (NCES, 2019).\n",
    " \n",
    "Marriage And Pregnancy:\n",
    "\n",
    "Marriage and Birth-giving have been major factors affecting women’s employment. Traditionally, there are a lot of women who choose to stay at home as housewives after marriage. There are also numeric cases that women get married and pregnant at a rather young age, causing the lack of chance to work.  From 2000-2016, there was a rise in the first marriage age of women (OECD, 2020). Usually, having a child takes up a lot of time and attention from women and there are women who choose to give up work for their children. Thus, changes happened in women’s marriage age and pregnant age could be correlated to the employment rate.\n",
    "\n",
    "\n",
    "References (include links):\n",
    "- 1)England, Paula, et al. “Progress toward Gender Equality in the United States Has Slowed or Stalled.” PNAS, National Academy of Sciences, 31 Mar. 2020, www.pnas.org/content/117/13/6990. \n",
    "- 2)“Overview.” U.S. Equal Employment Opportunity Commission, www.eeoc.gov/overview#:~:text=The%20U.S.%20Equal%20Employment%20Opportunity,national%20origin%2C%20age%20(40%20or. \n",
    "- 3)“Fast Facts: Science, Technology, Engineering, and Mathematics (STEM) Education, by Gender (899).” Nces.Ed.Gov, 2019, nces.ed.gov/fastfacts/display.asp?id=899.\n",
    "- 4)Bleiweis, Robin. “Quick Facts About the Gender Wage Gap.” Center for American Progress, www.americanprogress.org/issues/women/reports/2020/03/24/482141/quick-facts-gender-wage-gap/. \n",
    "- 5)“Development.” OECD, www.oecd.org/gender/data/development/."
   ]
  },
  {
   "cell_type": "markdown",
   "metadata": {},
   "source": [
    "# Hypothesis\n"
   ]
  },
  {
   "cell_type": "markdown",
   "metadata": {},
   "source": [
    "We hypothesize that there is a significant gender wage gap. Some social factors that are associated with the gender wage gap are education attainment, marital status, fertility rate and age."
   ]
  },
  {
   "cell_type": "markdown",
   "metadata": {},
   "source": [
    "# Dataset"
   ]
  },
  {
   "cell_type": "markdown",
   "metadata": {},
   "source": [
    "*Fill in your dataset information here*\n",
    "\n",
    "- Dataset Name:ACS 1-year PUMS report 2019\n",
    "- Link to the dataset: https://www2.census.gov/programs-surveys/acs/data/pums/2019/1-Year/\n",
    "- Number of observations: 313498\n",
    "\n",
    "This dataset has 313498 individual observations with 288 columns, we care about the variables gender, income, employment status, marital status, fertility rate, and education attainment in 2019 in California.The dataset does not contain any personal information that could disclose the identity of the person being surveyed. \n",
    "\n"
   ]
  },
  {
   "cell_type": "markdown",
   "metadata": {},
   "source": [
    "# Setup"
   ]
  },
  {
   "cell_type": "code",
   "execution_count": 2,
   "metadata": {},
   "outputs": [],
   "source": [
    "# Imports\n",
    "%matplotlib inline\n",
    "import numpy as np\n",
    "import pandas as pd\n",
    "import matplotlib.pyplot as plt\n",
    "\n",
    "import seaborn as sns\n",
    "sns.set()\n",
    "sns.set_context('talk')\n",
    "\n",
    "import warnings\n",
    "warnings.filterwarnings('ignore')\n",
    "\n",
    "import patsy\n",
    "import statsmodels.api as sm\n",
    "import scipy.stats as stats\n",
    "from scipy.stats import ttest_ind, chisquare, normaltest, chi2_contingency"
   ]
  },
  {
   "cell_type": "markdown",
   "metadata": {},
   "source": [
    "# Data Cleaning"
   ]
  },
  {
   "cell_type": "markdown",
   "metadata": {},
   "source": [
    "Since this dataset is from an offical source, data standardization is already done. Therefore we don't have to worry about different format as the input has already been cleaned. \n",
    "\n",
    "Also, we are going to see some basic informations and values in the dataset to help us better understand the dataset."
   ]
  },
  {
   "cell_type": "markdown",
   "metadata": {},
   "source": [
    "## 3.1 Import dataset"
   ]
  },
  {
   "cell_type": "code",
   "execution_count": 3,
   "metadata": {},
   "outputs": [
    {
     "data": {
      "text/html": [
       "<div>\n",
       "<style scoped>\n",
       "    .dataframe tbody tr th:only-of-type {\n",
       "        vertical-align: middle;\n",
       "    }\n",
       "\n",
       "    .dataframe tbody tr th {\n",
       "        vertical-align: top;\n",
       "    }\n",
       "\n",
       "    .dataframe thead th {\n",
       "        text-align: right;\n",
       "    }\n",
       "</style>\n",
       "<table border=\"1\" class=\"dataframe\">\n",
       "  <thead>\n",
       "    <tr style=\"text-align: right;\">\n",
       "      <th></th>\n",
       "      <th>RT</th>\n",
       "      <th>SERIALNO</th>\n",
       "      <th>DIVISION</th>\n",
       "      <th>SPORDER</th>\n",
       "      <th>PUMA</th>\n",
       "      <th>REGION</th>\n",
       "      <th>ST</th>\n",
       "      <th>ADJINC</th>\n",
       "      <th>PWGTP</th>\n",
       "      <th>AGEP</th>\n",
       "      <th>...</th>\n",
       "      <th>PWGTP71</th>\n",
       "      <th>PWGTP72</th>\n",
       "      <th>PWGTP73</th>\n",
       "      <th>PWGTP74</th>\n",
       "      <th>PWGTP75</th>\n",
       "      <th>PWGTP76</th>\n",
       "      <th>PWGTP77</th>\n",
       "      <th>PWGTP78</th>\n",
       "      <th>PWGTP79</th>\n",
       "      <th>PWGTP80</th>\n",
       "    </tr>\n",
       "  </thead>\n",
       "  <tbody>\n",
       "    <tr>\n",
       "      <th>0</th>\n",
       "      <td>P</td>\n",
       "      <td>2019GQ0000003</td>\n",
       "      <td>9</td>\n",
       "      <td>1</td>\n",
       "      <td>3704</td>\n",
       "      <td>4</td>\n",
       "      <td>6</td>\n",
       "      <td>1010145</td>\n",
       "      <td>21</td>\n",
       "      <td>58</td>\n",
       "      <td>...</td>\n",
       "      <td>0</td>\n",
       "      <td>40</td>\n",
       "      <td>0</td>\n",
       "      <td>20</td>\n",
       "      <td>41</td>\n",
       "      <td>40</td>\n",
       "      <td>41</td>\n",
       "      <td>21</td>\n",
       "      <td>0</td>\n",
       "      <td>2</td>\n",
       "    </tr>\n",
       "    <tr>\n",
       "      <th>1</th>\n",
       "      <td>P</td>\n",
       "      <td>2019GQ0000009</td>\n",
       "      <td>9</td>\n",
       "      <td>1</td>\n",
       "      <td>7322</td>\n",
       "      <td>4</td>\n",
       "      <td>6</td>\n",
       "      <td>1010145</td>\n",
       "      <td>34</td>\n",
       "      <td>66</td>\n",
       "      <td>...</td>\n",
       "      <td>62</td>\n",
       "      <td>58</td>\n",
       "      <td>33</td>\n",
       "      <td>7</td>\n",
       "      <td>59</td>\n",
       "      <td>7</td>\n",
       "      <td>34</td>\n",
       "      <td>34</td>\n",
       "      <td>32</td>\n",
       "      <td>34</td>\n",
       "    </tr>\n",
       "    <tr>\n",
       "      <th>2</th>\n",
       "      <td>P</td>\n",
       "      <td>2019GQ0000013</td>\n",
       "      <td>9</td>\n",
       "      <td>1</td>\n",
       "      <td>5904</td>\n",
       "      <td>4</td>\n",
       "      <td>6</td>\n",
       "      <td>1010145</td>\n",
       "      <td>28</td>\n",
       "      <td>18</td>\n",
       "      <td>...</td>\n",
       "      <td>27</td>\n",
       "      <td>27</td>\n",
       "      <td>49</td>\n",
       "      <td>49</td>\n",
       "      <td>7</td>\n",
       "      <td>27</td>\n",
       "      <td>27</td>\n",
       "      <td>29</td>\n",
       "      <td>6</td>\n",
       "      <td>5</td>\n",
       "    </tr>\n",
       "    <tr>\n",
       "      <th>3</th>\n",
       "      <td>P</td>\n",
       "      <td>2019GQ0000023</td>\n",
       "      <td>9</td>\n",
       "      <td>1</td>\n",
       "      <td>7107</td>\n",
       "      <td>4</td>\n",
       "      <td>6</td>\n",
       "      <td>1010145</td>\n",
       "      <td>127</td>\n",
       "      <td>58</td>\n",
       "      <td>...</td>\n",
       "      <td>117</td>\n",
       "      <td>234</td>\n",
       "      <td>226</td>\n",
       "      <td>135</td>\n",
       "      <td>210</td>\n",
       "      <td>217</td>\n",
       "      <td>128</td>\n",
       "      <td>116</td>\n",
       "      <td>125</td>\n",
       "      <td>21</td>\n",
       "    </tr>\n",
       "    <tr>\n",
       "      <th>4</th>\n",
       "      <td>P</td>\n",
       "      <td>2019GQ0000024</td>\n",
       "      <td>9</td>\n",
       "      <td>1</td>\n",
       "      <td>8900</td>\n",
       "      <td>4</td>\n",
       "      <td>6</td>\n",
       "      <td>1010145</td>\n",
       "      <td>103</td>\n",
       "      <td>18</td>\n",
       "      <td>...</td>\n",
       "      <td>180</td>\n",
       "      <td>22</td>\n",
       "      <td>104</td>\n",
       "      <td>104</td>\n",
       "      <td>100</td>\n",
       "      <td>182</td>\n",
       "      <td>24</td>\n",
       "      <td>103</td>\n",
       "      <td>103</td>\n",
       "      <td>23</td>\n",
       "    </tr>\n",
       "  </tbody>\n",
       "</table>\n",
       "<p>5 rows × 288 columns</p>\n",
       "</div>"
      ],
      "text/plain": [
       "  RT       SERIALNO  DIVISION  SPORDER  PUMA  REGION  ST   ADJINC  PWGTP  \\\n",
       "0  P  2019GQ0000003         9        1  3704       4   6  1010145     21   \n",
       "1  P  2019GQ0000009         9        1  7322       4   6  1010145     34   \n",
       "2  P  2019GQ0000013         9        1  5904       4   6  1010145     28   \n",
       "3  P  2019GQ0000023         9        1  7107       4   6  1010145    127   \n",
       "4  P  2019GQ0000024         9        1  8900       4   6  1010145    103   \n",
       "\n",
       "   AGEP  ...  PWGTP71  PWGTP72  PWGTP73  PWGTP74  PWGTP75  PWGTP76  PWGTP77  \\\n",
       "0    58  ...        0       40        0       20       41       40       41   \n",
       "1    66  ...       62       58       33        7       59        7       34   \n",
       "2    18  ...       27       27       49       49        7       27       27   \n",
       "3    58  ...      117      234      226      135      210      217      128   \n",
       "4    18  ...      180       22      104      104      100      182       24   \n",
       "\n",
       "   PWGTP78  PWGTP79  PWGTP80  \n",
       "0       21        0        2  \n",
       "1       34       32       34  \n",
       "2       29        6        5  \n",
       "3      116      125       21  \n",
       "4      103      103       23  \n",
       "\n",
       "[5 rows x 288 columns]"
      ]
     },
     "execution_count": 3,
     "metadata": {},
     "output_type": "execute_result"
    }
   ],
   "source": [
    "ca2019 = pd.read_csv('psam_p06.csv')\n",
    "# Check out the data\n",
    "ca2019.head()"
   ]
  },
  {
   "cell_type": "code",
   "execution_count": 4,
   "metadata": {},
   "outputs": [],
   "source": [
    "# We are only interested in the following columns, and we need to get rid of the SERIALNO for potential privacy issues \n",
    "ca2019 = ca2019[['AGEP', 'WAGP', 'ESR', 'FER', 'SEX', 'MAR', 'SCHL', 'SOCP']]\n",
    "# Renaming the columns of the dataframe\n",
    "ca2019.columns = ['Age', 'Income', 'Employment Status', 'New Born Baby', \n",
    "                  'Gender', 'Marriage Status', 'Highest Education Level', 'Current Occupation']"
   ]
  },
  {
   "cell_type": "markdown",
   "metadata": {},
   "source": [
    "## 3.2 Check for missing data"
   ]
  },
  {
   "cell_type": "code",
   "execution_count": 5,
   "metadata": {},
   "outputs": [
    {
     "data": {
      "text/plain": [
       "Age                             0\n",
       "Income                      61876\n",
       "Employment Status           66593\n",
       "New Born Baby              292870\n",
       "Gender                          0\n",
       "Marriage Status                 0\n",
       "Highest Education Level     10824\n",
       "Current Occupation         155565\n",
       "dtype: int64"
      ]
     },
     "execution_count": 5,
     "metadata": {},
     "output_type": "execute_result"
    }
   ],
   "source": [
    "# Check if the dataset has any missing information\n",
    "ca2019.isnull().sum()"
   ]
  },
  {
   "cell_type": "markdown",
   "metadata": {},
   "source": [
    "Since our research is relative to income employment status and education level, we have to drop that have missing data in any of these columns. "
   ]
  },
  {
   "cell_type": "code",
   "execution_count": 6,
   "metadata": {},
   "outputs": [
    {
     "data": {
      "text/plain": [
       "Age                        0\n",
       "Income                     0\n",
       "Employment Status          0\n",
       "New Born Baby              0\n",
       "Gender                     0\n",
       "Marriage Status            0\n",
       "Highest Education Level    0\n",
       "Current Occupation         0\n",
       "dtype: int64"
      ]
     },
     "execution_count": 6,
     "metadata": {},
     "output_type": "execute_result"
    }
   ],
   "source": [
    "# Consider drop the rows with NaN value for the columns Income, Employment Status and Highest Education Level\n",
    "ca2019.dropna(inplace=True, subset = ['Income', 'Employment Status', 'Highest Education Level'])\n",
    "null_rows = ca2019.isnull().any(axis=1)\n",
    "ca2019 = ca2019.fillna(-1)\n",
    "ca2019.isnull().sum()"
   ]
  },
  {
   "cell_type": "code",
   "execution_count": 7,
   "metadata": {},
   "outputs": [
    {
     "data": {
      "text/html": [
       "<div>\n",
       "<style scoped>\n",
       "    .dataframe tbody tr th:only-of-type {\n",
       "        vertical-align: middle;\n",
       "    }\n",
       "\n",
       "    .dataframe tbody tr th {\n",
       "        vertical-align: top;\n",
       "    }\n",
       "\n",
       "    .dataframe thead th {\n",
       "        text-align: right;\n",
       "    }\n",
       "</style>\n",
       "<table border=\"1\" class=\"dataframe\">\n",
       "  <thead>\n",
       "    <tr style=\"text-align: right;\">\n",
       "      <th></th>\n",
       "      <th>Age</th>\n",
       "      <th>Income</th>\n",
       "      <th>Employment Status</th>\n",
       "      <th>New Born Baby</th>\n",
       "      <th>Gender</th>\n",
       "      <th>Marriage Status</th>\n",
       "      <th>Highest Education Level</th>\n",
       "      <th>Current Occupation</th>\n",
       "    </tr>\n",
       "  </thead>\n",
       "  <tbody>\n",
       "    <tr>\n",
       "      <th>0</th>\n",
       "      <td>58</td>\n",
       "      <td>23100.0</td>\n",
       "      <td>3.0</td>\n",
       "      <td>-1.0</td>\n",
       "      <td>2</td>\n",
       "      <td>5</td>\n",
       "      <td>18.0</td>\n",
       "      <td>533054</td>\n",
       "    </tr>\n",
       "    <tr>\n",
       "      <th>1</th>\n",
       "      <td>66</td>\n",
       "      <td>0.0</td>\n",
       "      <td>6.0</td>\n",
       "      <td>-1.0</td>\n",
       "      <td>1</td>\n",
       "      <td>3</td>\n",
       "      <td>16.0</td>\n",
       "      <td>-1</td>\n",
       "    </tr>\n",
       "    <tr>\n",
       "      <th>2</th>\n",
       "      <td>18</td>\n",
       "      <td>6000.0</td>\n",
       "      <td>6.0</td>\n",
       "      <td>2.0</td>\n",
       "      <td>2</td>\n",
       "      <td>5</td>\n",
       "      <td>16.0</td>\n",
       "      <td>353031</td>\n",
       "    </tr>\n",
       "    <tr>\n",
       "      <th>3</th>\n",
       "      <td>58</td>\n",
       "      <td>0.0</td>\n",
       "      <td>6.0</td>\n",
       "      <td>-1.0</td>\n",
       "      <td>1</td>\n",
       "      <td>5</td>\n",
       "      <td>13.0</td>\n",
       "      <td>-1</td>\n",
       "    </tr>\n",
       "    <tr>\n",
       "      <th>4</th>\n",
       "      <td>18</td>\n",
       "      <td>2000.0</td>\n",
       "      <td>6.0</td>\n",
       "      <td>2.0</td>\n",
       "      <td>2</td>\n",
       "      <td>5</td>\n",
       "      <td>16.0</td>\n",
       "      <td>399032</td>\n",
       "    </tr>\n",
       "  </tbody>\n",
       "</table>\n",
       "</div>"
      ],
      "text/plain": [
       "   Age   Income  Employment Status  New Born Baby  Gender  Marriage Status  \\\n",
       "0   58  23100.0                3.0           -1.0       2                5   \n",
       "1   66      0.0                6.0           -1.0       1                3   \n",
       "2   18   6000.0                6.0            2.0       2                5   \n",
       "3   58      0.0                6.0           -1.0       1                5   \n",
       "4   18   2000.0                6.0            2.0       2                5   \n",
       "\n",
       "   Highest Education Level Current Occupation  \n",
       "0                     18.0             533054  \n",
       "1                     16.0                 -1  \n",
       "2                     16.0             353031  \n",
       "3                     13.0                 -1  \n",
       "4                     16.0             399032  "
      ]
     },
     "execution_count": 7,
     "metadata": {},
     "output_type": "execute_result"
    }
   ],
   "source": [
    "ca2019.head()"
   ]
  },
  {
   "cell_type": "markdown",
   "metadata": {},
   "source": [
    "## 3.3 Data description and subsetting"
   ]
  },
  {
   "cell_type": "code",
   "execution_count": 8,
   "metadata": {},
   "outputs": [
    {
     "data": {
      "text/html": [
       "<div>\n",
       "<style scoped>\n",
       "    .dataframe tbody tr th:only-of-type {\n",
       "        vertical-align: middle;\n",
       "    }\n",
       "\n",
       "    .dataframe tbody tr th {\n",
       "        vertical-align: top;\n",
       "    }\n",
       "\n",
       "    .dataframe thead th {\n",
       "        text-align: right;\n",
       "    }\n",
       "</style>\n",
       "<table border=\"1\" class=\"dataframe\">\n",
       "  <thead>\n",
       "    <tr style=\"text-align: right;\">\n",
       "      <th></th>\n",
       "      <th>Age</th>\n",
       "      <th>Income</th>\n",
       "      <th>Employment Status</th>\n",
       "      <th>New Born Baby</th>\n",
       "      <th>Gender</th>\n",
       "      <th>Marriage Status</th>\n",
       "      <th>Highest Education Level</th>\n",
       "    </tr>\n",
       "  </thead>\n",
       "  <tbody>\n",
       "    <tr>\n",
       "      <th>count</th>\n",
       "      <td>313498.000000</td>\n",
       "      <td>313498.000000</td>\n",
       "      <td>313498.000000</td>\n",
       "      <td>313498.000000</td>\n",
       "      <td>313498.000000</td>\n",
       "      <td>313498.000000</td>\n",
       "      <td>313498.000000</td>\n",
       "    </tr>\n",
       "    <tr>\n",
       "      <th>mean</th>\n",
       "      <td>47.860592</td>\n",
       "      <td>37599.534255</td>\n",
       "      <td>3.033662</td>\n",
       "      <td>-0.200403</td>\n",
       "      <td>1.510364</td>\n",
       "      <td>2.616935</td>\n",
       "      <td>17.896357</td>\n",
       "    </tr>\n",
       "    <tr>\n",
       "      <th>std</th>\n",
       "      <td>19.312345</td>\n",
       "      <td>69414.602347</td>\n",
       "      <td>2.402319</td>\n",
       "      <td>1.316434</td>\n",
       "      <td>0.499893</td>\n",
       "      <td>1.804789</td>\n",
       "      <td>4.360086</td>\n",
       "    </tr>\n",
       "    <tr>\n",
       "      <th>min</th>\n",
       "      <td>16.000000</td>\n",
       "      <td>0.000000</td>\n",
       "      <td>1.000000</td>\n",
       "      <td>-1.000000</td>\n",
       "      <td>1.000000</td>\n",
       "      <td>1.000000</td>\n",
       "      <td>1.000000</td>\n",
       "    </tr>\n",
       "    <tr>\n",
       "      <th>25%</th>\n",
       "      <td>31.000000</td>\n",
       "      <td>0.000000</td>\n",
       "      <td>1.000000</td>\n",
       "      <td>-1.000000</td>\n",
       "      <td>1.000000</td>\n",
       "      <td>1.000000</td>\n",
       "      <td>16.000000</td>\n",
       "    </tr>\n",
       "    <tr>\n",
       "      <th>50%</th>\n",
       "      <td>48.000000</td>\n",
       "      <td>10000.000000</td>\n",
       "      <td>1.000000</td>\n",
       "      <td>-1.000000</td>\n",
       "      <td>2.000000</td>\n",
       "      <td>1.000000</td>\n",
       "      <td>19.000000</td>\n",
       "    </tr>\n",
       "    <tr>\n",
       "      <th>75%</th>\n",
       "      <td>63.000000</td>\n",
       "      <td>50000.000000</td>\n",
       "      <td>6.000000</td>\n",
       "      <td>2.000000</td>\n",
       "      <td>2.000000</td>\n",
       "      <td>5.000000</td>\n",
       "      <td>21.000000</td>\n",
       "    </tr>\n",
       "    <tr>\n",
       "      <th>max</th>\n",
       "      <td>94.000000</td>\n",
       "      <td>571000.000000</td>\n",
       "      <td>6.000000</td>\n",
       "      <td>2.000000</td>\n",
       "      <td>2.000000</td>\n",
       "      <td>5.000000</td>\n",
       "      <td>24.000000</td>\n",
       "    </tr>\n",
       "  </tbody>\n",
       "</table>\n",
       "</div>"
      ],
      "text/plain": [
       "                 Age         Income  Employment Status  New Born Baby  \\\n",
       "count  313498.000000  313498.000000      313498.000000  313498.000000   \n",
       "mean       47.860592   37599.534255           3.033662      -0.200403   \n",
       "std        19.312345   69414.602347           2.402319       1.316434   \n",
       "min        16.000000       0.000000           1.000000      -1.000000   \n",
       "25%        31.000000       0.000000           1.000000      -1.000000   \n",
       "50%        48.000000   10000.000000           1.000000      -1.000000   \n",
       "75%        63.000000   50000.000000           6.000000       2.000000   \n",
       "max        94.000000  571000.000000           6.000000       2.000000   \n",
       "\n",
       "              Gender  Marriage Status  Highest Education Level  \n",
       "count  313498.000000    313498.000000            313498.000000  \n",
       "mean        1.510364         2.616935                17.896357  \n",
       "std         0.499893         1.804789                 4.360086  \n",
       "min         1.000000         1.000000                 1.000000  \n",
       "25%         1.000000         1.000000                16.000000  \n",
       "50%         2.000000         1.000000                19.000000  \n",
       "75%         2.000000         5.000000                21.000000  \n",
       "max         2.000000         5.000000                24.000000  "
      ]
     },
     "execution_count": 8,
     "metadata": {},
     "output_type": "execute_result"
    }
   ],
   "source": [
    "ca2019.describe()"
   ]
  },
  {
   "cell_type": "code",
   "execution_count": 9,
   "metadata": {},
   "outputs": [
    {
     "data": {
      "text/plain": [
       "(313498, 8)"
      ]
     },
     "execution_count": 9,
     "metadata": {},
     "output_type": "execute_result"
    }
   ],
   "source": [
    "ca2019.shape"
   ]
  },
  {
   "cell_type": "code",
   "execution_count": 10,
   "metadata": {},
   "outputs": [],
   "source": [
    "# subsetting the dataframe to female and male\n",
    "ca2019female = ca2019[ca2019[\"Gender\"]== 2]\n",
    "ca2019male = ca2019[ca2019['Gender']==1]"
   ]
  },
  {
   "cell_type": "markdown",
   "metadata": {},
   "source": [
    "## 3.4 Summary of education attainment rate by gender (bar chart) ##"
   ]
  },
  {
   "cell_type": "code",
   "execution_count": 11,
   "metadata": {},
   "outputs": [
    {
     "data": {
      "text/plain": [
       "0.3462918286478581"
      ]
     },
     "execution_count": 11,
     "metadata": {},
     "output_type": "execute_result"
    }
   ],
   "source": [
    "# We want to find the proportion of women receiving college or ablove education\n",
    "# From the Codebook, we also know that 21 means Bachelor's degree and we want to know that the percentage\n",
    "# of women receiving college degrees or higher. \n",
    "collegefemale2019 = ca2019female[ca2019female['Highest Education Level'] >= 21]\n",
    "collegerateFe_2019 = len(collegefemale2019)/len(ca2019female)\n",
    "collegerateFe_2019"
   ]
  },
  {
   "cell_type": "code",
   "execution_count": 12,
   "metadata": {},
   "outputs": [
    {
     "data": {
      "text/plain": [
       "0.33370032573289904"
      ]
     },
     "execution_count": 12,
     "metadata": {},
     "output_type": "execute_result"
    }
   ],
   "source": [
    "# We also calculated the percentage for males \n",
    "collegemale2019 = ca2019male[ca2019male['Highest Education Level'] >= 21]\n",
    "collegerateMa_2019 = len(collegemale2019)/len(ca2019male)\n",
    "collegerateMa_2019"
   ]
  },
  {
   "cell_type": "markdown",
   "metadata": {},
   "source": [
    "## 3.5 Summary of marital status by gender (bar chart)"
   ]
  },
  {
   "cell_type": "code",
   "execution_count": 13,
   "metadata": {},
   "outputs": [
    {
     "data": {
      "text/plain": [
       "0.48864985812322653"
      ]
     },
     "execution_count": 13,
     "metadata": {},
     "output_type": "execute_result"
    }
   ],
   "source": [
    "#Marriage rate for females in 2019\n",
    "marriedfemale2019 = ca2019female[ca2019female['Marriage Status'] == 1]\n",
    "marriagerateFe_2019 = len(marriedfemale2019)/len(ca2019female)\n",
    "marriagerateFe_2019"
   ]
  },
  {
   "cell_type": "code",
   "execution_count": 14,
   "metadata": {},
   "outputs": [
    {
     "data": {
      "text/plain": [
       "0.5176547231270359"
      ]
     },
     "execution_count": 14,
     "metadata": {},
     "output_type": "execute_result"
    }
   ],
   "source": [
    "#Marriage rate for males in 2019\n",
    "marriedmale2019 = ca2019male[ca2019male['Marriage Status'] == 1]\n",
    "marriagerateMa_2019 = len(marriedmale2019)/len(ca2019male)\n",
    "marriagerateMa_2019"
   ]
  },
  {
   "cell_type": "markdown",
   "metadata": {},
   "source": [
    "## 3.6 Summary of fertility rate in the past year for female ##"
   ]
  },
  {
   "cell_type": "code",
   "execution_count": 15,
   "metadata": {},
   "outputs": [
    {
     "data": {
      "text/plain": [
       "0.025906573832172902"
      ]
     },
     "execution_count": 15,
     "metadata": {},
     "output_type": "execute_result"
    }
   ],
   "source": [
    "#The rate of giving birth in 2019\n",
    "babyfemale2019 = ca2019female[ca2019female['New Born Baby'] == 1]\n",
    "birthrateFe_2019 = len(babyfemale2019)/len(ca2019female)\n",
    "birthrateFe_2019"
   ]
  },
  {
   "cell_type": "markdown",
   "metadata": {},
   "source": [
    "## 3.7 Summary of employment status in the STEM field by gender(bar chart) ##"
   ]
  },
  {
   "cell_type": "code",
   "execution_count": 16,
   "metadata": {},
   "outputs": [
    {
     "data": {
      "text/plain": [
       "0.8716666472193072"
      ]
     },
     "execution_count": 16,
     "metadata": {},
     "output_type": "execute_result"
    }
   ],
   "source": [
    "## By engineering\n",
    "ca2019femaleengineer = ca2019female['Current Occupation'].str.startswith('171').value_counts()\n",
    "ca2019maleengineer = ca2019male['Current Occupation'].str.startswith('171').value_counts()\n",
    "## By computer science\n",
    "ca2019femalecomputersci = ca2019female['Current Occupation'].str.startswith('151').value_counts()\n",
    "ca2019malecomputersci = ca2019male['Current Occupation'].str.startswith('151').value_counts()\n",
    "## By medical \n",
    "ca2019femalemedical = ca2019female['Current Occupation'].str.startswith('291').value_counts()\n",
    "ca2019malemedical= ca2019male['Current Occupation'].str.startswith('291').value_counts()\n",
    "## By STEM\n",
    "stemFe2019 = ca2019femaleengineer[1] + ca2019femalecomputersci[1] + ca2019femalemedical[1]\n",
    "stemMa2019 = ca2019maleengineer[1] + ca2019malecomputersci[1] + ca2019malemedical[1]\n",
    "### Compare the female stem_rate with male stem_rate. \n",
    "stem_rate_f2019 = stemFe2019/len(ca2019female)\n",
    "stem_rate_m2019 = stemMa2019/len(ca2019male)\n",
    "stem_rate_f2019/stem_rate_m2019"
   ]
  },
  {
   "cell_type": "markdown",
   "metadata": {},
   "source": [
    "## 3.8 Summary of income data (mean, median, standard deviation) by gender (histogram)"
   ]
  },
  {
   "cell_type": "code",
   "execution_count": 17,
   "metadata": {},
   "outputs": [],
   "source": [
    "# We are only interested in people that reported some sort of the income, it wouldn't make sense for us to\n",
    "# include people that reported 0 on their income in 2019\n",
    "ca2019maleincome = ca2019male[ca2019male['Income']!= 0]\n",
    "ca2019femaleincome = ca2019female[ca2019female['Income']!= 0]"
   ]
  },
  {
   "cell_type": "code",
   "execution_count": 18,
   "metadata": {},
   "outputs": [
    {
     "data": {
      "text/html": [
       "<div>\n",
       "<style scoped>\n",
       "    .dataframe tbody tr th:only-of-type {\n",
       "        vertical-align: middle;\n",
       "    }\n",
       "\n",
       "    .dataframe tbody tr th {\n",
       "        vertical-align: top;\n",
       "    }\n",
       "\n",
       "    .dataframe thead th {\n",
       "        text-align: right;\n",
       "    }\n",
       "</style>\n",
       "<table border=\"1\" class=\"dataframe\">\n",
       "  <thead>\n",
       "    <tr style=\"text-align: right;\">\n",
       "      <th></th>\n",
       "      <th>Age</th>\n",
       "      <th>Income</th>\n",
       "      <th>Employment Status</th>\n",
       "      <th>New Born Baby</th>\n",
       "      <th>Gender</th>\n",
       "      <th>Marriage Status</th>\n",
       "      <th>Highest Education Level</th>\n",
       "    </tr>\n",
       "  </thead>\n",
       "  <tbody>\n",
       "    <tr>\n",
       "      <th>count</th>\n",
       "      <td>97083.000000</td>\n",
       "      <td>97083.000000</td>\n",
       "      <td>97083.000000</td>\n",
       "      <td>97083.0</td>\n",
       "      <td>97083.0</td>\n",
       "      <td>97083.000000</td>\n",
       "      <td>97083.000000</td>\n",
       "    </tr>\n",
       "    <tr>\n",
       "      <th>mean</th>\n",
       "      <td>42.310837</td>\n",
       "      <td>74518.913754</td>\n",
       "      <td>1.362607</td>\n",
       "      <td>-1.0</td>\n",
       "      <td>1.0</td>\n",
       "      <td>2.655861</td>\n",
       "      <td>18.355191</td>\n",
       "    </tr>\n",
       "    <tr>\n",
       "      <th>std</th>\n",
       "      <td>14.850145</td>\n",
       "      <td>92552.590990</td>\n",
       "      <td>1.175352</td>\n",
       "      <td>0.0</td>\n",
       "      <td>0.0</td>\n",
       "      <td>1.884153</td>\n",
       "      <td>4.039762</td>\n",
       "    </tr>\n",
       "    <tr>\n",
       "      <th>min</th>\n",
       "      <td>16.000000</td>\n",
       "      <td>4.000000</td>\n",
       "      <td>1.000000</td>\n",
       "      <td>-1.0</td>\n",
       "      <td>1.0</td>\n",
       "      <td>1.000000</td>\n",
       "      <td>1.000000</td>\n",
       "    </tr>\n",
       "    <tr>\n",
       "      <th>25%</th>\n",
       "      <td>30.000000</td>\n",
       "      <td>23000.000000</td>\n",
       "      <td>1.000000</td>\n",
       "      <td>-1.0</td>\n",
       "      <td>1.0</td>\n",
       "      <td>1.000000</td>\n",
       "      <td>16.000000</td>\n",
       "    </tr>\n",
       "    <tr>\n",
       "      <th>50%</th>\n",
       "      <td>41.000000</td>\n",
       "      <td>48000.000000</td>\n",
       "      <td>1.000000</td>\n",
       "      <td>-1.0</td>\n",
       "      <td>1.0</td>\n",
       "      <td>1.000000</td>\n",
       "      <td>19.000000</td>\n",
       "    </tr>\n",
       "    <tr>\n",
       "      <th>75%</th>\n",
       "      <td>54.000000</td>\n",
       "      <td>93000.000000</td>\n",
       "      <td>1.000000</td>\n",
       "      <td>-1.0</td>\n",
       "      <td>1.0</td>\n",
       "      <td>5.000000</td>\n",
       "      <td>21.000000</td>\n",
       "    </tr>\n",
       "    <tr>\n",
       "      <th>max</th>\n",
       "      <td>94.000000</td>\n",
       "      <td>571000.000000</td>\n",
       "      <td>6.000000</td>\n",
       "      <td>-1.0</td>\n",
       "      <td>1.0</td>\n",
       "      <td>5.000000</td>\n",
       "      <td>24.000000</td>\n",
       "    </tr>\n",
       "  </tbody>\n",
       "</table>\n",
       "</div>"
      ],
      "text/plain": [
       "                Age         Income  Employment Status  New Born Baby   Gender  \\\n",
       "count  97083.000000   97083.000000       97083.000000        97083.0  97083.0   \n",
       "mean      42.310837   74518.913754           1.362607           -1.0      1.0   \n",
       "std       14.850145   92552.590990           1.175352            0.0      0.0   \n",
       "min       16.000000       4.000000           1.000000           -1.0      1.0   \n",
       "25%       30.000000   23000.000000           1.000000           -1.0      1.0   \n",
       "50%       41.000000   48000.000000           1.000000           -1.0      1.0   \n",
       "75%       54.000000   93000.000000           1.000000           -1.0      1.0   \n",
       "max       94.000000  571000.000000           6.000000           -1.0      1.0   \n",
       "\n",
       "       Marriage Status  Highest Education Level  \n",
       "count     97083.000000             97083.000000  \n",
       "mean          2.655861                18.355191  \n",
       "std           1.884153                 4.039762  \n",
       "min           1.000000                 1.000000  \n",
       "25%           1.000000                16.000000  \n",
       "50%           1.000000                19.000000  \n",
       "75%           5.000000                21.000000  \n",
       "max           5.000000                24.000000  "
      ]
     },
     "execution_count": 18,
     "metadata": {},
     "output_type": "execute_result"
    }
   ],
   "source": [
    "# We can see from the graph that the average income for males in 2019 is around $74518\n",
    "ca2019maleincome.describe()"
   ]
  },
  {
   "cell_type": "code",
   "execution_count": 19,
   "metadata": {},
   "outputs": [
    {
     "data": {
      "text/html": [
       "<div>\n",
       "<style scoped>\n",
       "    .dataframe tbody tr th:only-of-type {\n",
       "        vertical-align: middle;\n",
       "    }\n",
       "\n",
       "    .dataframe tbody tr th {\n",
       "        vertical-align: top;\n",
       "    }\n",
       "\n",
       "    .dataframe thead th {\n",
       "        text-align: right;\n",
       "    }\n",
       "</style>\n",
       "<table border=\"1\" class=\"dataframe\">\n",
       "  <thead>\n",
       "    <tr style=\"text-align: right;\">\n",
       "      <th></th>\n",
       "      <th>Age</th>\n",
       "      <th>Income</th>\n",
       "      <th>Employment Status</th>\n",
       "      <th>New Born Baby</th>\n",
       "      <th>Gender</th>\n",
       "      <th>Marriage Status</th>\n",
       "      <th>Highest Education Level</th>\n",
       "    </tr>\n",
       "  </thead>\n",
       "  <tbody>\n",
       "    <tr>\n",
       "      <th>count</th>\n",
       "      <td>87022.000000</td>\n",
       "      <td>87022.000000</td>\n",
       "      <td>87022.000000</td>\n",
       "      <td>87022.000000</td>\n",
       "      <td>87022.0</td>\n",
       "      <td>87022.000000</td>\n",
       "      <td>87022.000000</td>\n",
       "    </tr>\n",
       "    <tr>\n",
       "      <th>mean</th>\n",
       "      <td>42.171003</td>\n",
       "      <td>52318.483671</td>\n",
       "      <td>1.367907</td>\n",
       "      <td>1.009342</td>\n",
       "      <td>2.0</td>\n",
       "      <td>2.727873</td>\n",
       "      <td>18.860587</td>\n",
       "    </tr>\n",
       "    <tr>\n",
       "      <th>std</th>\n",
       "      <td>14.802326</td>\n",
       "      <td>62950.144748</td>\n",
       "      <td>1.202625</td>\n",
       "      <td>1.388760</td>\n",
       "      <td>0.0</td>\n",
       "      <td>1.826392</td>\n",
       "      <td>3.642400</td>\n",
       "    </tr>\n",
       "    <tr>\n",
       "      <th>min</th>\n",
       "      <td>16.000000</td>\n",
       "      <td>4.000000</td>\n",
       "      <td>1.000000</td>\n",
       "      <td>-1.000000</td>\n",
       "      <td>2.0</td>\n",
       "      <td>1.000000</td>\n",
       "      <td>1.000000</td>\n",
       "    </tr>\n",
       "    <tr>\n",
       "      <th>25%</th>\n",
       "      <td>30.000000</td>\n",
       "      <td>15000.000000</td>\n",
       "      <td>1.000000</td>\n",
       "      <td>-1.000000</td>\n",
       "      <td>2.0</td>\n",
       "      <td>1.000000</td>\n",
       "      <td>17.000000</td>\n",
       "    </tr>\n",
       "    <tr>\n",
       "      <th>50%</th>\n",
       "      <td>41.000000</td>\n",
       "      <td>35000.000000</td>\n",
       "      <td>1.000000</td>\n",
       "      <td>2.000000</td>\n",
       "      <td>2.0</td>\n",
       "      <td>2.000000</td>\n",
       "      <td>20.000000</td>\n",
       "    </tr>\n",
       "    <tr>\n",
       "      <th>75%</th>\n",
       "      <td>54.000000</td>\n",
       "      <td>70000.000000</td>\n",
       "      <td>1.000000</td>\n",
       "      <td>2.000000</td>\n",
       "      <td>2.0</td>\n",
       "      <td>5.000000</td>\n",
       "      <td>21.000000</td>\n",
       "    </tr>\n",
       "    <tr>\n",
       "      <th>max</th>\n",
       "      <td>94.000000</td>\n",
       "      <td>571000.000000</td>\n",
       "      <td>6.000000</td>\n",
       "      <td>2.000000</td>\n",
       "      <td>2.0</td>\n",
       "      <td>5.000000</td>\n",
       "      <td>24.000000</td>\n",
       "    </tr>\n",
       "  </tbody>\n",
       "</table>\n",
       "</div>"
      ],
      "text/plain": [
       "                Age         Income  Employment Status  New Born Baby   Gender  \\\n",
       "count  87022.000000   87022.000000       87022.000000   87022.000000  87022.0   \n",
       "mean      42.171003   52318.483671           1.367907       1.009342      2.0   \n",
       "std       14.802326   62950.144748           1.202625       1.388760      0.0   \n",
       "min       16.000000       4.000000           1.000000      -1.000000      2.0   \n",
       "25%       30.000000   15000.000000           1.000000      -1.000000      2.0   \n",
       "50%       41.000000   35000.000000           1.000000       2.000000      2.0   \n",
       "75%       54.000000   70000.000000           1.000000       2.000000      2.0   \n",
       "max       94.000000  571000.000000           6.000000       2.000000      2.0   \n",
       "\n",
       "       Marriage Status  Highest Education Level  \n",
       "count     87022.000000             87022.000000  \n",
       "mean          2.727873                18.860587  \n",
       "std           1.826392                 3.642400  \n",
       "min           1.000000                 1.000000  \n",
       "25%           1.000000                17.000000  \n",
       "50%           2.000000                20.000000  \n",
       "75%           5.000000                21.000000  \n",
       "max           5.000000                24.000000  "
      ]
     },
     "execution_count": 19,
     "metadata": {},
     "output_type": "execute_result"
    }
   ],
   "source": [
    "# We can see from the graph that the average income for males in 2019 is around $52318\n",
    "ca2019femaleincome.describe()"
   ]
  },
  {
   "cell_type": "markdown",
   "metadata": {},
   "source": [
    "The average income for females in 2019 is around $52318 which is considerably lower than the male counterpart"
   ]
  },
  {
   "cell_type": "markdown",
   "metadata": {},
   "source": [
    "## 3.9 Summary of age (range) by gender (histogram) "
   ]
  },
  {
   "cell_type": "markdown",
   "metadata": {},
   "source": [
    "### Extract male age and female age"
   ]
  },
  {
   "cell_type": "code",
   "execution_count": 20,
   "metadata": {},
   "outputs": [
    {
     "data": {
      "text/plain": [
       "count    153500.000000\n",
       "mean         46.873870\n",
       "std          18.983339\n",
       "min          16.000000\n",
       "25%          31.000000\n",
       "50%          46.000000\n",
       "75%          62.000000\n",
       "max          94.000000\n",
       "Name: Age, dtype: float64"
      ]
     },
     "execution_count": 20,
     "metadata": {},
     "output_type": "execute_result"
    }
   ],
   "source": [
    "\n",
    "ca2019maleage = ca2019male['Age']\n",
    "ca2019femaleage = ca2019female['Age']\n",
    "ca2019maleage.describe()"
   ]
  },
  {
   "cell_type": "code",
   "execution_count": 21,
   "metadata": {},
   "outputs": [
    {
     "data": {
      "text/plain": [
       "count    159998.000000\n",
       "mean         48.807241\n",
       "std          19.576174\n",
       "min          16.000000\n",
       "25%          32.000000\n",
       "50%          49.000000\n",
       "75%          64.000000\n",
       "max          94.000000\n",
       "Name: Age, dtype: float64"
      ]
     },
     "execution_count": 21,
     "metadata": {},
     "output_type": "execute_result"
    }
   ],
   "source": [
    "ca2019femaleage.describe()"
   ]
  },
  {
   "cell_type": "markdown",
   "metadata": {},
   "source": [
    "### There isn't any significant difference for the age by gender"
   ]
  },
  {
   "cell_type": "markdown",
   "metadata": {},
   "source": [
    "# Data Analysis & Results"
   ]
  },
  {
   "cell_type": "markdown",
   "metadata": {},
   "source": [
    "In this step we start explore our data:\n",
    "- what is the relationship of incomes between women and male who have educational level."
   ]
  },
  {
   "cell_type": "markdown",
   "metadata": {},
   "source": [
    "We start from visualized the data of female.\n",
    "\n",
    "Plot a bar chart showing the number of women in each educational level "
   ]
  },
  {
   "cell_type": "code",
   "execution_count": 22,
   "metadata": {},
   "outputs": [
    {
     "data": {
      "image/png": "[encoded data removed]",
      "text/plain": [
       "<Figure size 432x288 with 1 Axes>"
      ]
     },
     "metadata": {},
     "output_type": "display_data"
    }
   ],
   "source": [
    "##visualize educationa levels of women\n",
    "ca2019female['Highest Education Level'].value_counts().sort_index(ascending=True).plot(kind='bar')\n",
    "plt.xlabel('Education Level')\n",
    "plt.ylabel('Counts')\n",
    "plt.title('Count of different education level')\n",
    "f1 = plt.gcf()"
   ]
  },
  {
   "cell_type": "markdown",
   "metadata": {},
   "source": [
    "We visualize the distribution of education level here. We can see the spread of Education level is mainly a skewed left here. The most of people is at the 16-22, which means most people are from high school diploma to Master's degree."
   ]
  },
  {
   "cell_type": "markdown",
   "metadata": {},
   "source": [
    "To find the relationship between income of female who have high education level, we plot a histogram of the income data for all women who have Bachlor's degree or higher"
   ]
  },
  {
   "cell_type": "code",
   "execution_count": 23,
   "metadata": {},
   "outputs": [
    {
     "data": {
      "image/png": "[encoded data removed]",
      "text/plain": [
       "<Figure size 432x288 with 1 Axes>"
      ]
     },
     "metadata": {},
     "output_type": "display_data"
    }
   ],
   "source": [
    "plt.hist(ca2019female.loc[ca2019female['Highest Education Level'] >= 21].Income)\n",
    "plt.xlabel('Income of women')\n",
    "plt.ylabel('Counts')\n",
    "plt.title('Count of different Incomes of women attaining a Bachelors degree or higher')\n",
    "f2 = plt.gcf()"
   ]
  },
  {
   "cell_type": "markdown",
   "metadata": {},
   "source": [
    "We look at the income of female attaining a Bachelors degree or higher. We find out that the spread of income of women attaining a Bachelors degree or higher is skewed right."
   ]
  },
  {
   "cell_type": "code",
   "execution_count": 24,
   "metadata": {},
   "outputs": [
    {
     "data": {
      "text/html": [
       "<div>\n",
       "<style scoped>\n",
       "    .dataframe tbody tr th:only-of-type {\n",
       "        vertical-align: middle;\n",
       "    }\n",
       "\n",
       "    .dataframe tbody tr th {\n",
       "        vertical-align: top;\n",
       "    }\n",
       "\n",
       "    .dataframe thead th {\n",
       "        text-align: right;\n",
       "    }\n",
       "</style>\n",
       "<table border=\"1\" class=\"dataframe\">\n",
       "  <thead>\n",
       "    <tr style=\"text-align: right;\">\n",
       "      <th></th>\n",
       "      <th>Age</th>\n",
       "      <th>Income</th>\n",
       "      <th>Employment Status</th>\n",
       "      <th>New Born Baby</th>\n",
       "      <th>Gender</th>\n",
       "      <th>Marriage Status</th>\n",
       "      <th>Highest Education Level</th>\n",
       "    </tr>\n",
       "  </thead>\n",
       "  <tbody>\n",
       "    <tr>\n",
       "      <th>count</th>\n",
       "      <td>55406.000000</td>\n",
       "      <td>55406.000000</td>\n",
       "      <td>55406.000000</td>\n",
       "      <td>55406.000000</td>\n",
       "      <td>55406.0</td>\n",
       "      <td>55406.000000</td>\n",
       "      <td>55406.000000</td>\n",
       "    </tr>\n",
       "    <tr>\n",
       "      <th>mean</th>\n",
       "      <td>48.686261</td>\n",
       "      <td>52242.806736</td>\n",
       "      <td>2.608779</td>\n",
       "      <td>0.670541</td>\n",
       "      <td>2.0</td>\n",
       "      <td>2.286124</td>\n",
       "      <td>21.517128</td>\n",
       "    </tr>\n",
       "    <tr>\n",
       "      <th>std</th>\n",
       "      <td>16.975450</td>\n",
       "      <td>73606.529073</td>\n",
       "      <td>2.290357</td>\n",
       "      <td>1.469566</td>\n",
       "      <td>0.0</td>\n",
       "      <td>1.696730</td>\n",
       "      <td>0.792156</td>\n",
       "    </tr>\n",
       "    <tr>\n",
       "      <th>min</th>\n",
       "      <td>19.000000</td>\n",
       "      <td>0.000000</td>\n",
       "      <td>1.000000</td>\n",
       "      <td>-1.000000</td>\n",
       "      <td>2.0</td>\n",
       "      <td>1.000000</td>\n",
       "      <td>21.000000</td>\n",
       "    </tr>\n",
       "    <tr>\n",
       "      <th>25%</th>\n",
       "      <td>34.000000</td>\n",
       "      <td>0.000000</td>\n",
       "      <td>1.000000</td>\n",
       "      <td>-1.000000</td>\n",
       "      <td>2.0</td>\n",
       "      <td>1.000000</td>\n",
       "      <td>21.000000</td>\n",
       "    </tr>\n",
       "    <tr>\n",
       "      <th>50%</th>\n",
       "      <td>47.000000</td>\n",
       "      <td>30000.000000</td>\n",
       "      <td>1.000000</td>\n",
       "      <td>2.000000</td>\n",
       "      <td>2.0</td>\n",
       "      <td>1.000000</td>\n",
       "      <td>21.000000</td>\n",
       "    </tr>\n",
       "    <tr>\n",
       "      <th>75%</th>\n",
       "      <td>62.000000</td>\n",
       "      <td>80000.000000</td>\n",
       "      <td>6.000000</td>\n",
       "      <td>2.000000</td>\n",
       "      <td>2.0</td>\n",
       "      <td>4.000000</td>\n",
       "      <td>22.000000</td>\n",
       "    </tr>\n",
       "    <tr>\n",
       "      <th>max</th>\n",
       "      <td>94.000000</td>\n",
       "      <td>571000.000000</td>\n",
       "      <td>6.000000</td>\n",
       "      <td>2.000000</td>\n",
       "      <td>2.0</td>\n",
       "      <td>5.000000</td>\n",
       "      <td>24.000000</td>\n",
       "    </tr>\n",
       "  </tbody>\n",
       "</table>\n",
       "</div>"
      ],
      "text/plain": [
       "                Age         Income  Employment Status  New Born Baby   Gender  \\\n",
       "count  55406.000000   55406.000000       55406.000000   55406.000000  55406.0   \n",
       "mean      48.686261   52242.806736           2.608779       0.670541      2.0   \n",
       "std       16.975450   73606.529073           2.290357       1.469566      0.0   \n",
       "min       19.000000       0.000000           1.000000      -1.000000      2.0   \n",
       "25%       34.000000       0.000000           1.000000      -1.000000      2.0   \n",
       "50%       47.000000   30000.000000           1.000000       2.000000      2.0   \n",
       "75%       62.000000   80000.000000           6.000000       2.000000      2.0   \n",
       "max       94.000000  571000.000000           6.000000       2.000000      2.0   \n",
       "\n",
       "       Marriage Status  Highest Education Level  \n",
       "count     55406.000000             55406.000000  \n",
       "mean          2.286124                21.517128  \n",
       "std           1.696730                 0.792156  \n",
       "min           1.000000                21.000000  \n",
       "25%           1.000000                21.000000  \n",
       "50%           1.000000                21.000000  \n",
       "75%           4.000000                22.000000  \n",
       "max           5.000000                24.000000  "
      ]
     },
     "execution_count": 24,
     "metadata": {},
     "output_type": "execute_result"
    }
   ],
   "source": [
    "ca2019female[ca2019female['Highest Education Level'] >= 21].describe()"
   ]
  },
  {
   "cell_type": "markdown",
   "metadata": {},
   "source": [
    "We also checked the table value in the describe table of income of female attaining a Bachelors degree or higher. We noticed that there is more than 25% of people with income 0. There is too many people with income 0. Maybe they are not included in the work force."
   ]
  },
  {
   "cell_type": "markdown",
   "metadata": {},
   "source": [
    "### Plot a histogram of the income data for all women who have Bachlor's degree or higher and in workforce"
   ]
  },
  {
   "cell_type": "code",
   "execution_count": 25,
   "metadata": {},
   "outputs": [
    {
     "data": {
      "image/png": "[encoded data removed]",
      "text/plain": [
       "<Figure size 432x288 with 1 Axes>"
      ]
     },
     "metadata": {},
     "output_type": "display_data"
    }
   ],
   "source": [
    "plt.hist(ca2019female.loc[(ca2019female['Highest Education Level'] >= 21) & (ca2019female['Employment Status'] != 3) & (ca2019female['Employment Status'] != 6) ].Income)\n",
    "plt.xlabel('Income of women')\n",
    "plt.ylabel('Counts')\n",
    "plt.title('Count of different Incomes of women attaining a Bachelors degree or higher with remove people not in workforce')\n",
    "f3 = plt.gcf()"
   ]
  },
  {
   "cell_type": "markdown",
   "metadata": {},
   "source": [
    "We add a new filter here and removed the people out of work force to make the graph more reasonable. We see that the graph is still skewed right but not as much as the previous one. And the percentage of the sceond bar increased. We can also see some outliers exist here."
   ]
  },
  {
   "cell_type": "markdown",
   "metadata": {},
   "source": [
    "After finish analyze the female, we go to male's part. We plot a histogram of the income data for all men who have Bachlor's degree or higher."
   ]
  },
  {
   "cell_type": "code",
   "execution_count": 26,
   "metadata": {},
   "outputs": [
    {
     "data": {
      "image/png": "[encoded data removed]",
      "text/plain": [
       "<Figure size 432x288 with 1 Axes>"
      ]
     },
     "metadata": {},
     "output_type": "display_data"
    }
   ],
   "source": [
    "plt.hist(ca2019male.loc[ca2019male['Highest Education Level'] >= 21].Income)\n",
    "plt.xlabel('Income of men')\n",
    "plt.ylabel('Counts')\n",
    "plt.title('Count of different Incomes of men attaining a Bachelors degree or higher')\n",
    "f4 = plt.gcf()"
   ]
  },
  {
   "cell_type": "markdown",
   "metadata": {},
   "source": [
    "### Now we do the same thing for male. We plot the count of different Incomes of men attaining a Bachelors degree or higher."
   ]
  },
  {
   "cell_type": "code",
   "execution_count": 27,
   "metadata": {},
   "outputs": [
    {
     "data": {
      "text/html": [
       "<div>\n",
       "<style scoped>\n",
       "    .dataframe tbody tr th:only-of-type {\n",
       "        vertical-align: middle;\n",
       "    }\n",
       "\n",
       "    .dataframe tbody tr th {\n",
       "        vertical-align: top;\n",
       "    }\n",
       "\n",
       "    .dataframe thead th {\n",
       "        text-align: right;\n",
       "    }\n",
       "</style>\n",
       "<table border=\"1\" class=\"dataframe\">\n",
       "  <thead>\n",
       "    <tr style=\"text-align: right;\">\n",
       "      <th></th>\n",
       "      <th>Age</th>\n",
       "      <th>Income</th>\n",
       "      <th>Employment Status</th>\n",
       "      <th>New Born Baby</th>\n",
       "      <th>Gender</th>\n",
       "      <th>Marriage Status</th>\n",
       "      <th>Highest Education Level</th>\n",
       "    </tr>\n",
       "  </thead>\n",
       "  <tbody>\n",
       "    <tr>\n",
       "      <th>count</th>\n",
       "      <td>51223.000000</td>\n",
       "      <td>51223.000000</td>\n",
       "      <td>51223.000000</td>\n",
       "      <td>51223.0</td>\n",
       "      <td>51223.0</td>\n",
       "      <td>51223.000000</td>\n",
       "      <td>51223.000000</td>\n",
       "    </tr>\n",
       "    <tr>\n",
       "      <th>mean</th>\n",
       "      <td>50.346016</td>\n",
       "      <td>86931.738086</td>\n",
       "      <td>2.270738</td>\n",
       "      <td>-1.0</td>\n",
       "      <td>1.0</td>\n",
       "      <td>2.212502</td>\n",
       "      <td>21.603850</td>\n",
       "    </tr>\n",
       "    <tr>\n",
       "      <th>std</th>\n",
       "      <td>17.204874</td>\n",
       "      <td>116339.228574</td>\n",
       "      <td>2.124449</td>\n",
       "      <td>0.0</td>\n",
       "      <td>0.0</td>\n",
       "      <td>1.737722</td>\n",
       "      <td>0.889324</td>\n",
       "    </tr>\n",
       "    <tr>\n",
       "      <th>min</th>\n",
       "      <td>19.000000</td>\n",
       "      <td>0.000000</td>\n",
       "      <td>1.000000</td>\n",
       "      <td>-1.0</td>\n",
       "      <td>1.0</td>\n",
       "      <td>1.000000</td>\n",
       "      <td>21.000000</td>\n",
       "    </tr>\n",
       "    <tr>\n",
       "      <th>25%</th>\n",
       "      <td>36.000000</td>\n",
       "      <td>0.000000</td>\n",
       "      <td>1.000000</td>\n",
       "      <td>-1.0</td>\n",
       "      <td>1.0</td>\n",
       "      <td>1.000000</td>\n",
       "      <td>21.000000</td>\n",
       "    </tr>\n",
       "    <tr>\n",
       "      <th>50%</th>\n",
       "      <td>49.000000</td>\n",
       "      <td>56000.000000</td>\n",
       "      <td>1.000000</td>\n",
       "      <td>-1.0</td>\n",
       "      <td>1.0</td>\n",
       "      <td>1.000000</td>\n",
       "      <td>21.000000</td>\n",
       "    </tr>\n",
       "    <tr>\n",
       "      <th>75%</th>\n",
       "      <td>64.000000</td>\n",
       "      <td>120000.000000</td>\n",
       "      <td>3.000000</td>\n",
       "      <td>-1.0</td>\n",
       "      <td>1.0</td>\n",
       "      <td>5.000000</td>\n",
       "      <td>22.000000</td>\n",
       "    </tr>\n",
       "    <tr>\n",
       "      <th>max</th>\n",
       "      <td>94.000000</td>\n",
       "      <td>571000.000000</td>\n",
       "      <td>6.000000</td>\n",
       "      <td>-1.0</td>\n",
       "      <td>1.0</td>\n",
       "      <td>5.000000</td>\n",
       "      <td>24.000000</td>\n",
       "    </tr>\n",
       "  </tbody>\n",
       "</table>\n",
       "</div>"
      ],
      "text/plain": [
       "                Age         Income  Employment Status  New Born Baby   Gender  \\\n",
       "count  51223.000000   51223.000000       51223.000000        51223.0  51223.0   \n",
       "mean      50.346016   86931.738086           2.270738           -1.0      1.0   \n",
       "std       17.204874  116339.228574           2.124449            0.0      0.0   \n",
       "min       19.000000       0.000000           1.000000           -1.0      1.0   \n",
       "25%       36.000000       0.000000           1.000000           -1.0      1.0   \n",
       "50%       49.000000   56000.000000           1.000000           -1.0      1.0   \n",
       "75%       64.000000  120000.000000           3.000000           -1.0      1.0   \n",
       "max       94.000000  571000.000000           6.000000           -1.0      1.0   \n",
       "\n",
       "       Marriage Status  Highest Education Level  \n",
       "count     51223.000000             51223.000000  \n",
       "mean          2.212502                21.603850  \n",
       "std           1.737722                 0.889324  \n",
       "min           1.000000                21.000000  \n",
       "25%           1.000000                21.000000  \n",
       "50%           1.000000                21.000000  \n",
       "75%           5.000000                22.000000  \n",
       "max           5.000000                24.000000  "
      ]
     },
     "execution_count": 27,
     "metadata": {},
     "output_type": "execute_result"
    }
   ],
   "source": [
    "ca2019male[ca2019male['Highest Education Level'] >= 21].describe()"
   ]
  },
  {
   "cell_type": "markdown",
   "metadata": {},
   "source": [
    "### We check the desribe table for men there is still more than 25% percent zero for male."
   ]
  },
  {
   "cell_type": "code",
   "execution_count": 28,
   "metadata": {},
   "outputs": [
    {
     "data": {
      "text/html": [
       "<div>\n",
       "<style scoped>\n",
       "    .dataframe tbody tr th:only-of-type {\n",
       "        vertical-align: middle;\n",
       "    }\n",
       "\n",
       "    .dataframe tbody tr th {\n",
       "        vertical-align: top;\n",
       "    }\n",
       "\n",
       "    .dataframe thead th {\n",
       "        text-align: right;\n",
       "    }\n",
       "</style>\n",
       "<table border=\"1\" class=\"dataframe\">\n",
       "  <thead>\n",
       "    <tr style=\"text-align: right;\">\n",
       "      <th></th>\n",
       "      <th>Age</th>\n",
       "      <th>Income</th>\n",
       "      <th>Employment Status</th>\n",
       "      <th>New Born Baby</th>\n",
       "      <th>Gender</th>\n",
       "      <th>Marriage Status</th>\n",
       "      <th>Highest Education Level</th>\n",
       "    </tr>\n",
       "  </thead>\n",
       "  <tbody>\n",
       "    <tr>\n",
       "      <th>count</th>\n",
       "      <td>37711.000000</td>\n",
       "      <td>37711.000000</td>\n",
       "      <td>37711.000000</td>\n",
       "      <td>37711.0</td>\n",
       "      <td>37711.0</td>\n",
       "      <td>37711.000000</td>\n",
       "      <td>37711.000000</td>\n",
       "    </tr>\n",
       "    <tr>\n",
       "      <th>mean</th>\n",
       "      <td>45.116969</td>\n",
       "      <td>115665.365543</td>\n",
       "      <td>1.036355</td>\n",
       "      <td>-1.0</td>\n",
       "      <td>1.0</td>\n",
       "      <td>2.263981</td>\n",
       "      <td>21.600488</td>\n",
       "    </tr>\n",
       "    <tr>\n",
       "      <th>std</th>\n",
       "      <td>13.838768</td>\n",
       "      <td>121574.699248</td>\n",
       "      <td>0.278418</td>\n",
       "      <td>0.0</td>\n",
       "      <td>0.0</td>\n",
       "      <td>1.782551</td>\n",
       "      <td>0.889029</td>\n",
       "    </tr>\n",
       "    <tr>\n",
       "      <th>min</th>\n",
       "      <td>19.000000</td>\n",
       "      <td>0.000000</td>\n",
       "      <td>1.000000</td>\n",
       "      <td>-1.0</td>\n",
       "      <td>1.0</td>\n",
       "      <td>1.000000</td>\n",
       "      <td>21.000000</td>\n",
       "    </tr>\n",
       "    <tr>\n",
       "      <th>25%</th>\n",
       "      <td>33.000000</td>\n",
       "      <td>40000.000000</td>\n",
       "      <td>1.000000</td>\n",
       "      <td>-1.0</td>\n",
       "      <td>1.0</td>\n",
       "      <td>1.000000</td>\n",
       "      <td>21.000000</td>\n",
       "    </tr>\n",
       "    <tr>\n",
       "      <th>50%</th>\n",
       "      <td>44.000000</td>\n",
       "      <td>87000.000000</td>\n",
       "      <td>1.000000</td>\n",
       "      <td>-1.0</td>\n",
       "      <td>1.0</td>\n",
       "      <td>1.000000</td>\n",
       "      <td>21.000000</td>\n",
       "    </tr>\n",
       "    <tr>\n",
       "      <th>75%</th>\n",
       "      <td>56.000000</td>\n",
       "      <td>146500.000000</td>\n",
       "      <td>1.000000</td>\n",
       "      <td>-1.0</td>\n",
       "      <td>1.0</td>\n",
       "      <td>5.000000</td>\n",
       "      <td>22.000000</td>\n",
       "    </tr>\n",
       "    <tr>\n",
       "      <th>max</th>\n",
       "      <td>94.000000</td>\n",
       "      <td>571000.000000</td>\n",
       "      <td>4.000000</td>\n",
       "      <td>-1.0</td>\n",
       "      <td>1.0</td>\n",
       "      <td>5.000000</td>\n",
       "      <td>24.000000</td>\n",
       "    </tr>\n",
       "  </tbody>\n",
       "</table>\n",
       "</div>"
      ],
      "text/plain": [
       "                Age         Income  Employment Status  New Born Baby   Gender  \\\n",
       "count  37711.000000   37711.000000       37711.000000        37711.0  37711.0   \n",
       "mean      45.116969  115665.365543           1.036355           -1.0      1.0   \n",
       "std       13.838768  121574.699248           0.278418            0.0      0.0   \n",
       "min       19.000000       0.000000           1.000000           -1.0      1.0   \n",
       "25%       33.000000   40000.000000           1.000000           -1.0      1.0   \n",
       "50%       44.000000   87000.000000           1.000000           -1.0      1.0   \n",
       "75%       56.000000  146500.000000           1.000000           -1.0      1.0   \n",
       "max       94.000000  571000.000000           4.000000           -1.0      1.0   \n",
       "\n",
       "       Marriage Status  Highest Education Level  \n",
       "count     37711.000000             37711.000000  \n",
       "mean          2.263981                21.600488  \n",
       "std           1.782551                 0.889029  \n",
       "min           1.000000                21.000000  \n",
       "25%           1.000000                21.000000  \n",
       "50%           1.000000                21.000000  \n",
       "75%           5.000000                22.000000  \n",
       "max           5.000000                24.000000  "
      ]
     },
     "execution_count": 28,
     "metadata": {},
     "output_type": "execute_result"
    }
   ],
   "source": [
    "ca2019male[(ca2019male['Highest Education Level'] >= 21) & (ca2019male['Employment Status'] != 3) \n",
    "           & (ca2019male['Employment Status'] != 6)].describe()"
   ]
  },
  {
   "cell_type": "markdown",
   "metadata": {},
   "source": [
    "Here is the describe table after we remove the people not in work force. Now we check the 25% is no more 0. We removed a lot of people who is not in work force to make our data less skewed."
   ]
  },
  {
   "cell_type": "markdown",
   "metadata": {},
   "source": [
    "Plot a histogram of the income data for all men who have Bachlor's degree or higher and in workforce"
   ]
  },
  {
   "cell_type": "code",
   "execution_count": 29,
   "metadata": {},
   "outputs": [
    {
     "data": {
      "image/png": "[encoded data removed]",
      "text/plain": [
       "<Figure size 432x288 with 1 Axes>"
      ]
     },
     "metadata": {},
     "output_type": "display_data"
    }
   ],
   "source": [
    "plt.hist(ca2019male.loc[(ca2019male['Highest Education Level'] >= 21) & (ca2019male['Employment Status'] != 3) & (ca2019male['Employment Status'] != 6) ].Income)\n",
    "plt.xlabel('Income of men in the workforce attaining a Bachelors degree or higher')\n",
    "plt.ylabel('Counts')\n",
    "plt.title('Bar chart of male education level in the workforce')\n",
    "f5 = plt.gcf()"
   ]
  },
  {
   "cell_type": "markdown",
   "metadata": {},
   "source": [
    "According to the graph we can roughly see that there is less male at the lowest pay than female."
   ]
  },
  {
   "cell_type": "markdown",
   "metadata": {},
   "source": [
    "## 4.1 Normality test for numerical variables"
   ]
  },
  {
   "cell_type": "code",
   "execution_count": 30,
   "metadata": {},
   "outputs": [],
   "source": [
    "## for age\n",
    "age = ca2019['Age']\n",
    "st_age, p_age = normaltest(age)"
   ]
  },
  {
   "cell_type": "code",
   "execution_count": 31,
   "metadata": {},
   "outputs": [
    {
     "data": {
      "image/png": "[encoded data removed]",
      "text/plain": [
       "<Figure size 432x288 with 1 Axes>"
      ]
     },
     "metadata": {},
     "output_type": "display_data"
    }
   ],
   "source": [
    "xs = np.arange(age.min(), age.max(), 0.1)\n",
    "fit = stats.norm.pdf(xs, np.mean(age), np.std(age))\n",
    "# most easily done using matplotlib\n",
    "plt.xlabel('Age')\n",
    "plt.title('Distribution of age for all genders with a comparsion of normal distribution')\n",
    "plt.plot(xs, fit, label = 'Normal Dist.', lw = 4)\n",
    "plt.hist(age, density = True, label = 'Actual Data');"
   ]
  },
  {
   "cell_type": "markdown",
   "metadata": {},
   "source": [
    "We first check if the age spread ages for all gender. The age is  near the normal distribution."
   ]
  },
  {
   "cell_type": "code",
   "execution_count": 32,
   "metadata": {},
   "outputs": [
    {
     "data": {
      "text/plain": [
       "<matplotlib.axes._subplots.AxesSubplot at 0x7fc952d9f790>"
      ]
     },
     "execution_count": 32,
     "metadata": {},
     "output_type": "execute_result"
    },
    {
     "data": {
      "image/png": "[encoded data removed]",
      "text/plain": [
       "<Figure size 432x288 with 1 Axes>"
      ]
     },
     "metadata": {},
     "output_type": "display_data"
    }
   ],
   "source": [
    "plt.title('Distribution of age for all genders in boxplot')\n",
    "sns.boxplot(age)"
   ]
  },
  {
   "cell_type": "markdown",
   "metadata": {},
   "source": [
    " The box plot has the similar representation with histogram."
   ]
  },
  {
   "cell_type": "code",
   "execution_count": 33,
   "metadata": {},
   "outputs": [],
   "source": [
    "## for income\n",
    "income = ca2019['Income']\n",
    "logincome = np.log10(ca2019['Income'])\n",
    "st_income, p_income = normaltest(income)"
   ]
  },
  {
   "cell_type": "code",
   "execution_count": 34,
   "metadata": {},
   "outputs": [
    {
     "data": {
      "image/png": "[encoded data removed]",
      "text/plain": [
       "<Figure size 432x288 with 1 Axes>"
      ]
     },
     "metadata": {},
     "output_type": "display_data"
    }
   ],
   "source": [
    "xs = np.arange(income.min(), income.max(), 0.1)\n",
    "fit = stats.norm.pdf(xs, np.mean(income), np.std(income))\n",
    "# most easily done using matplotlib\n",
    "plt.xlabel('Income')\n",
    "plt.title('Distribution of Income with a comparsion of normal distribution')\n",
    "plt.plot(xs, fit, label = 'Normal Dist.', lw = 4)\n",
    "plt.hist(income, density = True, label = 'Actual Data');"
   ]
  },
  {
   "cell_type": "markdown",
   "metadata": {},
   "source": [
    "We also checked if the Income is a normal distribution. It the graph we see here, there is a lot of low inome people which makes the graph extremely skewed right."
   ]
  },
  {
   "cell_type": "code",
   "execution_count": 35,
   "metadata": {},
   "outputs": [
    {
     "data": {
      "text/plain": [
       "<matplotlib.axes._subplots.AxesSubplot at 0x7fc8f8db3820>"
      ]
     },
     "execution_count": 35,
     "metadata": {},
     "output_type": "execute_result"
    },
    {
     "data": {
      "image/png": "[encoded data removed]",
      "text/plain": [
       "<Figure size 432x288 with 1 Axes>"
      ]
     },
     "metadata": {},
     "output_type": "display_data"
    }
   ],
   "source": [
    "sns.boxplot(income)"
   ]
  },
  {
   "cell_type": "markdown",
   "metadata": {},
   "source": [
    "The boxplot show the similar result here, main part of the income is near zero, while there is several outliers."
   ]
  },
  {
   "cell_type": "code",
   "execution_count": 36,
   "metadata": {},
   "outputs": [
    {
     "data": {
      "text/html": [
       "<div>\n",
       "<style scoped>\n",
       "    .dataframe tbody tr th:only-of-type {\n",
       "        vertical-align: middle;\n",
       "    }\n",
       "\n",
       "    .dataframe tbody tr th {\n",
       "        vertical-align: top;\n",
       "    }\n",
       "\n",
       "    .dataframe thead th {\n",
       "        text-align: right;\n",
       "    }\n",
       "</style>\n",
       "<table border=\"1\" class=\"dataframe\">\n",
       "  <thead>\n",
       "    <tr style=\"text-align: right;\">\n",
       "      <th></th>\n",
       "      <th>Age</th>\n",
       "      <th>Income</th>\n",
       "      <th>Employment Status</th>\n",
       "      <th>New Born Baby</th>\n",
       "      <th>Gender</th>\n",
       "      <th>Marriage Status</th>\n",
       "      <th>Highest Education Level</th>\n",
       "      <th>Current Occupation</th>\n",
       "    </tr>\n",
       "  </thead>\n",
       "  <tbody>\n",
       "    <tr>\n",
       "      <th>357785</th>\n",
       "      <td>39</td>\n",
       "      <td>571000.0</td>\n",
       "      <td>1.0</td>\n",
       "      <td>2.0</td>\n",
       "      <td>2</td>\n",
       "      <td>5</td>\n",
       "      <td>21.0</td>\n",
       "      <td>412031</td>\n",
       "    </tr>\n",
       "    <tr>\n",
       "      <th>183975</th>\n",
       "      <td>34</td>\n",
       "      <td>571000.0</td>\n",
       "      <td>1.0</td>\n",
       "      <td>-1.0</td>\n",
       "      <td>1</td>\n",
       "      <td>1</td>\n",
       "      <td>22.0</td>\n",
       "      <td>291126</td>\n",
       "    </tr>\n",
       "    <tr>\n",
       "      <th>100349</th>\n",
       "      <td>49</td>\n",
       "      <td>571000.0</td>\n",
       "      <td>1.0</td>\n",
       "      <td>-1.0</td>\n",
       "      <td>1</td>\n",
       "      <td>1</td>\n",
       "      <td>22.0</td>\n",
       "      <td>413091</td>\n",
       "    </tr>\n",
       "    <tr>\n",
       "      <th>129538</th>\n",
       "      <td>52</td>\n",
       "      <td>571000.0</td>\n",
       "      <td>1.0</td>\n",
       "      <td>-1.0</td>\n",
       "      <td>1</td>\n",
       "      <td>1</td>\n",
       "      <td>23.0</td>\n",
       "      <td>291210</td>\n",
       "    </tr>\n",
       "    <tr>\n",
       "      <th>100357</th>\n",
       "      <td>51</td>\n",
       "      <td>571000.0</td>\n",
       "      <td>1.0</td>\n",
       "      <td>-1.0</td>\n",
       "      <td>1</td>\n",
       "      <td>1</td>\n",
       "      <td>21.0</td>\n",
       "      <td>151299</td>\n",
       "    </tr>\n",
       "    <tr>\n",
       "      <th>...</th>\n",
       "      <td>...</td>\n",
       "      <td>...</td>\n",
       "      <td>...</td>\n",
       "      <td>...</td>\n",
       "      <td>...</td>\n",
       "      <td>...</td>\n",
       "      <td>...</td>\n",
       "      <td>...</td>\n",
       "    </tr>\n",
       "    <tr>\n",
       "      <th>315197</th>\n",
       "      <td>68</td>\n",
       "      <td>571000.0</td>\n",
       "      <td>1.0</td>\n",
       "      <td>-1.0</td>\n",
       "      <td>1</td>\n",
       "      <td>1</td>\n",
       "      <td>24.0</td>\n",
       "      <td>291210</td>\n",
       "    </tr>\n",
       "    <tr>\n",
       "      <th>79319</th>\n",
       "      <td>43</td>\n",
       "      <td>571000.0</td>\n",
       "      <td>1.0</td>\n",
       "      <td>2.0</td>\n",
       "      <td>2</td>\n",
       "      <td>1</td>\n",
       "      <td>23.0</td>\n",
       "      <td>291210</td>\n",
       "    </tr>\n",
       "    <tr>\n",
       "      <th>369600</th>\n",
       "      <td>59</td>\n",
       "      <td>571000.0</td>\n",
       "      <td>1.0</td>\n",
       "      <td>-1.0</td>\n",
       "      <td>1</td>\n",
       "      <td>1</td>\n",
       "      <td>20.0</td>\n",
       "      <td>151251</td>\n",
       "    </tr>\n",
       "    <tr>\n",
       "      <th>79318</th>\n",
       "      <td>41</td>\n",
       "      <td>571000.0</td>\n",
       "      <td>1.0</td>\n",
       "      <td>-1.0</td>\n",
       "      <td>1</td>\n",
       "      <td>1</td>\n",
       "      <td>23.0</td>\n",
       "      <td>291210</td>\n",
       "    </tr>\n",
       "    <tr>\n",
       "      <th>100232</th>\n",
       "      <td>55</td>\n",
       "      <td>571000.0</td>\n",
       "      <td>1.0</td>\n",
       "      <td>-1.0</td>\n",
       "      <td>1</td>\n",
       "      <td>1</td>\n",
       "      <td>21.0</td>\n",
       "      <td>1110XX</td>\n",
       "    </tr>\n",
       "  </tbody>\n",
       "</table>\n",
       "<p>200 rows × 8 columns</p>\n",
       "</div>"
      ],
      "text/plain": [
       "        Age    Income  Employment Status  New Born Baby  Gender  \\\n",
       "357785   39  571000.0                1.0            2.0       2   \n",
       "183975   34  571000.0                1.0           -1.0       1   \n",
       "100349   49  571000.0                1.0           -1.0       1   \n",
       "129538   52  571000.0                1.0           -1.0       1   \n",
       "100357   51  571000.0                1.0           -1.0       1   \n",
       "...     ...       ...                ...            ...     ...   \n",
       "315197   68  571000.0                1.0           -1.0       1   \n",
       "79319    43  571000.0                1.0            2.0       2   \n",
       "369600   59  571000.0                1.0           -1.0       1   \n",
       "79318    41  571000.0                1.0           -1.0       1   \n",
       "100232   55  571000.0                1.0           -1.0       1   \n",
       "\n",
       "        Marriage Status  Highest Education Level Current Occupation  \n",
       "357785                5                     21.0             412031  \n",
       "183975                1                     22.0             291126  \n",
       "100349                1                     22.0             413091  \n",
       "129538                1                     23.0             291210  \n",
       "100357                1                     21.0             151299  \n",
       "...                 ...                      ...                ...  \n",
       "315197                1                     24.0             291210  \n",
       "79319                 1                     23.0             291210  \n",
       "369600                1                     20.0             151251  \n",
       "79318                 1                     23.0             291210  \n",
       "100232                1                     21.0             1110XX  \n",
       "\n",
       "[200 rows x 8 columns]"
      ]
     },
     "execution_count": 36,
     "metadata": {},
     "output_type": "execute_result"
    }
   ],
   "source": [
    "ca2019.sort_values('Income', ascending=False)[0:200]"
   ]
  },
  {
   "cell_type": "markdown",
   "metadata": {},
   "source": [
    "We check the  value of outlier income. Thers is a lot of people that have really extreme income which may influence our analysis."
   ]
  },
  {
   "cell_type": "markdown",
   "metadata": {},
   "source": [
    "The distribution of age is approximately normal with a bell-curved shape. The distribution of income is right skewed, and does not have a normal distribution."
   ]
  },
  {
   "cell_type": "markdown",
   "metadata": {},
   "source": [
    "## 4.2 Outliers observed from the histogram and are 2 standard deviations from the mean"
   ]
  },
  {
   "cell_type": "markdown",
   "metadata": {},
   "source": [
    "Since we see some outliers that may influence our analyze, we want to drop them."
   ]
  },
  {
   "cell_type": "code",
   "execution_count": 37,
   "metadata": {},
   "outputs": [],
   "source": [
    "ca2019income = ca2019[ca2019['Income']!= 0]\n",
    "### find the 3 standard deviation distance from the mean for income\n",
    "incomesum = ca2019income['Income'].describe()\n",
    "outliercutlower = incomesum[1] - 3*incomesum[2]\n",
    "outliercutupper = incomesum[1] + 3*incomesum[2]\n",
    "### filter out outliers\n",
    "ca2019new = ca2019income[(ca2019income['Income']< outliercutupper) & (ca2019['Income']> outliercutlower) ]\n",
    "incomenew = ca2019new['Income']"
   ]
  },
  {
   "cell_type": "markdown",
   "metadata": {},
   "source": [
    "## 4.3 Descriptive stats for income after filtering out outliers."
   ]
  },
  {
   "cell_type": "code",
   "execution_count": 38,
   "metadata": {},
   "outputs": [
    {
     "data": {
      "text/plain": [
       "count    181169.000000\n",
       "mean      56378.280997\n",
       "std       53213.840522\n",
       "min           4.000000\n",
       "25%       19000.000000\n",
       "50%       40000.000000\n",
       "75%       80000.000000\n",
       "max      306000.000000\n",
       "Name: Income, dtype: float64"
      ]
     },
     "execution_count": 38,
     "metadata": {},
     "output_type": "execute_result"
    }
   ],
   "source": [
    "# mean median sd\n",
    "ca2019new['Income'].describe()"
   ]
  },
  {
   "cell_type": "code",
   "execution_count": 39,
   "metadata": {},
   "outputs": [
    {
     "data": {
      "text/plain": [
       "Age                           41.0\n",
       "Income                     40000.0\n",
       "Employment Status              1.0\n",
       "New Born Baby                 -1.0\n",
       "Gender                         1.0\n",
       "Marriage Status                1.0\n",
       "Highest Education Level       19.0\n",
       "dtype: float64"
      ]
     },
     "execution_count": 39,
     "metadata": {},
     "output_type": "execute_result"
    }
   ],
   "source": [
    "ca2019new.median()"
   ]
  },
  {
   "cell_type": "markdown",
   "metadata": {},
   "source": [
    "We should note that since the income variable is heavily skewed to the right, we should use median, instead of mean to measure the central tendency of the variable. However, we should also notice that the population might include infants and underage children who are not eligible to work. Hence we do the same analysis with income $0 removed. "
   ]
  },
  {
   "cell_type": "markdown",
   "metadata": {},
   "source": [
    "After removing the outliers and 0 income, we have a more bell-curved like distribution (shown in 4.4). We have a mean of 56378 for all workers in California in 2019, and a median of 40000. We'll use 50000 as the number to separate categories for income in later analysis, since it's a compromise between the median and the mean. "
   ]
  },
  {
   "cell_type": "markdown",
   "metadata": {},
   "source": [
    "The reason we remove those outliers is that they do not correctly reflect the distribution of incomes of average people. "
   ]
  },
  {
   "cell_type": "markdown",
   "metadata": {},
   "source": [
    "## 4.4 Check for normality again to see if removing outliers affect the distribution"
   ]
  },
  {
   "cell_type": "markdown",
   "metadata": {},
   "source": [
    "### Check for histogram and density curve"
   ]
  },
  {
   "cell_type": "code",
   "execution_count": 40,
   "metadata": {},
   "outputs": [
    {
     "data": {
      "image/png": "[encoded data removed]",
      "text/plain": [
       "<Figure size 432x288 with 1 Axes>"
      ]
     },
     "metadata": {},
     "output_type": "display_data"
    }
   ],
   "source": [
    "xs = np.arange(incomenew.min(), incomenew.max(), 0.1)\n",
    "fit = stats.norm.pdf(xs, np.mean(incomenew), np.std(incomenew))\n",
    "# most easily done using matplotlib\n",
    "plt.xlabel('Income')\n",
    "plt.title('Distribution of Income after drop outliers with a comparsion of normal distribution')\n",
    "plt.plot(xs, fit, label = 'Normal Dist.', lw = 4)\n",
    "plt.hist(incomenew, density = True, label = 'Actual Data');"
   ]
  },
  {
   "cell_type": "markdown",
   "metadata": {},
   "source": [
    "We drop the outliers and the graph is less skewed than before, but still shewed right."
   ]
  },
  {
   "cell_type": "code",
   "execution_count": 41,
   "metadata": {},
   "outputs": [
    {
     "data": {
      "text/plain": [
       "<matplotlib.axes._subplots.AxesSubplot at 0x7fc8fc556b50>"
      ]
     },
     "execution_count": 41,
     "metadata": {},
     "output_type": "execute_result"
    },
    {
     "data": {
      "image/png": "[encoded data removed]",
      "text/plain": [
       "<Figure size 432x288 with 1 Axes>"
      ]
     },
     "metadata": {},
     "output_type": "display_data"
    }
   ],
   "source": [
    "plt.title('Distribution of Income after drop outliers with a comparsion of normal distribution in boxplot')\n",
    "sns.boxplot(incomenew)"
   ]
  },
  {
   "cell_type": "markdown",
   "metadata": {},
   "source": [
    "Compared to the curves and boxplot we got in 4.1, we could see that the outliers are removed, and that the distribution of income resembles roughly a bell-shaped curve. But it is still skewed right."
   ]
  },
  {
   "cell_type": "markdown",
   "metadata": {},
   "source": [
    "## 4.5 Is the wage gap significant?"
   ]
  },
  {
   "cell_type": "code",
   "execution_count": 42,
   "metadata": {},
   "outputs": [
    {
     "data": {
      "text/plain": [
       "Gender\n",
       "1    47130.421524\n",
       "2    28455.724984\n",
       "Name: Income, dtype: float64"
      ]
     },
     "execution_count": 42,
     "metadata": {},
     "output_type": "execute_result"
    }
   ],
   "source": [
    "ca2019.groupby(['Gender'])['Income'].mean()"
   ]
  },
  {
   "cell_type": "markdown",
   "metadata": {},
   "source": [
    "$H_0: \\bar x_{Male Wage} = \\bar y_{Female Wage}$\n",
    "\n",
    "$H_a: \\bar x_{Male Wage} \\ne \\bar y_{Female Wage}$"
   ]
  },
  {
   "cell_type": "markdown",
   "metadata": {},
   "source": [
    "### 4.5.1 T test between means of male wage and female wage "
   ]
  },
  {
   "cell_type": "markdown",
   "metadata": {},
   "source": [
    "Now, we want to use t test to see if the wage gap between male and female is caused by chance or not."
   ]
  },
  {
   "cell_type": "code",
   "execution_count": 43,
   "metadata": {},
   "outputs": [],
   "source": [
    "group1 = np.array(ca2019female.dropna()['Income'].tolist())\n",
    "group2 = np.array(ca2019male['Income'].tolist())\n",
    "ca2019femalework = ca2019female[ca2019female.Income != 0]\n",
    "ca2019malework = ca2019male[ca2019male.Income != 0]"
   ]
  },
  {
   "cell_type": "code",
   "execution_count": 44,
   "metadata": {},
   "outputs": [
    {
     "data": {
      "text/plain": [
       "Ttest_indResult(statistic=-59.49216629300448, pvalue=0.0)"
      ]
     },
     "execution_count": 44,
     "metadata": {},
     "output_type": "execute_result"
    }
   ],
   "source": [
    "# t test of average wage attained by men and women in the workforce\n",
    "ttest_ind(ca2019femalework['Income'], ca2019malework['Income'])"
   ]
  },
  {
   "cell_type": "code",
   "execution_count": 45,
   "metadata": {},
   "outputs": [
    {
     "data": {
      "text/plain": [
       "Ttest_indResult(statistic=-75.99054108354194, pvalue=0.0)"
      ]
     },
     "execution_count": 45,
     "metadata": {},
     "output_type": "execute_result"
    }
   ],
   "source": [
    "#t test of average wage attained by men and women\n",
    "ttest_ind(group1, group2)"
   ]
  },
  {
   "cell_type": "markdown",
   "metadata": {},
   "source": [
    "Since our p-values of wages of men and women are very small, we conclude that we could reject the null hypothesis and conclude that there is a significant difference in male and female wages. "
   ]
  },
  {
   "cell_type": "markdown",
   "metadata": {},
   "source": [
    "After proving that the wage gap between female and male is not caused by chance, we want to know what is the reason behind this phenomenon."
   ]
  },
  {
   "cell_type": "markdown",
   "metadata": {},
   "source": [
    "## 4.6 What role does education attainment play in wage gap?"
   ]
  },
  {
   "cell_type": "markdown",
   "metadata": {},
   "source": [
    "Our first guess is the unbalence between education level:\n",
    "- The male may have higher average education level than female which could be the cause of wage gap."
   ]
  },
  {
   "cell_type": "code",
   "execution_count": 46,
   "metadata": {},
   "outputs": [],
   "source": [
    "wage_edu=ca2019[['Highest Education Level','Income','Gender']]\n",
    "wage_edu=wage_edu[wage_edu.Income != 0]"
   ]
  },
  {
   "cell_type": "markdown",
   "metadata": {},
   "source": [
    "### Female education attainment and wage"
   ]
  },
  {
   "cell_type": "code",
   "execution_count": 47,
   "metadata": {},
   "outputs": [
    {
     "data": {
      "text/html": [
       "<div>\n",
       "<style scoped>\n",
       "    .dataframe tbody tr th:only-of-type {\n",
       "        vertical-align: middle;\n",
       "    }\n",
       "\n",
       "    .dataframe tbody tr th {\n",
       "        vertical-align: top;\n",
       "    }\n",
       "\n",
       "    .dataframe thead th {\n",
       "        text-align: right;\n",
       "    }\n",
       "</style>\n",
       "<table border=\"1\" class=\"dataframe\">\n",
       "  <thead>\n",
       "    <tr style=\"text-align: right;\">\n",
       "      <th></th>\n",
       "      <th>Highest Education Level</th>\n",
       "      <th>Income</th>\n",
       "    </tr>\n",
       "  </thead>\n",
       "  <tbody>\n",
       "    <tr>\n",
       "      <th>0</th>\n",
       "      <td>1.0</td>\n",
       "      <td>24567.925446</td>\n",
       "    </tr>\n",
       "    <tr>\n",
       "      <th>1</th>\n",
       "      <td>2.0</td>\n",
       "      <td>54706.666667</td>\n",
       "    </tr>\n",
       "    <tr>\n",
       "      <th>2</th>\n",
       "      <td>3.0</td>\n",
       "      <td>18833.333333</td>\n",
       "    </tr>\n",
       "    <tr>\n",
       "      <th>3</th>\n",
       "      <td>4.0</td>\n",
       "      <td>18944.827586</td>\n",
       "    </tr>\n",
       "    <tr>\n",
       "      <th>4</th>\n",
       "      <td>5.0</td>\n",
       "      <td>18368.000000</td>\n",
       "    </tr>\n",
       "  </tbody>\n",
       "</table>\n",
       "</div>"
      ],
      "text/plain": [
       "   Highest Education Level        Income\n",
       "0                      1.0  24567.925446\n",
       "1                      2.0  54706.666667\n",
       "2                      3.0  18833.333333\n",
       "3                      4.0  18944.827586\n",
       "4                      5.0  18368.000000"
      ]
     },
     "execution_count": 47,
     "metadata": {},
     "output_type": "execute_result"
    }
   ],
   "source": [
    "wage_eduFe = wage_edu[wage_edu['Gender']==2]\n",
    "edu_wage_groupFe=wage_eduFe.groupby(['Highest Education Level'])['Income'].mean()\n",
    "edu_wage_groupFe=pd.DataFrame(edu_wage_groupFe)\n",
    "edu_wage_groupFe.reset_index(inplace=True)\n",
    "edu_wage_groupFe.head()"
   ]
  },
  {
   "cell_type": "markdown",
   "metadata": {},
   "source": [
    "### Male education attainment and wage"
   ]
  },
  {
   "cell_type": "code",
   "execution_count": 48,
   "metadata": {},
   "outputs": [
    {
     "data": {
      "text/html": [
       "<div>\n",
       "<style scoped>\n",
       "    .dataframe tbody tr th:only-of-type {\n",
       "        vertical-align: middle;\n",
       "    }\n",
       "\n",
       "    .dataframe tbody tr th {\n",
       "        vertical-align: top;\n",
       "    }\n",
       "\n",
       "    .dataframe thead th {\n",
       "        text-align: right;\n",
       "    }\n",
       "</style>\n",
       "<table border=\"1\" class=\"dataframe\">\n",
       "  <thead>\n",
       "    <tr style=\"text-align: right;\">\n",
       "      <th></th>\n",
       "      <th>Highest Education Level</th>\n",
       "      <th>Income</th>\n",
       "    </tr>\n",
       "  </thead>\n",
       "  <tbody>\n",
       "    <tr>\n",
       "      <th>0</th>\n",
       "      <td>1.0</td>\n",
       "      <td>36295.938841</td>\n",
       "    </tr>\n",
       "    <tr>\n",
       "      <th>1</th>\n",
       "      <td>2.0</td>\n",
       "      <td>42713.636364</td>\n",
       "    </tr>\n",
       "    <tr>\n",
       "      <th>2</th>\n",
       "      <td>3.0</td>\n",
       "      <td>40381.481481</td>\n",
       "    </tr>\n",
       "    <tr>\n",
       "      <th>3</th>\n",
       "      <td>4.0</td>\n",
       "      <td>30285.937500</td>\n",
       "    </tr>\n",
       "    <tr>\n",
       "      <th>4</th>\n",
       "      <td>5.0</td>\n",
       "      <td>31715.555556</td>\n",
       "    </tr>\n",
       "  </tbody>\n",
       "</table>\n",
       "</div>"
      ],
      "text/plain": [
       "   Highest Education Level        Income\n",
       "0                      1.0  36295.938841\n",
       "1                      2.0  42713.636364\n",
       "2                      3.0  40381.481481\n",
       "3                      4.0  30285.937500\n",
       "4                      5.0  31715.555556"
      ]
     },
     "execution_count": 48,
     "metadata": {},
     "output_type": "execute_result"
    }
   ],
   "source": [
    "wage_eduMa = wage_edu[wage_edu['Gender']==1]\n",
    "edu_wage_groupMa=wage_eduMa.groupby(['Highest Education Level'])['Income'].mean()\n",
    "edu_wage_groupMa=pd.DataFrame(edu_wage_groupMa)\n",
    "edu_wage_groupMa.reset_index(inplace=True)\n",
    "edu_wage_groupMa.head()"
   ]
  },
  {
   "cell_type": "markdown",
   "metadata": {},
   "source": [
    "### Co education attainment and wage "
   ]
  },
  {
   "cell_type": "code",
   "execution_count": 49,
   "metadata": {},
   "outputs": [],
   "source": [
    "edu_wage_group=wage_edu.groupby(['Highest Education Level'])['Income'].mean()\n",
    "edu_wage_group=pd.DataFrame(edu_wage_group)\n",
    "edu_wage_group.reset_index(inplace=True)\n",
    "#edu_wage_group"
   ]
  },
  {
   "cell_type": "markdown",
   "metadata": {},
   "source": [
    "Now, we plot the scatterplot of wage gap between men and women according to education level"
   ]
  },
  {
   "cell_type": "code",
   "execution_count": 50,
   "metadata": {},
   "outputs": [
    {
     "data": {
      "text/plain": [
       "Text(0.5, 1.0, 'Comparsion of income between female and male')"
      ]
     },
     "execution_count": 50,
     "metadata": {},
     "output_type": "execute_result"
    },
    {
     "data": {
      "image/png": "[encoded data removed]",
      "text/plain": [
       "<Figure size 432x288 with 1 Axes>"
      ]
     },
     "metadata": {},
     "output_type": "display_data"
    }
   ],
   "source": [
    "ax = edu_wage_groupFe.plot(kind='scatter',x='Highest Education Level', y='Income',\n",
    "                          color = 'DarkBlue', label = 'Female')\n",
    "ax1 = edu_wage_groupMa.plot(kind='scatter', x='Highest Education Level', y='Income', color='g', ax=ax, label = 'Male')\n",
    "plt.title('Comparsion of income between female and male')"
   ]
  },
  {
   "cell_type": "markdown",
   "metadata": {},
   "source": [
    "From this graph we can clearly see that almost at all the education level, the male's income is somehow higher than the female at the same education level. The gap of income between two genders is even larger with the high education level."
   ]
  },
  {
   "cell_type": "code",
   "execution_count": 51,
   "metadata": {},
   "outputs": [],
   "source": [
    "wage_edu=ca2019[['Gender','Highest Education Level','Income']]\n",
    "wage_edu['Income Greater']=wage_edu['Income']>=50000"
   ]
  },
  {
   "cell_type": "markdown",
   "metadata": {},
   "source": [
    "### 4.6.1 2x2 table, rows: educational level, columns: income >= 50000, income < 50000, use chi-squared test"
   ]
  },
  {
   "cell_type": "markdown",
   "metadata": {},
   "source": [
    "H_0: No association between highest education attainment and incomes. \n",
    "\n",
    "H_a: There's some association between educational level and income. "
   ]
  },
  {
   "cell_type": "code",
   "execution_count": 52,
   "metadata": {},
   "outputs": [
    {
     "data": {
      "text/html": [
       "<div>\n",
       "<style scoped>\n",
       "    .dataframe tbody tr th:only-of-type {\n",
       "        vertical-align: middle;\n",
       "    }\n",
       "\n",
       "    .dataframe tbody tr th {\n",
       "        vertical-align: top;\n",
       "    }\n",
       "\n",
       "    .dataframe thead th {\n",
       "        text-align: right;\n",
       "    }\n",
       "</style>\n",
       "<table border=\"1\" class=\"dataframe\">\n",
       "  <thead>\n",
       "    <tr style=\"text-align: right;\">\n",
       "      <th>Income Greater</th>\n",
       "      <th>False</th>\n",
       "      <th>True</th>\n",
       "    </tr>\n",
       "    <tr>\n",
       "      <th>Highest Education Level</th>\n",
       "      <th></th>\n",
       "      <th></th>\n",
       "    </tr>\n",
       "  </thead>\n",
       "  <tbody>\n",
       "    <tr>\n",
       "      <th>1.0</th>\n",
       "      <td>7765</td>\n",
       "      <td>466</td>\n",
       "    </tr>\n",
       "    <tr>\n",
       "      <th>2.0</th>\n",
       "      <td>86</td>\n",
       "      <td>13</td>\n",
       "    </tr>\n",
       "    <tr>\n",
       "      <th>3.0</th>\n",
       "      <td>105</td>\n",
       "      <td>7</td>\n",
       "    </tr>\n",
       "    <tr>\n",
       "      <th>4.0</th>\n",
       "      <td>234</td>\n",
       "      <td>12</td>\n",
       "    </tr>\n",
       "    <tr>\n",
       "      <th>5.0</th>\n",
       "      <td>536</td>\n",
       "      <td>22</td>\n",
       "    </tr>\n",
       "  </tbody>\n",
       "</table>\n",
       "</div>"
      ],
      "text/plain": [
       "Income Greater           False  True \n",
       "Highest Education Level              \n",
       "1.0                       7765    466\n",
       "2.0                         86     13\n",
       "3.0                        105      7\n",
       "4.0                        234     12\n",
       "5.0                        536     22"
      ]
     },
     "execution_count": 52,
     "metadata": {},
     "output_type": "execute_result"
    }
   ],
   "source": [
    "contigency= pd.crosstab(wage_edu['Highest Education Level'], wage_edu['Income Greater']) \n",
    "contigency.head()"
   ]
  },
  {
   "cell_type": "code",
   "execution_count": 53,
   "metadata": {},
   "outputs": [
    {
     "data": {
      "text/plain": [
       "0.0"
      ]
     },
     "execution_count": 53,
     "metadata": {},
     "output_type": "execute_result"
    }
   ],
   "source": [
    "c, p, dof, expected = chi2_contingency(contigency) \n",
    "p"
   ]
  },
  {
   "cell_type": "code",
   "execution_count": 54,
   "metadata": {},
   "outputs": [
    {
     "data": {
      "text/html": [
       "<div>\n",
       "<style scoped>\n",
       "    .dataframe tbody tr th:only-of-type {\n",
       "        vertical-align: middle;\n",
       "    }\n",
       "\n",
       "    .dataframe tbody tr th {\n",
       "        vertical-align: top;\n",
       "    }\n",
       "\n",
       "    .dataframe thead th {\n",
       "        text-align: right;\n",
       "    }\n",
       "</style>\n",
       "<table border=\"1\" class=\"dataframe\">\n",
       "  <thead>\n",
       "    <tr style=\"text-align: right;\">\n",
       "      <th></th>\n",
       "      <th>Less than 70000</th>\n",
       "      <th>More than 70000</th>\n",
       "    </tr>\n",
       "  </thead>\n",
       "  <tbody>\n",
       "    <tr>\n",
       "      <th>No schooling completed</th>\n",
       "      <td>6103.817725</td>\n",
       "      <td>2127.182275</td>\n",
       "    </tr>\n",
       "    <tr>\n",
       "      <th>Nursery school, preschool</th>\n",
       "      <td>73.414889</td>\n",
       "      <td>25.585111</td>\n",
       "    </tr>\n",
       "    <tr>\n",
       "      <th>Kindergarten</th>\n",
       "      <td>83.055228</td>\n",
       "      <td>28.944772</td>\n",
       "    </tr>\n",
       "    <tr>\n",
       "      <th>Grade 1</th>\n",
       "      <td>182.424877</td>\n",
       "      <td>63.575123</td>\n",
       "    </tr>\n",
       "    <tr>\n",
       "      <th>Grade 2</th>\n",
       "      <td>413.793013</td>\n",
       "      <td>144.206987</td>\n",
       "    </tr>\n",
       "  </tbody>\n",
       "</table>\n",
       "</div>"
      ],
      "text/plain": [
       "                           Less than 70000  More than 70000\n",
       "No schooling completed         6103.817725      2127.182275\n",
       "Nursery school, preschool        73.414889        25.585111\n",
       "Kindergarten                     83.055228        28.944772\n",
       "Grade 1                         182.424877        63.575123\n",
       "Grade 2                         413.793013       144.206987"
      ]
     },
     "execution_count": 54,
     "metadata": {},
     "output_type": "execute_result"
    }
   ],
   "source": [
    "expected_table = pd.DataFrame(expected,\\\n",
    "                                        index = ['No schooling completed',\n",
    "                                                'Nursery school, preschool', 'Kindergarten',\n",
    "                                                'Grade 1', 'Grade 2','Grade 3','Grade 4','Grade 5','Grade 6',\n",
    "                                                'Grade 7','Grade 8','Grade 9','Grade 10','Grade 11','Grade 12','High school',\n",
    "                                                'GED', '<1yr college','>1yr college', 'Associates degree',\n",
    "                                                'Bachelors degree', 'Masters degree', 'Professional degree beyond a bachelors degree',\n",
    "                                                'Doctorate degree'],\\\n",
    "                                        columns = ['Less than 70000', 'More than 70000'])\n",
    "expected_table.head()"
   ]
  },
  {
   "cell_type": "markdown",
   "metadata": {},
   "source": [
    "Since our p-value is extremely small (p <0.01), we could conclude that there is convincing evidence of an association between educational level and income. From our table we could see that people with some college education are more likely to have higher incomes. "
   ]
  },
  {
   "cell_type": "markdown",
   "metadata": {},
   "source": [
    "## 4.7 What role does marriage play in wage gap?"
   ]
  },
  {
   "cell_type": "markdown",
   "metadata": {},
   "source": [
    "Marriage status is another reason we consider. Is the marraige status a factor influence the wage?"
   ]
  },
  {
   "cell_type": "code",
   "execution_count": 55,
   "metadata": {},
   "outputs": [
    {
     "data": {
      "text/html": [
       "<div>\n",
       "<style scoped>\n",
       "    .dataframe tbody tr th:only-of-type {\n",
       "        vertical-align: middle;\n",
       "    }\n",
       "\n",
       "    .dataframe tbody tr th {\n",
       "        vertical-align: top;\n",
       "    }\n",
       "\n",
       "    .dataframe thead th {\n",
       "        text-align: right;\n",
       "    }\n",
       "</style>\n",
       "<table border=\"1\" class=\"dataframe\">\n",
       "  <thead>\n",
       "    <tr style=\"text-align: right;\">\n",
       "      <th></th>\n",
       "      <th>Marriage Status</th>\n",
       "      <th>Income</th>\n",
       "    </tr>\n",
       "  </thead>\n",
       "  <tbody>\n",
       "    <tr>\n",
       "      <th>0</th>\n",
       "      <td>5</td>\n",
       "      <td>23100.0</td>\n",
       "    </tr>\n",
       "    <tr>\n",
       "      <th>1</th>\n",
       "      <td>3</td>\n",
       "      <td>0.0</td>\n",
       "    </tr>\n",
       "    <tr>\n",
       "      <th>2</th>\n",
       "      <td>5</td>\n",
       "      <td>6000.0</td>\n",
       "    </tr>\n",
       "    <tr>\n",
       "      <th>3</th>\n",
       "      <td>5</td>\n",
       "      <td>0.0</td>\n",
       "    </tr>\n",
       "    <tr>\n",
       "      <th>4</th>\n",
       "      <td>5</td>\n",
       "      <td>2000.0</td>\n",
       "    </tr>\n",
       "  </tbody>\n",
       "</table>\n",
       "</div>"
      ],
      "text/plain": [
       "   Marriage Status   Income\n",
       "0                5  23100.0\n",
       "1                3      0.0\n",
       "2                5   6000.0\n",
       "3                5      0.0\n",
       "4                5   2000.0"
      ]
     },
     "execution_count": 55,
     "metadata": {},
     "output_type": "execute_result"
    }
   ],
   "source": [
    "marraiage_wage=ca2019[['Marriage Status','Income']]\n",
    "marraiage_wage.head()"
   ]
  },
  {
   "cell_type": "code",
   "execution_count": 56,
   "metadata": {},
   "outputs": [
    {
     "data": {
      "text/html": [
       "<div>\n",
       "<style scoped>\n",
       "    .dataframe tbody tr th:only-of-type {\n",
       "        vertical-align: middle;\n",
       "    }\n",
       "\n",
       "    .dataframe tbody tr th {\n",
       "        vertical-align: top;\n",
       "    }\n",
       "\n",
       "    .dataframe thead th {\n",
       "        text-align: right;\n",
       "    }\n",
       "</style>\n",
       "<table border=\"1\" class=\"dataframe\">\n",
       "  <thead>\n",
       "    <tr style=\"text-align: right;\">\n",
       "      <th></th>\n",
       "      <th>Marriage Status</th>\n",
       "      <th>Income</th>\n",
       "    </tr>\n",
       "  </thead>\n",
       "  <tbody>\n",
       "    <tr>\n",
       "      <th>0</th>\n",
       "      <td>1</td>\n",
       "      <td>49108.323351</td>\n",
       "    </tr>\n",
       "    <tr>\n",
       "      <th>1</th>\n",
       "      <td>2</td>\n",
       "      <td>8737.567410</td>\n",
       "    </tr>\n",
       "    <tr>\n",
       "      <th>2</th>\n",
       "      <td>3</td>\n",
       "      <td>34713.014994</td>\n",
       "    </tr>\n",
       "    <tr>\n",
       "      <th>3</th>\n",
       "      <td>4</td>\n",
       "      <td>31863.104175</td>\n",
       "    </tr>\n",
       "    <tr>\n",
       "      <th>4</th>\n",
       "      <td>5</td>\n",
       "      <td>25978.866369</td>\n",
       "    </tr>\n",
       "  </tbody>\n",
       "</table>\n",
       "</div>"
      ],
      "text/plain": [
       "   Marriage Status        Income\n",
       "0                1  49108.323351\n",
       "1                2   8737.567410\n",
       "2                3  34713.014994\n",
       "3                4  31863.104175\n",
       "4                5  25978.866369"
      ]
     },
     "execution_count": 56,
     "metadata": {},
     "output_type": "execute_result"
    }
   ],
   "source": [
    "marraiage_wage_group=marraiage_wage.groupby(['Marriage Status'])['Income'].mean()\n",
    "marraiage_wage_group=pd.DataFrame(marraiage_wage_group)\n",
    "marraiage_wage_group.reset_index(inplace=True)\n",
    "marraiage_wage_group"
   ]
  },
  {
   "cell_type": "code",
   "execution_count": 57,
   "metadata": {},
   "outputs": [],
   "source": [
    "marraiage_wage['Income Greater']=marraiage_wage['Income']>=50000"
   ]
  },
  {
   "cell_type": "markdown",
   "metadata": {},
   "source": [
    "### 4.7.1 2x2 table, rows: married and single, columns: income >= 50000, income < 50000, use chi-squared test"
   ]
  },
  {
   "cell_type": "markdown",
   "metadata": {},
   "source": [
    "H_0: No association between marital status and incomes. \n",
    "\n",
    "H_a: There's some association between marital status and income. "
   ]
  },
  {
   "cell_type": "code",
   "execution_count": 58,
   "metadata": {},
   "outputs": [
    {
     "data": {
      "text/plain": [
       "0.0"
      ]
     },
     "execution_count": 58,
     "metadata": {},
     "output_type": "execute_result"
    }
   ],
   "source": [
    "contingency1 = pd.crosstab(marraiage_wage['Marriage Status'], marraiage_wage['Income Greater'])\n",
    "c, p, dof, expected = stats.chi2_contingency(contingency1)\n",
    "p"
   ]
  },
  {
   "cell_type": "code",
   "execution_count": 59,
   "metadata": {},
   "outputs": [
    {
     "data": {
      "text/html": [
       "<div>\n",
       "<style scoped>\n",
       "    .dataframe tbody tr th:only-of-type {\n",
       "        vertical-align: middle;\n",
       "    }\n",
       "\n",
       "    .dataframe tbody tr th {\n",
       "        vertical-align: top;\n",
       "    }\n",
       "\n",
       "    .dataframe thead th {\n",
       "        text-align: right;\n",
       "    }\n",
       "</style>\n",
       "<table border=\"1\" class=\"dataframe\">\n",
       "  <thead>\n",
       "    <tr style=\"text-align: right;\">\n",
       "      <th></th>\n",
       "      <th>Less than 50000</th>\n",
       "      <th>More than 50000</th>\n",
       "    </tr>\n",
       "  </thead>\n",
       "  <tbody>\n",
       "    <tr>\n",
       "      <th>Married</th>\n",
       "      <td>116902.458698</td>\n",
       "      <td>40740.541302</td>\n",
       "    </tr>\n",
       "    <tr>\n",
       "      <th>Widowed</th>\n",
       "      <td>12705.966820</td>\n",
       "      <td>4428.033180</td>\n",
       "    </tr>\n",
       "    <tr>\n",
       "      <th>Divorced</th>\n",
       "      <td>22206.150135</td>\n",
       "      <td>7738.849865</td>\n",
       "    </tr>\n",
       "    <tr>\n",
       "      <th>Separated</th>\n",
       "      <td>3872.450025</td>\n",
       "      <td>1349.549975</td>\n",
       "    </tr>\n",
       "    <tr>\n",
       "      <th>Never married</th>\n",
       "      <td>76791.974322</td>\n",
       "      <td>26762.025678</td>\n",
       "    </tr>\n",
       "  </tbody>\n",
       "</table>\n",
       "</div>"
      ],
      "text/plain": [
       "               Less than 50000  More than 50000\n",
       "Married          116902.458698     40740.541302\n",
       "Widowed           12705.966820      4428.033180\n",
       "Divorced          22206.150135      7738.849865\n",
       "Separated          3872.450025      1349.549975\n",
       "Never married     76791.974322     26762.025678"
      ]
     },
     "execution_count": 59,
     "metadata": {},
     "output_type": "execute_result"
    }
   ],
   "source": [
    "expected_table1 = pd.DataFrame(expected,\\\n",
    "                                        index = ['Married',\n",
    "                                                'Widowed', 'Divorced',\n",
    "                                                'Separated', 'Never married'],\\\n",
    "                                        columns = ['Less than 50000', 'More than 50000'])\n",
    "expected_table1"
   ]
  },
  {
   "cell_type": "markdown",
   "metadata": {},
   "source": [
    "Since our p-value is extremely small, we could conclude that there is convincing evidence of an association between marital status and income. From the table, we could see that married people are more likely to have higher incomes. "
   ]
  },
  {
   "cell_type": "markdown",
   "metadata": {},
   "source": [
    "## 4.8 What role does fertility rate play in wage gap?"
   ]
  },
  {
   "cell_type": "markdown",
   "metadata": {},
   "source": [
    "Our third guess is about fertility rate. The born of baby could be the cause of wage change of female."
   ]
  },
  {
   "cell_type": "code",
   "execution_count": 60,
   "metadata": {},
   "outputs": [
    {
     "data": {
      "text/html": [
       "<div>\n",
       "<style scoped>\n",
       "    .dataframe tbody tr th:only-of-type {\n",
       "        vertical-align: middle;\n",
       "    }\n",
       "\n",
       "    .dataframe tbody tr th {\n",
       "        vertical-align: top;\n",
       "    }\n",
       "\n",
       "    .dataframe thead th {\n",
       "        text-align: right;\n",
       "    }\n",
       "</style>\n",
       "<table border=\"1\" class=\"dataframe\">\n",
       "  <thead>\n",
       "    <tr style=\"text-align: right;\">\n",
       "      <th></th>\n",
       "      <th>New Born Baby</th>\n",
       "      <th>Income</th>\n",
       "    </tr>\n",
       "  </thead>\n",
       "  <tbody>\n",
       "    <tr>\n",
       "      <th>2</th>\n",
       "      <td>2.0</td>\n",
       "      <td>6000.0</td>\n",
       "    </tr>\n",
       "    <tr>\n",
       "      <th>4</th>\n",
       "      <td>2.0</td>\n",
       "      <td>2000.0</td>\n",
       "    </tr>\n",
       "    <tr>\n",
       "      <th>15</th>\n",
       "      <td>2.0</td>\n",
       "      <td>0.0</td>\n",
       "    </tr>\n",
       "    <tr>\n",
       "      <th>20</th>\n",
       "      <td>2.0</td>\n",
       "      <td>3200.0</td>\n",
       "    </tr>\n",
       "    <tr>\n",
       "      <th>21</th>\n",
       "      <td>2.0</td>\n",
       "      <td>0.0</td>\n",
       "    </tr>\n",
       "    <tr>\n",
       "      <th>...</th>\n",
       "      <td>...</td>\n",
       "      <td>...</td>\n",
       "    </tr>\n",
       "    <tr>\n",
       "      <th>380069</th>\n",
       "      <td>2.0</td>\n",
       "      <td>30000.0</td>\n",
       "    </tr>\n",
       "    <tr>\n",
       "      <th>380079</th>\n",
       "      <td>2.0</td>\n",
       "      <td>24000.0</td>\n",
       "    </tr>\n",
       "    <tr>\n",
       "      <th>380085</th>\n",
       "      <td>2.0</td>\n",
       "      <td>0.0</td>\n",
       "    </tr>\n",
       "    <tr>\n",
       "      <th>380086</th>\n",
       "      <td>2.0</td>\n",
       "      <td>43600.0</td>\n",
       "    </tr>\n",
       "    <tr>\n",
       "      <th>380089</th>\n",
       "      <td>2.0</td>\n",
       "      <td>8000.0</td>\n",
       "    </tr>\n",
       "  </tbody>\n",
       "</table>\n",
       "<p>84939 rows × 2 columns</p>\n",
       "</div>"
      ],
      "text/plain": [
       "        New Born Baby   Income\n",
       "2                 2.0   6000.0\n",
       "4                 2.0   2000.0\n",
       "15                2.0      0.0\n",
       "20                2.0   3200.0\n",
       "21                2.0      0.0\n",
       "...               ...      ...\n",
       "380069            2.0  30000.0\n",
       "380079            2.0  24000.0\n",
       "380085            2.0      0.0\n",
       "380086            2.0  43600.0\n",
       "380089            2.0   8000.0\n",
       "\n",
       "[84939 rows x 2 columns]"
      ]
     },
     "execution_count": 60,
     "metadata": {},
     "output_type": "execute_result"
    }
   ],
   "source": [
    "fertility_wage=ca2019[['New Born Baby','Income']]\n",
    "fertility_wage=fertility_wage[fertility_wage['New Born Baby'] != -1]\n",
    "fertility_wage"
   ]
  },
  {
   "cell_type": "code",
   "execution_count": 61,
   "metadata": {},
   "outputs": [
    {
     "data": {
      "text/html": [
       "<div>\n",
       "<style scoped>\n",
       "    .dataframe tbody tr th:only-of-type {\n",
       "        vertical-align: middle;\n",
       "    }\n",
       "\n",
       "    .dataframe tbody tr th {\n",
       "        vertical-align: top;\n",
       "    }\n",
       "\n",
       "    .dataframe thead th {\n",
       "        text-align: right;\n",
       "    }\n",
       "</style>\n",
       "<table border=\"1\" class=\"dataframe\">\n",
       "  <thead>\n",
       "    <tr style=\"text-align: right;\">\n",
       "      <th></th>\n",
       "      <th>New Born Baby</th>\n",
       "      <th>Income</th>\n",
       "    </tr>\n",
       "  </thead>\n",
       "  <tbody>\n",
       "    <tr>\n",
       "      <th>0</th>\n",
       "      <td>1.0</td>\n",
       "      <td>34759.727382</td>\n",
       "    </tr>\n",
       "    <tr>\n",
       "      <th>1</th>\n",
       "      <td>2.0</td>\n",
       "      <td>34396.008639</td>\n",
       "    </tr>\n",
       "  </tbody>\n",
       "</table>\n",
       "</div>"
      ],
      "text/plain": [
       "   New Born Baby        Income\n",
       "0            1.0  34759.727382\n",
       "1            2.0  34396.008639"
      ]
     },
     "execution_count": 61,
     "metadata": {},
     "output_type": "execute_result"
    }
   ],
   "source": [
    "fertility_wage_group=fertility_wage.groupby(['New Born Baby'])['Income'].mean()\n",
    "fertility_wage_group=pd.DataFrame(fertility_wage_group)\n",
    "fertility_wage_group.reset_index(inplace=True)\n",
    "fertility_wage_group"
   ]
  },
  {
   "cell_type": "markdown",
   "metadata": {},
   "source": [
    "The incomes don't differ a lot by just eyeballing the statistics we have based on whether a female gave birth in the past year or not. "
   ]
  },
  {
   "cell_type": "markdown",
   "metadata": {},
   "source": [
    "## 4.9 What role does age play in wage gap?"
   ]
  },
  {
   "cell_type": "markdown",
   "metadata": {},
   "source": [
    "The last check is about age. We think the people who is elder in the work place may get higher income."
   ]
  },
  {
   "cell_type": "code",
   "execution_count": 62,
   "metadata": {},
   "outputs": [
    {
     "data": {
      "text/html": [
       "<div>\n",
       "<style scoped>\n",
       "    .dataframe tbody tr th:only-of-type {\n",
       "        vertical-align: middle;\n",
       "    }\n",
       "\n",
       "    .dataframe tbody tr th {\n",
       "        vertical-align: top;\n",
       "    }\n",
       "\n",
       "    .dataframe thead th {\n",
       "        text-align: right;\n",
       "    }\n",
       "</style>\n",
       "<table border=\"1\" class=\"dataframe\">\n",
       "  <thead>\n",
       "    <tr style=\"text-align: right;\">\n",
       "      <th></th>\n",
       "      <th></th>\n",
       "      <th>Income</th>\n",
       "    </tr>\n",
       "    <tr>\n",
       "      <th>Gender</th>\n",
       "      <th>Age</th>\n",
       "      <th></th>\n",
       "    </tr>\n",
       "  </thead>\n",
       "  <tbody>\n",
       "    <tr>\n",
       "      <th rowspan=\"5\" valign=\"top\">1</th>\n",
       "      <th>16</th>\n",
       "      <td>372.596838</td>\n",
       "    </tr>\n",
       "    <tr>\n",
       "      <th>17</th>\n",
       "      <td>1280.625254</td>\n",
       "    </tr>\n",
       "    <tr>\n",
       "      <th>18</th>\n",
       "      <td>3078.573127</td>\n",
       "    </tr>\n",
       "    <tr>\n",
       "      <th>19</th>\n",
       "      <td>6326.358426</td>\n",
       "    </tr>\n",
       "    <tr>\n",
       "      <th>20</th>\n",
       "      <td>9212.325394</td>\n",
       "    </tr>\n",
       "    <tr>\n",
       "      <th>...</th>\n",
       "      <th>...</th>\n",
       "      <td>...</td>\n",
       "    </tr>\n",
       "    <tr>\n",
       "      <th rowspan=\"5\" valign=\"top\">2</th>\n",
       "      <th>87</th>\n",
       "      <td>446.897810</td>\n",
       "    </tr>\n",
       "    <tr>\n",
       "      <th>88</th>\n",
       "      <td>470.905923</td>\n",
       "    </tr>\n",
       "    <tr>\n",
       "      <th>89</th>\n",
       "      <td>508.390805</td>\n",
       "    </tr>\n",
       "    <tr>\n",
       "      <th>90</th>\n",
       "      <td>905.594406</td>\n",
       "    </tr>\n",
       "    <tr>\n",
       "      <th>94</th>\n",
       "      <td>354.696970</td>\n",
       "    </tr>\n",
       "  </tbody>\n",
       "</table>\n",
       "<p>152 rows × 1 columns</p>\n",
       "</div>"
      ],
      "text/plain": [
       "                 Income\n",
       "Gender Age             \n",
       "1      16    372.596838\n",
       "       17   1280.625254\n",
       "       18   3078.573127\n",
       "       19   6326.358426\n",
       "       20   9212.325394\n",
       "...                 ...\n",
       "2      87    446.897810\n",
       "       88    470.905923\n",
       "       89    508.390805\n",
       "       90    905.594406\n",
       "       94    354.696970\n",
       "\n",
       "[152 rows x 1 columns]"
      ]
     },
     "execution_count": 62,
     "metadata": {},
     "output_type": "execute_result"
    }
   ],
   "source": [
    "ca2019[['Gender','Age','Income']].groupby(['Gender','Age']).mean()"
   ]
  },
  {
   "cell_type": "markdown",
   "metadata": {},
   "source": [
    "### 4.9.1 2x2 table, rows: age <65 and >=65, columns: income >= 50000, income < 50000, use chi-squared test"
   ]
  },
  {
   "cell_type": "markdown",
   "metadata": {},
   "source": [
    "H_0: No association between people younger than the retirement age 65 and people are older than 65 and incomes. \n",
    "\n",
    "H_a: There's some association between age and income.\n",
    "\n",
    "We choose to use 65 years old as the criteria as the retirement age is 65."
   ]
  },
  {
   "cell_type": "code",
   "execution_count": 63,
   "metadata": {},
   "outputs": [
    {
     "data": {
      "text/html": [
       "<div>\n",
       "<style scoped>\n",
       "    .dataframe tbody tr th:only-of-type {\n",
       "        vertical-align: middle;\n",
       "    }\n",
       "\n",
       "    .dataframe tbody tr th {\n",
       "        vertical-align: top;\n",
       "    }\n",
       "\n",
       "    .dataframe thead th {\n",
       "        text-align: right;\n",
       "    }\n",
       "</style>\n",
       "<table border=\"1\" class=\"dataframe\">\n",
       "  <thead>\n",
       "    <tr style=\"text-align: right;\">\n",
       "      <th></th>\n",
       "      <th>Gender</th>\n",
       "      <th>Age</th>\n",
       "      <th>Income</th>\n",
       "      <th>Age Greater</th>\n",
       "      <th>Income Greater</th>\n",
       "    </tr>\n",
       "  </thead>\n",
       "  <tbody>\n",
       "    <tr>\n",
       "      <th>0</th>\n",
       "      <td>2</td>\n",
       "      <td>58</td>\n",
       "      <td>23100.0</td>\n",
       "      <td>False</td>\n",
       "      <td>False</td>\n",
       "    </tr>\n",
       "    <tr>\n",
       "      <th>1</th>\n",
       "      <td>1</td>\n",
       "      <td>66</td>\n",
       "      <td>0.0</td>\n",
       "      <td>True</td>\n",
       "      <td>False</td>\n",
       "    </tr>\n",
       "    <tr>\n",
       "      <th>2</th>\n",
       "      <td>2</td>\n",
       "      <td>18</td>\n",
       "      <td>6000.0</td>\n",
       "      <td>False</td>\n",
       "      <td>False</td>\n",
       "    </tr>\n",
       "    <tr>\n",
       "      <th>3</th>\n",
       "      <td>1</td>\n",
       "      <td>58</td>\n",
       "      <td>0.0</td>\n",
       "      <td>False</td>\n",
       "      <td>False</td>\n",
       "    </tr>\n",
       "    <tr>\n",
       "      <th>4</th>\n",
       "      <td>2</td>\n",
       "      <td>18</td>\n",
       "      <td>2000.0</td>\n",
       "      <td>False</td>\n",
       "      <td>False</td>\n",
       "    </tr>\n",
       "  </tbody>\n",
       "</table>\n",
       "</div>"
      ],
      "text/plain": [
       "   Gender  Age   Income  Age Greater  Income Greater\n",
       "0       2   58  23100.0        False           False\n",
       "1       1   66      0.0         True           False\n",
       "2       2   18   6000.0        False           False\n",
       "3       1   58      0.0        False           False\n",
       "4       2   18   2000.0        False           False"
      ]
     },
     "execution_count": 63,
     "metadata": {},
     "output_type": "execute_result"
    }
   ],
   "source": [
    "age_gender=ca2019[['Gender','Age','Income']]\n",
    "age_gender['Age Greater']=age_gender['Age']>=65\n",
    "age_gender['Income Greater']=age_gender['Income'] >= 50000\n",
    "age_gender.head()"
   ]
  },
  {
   "cell_type": "code",
   "execution_count": 64,
   "metadata": {},
   "outputs": [
    {
     "data": {
      "text/plain": [
       "0.0"
      ]
     },
     "execution_count": 64,
     "metadata": {},
     "output_type": "execute_result"
    }
   ],
   "source": [
    "contingency2= pd.crosstab(age_gender['Age Greater'], wage_edu['Income Greater']) \n",
    "c, p, dof, expected = stats.chi2_contingency(contingency2)\n",
    "p"
   ]
  },
  {
   "cell_type": "code",
   "execution_count": 65,
   "metadata": {},
   "outputs": [
    {
     "data": {
      "text/html": [
       "<div>\n",
       "<style scoped>\n",
       "    .dataframe tbody tr th:only-of-type {\n",
       "        vertical-align: middle;\n",
       "    }\n",
       "\n",
       "    .dataframe tbody tr th {\n",
       "        vertical-align: top;\n",
       "    }\n",
       "\n",
       "    .dataframe thead th {\n",
       "        text-align: right;\n",
       "    }\n",
       "</style>\n",
       "<table border=\"1\" class=\"dataframe\">\n",
       "  <thead>\n",
       "    <tr style=\"text-align: right;\">\n",
       "      <th></th>\n",
       "      <th>Less than 50000</th>\n",
       "      <th>More than 50000</th>\n",
       "    </tr>\n",
       "  </thead>\n",
       "  <tbody>\n",
       "    <tr>\n",
       "      <th>&lt; 65 yr</th>\n",
       "      <td>180471.595717</td>\n",
       "      <td>62894.404283</td>\n",
       "    </tr>\n",
       "    <tr>\n",
       "      <th>&gt;= 65 yr</th>\n",
       "      <td>52007.404283</td>\n",
       "      <td>18124.595717</td>\n",
       "    </tr>\n",
       "  </tbody>\n",
       "</table>\n",
       "</div>"
      ],
      "text/plain": [
       "          Less than 50000  More than 50000\n",
       "< 65 yr     180471.595717     62894.404283\n",
       ">= 65 yr     52007.404283     18124.595717"
      ]
     },
     "execution_count": 65,
     "metadata": {},
     "output_type": "execute_result"
    }
   ],
   "source": [
    "expected_table2 = pd.DataFrame(expected,\\\n",
    "                                        index = ['< 65 yr',\n",
    "                                                '>= 65 yr'],\\\n",
    "                                        columns = ['Less than 50000', 'More than 50000'])\n",
    "expected_table2"
   ]
  },
  {
   "cell_type": "markdown",
   "metadata": {},
   "source": [
    "Since our p-value is extremely small, we could conclude that there is convincing evidence of an association between age and income. Just by eyeballing the table we have, people who are <65 yr, the retirement age, have a higher income than people who retired. "
   ]
  },
  {
   "cell_type": "markdown",
   "metadata": {},
   "source": [
    "For section 4.10-4.13, we are going to use the Kruskal-Wallis H-test for the samples using different variables. Since our numerical variable, income, is not normally distributed, the  Kruskal-Wallis H-test is suitable as it tests the null hypothesis that the population median, instead of the mean, of all the groups are equal. We will use a significance level of 0.05. "
   ]
  },
  {
   "cell_type": "code",
   "execution_count": 66,
   "metadata": {},
   "outputs": [],
   "source": [
    "from numpy.random import seed\n",
    "from numpy.random import randn\n",
    "from scipy.stats import kruskal"
   ]
  },
  {
   "cell_type": "markdown",
   "metadata": {},
   "source": [
    "## 4.10 Education Revisited"
   ]
  },
  {
   "cell_type": "markdown",
   "metadata": {},
   "source": [
    "H_0: The population medians are equal across different education attainment groups. \n",
    "\n",
    "H_a: The population medians are not equal.\n",
    "\n",
    "We look at three groups, group with a high school education but no degree, group with college education but no degree, and group with college degree and above."
   ]
  },
  {
   "cell_type": "code",
   "execution_count": 67,
   "metadata": {},
   "outputs": [],
   "source": [
    "#no high school diploma\n",
    "wage_edu1 = wage_edu[wage_edu['Highest Education Level'] <= 15]['Income']\n",
    "#no college degree\n",
    "wage_edu2 = wage_edu[(wage_edu['Highest Education Level'] > 16) & (wage_edu['Highest Education Level'] <= 19)]['Income']\n",
    "#some college degree and above\n",
    "wage_edu3 = wage_edu[wage_edu['Highest Education Level'] > 19]['Income']"
   ]
  },
  {
   "cell_type": "code",
   "execution_count": 68,
   "metadata": {},
   "outputs": [
    {
     "data": {
      "text/plain": [
       "3             0.0\n",
       "9             0.0\n",
       "10            0.0\n",
       "13            0.0\n",
       "28            0.0\n",
       "           ...   \n",
       "380082        0.0\n",
       "380084    38000.0\n",
       "380085        0.0\n",
       "380087        0.0\n",
       "380088        0.0\n",
       "Name: Income, Length: 51009, dtype: float64"
      ]
     },
     "execution_count": 68,
     "metadata": {},
     "output_type": "execute_result"
    }
   ],
   "source": [
    "wage_edu1"
   ]
  },
  {
   "cell_type": "code",
   "execution_count": 69,
   "metadata": {},
   "outputs": [
    {
     "data": {
      "text/plain": [
       "27674.958198116474"
      ]
     },
     "execution_count": 69,
     "metadata": {},
     "output_type": "execute_result"
    }
   ],
   "source": [
    "stat, p = kruskal(wage_edu1, wage_edu2, wage_edu3)\n",
    "stat"
   ]
  },
  {
   "cell_type": "code",
   "execution_count": 70,
   "metadata": {},
   "outputs": [
    {
     "data": {
      "text/plain": [
       "0.0"
      ]
     },
     "execution_count": 70,
     "metadata": {},
     "output_type": "execute_result"
    }
   ],
   "source": [
    "p"
   ]
  },
  {
   "cell_type": "markdown",
   "metadata": {},
   "source": [
    "Since our p-value is extremely small, we could conclude that there is convincing evidence of an association between education attainment and income. The Kruskal-Wallis H-test again confirms our conclusion earlier using the Chi-squared test."
   ]
  },
  {
   "cell_type": "markdown",
   "metadata": {},
   "source": [
    "## 4.11 Marital status Revisited"
   ]
  },
  {
   "cell_type": "markdown",
   "metadata": {},
   "source": [
    "H_0: The population medians are equal across different marital status groups. \n",
    "\n",
    "H_a: The population medians are not equal.\n",
    "\n",
    "We look at people who are married and people who are single."
   ]
  },
  {
   "cell_type": "code",
   "execution_count": 71,
   "metadata": {},
   "outputs": [],
   "source": [
    "#married\n",
    "marriage_wage1 = marraiage_wage[marraiage_wage['Marriage Status']== 1]['Income']\n",
    "#single\n",
    "marriage_wage2 = marraiage_wage[(marraiage_wage['Marriage Status']== 2) |\n",
    "                              (marraiage_wage['Marriage Status']== 3) |\n",
    "                              (marraiage_wage['Marriage Status']== 4)]['Income']"
   ]
  },
  {
   "cell_type": "code",
   "execution_count": 72,
   "metadata": {},
   "outputs": [
    {
     "data": {
      "text/plain": [
       "6051.950960852627"
      ]
     },
     "execution_count": 72,
     "metadata": {},
     "output_type": "execute_result"
    }
   ],
   "source": [
    "stat, p = kruskal(marriage_wage1, marriage_wage2)\n",
    "stat"
   ]
  },
  {
   "cell_type": "code",
   "execution_count": 73,
   "metadata": {},
   "outputs": [
    {
     "data": {
      "text/plain": [
       "0.0"
      ]
     },
     "execution_count": 73,
     "metadata": {},
     "output_type": "execute_result"
    }
   ],
   "source": [
    "p"
   ]
  },
  {
   "cell_type": "markdown",
   "metadata": {},
   "source": [
    "Since our p-value is extremely small, we could conclude that there is convincing evidence of an association between marriage status and income. The Kruskal-Wallis H-test again confirms our conclusion earlier using the Chi-squared test."
   ]
  },
  {
   "cell_type": "markdown",
   "metadata": {},
   "source": [
    "## 4.12 Fertility Rate"
   ]
  },
  {
   "cell_type": "markdown",
   "metadata": {},
   "source": [
    "H_0: The population medians are equal no matter people giving birth in the past year or not. \n",
    "\n",
    "H_a: The population medians are not equal."
   ]
  },
  {
   "cell_type": "code",
   "execution_count": 74,
   "metadata": {},
   "outputs": [],
   "source": [
    "### preganant in the last 12 month\n",
    "fertility_wage1 = fertility_wage[fertility_wage['New Born Baby']==1]['Income']\n",
    "### not pregnant in the last 12 month\n",
    "fertility_wage2 = fertility_wage[fertility_wage['New Born Baby']==2]['Income']"
   ]
  },
  {
   "cell_type": "code",
   "execution_count": 75,
   "metadata": {},
   "outputs": [],
   "source": [
    "stat, p = kruskal(fertility_wage1, fertility_wage2)"
   ]
  },
  {
   "cell_type": "code",
   "execution_count": 76,
   "metadata": {},
   "outputs": [
    {
     "data": {
      "text/plain": [
       "10.121815649902985"
      ]
     },
     "execution_count": 76,
     "metadata": {},
     "output_type": "execute_result"
    }
   ],
   "source": [
    "stat"
   ]
  },
  {
   "cell_type": "code",
   "execution_count": 77,
   "metadata": {},
   "outputs": [
    {
     "data": {
      "text/plain": [
       "0.0014652458700407333"
      ]
     },
     "execution_count": 77,
     "metadata": {},
     "output_type": "execute_result"
    }
   ],
   "source": [
    "p"
   ]
  },
  {
   "cell_type": "markdown",
   "metadata": {},
   "source": [
    "Since our p-value is extremely small, we could conclude that there is convincing evidence of an association between fertility  rate and income. The Kruskal-Wallis H-test has a different test result from  the Chi-squared test. We would prefer to accept the Kruskal-Wallis H-test results as it is a rank-based test which is more suitable in our case since we have a right skewed dataset. "
   ]
  },
  {
   "cell_type": "markdown",
   "metadata": {},
   "source": [
    "## 4.13 Age Revisited"
   ]
  },
  {
   "cell_type": "markdown",
   "metadata": {},
   "source": [
    "H_0: No association between people younger than the retirement age 65 and people are older than 65 and incomes. The population medians are equal. \n",
    "\n",
    "H_a: There's some association between age and income. The population medians are not equal.\n",
    "\n",
    "We choose to use 65 years old as the criteria as the retirement age is 65."
   ]
  },
  {
   "cell_type": "code",
   "execution_count": 78,
   "metadata": {},
   "outputs": [],
   "source": [
    "### below retirement age\n",
    "age_gender1 = age_gender[age_gender['Age'] <65 ]['Income']\n",
    "### above retirement age\n",
    "age_gender2 = age_gender[age_gender['Age'] >= 65 ]['Income']"
   ]
  },
  {
   "cell_type": "code",
   "execution_count": 79,
   "metadata": {},
   "outputs": [
    {
     "data": {
      "text/plain": [
       "49721.22930477215"
      ]
     },
     "execution_count": 79,
     "metadata": {},
     "output_type": "execute_result"
    }
   ],
   "source": [
    "stat, p = kruskal(age_gender1, age_gender2)\n",
    "stat"
   ]
  },
  {
   "cell_type": "code",
   "execution_count": 80,
   "metadata": {},
   "outputs": [
    {
     "data": {
      "text/plain": [
       "0.0"
      ]
     },
     "execution_count": 80,
     "metadata": {},
     "output_type": "execute_result"
    }
   ],
   "source": [
    "p"
   ]
  },
  {
   "cell_type": "markdown",
   "metadata": {},
   "source": [
    "Since our p-value is extremely small, we could conclude that there is convincing evidence of an association between age and income. The Kruskal-Wallis H-test confirms the result from the Chi-squared test. "
   ]
  },
  {
   "cell_type": "markdown",
   "metadata": {},
   "source": [
    "Summary: We found that there's indeed a significant difference between male wage and female wage by performing a t-test. We then investigated other possible factors that could cause the wage gap by using Chi-squared test and Kruskal-Wallis H test. In particular, we found that education, marital status, fertility rate, and age are four strong indicators of incomes. "
   ]
  },
  {
   "cell_type": "markdown",
   "metadata": {},
   "source": [
    "# Ethics & Privacy"
   ]
  },
  {
   "cell_type": "markdown",
   "metadata": {},
   "source": [
    "The dataset we utilize in this project should be made available to the public with no additional personal information that would disclose any privacy information. In datasets that describe sensitive variables such as the educational rate, marriage and pregnancy, and gender wage gap, personally identifiable information should have been already removed. We would take extra effort to check and make sure that any information that may contain or disclose personal identity will be removed. \n",
    " \n",
    "We are not given the information of who and when had collected the data. Therefore there might be inherent bias during data collection. We are aware that our data won’t be perfect in the sense that there will be inconsistencies and missing data. Ethical challenges arise as we are embarking on a socially sensitive topic, and we are aware that this is a complicated issue which cannot be possibly explained by the three proposed factors. Our conclusions drawn from our analysis shouldn’t be used against any social groups.\n",
    " \n",
    "Although our starting points come from the unequal treatment toward females, we will be neutral when we do the data analysis. We will also consider the probability that the situation of females has become better and better. We all know that the different groups in society try to make gender equity between two genders. There may be some changes in a female's working situation. \n",
    " \n",
    "We hope to raise social awareness of the gender wage gap in employment. We do not want this analysis to be used as a tool against any social groups in the society. We don’t want to set the different genders into the opposite position, but stand together to solve the social problem. \n",
    " \n",
    "The implications of our project is to inspire further research on the gender wage gap. There are many other social factors other than the ones we discussed in our research. We hope that in the future, more people will be involved in the research of the social factors affecting the gender wage gap, and to raise awareness of such issues, creating a more inclusive working environment for all social groups. "
   ]
  },
  {
   "cell_type": "markdown",
   "metadata": {},
   "source": [
    "# Conclusion & Discussion"
   ]
  },
  {
   "cell_type": "markdown",
   "metadata": {},
   "source": [
    "The goal of our study is to find out if there’s a significant wage gap between male and female in recent years. We are also interested in looking at some of the social factors that are correlated with the wage gap. More specifically, we are looking at social factors such as education, marital status, fertility rate, and age. We are aware that we are embarking on a socially sensitive topic, which would have complications in different parts of the world. We choose to limit our scope to 2019 in California. Our dataset includes individual information on demographic features, which allows us to do inferential statistics to find out the relationship between variables. \n",
    "\n",
    "By performing t-test, we are able to conclude that there’s a significant gender wage gap in the dataset since the p-value is extremely small. By performing Chi-squared test and Kruskal-Wallis H test, we are able to conclude that the four variables are correlated to the wage gap as the p-values are extremely small.\n",
    "\n",
    "We want to note that there are many other social factors that could contribute to the wage gap, such as race and parents’ education level. We are also aware that our research is only a start of the complicated social problems and that numbers alone are not enough to explain it. For example, we know that married people tend to have higher income than people who are single; people with higher education level tend to have higher income; people who gave birth in the past year tend to earn less; and that people who are younger than the retirement age tend to earn more. Some of them are results of more complicated social problems. For example, higher education levels could be caused by different styles of parenting, childhood trauma, and social environment. We hope that our research could raise social awareness of deeper social issues, and inspire other researchers to dig deeper into them.\n"
   ]
  },
  {
   "cell_type": "markdown",
   "metadata": {},
   "source": [
    "# Team Contributions"
   ]
  },
  {
   "cell_type": "markdown",
   "metadata": {},
   "source": [
    "- Hongxin Song is our background researcher collecting all the related information, while also contributing to the overall project in different ways. \n",
    "- Yueyan Tang is our group leader. She is responsible for the overall data analysis including Data cleaning, Wrangling and EDA. She also made the final project presentation. \n",
    "- Xiang Liu was our code expert and had been working on the python code section and incorporating all the parts into the final project. \n",
    "- Ruojia Tao was our visualization specialist and spent most of the time improving the readability of our graphs and adding descriptions. "
   ]
  },
  {
   "cell_type": "code",
   "execution_count": null,
   "metadata": {},
   "outputs": [],
   "source": []
  }
 ],
 "metadata": {
  "kernelspec": {
   "display_name": "Python 3",
   "language": "python",
   "name": "python3"
  },
  "language_info": {
   "codemirror_mode": {
    "name": "ipython",
    "version": 3
   },
   "file_extension": ".py",
   "mimetype": "text/x-python",
   "name": "python",
   "nbconvert_exporter": "python",
   "pygments_lexer": "ipython3",
   "version": "3.7.9"
  }
 },
 "nbformat": 4,
 "nbformat_minor": 2
}
