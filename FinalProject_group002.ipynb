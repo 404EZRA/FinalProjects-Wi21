{
 "cells": [
  {
   "cell_type": "markdown",
   "metadata": {},
   "source": [
    "# Gen Y can’t millennials afford housing? (group002)"
   ]
  },
  {
   "cell_type": "markdown",
   "metadata": {},
   "source": [
    "# Overview"
   ]
  },
  {
   "cell_type": "markdown",
   "metadata": {},
   "source": [
    "A growing concern for many millennials is the inability to own a house earlier in life and experience financial stability that seems to have come more easily to older generations. In order to determine if such an issue exists, we set out to examine whether there was a correlation between the average age of individuals living in an area and the cost of living in that same area. We hypothesized that the median housing value would increase as the median age increased which we based on the notion that older people tend to have more financial stability and wealth than younger generations. Similarly, we assumed that places with higher average property values would also, on average, have a higher population of older people. Despite running different analyses on our data, we were not able to conclusively find a clear relationship between the variables because we did not have sufficient data to answer our research question."
   ]
  },
  {
   "cell_type": "markdown",
   "metadata": {},
   "source": [
    "# Names\n",
    "\n",
    "- Akil Iyer\n",
    "- Casey Lee\n",
    "- Doanh Thai\n",
    "- Sepideh Kiumarsi"
   ]
  },
  {
   "cell_type": "markdown",
   "metadata": {},
   "source": [
    "<a id='research_question'></a>\n",
    "# Research Question"
   ]
  },
  {
   "cell_type": "markdown",
   "metadata": {},
   "source": [
    "Was there a relationship between the median age and the median cost of living across congressional districts in a given state in 2019?"
   ]
  },
  {
   "cell_type": "markdown",
   "metadata": {},
   "source": [
    "<a id='background'></a>\n",
    "\n",
    "## Background & Prior Work"
   ]
  },
  {
   "cell_type": "markdown",
   "metadata": {},
   "source": [
    "Recently, there has been more scrutiny of younger generations’ ability to afford to buy homes. Some literature on this issue supports the position that, for younger generations, it seems as though the path is not as easy as it was for their grandparents. Noah Smith notes that “[m]illennials can’t afford homes after exiting the basement.” In fact, in 2019, millennials only possessed one-third of the US housing stock (5%) compared to previous generations at the same age (15%). As this is a problem that directly relates to us, we were interested in finding out whether the data shows that young people have disproportionately fewer homes than their older counterparts. As Smith states, one possible solution to this problem is implementing new policies that will increase housing ownership while also bridging the gap of wealth between millennials and older generations. By stating policies that aim to bridge age gaps in housing disparities, the researchers argue that age is a primary factor contributing to younger generations owning less housing stock.\n",
    "\n",
    "Not everyone agrees, however, that this issue exists outside of these individuals’ social control. In fact, one supporter of this view is Aaron Hankin, who states in “The real reason millennials aren’t buying homes,” that rather than only one reason contributing to this concerning problem, there are many possible reasons that separate today’s youth from their predecessors — marriageable age, student debt, location, and affordability, for example. We decided to use data from the 2019 US census database in order to see whether age and affordability could be proven by data as one of these differences and to see whether there was a link between these two variables"
   ]
  },
  {
   "cell_type": "markdown",
   "metadata": {},
   "source": [
    "# Hypothesis\n"
   ]
  },
  {
   "cell_type": "markdown",
   "metadata": {},
   "source": [
    "We hypothesize that, in the United States, younger people are subjected to higher costs of living than older people due to the increasing discrepancy between cost of living and household income."
   ]
  },
  {
   "cell_type": "markdown",
   "metadata": {},
   "source": [
    "# Dataset(s)"
   ]
  },
  {
   "cell_type": "markdown",
   "metadata": {},
   "source": [
    "### **Dataset Name: List of Congressional Districts**\n",
    "- **Link to the dataset**: https://en.wikipedia.org/wiki/Cook_Partisan_Voting_Index (web-scraped wikitable)\n",
    "- **Features/variables included**: District, PVI, Party of Representative - only District to be retained\n",
    "- **Number of observations**: 435 congressional districts\n",
    "- **Dataset description**: This Wikipedia page includes a table that lists all of the congressional districts in the United States using the format \"{State} {District #}\", which is helpful for us to pull out as a `Series` from the table after passing it into `pandas` as a `DataFrame`. This list is then edited to use to access the census .CSV files described below.\n",
    "\n",
    "\n",
    "### **Dataset Name: 2019 Census of the United States of America**\n",
    "- **Link to the dataset**: https://www.census.gov/mycd/ (CSV download option at the bottom right after state/district selection)\n",
    "- **Features/variables included**: we use median age by congressional district, median housing value by congressional district\n",
    "- **Number of observations**: 435 congressional districts via 50 states\n",
    "- **Dataset description**: The census data is in the .CSV format and includes estimates and margins of error for each congressional district in the United States. Data for a given congressional district can be found in the file for the state in which it can be found, which applies to cases where a state is a district at-large and where there are multiple congressional districts in a given state. Rows pertain to a given question on the census and its answer, with the first few columns specifying the categories of the question and the following columns representing the values provided as the answers. For each congressional district, an estimate of the value is provided in a column with the margin of error for that value in the following column. Though we do not necessarily plan to use multiple datasets per se, the .CSV data we are downloading from the website above comes in a separate file for each state, so we have 50 files with parallel semi-structured data."
   ]
  },
  {
   "cell_type": "markdown",
   "metadata": {},
   "source": [
    "# Setup"
   ]
  },
  {
   "cell_type": "code",
   "execution_count": 1,
   "metadata": {},
   "outputs": [
    {
     "data": {
      "text/html": [
       "<div>\n",
       "<style scoped>\n",
       "    .dataframe tbody tr th:only-of-type {\n",
       "        vertical-align: middle;\n",
       "    }\n",
       "\n",
       "    .dataframe tbody tr th {\n",
       "        vertical-align: top;\n",
       "    }\n",
       "\n",
       "    .dataframe thead th {\n",
       "        text-align: right;\n",
       "    }\n",
       "</style>\n",
       "<table border=\"1\" class=\"dataframe\">\n",
       "  <thead>\n",
       "    <tr style=\"text-align: right;\">\n",
       "      <th></th>\n",
       "      <th>District</th>\n",
       "      <th>PVI</th>\n",
       "      <th>Party ofrepresentative</th>\n",
       "    </tr>\n",
       "  </thead>\n",
       "  <tbody>\n",
       "    <tr>\n",
       "      <th>0</th>\n",
       "      <td>Alabama 1</td>\n",
       "      <td>R+15</td>\n",
       "      <td>Republican</td>\n",
       "    </tr>\n",
       "    <tr>\n",
       "      <th>1</th>\n",
       "      <td>Alabama 2</td>\n",
       "      <td>R+16</td>\n",
       "      <td>Republican</td>\n",
       "    </tr>\n",
       "    <tr>\n",
       "      <th>2</th>\n",
       "      <td>Alabama 3</td>\n",
       "      <td>R+16</td>\n",
       "      <td>Republican</td>\n",
       "    </tr>\n",
       "    <tr>\n",
       "      <th>3</th>\n",
       "      <td>Alabama 4</td>\n",
       "      <td>R+30</td>\n",
       "      <td>Republican</td>\n",
       "    </tr>\n",
       "    <tr>\n",
       "      <th>4</th>\n",
       "      <td>Alabama 5</td>\n",
       "      <td>R+18</td>\n",
       "      <td>Republican</td>\n",
       "    </tr>\n",
       "    <tr>\n",
       "      <th>...</th>\n",
       "      <td>...</td>\n",
       "      <td>...</td>\n",
       "      <td>...</td>\n",
       "    </tr>\n",
       "    <tr>\n",
       "      <th>430</th>\n",
       "      <td>Wisconsin 5</td>\n",
       "      <td>R+13</td>\n",
       "      <td>Republican</td>\n",
       "    </tr>\n",
       "    <tr>\n",
       "      <th>431</th>\n",
       "      <td>Wisconsin 6</td>\n",
       "      <td>R+8</td>\n",
       "      <td>Republican</td>\n",
       "    </tr>\n",
       "    <tr>\n",
       "      <th>432</th>\n",
       "      <td>Wisconsin 7</td>\n",
       "      <td>R+8</td>\n",
       "      <td>Republican</td>\n",
       "    </tr>\n",
       "    <tr>\n",
       "      <th>433</th>\n",
       "      <td>Wisconsin 8</td>\n",
       "      <td>R+7</td>\n",
       "      <td>Republican</td>\n",
       "    </tr>\n",
       "    <tr>\n",
       "      <th>434</th>\n",
       "      <td>Wyoming at-large</td>\n",
       "      <td>R+25</td>\n",
       "      <td>Republican</td>\n",
       "    </tr>\n",
       "  </tbody>\n",
       "</table>\n",
       "<p>435 rows × 3 columns</p>\n",
       "</div>"
      ],
      "text/plain": [
       "             District   PVI Party ofrepresentative\n",
       "0           Alabama 1  R+15             Republican\n",
       "1           Alabama 2  R+16             Republican\n",
       "2           Alabama 3  R+16             Republican\n",
       "3           Alabama 4  R+30             Republican\n",
       "4           Alabama 5  R+18             Republican\n",
       "..                ...   ...                    ...\n",
       "430       Wisconsin 5  R+13             Republican\n",
       "431       Wisconsin 6   R+8             Republican\n",
       "432       Wisconsin 7   R+8             Republican\n",
       "433       Wisconsin 8   R+7             Republican\n",
       "434  Wyoming at-large  R+25             Republican\n",
       "\n",
       "[435 rows x 3 columns]"
      ]
     },
     "execution_count": 1,
     "metadata": {},
     "output_type": "execute_result"
    }
   ],
   "source": [
    "import warnings\n",
    "warnings.filterwarnings('ignore')\n",
    "\n",
    "import numpy as np\n",
    "import pandas as pd\n",
    "import seaborn as sns\n",
    "import matplotlib.pyplot as plt\n",
    "\n",
    "sns.set(context = 'talk', style='white')\n",
    "plt.rcParams['figure.figsize'] = (20, 10)\n",
    "\n",
    "df = pd.DataFrame(pd.read_html('https://en.wikipedia.org/wiki/Cook_Partisan_Voting_Index')[0])\n",
    "df"
   ]
  },
  {
   "cell_type": "markdown",
   "metadata": {},
   "source": [
    "# Data Cleaning"
   ]
  },
  {
   "cell_type": "markdown",
   "metadata": {},
   "source": [
    "After importing the congressional districts table, we drop the non-`district` columns, and construct a column for the state. We create filenames to refer to the .CSV census files using the state to access the file. The district column is then simplified to only refer to the number of the district within that state, removing the reference to the state from the district column altogether; this column is then used to access the value estimates from the data for the respective districts in a given state's .CSV file. Finally, we use these two columns to access our data of interest from what we refer to as our second dataset above and pull out the median age of a congressional district (`float`) and median housing value of a congressional district (`int`), appending it to its respective row in the final dataframe `df`. We choose this .CSV format because it ensures that it's tidy, that each row corresponds to a single data point (a congressional district), and that the columns pertain to a variable, which is something that was not provided natively in the .CSV files we downloaded directly from the census website."
   ]
  },
  {
   "cell_type": "markdown",
   "metadata": {},
   "source": [
    "First, we standardize the naming of the columns and only retain the 'district' column."
   ]
  },
  {
   "cell_type": "code",
   "execution_count": 2,
   "metadata": {},
   "outputs": [
    {
     "data": {
      "text/html": [
       "<div>\n",
       "<style scoped>\n",
       "    .dataframe tbody tr th:only-of-type {\n",
       "        vertical-align: middle;\n",
       "    }\n",
       "\n",
       "    .dataframe tbody tr th {\n",
       "        vertical-align: top;\n",
       "    }\n",
       "\n",
       "    .dataframe thead th {\n",
       "        text-align: right;\n",
       "    }\n",
       "</style>\n",
       "<table border=\"1\" class=\"dataframe\">\n",
       "  <thead>\n",
       "    <tr style=\"text-align: right;\">\n",
       "      <th></th>\n",
       "      <th>district</th>\n",
       "      <th>state</th>\n",
       "    </tr>\n",
       "  </thead>\n",
       "  <tbody>\n",
       "    <tr>\n",
       "      <th>0</th>\n",
       "      <td>Alabama 1</td>\n",
       "      <td>Alabama</td>\n",
       "    </tr>\n",
       "    <tr>\n",
       "      <th>1</th>\n",
       "      <td>Alabama 2</td>\n",
       "      <td>Alabama</td>\n",
       "    </tr>\n",
       "    <tr>\n",
       "      <th>2</th>\n",
       "      <td>Alabama 3</td>\n",
       "      <td>Alabama</td>\n",
       "    </tr>\n",
       "    <tr>\n",
       "      <th>3</th>\n",
       "      <td>Alabama 4</td>\n",
       "      <td>Alabama</td>\n",
       "    </tr>\n",
       "    <tr>\n",
       "      <th>4</th>\n",
       "      <td>Alabama 5</td>\n",
       "      <td>Alabama</td>\n",
       "    </tr>\n",
       "    <tr>\n",
       "      <th>...</th>\n",
       "      <td>...</td>\n",
       "      <td>...</td>\n",
       "    </tr>\n",
       "    <tr>\n",
       "      <th>430</th>\n",
       "      <td>Wisconsin 5</td>\n",
       "      <td>Wisconsin</td>\n",
       "    </tr>\n",
       "    <tr>\n",
       "      <th>431</th>\n",
       "      <td>Wisconsin 6</td>\n",
       "      <td>Wisconsin</td>\n",
       "    </tr>\n",
       "    <tr>\n",
       "      <th>432</th>\n",
       "      <td>Wisconsin 7</td>\n",
       "      <td>Wisconsin</td>\n",
       "    </tr>\n",
       "    <tr>\n",
       "      <th>433</th>\n",
       "      <td>Wisconsin 8</td>\n",
       "      <td>Wisconsin</td>\n",
       "    </tr>\n",
       "    <tr>\n",
       "      <th>434</th>\n",
       "      <td>Wyoming at-large</td>\n",
       "      <td>Wyoming</td>\n",
       "    </tr>\n",
       "  </tbody>\n",
       "</table>\n",
       "<p>435 rows × 2 columns</p>\n",
       "</div>"
      ],
      "text/plain": [
       "             district      state\n",
       "0           Alabama 1    Alabama\n",
       "1           Alabama 2    Alabama\n",
       "2           Alabama 3    Alabama\n",
       "3           Alabama 4    Alabama\n",
       "4           Alabama 5    Alabama\n",
       "..                ...        ...\n",
       "430       Wisconsin 5  Wisconsin\n",
       "431       Wisconsin 6  Wisconsin\n",
       "432       Wisconsin 7  Wisconsin\n",
       "433       Wisconsin 8  Wisconsin\n",
       "434  Wyoming at-large    Wyoming\n",
       "\n",
       "[435 rows x 2 columns]"
      ]
     },
     "execution_count": 2,
     "metadata": {},
     "output_type": "execute_result"
    }
   ],
   "source": [
    "[df.drop(columns=[col], inplace=True) for col in df.columns if col!='District']\n",
    "df.columns = df.columns.str.lower()\n",
    "df['state'] = [dist.split('\\xa0')[0] for dist in df.district]\n",
    "df"
   ]
  },
  {
   "cell_type": "markdown",
   "metadata": {},
   "source": [
    "Then, we construct a 'filenames' column that we use to access the census CSV data."
   ]
  },
  {
   "cell_type": "code",
   "execution_count": 3,
   "metadata": {},
   "outputs": [
    {
     "data": {
      "text/html": [
       "<div>\n",
       "<style scoped>\n",
       "    .dataframe tbody tr th:only-of-type {\n",
       "        vertical-align: middle;\n",
       "    }\n",
       "\n",
       "    .dataframe tbody tr th {\n",
       "        vertical-align: top;\n",
       "    }\n",
       "\n",
       "    .dataframe thead th {\n",
       "        text-align: right;\n",
       "    }\n",
       "</style>\n",
       "<table border=\"1\" class=\"dataframe\">\n",
       "  <thead>\n",
       "    <tr style=\"text-align: right;\">\n",
       "      <th></th>\n",
       "      <th>district</th>\n",
       "      <th>state</th>\n",
       "      <th>filenames</th>\n",
       "    </tr>\n",
       "  </thead>\n",
       "  <tbody>\n",
       "    <tr>\n",
       "      <th>0</th>\n",
       "      <td>Alabama 1</td>\n",
       "      <td>Alabama</td>\n",
       "      <td>Alabama_District_all.csv</td>\n",
       "    </tr>\n",
       "    <tr>\n",
       "      <th>1</th>\n",
       "      <td>Alabama 2</td>\n",
       "      <td>Alabama</td>\n",
       "      <td>Alabama_District_all.csv</td>\n",
       "    </tr>\n",
       "    <tr>\n",
       "      <th>2</th>\n",
       "      <td>Alabama 3</td>\n",
       "      <td>Alabama</td>\n",
       "      <td>Alabama_District_all.csv</td>\n",
       "    </tr>\n",
       "    <tr>\n",
       "      <th>3</th>\n",
       "      <td>Alabama 4</td>\n",
       "      <td>Alabama</td>\n",
       "      <td>Alabama_District_all.csv</td>\n",
       "    </tr>\n",
       "    <tr>\n",
       "      <th>4</th>\n",
       "      <td>Alabama 5</td>\n",
       "      <td>Alabama</td>\n",
       "      <td>Alabama_District_all.csv</td>\n",
       "    </tr>\n",
       "    <tr>\n",
       "      <th>...</th>\n",
       "      <td>...</td>\n",
       "      <td>...</td>\n",
       "      <td>...</td>\n",
       "    </tr>\n",
       "    <tr>\n",
       "      <th>430</th>\n",
       "      <td>Wisconsin 5</td>\n",
       "      <td>Wisconsin</td>\n",
       "      <td>Wisconsin_District_all.csv</td>\n",
       "    </tr>\n",
       "    <tr>\n",
       "      <th>431</th>\n",
       "      <td>Wisconsin 6</td>\n",
       "      <td>Wisconsin</td>\n",
       "      <td>Wisconsin_District_all.csv</td>\n",
       "    </tr>\n",
       "    <tr>\n",
       "      <th>432</th>\n",
       "      <td>Wisconsin 7</td>\n",
       "      <td>Wisconsin</td>\n",
       "      <td>Wisconsin_District_all.csv</td>\n",
       "    </tr>\n",
       "    <tr>\n",
       "      <th>433</th>\n",
       "      <td>Wisconsin 8</td>\n",
       "      <td>Wisconsin</td>\n",
       "      <td>Wisconsin_District_all.csv</td>\n",
       "    </tr>\n",
       "    <tr>\n",
       "      <th>434</th>\n",
       "      <td>Wyoming at-large</td>\n",
       "      <td>Wyoming</td>\n",
       "      <td>Wyoming_District_At_Large.csv</td>\n",
       "    </tr>\n",
       "  </tbody>\n",
       "</table>\n",
       "<p>435 rows × 3 columns</p>\n",
       "</div>"
      ],
      "text/plain": [
       "             district      state                      filenames\n",
       "0           Alabama 1    Alabama       Alabama_District_all.csv\n",
       "1           Alabama 2    Alabama       Alabama_District_all.csv\n",
       "2           Alabama 3    Alabama       Alabama_District_all.csv\n",
       "3           Alabama 4    Alabama       Alabama_District_all.csv\n",
       "4           Alabama 5    Alabama       Alabama_District_all.csv\n",
       "..                ...        ...                            ...\n",
       "430       Wisconsin 5  Wisconsin     Wisconsin_District_all.csv\n",
       "431       Wisconsin 6  Wisconsin     Wisconsin_District_all.csv\n",
       "432       Wisconsin 7  Wisconsin     Wisconsin_District_all.csv\n",
       "433       Wisconsin 8  Wisconsin     Wisconsin_District_all.csv\n",
       "434  Wyoming at-large    Wyoming  Wyoming_District_At_Large.csv\n",
       "\n",
       "[435 rows x 3 columns]"
      ]
     },
     "execution_count": 3,
     "metadata": {},
     "output_type": "execute_result"
    }
   ],
   "source": [
    "filenames = []\n",
    "\n",
    "for dist in df['district']:\n",
    "  if dist.split()[len(dist.split()) - 1][0] in '1234567890':\n",
    "    filenames.append(f'{\"_\".join(dist.split()[:len(dist.split()) - 1])}_District_all.csv')\n",
    "  else:\n",
    "    filenames.append(f\"{dist.replace(' ', '_').replace('at-large', '_District_At_Large')}.csv\")\n",
    "\n",
    "df['filenames'] = [file.replace('\\xa0', '') for file in filenames]\n",
    "df"
   ]
  },
  {
   "cell_type": "markdown",
   "metadata": {},
   "source": [
    "Then, we rename the 'district' column to a format compatible with how the data is stored in the census CSV files."
   ]
  },
  {
   "cell_type": "code",
   "execution_count": 4,
   "metadata": {},
   "outputs": [
    {
     "data": {
      "text/html": [
       "<div>\n",
       "<style scoped>\n",
       "    .dataframe tbody tr th:only-of-type {\n",
       "        vertical-align: middle;\n",
       "    }\n",
       "\n",
       "    .dataframe tbody tr th {\n",
       "        vertical-align: top;\n",
       "    }\n",
       "\n",
       "    .dataframe thead th {\n",
       "        text-align: right;\n",
       "    }\n",
       "</style>\n",
       "<table border=\"1\" class=\"dataframe\">\n",
       "  <thead>\n",
       "    <tr style=\"text-align: right;\">\n",
       "      <th></th>\n",
       "      <th>district</th>\n",
       "      <th>state</th>\n",
       "      <th>filenames</th>\n",
       "    </tr>\n",
       "  </thead>\n",
       "  <tbody>\n",
       "    <tr>\n",
       "      <th>0</th>\n",
       "      <td>District 01</td>\n",
       "      <td>Alabama</td>\n",
       "      <td>Alabama_District_all.csv</td>\n",
       "    </tr>\n",
       "    <tr>\n",
       "      <th>1</th>\n",
       "      <td>District 02</td>\n",
       "      <td>Alabama</td>\n",
       "      <td>Alabama_District_all.csv</td>\n",
       "    </tr>\n",
       "    <tr>\n",
       "      <th>2</th>\n",
       "      <td>District 03</td>\n",
       "      <td>Alabama</td>\n",
       "      <td>Alabama_District_all.csv</td>\n",
       "    </tr>\n",
       "    <tr>\n",
       "      <th>3</th>\n",
       "      <td>District 04</td>\n",
       "      <td>Alabama</td>\n",
       "      <td>Alabama_District_all.csv</td>\n",
       "    </tr>\n",
       "    <tr>\n",
       "      <th>4</th>\n",
       "      <td>District 05</td>\n",
       "      <td>Alabama</td>\n",
       "      <td>Alabama_District_all.csv</td>\n",
       "    </tr>\n",
       "    <tr>\n",
       "      <th>...</th>\n",
       "      <td>...</td>\n",
       "      <td>...</td>\n",
       "      <td>...</td>\n",
       "    </tr>\n",
       "    <tr>\n",
       "      <th>430</th>\n",
       "      <td>District 05</td>\n",
       "      <td>Wisconsin</td>\n",
       "      <td>Wisconsin_District_all.csv</td>\n",
       "    </tr>\n",
       "    <tr>\n",
       "      <th>431</th>\n",
       "      <td>District 06</td>\n",
       "      <td>Wisconsin</td>\n",
       "      <td>Wisconsin_District_all.csv</td>\n",
       "    </tr>\n",
       "    <tr>\n",
       "      <th>432</th>\n",
       "      <td>District 07</td>\n",
       "      <td>Wisconsin</td>\n",
       "      <td>Wisconsin_District_all.csv</td>\n",
       "    </tr>\n",
       "    <tr>\n",
       "      <th>433</th>\n",
       "      <td>District 08</td>\n",
       "      <td>Wisconsin</td>\n",
       "      <td>Wisconsin_District_all.csv</td>\n",
       "    </tr>\n",
       "    <tr>\n",
       "      <th>434</th>\n",
       "      <td>District (At Large)</td>\n",
       "      <td>Wyoming</td>\n",
       "      <td>Wyoming_District_At_Large.csv</td>\n",
       "    </tr>\n",
       "  </tbody>\n",
       "</table>\n",
       "<p>435 rows × 3 columns</p>\n",
       "</div>"
      ],
      "text/plain": [
       "                district      state                      filenames\n",
       "0            District 01    Alabama       Alabama_District_all.csv\n",
       "1            District 02    Alabama       Alabama_District_all.csv\n",
       "2            District 03    Alabama       Alabama_District_all.csv\n",
       "3            District 04    Alabama       Alabama_District_all.csv\n",
       "4            District 05    Alabama       Alabama_District_all.csv\n",
       "..                   ...        ...                            ...\n",
       "430          District 05  Wisconsin     Wisconsin_District_all.csv\n",
       "431          District 06  Wisconsin     Wisconsin_District_all.csv\n",
       "432          District 07  Wisconsin     Wisconsin_District_all.csv\n",
       "433          District 08  Wisconsin     Wisconsin_District_all.csv\n",
       "434  District (At Large)    Wyoming  Wyoming_District_At_Large.csv\n",
       "\n",
       "[435 rows x 3 columns]"
      ]
     },
     "execution_count": 4,
     "metadata": {},
     "output_type": "execute_result"
    }
   ],
   "source": [
    "distnums, newdist = ['1', '2', '3', '4' ,'5', '6', '7', '8', '9'], []\n",
    "for dist in df['district']:\n",
    "  if dist.split()[len(dist.split())-1] in distnums:\n",
    "    newdist.append(f'District 0{dist.split()[len(dist.split())-1]}')\n",
    "  elif dist.split()[len(dist.split())-1] == 'at-large':\n",
    "    newdist.append(f'District (At Large)')\n",
    "  else:\n",
    "    newdist.append(f'District {dist.split()[len(dist.split())-1]}')\n",
    "\n",
    "df['district'] = newdist\n",
    "df"
   ]
  },
  {
   "cell_type": "markdown",
   "metadata": {},
   "source": [
    "Finally, we extract the data we want to use - median age and median housing value for each district from the states' CSV files through the columns for their respective district(s)."
   ]
  },
  {
   "cell_type": "code",
   "execution_count": 5,
   "metadata": {},
   "outputs": [
    {
     "data": {
      "text/html": [
       "<div>\n",
       "<style scoped>\n",
       "    .dataframe tbody tr th:only-of-type {\n",
       "        vertical-align: middle;\n",
       "    }\n",
       "\n",
       "    .dataframe tbody tr th {\n",
       "        vertical-align: top;\n",
       "    }\n",
       "\n",
       "    .dataframe thead th {\n",
       "        text-align: right;\n",
       "    }\n",
       "</style>\n",
       "<table border=\"1\" class=\"dataframe\">\n",
       "  <thead>\n",
       "    <tr style=\"text-align: right;\">\n",
       "      <th></th>\n",
       "      <th>district</th>\n",
       "      <th>state</th>\n",
       "      <th>med_age</th>\n",
       "      <th>med_hous</th>\n",
       "    </tr>\n",
       "  </thead>\n",
       "  <tbody>\n",
       "    <tr>\n",
       "      <th>0</th>\n",
       "      <td>District 01</td>\n",
       "      <td>Alabama</td>\n",
       "      <td>40.4</td>\n",
       "      <td>160600</td>\n",
       "    </tr>\n",
       "    <tr>\n",
       "      <th>1</th>\n",
       "      <td>District 02</td>\n",
       "      <td>Alabama</td>\n",
       "      <td>39.0</td>\n",
       "      <td>135500</td>\n",
       "    </tr>\n",
       "    <tr>\n",
       "      <th>2</th>\n",
       "      <td>District 03</td>\n",
       "      <td>Alabama</td>\n",
       "      <td>38.9</td>\n",
       "      <td>144700</td>\n",
       "    </tr>\n",
       "    <tr>\n",
       "      <th>3</th>\n",
       "      <td>District 04</td>\n",
       "      <td>Alabama</td>\n",
       "      <td>41.1</td>\n",
       "      <td>132800</td>\n",
       "    </tr>\n",
       "    <tr>\n",
       "      <th>4</th>\n",
       "      <td>District 05</td>\n",
       "      <td>Alabama</td>\n",
       "      <td>39.7</td>\n",
       "      <td>173300</td>\n",
       "    </tr>\n",
       "    <tr>\n",
       "      <th>...</th>\n",
       "      <td>...</td>\n",
       "      <td>...</td>\n",
       "      <td>...</td>\n",
       "      <td>...</td>\n",
       "    </tr>\n",
       "    <tr>\n",
       "      <th>430</th>\n",
       "      <td>District 05</td>\n",
       "      <td>Wisconsin</td>\n",
       "      <td>42.5</td>\n",
       "      <td>252700</td>\n",
       "    </tr>\n",
       "    <tr>\n",
       "      <th>431</th>\n",
       "      <td>District 06</td>\n",
       "      <td>Wisconsin</td>\n",
       "      <td>42.0</td>\n",
       "      <td>174700</td>\n",
       "    </tr>\n",
       "    <tr>\n",
       "      <th>432</th>\n",
       "      <td>District 07</td>\n",
       "      <td>Wisconsin</td>\n",
       "      <td>45.0</td>\n",
       "      <td>168100</td>\n",
       "    </tr>\n",
       "    <tr>\n",
       "      <th>433</th>\n",
       "      <td>District 08</td>\n",
       "      <td>Wisconsin</td>\n",
       "      <td>40.8</td>\n",
       "      <td>180000</td>\n",
       "    </tr>\n",
       "    <tr>\n",
       "      <th>434</th>\n",
       "      <td>District (At Large)</td>\n",
       "      <td>Wyoming</td>\n",
       "      <td>38.1</td>\n",
       "      <td>235200</td>\n",
       "    </tr>\n",
       "  </tbody>\n",
       "</table>\n",
       "<p>435 rows × 4 columns</p>\n",
       "</div>"
      ],
      "text/plain": [
       "                district      state  med_age  med_hous\n",
       "0            District 01    Alabama     40.4    160600\n",
       "1            District 02    Alabama     39.0    135500\n",
       "2            District 03    Alabama     38.9    144700\n",
       "3            District 04    Alabama     41.1    132800\n",
       "4            District 05    Alabama     39.7    173300\n",
       "..                   ...        ...      ...       ...\n",
       "430          District 05  Wisconsin     42.5    252700\n",
       "431          District 06  Wisconsin     42.0    174700\n",
       "432          District 07  Wisconsin     45.0    168100\n",
       "433          District 08  Wisconsin     40.8    180000\n",
       "434  District (At Large)    Wyoming     38.1    235200\n",
       "\n",
       "[435 rows x 4 columns]"
      ]
     },
     "execution_count": 5,
     "metadata": {},
     "output_type": "execute_result"
    }
   ],
   "source": [
    "age, hous = [], []\n",
    "for row in range(len(df)):\n",
    "#     print(f\"{df['state'][row]} {df['district'][row]}\", end='\\t\\t')\n",
    "    data, col = pd.read_csv(f\"census/{df['filenames'][row]}\"), f\"{df['district'][row]} Estimate\"\n",
    "    age.append(float(data[data['Title'] == 'Median age (years)'][col]))\n",
    "    hous.append(int(data[(data['Title'] == 'Median (dollars)') & (data['Subject'] == 'Value')][col]))\n",
    "\n",
    "df['med_age'], df['med_hous'] = age, hous\n",
    "df.drop('filenames', 1, inplace=True)\n",
    "df"
   ]
  },
  {
   "cell_type": "markdown",
   "metadata": {},
   "source": [
    "To make sure our dataset is actually clean and usable after our data wrangling steps are carried out, we check for `NaN` values in any of the columns and make sure the data types are consistent and appropriate."
   ]
  },
  {
   "cell_type": "code",
   "execution_count": 6,
   "metadata": {},
   "outputs": [
    {
     "data": {
      "text/plain": [
       "district    False\n",
       "state       False\n",
       "med_age     False\n",
       "med_hous    False\n",
       "dtype: bool"
      ]
     },
     "execution_count": 6,
     "metadata": {},
     "output_type": "execute_result"
    }
   ],
   "source": [
    "df.isnull().any()"
   ]
  },
  {
   "cell_type": "code",
   "execution_count": 7,
   "metadata": {},
   "outputs": [
    {
     "data": {
      "text/plain": [
       "district     object\n",
       "state        object\n",
       "med_age     float64\n",
       "med_hous      int64\n",
       "dtype: object"
      ]
     },
     "execution_count": 7,
     "metadata": {},
     "output_type": "execute_result"
    }
   ],
   "source": [
    "df.dtypes"
   ]
  },
  {
   "cell_type": "markdown",
   "metadata": {},
   "source": [
    "# Data Analysis & Results"
   ]
  },
  {
   "cell_type": "markdown",
   "metadata": {},
   "source": [
    "In the `pandas` `describe` function below, we first see that there are 435 data points, one for each congressional district, within each quantitative column.\n",
    "\n",
    "The standard deviation of \\\\$208,148.70 for median housing value reflects the economic disparity of housing availability, access, and affordability in the way that it varies drastically throughout the country based on factors such as geography, socioeconomic status, and other demographic information, for example. The range of \\\\$1,502,800 from a minimum of \\\\$85,600 and a maximum of \\\\$1,588,400 parallels this high standard deviation in the median housing values across congressional districts. Due to this high variance in the data in that column, we don't work with the mean of \\\\$298,035, but instead with the median of \\\\$231,600, as that is less susceptible to the higher outliers present in the dataset (as evidenced by the mean being higher than the median by \\\\$66,435.\n",
    "\n",
    "The standard deviation of median age is quite low, at 3.638 years. We choose to work with the median rather than the mean to keep it consistent with the housing value data, since otherwise the mean of 38.804 years barely differs from the mean of 38.800 years. This indicates much less skew in the data in this column."
   ]
  },
  {
   "cell_type": "code",
   "execution_count": 8,
   "metadata": {},
   "outputs": [
    {
     "data": {
      "text/html": [
       "<div>\n",
       "<style scoped>\n",
       "    .dataframe tbody tr th:only-of-type {\n",
       "        vertical-align: middle;\n",
       "    }\n",
       "\n",
       "    .dataframe tbody tr th {\n",
       "        vertical-align: top;\n",
       "    }\n",
       "\n",
       "    .dataframe thead th {\n",
       "        text-align: right;\n",
       "    }\n",
       "</style>\n",
       "<table border=\"1\" class=\"dataframe\">\n",
       "  <thead>\n",
       "    <tr style=\"text-align: right;\">\n",
       "      <th></th>\n",
       "      <th>med_age</th>\n",
       "      <th>med_hous</th>\n",
       "    </tr>\n",
       "  </thead>\n",
       "  <tbody>\n",
       "    <tr>\n",
       "      <th>count</th>\n",
       "      <td>435.000000</td>\n",
       "      <td>4.350000e+02</td>\n",
       "    </tr>\n",
       "    <tr>\n",
       "      <th>mean</th>\n",
       "      <td>38.804368</td>\n",
       "      <td>2.980352e+05</td>\n",
       "    </tr>\n",
       "    <tr>\n",
       "      <th>std</th>\n",
       "      <td>3.638131</td>\n",
       "      <td>2.081487e+05</td>\n",
       "    </tr>\n",
       "    <tr>\n",
       "      <th>min</th>\n",
       "      <td>28.700000</td>\n",
       "      <td>8.560000e+04</td>\n",
       "    </tr>\n",
       "    <tr>\n",
       "      <th>25%</th>\n",
       "      <td>36.600000</td>\n",
       "      <td>1.648500e+05</td>\n",
       "    </tr>\n",
       "    <tr>\n",
       "      <th>50%</th>\n",
       "      <td>38.800000</td>\n",
       "      <td>2.316000e+05</td>\n",
       "    </tr>\n",
       "    <tr>\n",
       "      <th>75%</th>\n",
       "      <td>40.850000</td>\n",
       "      <td>3.490000e+05</td>\n",
       "    </tr>\n",
       "    <tr>\n",
       "      <th>max</th>\n",
       "      <td>56.000000</td>\n",
       "      <td>1.588400e+06</td>\n",
       "    </tr>\n",
       "  </tbody>\n",
       "</table>\n",
       "</div>"
      ],
      "text/plain": [
       "          med_age      med_hous\n",
       "count  435.000000  4.350000e+02\n",
       "mean    38.804368  2.980352e+05\n",
       "std      3.638131  2.081487e+05\n",
       "min     28.700000  8.560000e+04\n",
       "25%     36.600000  1.648500e+05\n",
       "50%     38.800000  2.316000e+05\n",
       "75%     40.850000  3.490000e+05\n",
       "max     56.000000  1.588400e+06"
      ]
     },
     "execution_count": 8,
     "metadata": {},
     "output_type": "execute_result"
    }
   ],
   "source": [
    "df.describe()"
   ]
  },
  {
   "cell_type": "markdown",
   "metadata": {},
   "source": [
    "The distribution of districts' median age is quite normal and unimodal. The peak, representing the median median age in years, is 38.800 years, as found in the `describe` section above."
   ]
  },
  {
   "cell_type": "code",
   "execution_count": 9,
   "metadata": {},
   "outputs": [
    {
     "data": {
      "image/png": "[encoded data removed]",
      "text/plain": [
       "<Figure size 360x360 with 1 Axes>"
      ]
     },
     "metadata": {},
     "output_type": "display_data"
    }
   ],
   "source": [
    "sns.displot(data=df, x='med_age', kde=True, rug=True)\n",
    "# print(f'modes: {list(df[\"med_age\"].mode())}')\n",
    "plt.title('Distribution of Median Age')\n",
    "plt.xlabel('Median Age (years)')\n",
    "plt.show()"
   ]
  },
  {
   "cell_type": "markdown",
   "metadata": {},
   "source": [
    "The distribution of districts' median housing value is very positively skewed and unimodal around a value slightly less than \\\\$200,000. There seem to be visible outliers beyond \\\\$1,000,000, clarifying the positive skew we expected from the `describe` section above."
   ]
  },
  {
   "cell_type": "code",
   "execution_count": 10,
   "metadata": {},
   "outputs": [
    {
     "data": {
      "image/png": "[encoded data removed]",
      "text/plain": [
       "<Figure size 360x360 with 1 Axes>"
      ]
     },
     "metadata": {},
     "output_type": "display_data"
    }
   ],
   "source": [
    "sns.displot(data=df, x='med_hous', kde=True, rug=True)\n",
    "# print(f'modes: {list(df[\"med_hous\"].mode())}')\n",
    "plt.title('Distribution of Median Housing Value')\n",
    "plt.xlabel('\\nMedian Housing Value ($1,000,000)')\n",
    "plt.show()"
   ]
  },
  {
   "cell_type": "markdown",
   "metadata": {},
   "source": [
    "From the scatterplot, we see that there is not a clear relationship between the median age and median housing values for congressional districts, which is further clarified by the correlation coefficient of `r = -0.049`. Since this correlation coefficient is so close to 0, it would not be sufficient to continue analysis by simply comparing districts' median age to median housing values, so we should instead use a derived statistic for analysis."
   ]
  },
  {
   "cell_type": "code",
   "execution_count": 11,
   "metadata": {},
   "outputs": [
    {
     "data": {
      "image/png": "[encoded data removed]",
      "text/plain": [
       "<Figure size 1440x720 with 1 Axes>"
      ]
     },
     "metadata": {},
     "output_type": "display_data"
    }
   ],
   "source": [
    "sns.regplot(data=df, x='med_age', y='med_hous')\n",
    "plt.title('District\\'s Median Housing vs. Median Age\\n')\n",
    "plt.xlabel('Median Age (years)')\n",
    "plt.ylabel('Median Housing Value ($1,000,000)')\n",
    "plt.text(49, 1600000, f\"r = {df['med_age'].corr(df['med_hous'])}\", c='red')\n",
    "\n",
    "plt.show()"
   ]
  },
  {
   "cell_type": "markdown",
   "metadata": {},
   "source": [
    "In the following section we use the `1.5*IQR` method to determine which values in each quantitative column are outliers by calculating outlier bounds of `(Q1 - 1.5*IQR, Q3 + 1.5*IQR)`."
   ]
  },
  {
   "cell_type": "code",
   "execution_count": 12,
   "metadata": {},
   "outputs": [
    {
     "name": "stdout",
     "output_type": "stream",
     "text": [
      "\u001b[1m\u001b[4moutlier bounds:\u001b[0m\n",
      "med_age: (30.225000000000012, 47.22499999999998]\n",
      "med_hous: (-111375.0, 625225.0]\n"
     ]
    }
   ],
   "source": [
    "IQR, outlier_bounds = {}, {}\n",
    "\n",
    "print(\"\\033[1m\" + \"\\033[4m\" + 'outlier bounds:' + \"\\033[0m\")\n",
    "for col in ['med_age', 'med_hous']:\n",
    "    q75, q25 = df[col].quantile(0.75), df[col].quantile(0.25)\n",
    "    IQR = q75 - q25\n",
    "    outlier_bounds[col] = pd.IntervalIndex.from_tuples([(q25 - 1.5*IQR, q75 + 1.5*IQR)])\n",
    "    print(f'{col}: {str(outlier_bounds[col][0])}')"
   ]
  },
  {
   "cell_type": "markdown",
   "metadata": {},
   "source": [
    "Creation of a temporary `outlier_df` dataframe demonstrating whether a value is an outlier (`True`) or not (`False`) is conducted by comparing whether a value is not within the ranges established above. By summing each column in `outlier_df`, we see how many `True` values it contains, or in other words, how many outliers that column contains. Since the lower bound of the outlier ranges includes negative numbers and there are no negative values in the data for median housing value, we find that the 33 `med_hous` outliers are all actually greater than `Q3 + 1.5*IQR` within the column."
   ]
  },
  {
   "cell_type": "code",
   "execution_count": 13,
   "metadata": {},
   "outputs": [
    {
     "name": "stdout",
     "output_type": "stream",
     "text": [
      "number of outliers in each quantitative column:\n",
      "med_age     11\n",
      "med_hous    33\n",
      "dtype: int64\n"
     ]
    }
   ],
   "source": [
    "outlier_df = pd.DataFrame(columns = outlier_bounds.keys())\n",
    "for col in outlier_bounds.keys():\n",
    "    vals = []\n",
    "    for row in range(len(df[col])):\n",
    "        val = df[col][row]\n",
    "        vals.append(~outlier_bounds[col].contains(val)[0])\n",
    "    outlier_df[col] = vals\n",
    "print(f'number of outliers in each quantitative column:\\n{outlier_df.sum()}')\n",
    "outlier_df.insert(0, 'district', df['district'])\n",
    "outlier_df.insert(1, 'state', df['state'])"
   ]
  },
  {
   "cell_type": "markdown",
   "metadata": {},
   "source": [
    "Although we did find that there were some states with outliers in the `med_age` column we decided not to transform or reconfigure the data in the column because the distribution of `med_age` is normal as seen in the first histogram above. Conversely, since the`med_hous` did have outliers causing a strong positive skew in the distribution as seen in the second histogram above, we decide to transform `med_hous` before further analysis."
   ]
  },
  {
   "cell_type": "code",
   "execution_count": 14,
   "metadata": {
    "scrolled": true
   },
   "outputs": [
    {
     "name": "stdout",
     "output_type": "stream",
     "text": [
      "\u001b[1m\u001b[4mstates' unique outliers:\u001b[0m\n",
      "median age:\t\t'Arizona', 'California', 'Florida', 'Utah'\n",
      "median housing value:\t'California', 'Hawaii', 'New York', 'Washington'\n"
     ]
    }
   ],
   "source": [
    "print(\"\\033[1m\" + \"\\033[4m\" + 'states\\' unique outliers:' + \"\\033[0m\")\n",
    "print(f\"median age:\\t\\t{str(outlier_df[outlier_df['med_age']==True]['state'].unique().tolist())[1:-1]}\")\n",
    "print(f\"median housing value:\\t{str(outlier_df[outlier_df['med_hous']==True]['state'].unique().tolist())[1:-1]}\")"
   ]
  },
  {
   "cell_type": "markdown",
   "metadata": {},
   "source": [
    "Since the scatterplot clarifies that one-to-one comparison of states' median age and median housing values is insufficient to draw a conclusive association and because of the outliers in `med_hous`, we will instead compare states' median housing values by binning them based on in-state ranges of housing values across districts. In order to compare and bin states, we decided to look at the range of housing values across the districts in a state. Within each state, the range is calculated by subtracting the state's lowest median housing value (belonging to a single district) from the state's highest median housing value (belonging to a different district). In cases where a state only has a single At-Large district, this range value is 0."
   ]
  },
  {
   "cell_type": "code",
   "execution_count": 15,
   "metadata": {},
   "outputs": [
    {
     "data": {
      "text/html": [
       "<div>\n",
       "<style scoped>\n",
       "    .dataframe tbody tr th:only-of-type {\n",
       "        vertical-align: middle;\n",
       "    }\n",
       "\n",
       "    .dataframe tbody tr th {\n",
       "        vertical-align: top;\n",
       "    }\n",
       "\n",
       "    .dataframe thead th {\n",
       "        text-align: right;\n",
       "    }\n",
       "</style>\n",
       "<table border=\"1\" class=\"dataframe\">\n",
       "  <thead>\n",
       "    <tr style=\"text-align: right;\">\n",
       "      <th></th>\n",
       "      <th>district</th>\n",
       "      <th>state</th>\n",
       "      <th>med_age</th>\n",
       "      <th>med_hous</th>\n",
       "      <th>state_hous_range</th>\n",
       "    </tr>\n",
       "  </thead>\n",
       "  <tbody>\n",
       "    <tr>\n",
       "      <th>0</th>\n",
       "      <td>District 01</td>\n",
       "      <td>Alabama</td>\n",
       "      <td>40.4</td>\n",
       "      <td>160600</td>\n",
       "      <td>98600</td>\n",
       "    </tr>\n",
       "    <tr>\n",
       "      <th>1</th>\n",
       "      <td>District 02</td>\n",
       "      <td>Alabama</td>\n",
       "      <td>39.0</td>\n",
       "      <td>135500</td>\n",
       "      <td>98600</td>\n",
       "    </tr>\n",
       "    <tr>\n",
       "      <th>2</th>\n",
       "      <td>District 03</td>\n",
       "      <td>Alabama</td>\n",
       "      <td>38.9</td>\n",
       "      <td>144700</td>\n",
       "      <td>98600</td>\n",
       "    </tr>\n",
       "    <tr>\n",
       "      <th>3</th>\n",
       "      <td>District 04</td>\n",
       "      <td>Alabama</td>\n",
       "      <td>41.1</td>\n",
       "      <td>132800</td>\n",
       "      <td>98600</td>\n",
       "    </tr>\n",
       "    <tr>\n",
       "      <th>4</th>\n",
       "      <td>District 05</td>\n",
       "      <td>Alabama</td>\n",
       "      <td>39.7</td>\n",
       "      <td>173300</td>\n",
       "      <td>98600</td>\n",
       "    </tr>\n",
       "    <tr>\n",
       "      <th>...</th>\n",
       "      <td>...</td>\n",
       "      <td>...</td>\n",
       "      <td>...</td>\n",
       "      <td>...</td>\n",
       "      <td>...</td>\n",
       "    </tr>\n",
       "    <tr>\n",
       "      <th>430</th>\n",
       "      <td>District 05</td>\n",
       "      <td>Wisconsin</td>\n",
       "      <td>42.5</td>\n",
       "      <td>252700</td>\n",
       "      <td>114100</td>\n",
       "    </tr>\n",
       "    <tr>\n",
       "      <th>431</th>\n",
       "      <td>District 06</td>\n",
       "      <td>Wisconsin</td>\n",
       "      <td>42.0</td>\n",
       "      <td>174700</td>\n",
       "      <td>114100</td>\n",
       "    </tr>\n",
       "    <tr>\n",
       "      <th>432</th>\n",
       "      <td>District 07</td>\n",
       "      <td>Wisconsin</td>\n",
       "      <td>45.0</td>\n",
       "      <td>168100</td>\n",
       "      <td>114100</td>\n",
       "    </tr>\n",
       "    <tr>\n",
       "      <th>433</th>\n",
       "      <td>District 08</td>\n",
       "      <td>Wisconsin</td>\n",
       "      <td>40.8</td>\n",
       "      <td>180000</td>\n",
       "      <td>114100</td>\n",
       "    </tr>\n",
       "    <tr>\n",
       "      <th>434</th>\n",
       "      <td>District (At Large)</td>\n",
       "      <td>Wyoming</td>\n",
       "      <td>38.1</td>\n",
       "      <td>235200</td>\n",
       "      <td>0</td>\n",
       "    </tr>\n",
       "  </tbody>\n",
       "</table>\n",
       "<p>435 rows × 5 columns</p>\n",
       "</div>"
      ],
      "text/plain": [
       "                district      state  med_age  med_hous  state_hous_range\n",
       "0            District 01    Alabama     40.4    160600             98600\n",
       "1            District 02    Alabama     39.0    135500             98600\n",
       "2            District 03    Alabama     38.9    144700             98600\n",
       "3            District 04    Alabama     41.1    132800             98600\n",
       "4            District 05    Alabama     39.7    173300             98600\n",
       "..                   ...        ...      ...       ...               ...\n",
       "430          District 05  Wisconsin     42.5    252700            114100\n",
       "431          District 06  Wisconsin     42.0    174700            114100\n",
       "432          District 07  Wisconsin     45.0    168100            114100\n",
       "433          District 08  Wisconsin     40.8    180000            114100\n",
       "434  District (At Large)    Wyoming     38.1    235200                 0\n",
       "\n",
       "[435 rows x 5 columns]"
      ]
     },
     "execution_count": 15,
     "metadata": {},
     "output_type": "execute_result"
    }
   ],
   "source": [
    "vals = []\n",
    "for row in range(len(df['state'].unique())):\n",
    "    vals.append(df.groupby('state').agg('max')['med_hous'][row] - df.groupby('state').agg('min')['med_hous'][row])\n",
    "state_hous_range = dict(zip(df['state'].unique(), vals))\n",
    "\n",
    "# mapping states' housing value ranges back onto the df\n",
    "df['state_hous_range'] = df['state'].map(state_hous_range)\n",
    "df"
   ]
  },
  {
   "cell_type": "markdown",
   "metadata": {},
   "source": [
    "The kernel density estimate plot shows the distribution of the states' ranges in median housing value. There is a clear peak around \\\\$250,000 and another much smaller peak around \\\\$1,250,000 that ultimately only contains the values for New York (\\\\$1,028,600) and California (\\\\$1,374,000). This contributes to the strong positive skew of the median housing value data. In order to conduct externally valid analysis on this data, it makes sense to first bin these ranges into three bins based on visual approximations of the kernel density estimate plot."
   ]
  },
  {
   "cell_type": "code",
   "execution_count": 16,
   "metadata": {},
   "outputs": [
    {
     "name": "stdout",
     "output_type": "stream",
     "text": [
      "visual outliers (in the smaller peak): ['California', 'New York']\n"
     ]
    },
    {
     "data": {
      "image/png": "[encoded data removed]",
      "text/plain": [
       "<Figure size 360x360 with 1 Axes>"
      ]
     },
     "metadata": {},
     "output_type": "display_data"
    }
   ],
   "source": [
    "state_hous_range_maxes = sorted(df['state_hous_range'].unique(), reverse=True)[:2]\n",
    "print(f\"visual outliers (in the smaller peak): {list(df[(df['state_hous_range'] == state_hous_range_maxes[0]) | (df['state_hous_range'] == state_hous_range_maxes[1])]['state'].unique())}\")\n",
    "sns.displot(data=df, x='state_hous_range', kind='kde')\n",
    "plt.title('Distribution of States\\' Ranges in Median Housing Value\\n')\n",
    "plt.xlabel('\\nIn-State Range of Median\\nHousing Values ($1,000,000)')\n",
    "plt.show()"
   ]
  },
  {
   "cell_type": "markdown",
   "metadata": {},
   "source": [
    "To bin `state_hous_val` into three discrete bins, we want one bin to encompass just the outliers of California and New York and two bins to split the remaining data into further subgroups to see whether the extremeness of in-state housing ranges accounts for the absence of a relationship between `med_age` and `med_hous`."
   ]
  },
  {
   "cell_type": "code",
   "execution_count": 17,
   "metadata": {},
   "outputs": [
    {
     "data": {
      "text/html": [
       "<div>\n",
       "<style scoped>\n",
       "    .dataframe tbody tr th:only-of-type {\n",
       "        vertical-align: middle;\n",
       "    }\n",
       "\n",
       "    .dataframe tbody tr th {\n",
       "        vertical-align: top;\n",
       "    }\n",
       "\n",
       "    .dataframe thead th {\n",
       "        text-align: right;\n",
       "    }\n",
       "</style>\n",
       "<table border=\"1\" class=\"dataframe\">\n",
       "  <thead>\n",
       "    <tr style=\"text-align: right;\">\n",
       "      <th></th>\n",
       "      <th>district</th>\n",
       "      <th>state</th>\n",
       "      <th>med_age</th>\n",
       "      <th>med_hous</th>\n",
       "      <th>state_hous_range</th>\n",
       "      <th>state_hous_range_bin</th>\n",
       "    </tr>\n",
       "  </thead>\n",
       "  <tbody>\n",
       "    <tr>\n",
       "      <th>0</th>\n",
       "      <td>District 01</td>\n",
       "      <td>Alabama</td>\n",
       "      <td>40.4</td>\n",
       "      <td>160600</td>\n",
       "      <td>98600</td>\n",
       "      <td>(-1, 200000]</td>\n",
       "    </tr>\n",
       "    <tr>\n",
       "      <th>1</th>\n",
       "      <td>District 02</td>\n",
       "      <td>Alabama</td>\n",
       "      <td>39.0</td>\n",
       "      <td>135500</td>\n",
       "      <td>98600</td>\n",
       "      <td>(-1, 200000]</td>\n",
       "    </tr>\n",
       "    <tr>\n",
       "      <th>2</th>\n",
       "      <td>District 03</td>\n",
       "      <td>Alabama</td>\n",
       "      <td>38.9</td>\n",
       "      <td>144700</td>\n",
       "      <td>98600</td>\n",
       "      <td>(-1, 200000]</td>\n",
       "    </tr>\n",
       "    <tr>\n",
       "      <th>3</th>\n",
       "      <td>District 04</td>\n",
       "      <td>Alabama</td>\n",
       "      <td>41.1</td>\n",
       "      <td>132800</td>\n",
       "      <td>98600</td>\n",
       "      <td>(-1, 200000]</td>\n",
       "    </tr>\n",
       "    <tr>\n",
       "      <th>4</th>\n",
       "      <td>District 05</td>\n",
       "      <td>Alabama</td>\n",
       "      <td>39.7</td>\n",
       "      <td>173300</td>\n",
       "      <td>98600</td>\n",
       "      <td>(-1, 200000]</td>\n",
       "    </tr>\n",
       "    <tr>\n",
       "      <th>...</th>\n",
       "      <td>...</td>\n",
       "      <td>...</td>\n",
       "      <td>...</td>\n",
       "      <td>...</td>\n",
       "      <td>...</td>\n",
       "      <td>...</td>\n",
       "    </tr>\n",
       "    <tr>\n",
       "      <th>430</th>\n",
       "      <td>District 05</td>\n",
       "      <td>Wisconsin</td>\n",
       "      <td>42.5</td>\n",
       "      <td>252700</td>\n",
       "      <td>114100</td>\n",
       "      <td>(-1, 200000]</td>\n",
       "    </tr>\n",
       "    <tr>\n",
       "      <th>431</th>\n",
       "      <td>District 06</td>\n",
       "      <td>Wisconsin</td>\n",
       "      <td>42.0</td>\n",
       "      <td>174700</td>\n",
       "      <td>114100</td>\n",
       "      <td>(-1, 200000]</td>\n",
       "    </tr>\n",
       "    <tr>\n",
       "      <th>432</th>\n",
       "      <td>District 07</td>\n",
       "      <td>Wisconsin</td>\n",
       "      <td>45.0</td>\n",
       "      <td>168100</td>\n",
       "      <td>114100</td>\n",
       "      <td>(-1, 200000]</td>\n",
       "    </tr>\n",
       "    <tr>\n",
       "      <th>433</th>\n",
       "      <td>District 08</td>\n",
       "      <td>Wisconsin</td>\n",
       "      <td>40.8</td>\n",
       "      <td>180000</td>\n",
       "      <td>114100</td>\n",
       "      <td>(-1, 200000]</td>\n",
       "    </tr>\n",
       "    <tr>\n",
       "      <th>434</th>\n",
       "      <td>District (At Large)</td>\n",
       "      <td>Wyoming</td>\n",
       "      <td>38.1</td>\n",
       "      <td>235200</td>\n",
       "      <td>0</td>\n",
       "      <td>(-1, 200000]</td>\n",
       "    </tr>\n",
       "  </tbody>\n",
       "</table>\n",
       "<p>435 rows × 6 columns</p>\n",
       "</div>"
      ],
      "text/plain": [
       "                district      state  med_age  med_hous  state_hous_range  \\\n",
       "0            District 01    Alabama     40.4    160600             98600   \n",
       "1            District 02    Alabama     39.0    135500             98600   \n",
       "2            District 03    Alabama     38.9    144700             98600   \n",
       "3            District 04    Alabama     41.1    132800             98600   \n",
       "4            District 05    Alabama     39.7    173300             98600   \n",
       "..                   ...        ...      ...       ...               ...   \n",
       "430          District 05  Wisconsin     42.5    252700            114100   \n",
       "431          District 06  Wisconsin     42.0    174700            114100   \n",
       "432          District 07  Wisconsin     45.0    168100            114100   \n",
       "433          District 08  Wisconsin     40.8    180000            114100   \n",
       "434  District (At Large)    Wyoming     38.1    235200                 0   \n",
       "\n",
       "    state_hous_range_bin  \n",
       "0           (-1, 200000]  \n",
       "1           (-1, 200000]  \n",
       "2           (-1, 200000]  \n",
       "3           (-1, 200000]  \n",
       "4           (-1, 200000]  \n",
       "..                   ...  \n",
       "430         (-1, 200000]  \n",
       "431         (-1, 200000]  \n",
       "432         (-1, 200000]  \n",
       "433         (-1, 200000]  \n",
       "434         (-1, 200000]  \n",
       "\n",
       "[435 rows x 6 columns]"
      ]
     },
     "execution_count": 17,
     "metadata": {},
     "output_type": "execute_result"
    }
   ],
   "source": [
    "df['state_hous_range_bin'] = pd.cut(df['state_hous_range'], \n",
    "                                    pd.IntervalIndex.from_tuples([(-1, 200000), \n",
    "                                                                  (200000, 600000), \n",
    "                                                                  (600000, 2000000)]))\n",
    "\n",
    "def bin_vals(string):\n",
    "    string = str(string).replace('(-1, 200000]', '0')\n",
    "    string = str(string).replace('(200000, 600000]', '1')\n",
    "    string = str(string).replace('(600000, 2000000]', '2')\n",
    "    return int(string)\n",
    "\n",
    "# df['state_hous_range'] = df['state_hous_range'].apply(bin_vals)\n",
    "\n",
    "df"
   ]
  },
  {
   "cell_type": "markdown",
   "metadata": {},
   "source": [
    "We then created a scatterplot for each of the three bins, with each subplot plotting that bin's relationship between `med_age` and `med_hous` to see if there is a higher correlation within a particular bin rather than across all bins. The correlation coefficient within each bin, as displayed in the top right of respective subplots, is still quite minimal, though the magnitude of each is greater than the magnitude of the cross-bin correlation coefficient of `r=-0.04875`. Comparing these subplots, we see that binning the median housing values by in-state ranges of median housing values still does not establish a correlation."
   ]
  },
  {
   "cell_type": "code",
   "execution_count": 18,
   "metadata": {
    "scrolled": true
   },
   "outputs": [
    {
     "data": {
      "image/png": "[encoded data removed]",
      "text/plain": [
       "<Figure size 1080x360 with 3 Axes>"
      ]
     },
     "metadata": {},
     "output_type": "display_data"
    }
   ],
   "source": [
    "fig, ax = plt.subplots(1, 3, figsize=(15,5), sharex=True, sharey=True)\n",
    "fig.suptitle('Median Housing Value vs. Median Age\\nby In-State Median Housing Value Range\\n\\n')\n",
    "colors = ['tab:blue', 'tab:orange', 'tab:green']\n",
    "for axis in range(3):\n",
    "    ax[axis].scatter(data=df[df['state_hous_range_bin'] == df['state_hous_range_bin'].unique()[axis]], \n",
    "                     x='med_age', y='med_hous', s=20, color=colors[axis])\n",
    "    ax[axis].set_title(f\"{df['state_hous_range_bin'].unique()[axis]}\")\n",
    "    ax[axis].text(df['med_age'].max(), df['med_hous'].max()-100000, f\"r={round(df[df['state_hous_range_bin'] == df['state_hous_range_bin'].unique()[axis]]['med_age'].corr(df[df['state_hous_range_bin'] == df['state_hous_range_bin'].unique()[axis]]['med_hous']), 5)}\", ha='right')\n",
    "\n",
    "fig.text(0.5, 0, 'Median Age (years)', ha='center')\n",
    "fig.text(0, 0.5, 'Median Housing Value\\n($1,000,000)', ha='center', va='center', rotation='vertical')\n",
    "plt.ticklabel_format(axis='y', style='sci')\n",
    "\n",
    "plt.tight_layout()\n",
    "fig.subplots_adjust(top=0.75)\n",
    "plt.show()"
   ]
  },
  {
   "cell_type": "markdown",
   "metadata": {},
   "source": [
    "Since these bins were not sufficient to see whether the ranges were a significant factor within the states, we decided to compare the correlations across the states instead. The dictionary `state_corr` contains each state's correlation coefficient for `med_age` and `med_hous` based on their districts and demonstrates variability in these values. States with a `nan` value represent states with a single at-large district, meaning only a single data point and not enough to establish a (non-null) correlation. States with a `-1.0` or `1.0` value represent states with only two congressional districts."
   ]
  },
  {
   "cell_type": "code",
   "execution_count": 19,
   "metadata": {},
   "outputs": [
    {
     "data": {
      "text/plain": [
       "{'Alabama': 0.5130088679575467,\n",
       " 'Alaska': nan,\n",
       " 'Arizona': 0.26651385884919415,\n",
       " 'Arkansas': -0.9719042498521909,\n",
       " 'California': 0.4430304583209993,\n",
       " 'Colorado': -0.4822877873997705,\n",
       " 'Connecticut': -0.7436168212101018,\n",
       " 'Delaware': nan,\n",
       " 'Florida': -0.007646771238306847,\n",
       " 'Georgia': 0.13573988141237922,\n",
       " 'Hawaii': -1.0,\n",
       " 'Idaho': 1.0,\n",
       " 'Illinois': -0.303288582830792,\n",
       " 'Indiana': 0.08895052365012907,\n",
       " 'Iowa': -0.8253534756584462,\n",
       " 'Kansas': -0.02397148680169424,\n",
       " 'Kentucky': -0.8213039600227197,\n",
       " 'Louisiana': -0.1420744941171196,\n",
       " 'Maine': -1.0,\n",
       " 'Maryland': 0.160748221994953,\n",
       " 'Massachusetts': -0.48709426584682,\n",
       " 'Michigan': 0.1936035512348948,\n",
       " 'Minnesota': -0.4178558193988267,\n",
       " 'Mississippi': 0.9750787069497693,\n",
       " 'Missouri': 0.7575754973968702,\n",
       " 'Montana': nan,\n",
       " 'Nebraska': -0.9979054898455024,\n",
       " 'Nevada': 0.9845248604186696,\n",
       " 'New Hampshire': -1.0,\n",
       " 'New Jersey': 0.14958797651302133,\n",
       " 'New Mexico': 0.947979732584009,\n",
       " 'New York': -0.42286853377155936,\n",
       " 'North Carolina': -0.450870226934066,\n",
       " 'North Dakota': nan,\n",
       " 'Ohio': -0.04333173127666756,\n",
       " 'Oklahoma': -0.9052899519895413,\n",
       " 'Oregon': -0.9841834878714085,\n",
       " 'Pennsylvania': -0.18892869965265763,\n",
       " 'Rhode Island': 1.0,\n",
       " 'South Carolina': 0.1195413820970167,\n",
       " 'South Dakota': nan,\n",
       " 'Tennessee': -0.17471814298425456,\n",
       " 'Texas': 0.5293600137466733,\n",
       " 'Utah': -0.6829459578174747,\n",
       " 'Vermont': nan,\n",
       " 'Virginia': -0.4687338906534367,\n",
       " 'Washington': -0.14800400355021825,\n",
       " 'West Virginia': -0.9554005074254678,\n",
       " 'Wisconsin': 0.13372364339091342,\n",
       " 'Wyoming': nan}"
      ]
     },
     "execution_count": 19,
     "metadata": {},
     "output_type": "execute_result"
    }
   ],
   "source": [
    "state_corr = {}\n",
    "for state in df['state'].unique():\n",
    "    state_corr[state] = df[df['state']==state]['med_age'].corr(df[df['state']==state]['med_hous'])\n",
    "\n",
    "state_corr"
   ]
  },
  {
   "cell_type": "markdown",
   "metadata": {},
   "source": [
    "We then count the number of districts in each state, `zip` that to a dictionary with the keys being all of the states, and map that onto `df` based on these 'state' values, creating a column in `df` called `state_num_dist` that contains the value for how many districts a given state consists of. These values are then binned into "
   ]
  },
  {
   "cell_type": "code",
   "execution_count": 20,
   "metadata": {
    "scrolled": false
   },
   "outputs": [
    {
     "data": {
      "text/html": [
       "<div>\n",
       "<style scoped>\n",
       "    .dataframe tbody tr th:only-of-type {\n",
       "        vertical-align: middle;\n",
       "    }\n",
       "\n",
       "    .dataframe tbody tr th {\n",
       "        vertical-align: top;\n",
       "    }\n",
       "\n",
       "    .dataframe thead th {\n",
       "        text-align: right;\n",
       "    }\n",
       "</style>\n",
       "<table border=\"1\" class=\"dataframe\">\n",
       "  <thead>\n",
       "    <tr style=\"text-align: right;\">\n",
       "      <th></th>\n",
       "      <th>district</th>\n",
       "      <th>state</th>\n",
       "      <th>med_age</th>\n",
       "      <th>med_hous</th>\n",
       "      <th>state_hous_range</th>\n",
       "      <th>state_hous_range_bin</th>\n",
       "      <th>state_num_dist</th>\n",
       "    </tr>\n",
       "  </thead>\n",
       "  <tbody>\n",
       "    <tr>\n",
       "      <th>0</th>\n",
       "      <td>District 01</td>\n",
       "      <td>Alabama</td>\n",
       "      <td>40.4</td>\n",
       "      <td>160600</td>\n",
       "      <td>98600</td>\n",
       "      <td>(-1, 200000]</td>\n",
       "      <td>7</td>\n",
       "    </tr>\n",
       "    <tr>\n",
       "      <th>1</th>\n",
       "      <td>District 02</td>\n",
       "      <td>Alabama</td>\n",
       "      <td>39.0</td>\n",
       "      <td>135500</td>\n",
       "      <td>98600</td>\n",
       "      <td>(-1, 200000]</td>\n",
       "      <td>7</td>\n",
       "    </tr>\n",
       "    <tr>\n",
       "      <th>2</th>\n",
       "      <td>District 03</td>\n",
       "      <td>Alabama</td>\n",
       "      <td>38.9</td>\n",
       "      <td>144700</td>\n",
       "      <td>98600</td>\n",
       "      <td>(-1, 200000]</td>\n",
       "      <td>7</td>\n",
       "    </tr>\n",
       "    <tr>\n",
       "      <th>3</th>\n",
       "      <td>District 04</td>\n",
       "      <td>Alabama</td>\n",
       "      <td>41.1</td>\n",
       "      <td>132800</td>\n",
       "      <td>98600</td>\n",
       "      <td>(-1, 200000]</td>\n",
       "      <td>7</td>\n",
       "    </tr>\n",
       "    <tr>\n",
       "      <th>4</th>\n",
       "      <td>District 05</td>\n",
       "      <td>Alabama</td>\n",
       "      <td>39.7</td>\n",
       "      <td>173300</td>\n",
       "      <td>98600</td>\n",
       "      <td>(-1, 200000]</td>\n",
       "      <td>7</td>\n",
       "    </tr>\n",
       "    <tr>\n",
       "      <th>...</th>\n",
       "      <td>...</td>\n",
       "      <td>...</td>\n",
       "      <td>...</td>\n",
       "      <td>...</td>\n",
       "      <td>...</td>\n",
       "      <td>...</td>\n",
       "      <td>...</td>\n",
       "    </tr>\n",
       "    <tr>\n",
       "      <th>430</th>\n",
       "      <td>District 05</td>\n",
       "      <td>Wisconsin</td>\n",
       "      <td>42.5</td>\n",
       "      <td>252700</td>\n",
       "      <td>114100</td>\n",
       "      <td>(-1, 200000]</td>\n",
       "      <td>8</td>\n",
       "    </tr>\n",
       "    <tr>\n",
       "      <th>431</th>\n",
       "      <td>District 06</td>\n",
       "      <td>Wisconsin</td>\n",
       "      <td>42.0</td>\n",
       "      <td>174700</td>\n",
       "      <td>114100</td>\n",
       "      <td>(-1, 200000]</td>\n",
       "      <td>8</td>\n",
       "    </tr>\n",
       "    <tr>\n",
       "      <th>432</th>\n",
       "      <td>District 07</td>\n",
       "      <td>Wisconsin</td>\n",
       "      <td>45.0</td>\n",
       "      <td>168100</td>\n",
       "      <td>114100</td>\n",
       "      <td>(-1, 200000]</td>\n",
       "      <td>8</td>\n",
       "    </tr>\n",
       "    <tr>\n",
       "      <th>433</th>\n",
       "      <td>District 08</td>\n",
       "      <td>Wisconsin</td>\n",
       "      <td>40.8</td>\n",
       "      <td>180000</td>\n",
       "      <td>114100</td>\n",
       "      <td>(-1, 200000]</td>\n",
       "      <td>8</td>\n",
       "    </tr>\n",
       "    <tr>\n",
       "      <th>434</th>\n",
       "      <td>District (At Large)</td>\n",
       "      <td>Wyoming</td>\n",
       "      <td>38.1</td>\n",
       "      <td>235200</td>\n",
       "      <td>0</td>\n",
       "      <td>(-1, 200000]</td>\n",
       "      <td>1</td>\n",
       "    </tr>\n",
       "  </tbody>\n",
       "</table>\n",
       "<p>435 rows × 7 columns</p>\n",
       "</div>"
      ],
      "text/plain": [
       "                district      state  med_age  med_hous  state_hous_range  \\\n",
       "0            District 01    Alabama     40.4    160600             98600   \n",
       "1            District 02    Alabama     39.0    135500             98600   \n",
       "2            District 03    Alabama     38.9    144700             98600   \n",
       "3            District 04    Alabama     41.1    132800             98600   \n",
       "4            District 05    Alabama     39.7    173300             98600   \n",
       "..                   ...        ...      ...       ...               ...   \n",
       "430          District 05  Wisconsin     42.5    252700            114100   \n",
       "431          District 06  Wisconsin     42.0    174700            114100   \n",
       "432          District 07  Wisconsin     45.0    168100            114100   \n",
       "433          District 08  Wisconsin     40.8    180000            114100   \n",
       "434  District (At Large)    Wyoming     38.1    235200                 0   \n",
       "\n",
       "    state_hous_range_bin  state_num_dist  \n",
       "0           (-1, 200000]               7  \n",
       "1           (-1, 200000]               7  \n",
       "2           (-1, 200000]               7  \n",
       "3           (-1, 200000]               7  \n",
       "4           (-1, 200000]               7  \n",
       "..                   ...             ...  \n",
       "430         (-1, 200000]               8  \n",
       "431         (-1, 200000]               8  \n",
       "432         (-1, 200000]               8  \n",
       "433         (-1, 200000]               8  \n",
       "434         (-1, 200000]               1  \n",
       "\n",
       "[435 rows x 7 columns]"
      ]
     },
     "execution_count": 20,
     "metadata": {},
     "output_type": "execute_result"
    }
   ],
   "source": [
    "df['state_num_dist'] = df['state'].map(dict(zip(df['state'].unique(), [len(df[df['state']==state]['district'].unique()) for state in df['state'].unique()])))\n",
    "df"
   ]
  },
  {
   "cell_type": "markdown",
   "metadata": {},
   "source": [
    "Dictionary `state_corr_abs` contains the magnitudes of the in-state correlations of median age and median housing value by taking the absolute value of that correlation, since the direction does not matter, but rather the strength. These values are then mapped back onto `df` by 'state'."
   ]
  },
  {
   "cell_type": "code",
   "execution_count": 21,
   "metadata": {
    "scrolled": false
   },
   "outputs": [
    {
     "data": {
      "text/html": [
       "<div>\n",
       "<style scoped>\n",
       "    .dataframe tbody tr th:only-of-type {\n",
       "        vertical-align: middle;\n",
       "    }\n",
       "\n",
       "    .dataframe tbody tr th {\n",
       "        vertical-align: top;\n",
       "    }\n",
       "\n",
       "    .dataframe thead th {\n",
       "        text-align: right;\n",
       "    }\n",
       "</style>\n",
       "<table border=\"1\" class=\"dataframe\">\n",
       "  <thead>\n",
       "    <tr style=\"text-align: right;\">\n",
       "      <th></th>\n",
       "      <th>district</th>\n",
       "      <th>state</th>\n",
       "      <th>med_age</th>\n",
       "      <th>med_hous</th>\n",
       "      <th>state_hous_range</th>\n",
       "      <th>state_hous_range_bin</th>\n",
       "      <th>state_num_dist</th>\n",
       "      <th>state_corr</th>\n",
       "    </tr>\n",
       "  </thead>\n",
       "  <tbody>\n",
       "    <tr>\n",
       "      <th>0</th>\n",
       "      <td>District 01</td>\n",
       "      <td>Alabama</td>\n",
       "      <td>40.4</td>\n",
       "      <td>160600</td>\n",
       "      <td>98600</td>\n",
       "      <td>(-1, 200000]</td>\n",
       "      <td>7</td>\n",
       "      <td>0.513009</td>\n",
       "    </tr>\n",
       "    <tr>\n",
       "      <th>1</th>\n",
       "      <td>District 02</td>\n",
       "      <td>Alabama</td>\n",
       "      <td>39.0</td>\n",
       "      <td>135500</td>\n",
       "      <td>98600</td>\n",
       "      <td>(-1, 200000]</td>\n",
       "      <td>7</td>\n",
       "      <td>0.513009</td>\n",
       "    </tr>\n",
       "    <tr>\n",
       "      <th>2</th>\n",
       "      <td>District 03</td>\n",
       "      <td>Alabama</td>\n",
       "      <td>38.9</td>\n",
       "      <td>144700</td>\n",
       "      <td>98600</td>\n",
       "      <td>(-1, 200000]</td>\n",
       "      <td>7</td>\n",
       "      <td>0.513009</td>\n",
       "    </tr>\n",
       "    <tr>\n",
       "      <th>3</th>\n",
       "      <td>District 04</td>\n",
       "      <td>Alabama</td>\n",
       "      <td>41.1</td>\n",
       "      <td>132800</td>\n",
       "      <td>98600</td>\n",
       "      <td>(-1, 200000]</td>\n",
       "      <td>7</td>\n",
       "      <td>0.513009</td>\n",
       "    </tr>\n",
       "    <tr>\n",
       "      <th>4</th>\n",
       "      <td>District 05</td>\n",
       "      <td>Alabama</td>\n",
       "      <td>39.7</td>\n",
       "      <td>173300</td>\n",
       "      <td>98600</td>\n",
       "      <td>(-1, 200000]</td>\n",
       "      <td>7</td>\n",
       "      <td>0.513009</td>\n",
       "    </tr>\n",
       "    <tr>\n",
       "      <th>...</th>\n",
       "      <td>...</td>\n",
       "      <td>...</td>\n",
       "      <td>...</td>\n",
       "      <td>...</td>\n",
       "      <td>...</td>\n",
       "      <td>...</td>\n",
       "      <td>...</td>\n",
       "      <td>...</td>\n",
       "    </tr>\n",
       "    <tr>\n",
       "      <th>430</th>\n",
       "      <td>District 05</td>\n",
       "      <td>Wisconsin</td>\n",
       "      <td>42.5</td>\n",
       "      <td>252700</td>\n",
       "      <td>114100</td>\n",
       "      <td>(-1, 200000]</td>\n",
       "      <td>8</td>\n",
       "      <td>0.133724</td>\n",
       "    </tr>\n",
       "    <tr>\n",
       "      <th>431</th>\n",
       "      <td>District 06</td>\n",
       "      <td>Wisconsin</td>\n",
       "      <td>42.0</td>\n",
       "      <td>174700</td>\n",
       "      <td>114100</td>\n",
       "      <td>(-1, 200000]</td>\n",
       "      <td>8</td>\n",
       "      <td>0.133724</td>\n",
       "    </tr>\n",
       "    <tr>\n",
       "      <th>432</th>\n",
       "      <td>District 07</td>\n",
       "      <td>Wisconsin</td>\n",
       "      <td>45.0</td>\n",
       "      <td>168100</td>\n",
       "      <td>114100</td>\n",
       "      <td>(-1, 200000]</td>\n",
       "      <td>8</td>\n",
       "      <td>0.133724</td>\n",
       "    </tr>\n",
       "    <tr>\n",
       "      <th>433</th>\n",
       "      <td>District 08</td>\n",
       "      <td>Wisconsin</td>\n",
       "      <td>40.8</td>\n",
       "      <td>180000</td>\n",
       "      <td>114100</td>\n",
       "      <td>(-1, 200000]</td>\n",
       "      <td>8</td>\n",
       "      <td>0.133724</td>\n",
       "    </tr>\n",
       "    <tr>\n",
       "      <th>434</th>\n",
       "      <td>District (At Large)</td>\n",
       "      <td>Wyoming</td>\n",
       "      <td>38.1</td>\n",
       "      <td>235200</td>\n",
       "      <td>0</td>\n",
       "      <td>(-1, 200000]</td>\n",
       "      <td>1</td>\n",
       "      <td>NaN</td>\n",
       "    </tr>\n",
       "  </tbody>\n",
       "</table>\n",
       "<p>435 rows × 8 columns</p>\n",
       "</div>"
      ],
      "text/plain": [
       "                district      state  med_age  med_hous  state_hous_range  \\\n",
       "0            District 01    Alabama     40.4    160600             98600   \n",
       "1            District 02    Alabama     39.0    135500             98600   \n",
       "2            District 03    Alabama     38.9    144700             98600   \n",
       "3            District 04    Alabama     41.1    132800             98600   \n",
       "4            District 05    Alabama     39.7    173300             98600   \n",
       "..                   ...        ...      ...       ...               ...   \n",
       "430          District 05  Wisconsin     42.5    252700            114100   \n",
       "431          District 06  Wisconsin     42.0    174700            114100   \n",
       "432          District 07  Wisconsin     45.0    168100            114100   \n",
       "433          District 08  Wisconsin     40.8    180000            114100   \n",
       "434  District (At Large)    Wyoming     38.1    235200                 0   \n",
       "\n",
       "    state_hous_range_bin  state_num_dist  state_corr  \n",
       "0           (-1, 200000]               7    0.513009  \n",
       "1           (-1, 200000]               7    0.513009  \n",
       "2           (-1, 200000]               7    0.513009  \n",
       "3           (-1, 200000]               7    0.513009  \n",
       "4           (-1, 200000]               7    0.513009  \n",
       "..                   ...             ...         ...  \n",
       "430         (-1, 200000]               8    0.133724  \n",
       "431         (-1, 200000]               8    0.133724  \n",
       "432         (-1, 200000]               8    0.133724  \n",
       "433         (-1, 200000]               8    0.133724  \n",
       "434         (-1, 200000]               1         NaN  \n",
       "\n",
       "[435 rows x 8 columns]"
      ]
     },
     "execution_count": 21,
     "metadata": {},
     "output_type": "execute_result"
    }
   ],
   "source": [
    "state_corr_abs = {}\n",
    "for state in df['state'].unique():\n",
    "    state_corr_abs[state] = np.abs(state_corr[state])\n",
    "\n",
    "df['state_corr'] = df['state'].map(state_corr_abs)\n",
    "df"
   ]
  },
  {
   "cell_type": "markdown",
   "metadata": {},
   "source": [
    "This scatterplot plots the magnitude of the in-state correlation of median age and median housing value against the number of congressional districts in that state. We wanted to determine whether the number of districts in a state was a primary factor in whether the magnitude of that state's correlation was very high. We see that with the cluster of data points in the bottom right of the scatterplot, states with a very strong magnitude of correlation also have very few districts in their state, so we believe that strong correlations are actually incidental due to number of districts in a state rather than because of a state's districts' median ages or median housing values."
   ]
  },
  {
   "cell_type": "code",
   "execution_count": 22,
   "metadata": {},
   "outputs": [
    {
     "data": {
      "image/png": "[encoded data removed]",
      "text/plain": [
       "<Figure size 1440x720 with 1 Axes>"
      ]
     },
     "metadata": {},
     "output_type": "display_data"
    }
   ],
   "source": [
    "sns.scatterplot(data=df, x='state_corr', y='state_num_dist', s=100)\n",
    "\n",
    "plt.title('In-State Correlation Magnitude of Median Age and Median Housing Value vs. State\\'s Number of Districts')\n",
    "plt.xlabel('In-State Correlation Magnitude of Median Age and Median Housing Value')\n",
    "plt.ylabel('Number of Districts in the State')\n",
    "plt.xticks(np.arange(0, 1.1, step=0.1))\n",
    "plt.yticks(np.arange(0, 60, step=5))\n",
    "[plt.axhline(y, 0, 55, color='gainsboro') for y in range(5,55,5)]\n",
    "\n",
    "plt.show()"
   ]
  },
  {
   "cell_type": "markdown",
   "metadata": {},
   "source": [
    "# Ethics & Privacy"
   ]
  },
  {
   "cell_type": "markdown",
   "metadata": {},
   "source": [
    "Due to the logistical nature of the census, there are certain cohorts that may be systematically excluded from the census, including, for example, homeless people who do not receive the census, low-income people who are too occupied with multiple jobs to fill out the census, people who may not be provided the census in their native language, and others who may not complete the census for fear of deportation. Though they do not comprise a monolith, by being excluded from participation in the census, whether intentionally or incidentally, the data may not be representative of and may therefore be biased against them. Despite this drawback, the census was the best option available to us to seek as representative a sample of the country as possible. As participation in the census is voluntary, the data has been collected with attention to consent.\n",
    "Another ethical consideration would be the consequences in regard to areas such as policy-making for particular demographic groups who may be negatively impacted by conclusions as a result of our analysis. To answer that question, we may consider the following scenario: if there seems to be some generation that has a lower cost of living, we could do something with this data in order to help those people rather than hurt them. However, one implication is that even if a certain group benefits as a whole, it may negatively affect other people on a more fine-grained level due to factors that may be confounded.\n",
    "\n",
    "The data itself is anonymous and private, which will reduce the stakes for those who participate in the census on an individual level. This set of data is also available for the public to see, making these correlations replicable for anyone who could ask this same question. We would like to acknowledge, however, that certain confounders like socioeconomic status may have the potential to distort the establishment of an association between our two variables. In our analysis, we do not have any spurious correlations, as the overall correlation does not seem to be significant. "
   ]
  },
  {
   "cell_type": "markdown",
   "metadata": {},
   "source": [
    "# Conclusion & Discussion"
   ]
  },
  {
   "cell_type": "markdown",
   "metadata": {},
   "source": [
    "To draw a relevant conclusion that we felt could apply to many if not all residents of the United States, we consolidated a list of the 435 US congressional districts and used census data, namely the median age and median housing value, for each of the districts. Our primary goal was to determine whether a relationship exists between a district’s median age and median cost of living — using a district’s median housing value as an indicator of the latter — across congressional districts in a given state in 2019. Since both variables are quantitative, we first started by conducting linear regression analysis on these variables and saw a very low correlation between the variables when comparing across all congressional districts. We then went through different transformations on the median housing value variable because we noticed that the median housing values did not conform to a normal distribution. Our analysis resulted in either high correlation coefficients due to small in-state sample sizes or low correlation coefficients despite the presence of more congressional districts in a given state (and every district containing approximately 750,000 inhabitants), which is insufficient in determining a significant relationship between the variables in question on both accounts.\n",
    "\n",
    "This limitation of small in-state sample sizes for some values in our dataset was compounded by the fact that a single median value for each variable is used to represent an entire congressional district, thus oversimplifying the complexity of this information as it exists and varies on a finer individual and geographical scale in the real world. A choropleth map, for example, could group regions with similar values for median housing value based on data at the district level encoding this metric, as these values may have edge effects relative to one another. A choropleth map, for example, could group regions with similar values for median housing value based on data at the district level encoding this metric, as these values may have edge effects relative to one another. Regardless, the demographic cohorts who are systematically excluded from participation in the census historically own homes with lower property values, bringing the mean of the values closer to its median in that sampling distribution. While we cannot use our dataset to conclude that a relationship exists between the variables, a relationship may be found in an ideal setting if we were to have access to every American residents’ age as well as multiple factors that contribute to one’s cost of living, including property value and disposable income. Such a conclusion would illuminate a disparity across age groups with respect to attaining wealth and maintaining financial stability."
   ]
  },
  {
   "cell_type": "markdown",
   "metadata": {},
   "source": [
    "# References"
   ]
  },
  {
   "cell_type": "markdown",
   "metadata": {},
   "source": [
    "Hankin, Aaron. “5 Reasons Millennials Aren’t Buying Homes.” Investopedia, https://www.investopedia.com/news/real-reasons-millennials-arent-buying-homes/. Accessed 11 Mar. 2021.\n",
    "\n",
    "Smith, Noah and Bloomberg. “Millennials Can’t Afford Homes after Exiting the Basement.” Newsday, https://www.newsday.com/opinion/commentary/millennials-afford-homes-living-with-parents-economy-1.46077032. Accessed 11 Mar. 2021."
   ]
  },
  {
   "cell_type": "markdown",
   "metadata": {},
   "source": [
    "# Team Contributions"
   ]
  },
  {
   "cell_type": "markdown",
   "metadata": {},
   "source": [
    "- **Research Question, Hypothesis**: all (Akil, Casey, Doanh, Sepideh)\n",
    "- **Overview**: Doanh\n",
    "- **Background & Prior Work**: Doanh\n",
    "- **Ethics & Privacy**: Casey\n",
    "- **Dataset, Setup, Data Cleaning**: all (Akil, Casey, Doanh, Sepideh)\n",
    "- **Data Analysis & Results**: Akil, Sepideh\n",
    "- **Conclusion & Discussion**: Akil, Sepideh"
   ]
  }
 ],
 "metadata": {
  "kernelspec": {
   "display_name": "Python 3",
   "language": "python",
   "name": "python3"
  },
  "language_info": {
   "codemirror_mode": {
    "name": "ipython",
    "version": 3
   },
   "file_extension": ".py",
   "mimetype": "text/x-python",
   "name": "python",
   "nbconvert_exporter": "python",
   "pygments_lexer": "ipython3",
   "version": "3.7.9"
  }
 },
 "nbformat": 4,
 "nbformat_minor": 2
}
