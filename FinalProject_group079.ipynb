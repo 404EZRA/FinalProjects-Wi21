{
 "cells": [
  {
   "cell_type": "markdown",
   "metadata": {},
   "source": [
    "## The Change of Daily Tech Usage and Activity Participation from the Years 2007 to 2016"
   ]
  },
  {
   "cell_type": "markdown",
   "metadata": {},
   "source": [
    "# Overview"
   ]
  },
  {
   "cell_type": "markdown",
   "metadata": {},
   "source": [
    "*Had to change the entire project and research question during week 8 due to problems with limited data/finding supplemental data.\n",
    "\n",
    "With the advancement of technology and people spending more time online than ever before, we wanted to see if there was a relationship between the amount of time people spend on electronics compared to the amount of time people spend exercising. We took data from the CDC for each year starting from 2007 to 2016 that counted the number of minutes participants spent on recreational and vigorous activities and the number of minutes participants spent using electronics such as computers, and television/video games. The data we ended up using was individual-level data. Then we created pie charts and bar graphs to see which activity most Americans spend the most and least time on, and these visualizations also showed us how the data had changed over the years. "
   ]
  },
  {
   "cell_type": "markdown",
   "metadata": {},
   "source": [
    "# Names\n",
    "\n",
    "- Thomas ‘Cole’ Biehle\n",
    "- Corrina Chung\n",
    "- Cassandra De La Torre\n",
    "- Nicholas Kho"
   ]
  },
  {
   "cell_type": "markdown",
   "metadata": {},
   "source": [
    "<a id='research_question'></a>\n",
    "# Research Question"
   ]
  },
  {
   "cell_type": "markdown",
   "metadata": {},
   "source": [
    "What is the relationship between minutes spent on recreational activities (moderate and vigorous) and minutes spent using electronics (computers, television, and video games) by Americans from the year 2007 to 2016?"
   ]
  },
  {
   "cell_type": "markdown",
   "metadata": {},
   "source": [
    "<a id='background'></a>\n",
    "\n",
    "## Background & Prior Work"
   ]
  },
  {
   "cell_type": "markdown",
   "metadata": {},
   "source": [
    "Living in an era where technology is constantly evolving, it has impacted our lives immensely. We use smartphones and technology in our everyday lives, whether it’s for entertainment purposes, communicating and interacting with people, or keeping track of appointments and reminders. With the advancements and rise of technology, the list of possible smartphone capabilities is endless. We believe that the downside of more people having access to smartphones and technology is that people are spending less time engaging in physical activities. Which ultimately has a negative impact on people's health and well being. \n",
    "\n",
    "Our team feels strongly about this topic because we all grew up in the generation where technology started skyrocketing, as it was becoming more accessible to people. We saw the advancements of Samsung and Apple devices from iPods, to iTouches, to iPhones, and iPad, and we all grew up around smartphones and computers. Because we can do just about everything online nowadays, we don’t spend as much time going outside to exercise or to workout. Especially as college students, with the little free time we do have outside of school, work, and extracurricular activities, we typically enjoy spending that time on leisure activities whether it’s watching TV, or playing games, etc. The last time Corrina can remember going outside to exercise was probably in high school for PE class, which was almost 4 years ago. Or for example, Cassandra who has not exercised for the past year. Cole recollects that as his use of technology increased, he spent less and less time doing physical activity. Since college started, Nick has noticed that his eyesight has gotten worse because of how much more time he spends on the screen compared to doing activities outside. \n",
    "\n",
    "To summarize some of the sources, we found that more screen time correlates with less activity time. Some interesting statistics are that on average kids between the ages of 8-18 spend about 7.5 hours in front of a screen everyday, and 4.5 hours watching TV. This adds up to about 114 out of 365 days where people are using screen time for entertainment purposes only. It is important to note that this excludes educational screen time. Meaning if we total educational screen time, work related screen time, etc we are spending an exceedingly amount of time on electronics. Some other statistical findings that we found interesting was that, on average Americans report about having 300 minutes of free time each day, yet spend less than 30 minutes exercising. These numbers definitely put into perspective how inactive Americans are. Thus we decided to conduct further research to see if there is a relationship between screen time and exercising. \n",
    "\n",
    "\n",
    "\n",
    "References (include links):\n",
    "- 1) https://www.nhlbi.nih.gov/health/educational/wecan/news-events/matte4.htm#:~:text=More%20Screen%20Time%20Equals%20Less%20Activity%20Time&text=The%20more%20time%20children%20spend,minutes%20of%20daily%20physical%20activity. \n",
    "- 2) https://www.cdc.gov/nccdphp/dnpao/multimedia/infographics/getmoving.html \n",
    "- 3) https://www.runnersworld.com/news/a29862504/americans-daily-free-time-research/ "
   ]
  },
  {
   "cell_type": "markdown",
   "metadata": {},
   "source": [
    "# Hypothesis\n"
   ]
  },
  {
   "cell_type": "markdown",
   "metadata": {},
   "source": [
    "We hypothesize that as screen time increased in the general population, the average amount of time spent engaging in physical activities decreased between the years of 2007-2016. We predict this is the case because we are living in an era where technology is constantly advancing and people have more access to smartphones and technology. This causes people to spend more time on screens and less time exercising."
   ]
  },
  {
   "cell_type": "markdown",
   "metadata": {},
   "source": [
    "# Dataset(s)"
   ]
  },
  {
   "cell_type": "markdown",
   "metadata": {},
   "source": [
    "We are using these datasets to see the relationship between the amount of time Americans spent on recreational and vigorous activities compared to the amount of time they spent on electronics over nine years. To do this, we incorporated data from each year to compare whether people are spending more time exercising or more time using electronics. Then we compared across the years in order to see if there was any change between each year. \n",
    "\n",
    "Dataset 1:\n",
    "- Dataset Name: National Health and Nutrition Examination Survey | 2007-2008 Data Documentation, Codebook, and Frequencies | Physical Activity (PAQ_E)   \n",
    "- Link to the dataset: https://wwwn.cdc.gov/Nchs/Nhanes/2007-2008/PAQ_E.htm\n",
    "- Number of observations: 9359\n",
    "- Link to data file: https://wwwn.cdc.gov/Nchs/Nhanes/2007-2008/PAQ_E.XPT\n",
    "- Description: This dataset consists of data from the year 2007 to 2008 that accounts for the amount of time Americans spent on physical exercise and usage of electronics in a typical day.\n",
    "\n",
    "Dataset 2:\n",
    "- Dataset Name: National Health and Nutrition Examination Survey | 2009-2010 Data Documentation, Codebook, and Frequencies | Physical Activity (PAQ_F)\n",
    "- Link to the dataset: https://wwwn.cdc.gov/Nchs/Nhanes/2009-2010/PAQ_F.htm\n",
    "- Number of observations: 9771\n",
    "- Link to data file: https://wwwn.cdc.gov/Nchs/Nhanes/2009-2010/PAQ_F.XPT\n",
    "- Description: This dataset consists of data from the year 2009 to 2010 that accounts for the amount of time Americans spent on physical exercise and usage of electronics in a typical day.\n",
    "\n",
    "Dataset 3:\n",
    "- Dataset Name: National Health and Nutrition Examination Survey | 2011-2012 Data Documentation, Codebook, and Frequencies | Physical Activity (PAQ_G)\n",
    "- Link to the dataset: https://wwwn.cdc.gov/Nchs/Nhanes/2011-2012/PAQ_G.htm\n",
    "- Number of observations: 9107\n",
    "- Link to data file: https://wwwn.cdc.gov/Nchs/Nhanes/2011-2012/PAQ_G.XPT\n",
    "- Description: This dataset consists of data from the year 2011 to 2012 that accounts for the amount of time Americans spent on physical exercise and usage of electronics in a typical day.\n",
    "\n",
    "\n",
    "Dataset 4:\n",
    "- Dataset Name: National Health and Nutrition Examination Survey | 2013-2014 Data Documentation, Codebook, and Frequencies | Physical Activity (PAQ_H)\n",
    "- Link to the dataset: https://wwwn.cdc.gov/Nchs/Nhanes/2013-2014/PAQ_H.htm\n",
    "- Number of observations: 9484\n",
    "- Link to data file: https://wwwn.cdc.gov/Nchs/Nhanes/2013-2014/PAQ_H.XPT\n",
    "- Description: This dataset consists of data from the year 2013 to 2014 that accounts for the amount of time Americans spent on physical exercise and usage of electronics in a typical day.\n",
    "\n",
    "\n",
    "Dataset 5:\n",
    "- Dataset Name: National Health and Nutrition Examination Survey | 2015-2016 Data Documentation, Codebook, and Frequencies | Physical Activity (PAQ_I)\n",
    "- Number of observations: 9255\n",
    "- Link to data file: https://wwwn.cdc.gov/Nchs/Nhanes/2015-2016/PAQ_I.XPT\n",
    "- Description: This dataset consists of data from the year 2015 to 2016 that accounts for the amount of time Americans spent on physical exercise and usage of electronics in a typical day\n",
    "\n",
    "Combining these datasets:\n",
    "We plan to combine these five datasets so that we can have access to all of the physical exercise and usage of electronics from all the years. There are many columns that are unrelated to our topic so we have to remove those and then we will join the datasets with the remaining columns that pertain to our question.\n",
    "\n",
    "\n"
   ]
  },
  {
   "cell_type": "markdown",
   "metadata": {},
   "source": [
    "# Setup\n",
    "We first imported the necessary packages in order to conduct our dataframe manipulation and analysis.\n"
   ]
  },
  {
   "cell_type": "code",
   "execution_count": 1,
   "metadata": {},
   "outputs": [],
   "source": [
    "import numpy as np\n",
    "import pandas as pd\n",
    "import seaborn as sns\n",
    "import matplotlib.pyplot as plt \n"
   ]
  },
  {
   "cell_type": "markdown",
   "metadata": {},
   "source": [
    "We then read in our .xpt files and assigned them to variables based on their years."
   ]
  },
  {
   "cell_type": "code",
   "execution_count": 2,
   "metadata": {},
   "outputs": [],
   "source": [
    "df_2007 = pd.read_sas('PAQ_E.XPT')\n",
    "df_2009 = pd.read_sas('PAQ_F.XPT')\n",
    "df_2011 = pd.read_sas('PAQ_G.XPT')\n",
    "df_2013 = pd.read_sas('PAQ_H.XPT')\n",
    "df_2015 = pd.read_sas('PAQ_I.XPT')\n"
   ]
  },
  {
   "cell_type": "markdown",
   "metadata": {},
   "source": [
    "# Data Cleaning"
   ]
  },
  {
   "cell_type": "markdown",
   "metadata": {},
   "source": [
    "These cells contain all of the general functions that would then be used in cleaning functions for each year’s dataset. We created a function to fix very small numbers within the datasets, standardize the times to minutes, and clean strange entries within the computer usage column and the activities columns. \n",
    "\n",
    "Within our datasets, there were several numbers that were extremely small, but not actually zero. These numbers were essentially zero so we decided to make a function that makes these smaller numbers equal to zero, simplifying our manipulations.\n"
   ]
  },
  {
   "cell_type": "code",
   "execution_count": 3,
   "metadata": {},
   "outputs": [],
   "source": [
    "def fix_small_numbers(row):\n",
    "    if np.isnan(row) == True:\n",
    "        return row\n",
    "    else:\n",
    "        return int(row)"
   ]
  },
  {
   "cell_type": "markdown",
   "metadata": {},
   "source": [
    "For the columns that we wanted to focus on within the datasets, there was a conflict in the units of time used. The computer and Tv watch time columns were in hours, while the activity columns were in minutes. We decided to write a function to standardize the time by converting the computer and TV times from hours to minutes, rather than convert the activity minutes to hours so that we didn’t lose information due to rounding."
   ]
  },
  {
   "cell_type": "code",
   "execution_count": 4,
   "metadata": {},
   "outputs": [],
   "source": [
    "def standardize_time(row):\n",
    "    if np.isnan(row) == True:\n",
    "        return row\n",
    "    else:\n",
    "        ans = row * 60\n",
    "        return ans "
   ]
  },
  {
   "cell_type": "markdown",
   "metadata": {},
   "source": [
    "Within the computer column, there were some strange number usage in order to indicate answers such as “I don’t know”. We decided to make a function to take all of these user entries that had number entries aligning with this syntax and set them to ‘None’ so that we could remove them later.\n"
   ]
  },
  {
   "cell_type": "code",
   "execution_count": 5,
   "metadata": {},
   "outputs": [],
   "source": [
    "def clean_computer_TV(row):\n",
    "    if np.isnan(row) == True:\n",
    "        return row\n",
    "    if int(row) == 8:\n",
    "        return None\n",
    "    if int(row) == 6:\n",
    "        return None\n",
    "    if int(row) == 77:\n",
    "        return None\n",
    "    if int(row) == 99:\n",
    "        return None\n",
    "    else:\n",
    "        return row"
   ]
  },
  {
   "cell_type": "markdown",
   "metadata": {},
   "source": [
    "For the activity columns, there were also strange entries due to syntax presented with the question. There were also some answers that were too high to have been possible for the given time that they could have been doing the activity. We then created a function to change these strange entries to ‘None’, so that we could remove them a little later in the process.\n"
   ]
  },
  {
   "cell_type": "code",
   "execution_count": 6,
   "metadata": {},
   "outputs": [],
   "source": [
    "def clean_activities(row): \n",
    "    if np.isnan(row) == True:\n",
    "        return row\n",
    "    if int(row) == 7777:\n",
    "        return None\n",
    "    if int(row) == 9999:\n",
    "        return None\n",
    "    if int(row) > 480:\n",
    "        return None\n",
    "    else:\n",
    "        return row"
   ]
  },
  {
   "cell_type": "markdown",
   "metadata": {},
   "source": [
    "To clean our data, we used the functions made above to create cleaning functions for each year’s dataset. In addition to using the above functions, we also removed all of the unnecessary columns from each year’s dataset. Each year’s dataset was slightly different so we had to create separate cleaning functions for each one.\n",
    "\n",
    "For 2007 we manually dropped the columns that were outside of the five columns that we needed and renamed them to the appropriate name. After we only have the five necessary columns we used the helper methods above to clean the data so all the values would be in minutes instead of hours and minutes, and all the values that do not represent minutes are correctly represented.\n"
   ]
  },
  {
   "cell_type": "code",
   "execution_count": 7,
   "metadata": {},
   "outputs": [],
   "source": [
    "def clean_2007(df):\n",
    "    df = df.rename(columns = {'SEQN': 'User ID','PAD590':'minutes watch TV or videos past 30 days','PAD600': 'minutes use computer past 30 days','PAD660':'minutes vigorous recreational activities','PAD675':'minutes moderate recreational activities'}).drop(columns=['PAD615','PAD630','PAD645','PAD680','PAQ560','PAQ605','PAQ610','PAQ620','PAQ625','PAQ635','PAQ640','PAQ650','PAQ655','PAQ665','PAQ670','PAAQUEX' ])\n",
    "    tv_comp = ['minutes watch TV or videos past 30 days','minutes use computer past 30 days' ]\n",
    "    recreation = ['minutes vigorous recreational activities','minutes moderate recreational activities']\n",
    "    for i in tv_comp:\n",
    "        df[i] = df[i].apply(clean_computer_TV)\n",
    "    for i in recreation:\n",
    "        df[i] = df[i].apply(clean_activities)\n",
    "    for i in df.columns:\n",
    "        df[i] = df[i].apply(fix_small_numbers)\n",
    "    for i in tv_comp:\n",
    "        df[i] = df[i].apply(standardize_time)\n",
    "    return df"
   ]
  },
  {
   "cell_type": "markdown",
   "metadata": {},
   "source": [
    "For 2009 we manually dropped the columns that were outside of the five columns that we needed and renamed them to the appropriate name. After we only have the five necessary columns we used the helper methods above to clean the data so all the values would be in minutes instead of hours and minutes, and all the values that do not represent minutes are correctly represented\n"
   ]
  },
  {
   "cell_type": "code",
   "execution_count": 8,
   "metadata": {},
   "outputs": [],
   "source": [
    "def clean_2009(df):\n",
    "    df= df.rename(columns = {'SEQN': 'User ID','PAD590':'minutes watch TV or videos past 30 days','PAD600': 'minutes use computer past 30 days','PAD660':'minutes vigorous recreational activities','PAD675':'minutes moderate recreational activities'}).drop(columns=['PAQ706','PAD615','PAD630','PAD645','PAD680','PAQ605','PAQ610','PAQ620','PAQ625','PAQ635','PAQ640','PAQ650','PAQ655','PAQ665','PAQ670','PAAQUEX' ])\n",
    "    tv_comp = ['minutes watch TV or videos past 30 days','minutes use computer past 30 days' ]\n",
    "    recreation = ['minutes vigorous recreational activities','minutes moderate recreational activities']\n",
    "    for i in tv_comp:\n",
    "        df[i] = df[i].apply(clean_computer_TV)\n",
    "    for i in recreation:\n",
    "        df[i] = df[i].apply(clean_activities)\n",
    "    for i in df.columns:\n",
    "        df[i] = df[i].apply(fix_small_numbers)\n",
    "    for i in tv_comp:\n",
    "        df[i] = df[i].apply(standardize_time)\n",
    "    return df"
   ]
  },
  {
   "cell_type": "markdown",
   "metadata": {},
   "source": [
    "For 2011 we manually dropped the columns that were outside of the five columns that we needed and renamed them to the appropriate name. After we only have the five necessary columns we used the helper methods above to clean the data so all the values would be in minutes instead of hours and minutes, and all the values that do not represent minutes are correctly represented.\n"
   ]
  },
  {
   "cell_type": "code",
   "execution_count": 9,
   "metadata": {},
   "outputs": [],
   "source": [
    "def clean_2011(df):\n",
    "    df = df.rename(columns = {'SEQN': 'User ID','PAQ710':'minutes watch TV or videos past 30 days','PAQ715': 'minutes use computer past 30 days','PAD660':'minutes vigorous recreational activities','PAD675':'minutes moderate recreational activities'}).drop(columns=['PAQ706','PAD615','PAD680','PAD630','PAD645','PAQ605','PAQ610','PAQ620','PAQ625','PAQ635','PAQ640','PAQ650','PAQ655','PAQ665','PAQ670','PAAQUEX' ])\n",
    "    tv_comp = ['minutes watch TV or videos past 30 days','minutes use computer past 30 days' ]\n",
    "    recreation = ['minutes vigorous recreational activities','minutes moderate recreational activities']\n",
    "    for i in tv_comp:\n",
    "        df[i] = df[i].apply(clean_computer_TV)\n",
    "    for i in recreation:\n",
    "        df[i] = df[i].apply(clean_activities)\n",
    "    for i in df.columns:\n",
    "        df[i] = df[i].apply(fix_small_numbers)\n",
    "    for i in tv_comp:\n",
    "        df[i] = df[i].apply(standardize_time)\n",
    "    return df"
   ]
  },
  {
   "cell_type": "markdown",
   "metadata": {},
   "source": [
    "For 2013 we manually dropped the columns that were outside of the five columns that we needed and renamed them to the appropriate name. We needed a for loop to drop the columns in 2013 because there were over 90 columns in this dataset. After we only have the five necessary columns we used the helper methods above to clean the data so all the values would be in minutes instead of hours and minutes, and all the values that do not represent minutes are correctly represented.\n"
   ]
  },
  {
   "cell_type": "code",
   "execution_count": 10,
   "metadata": {},
   "outputs": [],
   "source": [
    "def clean_2013(df):\n",
    "    to_drop = []\n",
    "    for i in df.columns:\n",
    "        if len(i) > 6:\n",
    "            to_drop.append(i)\n",
    "    dropped_list = ['PAQ706','PAQ605','PAQ610','PAQ620','PAQ625','PAQ635','PAQ640','PAQ650','PAQ655','PAQ665','PAQ670','PAQ722','PAQ731','PAQ677','PAQ678','PAQ740','PAQ742','PAQ744','PAQ746','PAQ748','PAQ755','PAQ762','PAQ764','PAQ766','PAQ679','PAQ750','PAQ770','PAD615','PAD630','PAD645','PAD680','PAD733']\n",
    "    for i in dropped_list:\n",
    "        to_drop.append(i)\n",
    "    df = df.rename(columns = {'SEQN': 'User ID','PAQ710':'minutes watch TV or videos past 30 days','PAQ715': 'minutes use computer past 30 days','PAD660':'minutes vigorous recreational activities','PAD675':'minutes moderate recreational activities'}).drop(columns= to_drop)\n",
    "    tv_comp = ['minutes watch TV or videos past 30 days','minutes use computer past 30 days' ]\n",
    "    recreation = ['minutes vigorous recreational activities','minutes moderate recreational activities']\n",
    "    for i in tv_comp:\n",
    "        df[i] = df[i].apply(clean_computer_TV)\n",
    "    for i in recreation:\n",
    "        df[i] = df[i].apply(clean_activities)\n",
    "    for i in df.columns:\n",
    "        df[i] = df[i].apply(fix_small_numbers)\n",
    "    for i in tv_comp:\n",
    "        df[i] = df[i].apply(standardize_time)\n",
    "    return df"
   ]
  },
  {
   "cell_type": "markdown",
   "metadata": {},
   "source": [
    "For 2015 we manually dropped the columns that were outside of the five columns that we needed and renamed them to the appropriate name. We needed a for loop to drop the columns in 2015 because there were over 90 columns in this dataset. After we only have the five necessary columns we used the helper methods above to clean the data so all the values would be in minutes instead of hours and minutes, and all the values that do not represent minutes are correctly represented.\n"
   ]
  },
  {
   "cell_type": "code",
   "execution_count": 11,
   "metadata": {},
   "outputs": [],
   "source": [
    "def clean_2015(df):\n",
    "    to_drop = []\n",
    "    for i in df.columns:\n",
    "        if len(i) > 6:\n",
    "            to_drop.append(i)\n",
    "    dropped_list = ['PAQ706','PAQ605','PAQ610','PAQ620','PAQ625','PAQ635','PAQ640','PAQ650','PAQ655','PAQ665','PAQ670','PAQ722','PAQ731','PAQ677','PAQ678','PAQ740','PAQ742','PAQ744','PAQ746','PAQ748','PAQ755','PAQ762','PAQ764','PAQ766','PAQ679','PAQ750','PAQ770','PAD615','PAD630','PAD645','PAD680','PAD733']\n",
    "    for i in dropped_list:\n",
    "        to_drop.append(i)\n",
    "    df = df.rename(columns = {'SEQN': 'User ID','PAQ710':'minutes watch TV or videos past 30 days','PAQ715': 'minutes use computer past 30 days','PAD660':'minutes vigorous recreational activities','PAD675':'minutes moderate recreational activities'}).drop(columns= to_drop)\n",
    "    tv_comp = ['minutes watch TV or videos past 30 days','minutes use computer past 30 days' ]\n",
    "    recreation = ['minutes vigorous recreational activities','minutes moderate recreational activities']\n",
    "    for i in tv_comp:\n",
    "        df[i] = df[i].apply(clean_computer_TV)\n",
    "    for i in recreation:\n",
    "        df[i] = df[i].apply(clean_activities)\n",
    "    for i in df.columns:\n",
    "        df[i] = df[i].apply(fix_small_numbers)\n",
    "    for i in tv_comp:\n",
    "        df[i] = df[i].apply(standardize_time)\n",
    "    return df"
   ]
  },
  {
   "cell_type": "markdown",
   "metadata": {},
   "source": [
    "We then applied these cleaning functions to each year’s dataset. This would allow for them to have the correct columns so that we could then merge them into one.\n",
    "\n",
    "Looking at the 2007 dataset before cleaning:\n"
   ]
  },
  {
   "cell_type": "code",
   "execution_count": 12,
   "metadata": {},
   "outputs": [
    {
     "data": {
      "text/html": [
       "<div>\n",
       "<style scoped>\n",
       "    .dataframe tbody tr th:only-of-type {\n",
       "        vertical-align: middle;\n",
       "    }\n",
       "\n",
       "    .dataframe tbody tr th {\n",
       "        vertical-align: top;\n",
       "    }\n",
       "\n",
       "    .dataframe thead th {\n",
       "        text-align: right;\n",
       "    }\n",
       "</style>\n",
       "<table border=\"1\" class=\"dataframe\">\n",
       "  <thead>\n",
       "    <tr style=\"text-align: right;\">\n",
       "      <th></th>\n",
       "      <th>SEQN</th>\n",
       "      <th>PAQ560</th>\n",
       "      <th>PAD590</th>\n",
       "      <th>PAD600</th>\n",
       "      <th>PAQ605</th>\n",
       "      <th>PAQ610</th>\n",
       "      <th>PAD615</th>\n",
       "      <th>PAQ620</th>\n",
       "      <th>PAQ625</th>\n",
       "      <th>PAD630</th>\n",
       "      <th>...</th>\n",
       "      <th>PAQ640</th>\n",
       "      <th>PAD645</th>\n",
       "      <th>PAQ650</th>\n",
       "      <th>PAQ655</th>\n",
       "      <th>PAD660</th>\n",
       "      <th>PAQ665</th>\n",
       "      <th>PAQ670</th>\n",
       "      <th>PAD675</th>\n",
       "      <th>PAD680</th>\n",
       "      <th>PAAQUEX</th>\n",
       "    </tr>\n",
       "  </thead>\n",
       "  <tbody>\n",
       "    <tr>\n",
       "      <th>0</th>\n",
       "      <td>41475.0</td>\n",
       "      <td>NaN</td>\n",
       "      <td>NaN</td>\n",
       "      <td>NaN</td>\n",
       "      <td>2.0</td>\n",
       "      <td>NaN</td>\n",
       "      <td>NaN</td>\n",
       "      <td>2.0</td>\n",
       "      <td>NaN</td>\n",
       "      <td>NaN</td>\n",
       "      <td>...</td>\n",
       "      <td>NaN</td>\n",
       "      <td>NaN</td>\n",
       "      <td>2.0</td>\n",
       "      <td>NaN</td>\n",
       "      <td>NaN</td>\n",
       "      <td>2.0</td>\n",
       "      <td>NaN</td>\n",
       "      <td>NaN</td>\n",
       "      <td>720.0</td>\n",
       "      <td>1.0</td>\n",
       "    </tr>\n",
       "    <tr>\n",
       "      <th>1</th>\n",
       "      <td>41476.0</td>\n",
       "      <td>7.0</td>\n",
       "      <td>2.0</td>\n",
       "      <td>5.397605e-79</td>\n",
       "      <td>NaN</td>\n",
       "      <td>NaN</td>\n",
       "      <td>NaN</td>\n",
       "      <td>NaN</td>\n",
       "      <td>NaN</td>\n",
       "      <td>NaN</td>\n",
       "      <td>...</td>\n",
       "      <td>NaN</td>\n",
       "      <td>NaN</td>\n",
       "      <td>NaN</td>\n",
       "      <td>NaN</td>\n",
       "      <td>NaN</td>\n",
       "      <td>NaN</td>\n",
       "      <td>NaN</td>\n",
       "      <td>NaN</td>\n",
       "      <td>NaN</td>\n",
       "      <td>1.0</td>\n",
       "    </tr>\n",
       "    <tr>\n",
       "      <th>2</th>\n",
       "      <td>41477.0</td>\n",
       "      <td>NaN</td>\n",
       "      <td>NaN</td>\n",
       "      <td>NaN</td>\n",
       "      <td>2.0</td>\n",
       "      <td>NaN</td>\n",
       "      <td>NaN</td>\n",
       "      <td>2.0</td>\n",
       "      <td>NaN</td>\n",
       "      <td>NaN</td>\n",
       "      <td>...</td>\n",
       "      <td>NaN</td>\n",
       "      <td>NaN</td>\n",
       "      <td>2.0</td>\n",
       "      <td>NaN</td>\n",
       "      <td>NaN</td>\n",
       "      <td>2.0</td>\n",
       "      <td>NaN</td>\n",
       "      <td>NaN</td>\n",
       "      <td>240.0</td>\n",
       "      <td>1.0</td>\n",
       "    </tr>\n",
       "    <tr>\n",
       "      <th>3</th>\n",
       "      <td>41479.0</td>\n",
       "      <td>NaN</td>\n",
       "      <td>NaN</td>\n",
       "      <td>NaN</td>\n",
       "      <td>2.0</td>\n",
       "      <td>NaN</td>\n",
       "      <td>NaN</td>\n",
       "      <td>1.0</td>\n",
       "      <td>5.0</td>\n",
       "      <td>180.0</td>\n",
       "      <td>...</td>\n",
       "      <td>5.0</td>\n",
       "      <td>120.0</td>\n",
       "      <td>2.0</td>\n",
       "      <td>NaN</td>\n",
       "      <td>NaN</td>\n",
       "      <td>2.0</td>\n",
       "      <td>NaN</td>\n",
       "      <td>NaN</td>\n",
       "      <td>180.0</td>\n",
       "      <td>1.0</td>\n",
       "    </tr>\n",
       "    <tr>\n",
       "      <th>4</th>\n",
       "      <td>41480.0</td>\n",
       "      <td>7.0</td>\n",
       "      <td>1.0</td>\n",
       "      <td>6.000000e+00</td>\n",
       "      <td>NaN</td>\n",
       "      <td>NaN</td>\n",
       "      <td>NaN</td>\n",
       "      <td>NaN</td>\n",
       "      <td>NaN</td>\n",
       "      <td>NaN</td>\n",
       "      <td>...</td>\n",
       "      <td>NaN</td>\n",
       "      <td>NaN</td>\n",
       "      <td>NaN</td>\n",
       "      <td>NaN</td>\n",
       "      <td>NaN</td>\n",
       "      <td>NaN</td>\n",
       "      <td>NaN</td>\n",
       "      <td>NaN</td>\n",
       "      <td>NaN</td>\n",
       "      <td>1.0</td>\n",
       "    </tr>\n",
       "  </tbody>\n",
       "</table>\n",
       "<p>5 rows × 21 columns</p>\n",
       "</div>"
      ],
      "text/plain": [
       "      SEQN  PAQ560  PAD590        PAD600  PAQ605  PAQ610  PAD615  PAQ620  \\\n",
       "0  41475.0     NaN     NaN           NaN     2.0     NaN     NaN     2.0   \n",
       "1  41476.0     7.0     2.0  5.397605e-79     NaN     NaN     NaN     NaN   \n",
       "2  41477.0     NaN     NaN           NaN     2.0     NaN     NaN     2.0   \n",
       "3  41479.0     NaN     NaN           NaN     2.0     NaN     NaN     1.0   \n",
       "4  41480.0     7.0     1.0  6.000000e+00     NaN     NaN     NaN     NaN   \n",
       "\n",
       "   PAQ625  PAD630  ...  PAQ640  PAD645  PAQ650  PAQ655  PAD660  PAQ665  \\\n",
       "0     NaN     NaN  ...     NaN     NaN     2.0     NaN     NaN     2.0   \n",
       "1     NaN     NaN  ...     NaN     NaN     NaN     NaN     NaN     NaN   \n",
       "2     NaN     NaN  ...     NaN     NaN     2.0     NaN     NaN     2.0   \n",
       "3     5.0   180.0  ...     5.0   120.0     2.0     NaN     NaN     2.0   \n",
       "4     NaN     NaN  ...     NaN     NaN     NaN     NaN     NaN     NaN   \n",
       "\n",
       "   PAQ670  PAD675  PAD680  PAAQUEX  \n",
       "0     NaN     NaN   720.0      1.0  \n",
       "1     NaN     NaN     NaN      1.0  \n",
       "2     NaN     NaN   240.0      1.0  \n",
       "3     NaN     NaN   180.0      1.0  \n",
       "4     NaN     NaN     NaN      1.0  \n",
       "\n",
       "[5 rows x 21 columns]"
      ]
     },
     "execution_count": 12,
     "metadata": {},
     "output_type": "execute_result"
    }
   ],
   "source": [
    "df_2007.head()"
   ]
  },
  {
   "cell_type": "code",
   "execution_count": 13,
   "metadata": {},
   "outputs": [],
   "source": [
    "##  Using 2007 Cleaning Function on the 2007 dataframe\n",
    "df_2007 = clean_2007(df_2007)"
   ]
  },
  {
   "cell_type": "markdown",
   "metadata": {},
   "source": [
    "Looking at the 2007 dataset after cleaning:"
   ]
  },
  {
   "cell_type": "code",
   "execution_count": 14,
   "metadata": {},
   "outputs": [
    {
     "data": {
      "text/html": [
       "<div>\n",
       "<style scoped>\n",
       "    .dataframe tbody tr th:only-of-type {\n",
       "        vertical-align: middle;\n",
       "    }\n",
       "\n",
       "    .dataframe tbody tr th {\n",
       "        vertical-align: top;\n",
       "    }\n",
       "\n",
       "    .dataframe thead th {\n",
       "        text-align: right;\n",
       "    }\n",
       "</style>\n",
       "<table border=\"1\" class=\"dataframe\">\n",
       "  <thead>\n",
       "    <tr style=\"text-align: right;\">\n",
       "      <th></th>\n",
       "      <th>User ID</th>\n",
       "      <th>minutes watch TV or videos past 30 days</th>\n",
       "      <th>minutes use computer past 30 days</th>\n",
       "      <th>minutes vigorous recreational activities</th>\n",
       "      <th>minutes moderate recreational activities</th>\n",
       "    </tr>\n",
       "  </thead>\n",
       "  <tbody>\n",
       "    <tr>\n",
       "      <th>0</th>\n",
       "      <td>41475</td>\n",
       "      <td>NaN</td>\n",
       "      <td>NaN</td>\n",
       "      <td>NaN</td>\n",
       "      <td>NaN</td>\n",
       "    </tr>\n",
       "    <tr>\n",
       "      <th>1</th>\n",
       "      <td>41476</td>\n",
       "      <td>120.0</td>\n",
       "      <td>0.0</td>\n",
       "      <td>NaN</td>\n",
       "      <td>NaN</td>\n",
       "    </tr>\n",
       "    <tr>\n",
       "      <th>2</th>\n",
       "      <td>41477</td>\n",
       "      <td>NaN</td>\n",
       "      <td>NaN</td>\n",
       "      <td>NaN</td>\n",
       "      <td>NaN</td>\n",
       "    </tr>\n",
       "    <tr>\n",
       "      <th>3</th>\n",
       "      <td>41479</td>\n",
       "      <td>NaN</td>\n",
       "      <td>NaN</td>\n",
       "      <td>NaN</td>\n",
       "      <td>NaN</td>\n",
       "    </tr>\n",
       "    <tr>\n",
       "      <th>4</th>\n",
       "      <td>41480</td>\n",
       "      <td>60.0</td>\n",
       "      <td>NaN</td>\n",
       "      <td>NaN</td>\n",
       "      <td>NaN</td>\n",
       "    </tr>\n",
       "  </tbody>\n",
       "</table>\n",
       "</div>"
      ],
      "text/plain": [
       "   User ID  minutes watch TV or videos past 30 days  \\\n",
       "0    41475                                      NaN   \n",
       "1    41476                                    120.0   \n",
       "2    41477                                      NaN   \n",
       "3    41479                                      NaN   \n",
       "4    41480                                     60.0   \n",
       "\n",
       "   minutes use computer past 30 days  \\\n",
       "0                                NaN   \n",
       "1                                0.0   \n",
       "2                                NaN   \n",
       "3                                NaN   \n",
       "4                                NaN   \n",
       "\n",
       "   minutes vigorous recreational activities  \\\n",
       "0                                       NaN   \n",
       "1                                       NaN   \n",
       "2                                       NaN   \n",
       "3                                       NaN   \n",
       "4                                       NaN   \n",
       "\n",
       "   minutes moderate recreational activities  \n",
       "0                                       NaN  \n",
       "1                                       NaN  \n",
       "2                                       NaN  \n",
       "3                                       NaN  \n",
       "4                                       NaN  "
      ]
     },
     "execution_count": 14,
     "metadata": {},
     "output_type": "execute_result"
    }
   ],
   "source": [
    "df_2007.head()"
   ]
  },
  {
   "cell_type": "markdown",
   "metadata": {},
   "source": [
    "Then viewing the current shape of the 2007 dataset:"
   ]
  },
  {
   "cell_type": "code",
   "execution_count": 15,
   "metadata": {},
   "outputs": [
    {
     "data": {
      "text/plain": [
       "(9359, 5)"
      ]
     },
     "execution_count": 15,
     "metadata": {},
     "output_type": "execute_result"
    }
   ],
   "source": [
    "df_2007.shape"
   ]
  },
  {
   "cell_type": "markdown",
   "metadata": {},
   "source": [
    "Looking at the 2009 dataset before cleaning: "
   ]
  },
  {
   "cell_type": "code",
   "execution_count": 16,
   "metadata": {},
   "outputs": [
    {
     "data": {
      "text/html": [
       "<div>\n",
       "<style scoped>\n",
       "    .dataframe tbody tr th:only-of-type {\n",
       "        vertical-align: middle;\n",
       "    }\n",
       "\n",
       "    .dataframe tbody tr th {\n",
       "        vertical-align: top;\n",
       "    }\n",
       "\n",
       "    .dataframe thead th {\n",
       "        text-align: right;\n",
       "    }\n",
       "</style>\n",
       "<table border=\"1\" class=\"dataframe\">\n",
       "  <thead>\n",
       "    <tr style=\"text-align: right;\">\n",
       "      <th></th>\n",
       "      <th>SEQN</th>\n",
       "      <th>PAQ706</th>\n",
       "      <th>PAD590</th>\n",
       "      <th>PAD600</th>\n",
       "      <th>PAQ605</th>\n",
       "      <th>PAQ610</th>\n",
       "      <th>PAD615</th>\n",
       "      <th>PAQ620</th>\n",
       "      <th>PAQ625</th>\n",
       "      <th>PAD630</th>\n",
       "      <th>...</th>\n",
       "      <th>PAQ640</th>\n",
       "      <th>PAD645</th>\n",
       "      <th>PAQ650</th>\n",
       "      <th>PAQ655</th>\n",
       "      <th>PAD660</th>\n",
       "      <th>PAQ665</th>\n",
       "      <th>PAQ670</th>\n",
       "      <th>PAD675</th>\n",
       "      <th>PAD680</th>\n",
       "      <th>PAAQUEX</th>\n",
       "    </tr>\n",
       "  </thead>\n",
       "  <tbody>\n",
       "    <tr>\n",
       "      <th>0</th>\n",
       "      <td>51624.0</td>\n",
       "      <td>NaN</td>\n",
       "      <td>NaN</td>\n",
       "      <td>NaN</td>\n",
       "      <td>2.0</td>\n",
       "      <td>NaN</td>\n",
       "      <td>NaN</td>\n",
       "      <td>2.0</td>\n",
       "      <td>NaN</td>\n",
       "      <td>NaN</td>\n",
       "      <td>...</td>\n",
       "      <td>NaN</td>\n",
       "      <td>NaN</td>\n",
       "      <td>2.0</td>\n",
       "      <td>NaN</td>\n",
       "      <td>NaN</td>\n",
       "      <td>2.0</td>\n",
       "      <td>NaN</td>\n",
       "      <td>NaN</td>\n",
       "      <td>480.0</td>\n",
       "      <td>1.0</td>\n",
       "    </tr>\n",
       "    <tr>\n",
       "      <th>1</th>\n",
       "      <td>51625.0</td>\n",
       "      <td>7.0</td>\n",
       "      <td>4.0</td>\n",
       "      <td>1.0</td>\n",
       "      <td>NaN</td>\n",
       "      <td>NaN</td>\n",
       "      <td>NaN</td>\n",
       "      <td>NaN</td>\n",
       "      <td>NaN</td>\n",
       "      <td>NaN</td>\n",
       "      <td>...</td>\n",
       "      <td>NaN</td>\n",
       "      <td>NaN</td>\n",
       "      <td>NaN</td>\n",
       "      <td>NaN</td>\n",
       "      <td>NaN</td>\n",
       "      <td>NaN</td>\n",
       "      <td>NaN</td>\n",
       "      <td>NaN</td>\n",
       "      <td>NaN</td>\n",
       "      <td>1.0</td>\n",
       "    </tr>\n",
       "    <tr>\n",
       "      <th>2</th>\n",
       "      <td>51626.0</td>\n",
       "      <td>NaN</td>\n",
       "      <td>NaN</td>\n",
       "      <td>NaN</td>\n",
       "      <td>2.0</td>\n",
       "      <td>NaN</td>\n",
       "      <td>NaN</td>\n",
       "      <td>2.0</td>\n",
       "      <td>NaN</td>\n",
       "      <td>NaN</td>\n",
       "      <td>...</td>\n",
       "      <td>3.0</td>\n",
       "      <td>10.0</td>\n",
       "      <td>2.0</td>\n",
       "      <td>NaN</td>\n",
       "      <td>NaN</td>\n",
       "      <td>1.0</td>\n",
       "      <td>5.0</td>\n",
       "      <td>20.0</td>\n",
       "      <td>240.0</td>\n",
       "      <td>1.0</td>\n",
       "    </tr>\n",
       "    <tr>\n",
       "      <th>3</th>\n",
       "      <td>51627.0</td>\n",
       "      <td>7.0</td>\n",
       "      <td>1.0</td>\n",
       "      <td>1.0</td>\n",
       "      <td>NaN</td>\n",
       "      <td>NaN</td>\n",
       "      <td>NaN</td>\n",
       "      <td>NaN</td>\n",
       "      <td>NaN</td>\n",
       "      <td>NaN</td>\n",
       "      <td>...</td>\n",
       "      <td>NaN</td>\n",
       "      <td>NaN</td>\n",
       "      <td>NaN</td>\n",
       "      <td>NaN</td>\n",
       "      <td>NaN</td>\n",
       "      <td>NaN</td>\n",
       "      <td>NaN</td>\n",
       "      <td>NaN</td>\n",
       "      <td>NaN</td>\n",
       "      <td>1.0</td>\n",
       "    </tr>\n",
       "    <tr>\n",
       "      <th>4</th>\n",
       "      <td>51628.0</td>\n",
       "      <td>NaN</td>\n",
       "      <td>NaN</td>\n",
       "      <td>NaN</td>\n",
       "      <td>2.0</td>\n",
       "      <td>NaN</td>\n",
       "      <td>NaN</td>\n",
       "      <td>2.0</td>\n",
       "      <td>NaN</td>\n",
       "      <td>NaN</td>\n",
       "      <td>...</td>\n",
       "      <td>NaN</td>\n",
       "      <td>NaN</td>\n",
       "      <td>2.0</td>\n",
       "      <td>NaN</td>\n",
       "      <td>NaN</td>\n",
       "      <td>2.0</td>\n",
       "      <td>NaN</td>\n",
       "      <td>NaN</td>\n",
       "      <td>240.0</td>\n",
       "      <td>1.0</td>\n",
       "    </tr>\n",
       "  </tbody>\n",
       "</table>\n",
       "<p>5 rows × 21 columns</p>\n",
       "</div>"
      ],
      "text/plain": [
       "      SEQN  PAQ706  PAD590  PAD600  PAQ605  PAQ610  PAD615  PAQ620  PAQ625  \\\n",
       "0  51624.0     NaN     NaN     NaN     2.0     NaN     NaN     2.0     NaN   \n",
       "1  51625.0     7.0     4.0     1.0     NaN     NaN     NaN     NaN     NaN   \n",
       "2  51626.0     NaN     NaN     NaN     2.0     NaN     NaN     2.0     NaN   \n",
       "3  51627.0     7.0     1.0     1.0     NaN     NaN     NaN     NaN     NaN   \n",
       "4  51628.0     NaN     NaN     NaN     2.0     NaN     NaN     2.0     NaN   \n",
       "\n",
       "   PAD630  ...  PAQ640  PAD645  PAQ650  PAQ655  PAD660  PAQ665  PAQ670  \\\n",
       "0     NaN  ...     NaN     NaN     2.0     NaN     NaN     2.0     NaN   \n",
       "1     NaN  ...     NaN     NaN     NaN     NaN     NaN     NaN     NaN   \n",
       "2     NaN  ...     3.0    10.0     2.0     NaN     NaN     1.0     5.0   \n",
       "3     NaN  ...     NaN     NaN     NaN     NaN     NaN     NaN     NaN   \n",
       "4     NaN  ...     NaN     NaN     2.0     NaN     NaN     2.0     NaN   \n",
       "\n",
       "   PAD675  PAD680  PAAQUEX  \n",
       "0     NaN   480.0      1.0  \n",
       "1     NaN     NaN      1.0  \n",
       "2    20.0   240.0      1.0  \n",
       "3     NaN     NaN      1.0  \n",
       "4     NaN   240.0      1.0  \n",
       "\n",
       "[5 rows x 21 columns]"
      ]
     },
     "execution_count": 16,
     "metadata": {},
     "output_type": "execute_result"
    }
   ],
   "source": [
    "df_2009.head()"
   ]
  },
  {
   "cell_type": "code",
   "execution_count": 17,
   "metadata": {},
   "outputs": [],
   "source": [
    "##  Using 2009 Cleaning Function on the 2009 dataframe\n",
    "df_2009 = clean_2009(df_2009)"
   ]
  },
  {
   "cell_type": "markdown",
   "metadata": {},
   "source": [
    "Looking at the 2009 dataset after cleaning:"
   ]
  },
  {
   "cell_type": "code",
   "execution_count": 18,
   "metadata": {},
   "outputs": [
    {
     "data": {
      "text/html": [
       "<div>\n",
       "<style scoped>\n",
       "    .dataframe tbody tr th:only-of-type {\n",
       "        vertical-align: middle;\n",
       "    }\n",
       "\n",
       "    .dataframe tbody tr th {\n",
       "        vertical-align: top;\n",
       "    }\n",
       "\n",
       "    .dataframe thead th {\n",
       "        text-align: right;\n",
       "    }\n",
       "</style>\n",
       "<table border=\"1\" class=\"dataframe\">\n",
       "  <thead>\n",
       "    <tr style=\"text-align: right;\">\n",
       "      <th></th>\n",
       "      <th>User ID</th>\n",
       "      <th>minutes watch TV or videos past 30 days</th>\n",
       "      <th>minutes use computer past 30 days</th>\n",
       "      <th>minutes vigorous recreational activities</th>\n",
       "      <th>minutes moderate recreational activities</th>\n",
       "    </tr>\n",
       "  </thead>\n",
       "  <tbody>\n",
       "    <tr>\n",
       "      <th>0</th>\n",
       "      <td>51624</td>\n",
       "      <td>NaN</td>\n",
       "      <td>NaN</td>\n",
       "      <td>NaN</td>\n",
       "      <td>NaN</td>\n",
       "    </tr>\n",
       "    <tr>\n",
       "      <th>1</th>\n",
       "      <td>51625</td>\n",
       "      <td>240.0</td>\n",
       "      <td>60.0</td>\n",
       "      <td>NaN</td>\n",
       "      <td>NaN</td>\n",
       "    </tr>\n",
       "    <tr>\n",
       "      <th>2</th>\n",
       "      <td>51626</td>\n",
       "      <td>NaN</td>\n",
       "      <td>NaN</td>\n",
       "      <td>NaN</td>\n",
       "      <td>20.0</td>\n",
       "    </tr>\n",
       "    <tr>\n",
       "      <th>3</th>\n",
       "      <td>51627</td>\n",
       "      <td>60.0</td>\n",
       "      <td>60.0</td>\n",
       "      <td>NaN</td>\n",
       "      <td>NaN</td>\n",
       "    </tr>\n",
       "    <tr>\n",
       "      <th>4</th>\n",
       "      <td>51628</td>\n",
       "      <td>NaN</td>\n",
       "      <td>NaN</td>\n",
       "      <td>NaN</td>\n",
       "      <td>NaN</td>\n",
       "    </tr>\n",
       "  </tbody>\n",
       "</table>\n",
       "</div>"
      ],
      "text/plain": [
       "   User ID  minutes watch TV or videos past 30 days  \\\n",
       "0    51624                                      NaN   \n",
       "1    51625                                    240.0   \n",
       "2    51626                                      NaN   \n",
       "3    51627                                     60.0   \n",
       "4    51628                                      NaN   \n",
       "\n",
       "   minutes use computer past 30 days  \\\n",
       "0                                NaN   \n",
       "1                               60.0   \n",
       "2                                NaN   \n",
       "3                               60.0   \n",
       "4                                NaN   \n",
       "\n",
       "   minutes vigorous recreational activities  \\\n",
       "0                                       NaN   \n",
       "1                                       NaN   \n",
       "2                                       NaN   \n",
       "3                                       NaN   \n",
       "4                                       NaN   \n",
       "\n",
       "   minutes moderate recreational activities  \n",
       "0                                       NaN  \n",
       "1                                       NaN  \n",
       "2                                      20.0  \n",
       "3                                       NaN  \n",
       "4                                       NaN  "
      ]
     },
     "execution_count": 18,
     "metadata": {},
     "output_type": "execute_result"
    }
   ],
   "source": [
    "df_2009.head()"
   ]
  },
  {
   "cell_type": "markdown",
   "metadata": {},
   "source": [
    "Then viewing the current shape of the 2009 dataset:"
   ]
  },
  {
   "cell_type": "code",
   "execution_count": 19,
   "metadata": {},
   "outputs": [
    {
     "data": {
      "text/plain": [
       "(9771, 5)"
      ]
     },
     "execution_count": 19,
     "metadata": {},
     "output_type": "execute_result"
    }
   ],
   "source": [
    "df_2009.shape"
   ]
  },
  {
   "cell_type": "markdown",
   "metadata": {},
   "source": [
    "Looking at the 2011 dataset before cleaning: \n"
   ]
  },
  {
   "cell_type": "code",
   "execution_count": 20,
   "metadata": {},
   "outputs": [
    {
     "data": {
      "text/html": [
       "<div>\n",
       "<style scoped>\n",
       "    .dataframe tbody tr th:only-of-type {\n",
       "        vertical-align: middle;\n",
       "    }\n",
       "\n",
       "    .dataframe tbody tr th {\n",
       "        vertical-align: top;\n",
       "    }\n",
       "\n",
       "    .dataframe thead th {\n",
       "        text-align: right;\n",
       "    }\n",
       "</style>\n",
       "<table border=\"1\" class=\"dataframe\">\n",
       "  <thead>\n",
       "    <tr style=\"text-align: right;\">\n",
       "      <th></th>\n",
       "      <th>SEQN</th>\n",
       "      <th>PAQ706</th>\n",
       "      <th>PAQ605</th>\n",
       "      <th>PAQ610</th>\n",
       "      <th>PAD615</th>\n",
       "      <th>PAQ620</th>\n",
       "      <th>PAQ625</th>\n",
       "      <th>PAD630</th>\n",
       "      <th>PAQ635</th>\n",
       "      <th>PAQ640</th>\n",
       "      <th>...</th>\n",
       "      <th>PAQ650</th>\n",
       "      <th>PAQ655</th>\n",
       "      <th>PAD660</th>\n",
       "      <th>PAQ665</th>\n",
       "      <th>PAQ670</th>\n",
       "      <th>PAD675</th>\n",
       "      <th>PAD680</th>\n",
       "      <th>PAQ710</th>\n",
       "      <th>PAQ715</th>\n",
       "      <th>PAAQUEX</th>\n",
       "    </tr>\n",
       "  </thead>\n",
       "  <tbody>\n",
       "    <tr>\n",
       "      <th>0</th>\n",
       "      <td>62161.0</td>\n",
       "      <td>NaN</td>\n",
       "      <td>2.0</td>\n",
       "      <td>NaN</td>\n",
       "      <td>NaN</td>\n",
       "      <td>2.0</td>\n",
       "      <td>NaN</td>\n",
       "      <td>NaN</td>\n",
       "      <td>2.0</td>\n",
       "      <td>NaN</td>\n",
       "      <td>...</td>\n",
       "      <td>2.0</td>\n",
       "      <td>NaN</td>\n",
       "      <td>NaN</td>\n",
       "      <td>2.0</td>\n",
       "      <td>NaN</td>\n",
       "      <td>NaN</td>\n",
       "      <td>300.0</td>\n",
       "      <td>3.000000e+00</td>\n",
       "      <td>3.0</td>\n",
       "      <td>1.0</td>\n",
       "    </tr>\n",
       "    <tr>\n",
       "      <th>1</th>\n",
       "      <td>62162.0</td>\n",
       "      <td>7.0</td>\n",
       "      <td>NaN</td>\n",
       "      <td>NaN</td>\n",
       "      <td>NaN</td>\n",
       "      <td>NaN</td>\n",
       "      <td>NaN</td>\n",
       "      <td>NaN</td>\n",
       "      <td>NaN</td>\n",
       "      <td>NaN</td>\n",
       "      <td>...</td>\n",
       "      <td>NaN</td>\n",
       "      <td>NaN</td>\n",
       "      <td>NaN</td>\n",
       "      <td>NaN</td>\n",
       "      <td>NaN</td>\n",
       "      <td>NaN</td>\n",
       "      <td>NaN</td>\n",
       "      <td>5.397605e-79</td>\n",
       "      <td>8.0</td>\n",
       "      <td>1.0</td>\n",
       "    </tr>\n",
       "    <tr>\n",
       "      <th>2</th>\n",
       "      <td>62163.0</td>\n",
       "      <td>NaN</td>\n",
       "      <td>2.0</td>\n",
       "      <td>NaN</td>\n",
       "      <td>NaN</td>\n",
       "      <td>2.0</td>\n",
       "      <td>NaN</td>\n",
       "      <td>NaN</td>\n",
       "      <td>1.0</td>\n",
       "      <td>6.0</td>\n",
       "      <td>...</td>\n",
       "      <td>2.0</td>\n",
       "      <td>NaN</td>\n",
       "      <td>NaN</td>\n",
       "      <td>2.0</td>\n",
       "      <td>NaN</td>\n",
       "      <td>NaN</td>\n",
       "      <td>720.0</td>\n",
       "      <td>2.000000e+00</td>\n",
       "      <td>3.0</td>\n",
       "      <td>2.0</td>\n",
       "    </tr>\n",
       "    <tr>\n",
       "      <th>3</th>\n",
       "      <td>62164.0</td>\n",
       "      <td>NaN</td>\n",
       "      <td>1.0</td>\n",
       "      <td>5.0</td>\n",
       "      <td>60.0</td>\n",
       "      <td>2.0</td>\n",
       "      <td>NaN</td>\n",
       "      <td>NaN</td>\n",
       "      <td>2.0</td>\n",
       "      <td>NaN</td>\n",
       "      <td>...</td>\n",
       "      <td>1.0</td>\n",
       "      <td>5.0</td>\n",
       "      <td>60.0</td>\n",
       "      <td>1.0</td>\n",
       "      <td>1.0</td>\n",
       "      <td>45.0</td>\n",
       "      <td>300.0</td>\n",
       "      <td>2.000000e+00</td>\n",
       "      <td>8.0</td>\n",
       "      <td>1.0</td>\n",
       "    </tr>\n",
       "    <tr>\n",
       "      <th>4</th>\n",
       "      <td>62165.0</td>\n",
       "      <td>NaN</td>\n",
       "      <td>2.0</td>\n",
       "      <td>NaN</td>\n",
       "      <td>NaN</td>\n",
       "      <td>2.0</td>\n",
       "      <td>NaN</td>\n",
       "      <td>NaN</td>\n",
       "      <td>1.0</td>\n",
       "      <td>7.0</td>\n",
       "      <td>...</td>\n",
       "      <td>1.0</td>\n",
       "      <td>2.0</td>\n",
       "      <td>25.0</td>\n",
       "      <td>1.0</td>\n",
       "      <td>2.0</td>\n",
       "      <td>25.0</td>\n",
       "      <td>600.0</td>\n",
       "      <td>5.000000e+00</td>\n",
       "      <td>2.0</td>\n",
       "      <td>2.0</td>\n",
       "    </tr>\n",
       "  </tbody>\n",
       "</table>\n",
       "<p>5 rows × 21 columns</p>\n",
       "</div>"
      ],
      "text/plain": [
       "      SEQN  PAQ706  PAQ605  PAQ610  PAD615  PAQ620  PAQ625  PAD630  PAQ635  \\\n",
       "0  62161.0     NaN     2.0     NaN     NaN     2.0     NaN     NaN     2.0   \n",
       "1  62162.0     7.0     NaN     NaN     NaN     NaN     NaN     NaN     NaN   \n",
       "2  62163.0     NaN     2.0     NaN     NaN     2.0     NaN     NaN     1.0   \n",
       "3  62164.0     NaN     1.0     5.0    60.0     2.0     NaN     NaN     2.0   \n",
       "4  62165.0     NaN     2.0     NaN     NaN     2.0     NaN     NaN     1.0   \n",
       "\n",
       "   PAQ640  ...  PAQ650  PAQ655  PAD660  PAQ665  PAQ670  PAD675  PAD680  \\\n",
       "0     NaN  ...     2.0     NaN     NaN     2.0     NaN     NaN   300.0   \n",
       "1     NaN  ...     NaN     NaN     NaN     NaN     NaN     NaN     NaN   \n",
       "2     6.0  ...     2.0     NaN     NaN     2.0     NaN     NaN   720.0   \n",
       "3     NaN  ...     1.0     5.0    60.0     1.0     1.0    45.0   300.0   \n",
       "4     7.0  ...     1.0     2.0    25.0     1.0     2.0    25.0   600.0   \n",
       "\n",
       "         PAQ710  PAQ715  PAAQUEX  \n",
       "0  3.000000e+00     3.0      1.0  \n",
       "1  5.397605e-79     8.0      1.0  \n",
       "2  2.000000e+00     3.0      2.0  \n",
       "3  2.000000e+00     8.0      1.0  \n",
       "4  5.000000e+00     2.0      2.0  \n",
       "\n",
       "[5 rows x 21 columns]"
      ]
     },
     "execution_count": 20,
     "metadata": {},
     "output_type": "execute_result"
    }
   ],
   "source": [
    "df_2011.head()"
   ]
  },
  {
   "cell_type": "code",
   "execution_count": 21,
   "metadata": {},
   "outputs": [],
   "source": [
    "##  Using 2011 Cleaning Function on the 2011 dataframe\n",
    "df_2011 = clean_2011(df_2011)"
   ]
  },
  {
   "cell_type": "markdown",
   "metadata": {},
   "source": [
    "Looking at the 2011 dataset after cleaning:"
   ]
  },
  {
   "cell_type": "code",
   "execution_count": 22,
   "metadata": {},
   "outputs": [
    {
     "data": {
      "text/html": [
       "<div>\n",
       "<style scoped>\n",
       "    .dataframe tbody tr th:only-of-type {\n",
       "        vertical-align: middle;\n",
       "    }\n",
       "\n",
       "    .dataframe tbody tr th {\n",
       "        vertical-align: top;\n",
       "    }\n",
       "\n",
       "    .dataframe thead th {\n",
       "        text-align: right;\n",
       "    }\n",
       "</style>\n",
       "<table border=\"1\" class=\"dataframe\">\n",
       "  <thead>\n",
       "    <tr style=\"text-align: right;\">\n",
       "      <th></th>\n",
       "      <th>User ID</th>\n",
       "      <th>minutes vigorous recreational activities</th>\n",
       "      <th>minutes moderate recreational activities</th>\n",
       "      <th>minutes watch TV or videos past 30 days</th>\n",
       "      <th>minutes use computer past 30 days</th>\n",
       "    </tr>\n",
       "  </thead>\n",
       "  <tbody>\n",
       "    <tr>\n",
       "      <th>0</th>\n",
       "      <td>62161</td>\n",
       "      <td>NaN</td>\n",
       "      <td>NaN</td>\n",
       "      <td>180.0</td>\n",
       "      <td>180.0</td>\n",
       "    </tr>\n",
       "    <tr>\n",
       "      <th>1</th>\n",
       "      <td>62162</td>\n",
       "      <td>NaN</td>\n",
       "      <td>NaN</td>\n",
       "      <td>0.0</td>\n",
       "      <td>NaN</td>\n",
       "    </tr>\n",
       "    <tr>\n",
       "      <th>2</th>\n",
       "      <td>62163</td>\n",
       "      <td>NaN</td>\n",
       "      <td>NaN</td>\n",
       "      <td>120.0</td>\n",
       "      <td>180.0</td>\n",
       "    </tr>\n",
       "    <tr>\n",
       "      <th>3</th>\n",
       "      <td>62164</td>\n",
       "      <td>60.0</td>\n",
       "      <td>45.0</td>\n",
       "      <td>120.0</td>\n",
       "      <td>NaN</td>\n",
       "    </tr>\n",
       "    <tr>\n",
       "      <th>4</th>\n",
       "      <td>62165</td>\n",
       "      <td>25.0</td>\n",
       "      <td>25.0</td>\n",
       "      <td>300.0</td>\n",
       "      <td>120.0</td>\n",
       "    </tr>\n",
       "  </tbody>\n",
       "</table>\n",
       "</div>"
      ],
      "text/plain": [
       "   User ID  minutes vigorous recreational activities  \\\n",
       "0    62161                                       NaN   \n",
       "1    62162                                       NaN   \n",
       "2    62163                                       NaN   \n",
       "3    62164                                      60.0   \n",
       "4    62165                                      25.0   \n",
       "\n",
       "   minutes moderate recreational activities  \\\n",
       "0                                       NaN   \n",
       "1                                       NaN   \n",
       "2                                       NaN   \n",
       "3                                      45.0   \n",
       "4                                      25.0   \n",
       "\n",
       "   minutes watch TV or videos past 30 days  minutes use computer past 30 days  \n",
       "0                                    180.0                              180.0  \n",
       "1                                      0.0                                NaN  \n",
       "2                                    120.0                              180.0  \n",
       "3                                    120.0                                NaN  \n",
       "4                                    300.0                              120.0  "
      ]
     },
     "execution_count": 22,
     "metadata": {},
     "output_type": "execute_result"
    }
   ],
   "source": [
    "df_2011.head()"
   ]
  },
  {
   "cell_type": "markdown",
   "metadata": {},
   "source": [
    "Then viewing the current shape of the 2011 dataset:\n"
   ]
  },
  {
   "cell_type": "code",
   "execution_count": 23,
   "metadata": {},
   "outputs": [
    {
     "data": {
      "text/plain": [
       "(9107, 5)"
      ]
     },
     "execution_count": 23,
     "metadata": {},
     "output_type": "execute_result"
    }
   ],
   "source": [
    "df_2011.shape"
   ]
  },
  {
   "cell_type": "markdown",
   "metadata": {},
   "source": [
    "Looking at the 2013 dataset before cleaning: "
   ]
  },
  {
   "cell_type": "code",
   "execution_count": 24,
   "metadata": {},
   "outputs": [
    {
     "data": {
      "text/html": [
       "<div>\n",
       "<style scoped>\n",
       "    .dataframe tbody tr th:only-of-type {\n",
       "        vertical-align: middle;\n",
       "    }\n",
       "\n",
       "    .dataframe tbody tr th {\n",
       "        vertical-align: top;\n",
       "    }\n",
       "\n",
       "    .dataframe thead th {\n",
       "        text-align: right;\n",
       "    }\n",
       "</style>\n",
       "<table border=\"1\" class=\"dataframe\">\n",
       "  <thead>\n",
       "    <tr style=\"text-align: right;\">\n",
       "      <th></th>\n",
       "      <th>SEQN</th>\n",
       "      <th>PAQ605</th>\n",
       "      <th>PAQ610</th>\n",
       "      <th>PAD615</th>\n",
       "      <th>PAQ620</th>\n",
       "      <th>PAQ625</th>\n",
       "      <th>PAD630</th>\n",
       "      <th>PAQ635</th>\n",
       "      <th>PAQ640</th>\n",
       "      <th>PAD645</th>\n",
       "      <th>...</th>\n",
       "      <th>PAQ762</th>\n",
       "      <th>PAQ764</th>\n",
       "      <th>PAQ766</th>\n",
       "      <th>PAQ679</th>\n",
       "      <th>PAQ750</th>\n",
       "      <th>PAQ770</th>\n",
       "      <th>PAQ772A</th>\n",
       "      <th>PAQ772B</th>\n",
       "      <th>PAQ772C</th>\n",
       "      <th>PAAQUEX</th>\n",
       "    </tr>\n",
       "  </thead>\n",
       "  <tbody>\n",
       "    <tr>\n",
       "      <th>0</th>\n",
       "      <td>73557.0</td>\n",
       "      <td>2.0</td>\n",
       "      <td>NaN</td>\n",
       "      <td>NaN</td>\n",
       "      <td>2.0</td>\n",
       "      <td>NaN</td>\n",
       "      <td>NaN</td>\n",
       "      <td>2.0</td>\n",
       "      <td>NaN</td>\n",
       "      <td>NaN</td>\n",
       "      <td>...</td>\n",
       "      <td>NaN</td>\n",
       "      <td>NaN</td>\n",
       "      <td>NaN</td>\n",
       "      <td>NaN</td>\n",
       "      <td>NaN</td>\n",
       "      <td>NaN</td>\n",
       "      <td>NaN</td>\n",
       "      <td>NaN</td>\n",
       "      <td>NaN</td>\n",
       "      <td>1.0</td>\n",
       "    </tr>\n",
       "    <tr>\n",
       "      <th>1</th>\n",
       "      <td>73558.0</td>\n",
       "      <td>2.0</td>\n",
       "      <td>NaN</td>\n",
       "      <td>NaN</td>\n",
       "      <td>1.0</td>\n",
       "      <td>1.0</td>\n",
       "      <td>10.0</td>\n",
       "      <td>2.0</td>\n",
       "      <td>NaN</td>\n",
       "      <td>NaN</td>\n",
       "      <td>...</td>\n",
       "      <td>NaN</td>\n",
       "      <td>NaN</td>\n",
       "      <td>NaN</td>\n",
       "      <td>NaN</td>\n",
       "      <td>NaN</td>\n",
       "      <td>NaN</td>\n",
       "      <td>NaN</td>\n",
       "      <td>NaN</td>\n",
       "      <td>NaN</td>\n",
       "      <td>1.0</td>\n",
       "    </tr>\n",
       "    <tr>\n",
       "      <th>2</th>\n",
       "      <td>73559.0</td>\n",
       "      <td>2.0</td>\n",
       "      <td>NaN</td>\n",
       "      <td>NaN</td>\n",
       "      <td>1.0</td>\n",
       "      <td>7.0</td>\n",
       "      <td>30.0</td>\n",
       "      <td>2.0</td>\n",
       "      <td>NaN</td>\n",
       "      <td>NaN</td>\n",
       "      <td>...</td>\n",
       "      <td>NaN</td>\n",
       "      <td>NaN</td>\n",
       "      <td>NaN</td>\n",
       "      <td>NaN</td>\n",
       "      <td>NaN</td>\n",
       "      <td>NaN</td>\n",
       "      <td>NaN</td>\n",
       "      <td>NaN</td>\n",
       "      <td>NaN</td>\n",
       "      <td>1.0</td>\n",
       "    </tr>\n",
       "    <tr>\n",
       "      <th>3</th>\n",
       "      <td>73560.0</td>\n",
       "      <td>NaN</td>\n",
       "      <td>NaN</td>\n",
       "      <td>NaN</td>\n",
       "      <td>NaN</td>\n",
       "      <td>NaN</td>\n",
       "      <td>NaN</td>\n",
       "      <td>NaN</td>\n",
       "      <td>NaN</td>\n",
       "      <td>NaN</td>\n",
       "      <td>...</td>\n",
       "      <td>1.0</td>\n",
       "      <td>5.0</td>\n",
       "      <td>4.0</td>\n",
       "      <td>NaN</td>\n",
       "      <td>1.0</td>\n",
       "      <td>2.0</td>\n",
       "      <td>NaN</td>\n",
       "      <td>NaN</td>\n",
       "      <td>NaN</td>\n",
       "      <td>1.0</td>\n",
       "    </tr>\n",
       "    <tr>\n",
       "      <th>4</th>\n",
       "      <td>73561.0</td>\n",
       "      <td>2.0</td>\n",
       "      <td>NaN</td>\n",
       "      <td>NaN</td>\n",
       "      <td>1.0</td>\n",
       "      <td>2.0</td>\n",
       "      <td>30.0</td>\n",
       "      <td>2.0</td>\n",
       "      <td>NaN</td>\n",
       "      <td>NaN</td>\n",
       "      <td>...</td>\n",
       "      <td>NaN</td>\n",
       "      <td>NaN</td>\n",
       "      <td>NaN</td>\n",
       "      <td>NaN</td>\n",
       "      <td>NaN</td>\n",
       "      <td>NaN</td>\n",
       "      <td>NaN</td>\n",
       "      <td>NaN</td>\n",
       "      <td>NaN</td>\n",
       "      <td>1.0</td>\n",
       "    </tr>\n",
       "  </tbody>\n",
       "</table>\n",
       "<p>5 rows × 96 columns</p>\n",
       "</div>"
      ],
      "text/plain": [
       "      SEQN  PAQ605  PAQ610  PAD615  PAQ620  PAQ625  PAD630  PAQ635  PAQ640  \\\n",
       "0  73557.0     2.0     NaN     NaN     2.0     NaN     NaN     2.0     NaN   \n",
       "1  73558.0     2.0     NaN     NaN     1.0     1.0    10.0     2.0     NaN   \n",
       "2  73559.0     2.0     NaN     NaN     1.0     7.0    30.0     2.0     NaN   \n",
       "3  73560.0     NaN     NaN     NaN     NaN     NaN     NaN     NaN     NaN   \n",
       "4  73561.0     2.0     NaN     NaN     1.0     2.0    30.0     2.0     NaN   \n",
       "\n",
       "   PAD645  ...  PAQ762  PAQ764  PAQ766  PAQ679  PAQ750  PAQ770  PAQ772A  \\\n",
       "0     NaN  ...     NaN     NaN     NaN     NaN     NaN     NaN      NaN   \n",
       "1     NaN  ...     NaN     NaN     NaN     NaN     NaN     NaN      NaN   \n",
       "2     NaN  ...     NaN     NaN     NaN     NaN     NaN     NaN      NaN   \n",
       "3     NaN  ...     1.0     5.0     4.0     NaN     1.0     2.0      NaN   \n",
       "4     NaN  ...     NaN     NaN     NaN     NaN     NaN     NaN      NaN   \n",
       "\n",
       "   PAQ772B  PAQ772C  PAAQUEX  \n",
       "0      NaN      NaN      1.0  \n",
       "1      NaN      NaN      1.0  \n",
       "2      NaN      NaN      1.0  \n",
       "3      NaN      NaN      1.0  \n",
       "4      NaN      NaN      1.0  \n",
       "\n",
       "[5 rows x 96 columns]"
      ]
     },
     "execution_count": 24,
     "metadata": {},
     "output_type": "execute_result"
    }
   ],
   "source": [
    "df_2013.head()"
   ]
  },
  {
   "cell_type": "code",
   "execution_count": 25,
   "metadata": {},
   "outputs": [],
   "source": [
    "##  Using 2013 Cleaning Function on the 2013 dataframe\n",
    "df_2013 = clean_2013(df_2013)"
   ]
  },
  {
   "cell_type": "markdown",
   "metadata": {},
   "source": [
    "Looking at the 2013 dataset after cleaning:"
   ]
  },
  {
   "cell_type": "code",
   "execution_count": 26,
   "metadata": {},
   "outputs": [
    {
     "data": {
      "text/html": [
       "<div>\n",
       "<style scoped>\n",
       "    .dataframe tbody tr th:only-of-type {\n",
       "        vertical-align: middle;\n",
       "    }\n",
       "\n",
       "    .dataframe tbody tr th {\n",
       "        vertical-align: top;\n",
       "    }\n",
       "\n",
       "    .dataframe thead th {\n",
       "        text-align: right;\n",
       "    }\n",
       "</style>\n",
       "<table border=\"1\" class=\"dataframe\">\n",
       "  <thead>\n",
       "    <tr style=\"text-align: right;\">\n",
       "      <th></th>\n",
       "      <th>User ID</th>\n",
       "      <th>minutes vigorous recreational activities</th>\n",
       "      <th>minutes moderate recreational activities</th>\n",
       "      <th>minutes watch TV or videos past 30 days</th>\n",
       "      <th>minutes use computer past 30 days</th>\n",
       "    </tr>\n",
       "  </thead>\n",
       "  <tbody>\n",
       "    <tr>\n",
       "      <th>0</th>\n",
       "      <td>73557</td>\n",
       "      <td>NaN</td>\n",
       "      <td>NaN</td>\n",
       "      <td>120.0</td>\n",
       "      <td>NaN</td>\n",
       "    </tr>\n",
       "    <tr>\n",
       "      <th>1</th>\n",
       "      <td>73558</td>\n",
       "      <td>NaN</td>\n",
       "      <td>NaN</td>\n",
       "      <td>240.0</td>\n",
       "      <td>NaN</td>\n",
       "    </tr>\n",
       "    <tr>\n",
       "      <th>2</th>\n",
       "      <td>73559</td>\n",
       "      <td>NaN</td>\n",
       "      <td>180.0</td>\n",
       "      <td>240.0</td>\n",
       "      <td>0.0</td>\n",
       "    </tr>\n",
       "    <tr>\n",
       "      <th>3</th>\n",
       "      <td>73560</td>\n",
       "      <td>NaN</td>\n",
       "      <td>NaN</td>\n",
       "      <td>180.0</td>\n",
       "      <td>120.0</td>\n",
       "    </tr>\n",
       "    <tr>\n",
       "      <th>4</th>\n",
       "      <td>73561</td>\n",
       "      <td>NaN</td>\n",
       "      <td>NaN</td>\n",
       "      <td>60.0</td>\n",
       "      <td>60.0</td>\n",
       "    </tr>\n",
       "  </tbody>\n",
       "</table>\n",
       "</div>"
      ],
      "text/plain": [
       "   User ID  minutes vigorous recreational activities  \\\n",
       "0    73557                                       NaN   \n",
       "1    73558                                       NaN   \n",
       "2    73559                                       NaN   \n",
       "3    73560                                       NaN   \n",
       "4    73561                                       NaN   \n",
       "\n",
       "   minutes moderate recreational activities  \\\n",
       "0                                       NaN   \n",
       "1                                       NaN   \n",
       "2                                     180.0   \n",
       "3                                       NaN   \n",
       "4                                       NaN   \n",
       "\n",
       "   minutes watch TV or videos past 30 days  minutes use computer past 30 days  \n",
       "0                                    120.0                                NaN  \n",
       "1                                    240.0                                NaN  \n",
       "2                                    240.0                                0.0  \n",
       "3                                    180.0                              120.0  \n",
       "4                                     60.0                               60.0  "
      ]
     },
     "execution_count": 26,
     "metadata": {},
     "output_type": "execute_result"
    }
   ],
   "source": [
    "df_2013.head()"
   ]
  },
  {
   "cell_type": "markdown",
   "metadata": {},
   "source": [
    "Then viewing the current shape of the 2013 dataset:"
   ]
  },
  {
   "cell_type": "code",
   "execution_count": 27,
   "metadata": {},
   "outputs": [
    {
     "data": {
      "text/plain": [
       "(9484, 5)"
      ]
     },
     "execution_count": 27,
     "metadata": {},
     "output_type": "execute_result"
    }
   ],
   "source": [
    "df_2013.shape"
   ]
  },
  {
   "cell_type": "markdown",
   "metadata": {},
   "source": [
    "Looking at the 2015 dataset before cleaning: "
   ]
  },
  {
   "cell_type": "code",
   "execution_count": 28,
   "metadata": {},
   "outputs": [
    {
     "data": {
      "text/html": [
       "<div>\n",
       "<style scoped>\n",
       "    .dataframe tbody tr th:only-of-type {\n",
       "        vertical-align: middle;\n",
       "    }\n",
       "\n",
       "    .dataframe tbody tr th {\n",
       "        vertical-align: top;\n",
       "    }\n",
       "\n",
       "    .dataframe thead th {\n",
       "        text-align: right;\n",
       "    }\n",
       "</style>\n",
       "<table border=\"1\" class=\"dataframe\">\n",
       "  <thead>\n",
       "    <tr style=\"text-align: right;\">\n",
       "      <th></th>\n",
       "      <th>SEQN</th>\n",
       "      <th>PAQ605</th>\n",
       "      <th>PAQ610</th>\n",
       "      <th>PAD615</th>\n",
       "      <th>PAQ620</th>\n",
       "      <th>PAQ625</th>\n",
       "      <th>PAD630</th>\n",
       "      <th>PAQ635</th>\n",
       "      <th>PAQ640</th>\n",
       "      <th>PAD645</th>\n",
       "      <th>...</th>\n",
       "      <th>PAQ759U</th>\n",
       "      <th>PAQ762</th>\n",
       "      <th>PAQ764</th>\n",
       "      <th>PAQ766</th>\n",
       "      <th>PAQ679</th>\n",
       "      <th>PAQ750</th>\n",
       "      <th>PAQ770</th>\n",
       "      <th>PAQ772A</th>\n",
       "      <th>PAQ772B</th>\n",
       "      <th>PAQ772C</th>\n",
       "    </tr>\n",
       "  </thead>\n",
       "  <tbody>\n",
       "    <tr>\n",
       "      <th>0</th>\n",
       "      <td>83732.0</td>\n",
       "      <td>2.0</td>\n",
       "      <td>NaN</td>\n",
       "      <td>NaN</td>\n",
       "      <td>1.0</td>\n",
       "      <td>5.0</td>\n",
       "      <td>10.0</td>\n",
       "      <td>2.0</td>\n",
       "      <td>NaN</td>\n",
       "      <td>NaN</td>\n",
       "      <td>...</td>\n",
       "      <td>NaN</td>\n",
       "      <td>NaN</td>\n",
       "      <td>NaN</td>\n",
       "      <td>NaN</td>\n",
       "      <td>NaN</td>\n",
       "      <td>NaN</td>\n",
       "      <td>NaN</td>\n",
       "      <td>NaN</td>\n",
       "      <td>NaN</td>\n",
       "      <td>NaN</td>\n",
       "    </tr>\n",
       "    <tr>\n",
       "      <th>1</th>\n",
       "      <td>83733.0</td>\n",
       "      <td>2.0</td>\n",
       "      <td>NaN</td>\n",
       "      <td>NaN</td>\n",
       "      <td>2.0</td>\n",
       "      <td>NaN</td>\n",
       "      <td>NaN</td>\n",
       "      <td>2.0</td>\n",
       "      <td>NaN</td>\n",
       "      <td>NaN</td>\n",
       "      <td>...</td>\n",
       "      <td>NaN</td>\n",
       "      <td>NaN</td>\n",
       "      <td>NaN</td>\n",
       "      <td>NaN</td>\n",
       "      <td>NaN</td>\n",
       "      <td>NaN</td>\n",
       "      <td>NaN</td>\n",
       "      <td>NaN</td>\n",
       "      <td>NaN</td>\n",
       "      <td>NaN</td>\n",
       "    </tr>\n",
       "    <tr>\n",
       "      <th>2</th>\n",
       "      <td>83734.0</td>\n",
       "      <td>2.0</td>\n",
       "      <td>NaN</td>\n",
       "      <td>NaN</td>\n",
       "      <td>1.0</td>\n",
       "      <td>4.0</td>\n",
       "      <td>240.0</td>\n",
       "      <td>2.0</td>\n",
       "      <td>NaN</td>\n",
       "      <td>NaN</td>\n",
       "      <td>...</td>\n",
       "      <td>NaN</td>\n",
       "      <td>NaN</td>\n",
       "      <td>NaN</td>\n",
       "      <td>NaN</td>\n",
       "      <td>NaN</td>\n",
       "      <td>NaN</td>\n",
       "      <td>NaN</td>\n",
       "      <td>NaN</td>\n",
       "      <td>NaN</td>\n",
       "      <td>NaN</td>\n",
       "    </tr>\n",
       "    <tr>\n",
       "      <th>3</th>\n",
       "      <td>83735.0</td>\n",
       "      <td>2.0</td>\n",
       "      <td>NaN</td>\n",
       "      <td>NaN</td>\n",
       "      <td>1.0</td>\n",
       "      <td>5.0</td>\n",
       "      <td>90.0</td>\n",
       "      <td>2.0</td>\n",
       "      <td>NaN</td>\n",
       "      <td>NaN</td>\n",
       "      <td>...</td>\n",
       "      <td>NaN</td>\n",
       "      <td>NaN</td>\n",
       "      <td>NaN</td>\n",
       "      <td>NaN</td>\n",
       "      <td>NaN</td>\n",
       "      <td>NaN</td>\n",
       "      <td>NaN</td>\n",
       "      <td>NaN</td>\n",
       "      <td>NaN</td>\n",
       "      <td>NaN</td>\n",
       "    </tr>\n",
       "    <tr>\n",
       "      <th>4</th>\n",
       "      <td>83736.0</td>\n",
       "      <td>2.0</td>\n",
       "      <td>NaN</td>\n",
       "      <td>NaN</td>\n",
       "      <td>1.0</td>\n",
       "      <td>7.0</td>\n",
       "      <td>480.0</td>\n",
       "      <td>2.0</td>\n",
       "      <td>NaN</td>\n",
       "      <td>NaN</td>\n",
       "      <td>...</td>\n",
       "      <td>NaN</td>\n",
       "      <td>NaN</td>\n",
       "      <td>NaN</td>\n",
       "      <td>NaN</td>\n",
       "      <td>NaN</td>\n",
       "      <td>NaN</td>\n",
       "      <td>NaN</td>\n",
       "      <td>NaN</td>\n",
       "      <td>NaN</td>\n",
       "      <td>NaN</td>\n",
       "    </tr>\n",
       "  </tbody>\n",
       "</table>\n",
       "<p>5 rows × 94 columns</p>\n",
       "</div>"
      ],
      "text/plain": [
       "      SEQN  PAQ605  PAQ610  PAD615  PAQ620  PAQ625  PAD630  PAQ635  PAQ640  \\\n",
       "0  83732.0     2.0     NaN     NaN     1.0     5.0    10.0     2.0     NaN   \n",
       "1  83733.0     2.0     NaN     NaN     2.0     NaN     NaN     2.0     NaN   \n",
       "2  83734.0     2.0     NaN     NaN     1.0     4.0   240.0     2.0     NaN   \n",
       "3  83735.0     2.0     NaN     NaN     1.0     5.0    90.0     2.0     NaN   \n",
       "4  83736.0     2.0     NaN     NaN     1.0     7.0   480.0     2.0     NaN   \n",
       "\n",
       "   PAD645  ...  PAQ759U  PAQ762  PAQ764  PAQ766  PAQ679  PAQ750  PAQ770  \\\n",
       "0     NaN  ...      NaN     NaN     NaN     NaN     NaN     NaN     NaN   \n",
       "1     NaN  ...      NaN     NaN     NaN     NaN     NaN     NaN     NaN   \n",
       "2     NaN  ...      NaN     NaN     NaN     NaN     NaN     NaN     NaN   \n",
       "3     NaN  ...      NaN     NaN     NaN     NaN     NaN     NaN     NaN   \n",
       "4     NaN  ...      NaN     NaN     NaN     NaN     NaN     NaN     NaN   \n",
       "\n",
       "   PAQ772A  PAQ772B  PAQ772C  \n",
       "0      NaN      NaN      NaN  \n",
       "1      NaN      NaN      NaN  \n",
       "2      NaN      NaN      NaN  \n",
       "3      NaN      NaN      NaN  \n",
       "4      NaN      NaN      NaN  \n",
       "\n",
       "[5 rows x 94 columns]"
      ]
     },
     "execution_count": 28,
     "metadata": {},
     "output_type": "execute_result"
    }
   ],
   "source": [
    "df_2015.head()"
   ]
  },
  {
   "cell_type": "code",
   "execution_count": 29,
   "metadata": {},
   "outputs": [],
   "source": [
    "##  Using 2015 Cleaning Function on the 2015 dataframe\n",
    "df_2015 = clean_2015(df_2015)"
   ]
  },
  {
   "cell_type": "markdown",
   "metadata": {},
   "source": [
    "Looking at the 2015 dataset after cleaning:"
   ]
  },
  {
   "cell_type": "code",
   "execution_count": 30,
   "metadata": {},
   "outputs": [
    {
     "data": {
      "text/html": [
       "<div>\n",
       "<style scoped>\n",
       "    .dataframe tbody tr th:only-of-type {\n",
       "        vertical-align: middle;\n",
       "    }\n",
       "\n",
       "    .dataframe tbody tr th {\n",
       "        vertical-align: top;\n",
       "    }\n",
       "\n",
       "    .dataframe thead th {\n",
       "        text-align: right;\n",
       "    }\n",
       "</style>\n",
       "<table border=\"1\" class=\"dataframe\">\n",
       "  <thead>\n",
       "    <tr style=\"text-align: right;\">\n",
       "      <th></th>\n",
       "      <th>User ID</th>\n",
       "      <th>minutes vigorous recreational activities</th>\n",
       "      <th>minutes moderate recreational activities</th>\n",
       "      <th>minutes watch TV or videos past 30 days</th>\n",
       "      <th>minutes use computer past 30 days</th>\n",
       "    </tr>\n",
       "  </thead>\n",
       "  <tbody>\n",
       "    <tr>\n",
       "      <th>0</th>\n",
       "      <td>83732</td>\n",
       "      <td>NaN</td>\n",
       "      <td>30.0</td>\n",
       "      <td>300.0</td>\n",
       "      <td>0.0</td>\n",
       "    </tr>\n",
       "    <tr>\n",
       "      <th>1</th>\n",
       "      <td>83733</td>\n",
       "      <td>NaN</td>\n",
       "      <td>NaN</td>\n",
       "      <td>300.0</td>\n",
       "      <td>0.0</td>\n",
       "    </tr>\n",
       "    <tr>\n",
       "      <th>2</th>\n",
       "      <td>83734</td>\n",
       "      <td>NaN</td>\n",
       "      <td>NaN</td>\n",
       "      <td>300.0</td>\n",
       "      <td>NaN</td>\n",
       "    </tr>\n",
       "    <tr>\n",
       "      <th>3</th>\n",
       "      <td>83735</td>\n",
       "      <td>NaN</td>\n",
       "      <td>NaN</td>\n",
       "      <td>180.0</td>\n",
       "      <td>120.0</td>\n",
       "    </tr>\n",
       "    <tr>\n",
       "      <th>4</th>\n",
       "      <td>83736</td>\n",
       "      <td>NaN</td>\n",
       "      <td>NaN</td>\n",
       "      <td>240.0</td>\n",
       "      <td>300.0</td>\n",
       "    </tr>\n",
       "  </tbody>\n",
       "</table>\n",
       "</div>"
      ],
      "text/plain": [
       "   User ID  minutes vigorous recreational activities  \\\n",
       "0    83732                                       NaN   \n",
       "1    83733                                       NaN   \n",
       "2    83734                                       NaN   \n",
       "3    83735                                       NaN   \n",
       "4    83736                                       NaN   \n",
       "\n",
       "   minutes moderate recreational activities  \\\n",
       "0                                      30.0   \n",
       "1                                       NaN   \n",
       "2                                       NaN   \n",
       "3                                       NaN   \n",
       "4                                       NaN   \n",
       "\n",
       "   minutes watch TV or videos past 30 days  minutes use computer past 30 days  \n",
       "0                                    300.0                                0.0  \n",
       "1                                    300.0                                0.0  \n",
       "2                                    300.0                                NaN  \n",
       "3                                    180.0                              120.0  \n",
       "4                                    240.0                              300.0  "
      ]
     },
     "execution_count": 30,
     "metadata": {},
     "output_type": "execute_result"
    }
   ],
   "source": [
    "df_2015.head()"
   ]
  },
  {
   "cell_type": "markdown",
   "metadata": {},
   "source": [
    "Then viewing the current shape of the 2015 dataset:"
   ]
  },
  {
   "cell_type": "code",
   "execution_count": 31,
   "metadata": {},
   "outputs": [
    {
     "data": {
      "text/plain": [
       "(9255, 5)"
      ]
     },
     "execution_count": 31,
     "metadata": {},
     "output_type": "execute_result"
    }
   ],
   "source": [
    "df_2015.shape"
   ]
  },
  {
   "cell_type": "markdown",
   "metadata": {},
   "source": [
    "We then proceeded to merge data from each year starting from 2007 to 2016 into one data file. We merge the data in order to facilitate the process of comparing our variables and develop a better understanding of the potential relationships between them. "
   ]
  },
  {
   "cell_type": "code",
   "execution_count": 32,
   "metadata": {},
   "outputs": [],
   "source": [
    "##  Merge Datasets and rearrange columns\n",
    "df =pd.concat([df_2007, df_2009, df_2011, df_2013, df_2015], sort = True)\n",
    "cols = ['User ID','minutes vigorous recreational activities','minutes moderate recreational activities','minutes watch TV or videos past 30 days','minutes use computer past 30 days']\n",
    "df = df[cols]"
   ]
  },
  {
   "cell_type": "markdown",
   "metadata": {},
   "source": [
    "Now we can look at our merged dataset:"
   ]
  },
  {
   "cell_type": "code",
   "execution_count": 33,
   "metadata": {},
   "outputs": [
    {
     "data": {
      "text/html": [
       "<div>\n",
       "<style scoped>\n",
       "    .dataframe tbody tr th:only-of-type {\n",
       "        vertical-align: middle;\n",
       "    }\n",
       "\n",
       "    .dataframe tbody tr th {\n",
       "        vertical-align: top;\n",
       "    }\n",
       "\n",
       "    .dataframe thead th {\n",
       "        text-align: right;\n",
       "    }\n",
       "</style>\n",
       "<table border=\"1\" class=\"dataframe\">\n",
       "  <thead>\n",
       "    <tr style=\"text-align: right;\">\n",
       "      <th></th>\n",
       "      <th>User ID</th>\n",
       "      <th>minutes vigorous recreational activities</th>\n",
       "      <th>minutes moderate recreational activities</th>\n",
       "      <th>minutes watch TV or videos past 30 days</th>\n",
       "      <th>minutes use computer past 30 days</th>\n",
       "    </tr>\n",
       "  </thead>\n",
       "  <tbody>\n",
       "    <tr>\n",
       "      <th>0</th>\n",
       "      <td>41475</td>\n",
       "      <td>NaN</td>\n",
       "      <td>NaN</td>\n",
       "      <td>NaN</td>\n",
       "      <td>NaN</td>\n",
       "    </tr>\n",
       "    <tr>\n",
       "      <th>1</th>\n",
       "      <td>41476</td>\n",
       "      <td>NaN</td>\n",
       "      <td>NaN</td>\n",
       "      <td>120.0</td>\n",
       "      <td>0.0</td>\n",
       "    </tr>\n",
       "    <tr>\n",
       "      <th>2</th>\n",
       "      <td>41477</td>\n",
       "      <td>NaN</td>\n",
       "      <td>NaN</td>\n",
       "      <td>NaN</td>\n",
       "      <td>NaN</td>\n",
       "    </tr>\n",
       "    <tr>\n",
       "      <th>3</th>\n",
       "      <td>41479</td>\n",
       "      <td>NaN</td>\n",
       "      <td>NaN</td>\n",
       "      <td>NaN</td>\n",
       "      <td>NaN</td>\n",
       "    </tr>\n",
       "    <tr>\n",
       "      <th>4</th>\n",
       "      <td>41480</td>\n",
       "      <td>NaN</td>\n",
       "      <td>NaN</td>\n",
       "      <td>60.0</td>\n",
       "      <td>NaN</td>\n",
       "    </tr>\n",
       "  </tbody>\n",
       "</table>\n",
       "</div>"
      ],
      "text/plain": [
       "   User ID  minutes vigorous recreational activities  \\\n",
       "0    41475                                       NaN   \n",
       "1    41476                                       NaN   \n",
       "2    41477                                       NaN   \n",
       "3    41479                                       NaN   \n",
       "4    41480                                       NaN   \n",
       "\n",
       "   minutes moderate recreational activities  \\\n",
       "0                                       NaN   \n",
       "1                                       NaN   \n",
       "2                                       NaN   \n",
       "3                                       NaN   \n",
       "4                                       NaN   \n",
       "\n",
       "   minutes watch TV or videos past 30 days  minutes use computer past 30 days  \n",
       "0                                      NaN                                NaN  \n",
       "1                                    120.0                                0.0  \n",
       "2                                      NaN                                NaN  \n",
       "3                                      NaN                                NaN  \n",
       "4                                     60.0                                NaN  "
      ]
     },
     "execution_count": 33,
     "metadata": {},
     "output_type": "execute_result"
    }
   ],
   "source": [
    "df.head()"
   ]
  },
  {
   "cell_type": "markdown",
   "metadata": {},
   "source": [
    "# Data Analysis & Results"
   ]
  },
  {
   "cell_type": "markdown",
   "metadata": {},
   "source": [
    "In this section we created six pie charts and four bar graphs as visualizations that show how the data has changed over the years between 2007-2016. In the first pie chart, we grouped and accumulated the total amount of time, in minutes, that Americans spent engaging with the four kinds of activities; moderate recreational activities, vigorous recreational activities,TV/video game usage, and computer usage. The pie charts that follow after are separated based on the data in a specific year. We also included four bar graphs that display the average time spent watching TV/playing video games, time spent on the computer, and time participating in vigorous and moderate recreation activities between the years 2007-2016.  \n",
    "\n",
    "This line of code creates a pie chart showing the time in minutes that Americans spend engaging in different activities between the years of 2007 to 2016. "
   ]
  },
  {
   "cell_type": "code",
   "execution_count": 34,
   "metadata": {},
   "outputs": [
    {
     "data": {
      "text/html": [
       "<div>\n",
       "<style scoped>\n",
       "    .dataframe tbody tr th:only-of-type {\n",
       "        vertical-align: middle;\n",
       "    }\n",
       "\n",
       "    .dataframe tbody tr th {\n",
       "        vertical-align: top;\n",
       "    }\n",
       "\n",
       "    .dataframe thead th {\n",
       "        text-align: right;\n",
       "    }\n",
       "</style>\n",
       "<table border=\"1\" class=\"dataframe\">\n",
       "  <thead>\n",
       "    <tr style=\"text-align: right;\">\n",
       "      <th></th>\n",
       "      <th>count</th>\n",
       "    </tr>\n",
       "  </thead>\n",
       "  <tbody>\n",
       "    <tr>\n",
       "      <th>minutes vigorous recreational activities</th>\n",
       "      <td>792058</td>\n",
       "    </tr>\n",
       "    <tr>\n",
       "      <th>minutes moderate recreational activities</th>\n",
       "      <td>946796</td>\n",
       "    </tr>\n",
       "    <tr>\n",
       "      <th>minutes watch TV or videos past 30 days</th>\n",
       "      <td>4293240</td>\n",
       "    </tr>\n",
       "    <tr>\n",
       "      <th>minutes use computer past 30 days</th>\n",
       "      <td>1928160</td>\n",
       "    </tr>\n",
       "  </tbody>\n",
       "</table>\n",
       "</div>"
      ],
      "text/plain": [
       "                                            count\n",
       "minutes vigorous recreational activities   792058\n",
       "minutes moderate recreational activities   946796\n",
       "minutes watch TV or videos past 30 days   4293240\n",
       "minutes use computer past 30 days         1928160"
      ]
     },
     "execution_count": 34,
     "metadata": {},
     "output_type": "execute_result"
    },
    {
     "data": {
      "image/png": "[encoded data removed]",
      "text/plain": [
       "<Figure size 432x288 with 1 Axes>"
      ]
     },
     "metadata": {},
     "output_type": "display_data"
    }
   ],
   "source": [
    "plt.title('Piechart of Overall Activities')\n",
    "ratios = [int(sum(df['minutes vigorous recreational activities'].dropna())), int(sum(df['minutes moderate recreational activities'].dropna())),int(sum(df['minutes watch TV or videos past 30 days'].dropna())),int(sum(df['minutes use computer past 30 days'].dropna()))]\n",
    "labels=['minutes vigorous recreational activities','minutes moderate recreational activities','minutes watch TV or videos past 30 days','minutes use computer past 30 days']\n",
    "plt.pie(ratios,labels=['minutes vigorous recreational activities','minutes moderate recreational activities','minutes watch TV or videos past 30 days','minutes use computer past 30 days'],shadow=True, autopct='%1.1f%%',startangle=90)\n",
    "\n",
    "## Creating the Dataframe Count Chart\n",
    "pd.DataFrame(ratios, labels, columns = ['count'])\n"
   ]
  },
  {
   "cell_type": "markdown",
   "metadata": {},
   "source": [
    "Figure 1: This pie chart represents the accumulated time Americans spend (in minutes) engaging in different kinds of activities; recreational exercise, vigorous exercise, computer usage, and watching television from the years 2007-2016. This chart indicates that in the span of these years, most people spend most of their time watching television or playing videos. Whereas people spend the least amount of time on vigorous recreational activities. The data shows that people are spending roughly the same amount of time exercising whether it's vigorous or moderate activity, but there is a bigger difference between television/video games and computer usage. People are spending over triple the amount of time (78.1%) watching television/playing video games in comparison to computer usage (21.9%).\n",
    "\n",
    "This line of code creates a pie chart showing the time in minutes that Americans spend engaging in different activities between the year 2007-2008."
   ]
  },
  {
   "cell_type": "code",
   "execution_count": 35,
   "metadata": {},
   "outputs": [
    {
     "data": {
      "text/html": [
       "<div>\n",
       "<style scoped>\n",
       "    .dataframe tbody tr th:only-of-type {\n",
       "        vertical-align: middle;\n",
       "    }\n",
       "\n",
       "    .dataframe tbody tr th {\n",
       "        vertical-align: top;\n",
       "    }\n",
       "\n",
       "    .dataframe thead th {\n",
       "        text-align: right;\n",
       "    }\n",
       "</style>\n",
       "<table border=\"1\" class=\"dataframe\">\n",
       "  <thead>\n",
       "    <tr style=\"text-align: right;\">\n",
       "      <th></th>\n",
       "      <th>count</th>\n",
       "    </tr>\n",
       "  </thead>\n",
       "  <tbody>\n",
       "    <tr>\n",
       "      <th>minutes vigorous recreational activities</th>\n",
       "      <td>157608</td>\n",
       "    </tr>\n",
       "    <tr>\n",
       "      <th>minutes moderate recreational activities</th>\n",
       "      <td>183166</td>\n",
       "    </tr>\n",
       "    <tr>\n",
       "      <th>minutes watch TV or videos past 30 days</th>\n",
       "      <td>244920</td>\n",
       "    </tr>\n",
       "    <tr>\n",
       "      <th>minutes use computer past 30 days</th>\n",
       "      <td>75840</td>\n",
       "    </tr>\n",
       "  </tbody>\n",
       "</table>\n",
       "</div>"
      ],
      "text/plain": [
       "                                           count\n",
       "minutes vigorous recreational activities  157608\n",
       "minutes moderate recreational activities  183166\n",
       "minutes watch TV or videos past 30 days   244920\n",
       "minutes use computer past 30 days          75840"
      ]
     },
     "execution_count": 35,
     "metadata": {},
     "output_type": "execute_result"
    },
    {
     "data": {
      "image/png": "[encoded data removed]",
      "text/plain": [
       "<Figure size 432x288 with 1 Axes>"
      ]
     },
     "metadata": {},
     "output_type": "display_data"
    }
   ],
   "source": [
    "## Creating the Pie Chart\n",
    "plt.title('Piechart of 2007-2008 Activities')\n",
    "ratios = [int(sum(df_2007['minutes vigorous recreational activities'].dropna())), int(sum(df_2007['minutes moderate recreational activities'].dropna())),int(sum(df_2007['minutes watch TV or videos past 30 days'].dropna())),int(sum(df_2007['minutes use computer past 30 days'].dropna()))]\n",
    "plt.pie(ratios, labels =['minutes vigorous recreational activities','minutes moderate recreational activities','minutes watch TV or videos past 30 days','minutes use computer past 30 days'],shadow=True, autopct='%1.1f%%',startangle=90)\n",
    "\n",
    "## Creating the Dataframe Count Chart\n",
    "pd.DataFrame(ratios, labels, columns = ['count'])"
   ]
  },
  {
   "cell_type": "markdown",
   "metadata": {},
   "source": [
    "Figure 2: This pie chart represents the time Americans spend (in minutes) engaging in different kinds of activities; recreational exercise, vigorous exercise, computer usage, and watching television from the year 2007-2008. People are spending more time watching television/playing video games in comparison to computer usage. Vigorous and moderate recreational times are roughly the same, there isn’t a significant difference in the two activities. Overall, in this year people spent more time exercising (51.5%) than using electronics (48.5%). \n",
    "\n",
    "This line of code creates a pie chart showing the time in minutes that Americans spend engaging in different activities between the year 2009-2010."
   ]
  },
  {
   "cell_type": "code",
   "execution_count": 36,
   "metadata": {},
   "outputs": [
    {
     "data": {
      "text/html": [
       "<div>\n",
       "<style scoped>\n",
       "    .dataframe tbody tr th:only-of-type {\n",
       "        vertical-align: middle;\n",
       "    }\n",
       "\n",
       "    .dataframe tbody tr th {\n",
       "        vertical-align: top;\n",
       "    }\n",
       "\n",
       "    .dataframe thead th {\n",
       "        text-align: right;\n",
       "    }\n",
       "</style>\n",
       "<table border=\"1\" class=\"dataframe\">\n",
       "  <thead>\n",
       "    <tr style=\"text-align: right;\">\n",
       "      <th></th>\n",
       "      <th>count</th>\n",
       "    </tr>\n",
       "  </thead>\n",
       "  <tbody>\n",
       "    <tr>\n",
       "      <th>minutes vigorous recreational activities</th>\n",
       "      <td>152586</td>\n",
       "    </tr>\n",
       "    <tr>\n",
       "      <th>minutes moderate recreational activities</th>\n",
       "      <td>197129</td>\n",
       "    </tr>\n",
       "    <tr>\n",
       "      <th>minutes watch TV or videos past 30 days</th>\n",
       "      <td>263580</td>\n",
       "    </tr>\n",
       "    <tr>\n",
       "      <th>minutes use computer past 30 days</th>\n",
       "      <td>70920</td>\n",
       "    </tr>\n",
       "  </tbody>\n",
       "</table>\n",
       "</div>"
      ],
      "text/plain": [
       "                                           count\n",
       "minutes vigorous recreational activities  152586\n",
       "minutes moderate recreational activities  197129\n",
       "minutes watch TV or videos past 30 days   263580\n",
       "minutes use computer past 30 days          70920"
      ]
     },
     "execution_count": 36,
     "metadata": {},
     "output_type": "execute_result"
    },
    {
     "data": {
      "image/png": "[encoded data removed]",
      "text/plain": [
       "<Figure size 432x288 with 1 Axes>"
      ]
     },
     "metadata": {},
     "output_type": "display_data"
    }
   ],
   "source": [
    "## Creating the Pie Chart\n",
    "plt.title('Piechart of 2009-2010 Activities')\n",
    "ratios = [int(sum(df_2009['minutes vigorous recreational activities'].dropna())), int(sum(df_2009['minutes moderate recreational activities'].dropna())),int(sum(df_2009['minutes watch TV or videos past 30 days'].dropna())),int(sum(df_2009['minutes use computer past 30 days'].dropna()))]\n",
    "plt.pie(ratios,labels=['minutes vigorous recreational activities','minutes moderate recreational activities','minutes watch TV or videos past 30 days','minutes use computer past 30 days'],shadow=True, autopct='%1.1f%%',startangle=90)\n",
    "\n",
    "## Creating the Dataframe Count Chart\n",
    "pd.DataFrame(ratios, labels, columns = ['count'])"
   ]
  },
  {
   "cell_type": "markdown",
   "metadata": {},
   "source": [
    "Figure 3: This pie chart represents the time Americans spend (in minutes) engaging in different kinds of activities; recreational exercise, vigorous exercise, computer usage, and watching television from the year 2009-2010. This data overall is fairly similar to the data presented in the years 2007-2008. Although there was a decrease in time spent in vigorous recreational activities and computer usage, and a slight increase in time spent in moderate recreational activities, and watching television/video games. People also spent more time exercising (51.1%) than using electronics this year (48.9%).\n",
    "\n",
    "This line of code creates a pie chart showing the time in minutes that Americans spend engaging in different activities between the years of 2011 to 2012. "
   ]
  },
  {
   "cell_type": "code",
   "execution_count": 37,
   "metadata": {},
   "outputs": [
    {
     "data": {
      "text/html": [
       "<div>\n",
       "<style scoped>\n",
       "    .dataframe tbody tr th:only-of-type {\n",
       "        vertical-align: middle;\n",
       "    }\n",
       "\n",
       "    .dataframe tbody tr th {\n",
       "        vertical-align: top;\n",
       "    }\n",
       "\n",
       "    .dataframe thead th {\n",
       "        text-align: right;\n",
       "    }\n",
       "</style>\n",
       "<table border=\"1\" class=\"dataframe\">\n",
       "  <thead>\n",
       "    <tr style=\"text-align: right;\">\n",
       "      <th></th>\n",
       "      <th>count</th>\n",
       "    </tr>\n",
       "  </thead>\n",
       "  <tbody>\n",
       "    <tr>\n",
       "      <th>minutes vigorous recreational activities</th>\n",
       "      <td>153593</td>\n",
       "    </tr>\n",
       "    <tr>\n",
       "      <th>minutes moderate recreational activities</th>\n",
       "      <td>190546</td>\n",
       "    </tr>\n",
       "    <tr>\n",
       "      <th>minutes watch TV or videos past 30 days</th>\n",
       "      <td>1254240</td>\n",
       "    </tr>\n",
       "    <tr>\n",
       "      <th>minutes use computer past 30 days</th>\n",
       "      <td>557160</td>\n",
       "    </tr>\n",
       "  </tbody>\n",
       "</table>\n",
       "</div>"
      ],
      "text/plain": [
       "                                            count\n",
       "minutes vigorous recreational activities   153593\n",
       "minutes moderate recreational activities   190546\n",
       "minutes watch TV or videos past 30 days   1254240\n",
       "minutes use computer past 30 days          557160"
      ]
     },
     "execution_count": 37,
     "metadata": {},
     "output_type": "execute_result"
    },
    {
     "data": {
      "image/png": "[encoded data removed]",
      "text/plain": [
       "<Figure size 432x288 with 1 Axes>"
      ]
     },
     "metadata": {},
     "output_type": "display_data"
    }
   ],
   "source": [
    "## Creating the Pie Chart\n",
    "plt.title('Piechart of 2011-2012 Activities')\n",
    "ratios=[int(sum(df_2011['minutes vigorous recreational activities'].dropna())), int(sum(df_2011['minutes moderate recreational activities'].dropna())),int(sum(df_2011['minutes watch TV or videos past 30 days'].dropna())),int(sum(df_2011['minutes use computer past 30 days'].dropna()))]\n",
    "plt.pie(ratios,labels=['minutes vigorous recreational activities','minutes moderate recreational activities','minutes watch TV or videos past 30 days','minutes use computer past 30 days'],shadow=True, autopct='%1.1f%%',startangle=90)\n",
    "## Creating the Dataframe Count Chart\n",
    "pd.DataFrame(ratios, labels, columns = ['count'])"
   ]
  },
  {
   "cell_type": "markdown",
   "metadata": {},
   "source": [
    "Figure 4: This pie chart represents the time Americans spend (in minutes) engaging in different kinds of activities; recreational exercise, vigorous exercise, computer usage, and watching television from the year 2011-2012. Similar to the years prior, most people spend more time watching television and playing video games, but the percentage has doubled. Also people are also spending double the amount of time on computers. There is also a significant decrease in time spent exercising moderately and vigorously. In this year, more people spend time using electronics (84%) compared to exercising (16%).\n",
    "\n",
    "This line of code creates a pie chart showing the time in minutes that Americans spend engaging in different activities between the years of 2013 to 2014,"
   ]
  },
  {
   "cell_type": "code",
   "execution_count": 38,
   "metadata": {},
   "outputs": [
    {
     "data": {
      "text/html": [
       "<div>\n",
       "<style scoped>\n",
       "    .dataframe tbody tr th:only-of-type {\n",
       "        vertical-align: middle;\n",
       "    }\n",
       "\n",
       "    .dataframe tbody tr th {\n",
       "        vertical-align: top;\n",
       "    }\n",
       "\n",
       "    .dataframe thead th {\n",
       "        text-align: right;\n",
       "    }\n",
       "</style>\n",
       "<table border=\"1\" class=\"dataframe\">\n",
       "  <thead>\n",
       "    <tr style=\"text-align: right;\">\n",
       "      <th></th>\n",
       "      <th>count</th>\n",
       "    </tr>\n",
       "  </thead>\n",
       "  <tbody>\n",
       "    <tr>\n",
       "      <th>minutes vigorous recreational activities</th>\n",
       "      <td>158404</td>\n",
       "    </tr>\n",
       "    <tr>\n",
       "      <th>minutes moderate recreational activities</th>\n",
       "      <td>191127</td>\n",
       "    </tr>\n",
       "    <tr>\n",
       "      <th>minutes watch TV or videos past 30 days</th>\n",
       "      <td>1288380</td>\n",
       "    </tr>\n",
       "    <tr>\n",
       "      <th>minutes use computer past 30 days</th>\n",
       "      <td>610800</td>\n",
       "    </tr>\n",
       "  </tbody>\n",
       "</table>\n",
       "</div>"
      ],
      "text/plain": [
       "                                            count\n",
       "minutes vigorous recreational activities   158404\n",
       "minutes moderate recreational activities   191127\n",
       "minutes watch TV or videos past 30 days   1288380\n",
       "minutes use computer past 30 days          610800"
      ]
     },
     "execution_count": 38,
     "metadata": {},
     "output_type": "execute_result"
    },
    {
     "data": {
      "image/png": "[encoded data removed]",
      "text/plain": [
       "<Figure size 432x288 with 1 Axes>"
      ]
     },
     "metadata": {},
     "output_type": "display_data"
    }
   ],
   "source": [
    "## Creating the Pie Chart\n",
    "plt.title('Piechart of 2013-2014 Activities')\n",
    "ratios=[int(sum(df_2013['minutes vigorous recreational activities'].dropna())), int(sum(df_2013['minutes moderate recreational activities'].dropna())),int(sum(df_2013['minutes watch TV or videos past 30 days'].dropna())),int(sum(df_2013['minutes use computer past 30 days'].dropna()))]\n",
    "plt.pie(ratios,labels=['minutes vigorous recreational activities','minutes moderate recreational activities','minutes watch TV or videos past 30 days','minutes use computer past 30 days'],shadow=True, autopct='%1.1f%%',startangle=90)\n",
    "## Creating the Dataframe Count Chart\n",
    "pd.DataFrame(ratios, labels, columns = ['count'])"
   ]
  },
  {
   "cell_type": "markdown",
   "metadata": {},
   "source": [
    "Figure 5: This pie chart represents the time Americans spend (in minutes) engaging in different kinds of activities; recreational exercise, vigorous exercise, computer usage, and watching television from the year 2013-2014. For this year, there isn’t a significant difference in the percentages compared to the year prior. People are spending more time on electronics (84.5%) in comparison to exercising (15.5%). \n",
    "\n",
    "This line of code creates a pie chart showing the time in minutes that Americans spend engaging in different activities between the years of 2015 to 2016"
   ]
  },
  {
   "cell_type": "code",
   "execution_count": 39,
   "metadata": {},
   "outputs": [
    {
     "data": {
      "text/html": [
       "<div>\n",
       "<style scoped>\n",
       "    .dataframe tbody tr th:only-of-type {\n",
       "        vertical-align: middle;\n",
       "    }\n",
       "\n",
       "    .dataframe tbody tr th {\n",
       "        vertical-align: top;\n",
       "    }\n",
       "\n",
       "    .dataframe thead th {\n",
       "        text-align: right;\n",
       "    }\n",
       "</style>\n",
       "<table border=\"1\" class=\"dataframe\">\n",
       "  <thead>\n",
       "    <tr style=\"text-align: right;\">\n",
       "      <th></th>\n",
       "      <th>count</th>\n",
       "    </tr>\n",
       "  </thead>\n",
       "  <tbody>\n",
       "    <tr>\n",
       "      <th>minutes vigorous recreational activities</th>\n",
       "      <td>169867</td>\n",
       "    </tr>\n",
       "    <tr>\n",
       "      <th>minutes moderate recreational activities</th>\n",
       "      <td>184828</td>\n",
       "    </tr>\n",
       "    <tr>\n",
       "      <th>minutes watch TV or videos past 30 days</th>\n",
       "      <td>1242120</td>\n",
       "    </tr>\n",
       "    <tr>\n",
       "      <th>minutes use computer past 30 days</th>\n",
       "      <td>613440</td>\n",
       "    </tr>\n",
       "  </tbody>\n",
       "</table>\n",
       "</div>"
      ],
      "text/plain": [
       "                                            count\n",
       "minutes vigorous recreational activities   169867\n",
       "minutes moderate recreational activities   184828\n",
       "minutes watch TV or videos past 30 days   1242120\n",
       "minutes use computer past 30 days          613440"
      ]
     },
     "execution_count": 39,
     "metadata": {},
     "output_type": "execute_result"
    },
    {
     "data": {
      "image/png": "[encoded data removed]",
      "text/plain": [
       "<Figure size 432x288 with 1 Axes>"
      ]
     },
     "metadata": {},
     "output_type": "display_data"
    }
   ],
   "source": [
    "## Creating the Pie Chart\n",
    "plt.title('Piechart of 2015-2016 Activities')\n",
    "ratios = [int(sum(df_2015['minutes vigorous recreational activities'].dropna())), int(sum(df_2015['minutes moderate recreational activities'].dropna())),int(sum(df_2015['minutes watch TV or videos past 30 days'].dropna())),int(sum(df_2015['minutes use computer past 30 days'].dropna()))]\n",
    "plt.pie(ratios,labels=['minutes vigorous recreational activities','minutes moderate recreational activities','minutes watch TV or videos past 30 days','minutes use computer past 30 days'],shadow=True, autopct='%1.1f%%',startangle=90)\n",
    "## Creating the Dataframe Count Chart\n",
    "pd.DataFrame(ratios, labels, columns = ['count'])"
   ]
  },
  {
   "cell_type": "markdown",
   "metadata": {},
   "source": [
    "Figure 6: This pie chart represents the time Americans spend (in minutes) engaging in different kinds of activities; recreational exercise, vigorous exercise, computer usage, and watching television from the year 2015-2016.  Percentages remain fairly constant up until this year in comparison to the data from the last two years. Data stays consistent throughout as people are spending more time using electronics (84%) versus exercising (16%). "
   ]
  },
  {
   "cell_type": "markdown",
   "metadata": {},
   "source": [
    "This cell is to extract the mean from each column of each dataframe, so we can display the change in means of moderate recreational activities, vigorous recreational activities,TV/video game usage, and computer usage over the years in our bar graphs."
   ]
  },
  {
   "cell_type": "code",
   "execution_count": 40,
   "metadata": {},
   "outputs": [],
   "source": [
    "def get_mean_of_all(df):\n",
    "    mean_dict = {}\n",
    "    for i in df.columns:\n",
    "        describe = df[i].dropna().describe()\n",
    "        mean_dict[i] = describe['mean']\n",
    "    return mean_dict"
   ]
  },
  {
   "cell_type": "markdown",
   "metadata": {},
   "source": [
    "We then applied this ‘getting means function’ to each of the year’s datasets and stored them in a variable."
   ]
  },
  {
   "cell_type": "code",
   "execution_count": 41,
   "metadata": {},
   "outputs": [],
   "source": [
    "df_mean_dict = get_mean_of_all(df)\n",
    "df_2007_mean_dict = get_mean_of_all(df_2007)\n",
    "df_2009_mean_dict = get_mean_of_all(df_2009)\n",
    "df_2011_mean_dict = get_mean_of_all(df_2011)\n",
    "df_2013_mean_dict = get_mean_of_all(df_2013)\n",
    "df_2015_mean_dict = get_mean_of_all(df_2015)"
   ]
  },
  {
   "cell_type": "markdown",
   "metadata": {},
   "source": [
    "Next, we created a list of all of the means of each year (stored sequentially in order from oldest to newest). We also created a list ‘year_ls’ that would store the years that we were working with."
   ]
  },
  {
   "cell_type": "code",
   "execution_count": 42,
   "metadata": {},
   "outputs": [],
   "source": [
    "mean_dict_list = [df_2007_mean_dict,df_2009_mean_dict,df_2011_mean_dict,df_2013_mean_dict,df_2015_mean_dict]\n",
    "year_ls = [2007,2009,2011,2013,2015]"
   ]
  },
  {
   "cell_type": "markdown",
   "metadata": {},
   "source": [
    "This cell then then takes the list we made with all of the means from each year and separates them by their column. This results in having distinct lists for all means related to one column across all of the years."
   ]
  },
  {
   "cell_type": "code",
   "execution_count": 43,
   "metadata": {},
   "outputs": [],
   "source": [
    "tv_mean_ls = []\n",
    "comp_mean_ls = []\n",
    "vig_mean_ls = []\n",
    "mod_mean_ls = []\n",
    "for i in mean_dict_list:\n",
    "    tv_mean_ls.append(i['minutes watch TV or videos past 30 days'])\n",
    "    comp_mean_ls.append(i['minutes use computer past 30 days'])\n",
    "    vig_mean_ls.append(i['minutes vigorous recreational activities'])\n",
    "    mod_mean_ls.append(i['minutes moderate recreational activities'])"
   ]
  },
  {
   "cell_type": "markdown",
   "metadata": {},
   "source": [
    "This line of code creates a bar graph showing the means of TV or video game use from the years 2007 to 2016."
   ]
  },
  {
   "cell_type": "code",
   "execution_count": 44,
   "metadata": {},
   "outputs": [
    {
     "data": {
      "image/png": "[encoded data removed]",
      "text/plain": [
       "<Figure size 432x288 with 1 Axes>"
      ]
     },
     "metadata": {
      "needs_background": "light"
     },
     "output_type": "display_data"
    }
   ],
   "source": [
    "plt.title('Mean TV or Video use over the years')\n",
    "plt.xlabel('Years')\n",
    "plt.ylabel('Minutes')\n",
    "plt.bar(year_ls, tv_mean_ls)\n",
    "plt.show()"
   ]
  },
  {
   "cell_type": "markdown",
   "metadata": {},
   "source": [
    "Figure 7: This bar graph shows that progressively over the years between 2007-2016, the average time spent watching TV and playing video games has increased. Although, in the year 2009, there was a slight decrease, but with the years following shortly after, we see a slight increase in time spent watching TV and playing video games. In the years between 2011-2016, the time usage  is stagnant as there is little to no change. \n",
    "\n",
    "This line of code creates a bar graph showing the means of computer use from the years 2007 to 2016."
   ]
  },
  {
   "cell_type": "code",
   "execution_count": 45,
   "metadata": {},
   "outputs": [
    {
     "data": {
      "image/png": "[encoded data removed]",
      "text/plain": [
       "<Figure size 432x288 with 1 Axes>"
      ]
     },
     "metadata": {
      "needs_background": "light"
     },
     "output_type": "display_data"
    }
   ],
   "source": [
    "plt.title('Mean computer use over the years')\n",
    "plt.xlabel('Years')\n",
    "plt.ylabel('Minutes')\n",
    "plt.bar(year_ls, comp_mean_ls)\n",
    "plt.show()"
   ]
  },
  {
   "cell_type": "markdown",
   "metadata": {},
   "source": [
    "Figure 8: This bar graph shows that the average time spent on a computer also increases over the years between 2007-2016. We see a small decrease in the year 2009, but a steady increase in the years between 2011-2016. \n",
    "\n",
    "This line of code creates a bar graph showing the means of vigorous recreational activity from the years 2007 to 2016."
   ]
  },
  {
   "cell_type": "code",
   "execution_count": 46,
   "metadata": {},
   "outputs": [
    {
     "data": {
      "image/png": "[encoded data removed]",
      "text/plain": [
       "<Figure size 432x288 with 1 Axes>"
      ]
     },
     "metadata": {
      "needs_background": "light"
     },
     "output_type": "display_data"
    }
   ],
   "source": [
    "plt.title('Mean vigorous recreation over the years')\n",
    "plt.xlabel('Years')\n",
    "plt.ylabel('Minutes')\n",
    "plt.bar(year_ls, vig_mean_ls)\n",
    "plt.show()"
   ]
  },
  {
   "cell_type": "markdown",
   "metadata": {},
   "source": [
    "Figure 9: This bar graph shows that overall the daily minutes of vigorous recreation have remained about the same from the year 2007 to 2016. There is a slight decrease in average minutes spent actively participating in vigorous recreation but it does not seem significant. In the years 2009 to 2012, the average time does stay the same. We see a small decrease in the year 2013, and in 2015 we see the same average time spent on vigorous recreation activities.\n",
    "\n",
    "This line of code creates a bar graph showing the means of moderate recreational activity from the years 2007 to 2016."
   ]
  },
  {
   "cell_type": "code",
   "execution_count": 47,
   "metadata": {},
   "outputs": [
    {
     "data": {
      "image/png": "[encoded data removed]",
      "text/plain": [
       "<Figure size 432x288 with 1 Axes>"
      ]
     },
     "metadata": {
      "needs_background": "light"
     },
     "output_type": "display_data"
    }
   ],
   "source": [
    "plt.title('Mean moderate recreation over the years')\n",
    "plt.xlabel('Years')\n",
    "plt.ylabel('Minutes')\n",
    "plt.bar(year_ls, mod_mean_ls)\n",
    "plt.show()"
   ]
  },
  {
   "cell_type": "markdown",
   "metadata": {},
   "source": [
    "Figure 10: This bar graph shows a very similar trend when compared to the vigorous recreation bar chart. We see a slight decrease in time spent on recreation activities between 2007-2016. There is a drop in the year 2009 which stays stagnant until 2012. There is a small decrease in the year 2013 and remains the same until 2016. \n",
    "\n",
    "Since our hypothesis is that, with more screen time, there will be less time spent on the recreational activities. So the code below will groupby each hour spent on the screen and get the mean of each group. \n",
    "First we start by dropping all the null values so our groupby method will work. Second we combine minutes on the computer with minutes on the tv, so we get the total screen time. Then we combine recreational activities so we get the total recreational activities. We append these columns to our original dataset."
   ]
  },
  {
   "cell_type": "code",
   "execution_count": null,
   "metadata": {},
   "outputs": [],
   "source": [
    "df_drop = df.dropna()\n",
    "combined_tech = df_drop['minutes use computer past 30 days'] + df_drop['minutes watch TV or videos past 30 days']\n",
    "df_drop['combined tech'] = combined_tech/60\n",
    "combined_active = df_drop['minutes moderate recreational activities'] + df_drop['minutes vigorous recreational activities']\n",
    "df_drop['combined active'] = combined_active"
   ]
  },
  {
   "cell_type": "markdown",
   "metadata": {},
   "source": [
    "Notice when we drop all the null we lost 43,000 entries"
   ]
  },
  {
   "cell_type": "code",
   "execution_count": 49,
   "metadata": {},
   "outputs": [
    {
     "data": {
      "text/plain": [
       "(3154, 7)"
      ]
     },
     "execution_count": 49,
     "metadata": {},
     "output_type": "execute_result"
    }
   ],
   "source": [
    "df_drop.shape"
   ]
  },
  {
   "cell_type": "markdown",
   "metadata": {},
   "source": [
    "We then group by our dataset by each hour spent on the TV and get the mean and count of the minutes spent on recreational activities."
   ]
  },
  {
   "cell_type": "code",
   "execution_count": 50,
   "metadata": {},
   "outputs": [
    {
     "data": {
      "text/html": [
       "<div>\n",
       "<style scoped>\n",
       "    .dataframe tbody tr th:only-of-type {\n",
       "        vertical-align: middle;\n",
       "    }\n",
       "\n",
       "    .dataframe tbody tr th {\n",
       "        vertical-align: top;\n",
       "    }\n",
       "\n",
       "    .dataframe thead tr th {\n",
       "        text-align: left;\n",
       "    }\n",
       "\n",
       "    .dataframe thead tr:last-of-type th {\n",
       "        text-align: right;\n",
       "    }\n",
       "</style>\n",
       "<table border=\"1\" class=\"dataframe\">\n",
       "  <thead>\n",
       "    <tr>\n",
       "      <th></th>\n",
       "      <th colspan=\"2\" halign=\"left\">minutes vigorous recreational activities</th>\n",
       "    </tr>\n",
       "    <tr>\n",
       "      <th></th>\n",
       "      <th>mean</th>\n",
       "      <th>count</th>\n",
       "    </tr>\n",
       "    <tr>\n",
       "      <th>minutes watch TV or videos past 30 days</th>\n",
       "      <th></th>\n",
       "      <th></th>\n",
       "    </tr>\n",
       "  </thead>\n",
       "  <tbody>\n",
       "    <tr>\n",
       "      <th>0.0</th>\n",
       "      <td>74.454894</td>\n",
       "      <td>521</td>\n",
       "    </tr>\n",
       "    <tr>\n",
       "      <th>60.0</th>\n",
       "      <td>72.949202</td>\n",
       "      <td>689</td>\n",
       "    </tr>\n",
       "    <tr>\n",
       "      <th>120.0</th>\n",
       "      <td>75.085489</td>\n",
       "      <td>889</td>\n",
       "    </tr>\n",
       "    <tr>\n",
       "      <th>180.0</th>\n",
       "      <td>76.302734</td>\n",
       "      <td>512</td>\n",
       "    </tr>\n",
       "    <tr>\n",
       "      <th>240.0</th>\n",
       "      <td>78.882353</td>\n",
       "      <td>255</td>\n",
       "    </tr>\n",
       "    <tr>\n",
       "      <th>300.0</th>\n",
       "      <td>82.559028</td>\n",
       "      <td>288</td>\n",
       "    </tr>\n",
       "  </tbody>\n",
       "</table>\n",
       "</div>"
      ],
      "text/plain": [
       "                                        minutes vigorous recreational activities  \\\n",
       "                                                                            mean   \n",
       "minutes watch TV or videos past 30 days                                            \n",
       "0.0                                                                    74.454894   \n",
       "60.0                                                                   72.949202   \n",
       "120.0                                                                  75.085489   \n",
       "180.0                                                                  76.302734   \n",
       "240.0                                                                  78.882353   \n",
       "300.0                                                                  82.559028   \n",
       "\n",
       "                                               \n",
       "                                        count  \n",
       "minutes watch TV or videos past 30 days        \n",
       "0.0                                       521  \n",
       "60.0                                      689  \n",
       "120.0                                     889  \n",
       "180.0                                     512  \n",
       "240.0                                     255  \n",
       "300.0                                     288  "
      ]
     },
     "execution_count": 50,
     "metadata": {},
     "output_type": "execute_result"
    }
   ],
   "source": [
    "df_drop.groupby('minutes watch TV or videos past 30 days').agg({'minutes vigorous recreational activities':['mean','count']})"
   ]
  },
  {
   "cell_type": "markdown",
   "metadata": {},
   "source": [
    "We also created a dataframe that would group by the minutes spent on the computer and get the means and counts of the recreational activities."
   ]
  },
  {
   "cell_type": "code",
   "execution_count": 51,
   "metadata": {},
   "outputs": [
    {
     "data": {
      "text/html": [
       "<div>\n",
       "<style scoped>\n",
       "    .dataframe tbody tr th:only-of-type {\n",
       "        vertical-align: middle;\n",
       "    }\n",
       "\n",
       "    .dataframe tbody tr th {\n",
       "        vertical-align: top;\n",
       "    }\n",
       "\n",
       "    .dataframe thead tr th {\n",
       "        text-align: left;\n",
       "    }\n",
       "\n",
       "    .dataframe thead tr:last-of-type th {\n",
       "        text-align: right;\n",
       "    }\n",
       "</style>\n",
       "<table border=\"1\" class=\"dataframe\">\n",
       "  <thead>\n",
       "    <tr>\n",
       "      <th></th>\n",
       "      <th colspan=\"2\" halign=\"left\">minutes vigorous recreational activities</th>\n",
       "    </tr>\n",
       "    <tr>\n",
       "      <th></th>\n",
       "      <th>mean</th>\n",
       "      <th>count</th>\n",
       "    </tr>\n",
       "    <tr>\n",
       "      <th>minutes use computer past 30 days</th>\n",
       "      <th></th>\n",
       "      <th></th>\n",
       "    </tr>\n",
       "  </thead>\n",
       "  <tbody>\n",
       "    <tr>\n",
       "      <th>0.0</th>\n",
       "      <td>73.009444</td>\n",
       "      <td>953</td>\n",
       "    </tr>\n",
       "    <tr>\n",
       "      <th>60.0</th>\n",
       "      <td>74.346667</td>\n",
       "      <td>825</td>\n",
       "    </tr>\n",
       "    <tr>\n",
       "      <th>120.0</th>\n",
       "      <td>78.957768</td>\n",
       "      <td>663</td>\n",
       "    </tr>\n",
       "    <tr>\n",
       "      <th>180.0</th>\n",
       "      <td>73.713826</td>\n",
       "      <td>311</td>\n",
       "    </tr>\n",
       "    <tr>\n",
       "      <th>240.0</th>\n",
       "      <td>76.932515</td>\n",
       "      <td>163</td>\n",
       "    </tr>\n",
       "    <tr>\n",
       "      <th>300.0</th>\n",
       "      <td>83.828452</td>\n",
       "      <td>239</td>\n",
       "    </tr>\n",
       "  </tbody>\n",
       "</table>\n",
       "</div>"
      ],
      "text/plain": [
       "                                  minutes vigorous recreational activities  \\\n",
       "                                                                      mean   \n",
       "minutes use computer past 30 days                                            \n",
       "0.0                                                              73.009444   \n",
       "60.0                                                             74.346667   \n",
       "120.0                                                            78.957768   \n",
       "180.0                                                            73.713826   \n",
       "240.0                                                            76.932515   \n",
       "300.0                                                            83.828452   \n",
       "\n",
       "                                         \n",
       "                                  count  \n",
       "minutes use computer past 30 days        \n",
       "0.0                                 953  \n",
       "60.0                                825  \n",
       "120.0                               663  \n",
       "180.0                               311  \n",
       "240.0                               163  \n",
       "300.0                               239  "
      ]
     },
     "execution_count": 51,
     "metadata": {},
     "output_type": "execute_result"
    }
   ],
   "source": [
    "df_drop.groupby('minutes use computer past 30 days').agg({'minutes vigorous recreational activities':['mean','count']})"
   ]
  },
  {
   "cell_type": "markdown",
   "metadata": {},
   "source": [
    "Lastly we combined the screentime of computers and TVs for a final dataframe that would groupby the hours of screen time and get the means and counts of the recreational activities."
   ]
  },
  {
   "cell_type": "code",
   "execution_count": 52,
   "metadata": {},
   "outputs": [
    {
     "data": {
      "text/html": [
       "<div>\n",
       "<style scoped>\n",
       "    .dataframe tbody tr th:only-of-type {\n",
       "        vertical-align: middle;\n",
       "    }\n",
       "\n",
       "    .dataframe tbody tr th {\n",
       "        vertical-align: top;\n",
       "    }\n",
       "\n",
       "    .dataframe thead tr th {\n",
       "        text-align: left;\n",
       "    }\n",
       "\n",
       "    .dataframe thead tr:last-of-type th {\n",
       "        text-align: right;\n",
       "    }\n",
       "</style>\n",
       "<table border=\"1\" class=\"dataframe\">\n",
       "  <thead>\n",
       "    <tr>\n",
       "      <th></th>\n",
       "      <th colspan=\"2\" halign=\"left\">minutes vigorous recreational activities</th>\n",
       "    </tr>\n",
       "    <tr>\n",
       "      <th></th>\n",
       "      <th>mean</th>\n",
       "      <th>count</th>\n",
       "    </tr>\n",
       "    <tr>\n",
       "      <th>combined tech</th>\n",
       "      <th></th>\n",
       "      <th></th>\n",
       "    </tr>\n",
       "  </thead>\n",
       "  <tbody>\n",
       "    <tr>\n",
       "      <th>0.0</th>\n",
       "      <td>76.639024</td>\n",
       "      <td>205</td>\n",
       "    </tr>\n",
       "    <tr>\n",
       "      <th>1.0</th>\n",
       "      <td>70.527851</td>\n",
       "      <td>377</td>\n",
       "    </tr>\n",
       "    <tr>\n",
       "      <th>2.0</th>\n",
       "      <td>72.927835</td>\n",
       "      <td>582</td>\n",
       "    </tr>\n",
       "    <tr>\n",
       "      <th>3.0</th>\n",
       "      <td>74.836735</td>\n",
       "      <td>539</td>\n",
       "    </tr>\n",
       "    <tr>\n",
       "      <th>4.0</th>\n",
       "      <td>74.380000</td>\n",
       "      <td>450</td>\n",
       "    </tr>\n",
       "    <tr>\n",
       "      <th>5.0</th>\n",
       "      <td>80.554286</td>\n",
       "      <td>350</td>\n",
       "    </tr>\n",
       "    <tr>\n",
       "      <th>6.0</th>\n",
       "      <td>79.021898</td>\n",
       "      <td>274</td>\n",
       "    </tr>\n",
       "    <tr>\n",
       "      <th>7.0</th>\n",
       "      <td>75.451807</td>\n",
       "      <td>166</td>\n",
       "    </tr>\n",
       "    <tr>\n",
       "      <th>8.0</th>\n",
       "      <td>77.277778</td>\n",
       "      <td>90</td>\n",
       "    </tr>\n",
       "    <tr>\n",
       "      <th>9.0</th>\n",
       "      <td>79.300000</td>\n",
       "      <td>50</td>\n",
       "    </tr>\n",
       "    <tr>\n",
       "      <th>10.0</th>\n",
       "      <td>97.464789</td>\n",
       "      <td>71</td>\n",
       "    </tr>\n",
       "  </tbody>\n",
       "</table>\n",
       "</div>"
      ],
      "text/plain": [
       "              minutes vigorous recreational activities      \n",
       "                                                  mean count\n",
       "combined tech                                               \n",
       "0.0                                          76.639024   205\n",
       "1.0                                          70.527851   377\n",
       "2.0                                          72.927835   582\n",
       "3.0                                          74.836735   539\n",
       "4.0                                          74.380000   450\n",
       "5.0                                          80.554286   350\n",
       "6.0                                          79.021898   274\n",
       "7.0                                          75.451807   166\n",
       "8.0                                          77.277778    90\n",
       "9.0                                          79.300000    50\n",
       "10.0                                         97.464789    71"
      ]
     },
     "execution_count": 52,
     "metadata": {},
     "output_type": "execute_result"
    }
   ],
   "source": [
    "df_drop.groupby('combined tech').agg({'minutes vigorous recreational activities':['mean','count']})"
   ]
  },
  {
   "cell_type": "markdown",
   "metadata": {},
   "source": [
    "# Ethics & Privacy"
   ]
  },
  {
   "cell_type": "markdown",
   "metadata": {},
   "source": [
    "The data we used involves information that is for public use, as the CDC is a public domain website. The CDC is a National Public Health Institute and a United States federal agency that specializes in disease control and prevention, making it a source with reliable and credible data. The CDC gathered their data by collecting survey responses from thousands of people. Their method of collecting their data was ethical for the survey responses were given by participants who chose to participate in the survey. The CDC asked participants' consent for the collection and  publication of their data prior to their participation. As per to the CDC, the data was gathered to only be used for statistical reporting and analysis. Answering the survey is not meant to cause any harm or put anyone specifically in any type of advantage or disadvantage. \n",
    "\n",
    "As for concerns for privacy, the data protects participants' privacy because it is completely anonymous. The data does not contain any names or personal identifying information that can potentially be tied back to the participants. We ourselves are not using any other data besides the data we gathered from the CDC that can require us to personally ask consent. The data is meant for greater purposes such as making inferences or noteting the typical physical exercise Americans engage in among other variables. We ourselves are using the data for the research purpose of  further understanding the relationship between the amount of time Aemricans spend on technology  and  the amount of time they spend on exercise. Our analysis between the relationship of the two variables can serve to  benefit the population because it can help make decisions of whether Americans should increase the amount of time they spend on exercise or if they should decrease the amount of time they spent on technology for the benefit of their own health. \n",
    "\n",
    "A concern we had with our datasets is the large number of null values in the data. With each participant having to answer 4 questions, there should have been a total of 187904 answers, but we found that there were 109906 null values in our merged dataset, meaning that a little over half the data is just null values. It was a concern because this can potentially mean that people who did not perform any exercise choose to leave these variables in the survey blank or people who spent too much time using electronics could have been embarrassed by the time they spent, thus  leaving the response blank and leaving  room for ambiguity.\n",
    "\n",
    "The potential bias in the CDC data is social desirability bias. This type of bias is the tendency to respond to survey questions in a way that puts ourselves in a more positive light. Participants could have potentially let their responses to the survey be influenced by what type of response they thought would look better to others than the actual truth. This can be due to the fact that the CDC survey involved questions that had to do with exercise or technology, two topics that have a straightforward  socially acceptable response, thus impacting participants' response. "
   ]
  },
  {
   "cell_type": "markdown",
   "metadata": {},
   "source": [
    "# Conclusion & Discussion"
   ]
  },
  {
   "cell_type": "markdown",
   "metadata": {},
   "source": [
    "The purpose of our project was to find out whether there is a relationship between the amount of time Americans exercise compared to the amount of time Americans spend using electronics. We hypothesize that as screen time increases in the general population, the average amount of time spent engaging in physical activities will decrease between the years of 2007-2016. Due to the fact that technology offers a wide range of capabilities, we can do more with technology than ever before. We assume that people typically spend most of their leisure time engaging in forms of entertainment whether that includes gaming or watching television. \n",
    "\n",
    "After analyzing our data, we came to the conclusion that in fact Americans spent greater amounts of time using electronics than performing physical activity. The data for the years 2007 to 2010 showed that Americans spent more time doing recreational activities than using electronics, however in the data for the year 2011, there was a shift. The data for the year 2011 shows a significant increase in the amount of minutes Americans spent using electronics. Americans doubled the amount of time they used electronics  and significantly decreased the amount of time they spent on recreational activities. For example in the data for 2010, Americans spent an average of 51.1 % of their time in related recreational activities and a 48.9 % in electronics usage. However in 2011, the time spent in recreational activities significantly decreased to 15.9 percent and the electronic usage significantly increased to 84 percent. This shift remained constant until the 2016 data. Thus the data correlates with the assumption that as technology has advanced, Americans spend more time using electronics and less time doing recreational activities.\n",
    "\n",
    "When discussing what type of visual data to use, we decided to use pie charts because it was one of the only visuals we felt fit our data best. The pie charts gave an overall representation of where Americans' time was mostly being used in the given years of data. Besides the pie charts, we created bar graphs that displayed the mean change of each variable over the years. Having graphs representing the mean of each variable allowed for us to have a better picture of the relationship between the variables: physical exercise and usage of electronics. The bar graphs confirmed our interpretation that there was a decrease in the mean of time spent on moderate or vigorous activity as the years passed. The bar graphs that represented the mean of time spent on computers demonstrated an increase of minutes spent on computers over the years. We also thought about doing a scatterplot and linear regression model, but we were not able to implement one because with the large number of data, the graph was harder to interpret and see a relationship due to the immense clustering of the data.  \n",
    "    \n",
    "Limitations:\n",
    "    A limitation we had in the study was that the scope of what activities represented was not well defined. The survey asked participants about how much time they spent on vigorous or recreational activities. However what type of activities were considered vigorous or recreational was never explained.The two variables are generalized and left to interpretation which can result in participants misreporting what they think might be vigorous as vigorous and vice versa. \n",
    "\n",
    "Potential Biases: \n",
    "    It is important to note that the data we obtained from the CDC was gathered through a self reporting questionnaire/survey. Thus the self reporting data can potentially be participant biased. Meaning participants can have potentially answered the survey with answers they thought the CDC might want. It is also important to note the age eligibility required to be able to participate in the survey. Americans who participated in this survey had to be at least two years or older, thus participants who were younger than 12 were provided a proxy. This can potentially mean that through the use of a proxy, participants' responses may have been influenced or modified due to the presence of the proxy creating a desirability bias. \n"
   ]
  },
  {
   "cell_type": "markdown",
   "metadata": {},
   "source": [
    "# Team Contributions"
   ]
  },
  {
   "cell_type": "markdown",
   "metadata": {},
   "source": [
    "Overview :  Cassandra\n",
    "\n",
    "Background & Prior Work: Corrina \n",
    "\n",
    "Datasets: Cole, Nick, Cassandra\n",
    "\n",
    "Data Cleaning: Cole,  Nick\n",
    "\n",
    "Data Analysis and Results: Cole, Corrina\n",
    "\n",
    "Ethics and Privacy: Cassandra, Corrina\n",
    "\n",
    "Conclusion and Discussion :  Cassandra\n",
    "\n",
    "Video: Cole, Corrina"
   ]
  }
 ],
 "metadata": {
  "kernelspec": {
   "display_name": "Python 3",
   "language": "python",
   "name": "python3"
  },
  "language_info": {
   "codemirror_mode": {
    "name": "ipython",
    "version": 3
   },
   "file_extension": ".py",
   "mimetype": "text/x-python",
   "name": "python",
   "nbconvert_exporter": "python",
   "pygments_lexer": "ipython3",
   "version": "3.7.9"
  }
 },
 "nbformat": 4,
 "nbformat_minor": 2
}
