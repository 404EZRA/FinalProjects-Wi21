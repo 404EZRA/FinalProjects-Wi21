{
 "cells": [
  {
   "cell_type": "markdown",
   "metadata": {},
   "source": [
    "# COGS 108 - Talk Show Advertising: More Successful Films "
   ]
  },
  {
   "cell_type": "markdown",
   "metadata": {},
   "source": [
    "# Overview"
   ]
  },
  {
   "cell_type": "markdown",
   "metadata": {},
   "source": [
    "This project analyzed how celebrities that advertise on late-night talk shows affect the movies' resulting popularity, rating, and gross income. We based the comparison on which actors and actresses appeared on a talk show before their movie release through IMDb datasets for movie reviews and Kaggle datasets from Youtube's API for each show host. We found that actors appearing on at least one late-night talk show before a movie release results in increased gross income, average rating, number of votes, and budgets compared to actors that did not appear on any. \n"
   ]
  },
  {
   "cell_type": "markdown",
   "metadata": {},
   "source": [
    "# Names\n",
    "\n",
    "- Alexa Warner\n",
    "- Mariah Price\n",
    "- Raj Vaza\n",
    "- Haoen Luo"
   ]
  },
  {
   "cell_type": "markdown",
   "metadata": {},
   "source": [
    "<a id='research_question'></a>\n",
    "# Research Question"
   ]
  },
  {
   "cell_type": "markdown",
   "metadata": {},
   "source": [
    "- Does celebrity advertising on late-night tv shows increase the popularity, rating, and gross income of a movie?"
   ]
  },
  {
   "cell_type": "markdown",
   "metadata": {},
   "source": [
    "<a id='background'></a>\n",
    "\n",
    "## Background & Prior Work"
   ]
  },
  {
   "cell_type": "markdown",
   "metadata": {},
   "source": [
    "\n",
    "Late-night talk show hosts are known for having high-list celebrities join them for monologues, banter, and sketches. However, we noticed that many late-night hosts also invited the stars from recently released films, not just A-list celebrities. From this observation, we began to wonder if this had any impact on the film's success. Perhaps viewers of the late-night talk show would hear of the newly released film and become viewers themselves. Perhaps seeing the celebrities outside of the film would allow them to enjoy them more and send ratings up. From these thoughts, we began to construct our research question: Does celebrity advertising on late-night talk shows increase the film's overall success? We then broke success down into quantitative categories; these groups being popularity, film rating, and the gross income. We also wanted to see if there was a difference between the late-night talk show hosts themselves. To do this, we used data from Conan, Corden, Fallon, Kimmel, Meyers, and Colbert to compare between.\n",
    "\n",
    "From our sources, we started to shape our research focus on hosts that generally discussed society and entertainment, a common perspective on talk show episodes. Episodes following this theme serve as free publicity for the actors' new movie and reach a larger audience and media coverage.  \n",
    "\n",
    "We found datasets for each of our variables of interest. IMDb had a large amount of our data in terms of film titles, genre, year, and ratings. We compiled this data all into one file to manage it easier. We also found datasets for each talk show host to cross-examine and match which actresses and actors attended which shows and played in which films.\n",
    "\n",
    "Late night television References (include links):\n",
    "\n",
    "1)https://en.wikipedia.org/wiki/Talk_show#:~:text=The%20purpose%20of%20talk%20shows,religion%20or%20other%20popular%20areas\n",
    "\n",
    "2)https://www.quora.com/Why-dont-some-actors-go-on-late-night-talk-shows"
   ]
  },
  {
   "cell_type": "markdown",
   "metadata": {},
   "source": [
    "# Hypothesis\n"
   ]
  },
  {
   "cell_type": "markdown",
   "metadata": {},
   "source": [
    "We hypothesize that if celebrities attend late-night tv show, then it will positively affect the discussed movies popularity, rating, and gross income.\n",
    "\n",
    "We believe this to be the outcome because while attending the late-night talk show, it seems to be advertising for the actor/actress who is attending. They often talk about their recent projects with the host, which could spike the viewers' interest. This interest would allow a higher number of viewers, as well as sales. Also, actors/actresses attending late-night talk shows allow them to display their personality in a light-hearted environment. This could potentially influence the way they are viewed in the public eye and allow for higher ratings."
   ]
  },
  {
   "cell_type": "markdown",
   "metadata": {},
   "source": [
    "# Dataset(s)"
   ]
  },
  {
   "cell_type": "markdown",
   "metadata": {},
   "source": [
    "### Movie Datasets\n",
    "#### Dataset 1\n",
    "- Dataset Name: IMDb Dataset - Title Aliases\n",
    "- File Name: title.akas.tsv (renamed to movie_titles.tsv)\n",
    "- Link to the dataset:   \n",
    "    - Download: https://datasets.imdbws.com/ \n",
    "    - Documentation: https://www.imdb.com/interfaces/\n",
    "- Number of observations: 1,124,158\n",
    "- Description: One of three used IMDb datasets. Important fields of this dataset are: an unique id for each production in the IMDb dataset, the localized title of a production, and the region of a production.\n",
    "\n",
    "#### Dataset 2\n",
    "- Dataset Name: IMDb Dataset - Title Basics\n",
    "- File Name: title.basics.tsv (renamed to movie_details.tsv)\n",
    "- Link to the dataset: \n",
    "    - Download: https://datasets.imdbws.com/      \n",
    "    - Documentation: https://www.imdb.com/interfaces/\n",
    "- Number of observations: 1,124,158\n",
    "- Description: One of three used IMDb datasets. Important fields of this dataset are: an unique id for each production in the IMDb dataset, the release year of a production, and the genre of a production.\n",
    "\n",
    "#### Dataset 3\n",
    "- Dataset Name: IMDb Dataset - Title Ratings\n",
    "- File Name: title.ratings.tsv\n",
    "- Link to the dataset: \n",
    "    - Download: https://datasets.imdbws.com/      \n",
    "    - Documentation: https://www.imdb.com/interfaces/\n",
    "- Number of observations: 1,124,158\n",
    "- Description: One of three used IMDb datasets. Important fields of this dataset are: an unique id for each production in the IMDb dataset, the average rating of a production, and the number of votes of a production.\n",
    "\n",
    "\n",
    "### Late night TV show Datasets\n",
    "\n",
    "- Kaggle Datasets obtained from: https://www.kaggle.com/phiitm/late-night-talk-show-youtube-dataset\n",
    "#### Conan\n",
    "- Dataset Name: Conan.csv\n",
    "- File Link: https://github.com/COGS108/group016_wi21/tree/main/ds\n",
    "- Number of observations: 8710\n",
    "- Description: A dataset collected from Kaggle. The Kaggle dataset was collected from Youtube’s API. Contains the video title, description, category, views, likes, and dislikes.\n",
    "\n",
    "#### James Corden\n",
    " - Dataset Name: James_Corden.csv\n",
    " - File Link: https://github.com/COGS108/group016_wi21/tree/main/ds\n",
    " - Observations: 4026\n",
    " - Description: A dataset collected from Kaggle. The Kaggle dataset was collected from Youtube’s API. Contains the video title, description, category, views, likes, and dislikes.\n",
    "\n",
    "#### Jimmy Fallon\n",
    "- Dataset Name: Jimmy_Fallon.csv\n",
    "- File Link: https://github.com/COGS108/group016_wi21/tree/main/ds\n",
    "- Number of observations: 5921\n",
    "- Description: A dataset collected from Kaggle. The Kaggle dataset was collected from Youtube’s API. Contains the video title, description, category, views, likes, and dislikes.\n",
    "\n",
    "#### Jimmy Kimmel\n",
    "- Dataset Name: Jimmy_Kimmel.csv\n",
    "- File Link: https://github.com/COGS108/group016_wi21/tree/main/ds\n",
    "- Number of observations: 4647\n",
    "- Description: A dataset collected from Kaggle. The Kaggle dataset was collected from Youtube’s API. Contains the video title, description, category, views, likes, and dislikes.\n",
    "\n",
    "#### Seth Meyers\n",
    "- Dataset Name: Seth_Meyers.csv\n",
    "- File Link: https://github.com/COGS108/group016_wi21/tree/main/ds\n",
    "- Number of observations: 3337\n",
    "- Description: A dataset collected from Kaggle. The Kaggle dataset was collected from Youtube’s API. Contains the video title, description, category, views, likes, and dislikes.\n",
    "\n",
    "#### Stephen Colbert\n",
    "- Dataset Name: Stephen_Colbert.csv\n",
    "- File Link: https://github.com/COGS108/group016_wi21/tree/main/ds\n",
    "- Number of observations: 6743\n",
    "- Description: A dataset collected from Kaggle. The Kaggle dataset was collected from Youtube’s API. Contains the video title, description, category, views, likes, and dislikes.\n",
    "\n",
    "### Dataset combination and Usage\n",
    "Datasets from each show host we have selected will be used comparatively amongst each other\n",
    "to see which actors and actresses have attended which shows. We will use this information to\n",
    " compare with our dataset from IMDB to see the movie release date and the actresses and\n",
    " actors that starred in what film. The number of votes and average rating is provided through the IMDB data. However,\n",
    " gross revenue generated, and budget will have to be webscraped. Our measure of success includes, rating of the movie, the number of votes the movie got on IMDB, and the gross income of that movie.\n",
    " The movie dataset will be combined via the data and actors present in the late-night tv show and the date and\n",
    " actors present in the movies."
   ]
  },
  {
   "cell_type": "markdown",
   "metadata": {},
   "source": [
    "# Setup"
   ]
  },
  {
   "cell_type": "code",
   "execution_count": 1,
   "metadata": {
    "pycharm": {
     "name": "#%%\n"
    }
   },
   "outputs": [],
   "source": [
    "import pandas as pd                    #for dataframe manipulation and tabular data\n",
    "import numpy as np                     #for log transformations to normality\n",
    "import matplotlib.pyplot as plt        #visualizations\n",
    "import seaborn as sns                  #visualizations\n",
    "from scipy import stats                #statistical testing\n",
    "from scipy.stats import normaltest     #distribution testing\n",
    "import patsy                           #for linear regressions\n",
    "import statsmodels.api as sm           #for lienar regressions\n",
    "import scikit_posthocs as sp           #statistical testing\n",
    "import ast                             #literal evaluation of strings"
   ]
  },
  {
   "cell_type": "markdown",
   "metadata": {},
   "source": [
    "# Data Cleaning"
   ]
  },
  {
   "cell_type": "markdown",
   "metadata": {},
   "source": [
    "## 1. Cleaning and merging IMDB Data"
   ]
  },
  {
   "cell_type": "code",
   "execution_count": 2,
   "metadata": {
    "pycharm": {
     "name": "#%%\n"
    }
   },
   "outputs": [
    {
     "name": "stderr",
     "output_type": "stream",
     "text": [
      "C:\\Users\\rajva\\Anaconda3\\lib\\site-packages\\IPython\\core\\interactiveshell.py:3049: DtypeWarning: Columns (7) have mixed types. Specify dtype option on import or set low_memory=False.\n",
      "  interactivity=interactivity, compiler=compiler, result=result)\n",
      "C:\\Users\\rajva\\Anaconda3\\lib\\site-packages\\IPython\\core\\interactiveshell.py:3049: DtypeWarning: Columns (4,5) have mixed types. Specify dtype option on import or set low_memory=False.\n",
      "  interactivity=interactivity, compiler=compiler, result=result)\n"
     ]
    }
   ],
   "source": [
    "#read in the movie titles file and movie details file\n",
    "df_titles = pd.read_csv(\"./Cleaning and Preprocessing of IMDB movie data/movie_titles.tsv\", delimiter='\\t')\n",
    "df_movies_info = pd.read_csv(\"./Cleaning and Preprocessing of IMDB movie data/movie_details.tsv\", delimiter='\\t')"
   ]
  },
  {
   "cell_type": "markdown",
   "metadata": {},
   "source": [
    "### Cleaning of the movie titles and regions dataframe"
   ]
  },
  {
   "cell_type": "code",
   "execution_count": 3,
   "metadata": {
    "pycharm": {
     "name": "#%%\n"
    }
   },
   "outputs": [
    {
     "data": {
      "text/html": [
       "<div>\n",
       "<style scoped>\n",
       "    .dataframe tbody tr th:only-of-type {\n",
       "        vertical-align: middle;\n",
       "    }\n",
       "\n",
       "    .dataframe tbody tr th {\n",
       "        vertical-align: top;\n",
       "    }\n",
       "\n",
       "    .dataframe thead th {\n",
       "        text-align: right;\n",
       "    }\n",
       "</style>\n",
       "<table border=\"1\" class=\"dataframe\">\n",
       "  <thead>\n",
       "    <tr style=\"text-align: right;\">\n",
       "      <th></th>\n",
       "      <th>titleId</th>\n",
       "      <th>ordering</th>\n",
       "      <th>title</th>\n",
       "      <th>region</th>\n",
       "      <th>language</th>\n",
       "      <th>types</th>\n",
       "      <th>attributes</th>\n",
       "      <th>isOriginalTitle</th>\n",
       "    </tr>\n",
       "  </thead>\n",
       "  <tbody>\n",
       "    <tr>\n",
       "      <th>0</th>\n",
       "      <td>tt0000001</td>\n",
       "      <td>1</td>\n",
       "      <td>Карменсіта</td>\n",
       "      <td>UA</td>\n",
       "      <td>\\N</td>\n",
       "      <td>imdbDisplay</td>\n",
       "      <td>\\N</td>\n",
       "      <td>0</td>\n",
       "    </tr>\n",
       "    <tr>\n",
       "      <th>1</th>\n",
       "      <td>tt0000001</td>\n",
       "      <td>2</td>\n",
       "      <td>Carmencita</td>\n",
       "      <td>DE</td>\n",
       "      <td>\\N</td>\n",
       "      <td>\\N</td>\n",
       "      <td>literal title</td>\n",
       "      <td>0</td>\n",
       "    </tr>\n",
       "    <tr>\n",
       "      <th>2</th>\n",
       "      <td>tt0000001</td>\n",
       "      <td>3</td>\n",
       "      <td>Carmencita - spanyol tánc</td>\n",
       "      <td>HU</td>\n",
       "      <td>\\N</td>\n",
       "      <td>imdbDisplay</td>\n",
       "      <td>\\N</td>\n",
       "      <td>0</td>\n",
       "    </tr>\n",
       "    <tr>\n",
       "      <th>3</th>\n",
       "      <td>tt0000001</td>\n",
       "      <td>4</td>\n",
       "      <td>Καρμενσίτα</td>\n",
       "      <td>GR</td>\n",
       "      <td>\\N</td>\n",
       "      <td>imdbDisplay</td>\n",
       "      <td>\\N</td>\n",
       "      <td>0</td>\n",
       "    </tr>\n",
       "    <tr>\n",
       "      <th>4</th>\n",
       "      <td>tt0000001</td>\n",
       "      <td>5</td>\n",
       "      <td>Карменсита</td>\n",
       "      <td>RU</td>\n",
       "      <td>\\N</td>\n",
       "      <td>imdbDisplay</td>\n",
       "      <td>\\N</td>\n",
       "      <td>0</td>\n",
       "    </tr>\n",
       "  </tbody>\n",
       "</table>\n",
       "</div>"
      ],
      "text/plain": [
       "     titleId  ordering                      title region language  \\\n",
       "0  tt0000001         1                 Карменсіта     UA       \\N   \n",
       "1  tt0000001         2                 Carmencita     DE       \\N   \n",
       "2  tt0000001         3  Carmencita - spanyol tánc     HU       \\N   \n",
       "3  tt0000001         4                 Καρμενσίτα     GR       \\N   \n",
       "4  tt0000001         5                 Карменсита     RU       \\N   \n",
       "\n",
       "         types     attributes isOriginalTitle  \n",
       "0  imdbDisplay             \\N               0  \n",
       "1           \\N  literal title               0  \n",
       "2  imdbDisplay             \\N               0  \n",
       "3  imdbDisplay             \\N               0  \n",
       "4  imdbDisplay             \\N               0  "
      ]
     },
     "execution_count": 3,
     "metadata": {},
     "output_type": "execute_result"
    }
   ],
   "source": [
    "df_titles.head()"
   ]
  },
  {
   "cell_type": "markdown",
   "metadata": {},
   "source": [
    "Filter all the movies by country. In our case, we filtered by movies in the US."
   ]
  },
  {
   "cell_type": "code",
   "execution_count": 4,
   "metadata": {
    "pycharm": {
     "name": "#%%\n"
    }
   },
   "outputs": [],
   "source": [
    "df_titles = df_titles[df_titles['region'] == 'US']"
   ]
  },
  {
   "cell_type": "code",
   "execution_count": 5,
   "metadata": {
    "pycharm": {
     "name": "#%%\n"
    }
   },
   "outputs": [
    {
     "data": {
      "text/html": [
       "<div>\n",
       "<style scoped>\n",
       "    .dataframe tbody tr th:only-of-type {\n",
       "        vertical-align: middle;\n",
       "    }\n",
       "\n",
       "    .dataframe tbody tr th {\n",
       "        vertical-align: top;\n",
       "    }\n",
       "\n",
       "    .dataframe thead th {\n",
       "        text-align: right;\n",
       "    }\n",
       "</style>\n",
       "<table border=\"1\" class=\"dataframe\">\n",
       "  <thead>\n",
       "    <tr style=\"text-align: right;\">\n",
       "      <th></th>\n",
       "      <th>titleId</th>\n",
       "      <th>ordering</th>\n",
       "      <th>title</th>\n",
       "      <th>region</th>\n",
       "      <th>language</th>\n",
       "      <th>types</th>\n",
       "      <th>attributes</th>\n",
       "      <th>isOriginalTitle</th>\n",
       "    </tr>\n",
       "  </thead>\n",
       "  <tbody>\n",
       "    <tr>\n",
       "      <th>5</th>\n",
       "      <td>tt0000001</td>\n",
       "      <td>6</td>\n",
       "      <td>Carmencita</td>\n",
       "      <td>US</td>\n",
       "      <td>\\N</td>\n",
       "      <td>\\N</td>\n",
       "      <td>\\N</td>\n",
       "      <td>0</td>\n",
       "    </tr>\n",
       "    <tr>\n",
       "      <th>14</th>\n",
       "      <td>tt0000002</td>\n",
       "      <td>7</td>\n",
       "      <td>The Clown and His Dogs</td>\n",
       "      <td>US</td>\n",
       "      <td>\\N</td>\n",
       "      <td>\\N</td>\n",
       "      <td>literal English title</td>\n",
       "      <td>0</td>\n",
       "    </tr>\n",
       "    <tr>\n",
       "      <th>35</th>\n",
       "      <td>tt0000005</td>\n",
       "      <td>1</td>\n",
       "      <td>Blacksmithing Scene</td>\n",
       "      <td>US</td>\n",
       "      <td>\\N</td>\n",
       "      <td>alternative</td>\n",
       "      <td>\\N</td>\n",
       "      <td>0</td>\n",
       "    </tr>\n",
       "    <tr>\n",
       "      <th>39</th>\n",
       "      <td>tt0000005</td>\n",
       "      <td>5</td>\n",
       "      <td>Blacksmith Scene #1</td>\n",
       "      <td>US</td>\n",
       "      <td>\\N</td>\n",
       "      <td>alternative</td>\n",
       "      <td>\\N</td>\n",
       "      <td>0</td>\n",
       "    </tr>\n",
       "    <tr>\n",
       "      <th>40</th>\n",
       "      <td>tt0000005</td>\n",
       "      <td>6</td>\n",
       "      <td>Blacksmithing</td>\n",
       "      <td>US</td>\n",
       "      <td>\\N</td>\n",
       "      <td>\\N</td>\n",
       "      <td>informal alternative title</td>\n",
       "      <td>0</td>\n",
       "    </tr>\n",
       "  </tbody>\n",
       "</table>\n",
       "</div>"
      ],
      "text/plain": [
       "      titleId  ordering                   title region language        types  \\\n",
       "5   tt0000001         6              Carmencita     US       \\N           \\N   \n",
       "14  tt0000002         7  The Clown and His Dogs     US       \\N           \\N   \n",
       "35  tt0000005         1     Blacksmithing Scene     US       \\N  alternative   \n",
       "39  tt0000005         5     Blacksmith Scene #1     US       \\N  alternative   \n",
       "40  tt0000005         6           Blacksmithing     US       \\N           \\N   \n",
       "\n",
       "                    attributes isOriginalTitle  \n",
       "5                           \\N               0  \n",
       "14       literal English title               0  \n",
       "35                          \\N               0  \n",
       "39                          \\N               0  \n",
       "40  informal alternative title               0  "
      ]
     },
     "execution_count": 5,
     "metadata": {},
     "output_type": "execute_result"
    }
   ],
   "source": [
    "df_titles.head()"
   ]
  },
  {
   "cell_type": "markdown",
   "metadata": {},
   "source": [
    "### Datacleaning and filter of the movie details dataframe"
   ]
  },
  {
   "cell_type": "code",
   "execution_count": 6,
   "metadata": {
    "pycharm": {
     "name": "#%%\n"
    }
   },
   "outputs": [
    {
     "data": {
      "text/html": [
       "<div>\n",
       "<style scoped>\n",
       "    .dataframe tbody tr th:only-of-type {\n",
       "        vertical-align: middle;\n",
       "    }\n",
       "\n",
       "    .dataframe tbody tr th {\n",
       "        vertical-align: top;\n",
       "    }\n",
       "\n",
       "    .dataframe thead th {\n",
       "        text-align: right;\n",
       "    }\n",
       "</style>\n",
       "<table border=\"1\" class=\"dataframe\">\n",
       "  <thead>\n",
       "    <tr style=\"text-align: right;\">\n",
       "      <th></th>\n",
       "      <th>tconst</th>\n",
       "      <th>titleType</th>\n",
       "      <th>primaryTitle</th>\n",
       "      <th>originalTitle</th>\n",
       "      <th>isAdult</th>\n",
       "      <th>startYear</th>\n",
       "      <th>endYear</th>\n",
       "      <th>runtimeMinutes</th>\n",
       "      <th>genres</th>\n",
       "    </tr>\n",
       "  </thead>\n",
       "  <tbody>\n",
       "    <tr>\n",
       "      <th>0</th>\n",
       "      <td>tt0000001</td>\n",
       "      <td>short</td>\n",
       "      <td>Carmencita</td>\n",
       "      <td>Carmencita</td>\n",
       "      <td>0</td>\n",
       "      <td>1894</td>\n",
       "      <td>\\N</td>\n",
       "      <td>1</td>\n",
       "      <td>Documentary,Short</td>\n",
       "    </tr>\n",
       "    <tr>\n",
       "      <th>1</th>\n",
       "      <td>tt0000002</td>\n",
       "      <td>short</td>\n",
       "      <td>Le clown et ses chiens</td>\n",
       "      <td>Le clown et ses chiens</td>\n",
       "      <td>0</td>\n",
       "      <td>1892</td>\n",
       "      <td>\\N</td>\n",
       "      <td>5</td>\n",
       "      <td>Animation,Short</td>\n",
       "    </tr>\n",
       "    <tr>\n",
       "      <th>2</th>\n",
       "      <td>tt0000003</td>\n",
       "      <td>short</td>\n",
       "      <td>Pauvre Pierrot</td>\n",
       "      <td>Pauvre Pierrot</td>\n",
       "      <td>0</td>\n",
       "      <td>1892</td>\n",
       "      <td>\\N</td>\n",
       "      <td>4</td>\n",
       "      <td>Animation,Comedy,Romance</td>\n",
       "    </tr>\n",
       "    <tr>\n",
       "      <th>3</th>\n",
       "      <td>tt0000004</td>\n",
       "      <td>short</td>\n",
       "      <td>Un bon bock</td>\n",
       "      <td>Un bon bock</td>\n",
       "      <td>0</td>\n",
       "      <td>1892</td>\n",
       "      <td>\\N</td>\n",
       "      <td>12</td>\n",
       "      <td>Animation,Short</td>\n",
       "    </tr>\n",
       "    <tr>\n",
       "      <th>4</th>\n",
       "      <td>tt0000005</td>\n",
       "      <td>short</td>\n",
       "      <td>Blacksmith Scene</td>\n",
       "      <td>Blacksmith Scene</td>\n",
       "      <td>0</td>\n",
       "      <td>1893</td>\n",
       "      <td>\\N</td>\n",
       "      <td>1</td>\n",
       "      <td>Comedy,Short</td>\n",
       "    </tr>\n",
       "  </tbody>\n",
       "</table>\n",
       "</div>"
      ],
      "text/plain": [
       "      tconst titleType            primaryTitle           originalTitle  \\\n",
       "0  tt0000001     short              Carmencita              Carmencita   \n",
       "1  tt0000002     short  Le clown et ses chiens  Le clown et ses chiens   \n",
       "2  tt0000003     short          Pauvre Pierrot          Pauvre Pierrot   \n",
       "3  tt0000004     short             Un bon bock             Un bon bock   \n",
       "4  tt0000005     short        Blacksmith Scene        Blacksmith Scene   \n",
       "\n",
       "  isAdult startYear endYear runtimeMinutes                    genres  \n",
       "0       0      1894      \\N              1         Documentary,Short  \n",
       "1       0      1892      \\N              5           Animation,Short  \n",
       "2       0      1892      \\N              4  Animation,Comedy,Romance  \n",
       "3       0      1892      \\N             12           Animation,Short  \n",
       "4       0      1893      \\N              1              Comedy,Short  "
      ]
     },
     "execution_count": 6,
     "metadata": {},
     "output_type": "execute_result"
    }
   ],
   "source": [
    "df_movies_info.head()"
   ]
  },
  {
   "cell_type": "code",
   "execution_count": 7,
   "metadata": {
    "pycharm": {
     "name": "#%%\n"
    }
   },
   "outputs": [
    {
     "data": {
      "text/plain": [
       "array(['short', 'movie', 'tvShort', 'tvMovie', 'tvSeries', 'tvEpisode',\n",
       "       'tvMiniSeries', 'tvSpecial', 'video', 'videoGame', 'audiobook',\n",
       "       'radioSeries', 'episode'], dtype=object)"
      ]
     },
     "execution_count": 7,
     "metadata": {},
     "output_type": "execute_result"
    }
   ],
   "source": [
    "#look at the different types of titles present in the dataframe\n",
    "df_movies_info['titleType'].unique()"
   ]
  },
  {
   "cell_type": "code",
   "execution_count": 8,
   "metadata": {
    "pycharm": {
     "name": "#%%\n"
    }
   },
   "outputs": [],
   "source": [
    "#filter only the movies from the dataframe\n",
    "df_movies_info = df_movies_info[df_movies_info['titleType'] == 'movie']"
   ]
  },
  {
   "cell_type": "code",
   "execution_count": 9,
   "metadata": {
    "pycharm": {
     "name": "#%%\n"
    }
   },
   "outputs": [],
   "source": [
    "#handling null variables\n",
    "df_movies_info = df_movies_info.replace('\\\\N', np.nan)"
   ]
  },
  {
   "cell_type": "code",
   "execution_count": 10,
   "metadata": {
    "pycharm": {
     "name": "#%%\n"
    }
   },
   "outputs": [],
   "source": [
    "#drop any movies that did not have a year in the data. We need year to match our late night show database\n",
    "df_movies_info = df_movies_info.dropna(subset=['startYear'])"
   ]
  },
  {
   "cell_type": "code",
   "execution_count": 11,
   "metadata": {
    "pycharm": {
     "name": "#%%\n"
    }
   },
   "outputs": [],
   "source": [
    "#casting to movie year to int so we can filter all the movies by year\n",
    "df_movies_info['startYear'] = df_movies_info['startYear'].astype(int)\n"
   ]
  },
  {
   "cell_type": "markdown",
   "metadata": {},
   "source": [
    "Filtering by years, genre type and movie runtime. Choosing all the movies between 2009 and 2020. This range represents the range of our late night show database."
   ]
  },
  {
   "cell_type": "code",
   "execution_count": 12,
   "metadata": {
    "pycharm": {
     "name": "#%%\n"
    }
   },
   "outputs": [],
   "source": [
    "df_movies_info = df_movies_info.loc[(df_movies_info['startYear'] >= 2009) & (df_movies_info['startYear'] <= 2020)]"
   ]
  },
  {
   "cell_type": "code",
   "execution_count": 13,
   "metadata": {
    "pycharm": {
     "name": "#%%\n"
    }
   },
   "outputs": [],
   "source": [
    "#removing documentaries\n",
    "df_movies_info = df_movies_info[df_movies_info['genres'] != 'Documentary']"
   ]
  },
  {
   "cell_type": "code",
   "execution_count": 14,
   "metadata": {
    "pycharm": {
     "name": "#%%\n"
    }
   },
   "outputs": [],
   "source": [
    "#removing the null values in the genres and runtimeMinute columns\n",
    "df_movies_info = df_movies_info.dropna(subset=['genres','runtimeMinutes'])"
   ]
  },
  {
   "cell_type": "code",
   "execution_count": 15,
   "metadata": {
    "pycharm": {
     "name": "#%%\n"
    }
   },
   "outputs": [],
   "source": [
    "#casting to int\n",
    "df_movies_info['runtimeMinutes'] = df_movies_info['runtimeMinutes'].astype(int)"
   ]
  },
  {
   "cell_type": "code",
   "execution_count": 16,
   "metadata": {
    "pycharm": {
     "name": "#%%\n"
    }
   },
   "outputs": [],
   "source": [
    "#some movies were 5 minutes and others were above 6000. Filtered by movie length\n",
    "df_movies_info = df_movies_info.loc[(df_movies_info['runtimeMinutes'] >= 60) & (df_movies_info['runtimeMinutes'] <= 240)]"
   ]
  },
  {
   "cell_type": "markdown",
   "metadata": {},
   "source": [
    "More filtering and cleaning the dataframe"
   ]
  },
  {
   "cell_type": "code",
   "execution_count": 17,
   "metadata": {
    "pycharm": {
     "name": "#%%\n"
    }
   },
   "outputs": [],
   "source": [
    "#dropping unnecessary columns\n",
    "df_movies_info_new = df_movies_info.drop(columns=['runtimeMinutes','genres','isAdult','endYear','titleType'])\n",
    "df_movies_info_new  = df_movies_info_new.drop(columns=['originalTitle'])"
   ]
  },
  {
   "cell_type": "code",
   "execution_count": 18,
   "metadata": {
    "pycharm": {
     "name": "#%%\n"
    }
   },
   "outputs": [],
   "source": [
    "#renaming the columns to meaningful titles so we can filter and merge easier\n",
    "df_movies_info_new = df_movies_info_new.rename(columns={\"primaryTitle\": \"title\", \"startYear\":\"year\"})"
   ]
  },
  {
   "cell_type": "code",
   "execution_count": 19,
   "metadata": {
    "pycharm": {
     "name": "#%%\n"
    }
   },
   "outputs": [],
   "source": [
    "#choosing only the title and titleID from the second movie_title file\n",
    "df_titles = df_titles[['titleId','ordering','title']]"
   ]
  },
  {
   "cell_type": "code",
   "execution_count": 20,
   "metadata": {
    "pycharm": {
     "name": "#%%\n"
    }
   },
   "outputs": [
    {
     "name": "stdout",
     "output_type": "stream",
     "text": [
      "Index(['titleId', 'ordering', 'title'], dtype='object')\n"
     ]
    }
   ],
   "source": [
    "#looking at the different columns present in each dataframe\n",
    "df_movies_info_new.columns\n",
    "print(df_titles.columns)"
   ]
  },
  {
   "cell_type": "markdown",
   "metadata": {},
   "source": [
    "Merging the movie detail dataframe with the movie title and region dataframe. This allows us\n",
    "to have the movie ID's of the movies that had the label of US in the region."
   ]
  },
  {
   "cell_type": "code",
   "execution_count": 21,
   "metadata": {
    "pycharm": {
     "name": "#%%\n"
    }
   },
   "outputs": [],
   "source": [
    "df_all_movies = pd.merge(df_movies_info_new, df_titles, left_on=['tconst','title'], right_on=['titleId','title'], how='inner')"
   ]
  },
  {
   "cell_type": "code",
   "execution_count": 22,
   "metadata": {
    "pycharm": {
     "name": "#%%\n"
    }
   },
   "outputs": [],
   "source": [
    "#dropping any duplicates of the movie IDs\n",
    "df_all_movies = df_all_movies.drop_duplicates(subset=['tconst','titleId'])"
   ]
  },
  {
   "cell_type": "code",
   "execution_count": 23,
   "metadata": {
    "pycharm": {
     "name": "#%%\n"
    }
   },
   "outputs": [],
   "source": [
    "#droping unnecessary columns. Do not need titleID because we have tconst, which is the same thing\n",
    "df_all_movies = df_all_movies.drop(columns=['titleId','ordering'])"
   ]
  },
  {
   "cell_type": "code",
   "execution_count": 24,
   "metadata": {
    "pycharm": {
     "name": "#%%\n"
    }
   },
   "outputs": [],
   "source": [
    "#reading in the ratings for each movie.\n",
    "df_movie_ratings = pd.read_csv('./Cleaning and Preprocessing of IMDB movie data/title_rating.tsv', sep='\\t')\n"
   ]
  },
  {
   "cell_type": "markdown",
   "metadata": {},
   "source": [
    "Merging the ratings dataframe with cleaned dataframe with the movies we want to analyze. This gives\n",
    "us two of the popularity features we wanted to analyze for each movie. The rating dataframe consisted\n",
    "of the number of votes a movie got and the rating of that movie."
   ]
  },
  {
   "cell_type": "code",
   "execution_count": 25,
   "metadata": {
    "pycharm": {
     "name": "#%%\n"
    }
   },
   "outputs": [],
   "source": [
    "#merging the two dataframes via the tconst or unique ID for that movie\n",
    "df_all_movies = pd.merge(df_all_movies, df_movie_ratings, on='tconst', how='inner')"
   ]
  },
  {
   "cell_type": "code",
   "execution_count": 26,
   "metadata": {
    "pycharm": {
     "name": "#%%\n"
    }
   },
   "outputs": [
    {
     "data": {
      "text/plain": [
       "(34501, 5)"
      ]
     },
     "execution_count": 26,
     "metadata": {},
     "output_type": "execute_result"
    }
   ],
   "source": [
    "df_all_movies.shape"
   ]
  },
  {
   "cell_type": "code",
   "execution_count": 27,
   "metadata": {
    "pycharm": {
     "name": "#%%\n"
    }
   },
   "outputs": [],
   "source": [
    "#save as csv\n",
    "df_all_movies.to_csv(\"df_all_movies.csv\")"
   ]
  },
  {
   "cell_type": "markdown",
   "metadata": {
    "pycharm": {
     "name": "#%% md\n"
    }
   },
   "source": [
    "## 2. Getting actor names, Gross Income of Movies, Merging with IMDB movies and Cleaning."
   ]
  },
  {
   "cell_type": "markdown",
   "metadata": {
    "pycharm": {
     "name": "#%% md\n"
    }
   },
   "source": [
    "### To see how we got the actor names and gross income of movies, look at the notebook: actor and gross income webscraping.ipynb\n",
    "#### Description of the notebook:\n",
    "Since we were not able to get the actor names and gross income from the IMDB dataset, we had to resort to webscraping in order\n",
    "to get the data. As you can see above, after merging and cleaning the datasets we got from IMDB, we had 34501 movies\n",
    "we had to get a list of actors and gross income for. We had to implement a multithreaded webscaper in order to\n",
    "successfully webscrape the data for the 34501 movies in a reasonable period of time, as you will see in the notebook.\n",
    "While running the webscraper, we ran into problems in accessing the IMDB websites. After scraping data from about 5000\n",
    "links, we were given timeout errors as IMDB would not let us get any more data. Due to this problem, we had to\n",
    "run the scraper multiple times in order to get through all 34501 movies. This highlights the main reason\n",
    "why we chose to omit the notebook code from this final report. If we re-run the scraper, it would increase the size of the report.\n",
    "The data we collected from scraping all 34501 movies is found in the actors_movie_incomes.csv file."
   ]
  },
  {
   "cell_type": "markdown",
   "metadata": {
    "pycharm": {
     "name": "#%% md\n"
    }
   },
   "source": [
    "### Merging actor names, and gross incomes with their respective movies.\n",
    "We managed to get the titleIds for each movie we webscraped so that we could have a common movie identifier that we can use to merge the dataset to\n",
    "the cleaned\n",
    "IMDB movie dataset with."
   ]
  },
  {
   "cell_type": "code",
   "execution_count": 2,
   "metadata": {
    "pycharm": {
     "name": "#%%\n"
    }
   },
   "outputs": [],
   "source": [
    "#read in movies without actors and income and read in the actors and income dataset\n",
    "df_movies = pd.read_csv(\"./Cleaning and Preprocessing of IMDB movie data/df_all_movies.csv\")\n",
    "df_actor_gross = pd.read_csv(\"./Cleaning and Preprocessing of IMDB movie data/actors_movie_incomes.csv\")"
   ]
  },
  {
   "cell_type": "markdown",
   "metadata": {},
   "source": [
    "Data cleaning/Removing unnecessary columns"
   ]
  },
  {
   "cell_type": "code",
   "execution_count": 3,
   "metadata": {
    "pycharm": {
     "name": "#%%\n"
    }
   },
   "outputs": [],
   "source": [
    "#dropping the useless created index column\n",
    "df_movies = df_movies.drop(columns=['Unnamed: 0'])\n",
    "df_actor_gross = df_actor_gross.drop(columns=['Unnamed: 0'])"
   ]
  },
  {
   "cell_type": "code",
   "execution_count": 4,
   "metadata": {
    "pycharm": {
     "name": "#%%\n"
    }
   },
   "outputs": [],
   "source": [
    "#renaming the columns in the actor and gross income dataframe to something meaningful\n",
    "df_actor_gross = df_actor_gross.rename(columns={'0' : 'tconst', '1':'gross income', '2':'actors' })"
   ]
  },
  {
   "cell_type": "code",
   "execution_count": 5,
   "metadata": {
    "pycharm": {
     "name": "#%%\n"
    }
   },
   "outputs": [
    {
     "name": "stdout",
     "output_type": "stream",
     "text": [
      "Index(['tconst', 'gross income', 'actors'], dtype='object')\n",
      "Index(['tconst', 'title', 'year', 'averageRating', 'numVotes'], dtype='object')\n"
     ]
    }
   ],
   "source": [
    "#look at the columns before merging the two dataframes\n",
    "print(df_actor_gross.columns)\n",
    "print(df_movies.columns)"
   ]
  },
  {
   "cell_type": "code",
   "execution_count": 6,
   "metadata": {
    "pycharm": {
     "name": "#%%\n"
    }
   },
   "outputs": [],
   "source": [
    "#merge the two dataframes\n",
    "df_main = pd.merge(df_movies, df_actor_gross, on='tconst', how='left')"
   ]
  },
  {
   "cell_type": "code",
   "execution_count": 7,
   "metadata": {
    "pycharm": {
     "name": "#%%\n"
    }
   },
   "outputs": [],
   "source": [
    "#check for any duplicates and drop them\n",
    "df_main = df_main.drop_duplicates(subset=['tconst'])"
   ]
  },
  {
   "cell_type": "markdown",
   "metadata": {},
   "source": [
    "More data cleaning by dropping the null values in income and actors"
   ]
  },
  {
   "cell_type": "code",
   "execution_count": 8,
   "metadata": {
    "pycharm": {
     "name": "#%%\n"
    }
   },
   "outputs": [],
   "source": [
    "df_main = df_main.dropna(subset=['gross income', 'actors'])"
   ]
  },
  {
   "cell_type": "markdown",
   "metadata": {},
   "source": [
    "Since the actors column was a string of a list of lists, we just removed the string aspect and got the list of actors for each movie so we can seperate the actors into a seperate column"
   ]
  },
  {
   "cell_type": "code",
   "execution_count": 9,
   "metadata": {
    "pycharm": {
     "name": "#%%\n"
    }
   },
   "outputs": [],
   "source": [
    "#remove the string aspect of the actors column\n",
    "df_main['actors'] = df_main['actors'].apply(ast.literal_eval)"
   ]
  },
  {
   "cell_type": "code",
   "execution_count": 10,
   "metadata": {
    "pycharm": {
     "name": "#%%\n"
    }
   },
   "outputs": [],
   "source": [
    "#we convert the actors list into 4 different columns to separate the actors\n",
    "df_main[['actor1', 'actor2', 'actor3', 'actor4']] =pd.DataFrame(df_main.actors.tolist(), index = df_main.index)"
   ]
  },
  {
   "cell_type": "code",
   "execution_count": 11,
   "metadata": {
    "pycharm": {
     "name": "#%%\n"
    }
   },
   "outputs": [],
   "source": [
    "#drop the list of actors because we do not need it anymore\n",
    "df_main = df_main.drop(columns=['actors'])"
   ]
  },
  {
   "cell_type": "code",
   "execution_count": 12,
   "metadata": {
    "pycharm": {
     "name": "#%%\n"
    }
   },
   "outputs": [
    {
     "data": {
      "text/html": [
       "<div>\n",
       "<style scoped>\n",
       "    .dataframe tbody tr th:only-of-type {\n",
       "        vertical-align: middle;\n",
       "    }\n",
       "\n",
       "    .dataframe tbody tr th {\n",
       "        vertical-align: top;\n",
       "    }\n",
       "\n",
       "    .dataframe thead th {\n",
       "        text-align: right;\n",
       "    }\n",
       "</style>\n",
       "<table border=\"1\" class=\"dataframe\">\n",
       "  <thead>\n",
       "    <tr style=\"text-align: right;\">\n",
       "      <th></th>\n",
       "      <th>tconst</th>\n",
       "      <th>title</th>\n",
       "      <th>year</th>\n",
       "      <th>averageRating</th>\n",
       "      <th>numVotes</th>\n",
       "      <th>gross income</th>\n",
       "      <th>actor1</th>\n",
       "      <th>actor2</th>\n",
       "      <th>actor3</th>\n",
       "      <th>actor4</th>\n",
       "    </tr>\n",
       "  </thead>\n",
       "  <tbody>\n",
       "    <tr>\n",
       "      <th>1</th>\n",
       "      <td>tt0100275</td>\n",
       "      <td>The Wandering Soap Opera</td>\n",
       "      <td>2017</td>\n",
       "      <td>6.6</td>\n",
       "      <td>267</td>\n",
       "      <td>$3,624</td>\n",
       "      <td>Luis Alarcón</td>\n",
       "      <td>Patricia Rivadeneira</td>\n",
       "      <td>Francisco Reyes</td>\n",
       "      <td>Consuelo Castillo</td>\n",
       "    </tr>\n",
       "    <tr>\n",
       "      <th>5</th>\n",
       "      <td>tt0249516</td>\n",
       "      <td>Foodfight!</td>\n",
       "      <td>2011</td>\n",
       "      <td>1.5</td>\n",
       "      <td>9433</td>\n",
       "      <td>$120,141</td>\n",
       "      <td>Hilary Duff</td>\n",
       "      <td>Haylie Duff</td>\n",
       "      <td>Charlie Sheen</td>\n",
       "      <td>Eva Longoria</td>\n",
       "    </tr>\n",
       "    <tr>\n",
       "      <th>12</th>\n",
       "      <td>tt0326965</td>\n",
       "      <td>In My Sleep</td>\n",
       "      <td>2010</td>\n",
       "      <td>5.5</td>\n",
       "      <td>1962</td>\n",
       "      <td>$30,158</td>\n",
       "      <td>Philip Winchester</td>\n",
       "      <td>Tim Draxl</td>\n",
       "      <td>Lacey Chabert</td>\n",
       "      <td>Abigail Spencer</td>\n",
       "    </tr>\n",
       "    <tr>\n",
       "      <th>13</th>\n",
       "      <td>tt0327597</td>\n",
       "      <td>Coraline</td>\n",
       "      <td>2009</td>\n",
       "      <td>7.7</td>\n",
       "      <td>198694</td>\n",
       "      <td>$124,596,837</td>\n",
       "      <td>Dakota Fanning</td>\n",
       "      <td>Teri Hatcher</td>\n",
       "      <td>John Hodgman</td>\n",
       "      <td>Jennifer Saunders</td>\n",
       "    </tr>\n",
       "    <tr>\n",
       "      <th>16</th>\n",
       "      <td>tt0331314</td>\n",
       "      <td>Bunyan and Babe</td>\n",
       "      <td>2017</td>\n",
       "      <td>5.0</td>\n",
       "      <td>342</td>\n",
       "      <td>$72,060</td>\n",
       "      <td>John Goodman</td>\n",
       "      <td>Jeff Foxworthy</td>\n",
       "      <td>Kelsey Grammer</td>\n",
       "      <td>Johnny Orlando</td>\n",
       "    </tr>\n",
       "    <tr>\n",
       "      <th>17</th>\n",
       "      <td>tt0337692</td>\n",
       "      <td>On the Road</td>\n",
       "      <td>2012</td>\n",
       "      <td>6.1</td>\n",
       "      <td>39959</td>\n",
       "      <td>$9,617,377</td>\n",
       "      <td>Sam Riley</td>\n",
       "      <td>Garrett Hedlund</td>\n",
       "      <td>Kristen Stewart</td>\n",
       "      <td>Amy Adams</td>\n",
       "    </tr>\n",
       "    <tr>\n",
       "      <th>21</th>\n",
       "      <td>tt0346631</td>\n",
       "      <td>Blood and Bone</td>\n",
       "      <td>2009</td>\n",
       "      <td>6.7</td>\n",
       "      <td>31413</td>\n",
       "      <td>$3,492</td>\n",
       "      <td>Michael Jai White</td>\n",
       "      <td>Julian Sands</td>\n",
       "      <td>Eamonn Walker</td>\n",
       "      <td>Dante Basco</td>\n",
       "    </tr>\n",
       "    <tr>\n",
       "      <th>22</th>\n",
       "      <td>tt0359950</td>\n",
       "      <td>The Secret Life of Walter Mitty</td>\n",
       "      <td>2013</td>\n",
       "      <td>7.3</td>\n",
       "      <td>294557</td>\n",
       "      <td>$188,133,322</td>\n",
       "      <td>Ben Stiller</td>\n",
       "      <td>Kristen Wiig</td>\n",
       "      <td>Jon Daly</td>\n",
       "      <td>Kathryn Hahn</td>\n",
       "    </tr>\n",
       "    <tr>\n",
       "      <th>24</th>\n",
       "      <td>tt0361748</td>\n",
       "      <td>Inglourious Basterds</td>\n",
       "      <td>2009</td>\n",
       "      <td>8.3</td>\n",
       "      <td>1276172</td>\n",
       "      <td>$321,457,747</td>\n",
       "      <td>Brad Pitt</td>\n",
       "      <td>Diane Kruger</td>\n",
       "      <td>Eli Roth</td>\n",
       "      <td>Mélanie Laurent</td>\n",
       "    </tr>\n",
       "    <tr>\n",
       "      <th>25</th>\n",
       "      <td>tt0362478</td>\n",
       "      <td>The Box</td>\n",
       "      <td>2009</td>\n",
       "      <td>5.6</td>\n",
       "      <td>89055</td>\n",
       "      <td>$33,334,176</td>\n",
       "      <td>Cameron Diaz</td>\n",
       "      <td>James Marsden</td>\n",
       "      <td>Frank Langella</td>\n",
       "      <td>James Rebhorn</td>\n",
       "    </tr>\n",
       "  </tbody>\n",
       "</table>\n",
       "</div>"
      ],
      "text/plain": [
       "       tconst                            title  year  averageRating  numVotes  \\\n",
       "1   tt0100275         The Wandering Soap Opera  2017            6.6       267   \n",
       "5   tt0249516                       Foodfight!  2011            1.5      9433   \n",
       "12  tt0326965                      In My Sleep  2010            5.5      1962   \n",
       "13  tt0327597                         Coraline  2009            7.7    198694   \n",
       "16  tt0331314                  Bunyan and Babe  2017            5.0       342   \n",
       "17  tt0337692                      On the Road  2012            6.1     39959   \n",
       "21  tt0346631                   Blood and Bone  2009            6.7     31413   \n",
       "22  tt0359950  The Secret Life of Walter Mitty  2013            7.3    294557   \n",
       "24  tt0361748             Inglourious Basterds  2009            8.3   1276172   \n",
       "25  tt0362478                          The Box  2009            5.6     89055   \n",
       "\n",
       "             gross income             actor1                actor2  \\\n",
       "1          $3,624               Luis Alarcón  Patricia Rivadeneira   \n",
       "5        $120,141                Hilary Duff           Haylie Duff   \n",
       "12        $30,158          Philip Winchester             Tim Draxl   \n",
       "13   $124,596,837             Dakota Fanning          Teri Hatcher   \n",
       "16        $72,060               John Goodman        Jeff Foxworthy   \n",
       "17     $9,617,377                  Sam Riley       Garrett Hedlund   \n",
       "21         $3,492          Michael Jai White          Julian Sands   \n",
       "22   $188,133,322                Ben Stiller          Kristen Wiig   \n",
       "24   $321,457,747                  Brad Pitt          Diane Kruger   \n",
       "25    $33,334,176               Cameron Diaz         James Marsden   \n",
       "\n",
       "             actor3             actor4  \n",
       "1   Francisco Reyes  Consuelo Castillo  \n",
       "5     Charlie Sheen       Eva Longoria  \n",
       "12    Lacey Chabert    Abigail Spencer  \n",
       "13     John Hodgman  Jennifer Saunders  \n",
       "16   Kelsey Grammer     Johnny Orlando  \n",
       "17  Kristen Stewart          Amy Adams  \n",
       "21    Eamonn Walker        Dante Basco  \n",
       "22         Jon Daly       Kathryn Hahn  \n",
       "24         Eli Roth    Mélanie Laurent  \n",
       "25   Frank Langella      James Rebhorn  "
      ]
     },
     "execution_count": 12,
     "metadata": {},
     "output_type": "execute_result"
    }
   ],
   "source": [
    "#check the dataframe out\n",
    "df_main.head(10)"
   ]
  },
  {
   "cell_type": "code",
   "execution_count": 13,
   "metadata": {
    "pycharm": {
     "name": "#%%\n"
    }
   },
   "outputs": [],
   "source": [
    "#will use this dataframe to merge the late night show host data to the movie data.\n",
    "df_main.to_csv(\"df_wo_latenighthosts.csv\")"
   ]
  },
  {
   "cell_type": "markdown",
   "metadata": {
    "pycharm": {
     "name": "#%% md\n"
    }
   },
   "source": [
    "## 3. Adding the Late Night TV Show Host data to the IMDB dataframe"
   ]
  },
  {
   "cell_type": "markdown",
   "metadata": {},
   "source": [
    "### Explaining our method of seeing if the movie actor went on the late night show to advertise their movie:\n",
    "While looking for ways in which we could determine if the actors of a particular movie went to a late night show to\n",
    "advertise their movie, we saw a pattern in the timings of the videos as well as the title. Each actor would go on the late night show\n",
    "a few weeks or months before their movie came out. Furthermore, their name was always present in the title of the video.\n",
    "We used these patterns to our advantage and merged our late\n",
    "night show datasets to the IMDB movie dataset with actors and gross income. We extracted all the actor names from the\n",
    "IMDB movie dataset and first looked for them in the title of the video. We then merged the two databases based on actor and\n",
    "movie date of release, therefore getting a dataset which mentioned if an actor of a given movie had been on that late night TV show\n",
    "or not. We verified this method by randomly sampling 100 movies from our dataset and manually checking if the actor had been\n",
    "on the late night show to advertise their movie or not."
   ]
  },
  {
   "cell_type": "code",
   "execution_count": 14,
   "metadata": {
    "pycharm": {
     "name": "#%%\n"
    }
   },
   "outputs": [],
   "source": [
    "#for debugging purposes\n",
    "DEBUG = False"
   ]
  },
  {
   "cell_type": "code",
   "execution_count": 15,
   "metadata": {
    "pycharm": {
     "name": "#%%\n"
    }
   },
   "outputs": [],
   "source": [
    "#main dataframe. Read in cleaned imdb dataframe with actor names and gross income\n",
    "#Read in the late night show host dataframes\n",
    "imdb_df = pd.read_csv(\"./Cleaning and Preprocessing of IMDB movie data/df_wo_latenighthosts.csv\")\n",
    "df_corden = pd.read_csv('.\\ds\\James_Corden.csv')\n",
    "df_fallon = pd.read_csv('.\\ds\\Jimmy_Fallon.csv')\n",
    "df_kimmel = pd.read_csv('.\\ds\\Jimmy_Kimmel.csv')\n",
    "df_meyers = pd.read_csv('.\\ds\\Seth_Meyers.csv')\n",
    "df_colbert = pd.read_csv('.\\ds\\Stephen_Colbert.csv')\n",
    "df_conan = pd.read_csv('.\\ds\\Conan.csv')"
   ]
  },
  {
   "cell_type": "code",
   "execution_count": 16,
   "metadata": {
    "pycharm": {
     "name": "#%%\n"
    }
   },
   "outputs": [
    {
     "data": {
      "text/html": [
       "<div>\n",
       "<style scoped>\n",
       "    .dataframe tbody tr th:only-of-type {\n",
       "        vertical-align: middle;\n",
       "    }\n",
       "\n",
       "    .dataframe tbody tr th {\n",
       "        vertical-align: top;\n",
       "    }\n",
       "\n",
       "    .dataframe thead th {\n",
       "        text-align: right;\n",
       "    }\n",
       "</style>\n",
       "<table border=\"1\" class=\"dataframe\">\n",
       "  <thead>\n",
       "    <tr style=\"text-align: right;\">\n",
       "      <th></th>\n",
       "      <th>Unnamed: 0</th>\n",
       "      <th>tconst</th>\n",
       "      <th>title</th>\n",
       "      <th>year</th>\n",
       "      <th>averageRating</th>\n",
       "      <th>numVotes</th>\n",
       "      <th>gross income</th>\n",
       "      <th>actor1</th>\n",
       "      <th>actor2</th>\n",
       "      <th>actor3</th>\n",
       "      <th>actor4</th>\n",
       "    </tr>\n",
       "  </thead>\n",
       "  <tbody>\n",
       "    <tr>\n",
       "      <th>0</th>\n",
       "      <td>1</td>\n",
       "      <td>tt0100275</td>\n",
       "      <td>The Wandering Soap Opera</td>\n",
       "      <td>2017</td>\n",
       "      <td>6.6</td>\n",
       "      <td>267</td>\n",
       "      <td>$3,624</td>\n",
       "      <td>Luis Alarcón</td>\n",
       "      <td>Patricia Rivadeneira</td>\n",
       "      <td>Francisco Reyes</td>\n",
       "      <td>Consuelo Castillo</td>\n",
       "    </tr>\n",
       "    <tr>\n",
       "      <th>1</th>\n",
       "      <td>5</td>\n",
       "      <td>tt0249516</td>\n",
       "      <td>Foodfight!</td>\n",
       "      <td>2011</td>\n",
       "      <td>1.5</td>\n",
       "      <td>9433</td>\n",
       "      <td>$120,141</td>\n",
       "      <td>Hilary Duff</td>\n",
       "      <td>Haylie Duff</td>\n",
       "      <td>Charlie Sheen</td>\n",
       "      <td>Eva Longoria</td>\n",
       "    </tr>\n",
       "    <tr>\n",
       "      <th>2</th>\n",
       "      <td>12</td>\n",
       "      <td>tt0326965</td>\n",
       "      <td>In My Sleep</td>\n",
       "      <td>2010</td>\n",
       "      <td>5.5</td>\n",
       "      <td>1962</td>\n",
       "      <td>$30,158</td>\n",
       "      <td>Philip Winchester</td>\n",
       "      <td>Tim Draxl</td>\n",
       "      <td>Lacey Chabert</td>\n",
       "      <td>Abigail Spencer</td>\n",
       "    </tr>\n",
       "    <tr>\n",
       "      <th>3</th>\n",
       "      <td>13</td>\n",
       "      <td>tt0327597</td>\n",
       "      <td>Coraline</td>\n",
       "      <td>2009</td>\n",
       "      <td>7.7</td>\n",
       "      <td>198694</td>\n",
       "      <td>$124,596,837</td>\n",
       "      <td>Dakota Fanning</td>\n",
       "      <td>Teri Hatcher</td>\n",
       "      <td>John Hodgman</td>\n",
       "      <td>Jennifer Saunders</td>\n",
       "    </tr>\n",
       "    <tr>\n",
       "      <th>4</th>\n",
       "      <td>16</td>\n",
       "      <td>tt0331314</td>\n",
       "      <td>Bunyan and Babe</td>\n",
       "      <td>2017</td>\n",
       "      <td>5.0</td>\n",
       "      <td>342</td>\n",
       "      <td>$72,060</td>\n",
       "      <td>John Goodman</td>\n",
       "      <td>Jeff Foxworthy</td>\n",
       "      <td>Kelsey Grammer</td>\n",
       "      <td>Johnny Orlando</td>\n",
       "    </tr>\n",
       "  </tbody>\n",
       "</table>\n",
       "</div>"
      ],
      "text/plain": [
       "   Unnamed: 0     tconst                     title  year  averageRating  \\\n",
       "0           1  tt0100275  The Wandering Soap Opera  2017            6.6   \n",
       "1           5  tt0249516                Foodfight!  2011            1.5   \n",
       "2          12  tt0326965               In My Sleep  2010            5.5   \n",
       "3          13  tt0327597                  Coraline  2009            7.7   \n",
       "4          16  tt0331314           Bunyan and Babe  2017            5.0   \n",
       "\n",
       "   numVotes           gross income             actor1                actor2  \\\n",
       "0       267         $3,624               Luis Alarcón  Patricia Rivadeneira   \n",
       "1      9433       $120,141                Hilary Duff           Haylie Duff   \n",
       "2      1962        $30,158          Philip Winchester             Tim Draxl   \n",
       "3    198694   $124,596,837             Dakota Fanning          Teri Hatcher   \n",
       "4       342        $72,060               John Goodman        Jeff Foxworthy   \n",
       "\n",
       "            actor3             actor4  \n",
       "0  Francisco Reyes  Consuelo Castillo  \n",
       "1    Charlie Sheen       Eva Longoria  \n",
       "2    Lacey Chabert    Abigail Spencer  \n",
       "3     John Hodgman  Jennifer Saunders  \n",
       "4   Kelsey Grammer     Johnny Orlando  "
      ]
     },
     "execution_count": 16,
     "metadata": {},
     "output_type": "execute_result"
    }
   ],
   "source": [
    "#look at the dataframe\n",
    "imdb_df.head()"
   ]
  },
  {
   "cell_type": "code",
   "execution_count": 17,
   "metadata": {
    "pycharm": {
     "name": "#%%\n"
    }
   },
   "outputs": [
    {
     "data": {
      "text/plain": [
       "(10423, 11)"
      ]
     },
     "execution_count": 17,
     "metadata": {},
     "output_type": "execute_result"
    }
   ],
   "source": [
    "#look at the number of elements inside the dataframe\n",
    "imdb_df.shape"
   ]
  },
  {
   "cell_type": "markdown",
   "metadata": {},
   "source": [
    "Function to add the late night show host data to the imdb dataframe and determine if actors in the movie went to the late night show."
   ]
  },
  {
   "cell_type": "code",
   "execution_count": 18,
   "metadata": {
    "pycharm": {
     "name": "#%%\n"
    }
   },
   "outputs": [],
   "source": [
    "def append_show(inputs : list):\n",
    "\n",
    "    ## Loading dataframes ##\n",
    "    df = inputs[0]  # current main dataframe\n",
    "    df_show = inputs[1] # late night show host dataframe\n",
    "    host_name = inputs[2] # the name of the show host\n",
    "\n",
    "    ## Cleaning up ##\n",
    "    try:\n",
    "        df = df.drop(axis=1, columns='Unnamed: 0')\n",
    "    except:\n",
    "        pass\n",
    "    # Drop any null values in the late night show dataframe\n",
    "    df_show = df_show.dropna()\n",
    "\n",
    "    ## Construct set of keywords(actor names) ##\n",
    "    actor_set = set()\n",
    "    for index, row in df.iterrows():\n",
    "        actor_1_name = row['actor1']\n",
    "        actor_2_name = row['actor2']\n",
    "        actor_3_name = row['actor3']\n",
    "        actor_4_name = row['actor4']\n",
    "\n",
    "        actor_set.add(str(actor_1_name).strip())\n",
    "        actor_set.add(str(actor_2_name).strip())\n",
    "        actor_set.add(str(actor_3_name).strip())\n",
    "        actor_set.add(str(actor_4_name).strip())\n",
    "\n",
    "    if DEBUG: print(\"[DEBUG] actor_set length = %d\" % len(actor_set))\n",
    "\n",
    "    #filters tv show host dataframe by if the actor was in the show\n",
    "    #create new dataframe that will be returned\n",
    "    df_new = pd.DataFrame()\n",
    "\n",
    "    #checks if the actor name showed up in the title of video\n",
    "    for actor in actor_set:\n",
    "        df_new = df_new.append(df_show[df_show['videoTitle'].str.contains(actor)])\n",
    "\n",
    "    #more cleaning of the tv show host dataset\n",
    "    df_new.drop_duplicates()\n",
    "\n",
    "    #creates a year column which we can use to merge\n",
    "    df_new['year'] = pd.DatetimeIndex(df_new['publishedAtSQL']).year\n",
    "\n",
    "    #gets only the title and the year of the video\n",
    "    df_new = df_new[['videoTitle', 'year']]\n",
    "\n",
    "    df_new = df_new.reset_index()\n",
    "\n",
    "    df_new = df_new.drop(labels=['index'], axis=1)\n",
    "\n",
    "    #adds the actor name to the dataframe\n",
    "    df_new['actor_name'] = \"\"\n",
    "    for i in range(len(df_new)):\n",
    "        for actor in actor_set:\n",
    "            if actor in df_new['videoTitle'][i]:\n",
    "                if DEBUG: print(\"[DEBUG] actor found! name: %s\" % actor)\n",
    "                df_new['actor_name'][i] = actor\n",
    "\n",
    "    df_new = df_new.drop(labels=['videoTitle'], axis=1)\n",
    "\n",
    "    key = 'in_' + host_name\n",
    "    df_new[key] = True\n",
    "\n",
    "    #merge the imdb main dataset with the tv show host dataset on the actor name and the year of movie\n",
    "    movie_df = pd.merge(df, df_new,  how='left', left_on=['year','actor1'], right_on = ['year', 'actor_name'])\n",
    "    movie_df = pd.merge(movie_df, df_new,  how='left', left_on=['year','actor2'], right_on = ['year', 'actor_name'])\n",
    "    movie_df = pd.merge(movie_df, df_new,  how='left', left_on=['year','actor3'], right_on = ['year', 'actor_name'])\n",
    "    movie_df = pd.merge(movie_df, df_new, how='left', left_on=['year','actor4'], right_on=['year', 'actor_name'])\n",
    "    key_x = key + \"_x\"\n",
    "    key_y = key + \"_y\"\n",
    "    movie_df[host_name] = movie_df[[key_x, key_y]].any(axis='columns')\n",
    "\n",
    "    #cleaning of the main dataset\n",
    "    movie_df = movie_df.drop(labels=['actor_name_x', 'actor_name_y'], axis=1)\n",
    "    movie_df = movie_df.drop(labels=[key_x, key_y], axis=1)\n",
    "    movie_df = movie_df.drop_duplicates()\n",
    "\n",
    "    inputs[0] = movie_df"
   ]
  },
  {
   "cell_type": "markdown",
   "metadata": {},
   "source": [
    "<p style=\"color:blue\">Note that because the two code blocks below will run a long time, we will instead read a previously saved df which is the same as the resulting df.<p/>"
   ]
  },
  {
   "cell_type": "code",
   "execution_count": null,
   "metadata": {
    "pycharm": {
     "name": "#%%\n"
    }
   },
   "outputs": [],
   "source": [
    "#adds Conan to the IMDB dataset\n",
    "inputs = [imdb_df, df_conan, 'Conan']\n",
    "df_main = append_show(inputs)\n",
    "df_main = inputs[0]\n",
    "\n",
    "#adds Corden to the IMDB dataset\n",
    "inputs = [df_main, df_corden, 'Corden']\n",
    "append_show(inputs)\n",
    "df_main = inputs[0]\n",
    "\n",
    "#adds Fallon to the IMDB dataset\n",
    "inputs = [df_main, df_fallon, 'Fallon']\n",
    "append_show(inputs)\n",
    "df_main = inputs[0]\n",
    "\n",
    "#adds Kimmel to the IMDB dataset\n",
    "inputs = [df_main, df_kimmel, 'Kimmel']\n",
    "append_show(inputs)\n",
    "df_main = inputs[0]\n",
    "\n",
    "#adds Meyers to the IMDB dataset\n",
    "inputs = [df_main, df_meyers, 'Meyers']\n",
    "append_show(inputs)\n",
    "df_main = inputs[0]\n",
    "\n",
    "#adds Colbert to the IMDB dataset\n",
    "inputs = [df_main, df_colbert, 'Colbert']\n",
    "append_show(inputs)\n",
    "df_main = inputs[0]"
   ]
  },
  {
   "cell_type": "code",
   "execution_count": null,
   "metadata": {
    "pycharm": {
     "name": "#%%\n"
    }
   },
   "outputs": [],
   "source": [
    "#looking at the number of movies that have had actors go on these late night shows\n",
    "print(df_main['Conan'].value_counts())\n",
    "print(df_main['Fallon'].value_counts())\n",
    "print(df_main['Corden'].value_counts())\n",
    "print(df_main['Kimmel'].value_counts())\n",
    "print(df_main['Meyers'].value_counts())\n",
    "print(df_main['Colbert'].value_counts())\n",
    "\n",
    "df_main = df_main.rename({'conan':'Conan'}, axis=1)\n",
    "\n",
    "#create processed_df.csv for the first time\n",
    "df_main.to_csv('.\\ds\\processed_df_wo_budget.csv')\n"
   ]
  },
  {
   "cell_type": "code",
   "execution_count": 78,
   "metadata": {},
   "outputs": [
    {
     "data": {
      "text/html": [
       "<div>\n",
       "<style scoped>\n",
       "    .dataframe tbody tr th:only-of-type {\n",
       "        vertical-align: middle;\n",
       "    }\n",
       "\n",
       "    .dataframe tbody tr th {\n",
       "        vertical-align: top;\n",
       "    }\n",
       "\n",
       "    .dataframe thead th {\n",
       "        text-align: right;\n",
       "    }\n",
       "</style>\n",
       "<table border=\"1\" class=\"dataframe\">\n",
       "  <thead>\n",
       "    <tr style=\"text-align: right;\">\n",
       "      <th></th>\n",
       "      <th>Unnamed: 0</th>\n",
       "      <th>tconst</th>\n",
       "      <th>title</th>\n",
       "      <th>year</th>\n",
       "      <th>averageRating</th>\n",
       "      <th>numVotes</th>\n",
       "      <th>gross income</th>\n",
       "      <th>actor1</th>\n",
       "      <th>actor2</th>\n",
       "      <th>actor3</th>\n",
       "      <th>actor4</th>\n",
       "      <th>Conan</th>\n",
       "      <th>Corden</th>\n",
       "      <th>Fallon</th>\n",
       "      <th>Kimmel</th>\n",
       "      <th>Meyers</th>\n",
       "      <th>Colbert</th>\n",
       "    </tr>\n",
       "  </thead>\n",
       "  <tbody>\n",
       "    <tr>\n",
       "      <th>0</th>\n",
       "      <td>0</td>\n",
       "      <td>tt0100275</td>\n",
       "      <td>The Wandering Soap Opera</td>\n",
       "      <td>2017</td>\n",
       "      <td>6.6</td>\n",
       "      <td>267</td>\n",
       "      <td>$3,624</td>\n",
       "      <td>Luis Alarcón</td>\n",
       "      <td>Patricia Rivadeneira</td>\n",
       "      <td>Francisco Reyes</td>\n",
       "      <td>Consuelo Castillo</td>\n",
       "      <td>False</td>\n",
       "      <td>False</td>\n",
       "      <td>False</td>\n",
       "      <td>False</td>\n",
       "      <td>False</td>\n",
       "      <td>False</td>\n",
       "    </tr>\n",
       "    <tr>\n",
       "      <th>1</th>\n",
       "      <td>1</td>\n",
       "      <td>tt0249516</td>\n",
       "      <td>Foodfight!</td>\n",
       "      <td>2011</td>\n",
       "      <td>1.5</td>\n",
       "      <td>9433</td>\n",
       "      <td>$120,141</td>\n",
       "      <td>Hilary Duff</td>\n",
       "      <td>Haylie Duff</td>\n",
       "      <td>Charlie Sheen</td>\n",
       "      <td>Eva Longoria</td>\n",
       "      <td>False</td>\n",
       "      <td>False</td>\n",
       "      <td>False</td>\n",
       "      <td>False</td>\n",
       "      <td>False</td>\n",
       "      <td>False</td>\n",
       "    </tr>\n",
       "    <tr>\n",
       "      <th>2</th>\n",
       "      <td>2</td>\n",
       "      <td>tt0326965</td>\n",
       "      <td>In My Sleep</td>\n",
       "      <td>2010</td>\n",
       "      <td>5.5</td>\n",
       "      <td>1962</td>\n",
       "      <td>$30,158</td>\n",
       "      <td>Philip Winchester</td>\n",
       "      <td>Tim Draxl</td>\n",
       "      <td>Lacey Chabert</td>\n",
       "      <td>Abigail Spencer</td>\n",
       "      <td>False</td>\n",
       "      <td>False</td>\n",
       "      <td>False</td>\n",
       "      <td>False</td>\n",
       "      <td>False</td>\n",
       "      <td>False</td>\n",
       "    </tr>\n",
       "    <tr>\n",
       "      <th>3</th>\n",
       "      <td>3</td>\n",
       "      <td>tt0327597</td>\n",
       "      <td>Coraline</td>\n",
       "      <td>2009</td>\n",
       "      <td>7.7</td>\n",
       "      <td>198694</td>\n",
       "      <td>$124,596,837</td>\n",
       "      <td>Dakota Fanning</td>\n",
       "      <td>Teri Hatcher</td>\n",
       "      <td>John Hodgman</td>\n",
       "      <td>Jennifer Saunders</td>\n",
       "      <td>False</td>\n",
       "      <td>False</td>\n",
       "      <td>False</td>\n",
       "      <td>False</td>\n",
       "      <td>False</td>\n",
       "      <td>False</td>\n",
       "    </tr>\n",
       "    <tr>\n",
       "      <th>4</th>\n",
       "      <td>4</td>\n",
       "      <td>tt0331314</td>\n",
       "      <td>Bunyan and Babe</td>\n",
       "      <td>2017</td>\n",
       "      <td>5.0</td>\n",
       "      <td>342</td>\n",
       "      <td>$72,060</td>\n",
       "      <td>John Goodman</td>\n",
       "      <td>Jeff Foxworthy</td>\n",
       "      <td>Kelsey Grammer</td>\n",
       "      <td>Johnny Orlando</td>\n",
       "      <td>False</td>\n",
       "      <td>True</td>\n",
       "      <td>False</td>\n",
       "      <td>False</td>\n",
       "      <td>False</td>\n",
       "      <td>False</td>\n",
       "    </tr>\n",
       "  </tbody>\n",
       "</table>\n",
       "</div>"
      ],
      "text/plain": [
       "   Unnamed: 0     tconst                     title  year  averageRating  \\\n",
       "0           0  tt0100275  The Wandering Soap Opera  2017            6.6   \n",
       "1           1  tt0249516                Foodfight!  2011            1.5   \n",
       "2           2  tt0326965               In My Sleep  2010            5.5   \n",
       "3           3  tt0327597                  Coraline  2009            7.7   \n",
       "4           4  tt0331314           Bunyan and Babe  2017            5.0   \n",
       "\n",
       "   numVotes           gross income             actor1                actor2  \\\n",
       "0       267         $3,624               Luis Alarcón  Patricia Rivadeneira   \n",
       "1      9433       $120,141                Hilary Duff           Haylie Duff   \n",
       "2      1962        $30,158          Philip Winchester             Tim Draxl   \n",
       "3    198694   $124,596,837             Dakota Fanning          Teri Hatcher   \n",
       "4       342        $72,060               John Goodman        Jeff Foxworthy   \n",
       "\n",
       "            actor3             actor4  Conan  Corden  Fallon  Kimmel  Meyers  \\\n",
       "0  Francisco Reyes  Consuelo Castillo  False   False   False   False   False   \n",
       "1    Charlie Sheen       Eva Longoria  False   False   False   False   False   \n",
       "2    Lacey Chabert    Abigail Spencer  False   False   False   False   False   \n",
       "3     John Hodgman  Jennifer Saunders  False   False   False   False   False   \n",
       "4   Kelsey Grammer     Johnny Orlando  False    True   False   False   False   \n",
       "\n",
       "   Colbert  \n",
       "0    False  \n",
       "1    False  \n",
       "2    False  \n",
       "3    False  \n",
       "4    False  "
      ]
     },
     "execution_count": 78,
     "metadata": {},
     "output_type": "execute_result"
    }
   ],
   "source": [
    "resulting_df = pd.read_csv('.\\ds\\processed_df_wo_budget.csv')   # This is the data frame resulting from running the above code.\n",
    "resulting_df.head()"
   ]
  },
  {
   "cell_type": "markdown",
   "metadata": {},
   "source": [
    "## 4. Add Budget Data and Final Cleaning"
   ]
  },
  {
   "cell_type": "markdown",
   "metadata": {},
   "source": [
    "### To see how we got the budget data, look at the notebook: merging budget data and processed data.ipynb\n",
    "#### Description of the notebook:\n",
    "Similar to the actor and gross income data, we could not find budget data on the IMDB movie datasets\n",
    "so we had to webscrape our budget data. The same problem that occured when we webscraped for actor names and gross income\n",
    "occured where we had to run the webscraper multiple times in order to get budget data for all of the movies we had so far. Running the\n",
    "code in this notebook would take countless hours therefore we decided to omit the notebook code, but provided the notebook to reference.\n",
    "Inside of the notebook itself, we ran our webscraper to get budget data along with the movieId so we had\n",
    "a common element that we could merge the budget data to the IMDB data with. After webscraping, we realized our gross income\n",
    "and budget data were strings and not integers or floats that we could use for analysis. We cleaned the budget\n",
    "and gross income data inside of the notebook. Furthermore we found that our IMDB dataset contained movies that had budgets\n",
    "in other currencies. We dropped all the movies with foreign countries except for Euro's, British Pounds, and Canadian Dollars\n",
    "knowing that movies from these countries may have had actors gone on Late Night Shows to advertise their movies.\n",
    "The Canadian, European, and British movie budgets were converted into American dollars\n",
    "via exchange rates. Knowing that we cannot compare movies if they have budget in different currencies\n",
    "we had to convert Canadian, European, and British currencies to American currency. We realized that it\n",
    "would be difficult to find the exchange rate for each of the Canadian, European and British currencies for the movies\n",
    "that had these budgets. To account for this difficulty, we converted each currency by the average exchange rate to\n",
    "American dollars in the last 11 years since our data analysis is on the last 11 years worth of movies.\n",
    "Lastly, since we had already processed all the movies in the previous dataset with our matching script to\n",
    "see if an actor in the movie had been on one of the six late night shows we were looking at,\n",
    "we created a new column within our newly cleaned dataframe that said if the movie had actors go on late night shows or not.\n",
    "We then saved all the cleaned and processed data into the processed_df.csv.\n",
    "\n",
    "#### TLDR:\n",
    "Budget data had to webscraped like Actor Income data. Budget and Gross income came in string format\n",
    "which had to be changed to int. Other currencies were present which had to be either removed or standardized.\n",
    "Lastly, we created an extra column that indicated if an actor from a movie had been on one of the six\n",
    "late night shows or not."
   ]
  },
  {
   "cell_type": "markdown",
   "metadata": {
    "pycharm": {
     "name": "#%% md\n"
    }
   },
   "source": [
    "# Data Analysis & Results\n"
   ]
  },
  {
   "cell_type": "markdown",
   "metadata": {},
   "source": [
    "### Setup for EDA and Data Analysis\n",
    "\n",
    "\n",
    "\n"
   ]
  },
  {
   "cell_type": "code",
   "execution_count": 2,
   "metadata": {
    "pycharm": {
     "name": "#%%\n"
    }
   },
   "outputs": [],
   "source": [
    "#Reading in data and dropping an automatically created column\n",
    "df = pd.read_csv(\"./ds/processed_df.csv\")\n",
    "df = df.drop(columns=['Unnamed: 0'])\n",
    "df = df.rename(columns={'gross income':'gross_income'})"
   ]
  },
  {
   "cell_type": "markdown",
   "metadata": {},
   "source": [
    "## EDA"
   ]
  },
  {
   "cell_type": "code",
   "execution_count": 3,
   "metadata": {
    "pycharm": {
     "name": "#%%\n"
    }
   },
   "outputs": [
    {
     "data": {
      "text/html": [
       "<div>\n",
       "<style scoped>\n",
       "    .dataframe tbody tr th:only-of-type {\n",
       "        vertical-align: middle;\n",
       "    }\n",
       "\n",
       "    .dataframe tbody tr th {\n",
       "        vertical-align: top;\n",
       "    }\n",
       "\n",
       "    .dataframe thead th {\n",
       "        text-align: right;\n",
       "    }\n",
       "</style>\n",
       "<table border=\"1\" class=\"dataframe\">\n",
       "  <thead>\n",
       "    <tr style=\"text-align: right;\">\n",
       "      <th></th>\n",
       "      <th>tconst</th>\n",
       "      <th>title</th>\n",
       "      <th>year</th>\n",
       "      <th>averageRating</th>\n",
       "      <th>numVotes</th>\n",
       "      <th>gross_income</th>\n",
       "      <th>actor1</th>\n",
       "      <th>actor2</th>\n",
       "      <th>actor3</th>\n",
       "      <th>actor4</th>\n",
       "      <th>Conan</th>\n",
       "      <th>Corden</th>\n",
       "      <th>Fallon</th>\n",
       "      <th>Kimmel</th>\n",
       "      <th>Meyers</th>\n",
       "      <th>Colbert</th>\n",
       "      <th>budget</th>\n",
       "      <th>nightShowAttendance</th>\n",
       "    </tr>\n",
       "  </thead>\n",
       "  <tbody>\n",
       "    <tr>\n",
       "      <th>0</th>\n",
       "      <td>tt0249516</td>\n",
       "      <td>Foodfight!</td>\n",
       "      <td>2011</td>\n",
       "      <td>1.5</td>\n",
       "      <td>9433</td>\n",
       "      <td>120141</td>\n",
       "      <td>Hilary Duff</td>\n",
       "      <td>Haylie Duff</td>\n",
       "      <td>Charlie Sheen</td>\n",
       "      <td>Eva Longoria</td>\n",
       "      <td>False</td>\n",
       "      <td>False</td>\n",
       "      <td>False</td>\n",
       "      <td>False</td>\n",
       "      <td>False</td>\n",
       "      <td>False</td>\n",
       "      <td>65000000</td>\n",
       "      <td>False</td>\n",
       "    </tr>\n",
       "    <tr>\n",
       "      <th>1</th>\n",
       "      <td>tt0326965</td>\n",
       "      <td>In My Sleep</td>\n",
       "      <td>2010</td>\n",
       "      <td>5.5</td>\n",
       "      <td>1962</td>\n",
       "      <td>30158</td>\n",
       "      <td>Philip Winchester</td>\n",
       "      <td>Tim Draxl</td>\n",
       "      <td>Lacey Chabert</td>\n",
       "      <td>Abigail Spencer</td>\n",
       "      <td>False</td>\n",
       "      <td>False</td>\n",
       "      <td>False</td>\n",
       "      <td>False</td>\n",
       "      <td>False</td>\n",
       "      <td>False</td>\n",
       "      <td>1000000</td>\n",
       "      <td>False</td>\n",
       "    </tr>\n",
       "    <tr>\n",
       "      <th>2</th>\n",
       "      <td>tt0327597</td>\n",
       "      <td>Coraline</td>\n",
       "      <td>2009</td>\n",
       "      <td>7.7</td>\n",
       "      <td>198694</td>\n",
       "      <td>124596837</td>\n",
       "      <td>Dakota Fanning</td>\n",
       "      <td>Teri Hatcher</td>\n",
       "      <td>John Hodgman</td>\n",
       "      <td>Jennifer Saunders</td>\n",
       "      <td>False</td>\n",
       "      <td>False</td>\n",
       "      <td>False</td>\n",
       "      <td>False</td>\n",
       "      <td>False</td>\n",
       "      <td>False</td>\n",
       "      <td>60000000</td>\n",
       "      <td>False</td>\n",
       "    </tr>\n",
       "    <tr>\n",
       "      <th>3</th>\n",
       "      <td>tt0337692</td>\n",
       "      <td>On the Road</td>\n",
       "      <td>2012</td>\n",
       "      <td>6.1</td>\n",
       "      <td>39959</td>\n",
       "      <td>9617377</td>\n",
       "      <td>Sam Riley</td>\n",
       "      <td>Garrett Hedlund</td>\n",
       "      <td>Kristen Stewart</td>\n",
       "      <td>Amy Adams</td>\n",
       "      <td>True</td>\n",
       "      <td>False</td>\n",
       "      <td>False</td>\n",
       "      <td>False</td>\n",
       "      <td>False</td>\n",
       "      <td>False</td>\n",
       "      <td>25000000</td>\n",
       "      <td>True</td>\n",
       "    </tr>\n",
       "    <tr>\n",
       "      <th>4</th>\n",
       "      <td>tt0346631</td>\n",
       "      <td>Blood and Bone</td>\n",
       "      <td>2009</td>\n",
       "      <td>6.7</td>\n",
       "      <td>31413</td>\n",
       "      <td>3492</td>\n",
       "      <td>Michael Jai White</td>\n",
       "      <td>Julian Sands</td>\n",
       "      <td>Eamonn Walker</td>\n",
       "      <td>Dante Basco</td>\n",
       "      <td>False</td>\n",
       "      <td>False</td>\n",
       "      <td>False</td>\n",
       "      <td>False</td>\n",
       "      <td>False</td>\n",
       "      <td>False</td>\n",
       "      <td>3700000</td>\n",
       "      <td>False</td>\n",
       "    </tr>\n",
       "  </tbody>\n",
       "</table>\n",
       "</div>"
      ],
      "text/plain": [
       "      tconst           title  year  averageRating  numVotes  gross_income  \\\n",
       "0  tt0249516      Foodfight!  2011            1.5      9433        120141   \n",
       "1  tt0326965     In My Sleep  2010            5.5      1962         30158   \n",
       "2  tt0327597        Coraline  2009            7.7    198694     124596837   \n",
       "3  tt0337692     On the Road  2012            6.1     39959       9617377   \n",
       "4  tt0346631  Blood and Bone  2009            6.7     31413          3492   \n",
       "\n",
       "              actor1           actor2           actor3             actor4  \\\n",
       "0        Hilary Duff      Haylie Duff    Charlie Sheen       Eva Longoria   \n",
       "1  Philip Winchester        Tim Draxl    Lacey Chabert    Abigail Spencer   \n",
       "2     Dakota Fanning     Teri Hatcher     John Hodgman  Jennifer Saunders   \n",
       "3          Sam Riley  Garrett Hedlund  Kristen Stewart          Amy Adams   \n",
       "4  Michael Jai White     Julian Sands    Eamonn Walker        Dante Basco   \n",
       "\n",
       "   Conan  Corden  Fallon  Kimmel  Meyers  Colbert    budget  \\\n",
       "0  False   False   False   False   False    False  65000000   \n",
       "1  False   False   False   False   False    False   1000000   \n",
       "2  False   False   False   False   False    False  60000000   \n",
       "3   True   False   False   False   False    False  25000000   \n",
       "4  False   False   False   False   False    False   3700000   \n",
       "\n",
       "   nightShowAttendance  \n",
       "0                False  \n",
       "1                False  \n",
       "2                False  \n",
       "3                 True  \n",
       "4                False  "
      ]
     },
     "execution_count": 3,
     "metadata": {},
     "output_type": "execute_result"
    }
   ],
   "source": [
    "#Looking at the first 10 elements of the dataset\n",
    "df.head()"
   ]
  },
  {
   "cell_type": "code",
   "execution_count": 4,
   "metadata": {
    "pycharm": {
     "name": "#%%\n"
    }
   },
   "outputs": [
    {
     "data": {
      "text/plain": [
       "tconst                  object\n",
       "title                   object\n",
       "year                     int64\n",
       "averageRating          float64\n",
       "numVotes                 int64\n",
       "gross_income             int64\n",
       "actor1                  object\n",
       "actor2                  object\n",
       "actor3                  object\n",
       "actor4                  object\n",
       "Conan                     bool\n",
       "Corden                    bool\n",
       "Fallon                    bool\n",
       "Kimmel                    bool\n",
       "Meyers                    bool\n",
       "Colbert                   bool\n",
       "budget                   int64\n",
       "nightShowAttendance       bool\n",
       "dtype: object"
      ]
     },
     "execution_count": 4,
     "metadata": {},
     "output_type": "execute_result"
    }
   ],
   "source": [
    "#look at data types for each column\n",
    "df.dtypes"
   ]
  },
  {
   "cell_type": "code",
   "execution_count": 5,
   "metadata": {
    "pycharm": {
     "name": "#%%\n"
    }
   },
   "outputs": [
    {
     "data": {
      "text/plain": [
       "Index(['tconst', 'title', 'year', 'averageRating', 'numVotes', 'gross_income',\n",
       "       'actor1', 'actor2', 'actor3', 'actor4', 'Conan', 'Corden', 'Fallon',\n",
       "       'Kimmel', 'Meyers', 'Colbert', 'budget', 'nightShowAttendance'],\n",
       "      dtype='object')"
      ]
     },
     "execution_count": 5,
     "metadata": {},
     "output_type": "execute_result"
    }
   ],
   "source": [
    "#look at the columns\n",
    "df.columns"
   ]
  },
  {
   "cell_type": "code",
   "execution_count": 6,
   "metadata": {
    "pycharm": {
     "name": "#%%\n"
    }
   },
   "outputs": [
    {
     "data": {
      "text/html": [
       "<div>\n",
       "<style scoped>\n",
       "    .dataframe tbody tr th:only-of-type {\n",
       "        vertical-align: middle;\n",
       "    }\n",
       "\n",
       "    .dataframe tbody tr th {\n",
       "        vertical-align: top;\n",
       "    }\n",
       "\n",
       "    .dataframe thead th {\n",
       "        text-align: right;\n",
       "    }\n",
       "</style>\n",
       "<table border=\"1\" class=\"dataframe\">\n",
       "  <thead>\n",
       "    <tr style=\"text-align: right;\">\n",
       "      <th></th>\n",
       "      <th>year</th>\n",
       "      <th>averageRating</th>\n",
       "      <th>numVotes</th>\n",
       "      <th>gross_income</th>\n",
       "      <th>budget</th>\n",
       "    </tr>\n",
       "  </thead>\n",
       "  <tbody>\n",
       "    <tr>\n",
       "      <th>count</th>\n",
       "      <td>3766.000000</td>\n",
       "      <td>3766.000000</td>\n",
       "      <td>3.766000e+03</td>\n",
       "      <td>3.766000e+03</td>\n",
       "      <td>3.766000e+03</td>\n",
       "    </tr>\n",
       "    <tr>\n",
       "      <th>mean</th>\n",
       "      <td>2014.060276</td>\n",
       "      <td>6.131625</td>\n",
       "      <td>7.360395e+04</td>\n",
       "      <td>8.021747e+07</td>\n",
       "      <td>2.710422e+07</td>\n",
       "    </tr>\n",
       "    <tr>\n",
       "      <th>std</th>\n",
       "      <td>3.208278</td>\n",
       "      <td>1.107128</td>\n",
       "      <td>1.430833e+05</td>\n",
       "      <td>1.944773e+08</td>\n",
       "      <td>4.335230e+07</td>\n",
       "    </tr>\n",
       "    <tr>\n",
       "      <th>min</th>\n",
       "      <td>2009.000000</td>\n",
       "      <td>1.000000</td>\n",
       "      <td>6.000000e+00</td>\n",
       "      <td>2.400000e+01</td>\n",
       "      <td>0.000000e+00</td>\n",
       "    </tr>\n",
       "    <tr>\n",
       "      <th>25%</th>\n",
       "      <td>2011.000000</td>\n",
       "      <td>5.500000</td>\n",
       "      <td>2.721250e+03</td>\n",
       "      <td>3.425932e+05</td>\n",
       "      <td>3.000000e+06</td>\n",
       "    </tr>\n",
       "    <tr>\n",
       "      <th>50%</th>\n",
       "      <td>2014.000000</td>\n",
       "      <td>6.300000</td>\n",
       "      <td>1.748650e+04</td>\n",
       "      <td>7.749206e+06</td>\n",
       "      <td>1.000000e+07</td>\n",
       "    </tr>\n",
       "    <tr>\n",
       "      <th>75%</th>\n",
       "      <td>2017.000000</td>\n",
       "      <td>6.900000</td>\n",
       "      <td>7.986500e+04</td>\n",
       "      <td>6.557383e+07</td>\n",
       "      <td>3.000000e+07</td>\n",
       "    </tr>\n",
       "    <tr>\n",
       "      <th>max</th>\n",
       "      <td>2020.000000</td>\n",
       "      <td>9.100000</td>\n",
       "      <td>2.079706e+06</td>\n",
       "      <td>2.797801e+09</td>\n",
       "      <td>3.560000e+08</td>\n",
       "    </tr>\n",
       "  </tbody>\n",
       "</table>\n",
       "</div>"
      ],
      "text/plain": [
       "              year  averageRating      numVotes  gross_income        budget\n",
       "count  3766.000000    3766.000000  3.766000e+03  3.766000e+03  3.766000e+03\n",
       "mean   2014.060276       6.131625  7.360395e+04  8.021747e+07  2.710422e+07\n",
       "std       3.208278       1.107128  1.430833e+05  1.944773e+08  4.335230e+07\n",
       "min    2009.000000       1.000000  6.000000e+00  2.400000e+01  0.000000e+00\n",
       "25%    2011.000000       5.500000  2.721250e+03  3.425932e+05  3.000000e+06\n",
       "50%    2014.000000       6.300000  1.748650e+04  7.749206e+06  1.000000e+07\n",
       "75%    2017.000000       6.900000  7.986500e+04  6.557383e+07  3.000000e+07\n",
       "max    2020.000000       9.100000  2.079706e+06  2.797801e+09  3.560000e+08"
      ]
     },
     "execution_count": 6,
     "metadata": {},
     "output_type": "execute_result"
    }
   ],
   "source": [
    "#description of the dataframe\n",
    "df.describe()"
   ]
  },
  {
   "cell_type": "code",
   "execution_count": 7,
   "metadata": {
    "pycharm": {
     "name": "#%%\n"
    }
   },
   "outputs": [
    {
     "data": {
      "text/plain": [
       "Text(0.5, 1.0, 'Distribution of average ratings ')"
      ]
     },
     "execution_count": 7,
     "metadata": {},
     "output_type": "execute_result"
    },
    {
     "data": {
      "image/png": "[encoded data removed]",
      "text/plain": [
       "<Figure size 432x288 with 1 Axes>"
      ]
     },
     "metadata": {},
     "output_type": "display_data"
    }
   ],
   "source": [
    "#Distribution of Average Rating\n",
    "sns.set_style(style='white')\n",
    "ax = sns.distplot(df['averageRating'])\n",
    "ax.set_ylabel(\"ratio of total movies\")\n",
    "ax.set_title(\"Distribution of average ratings \")\n",
    "\n"
   ]
  },
  {
   "cell_type": "markdown",
   "metadata": {},
   "source": [
    "Average rating seems to be normally distributed. With a majority of movies having a rating in between 6-7.5"
   ]
  },
  {
   "cell_type": "code",
   "execution_count": 8,
   "metadata": {
    "pycharm": {
     "name": "#%%\n"
    }
   },
   "outputs": [
    {
     "data": {
      "text/plain": [
       "Text(0.5, 1.0, 'Distribution of the number of votes')"
      ]
     },
     "execution_count": 8,
     "metadata": {},
     "output_type": "execute_result"
    },
    {
     "data": {
      "image/png": "[encoded data removed]",
      "text/plain": [
       "<Figure size 432x288 with 1 Axes>"
      ]
     },
     "metadata": {},
     "output_type": "display_data"
    }
   ],
   "source": [
    "#Distribution of number of votes\n",
    "ax = sns.distplot(df['numVotes'], kde=False)\n",
    "ax.set_ylabel(\"Number of movies\")\n",
    "ax.set_title(\"Distribution of the number of votes\")"
   ]
  },
  {
   "cell_type": "markdown",
   "metadata": {},
   "source": [
    "The number of votes is skewed right. Meaning a majority of the movies have votes in between 0-200000. The highest number of votes in the movie dataset is 1273576, while the lowest is 6. It makes sense since not every movie released every year would have the same number of votes. Only a few of the movies released every year really gain popularity, when compared to the total amount of movies released."
   ]
  },
  {
   "cell_type": "code",
   "execution_count": 9,
   "metadata": {
    "pycharm": {
     "name": "#%%\n"
    }
   },
   "outputs": [
    {
     "data": {
      "text/plain": [
       "Text(0.5, 1.0, 'Distribution of the gross income')"
      ]
     },
     "execution_count": 9,
     "metadata": {},
     "output_type": "execute_result"
    },
    {
     "data": {
      "image/png": "[encoded data removed]",
      "text/plain": [
       "<Figure size 432x288 with 1 Axes>"
      ]
     },
     "metadata": {},
     "output_type": "display_data"
    }
   ],
   "source": [
    "#Distribution of Gross income\n",
    "ax = sns.distplot(df['gross_income'], kde=False)\n",
    "ax.set_ylabel(\"Number of movies\")\n",
    "ax.set_xlabel(\"gross income ($US)\")\n",
    "ax.set_title(\"Distribution of the gross income\")"
   ]
  },
  {
   "cell_type": "markdown",
   "metadata": {},
   "source": [
    "The gross income is also skewed right. Which makes sense, since not all movies that are released are successful. Only a few movies each year are hits, and when compared to all the movies released in a given year, it follows that the graph is skewed right."
   ]
  },
  {
   "cell_type": "code",
   "execution_count": 10,
   "metadata": {
    "pycharm": {
     "name": "#%%\n"
    }
   },
   "outputs": [
    {
     "data": {
      "text/plain": [
       "Text(0.5, 1.0, 'Distribution of budget')"
      ]
     },
     "execution_count": 10,
     "metadata": {},
     "output_type": "execute_result"
    },
    {
     "data": {
      "image/png": "[encoded data removed]",
      "text/plain": [
       "<Figure size 432x288 with 1 Axes>"
      ]
     },
     "metadata": {},
     "output_type": "display_data"
    }
   ],
   "source": [
    "#Distribution for budget\n",
    "ax = sns.distplot(df['budget'], kde=False)\n",
    "ax.set_ylabel(\"Number of movies\")\n",
    "ax.set_xlabel(\"budget ($US)\")\n",
    "ax.set_title(\"Distribution of budget\")"
   ]
  },
  {
   "cell_type": "markdown",
   "metadata": {},
   "source": [
    "Like gross income and number of votes, the budget for each movie is also skewed to the right.\n",
    "This makes sense because not all movies will have the same budget every year. Some movies have much\n",
    "higher budgets than others.\n",
    "\n",
    "Next we split the dataset into movies that have had actors gone on late night tv shows and movies that have had not."
   ]
  },
  {
   "cell_type": "code",
   "execution_count": 11,
   "metadata": {
    "pycharm": {
     "name": "#%%\n"
    }
   },
   "outputs": [
    {
     "data": {
      "text/plain": [
       "False    2556\n",
       "True     1210\n",
       "Name: nightShowAttendance, dtype: int64"
      ]
     },
     "execution_count": 11,
     "metadata": {},
     "output_type": "execute_result"
    }
   ],
   "source": [
    "#number of movies that have or have not had actors gone to late night tv shows\n",
    "df['nightShowAttendance'].value_counts()"
   ]
  },
  {
   "cell_type": "code",
   "execution_count": 12,
   "metadata": {
    "pycharm": {
     "name": "#%%\n"
    }
   },
   "outputs": [],
   "source": [
    "#seperate movies whether or not they have had actors go on late night shows\n",
    "yesNightShow = df[df['nightShowAttendance'] == True] #movies that have had actors go on late night shows\n",
    "noNightShow = df[df['nightShowAttendance'] == False] #movies that have not had actors go on late night shows"
   ]
  },
  {
   "cell_type": "code",
   "execution_count": 13,
   "metadata": {
    "pycharm": {
     "name": "#%%\n"
    }
   },
   "outputs": [],
   "source": [
    "#Plotting function the distributions for popularity features within yesNightShow and noNightShow\n",
    "def plotting_distributions(seriesA, seriesB, char=''):\n",
    "    #distributions of gross income for yesNightShow and noNightshow\n",
    "    #plotting yesNightShow\n",
    "    plt.subplot(1, 2, 1)\n",
    "    sns.set_style(style='white')\n",
    "    sns.distplot(seriesA, kde=False)\n",
    "    plt.title('yesNightShow')\n",
    "    plt.ylabel(\"Number of movies\")\n",
    "    plt.xlabel(seriesA.name + \" \" + char)\n",
    "\n",
    "    #plotting noNightShow\n",
    "    plt.subplot(1, 2, 2)\n",
    "    sns.distplot(seriesB, kde=False)\n",
    "    plt.ylabel(\"Number of movies\")\n",
    "    plt.title('noNightShow')\n",
    "    plt.xlabel(seriesB.name + char)\n",
    "\n",
    "    #making figure bigger and adding space between the two plots\n",
    "    plt.tight_layout(pad=3.0)\n",
    "    figure = plt.gcf()\n",
    "    figure.set_size_inches(10,8)"
   ]
  },
  {
   "cell_type": "markdown",
   "metadata": {},
   "source": [
    "## Analysis\n",
    "\n",
    "Let's start the analysis by looking at gross income between the two groups and seeing if there are significant differences between yesNightShow and noNightShow.\n",
    "\n",
    "### Is there a difference between movies that have had actors go on late night tv show hosts and movies that have had not in terms of gross income, number of votes, and average ratings of movies?\n",
    "\n",
    "\n",
    "#### Gross Income"
   ]
  },
  {
   "cell_type": "code",
   "execution_count": 14,
   "metadata": {
    "pycharm": {
     "name": "#%%\n"
    }
   },
   "outputs": [
    {
     "data": {
      "image/png": "[encoded data removed]",
      "text/plain": [
       "<Figure size 720x576 with 2 Axes>"
      ]
     },
     "metadata": {},
     "output_type": "display_data"
    }
   ],
   "source": [
    "#plotting distribution of gross income between yesNightShow and noNightShow gross income\n",
    "plotting_distributions(yesNightShow['gross_income'], noNightShow['gross_income'], char=\"($US)\")\n"
   ]
  },
  {
   "cell_type": "markdown",
   "metadata": {},
   "source": [
    "Since we know that gross income is skewed right, lets transform it first via log10 to see if we can get a normal distribution."
   ]
  },
  {
   "cell_type": "code",
   "execution_count": 15,
   "metadata": {
    "pycharm": {
     "name": "#%%\n"
    }
   },
   "outputs": [
    {
     "name": "stderr",
     "output_type": "stream",
     "text": [
      "C:\\Users\\rajva\\Anaconda3\\lib\\site-packages\\ipykernel_launcher.py:3: SettingWithCopyWarning: \n",
      "A value is trying to be set on a copy of a slice from a DataFrame.\n",
      "Try using .loc[row_indexer,col_indexer] = value instead\n",
      "\n",
      "See the caveats in the documentation: http://pandas.pydata.org/pandas-docs/stable/indexing.html#indexing-view-versus-copy\n",
      "  This is separate from the ipykernel package so we can avoid doing imports until\n",
      "C:\\Users\\rajva\\Anaconda3\\lib\\site-packages\\ipykernel_launcher.py:4: SettingWithCopyWarning: \n",
      "A value is trying to be set on a copy of a slice from a DataFrame.\n",
      "Try using .loc[row_indexer,col_indexer] = value instead\n",
      "\n",
      "See the caveats in the documentation: http://pandas.pydata.org/pandas-docs/stable/indexing.html#indexing-view-versus-copy\n",
      "  after removing the cwd from sys.path.\n"
     ]
    }
   ],
   "source": [
    "#transforming the gross_income to log10\n",
    "yesNightShow['gross_income_log' ] = np.log10(yesNightShow['gross_income'])\n",
    "noNightShow['gross_income_log' ] = np.log10(noNightShow['gross_income'])"
   ]
  },
  {
   "cell_type": "code",
   "execution_count": 16,
   "metadata": {
    "pycharm": {
     "name": "#%%\n"
    }
   },
   "outputs": [
    {
     "data": {
      "image/png": "[encoded data removed]",
      "text/plain": [
       "<Figure size 720x576 with 2 Axes>"
      ]
     },
     "metadata": {},
     "output_type": "display_data"
    }
   ],
   "source": [
    "#plotting the distribution of the transformed series\n",
    "plotting_distributions(yesNightShow['gross_income_log'], noNightShow['gross_income_log'])"
   ]
  },
  {
   "cell_type": "markdown",
   "metadata": {},
   "source": [
    "the transformation seems to shifted yesNightShow gross income data to the right. However, the noNightShow data looks to be normally distributed. Before we continue with analysis, we check normality of the transformed data."
   ]
  },
  {
   "cell_type": "code",
   "execution_count": 17,
   "metadata": {
    "pycharm": {
     "name": "#%%\n"
    }
   },
   "outputs": [
    {
     "name": "stdout",
     "output_type": "stream",
     "text": [
      "st_yes: 220.50494902819725  p_yes: 1.3120751260817013e-48\n",
      "st_no: 254.53993845232367  p_no: 5.337706047222517e-56\n"
     ]
    }
   ],
   "source": [
    "#Check if the transformed gross income is normally distributed\n",
    "st_yes, p_yes = normaltest(yesNightShow['gross_income_log'])\n",
    "st_no, p_no = normaltest(noNightShow['gross_income_log'])\n",
    "print(\"st_yes:\", st_yes, \" p_yes:\", p_yes)\n",
    "print(\"st_no:\", st_no, \" p_no:\", p_no)"
   ]
  },
  {
   "cell_type": "markdown",
   "metadata": {},
   "source": [
    "The gross income log transformation did not work to normally distribute our data.\n",
    "We conduct a non-parametric statistical test to see difference between the two (Mann Whitney U test) to test the medians of the two data sets"
   ]
  },
  {
   "cell_type": "code",
   "execution_count": 18,
   "metadata": {
    "pycharm": {
     "name": "#%%\n"
    }
   },
   "outputs": [],
   "source": [
    "#finding critical value for the mann whitney U test (taken from 10_02 slides)\n",
    "U_critical_value = len(yesNightShow) * len(noNightShow)\n",
    "u_st_gross, p_val = stats.mannwhitneyu(yesNightShow['gross_income'], noNightShow['gross_income'])"
   ]
  },
  {
   "cell_type": "code",
   "execution_count": 19,
   "metadata": {
    "pycharm": {
     "name": "#%%\n"
    }
   },
   "outputs": [
    {
     "name": "stdout",
     "output_type": "stream",
     "text": [
      "0 < U statistic: 743893.0  < U critical value: 3092760\n"
     ]
    }
   ],
   "source": [
    "print(\"0 < U statistic:\", u_st_gross, \" < U critical value:\", U_critical_value)\n"
   ]
  },
  {
   "cell_type": "markdown",
   "metadata": {},
   "source": [
    "Since the U statistic from the Mann Whitney U test is smaller than the U critical value, we reject the null hypothesis, and can conclude that the gross income between the two samples is significantly different.\n",
    "In other words, the gross income is different between movies that have had actors go on late night TV show hosts and movies that have not.\n",
    "\n",
    "\n",
    "#### Average Rating"
   ]
  },
  {
   "cell_type": "code",
   "execution_count": 20,
   "metadata": {
    "pycharm": {
     "name": "#%%\n"
    }
   },
   "outputs": [
    {
     "data": {
      "image/png": "[encoded data removed]",
      "text/plain": [
       "<Figure size 720x576 with 2 Axes>"
      ]
     },
     "metadata": {},
     "output_type": "display_data"
    }
   ],
   "source": [
    "#distributions of average rating for yesNightShow and noNightShow\n",
    "plotting_distributions(yesNightShow['averageRating'], noNightShow['averageRating'])"
   ]
  },
  {
   "cell_type": "markdown",
   "metadata": {},
   "source": [
    "Looking at the distributions between the two, they seem to be relatively normal. Let's check if they are normally distributed and if so what are their means and are they significantly different?\n"
   ]
  },
  {
   "cell_type": "code",
   "execution_count": 21,
   "metadata": {
    "pycharm": {
     "name": "#%%\n"
    }
   },
   "outputs": [],
   "source": [
    "#Checking if the data for average rating is normally distributed\n",
    "st_yes, p_yes = normaltest(yesNightShow['averageRating'])\n",
    "st_no, p_no = normaltest(noNightShow['averageRating'])"
   ]
  },
  {
   "cell_type": "code",
   "execution_count": 22,
   "metadata": {
    "pycharm": {
     "name": "#%%\n"
    }
   },
   "outputs": [
    {
     "name": "stdout",
     "output_type": "stream",
     "text": [
      "st_yes: 112.875381377676  p_yes: 3.0861878877941605e-25\n",
      "st_no: 221.26749769281534  p_no: 8.961348431946771e-49\n"
     ]
    }
   ],
   "source": [
    "print(\"st_yes:\", st_yes, \" p_yes:\", p_yes)\n",
    "print(\"st_no:\", st_no, \" p_no:\", p_no)"
   ]
  },
  {
   "cell_type": "markdown",
   "metadata": {},
   "source": [
    "The data does not seem to be normally distributed for average rating with a pvalue being very low. What happens if we log10 transform the data?"
   ]
  },
  {
   "cell_type": "code",
   "execution_count": 23,
   "metadata": {
    "pycharm": {
     "name": "#%%\n"
    }
   },
   "outputs": [
    {
     "name": "stderr",
     "output_type": "stream",
     "text": [
      "C:\\Users\\rajva\\Anaconda3\\lib\\site-packages\\ipykernel_launcher.py:3: SettingWithCopyWarning: \n",
      "A value is trying to be set on a copy of a slice from a DataFrame.\n",
      "Try using .loc[row_indexer,col_indexer] = value instead\n",
      "\n",
      "See the caveats in the documentation: http://pandas.pydata.org/pandas-docs/stable/indexing.html#indexing-view-versus-copy\n",
      "  This is separate from the ipykernel package so we can avoid doing imports until\n",
      "C:\\Users\\rajva\\Anaconda3\\lib\\site-packages\\ipykernel_launcher.py:4: SettingWithCopyWarning: \n",
      "A value is trying to be set on a copy of a slice from a DataFrame.\n",
      "Try using .loc[row_indexer,col_indexer] = value instead\n",
      "\n",
      "See the caveats in the documentation: http://pandas.pydata.org/pandas-docs/stable/indexing.html#indexing-view-versus-copy\n",
      "  after removing the cwd from sys.path.\n"
     ]
    }
   ],
   "source": [
    "#transforming the data via log10\n",
    "yesNightShow['averageRating_log'] = yesNightShow['averageRating'].apply(np.log10)\n",
    "noNightShow['averageRating_log'] = noNightShow['averageRating'].apply(np.log10)"
   ]
  },
  {
   "cell_type": "code",
   "execution_count": 24,
   "metadata": {
    "pycharm": {
     "name": "#%%\n"
    }
   },
   "outputs": [
    {
     "data": {
      "image/png": "[encoded data removed]",
      "text/plain": [
       "<Figure size 720x576 with 2 Axes>"
      ]
     },
     "metadata": {},
     "output_type": "display_data"
    }
   ],
   "source": [
    "#plotting the transformed average rating data\n",
    "plotting_distributions(yesNightShow['averageRating_log'], noNightShow['averageRating_log'])"
   ]
  },
  {
   "cell_type": "markdown",
   "metadata": {},
   "source": [
    "The log10 transformation of average ratig seems to have created data that is skewed to the right. We check for normality still before we continue with statistical testing"
   ]
  },
  {
   "cell_type": "code",
   "execution_count": 25,
   "metadata": {
    "pycharm": {
     "name": "#%%\n"
    }
   },
   "outputs": [],
   "source": [
    "#Are they normally distributed after transformation?\n",
    "st_yes, p_yes = normaltest(yesNightShow['averageRating_log'])\n",
    "st_no, p_no = normaltest(noNightShow['averageRating_log'])"
   ]
  },
  {
   "cell_type": "code",
   "execution_count": 26,
   "metadata": {
    "pycharm": {
     "name": "#%%\n"
    }
   },
   "outputs": [
    {
     "name": "stdout",
     "output_type": "stream",
     "text": [
      "st_yes: 559.3164186720433  p_yes: 3.5154657120715303e-122\n",
      "st_no: 1051.6348271673314  p_no: 4.369168480632983e-229\n"
     ]
    }
   ],
   "source": [
    "print(\"st_yes:\", st_yes, \" p_yes:\", p_yes)\n",
    "print(\"st_no:\", st_no, \" p_no:\", p_no)"
   ]
  },
  {
   "cell_type": "markdown",
   "metadata": {},
   "source": [
    "The data is still not normally distributed, therefore we conduct a Mann Whitney U test to see if there is any statistical differences between the two groups"
   ]
  },
  {
   "cell_type": "code",
   "execution_count": 27,
   "metadata": {
    "pycharm": {
     "name": "#%%\n"
    }
   },
   "outputs": [],
   "source": [
    "#finding critical value for the mann whitney U test\n",
    "u_st_rating, p_val = stats.mannwhitneyu(yesNightShow['averageRating'], noNightShow['averageRating'])"
   ]
  },
  {
   "cell_type": "code",
   "execution_count": 28,
   "metadata": {
    "pycharm": {
     "name": "#%%\n"
    }
   },
   "outputs": [
    {
     "name": "stdout",
     "output_type": "stream",
     "text": [
      "0 < U statistic: 1303298.0  < U critical value: 3092760\n"
     ]
    }
   ],
   "source": [
    "print(\"0 < U statistic:\", u_st_rating, \" < U critical value:\", U_critical_value)"
   ]
  },
  {
   "cell_type": "markdown",
   "metadata": {},
   "source": [
    "Looks like there is a significantly important difference between the two groups in terms of average rating. However, with U score from the Mann Whitney test being high, this importance is relatively minimal.\n"
   ]
  },
  {
   "cell_type": "markdown",
   "metadata": {},
   "source": [
    "#### Number of Votes"
   ]
  },
  {
   "cell_type": "code",
   "execution_count": 29,
   "metadata": {
    "pycharm": {
     "name": "#%%\n"
    }
   },
   "outputs": [
    {
     "data": {
      "image/png": "[encoded data removed]",
      "text/plain": [
       "<Figure size 720x576 with 2 Axes>"
      ]
     },
     "metadata": {},
     "output_type": "display_data"
    }
   ],
   "source": [
    "#plotting the number of votes between the two groups\n",
    "plotting_distributions(yesNightShow['numVotes'], noNightShow['numVotes'])"
   ]
  },
  {
   "cell_type": "markdown",
   "metadata": {},
   "source": [
    "Like the graphs for gross income, the number of votes are skewed right. Lets log transform the votes to try and get a normal distribution."
   ]
  },
  {
   "cell_type": "code",
   "execution_count": 30,
   "metadata": {
    "pycharm": {
     "name": "#%%\n"
    }
   },
   "outputs": [
    {
     "name": "stderr",
     "output_type": "stream",
     "text": [
      "C:\\Users\\rajva\\Anaconda3\\lib\\site-packages\\ipykernel_launcher.py:3: SettingWithCopyWarning: \n",
      "A value is trying to be set on a copy of a slice from a DataFrame.\n",
      "Try using .loc[row_indexer,col_indexer] = value instead\n",
      "\n",
      "See the caveats in the documentation: http://pandas.pydata.org/pandas-docs/stable/indexing.html#indexing-view-versus-copy\n",
      "  This is separate from the ipykernel package so we can avoid doing imports until\n",
      "C:\\Users\\rajva\\Anaconda3\\lib\\site-packages\\ipykernel_launcher.py:4: SettingWithCopyWarning: \n",
      "A value is trying to be set on a copy of a slice from a DataFrame.\n",
      "Try using .loc[row_indexer,col_indexer] = value instead\n",
      "\n",
      "See the caveats in the documentation: http://pandas.pydata.org/pandas-docs/stable/indexing.html#indexing-view-versus-copy\n",
      "  after removing the cwd from sys.path.\n"
     ]
    }
   ],
   "source": [
    "#transformation of each value in numVotes by log 10. Taken from lecture 6_02\n",
    "yesNightShow['numVotes_log'] = yesNightShow['numVotes'].apply(np.log10)\n",
    "noNightShow['numVotes_log'] = noNightShow['numVotes'].apply(np.log10)"
   ]
  },
  {
   "cell_type": "code",
   "execution_count": 31,
   "metadata": {
    "pycharm": {
     "name": "#%%\n"
    }
   },
   "outputs": [
    {
     "data": {
      "image/png": "[encoded data removed]",
      "text/plain": [
       "<Figure size 720x576 with 2 Axes>"
      ]
     },
     "metadata": {},
     "output_type": "display_data"
    }
   ],
   "source": [
    "#look at distributions of the log transformed vote data\n",
    "plotting_distributions(yesNightShow['numVotes_log'], noNightShow['numVotes_log'])"
   ]
  },
  {
   "cell_type": "markdown",
   "metadata": {},
   "source": [
    "Seems to be normally distributed from the naked eye. However we still test for normality before we conduct a t-test."
   ]
  },
  {
   "cell_type": "code",
   "execution_count": 32,
   "metadata": {
    "pycharm": {
     "name": "#%%\n"
    }
   },
   "outputs": [],
   "source": [
    "#Normal test on numVotes_log\n",
    "st_yes, p_yes = normaltest(yesNightShow['numVotes_log'])\n",
    "st_no, p_no = normaltest(noNightShow['numVotes_log'])"
   ]
  },
  {
   "cell_type": "code",
   "execution_count": 33,
   "metadata": {
    "pycharm": {
     "name": "#%%\n"
    }
   },
   "outputs": [
    {
     "name": "stdout",
     "output_type": "stream",
     "text": [
      "st_yes: 104.04153865952416  p_yes: 2.5566244369923184e-23\n",
      "st_no: 61.97782297603894  p_no: 3.4808614765975365e-14\n"
     ]
    }
   ],
   "source": [
    "print(\"st_yes:\", st_yes, \" p_yes:\", p_yes)\n",
    "print(\"st_no:\", st_no, \" p_no:\", p_no)"
   ]
  },
  {
   "cell_type": "markdown",
   "metadata": {},
   "source": [
    "The transformed data is not normally distributed! We conduct a Mann Whitney U test between the two samples to see if there is a statistically significant difference in the number of votes."
   ]
  },
  {
   "cell_type": "code",
   "execution_count": 34,
   "metadata": {
    "pycharm": {
     "name": "#%%\n"
    }
   },
   "outputs": [],
   "source": [
    "u_st_votes, p_val = stats.mannwhitneyu(yesNightShow['numVotes'], noNightShow['numVotes'])"
   ]
  },
  {
   "cell_type": "code",
   "execution_count": 35,
   "metadata": {
    "pycharm": {
     "name": "#%%\n"
    }
   },
   "outputs": [
    {
     "name": "stdout",
     "output_type": "stream",
     "text": [
      "0 < U statistic: 705183.5  < U critical value: 3092760\n"
     ]
    }
   ],
   "source": [
    "print(\"0 < U statistic:\", u_st_votes, \" < U critical value:\", U_critical_value)"
   ]
  },
  {
   "cell_type": "markdown",
   "metadata": {},
   "source": [
    "Like gross income and average rating there is a significant difference between the two groups. We can say that there is a significant difference in the number of votes movies who have had actors go on late night show hosts and movies who have not.\n",
    "\n",
    "We are also choosing to look at data from the budget of films to see if this can be a potential confounding variable. \n",
    "\n",
    "### Budget"
   ]
  },
  {
   "cell_type": "code",
   "execution_count": 36,
   "metadata": {
    "pycharm": {
     "name": "#%%\n"
    }
   },
   "outputs": [
    {
     "data": {
      "image/png": "[encoded data removed]",
      "text/plain": [
       "<Figure size 720x576 with 2 Axes>"
      ]
     },
     "metadata": {},
     "output_type": "display_data"
    }
   ],
   "source": [
    "#distributions of budgets between the two sample groups\n",
    "plotting_distributions(yesNightShow['budget'], noNightShow['budget'], char=\"($US)\")"
   ]
  },
  {
   "cell_type": "markdown",
   "metadata": {},
   "source": [
    "The budget data is also right skewed for each group. Lets log transform to get a normal distribution"
   ]
  },
  {
   "cell_type": "code",
   "execution_count": 37,
   "metadata": {
    "pycharm": {
     "name": "#%%\n"
    }
   },
   "outputs": [
    {
     "name": "stderr",
     "output_type": "stream",
     "text": [
      "C:\\Users\\rajva\\Anaconda3\\lib\\site-packages\\ipykernel_launcher.py:3: SettingWithCopyWarning: \n",
      "A value is trying to be set on a copy of a slice from a DataFrame.\n",
      "Try using .loc[row_indexer,col_indexer] = value instead\n",
      "\n",
      "See the caveats in the documentation: http://pandas.pydata.org/pandas-docs/stable/indexing.html#indexing-view-versus-copy\n",
      "  This is separate from the ipykernel package so we can avoid doing imports until\n",
      "C:\\Users\\rajva\\Anaconda3\\lib\\site-packages\\ipykernel_launcher.py:4: RuntimeWarning: divide by zero encountered in log10\n",
      "  after removing the cwd from sys.path.\n",
      "C:\\Users\\rajva\\Anaconda3\\lib\\site-packages\\ipykernel_launcher.py:4: SettingWithCopyWarning: \n",
      "A value is trying to be set on a copy of a slice from a DataFrame.\n",
      "Try using .loc[row_indexer,col_indexer] = value instead\n",
      "\n",
      "See the caveats in the documentation: http://pandas.pydata.org/pandas-docs/stable/indexing.html#indexing-view-versus-copy\n",
      "  after removing the cwd from sys.path.\n"
     ]
    }
   ],
   "source": [
    "#transforming budget data via log10\n",
    "yesNightShow['budget_log'] = np.log10(yesNightShow['budget'])\n",
    "noNightShow['budget_log'] = np.log10(noNightShow['budget'])"
   ]
  },
  {
   "cell_type": "code",
   "execution_count": 38,
   "metadata": {
    "pycharm": {
     "name": "#%%\n"
    }
   },
   "outputs": [
    {
     "data": {
      "image/png": "[encoded data removed]",
      "text/plain": [
       "<Figure size 720x576 with 2 Axes>"
      ]
     },
     "metadata": {},
     "output_type": "display_data"
    }
   ],
   "source": [
    "#visualization for budget_log\n",
    "plotting_distributions(yesNightShow['budget_log'], noNightShow[noNightShow['budget_log'] > 0]['budget_log'])"
   ]
  },
  {
   "cell_type": "markdown",
   "metadata": {},
   "source": [
    "The log10 transformation of the budget data seems to give us data is right skewed. We still check for normality below before we continue with further analysis."
   ]
  },
  {
   "cell_type": "code",
   "execution_count": 39,
   "metadata": {
    "pycharm": {
     "name": "#%%\n"
    }
   },
   "outputs": [],
   "source": [
    "#see if the transformation led to a normal distribution\n",
    "st_yes, p_yes = normaltest(yesNightShow['budget_log'])\n",
    "st_no, p_no = normaltest(noNightShow[noNightShow['budget_log'] > 0]['budget_log'])"
   ]
  },
  {
   "cell_type": "code",
   "execution_count": 40,
   "metadata": {
    "pycharm": {
     "name": "#%%\n"
    }
   },
   "outputs": [
    {
     "name": "stdout",
     "output_type": "stream",
     "text": [
      "st_yes: 89.33545269580935  p_yes: 3.9907353492405195e-20\n",
      "st_no: 742.5287203368766  p_no: 5.780122617716605e-162\n"
     ]
    }
   ],
   "source": [
    "print(\"st_yes:\", st_yes, \" p_yes:\", p_yes)\n",
    "print(\"st_no:\", st_no, \" p_no:\", p_no)"
   ]
  },
  {
   "cell_type": "markdown",
   "metadata": {},
   "source": [
    "The transformation did not work. We have to conduct the Mann Whitney U test to see if there is a statistical significance"
   ]
  },
  {
   "cell_type": "code",
   "execution_count": 41,
   "metadata": {
    "pycharm": {
     "name": "#%%\n"
    }
   },
   "outputs": [],
   "source": [
    "#Mann whitney U tests for the budget\n",
    "u_st_budget, p_val = stats.mannwhitneyu(yesNightShow['budget'], noNightShow['budget'])"
   ]
  },
  {
   "cell_type": "code",
   "execution_count": 42,
   "metadata": {
    "pycharm": {
     "name": "#%%\n"
    }
   },
   "outputs": [
    {
     "name": "stdout",
     "output_type": "stream",
     "text": [
      "0 < U statistic: 763069.5  < U critical value: 3092760\n"
     ]
    }
   ],
   "source": [
    "print(\"0 < U statistic:\", u_st_budget, \" < U critical value:\", U_critical_value)"
   ]
  },
  {
   "cell_type": "markdown",
   "metadata": {},
   "source": [
    "Like gross income, average rating, and number of votes\n",
    " there is a significant difference between the groups.\n",
    "  We can say that there is a significant difference in the budget movies who have had actors go on late night show hosts and movies who have not.\n",
    "\n",
    "\n",
    "Since we have established that there are statistically significant differences in the gross income, average rating, number of votes, and budget in movies who have had actors go on late night TV shows and movies who have not.\n",
    "We move to the next question which is:\n",
    "\n",
    "### Is there a relationship between the number of late night shows visited by actors of a movie and the gross income, number of votes, and average rating?"
   ]
  },
  {
   "cell_type": "code",
   "execution_count": 43,
   "metadata": {
    "pycharm": {
     "name": "#%%\n"
    }
   },
   "outputs": [
    {
     "name": "stderr",
     "output_type": "stream",
     "text": [
      "C:\\Users\\rajva\\Anaconda3\\lib\\site-packages\\pandas\\core\\indexing.py:362: SettingWithCopyWarning: \n",
      "A value is trying to be set on a copy of a slice from a DataFrame.\n",
      "Try using .loc[row_indexer,col_indexer] = value instead\n",
      "\n",
      "See the caveats in the documentation: http://pandas.pydata.org/pandas-docs/stable/indexing.html#indexing-view-versus-copy\n",
      "  self.obj[key] = _infer_fill_value(value)\n",
      "C:\\Users\\rajva\\Anaconda3\\lib\\site-packages\\pandas\\core\\indexing.py:543: SettingWithCopyWarning: \n",
      "A value is trying to be set on a copy of a slice from a DataFrame.\n",
      "Try using .loc[row_indexer,col_indexer] = value instead\n",
      "\n",
      "See the caveats in the documentation: http://pandas.pydata.org/pandas-docs/stable/indexing.html#indexing-view-versus-copy\n",
      "  self.obj[item] = s\n"
     ]
    }
   ],
   "source": [
    "#adds the number of night shows visited by the actors to the yesNightShow dataset\n",
    "for index, row in yesNightShow.iterrows():\n",
    "    sum = 0\n",
    "    if row['Conan'] == True:\n",
    "        sum = sum + 1\n",
    "    if row['Colbert'] == True:\n",
    "        sum = sum + 1\n",
    "    if row['Fallon'] == True:\n",
    "        sum = sum + 1\n",
    "    if row['Meyers'] == True:\n",
    "        sum = sum + 1\n",
    "    if row['Corden'] == True:\n",
    "        sum = sum + 1\n",
    "    if row['Kimmel'] == True:\n",
    "        sum = sum + 1\n",
    "    yesNightShow.at[index, 'late_night_shows_attended'] = sum\n",
    "\n"
   ]
  },
  {
   "cell_type": "code",
   "execution_count": 44,
   "metadata": {
    "pycharm": {
     "name": "#%%\n"
    }
   },
   "outputs": [
    {
     "name": "stderr",
     "output_type": "stream",
     "text": [
      "C:\\Users\\rajva\\Anaconda3\\lib\\site-packages\\ipykernel_launcher.py:3: SettingWithCopyWarning: \n",
      "A value is trying to be set on a copy of a slice from a DataFrame.\n",
      "Try using .loc[row_indexer,col_indexer] = value instead\n",
      "\n",
      "See the caveats in the documentation: http://pandas.pydata.org/pandas-docs/stable/indexing.html#indexing-view-versus-copy\n",
      "  This is separate from the ipykernel package so we can avoid doing imports until\n"
     ]
    }
   ],
   "source": [
    "#casting counts to ints\n",
    "yesNightShow['late_night_shows_attended'] = yesNightShow['late_night_shows_attended'].astype(int)"
   ]
  },
  {
   "cell_type": "code",
   "execution_count": 45,
   "metadata": {
    "pycharm": {
     "name": "#%%\n"
    }
   },
   "outputs": [
    {
     "data": {
      "text/plain": [
       "Text(0, 0.5, 'gross_income($US)')"
      ]
     },
     "execution_count": 45,
     "metadata": {},
     "output_type": "execute_result"
    },
    {
     "data": {
      "image/png": "[encoded data removed]",
      "text/plain": [
       "<Figure size 432x288 with 1 Axes>"
      ]
     },
     "metadata": {},
     "output_type": "display_data"
    }
   ],
   "source": [
    "#bar chart looking at the gross incomes in movies across night show hosts\n",
    "fig = sns.barplot(data=yesNightShow,x = 'late_night_shows_attended', y='gross_income')\n",
    "fig.set_title(\"Gross income and the number of TV shows attended\")\n",
    "fig.set_ylabel(\"gross_income($US)\")"
   ]
  },
  {
   "cell_type": "markdown",
   "metadata": {},
   "source": [
    "There is a positive linear relationship in gross income, that is, as the number of late night shows attended increases, so does the gross income of the movie. However, this relationship drops between 5 late night shows attended and 6 late night shows attended. This might be due to the number of movies present in each category."
   ]
  },
  {
   "cell_type": "code",
   "execution_count": 46,
   "metadata": {
    "pycharm": {
     "name": "#%%\n"
    }
   },
   "outputs": [
    {
     "name": "stdout",
     "output_type": "stream",
     "text": [
      "Number of movies with 5 shows attended: 121\n",
      "Number of movies with 6 shows attended: 45\n"
     ]
    }
   ],
   "source": [
    "#Number of movies that have had actors go on 5 late night shows and movies that have had actors go on 6 late night shows\n",
    "print(\"Number of movies with 5 shows attended:\", len(yesNightShow[yesNightShow['late_night_shows_attended'] == 5]))\n",
    "print(\"Number of movies with 6 shows attended:\", len(yesNightShow[yesNightShow['late_night_shows_attended'] == 6]))"
   ]
  },
  {
   "cell_type": "code",
   "execution_count": 47,
   "metadata": {
    "pycharm": {
     "name": "#%%\n"
    }
   },
   "outputs": [
    {
     "data": {
      "text/plain": [
       "Text(0.5, 1.0, 'Average rating and the number of TV shows attended')"
      ]
     },
     "execution_count": 47,
     "metadata": {},
     "output_type": "execute_result"
    },
    {
     "data": {
      "image/png": "[encoded data removed]",
      "text/plain": [
       "<Figure size 432x288 with 1 Axes>"
      ]
     },
     "metadata": {},
     "output_type": "display_data"
    }
   ],
   "source": [
    "#bar chart looking at the average ratings in movies across night show hosts\n",
    "fig = sns.barplot(data=yesNightShow,x = 'late_night_shows_attended', y='averageRating')\n",
    "fig.set_title(\"Average rating and the number of TV shows attended\")"
   ]
  },
  {
   "cell_type": "markdown",
   "metadata": {},
   "source": [
    "Average rating does not seem to fluctuate too greatly between the number of late night shows attended by actors in movie"
   ]
  },
  {
   "cell_type": "code",
   "execution_count": 48,
   "metadata": {
    "pycharm": {
     "name": "#%%\n"
    }
   },
   "outputs": [
    {
     "data": {
      "text/plain": [
       "Text(0.5, 1.0, 'Number of Votes and the number of TV shows attended')"
      ]
     },
     "execution_count": 48,
     "metadata": {},
     "output_type": "execute_result"
    },
    {
     "data": {
      "image/png": "[encoded data removed]",
      "text/plain": [
       "<Figure size 432x288 with 1 Axes>"
      ]
     },
     "metadata": {},
     "output_type": "display_data"
    }
   ],
   "source": [
    "#bar chart looking at the number of votes in movies across night show hosts\n",
    "fig = sns.barplot(data=yesNightShow,x = 'late_night_shows_attended', y='numVotes')\n",
    "fig.set_title(\"Number of Votes and the number of TV shows attended\")"
   ]
  },
  {
   "cell_type": "markdown",
   "metadata": {},
   "source": [
    "Like gross income, the number of votes seem to follow a linear trend. There is a slight dip in the mean number of votes between movies that have had actors go on 5 late night shows and movies that have actors go on 6 late night shows. This may be due to a similar reason as gross income, in that there are three times as many movies in the data set that have had actors go on 5 late night shows than movies that have had actors go on 6 late night shows"
   ]
  },
  {
   "cell_type": "markdown",
   "metadata": {},
   "source": [
    "#### Since the distributions of these popularity features(gross income, number of votes, average rating) were not normal (look at analysis above), we have to conduct the non-parametric Kruskal Wallis test to see if the samples (number of late night shows attended) come from the same distribution. If they do not come from the same distribution, we conduct a post-hoc test(Dunn test) too see where the differences lie."
   ]
  },
  {
   "cell_type": "code",
   "execution_count": 49,
   "metadata": {
    "pycharm": {
     "name": "#%%\n"
    }
   },
   "outputs": [
    {
     "name": "stdout",
     "output_type": "stream",
     "text": [
      "Kruskal Wallis Gross Income Test: Statistic: 74.49174282929926  P-Value: 1.1876120807824148e-14\n",
      "Kruskal Wallis Average Rating Test: Statistic: 14.576723164862155  P-Value: 0.01233264592010292\n",
      "Kruskal Wallis Number of Votes test: Statistic: 29.762254190696538 P-Value 1.6425831953050873e-05\n"
     ]
    }
   ],
   "source": [
    "#gross income kruskal test\n",
    "st_gross, p_gross = stats.kruskal(yesNightShow.loc[yesNightShow['late_night_shows_attended'] == 1, 'gross_income'], yesNightShow.loc[yesNightShow['late_night_shows_attended'] == 2, 'gross_income'], yesNightShow.loc[yesNightShow['late_night_shows_attended'] == 3, 'gross_income'], yesNightShow.loc[yesNightShow['late_night_shows_attended'] == 4, 'gross_income'], yesNightShow.loc[yesNightShow['late_night_shows_attended'] == 5, 'gross_income'], yesNightShow.loc[yesNightShow['late_night_shows_attended'] == 6, 'gross_income'])\n",
    "print(\"Kruskal Wallis Gross Income Test: Statistic:\", st_gross, \" P-Value:\", p_gross)\n",
    "#average rating kruskal test\n",
    "st_rating, p_rating = stats.kruskal(yesNightShow.loc[yesNightShow['late_night_shows_attended'] == 1, 'averageRating'], yesNightShow.loc[yesNightShow['late_night_shows_attended'] == 2, 'averageRating'], yesNightShow.loc[yesNightShow['late_night_shows_attended'] == 3, 'averageRating'], yesNightShow.loc[yesNightShow['late_night_shows_attended'] == 4, 'averageRating'], yesNightShow.loc[yesNightShow['late_night_shows_attended'] == 5, 'averageRating'], yesNightShow.loc[yesNightShow['late_night_shows_attended'] == 6, 'averageRating'])\n",
    "print(\"Kruskal Wallis Average Rating Test: Statistic:\", st_rating, \" P-Value:\", p_rating)\n",
    "#number of votes kruskal test\n",
    "st_votes, p_votes = stats.kruskal(yesNightShow.loc[yesNightShow['late_night_shows_attended'] == 1, 'numVotes'], yesNightShow.loc[yesNightShow['late_night_shows_attended'] == 2, 'numVotes'], yesNightShow.loc[yesNightShow['late_night_shows_attended'] == 3, 'numVotes'], yesNightShow.loc[yesNightShow['late_night_shows_attended'] == 4, 'numVotes'], yesNightShow.loc[yesNightShow['late_night_shows_attended'] == 5, 'numVotes'], yesNightShow.loc[yesNightShow['late_night_shows_attended'] == 6, 'numVotes'])\n",
    "print(\"Kruskal Wallis Number of Votes test: Statistic:\", st_votes, \"P-Value\", p_votes)"
   ]
  },
  {
   "cell_type": "markdown",
   "metadata": {},
   "source": [
    "The Kruskal Wallis tests show that with an alpha value of : 0.01, some of the samples in Gross Income and Number of Votes do not come from the same distribution. This is not the case for average rating. The results of this test along with the visualizations from above make sense as we saw clear differences in the gross income and number of votes in movies that have had actors go on different late night shows. We did not see a large difference in the graph for the average rating, and the Kruskal test confirms this.\n",
    "\n",
    "#### We now conduct a Post Hoc Dunn test to see where the differences lie"
   ]
  },
  {
   "cell_type": "code",
   "execution_count": 50,
   "metadata": {
    "pycharm": {
     "name": "#%%\n"
    }
   },
   "outputs": [
    {
     "data": {
      "text/html": [
       "<div>\n",
       "<style scoped>\n",
       "    .dataframe tbody tr th:only-of-type {\n",
       "        vertical-align: middle;\n",
       "    }\n",
       "\n",
       "    .dataframe tbody tr th {\n",
       "        vertical-align: top;\n",
       "    }\n",
       "\n",
       "    .dataframe thead th {\n",
       "        text-align: right;\n",
       "    }\n",
       "</style>\n",
       "<table border=\"1\" class=\"dataframe\">\n",
       "  <thead>\n",
       "    <tr style=\"text-align: right;\">\n",
       "      <th></th>\n",
       "      <th>1</th>\n",
       "      <th>2</th>\n",
       "      <th>3</th>\n",
       "      <th>4</th>\n",
       "      <th>5</th>\n",
       "      <th>6</th>\n",
       "    </tr>\n",
       "  </thead>\n",
       "  <tbody>\n",
       "    <tr>\n",
       "      <th>1</th>\n",
       "      <td>1.000000e+00</td>\n",
       "      <td>0.018089</td>\n",
       "      <td>0.000011</td>\n",
       "      <td>9.252911e-07</td>\n",
       "      <td>2.343453e-10</td>\n",
       "      <td>3.760799e-08</td>\n",
       "    </tr>\n",
       "    <tr>\n",
       "      <th>2</th>\n",
       "      <td>1.808896e-02</td>\n",
       "      <td>1.000000</td>\n",
       "      <td>0.051710</td>\n",
       "      <td>8.587693e-03</td>\n",
       "      <td>3.234399e-05</td>\n",
       "      <td>3.366914e-05</td>\n",
       "    </tr>\n",
       "    <tr>\n",
       "      <th>3</th>\n",
       "      <td>1.132989e-05</td>\n",
       "      <td>0.051710</td>\n",
       "      <td>1.000000</td>\n",
       "      <td>4.288654e-01</td>\n",
       "      <td>1.619549e-02</td>\n",
       "      <td>3.119357e-03</td>\n",
       "    </tr>\n",
       "    <tr>\n",
       "      <th>4</th>\n",
       "      <td>9.252911e-07</td>\n",
       "      <td>0.008588</td>\n",
       "      <td>0.428865</td>\n",
       "      <td>1.000000e+00</td>\n",
       "      <td>1.132992e-01</td>\n",
       "      <td>1.735041e-02</td>\n",
       "    </tr>\n",
       "    <tr>\n",
       "      <th>5</th>\n",
       "      <td>2.343453e-10</td>\n",
       "      <td>0.000032</td>\n",
       "      <td>0.016195</td>\n",
       "      <td>1.132992e-01</td>\n",
       "      <td>1.000000e+00</td>\n",
       "      <td>2.273623e-01</td>\n",
       "    </tr>\n",
       "    <tr>\n",
       "      <th>6</th>\n",
       "      <td>3.760799e-08</td>\n",
       "      <td>0.000034</td>\n",
       "      <td>0.003119</td>\n",
       "      <td>1.735041e-02</td>\n",
       "      <td>2.273623e-01</td>\n",
       "      <td>1.000000e+00</td>\n",
       "    </tr>\n",
       "  </tbody>\n",
       "</table>\n",
       "</div>"
      ],
      "text/plain": [
       "              1         2         3             4             5             6\n",
       "1  1.000000e+00  0.018089  0.000011  9.252911e-07  2.343453e-10  3.760799e-08\n",
       "2  1.808896e-02  1.000000  0.051710  8.587693e-03  3.234399e-05  3.366914e-05\n",
       "3  1.132989e-05  0.051710  1.000000  4.288654e-01  1.619549e-02  3.119357e-03\n",
       "4  9.252911e-07  0.008588  0.428865  1.000000e+00  1.132992e-01  1.735041e-02\n",
       "5  2.343453e-10  0.000032  0.016195  1.132992e-01  1.000000e+00  2.273623e-01\n",
       "6  3.760799e-08  0.000034  0.003119  1.735041e-02  2.273623e-01  1.000000e+00"
      ]
     },
     "execution_count": 50,
     "metadata": {},
     "output_type": "execute_result"
    }
   ],
   "source": [
    "#gross income differences Dunn test\n",
    "gross_income = sp.posthoc_dunn(yesNightShow, val_col='gross_income', group_col='late_night_shows_attended')\n",
    "gross_income"
   ]
  },
  {
   "cell_type": "markdown",
   "metadata": {},
   "source": [
    "The numbers labeling the columns refer to the number of late night shows a movie's actors have visited. We can see that there is almost a linear relationship in the P values, as they decrease as the number of late night shows attended increases.\n",
    "\n",
    "-From the Dunn test above, with an alpha value of 0.01, we see that there is no significant difference in gross income for movies that have had actors go on 1 or 2 late night shows but there is a significant difference in gross income between movies that have had actors go on 1 late night shows and 2+ late night shows.\n",
    "\n",
    "-There is not a significant difference between movies that have had actors go on 2 or 3 late night shows but there are significant differences beteen movies that have had actors go on 2 late night shows and movies that have had actors go on 3+ late night shows\n",
    "\n",
    "-There is not a significant difference between move is that have had actors go on 3,4 or 5 late night shows but there are significan differences betweeen movies that have had actors go on 3 late night shows and movies that have had actors go on 6 late night shows.\n",
    "\n",
    "-There is not a significant difference between move is that have had actors go on 4, 5, or 6 late night shows."
   ]
  },
  {
   "cell_type": "code",
   "execution_count": 51,
   "metadata": {
    "pycharm": {
     "name": "#%%\n"
    }
   },
   "outputs": [
    {
     "data": {
      "text/html": [
       "<div>\n",
       "<style scoped>\n",
       "    .dataframe tbody tr th:only-of-type {\n",
       "        vertical-align: middle;\n",
       "    }\n",
       "\n",
       "    .dataframe tbody tr th {\n",
       "        vertical-align: top;\n",
       "    }\n",
       "\n",
       "    .dataframe thead th {\n",
       "        text-align: right;\n",
       "    }\n",
       "</style>\n",
       "<table border=\"1\" class=\"dataframe\">\n",
       "  <thead>\n",
       "    <tr style=\"text-align: right;\">\n",
       "      <th></th>\n",
       "      <th>1</th>\n",
       "      <th>2</th>\n",
       "      <th>3</th>\n",
       "      <th>4</th>\n",
       "      <th>5</th>\n",
       "      <th>6</th>\n",
       "    </tr>\n",
       "  </thead>\n",
       "  <tbody>\n",
       "    <tr>\n",
       "      <th>1</th>\n",
       "      <td>1.000000</td>\n",
       "      <td>0.243072</td>\n",
       "      <td>0.003458</td>\n",
       "      <td>0.001242</td>\n",
       "      <td>0.000013</td>\n",
       "      <td>0.009637</td>\n",
       "    </tr>\n",
       "    <tr>\n",
       "      <th>2</th>\n",
       "      <td>0.243072</td>\n",
       "      <td>1.000000</td>\n",
       "      <td>0.101804</td>\n",
       "      <td>0.042292</td>\n",
       "      <td>0.001454</td>\n",
       "      <td>0.054335</td>\n",
       "    </tr>\n",
       "    <tr>\n",
       "      <th>3</th>\n",
       "      <td>0.003458</td>\n",
       "      <td>0.101804</td>\n",
       "      <td>1.000000</td>\n",
       "      <td>0.622024</td>\n",
       "      <td>0.085234</td>\n",
       "      <td>0.343074</td>\n",
       "    </tr>\n",
       "    <tr>\n",
       "      <th>4</th>\n",
       "      <td>0.001242</td>\n",
       "      <td>0.042292</td>\n",
       "      <td>0.622024</td>\n",
       "      <td>1.000000</td>\n",
       "      <td>0.230892</td>\n",
       "      <td>0.540426</td>\n",
       "    </tr>\n",
       "    <tr>\n",
       "      <th>5</th>\n",
       "      <td>0.000013</td>\n",
       "      <td>0.001454</td>\n",
       "      <td>0.085234</td>\n",
       "      <td>0.230892</td>\n",
       "      <td>1.000000</td>\n",
       "      <td>0.811346</td>\n",
       "    </tr>\n",
       "    <tr>\n",
       "      <th>6</th>\n",
       "      <td>0.009637</td>\n",
       "      <td>0.054335</td>\n",
       "      <td>0.343074</td>\n",
       "      <td>0.540426</td>\n",
       "      <td>0.811346</td>\n",
       "      <td>1.000000</td>\n",
       "    </tr>\n",
       "  </tbody>\n",
       "</table>\n",
       "</div>"
      ],
      "text/plain": [
       "          1         2         3         4         5         6\n",
       "1  1.000000  0.243072  0.003458  0.001242  0.000013  0.009637\n",
       "2  0.243072  1.000000  0.101804  0.042292  0.001454  0.054335\n",
       "3  0.003458  0.101804  1.000000  0.622024  0.085234  0.343074\n",
       "4  0.001242  0.042292  0.622024  1.000000  0.230892  0.540426\n",
       "5  0.000013  0.001454  0.085234  0.230892  1.000000  0.811346\n",
       "6  0.009637  0.054335  0.343074  0.540426  0.811346  1.000000"
      ]
     },
     "execution_count": 51,
     "metadata": {},
     "output_type": "execute_result"
    }
   ],
   "source": [
    "#number of votes differences Dunn test\n",
    "sp.posthoc_dunn(yesNightShow, val_col='numVotes', group_col='late_night_shows_attended')\n"
   ]
  },
  {
   "cell_type": "markdown",
   "metadata": {},
   "source": [
    "The numbers labeling the columns refer to the number of late night shows a movie's actors have visited. We can see that there is almost a linear relationship in the P values, as they decrease as the number of late night shows attended increases.\n",
    "\n",
    "-With alpha value of 0.01, the Dunn test shows us that:\n",
    "\n",
    "-there is no significant difference in the number of votes for movies that have had actors go on 1 or 2 late night shows but there is a significant difference in the number of votes between movies that have had actors go on 1 late night shows and 2+ late night shows.\n",
    "\n",
    "-There is not a significant difference between movies that have had actors go on 2,3, or 4 late night shows but there are significant differences beteen movies that have had actors go on 2 late night shows and movies that have had actors go on 4+ late night shows\n",
    "\n",
    "-There is not a significant difference between movies that have had actors go on 3, 4, 5, or 6 late night shows."
   ]
  },
  {
   "cell_type": "markdown",
   "metadata": {},
   "source": [
    "### Linear Regressions on Late Night Show Hosts\n",
    "#### What are the best late night shows to attend in terms of popularity factors? (gross income, average rating, and number of votes)"
   ]
  },
  {
   "cell_type": "code",
   "execution_count": 52,
   "metadata": {
    "pycharm": {
     "name": "#%%\n"
    }
   },
   "outputs": [],
   "source": [
    "#Linear regression model for average rating with budget as confounding variable\n",
    "rating, predictor_w_bud = patsy.dmatrices('averageRating ~ Conan + Corden + Fallon + Kimmel + Meyers + Colbert + budget', df)\n",
    "rating_linear_w_bud = sm.OLS(rating, predictor_w_bud)\n",
    "rating_res_w_bud = rating_linear_w_bud.fit()\n",
    "\n",
    "#Linear regression model for gross income with budget as confounding variable\n",
    "gross, predictor_w_bud = patsy.dmatrices('gross_income ~ Conan + Corden + Fallon + Kimmel + Meyers + Colbert + budget', df)\n",
    "gross_linear_w_bud = sm.OLS(gross, predictor_w_bud)\n",
    "gross_res_w_bud = gross_linear_w_bud.fit()\n",
    "\n",
    "#Linear regression model for the number of votes with budget as confounding variable\n",
    "votes, predictor_w_bud = patsy.dmatrices('numVotes ~ Conan + Corden + Fallon + Kimmel + Meyers + Colbert + budget', df)\n",
    "votes_linear_w_bud = sm.OLS(votes, predictor_w_bud)\n",
    "votes_res_w_bud = votes_linear_w_bud.fit()"
   ]
  },
  {
   "cell_type": "code",
   "execution_count": 53,
   "metadata": {
    "pycharm": {
     "name": "#%%\n"
    }
   },
   "outputs": [
    {
     "name": "stdout",
     "output_type": "stream",
     "text": [
      "                            OLS Regression Results                            \n",
      "==============================================================================\n",
      "Dep. Variable:          averageRating   R-squared:                       0.044\n",
      "Model:                            OLS   Adj. R-squared:                  0.042\n",
      "Method:                 Least Squares   F-statistic:                     24.76\n",
      "Date:                Wed, 17 Mar 2021   Prob (F-statistic):           3.16e-33\n",
      "Time:                        20:43:30   Log-Likelihood:                -5641.6\n",
      "No. Observations:                3766   AIC:                         1.130e+04\n",
      "Df Residuals:                    3758   BIC:                         1.135e+04\n",
      "Df Model:                           7                                         \n",
      "Covariance Type:            nonrobust                                         \n",
      "===================================================================================\n",
      "                      coef    std err          t      P>|t|      [0.025      0.975]\n",
      "-----------------------------------------------------------------------------------\n",
      "Intercept           5.9680      0.022    271.684      0.000       5.925       6.011\n",
      "Conan[T.True]       0.0239      0.051      0.464      0.643      -0.077       0.125\n",
      "Corden[T.True]     -0.0538      0.072     -0.744      0.457      -0.196       0.088\n",
      "Fallon[T.True]      0.2101      0.060      3.480      0.001       0.092       0.328\n",
      "Kimmel[T.True]      0.0485      0.067      0.722      0.471      -0.083       0.180\n",
      "Meyers[T.True]     -0.0279      0.075     -0.373      0.709      -0.175       0.119\n",
      "Colbert[T.True]     0.1573      0.073      2.141      0.032       0.013       0.301\n",
      "budget           3.895e-09   4.36e-10      8.927      0.000    3.04e-09    4.75e-09\n",
      "==============================================================================\n",
      "Omnibus:                      328.586   Durbin-Watson:                   1.959\n",
      "Prob(Omnibus):                  0.000   Jarque-Bera (JB):              468.918\n",
      "Skew:                          -0.697   Prob(JB):                    1.50e-102\n",
      "Kurtosis:                       4.023   Cond. No.                     2.44e+08\n",
      "==============================================================================\n",
      "\n",
      "Warnings:\n",
      "[1] Standard Errors assume that the covariance matrix of the errors is correctly specified.\n",
      "[2] The condition number is large, 2.44e+08. This might indicate that there are\n",
      "strong multicollinearity or other numerical problems.\n"
     ]
    }
   ],
   "source": [
    "print(rating_res_w_bud.summary())"
   ]
  },
  {
   "cell_type": "markdown",
   "metadata": {},
   "source": [
    "According to the summary above, when the dependent variable was the rating of movies, Conan, Corden, Kimmel, and Meyers yielded high P-values. This suggests that these independent variables are likely confounding variables that have little to no predictive power. Therefore, these variables shall be removed in a later iteration of rating analysis."
   ]
  },
  {
   "cell_type": "code",
   "execution_count": 54,
   "metadata": {
    "pycharm": {
     "name": "#%%\n"
    }
   },
   "outputs": [
    {
     "name": "stdout",
     "output_type": "stream",
     "text": [
      "                            OLS Regression Results                            \n",
      "==============================================================================\n",
      "Dep. Variable:               numVotes   R-squared:                       0.381\n",
      "Model:                            OLS   Adj. R-squared:                  0.380\n",
      "Method:                 Least Squares   F-statistic:                     330.9\n",
      "Date:                Wed, 17 Mar 2021   Prob (F-statistic):               0.00\n",
      "Time:                        20:43:31   Log-Likelihood:                -49146.\n",
      "No. Observations:                3766   AIC:                         9.831e+04\n",
      "Df Residuals:                    3758   BIC:                         9.836e+04\n",
      "Df Model:                           7                                         \n",
      "Covariance Type:            nonrobust                                         \n",
      "===================================================================================\n",
      "                      coef    std err          t      P>|t|      [0.025      0.975]\n",
      "-----------------------------------------------------------------------------------\n",
      "Intercept         1.52e+04   2283.845      6.655      0.000    1.07e+04    1.97e+04\n",
      "Conan[T.True]    2.451e+04   5350.644      4.581      0.000     1.4e+04     3.5e+04\n",
      "Corden[T.True]  -2.259e+04   7527.287     -3.001      0.003   -3.73e+04   -7833.057\n",
      "Fallon[T.True]   3.136e+04   6275.466      4.997      0.000    1.91e+04    4.37e+04\n",
      "Kimmel[T.True]   3320.0379   6995.486      0.475      0.635   -1.04e+04     1.7e+04\n",
      "Meyers[T.True]  -8086.1385   7783.293     -1.039      0.299   -2.33e+04    7173.751\n",
      "Colbert[T.True] -1.036e+04   7637.566     -1.357      0.175   -2.53e+04    4610.514\n",
      "budget              0.0019   4.54e-05     42.466      0.000       0.002       0.002\n",
      "==============================================================================\n",
      "Omnibus:                     3513.431   Durbin-Watson:                   1.988\n",
      "Prob(Omnibus):                  0.000   Jarque-Bera (JB):           220547.765\n",
      "Skew:                           4.303   Prob(JB):                         0.00\n",
      "Kurtosis:                      39.489   Cond. No.                     2.44e+08\n",
      "==============================================================================\n",
      "\n",
      "Warnings:\n",
      "[1] Standard Errors assume that the covariance matrix of the errors is correctly specified.\n",
      "[2] The condition number is large, 2.44e+08. This might indicate that there are\n",
      "strong multicollinearity or other numerical problems.\n"
     ]
    }
   ],
   "source": [
    "print(votes_res_w_bud.summary())"
   ]
  },
  {
   "cell_type": "markdown",
   "metadata": {},
   "source": [
    "Similar to ratings, when the dependent variable was the number of votes, Kimmel, Meyers, and Colbert yielded high P-values. They shall be removed."
   ]
  },
  {
   "cell_type": "code",
   "execution_count": 55,
   "metadata": {
    "pycharm": {
     "name": "#%%\n"
    }
   },
   "outputs": [
    {
     "name": "stdout",
     "output_type": "stream",
     "text": [
      "                            OLS Regression Results                            \n",
      "==============================================================================\n",
      "Dep. Variable:           gross_income   R-squared:                       0.641\n",
      "Model:                            OLS   Adj. R-squared:                  0.640\n",
      "Method:                 Least Squares   F-statistic:                     957.6\n",
      "Date:                Wed, 17 Mar 2021   Prob (F-statistic):               0.00\n",
      "Time:                        20:43:32   Log-Likelihood:                -75293.\n",
      "No. Observations:                3766   AIC:                         1.506e+05\n",
      "Df Residuals:                    3758   BIC:                         1.507e+05\n",
      "Df Model:                           7                                         \n",
      "Covariance Type:            nonrobust                                         \n",
      "===================================================================================\n",
      "                      coef    std err          t      P>|t|      [0.025      0.975]\n",
      "-----------------------------------------------------------------------------------\n",
      "Intercept       -2.086e+07   2.37e+06     -8.820      0.000   -2.55e+07   -1.62e+07\n",
      "Conan[T.True]    1.306e+07   5.54e+06      2.356      0.019    2.19e+06    2.39e+07\n",
      "Corden[T.True]   2.315e+07    7.8e+06      2.969      0.003    7.86e+06    3.84e+07\n",
      "Fallon[T.True]   5.643e+06    6.5e+06      0.868      0.385    -7.1e+06    1.84e+07\n",
      "Kimmel[T.True]   2.082e+06   7.25e+06      0.287      0.774   -1.21e+07    1.63e+07\n",
      "Meyers[T.True]   6.497e+06   8.06e+06      0.806      0.420   -9.31e+06    2.23e+07\n",
      "Colbert[T.True] -5.096e+06   7.91e+06     -0.644      0.520   -2.06e+07    1.04e+07\n",
      "budget              3.4953      0.047     74.386      0.000       3.403       3.587\n",
      "==============================================================================\n",
      "Omnibus:                     3414.196   Durbin-Watson:                   1.923\n",
      "Prob(Omnibus):                  0.000   Jarque-Bera (JB):           351588.695\n",
      "Skew:                           3.903   Prob(JB):                         0.00\n",
      "Kurtosis:                      49.687   Cond. No.                     2.44e+08\n",
      "==============================================================================\n",
      "\n",
      "Warnings:\n",
      "[1] Standard Errors assume that the covariance matrix of the errors is correctly specified.\n",
      "[2] The condition number is large, 2.44e+08. This might indicate that there are\n",
      "strong multicollinearity or other numerical problems.\n"
     ]
    }
   ],
   "source": [
    "print(gross_res_w_bud.summary())"
   ]
  },
  {
   "cell_type": "markdown",
   "metadata": {},
   "source": [
    "Similar to votes and ratings, Fallen, Kimmel, Meyers, and Colbert shall be removed."
   ]
  },
  {
   "cell_type": "code",
   "execution_count": 56,
   "metadata": {
    "pycharm": {
     "name": "#%%\n"
    }
   },
   "outputs": [],
   "source": [
    "# it looks like after we introduced budget, many of the night shows turned out to be confounding\n",
    "# variables. So remove them.\n",
    "\n",
    "#average rating linear regression after removing high p-value variables\n",
    "rating, predictor_w_bud = patsy.dmatrices('averageRating ~ Fallon + Colbert + budget', df)\n",
    "rating_linear_w_bud = sm.OLS(rating, predictor_w_bud)\n",
    "rating_res_w_bud = rating_linear_w_bud.fit()\n",
    "\n",
    "#number of votes linear regression after removing high p-value variables\n",
    "votes, predictor_w_bud = patsy.dmatrices('numVotes ~ Conan + Corden + Fallon + budget', df)\n",
    "votes_linear_w_bud = sm.OLS(votes, predictor_w_bud)\n",
    "votes_res_w_bud = votes_linear_w_bud.fit()\n",
    "\n",
    "#gross income linear regression after removing high p-value variables\n",
    "gross, predictor_w_bud = patsy.dmatrices('gross_income ~ Conan + Corden + budget', df)\n",
    "gross_linear_w_bud = sm.OLS(gross, predictor_w_bud)\n",
    "gross_res_w_bud = gross_linear_w_bud.fit()"
   ]
  },
  {
   "cell_type": "code",
   "execution_count": 57,
   "metadata": {
    "pycharm": {
     "name": "#%%\n"
    }
   },
   "outputs": [
    {
     "name": "stdout",
     "output_type": "stream",
     "text": [
      "                            OLS Regression Results                            \n",
      "==============================================================================\n",
      "Dep. Variable:          averageRating   R-squared:                       0.044\n",
      "Model:                            OLS   Adj. R-squared:                  0.043\n",
      "Method:                 Least Squares   F-statistic:                     57.37\n",
      "Date:                Wed, 17 Mar 2021   Prob (F-statistic):           2.95e-36\n",
      "Time:                        20:43:34   Log-Likelihood:                -5642.3\n",
      "No. Observations:                3766   AIC:                         1.129e+04\n",
      "Df Residuals:                    3762   BIC:                         1.132e+04\n",
      "Df Model:                           3                                         \n",
      "Covariance Type:            nonrobust                                         \n",
      "===================================================================================\n",
      "                      coef    std err          t      P>|t|      [0.025      0.975]\n",
      "-----------------------------------------------------------------------------------\n",
      "Intercept           5.9696      0.022    277.088      0.000       5.927       6.012\n",
      "Fallon[T.True]      0.2108      0.053      3.976      0.000       0.107       0.315\n",
      "Colbert[T.True]     0.1445      0.064      2.245      0.025       0.018       0.271\n",
      "budget           3.933e-09   4.31e-10      9.132      0.000    3.09e-09    4.78e-09\n",
      "==============================================================================\n",
      "Omnibus:                      327.723   Durbin-Watson:                   1.958\n",
      "Prob(Omnibus):                  0.000   Jarque-Bera (JB):              466.758\n",
      "Skew:                          -0.696   Prob(JB):                    4.41e-102\n",
      "Kurtosis:                       4.018   Cond. No.                     2.07e+08\n",
      "==============================================================================\n",
      "\n",
      "Warnings:\n",
      "[1] Standard Errors assume that the covariance matrix of the errors is correctly specified.\n",
      "[2] The condition number is large, 2.07e+08. This might indicate that there are\n",
      "strong multicollinearity or other numerical problems.\n"
     ]
    }
   ],
   "source": [
    "print(rating_res_w_bud.summary())"
   ]
  },
  {
   "cell_type": "markdown",
   "metadata": {},
   "source": [
    "After removing confounding variables, the P-values of the independent variables are now reasonably small. Notice that for this particular analysis, the R-squared statistic is 0.044. This indicates that there is a very weak correlation. But the coefficients of the independent variables suggest attending Fallon or Colbert late-night shows and increasing budget have some positive effect on the ratings of a movie."
   ]
  },
  {
   "cell_type": "code",
   "execution_count": 58,
   "metadata": {
    "pycharm": {
     "name": "#%%\n"
    }
   },
   "outputs": [
    {
     "name": "stdout",
     "output_type": "stream",
     "text": [
      "                            OLS Regression Results                            \n",
      "==============================================================================\n",
      "Dep. Variable:               numVotes   R-squared:                       0.381\n",
      "Model:                            OLS   Adj. R-squared:                  0.380\n",
      "Method:                 Least Squares   F-statistic:                     578.1\n",
      "Date:                Wed, 17 Mar 2021   Prob (F-statistic):               0.00\n",
      "Time:                        20:43:35   Log-Likelihood:                -49148.\n",
      "No. Observations:                3766   AIC:                         9.831e+04\n",
      "Df Residuals:                    3761   BIC:                         9.834e+04\n",
      "Df Model:                           4                                         \n",
      "Covariance Type:            nonrobust                                         \n",
      "==================================================================================\n",
      "                     coef    std err          t      P>|t|      [0.025      0.975]\n",
      "----------------------------------------------------------------------------------\n",
      "Intercept       1.501e+04   2280.621      6.582      0.000    1.05e+04    1.95e+04\n",
      "Conan[T.True]   2.399e+04   5296.784      4.528      0.000    1.36e+04    3.44e+04\n",
      "Corden[T.True]  -2.77e+04   6646.701     -4.167      0.000   -4.07e+04   -1.47e+04\n",
      "Fallon[T.True]  2.796e+04   5747.668      4.864      0.000    1.67e+04    3.92e+04\n",
      "budget             0.0019   4.51e-05     42.696      0.000       0.002       0.002\n",
      "==============================================================================\n",
      "Omnibus:                     3516.535   Durbin-Watson:                   1.988\n",
      "Prob(Omnibus):                  0.000   Jarque-Bera (JB):           221006.235\n",
      "Skew:                           4.309   Prob(JB):                         0.00\n",
      "Kurtosis:                      39.526   Cond. No.                     2.06e+08\n",
      "==============================================================================\n",
      "\n",
      "Warnings:\n",
      "[1] Standard Errors assume that the covariance matrix of the errors is correctly specified.\n",
      "[2] The condition number is large, 2.06e+08. This might indicate that there are\n",
      "strong multicollinearity or other numerical problems.\n"
     ]
    }
   ],
   "source": [
    "print(votes_res_w_bud.summary())"
   ]
  },
  {
   "cell_type": "markdown",
   "metadata": {},
   "source": [
    "Unlike the rating analysis, the voting analysis yielded an R-squared statistic of 0.381. This suggests a significant correlation between the variables. In particular, the coefficients of the independent variables suggest that attending Conan, Corden, or Fallon late-night shows have a dramatic effect on the number of votes a movie would receive while more budget most likely means more votes. It is also interesting to note that the coefficient of Corden is -27700 which means attending the Corden night show may decrease the number of votes you get."
   ]
  },
  {
   "cell_type": "code",
   "execution_count": 59,
   "metadata": {
    "pycharm": {
     "name": "#%%\n"
    }
   },
   "outputs": [
    {
     "name": "stdout",
     "output_type": "stream",
     "text": [
      "                            OLS Regression Results                            \n",
      "==============================================================================\n",
      "Dep. Variable:           gross_income   R-squared:                       0.641\n",
      "Model:                            OLS   Adj. R-squared:                  0.640\n",
      "Method:                 Least Squares   F-statistic:                     2235.\n",
      "Date:                Wed, 17 Mar 2021   Prob (F-statistic):               0.00\n",
      "Time:                        20:43:35   Log-Likelihood:                -75294.\n",
      "No. Observations:                3766   AIC:                         1.506e+05\n",
      "Df Residuals:                    3762   BIC:                         1.506e+05\n",
      "Df Model:                           3                                         \n",
      "Covariance Type:            nonrobust                                         \n",
      "==================================================================================\n",
      "                     coef    std err          t      P>|t|      [0.025      0.975]\n",
      "----------------------------------------------------------------------------------\n",
      "Intercept      -2.052e+07   2.34e+06     -8.754      0.000   -2.51e+07   -1.59e+07\n",
      "Conan[T.True]   1.511e+07   5.27e+06      2.865      0.004    4.77e+06    2.55e+07\n",
      "Corden[T.True]  2.633e+07   6.34e+06      4.156      0.000    1.39e+07    3.88e+07\n",
      "budget             3.5059      0.046     76.599      0.000       3.416       3.596\n",
      "==============================================================================\n",
      "Omnibus:                     3409.801   Durbin-Watson:                   1.923\n",
      "Prob(Omnibus):                  0.000   Jarque-Bera (JB):           350489.969\n",
      "Skew:                           3.895   Prob(JB):                         0.00\n",
      "Kurtosis:                      49.615   Cond. No.                     1.79e+08\n",
      "==============================================================================\n",
      "\n",
      "Warnings:\n",
      "[1] Standard Errors assume that the covariance matrix of the errors is correctly specified.\n",
      "[2] The condition number is large, 1.79e+08. This might indicate that there are\n",
      "strong multicollinearity or other numerical problems.\n"
     ]
    }
   ],
   "source": [
    "print(gross_res_w_bud.summary())"
   ]
  },
  {
   "cell_type": "markdown",
   "metadata": {},
   "source": [
    "For the gross income analysis, the R-squared statistic is 0.641. This indicates a strong correlation of the variables, the strongest among all three. The coefficients of the independent variables suggest that attending Conan or Corden show and increasing budget have a strong positive effect on the gross income of a movie. For example, attending the Conan show may increase the gross income of a movie by 15 million according to the model. It is also interesting to note that the intercept of the above model is -2.052 * 10 ^ 7. This is in line with common sense because many movies fail commercially and actually lose money. Thus, they have a negative gross income.\n"
   ]
  },
  {
   "cell_type": "markdown",
   "metadata": {},
   "source": [
    "# Ethics & Privacy"
   ]
  },
  {
   "cell_type": "markdown",
   "metadata": {},
   "source": [
    "Before starting our brainstorming of our research question, each team member made sure to read through the data science ethics checklist. This helped us to ensure that when proposing potential research questions, we were considering the ethical aspect. After agreeing on our research question, we kept the ethics checklist available to ensure that our data proposed and our data collected were within our guidelines. For our data collection, we had our subjects of research focused on famous individuals. Due to our research being on public figures, our information gathered was public domain. This exempts our data collection for extreme storage measures, informed consent, anonymity, and the right to be forgotten. However, we were still aware of this while collecting and storing our data. We also did not have to add in protections for limiting personally identifiable information, as their names are disclosed to the public and part of the research. For our data analysis, we also made sure to be aware of the potential implications of our findings. This missing perspective could potentially impact the show hosts themselves if we were to find a statistically significant difference that demonstrated a negative impact on a films success by attending a show. This would then hurt the show host, as it would likely result in fewer guest appearances. We also were aware of potential dataset biases, but due to the number of datasets we have included this should be less likely. We also made sure to have an honest representation of our data by incorporating a variety of visualizations. We also made sure to run several different tests on our data to make sure that we were visualizing our actual findings. We did not have to concern ourselves as much with the privacy of our research, for the same reason listed above. However, we did closely follow ethic sections that did pertain to our worl. We were still sure to comment on our code and markdown sections to explain what each test was doing, and where our interpretations were stemming from. This helps to increase our auditability. As previously discussed, the information that we gathered is public domain, and we did not have to incorporate a rollback code, or redress. We also did not have to worry about a concept drift, but we were still mindful of these potential worries when finishing our conclusions of our analysis. However, we will have to be mindful of unintended use from these conclusions. It could potentially harm hosts by celebrities being less likely to attend shows due to the impact on a film's success. "
   ]
  },
  {
   "cell_type": "markdown",
   "metadata": {},
   "source": [
    "# Conclusion & Discussion"
   ]
  },
  {
   "cell_type": "markdown",
   "metadata": {},
   "source": [
    "After analyzing our model, we conclude that a clear relationship is present between celebrity's advertising on late-night talk shows and the increase in popularity, rating, and gross income of their upcoming movie. We hypothesized that the actors and actresses would have this positive outcome due to their opportunity to discuss their recent projects, spike interest to the viewers, and display their personality during the conversation with the talk show host. We also discovered a slight linear trend between the number of late-night talk shows the actors attended, and the gross income, number of votes, and average ratings a movie received.\n",
    " \n",
    "\n",
    "Based on our IMDB dataset, we only selected movies from the years 2009 to 2020. The information to compare the measure of success was determined by the movie rating, number of votes, and the movie's gross income. Through web scraping each movie, we got the budget, gross income and a list of actors for each movie. Combining our Kaggle dataset, we used the timings of an actor's appearance on a late-night talk show videos and matched to the movie's release date. We verified our matching method through checking whether the actor attended a late-night show manually.\n",
    "\n",
    "However, our project faced some limitations throughout the process. After merging and cleaning our datasets, we came across many movies that we could not find the actors and gross income for even when we webscraped. As a result, we had to omit a great number of movies from our analysis. Another limitation we faced was creating a way to filter out movies that were not created in the US. After filtering the movies by region, we realized that some movies in our dataset were still from other countries. We used gross income and budget as a way to get only movies made in the US but it created another problem where we would have to filter out movies created in Canada and other Western countries that may have had actors go on the late night talk shows. Furthermore, after further analyzing our data, we began to realize the number of potential confounding variables that could effect our results. We did manage to run some analysis with the only confounding variable we had data for and it proved to be influential on our analysis. This caused us to deem this study correlational, and not a causal relationship.\n",
    "\n",
    "Overall, we found our predictions correct, with a strong correlation between actors attending a late-night talk show and their upcoming movie's success. This is a clear example of how large a role media plays on society today and the entertainment business.  \n",
    "\n"
   ]
  },
  {
   "cell_type": "markdown",
   "metadata": {},
   "source": [
    "# Team Contributions"
   ]
  },
  {
   "cell_type": "markdown",
   "metadata": {},
   "source": [
    "Our group chose to divide ourselves and delegate work depending on who had particular areas of expertise. All team members brainstormed, found data, and selected our research question. In addition, all team members worked to ensure ethical practices were in use. Raj and Haoen worked largely with webscraping, data cleaning, EDA, and visualizations. Raj and Haoen also found additional datasets to aid with confounding variables. Mariah and Alexa helped with annotations, narrowing the scope of research, and the write-up. All team members did analysis overview to ensure clarity and consistency. Mariah worked largely with the conclusion and discussion. Alexa lead the background and prior work. All team members divided the video into sections, and worked on script for each section. Alexa did the finalization of the video. All team members did finalizations of the code and written portion."
   ]
  },
  {
   "cell_type": "code",
   "execution_count": null,
   "metadata": {
    "pycharm": {
     "name": "#%%\n"
    }
   },
   "outputs": [],
   "source": []
  }
 ],
 "metadata": {
  "kernelspec": {
   "display_name": "Python 3",
   "language": "python",
   "name": "python3"
  },
  "language_info": {
   "codemirror_mode": {
    "name": "ipython",
    "version": 3
   },
   "file_extension": ".py",
   "mimetype": "text/x-python",
   "name": "python",
   "nbconvert_exporter": "python",
   "pygments_lexer": "ipython3",
   "version": "3.7.9"
  }
 },
 "nbformat": 4,
 "nbformat_minor": 2
}
