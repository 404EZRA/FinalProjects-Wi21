{
 "cells": [
  {
   "cell_type": "markdown",
   "metadata": {},
   "source": [
    "# COGS 108 - Rating vs # of Downloads on Google Play Store Apps."
   ]
  },
  {
   "cell_type": "markdown",
   "metadata": {},
   "source": [
    "# Overview"
   ]
  },
  {
   "cell_type": "markdown",
   "metadata": {},
   "source": [
    "The project seeks to see if average rating has any effect on number of downloads between free and paid apps on the Google Play Store. We used a linear regression model to determine if there was an effect. We concluded that while free apps were affected by the average rating on its number of downloads, we cannot conclude this for paid apps."
   ]
  },
  {
   "cell_type": "markdown",
   "metadata": {},
   "source": [
    "# Names\n",
    "\n",
    "- Andrew Huh\n",
    "- Jonathan Min\n",
    "- David Youn\n",
    "- Han Kim\n",
    "- Justin Lee"
   ]
  },
  {
   "cell_type": "markdown",
   "metadata": {},
   "source": [
    "<a id='research_question'></a>\n",
    "# Research Question"
   ]
  },
  {
   "cell_type": "markdown",
   "metadata": {},
   "source": [
    "Does average rating affect the number of downloads between free and paid apps on the Google Play Store?"
   ]
  },
  {
   "cell_type": "markdown",
   "metadata": {},
   "source": [
    "<a id='background'></a>\n",
    "\n",
    "## Background & Prior Work"
   ]
  },
  {
   "cell_type": "markdown",
   "metadata": {},
   "source": [
    "The Google Play Store is a digital distribution service operated and owned by Google. It is the offical app store for Android devices. Anyone can create and upload an app to Google Play Store, and it tends to be more developer friendly compared to Apple's counterpart, Apple App Store. Applications on the Google Play Store are either free or come with a cost. The Google Play Store also tracks many other different pieces of information like number of downloads and user reviews.\n",
    "\n",
    "The first reference is an analysis of apps in the Google Play Store in 2018. While they didn't have a research question they wanted to answer, they were able to analyze many different variables for apps in the Play Store. The author looked at data pertaining to advertisments, the different amount of free vs priced apps in each app category, price distribution, and many other detailed information for applications. The author learned that certain app categories were more prevalent than others, such as Health & Fitness apps being more common than Food and Drink apps. They also learned that their dataset had 58% free apps and 42% paid apps. While the reference is not the same as answering a research question like our project, we can look at the graphs and data the author looked at to see if we can find that data within our own dataset. We can also see if any of their analysis can be of any help to our own project.\n",
    "\n",
    "The second reference is the winning submission of an analysis of the Google Play Store. The author used the same dataset as our project, but looked into the question of using machine learning on the dataset to predict the rating of an app before an after launching on the Play Store. The author concluded that prediction of how well an app will do is beneficial to business values and should be looked into further in the future. This reference can help us know what data to clean for our own question. They went through data cleaning and data visualization. This can be a guide to help us with our own project.\n",
    "\n",
    "References:\n",
    "- 1) https://nycdatascience.com/blog/student-works/web-scraping/analysis-of-apps-in-the-google-play-store/\n",
    "- 2) https://medium.com/the-research-nest/data-science-tutorial-analysis-of-the-google-play-store-dataset-c720330d4903"
   ]
  },
  {
   "cell_type": "markdown",
   "metadata": {},
   "source": [
    "# Hypothesis\n"
   ]
  },
  {
   "cell_type": "markdown",
   "metadata": {},
   "source": [
    "We believe that there is a correlation between average rating and the number of downloads. Both free and priced apps will have a higher number of downloads when there is a higher average rating. We come to this hypothesis due to people looking at average rating to see if they will download an application. When people see a higher average rating then they will be more likely to download the application, thus increaing the number of downloads."
   ]
  },
  {
   "cell_type": "markdown",
   "metadata": {},
   "source": [
    "# Dataset(s)"
   ]
  },
  {
   "cell_type": "markdown",
   "metadata": {},
   "source": [
    "- Dataset Name: Google Play Store Apps \n",
    "- Link to the dataset: https://www.kaggle.com/lava18/google-play-store-apps\n",
    "- Number of observations: 10841 Observations\n",
    "\n",
    "This dataset contains various information about apps on the Google Play Store that was obtained through the help of Python and Scrapy being ran on a Google Virtual Machine Instance. The dataset includes variables for an  application's rating, number of reviews, size, installs, type (free or paid), price, content rating, genre, last update, current version, and android version."
   ]
  },
  {
   "cell_type": "markdown",
   "metadata": {},
   "source": [
    "# Setup"
   ]
  },
  {
   "cell_type": "code",
   "execution_count": 1,
   "metadata": {},
   "outputs": [],
   "source": [
    "# Import External Libraries\n",
    "import seaborn as sns\n",
    "\n",
    "import matplotlib as mpl\n",
    "import matplotlib.pyplot as plt\n",
    "\n",
    "import pandas as pd\n",
    "import numpy as np\n",
    "\n",
    "import patsy\n",
    "import statsmodels.api as sm\n",
    "\n",
    "# Makes the plots look nicer\n",
    "pd.set_option('display.max_columns', 20)\n",
    "pd.set_option('display.max_rows', 20)\n",
    "\n",
    "sns.set(rc={'figure.figsize':(11.7,8.27)})"
   ]
  },
  {
   "cell_type": "markdown",
   "metadata": {},
   "source": [
    "# Data Cleaning"
   ]
  },
  {
   "cell_type": "markdown",
   "metadata": {},
   "source": [
    " We need to clean our data into a usable state for our research question. First, we read in the data from our csv file."
   ]
  },
  {
   "cell_type": "code",
   "execution_count": 2,
   "metadata": {},
   "outputs": [
    {
     "data": {
      "text/html": [
       "<div>\n",
       "<style scoped>\n",
       "    .dataframe tbody tr th:only-of-type {\n",
       "        vertical-align: middle;\n",
       "    }\n",
       "\n",
       "    .dataframe tbody tr th {\n",
       "        vertical-align: top;\n",
       "    }\n",
       "\n",
       "    .dataframe thead th {\n",
       "        text-align: right;\n",
       "    }\n",
       "</style>\n",
       "<table border=\"1\" class=\"dataframe\">\n",
       "  <thead>\n",
       "    <tr style=\"text-align: right;\">\n",
       "      <th></th>\n",
       "      <th>App</th>\n",
       "      <th>Category</th>\n",
       "      <th>Rating</th>\n",
       "      <th>Reviews</th>\n",
       "      <th>Size</th>\n",
       "      <th>Installs</th>\n",
       "      <th>Type</th>\n",
       "      <th>Price</th>\n",
       "      <th>Content Rating</th>\n",
       "      <th>Genres</th>\n",
       "      <th>Last Updated</th>\n",
       "      <th>Current Ver</th>\n",
       "      <th>Android Ver</th>\n",
       "    </tr>\n",
       "  </thead>\n",
       "  <tbody>\n",
       "    <tr>\n",
       "      <th>0</th>\n",
       "      <td>Photo Editor &amp; Candy Camera &amp; Grid &amp; ScrapBook</td>\n",
       "      <td>ART_AND_DESIGN</td>\n",
       "      <td>4.1</td>\n",
       "      <td>159</td>\n",
       "      <td>19M</td>\n",
       "      <td>10,000+</td>\n",
       "      <td>Free</td>\n",
       "      <td>0</td>\n",
       "      <td>Everyone</td>\n",
       "      <td>Art &amp; Design</td>\n",
       "      <td>January 7, 2018</td>\n",
       "      <td>1.0.0</td>\n",
       "      <td>4.0.3 and up</td>\n",
       "    </tr>\n",
       "    <tr>\n",
       "      <th>1</th>\n",
       "      <td>Coloring book moana</td>\n",
       "      <td>ART_AND_DESIGN</td>\n",
       "      <td>3.9</td>\n",
       "      <td>967</td>\n",
       "      <td>14M</td>\n",
       "      <td>500,000+</td>\n",
       "      <td>Free</td>\n",
       "      <td>0</td>\n",
       "      <td>Everyone</td>\n",
       "      <td>Art &amp; Design;Pretend Play</td>\n",
       "      <td>January 15, 2018</td>\n",
       "      <td>2.0.0</td>\n",
       "      <td>4.0.3 and up</td>\n",
       "    </tr>\n",
       "    <tr>\n",
       "      <th>2</th>\n",
       "      <td>U Launcher Lite – FREE Live Cool Themes, Hide ...</td>\n",
       "      <td>ART_AND_DESIGN</td>\n",
       "      <td>4.7</td>\n",
       "      <td>87510</td>\n",
       "      <td>8.7M</td>\n",
       "      <td>5,000,000+</td>\n",
       "      <td>Free</td>\n",
       "      <td>0</td>\n",
       "      <td>Everyone</td>\n",
       "      <td>Art &amp; Design</td>\n",
       "      <td>August 1, 2018</td>\n",
       "      <td>1.2.4</td>\n",
       "      <td>4.0.3 and up</td>\n",
       "    </tr>\n",
       "    <tr>\n",
       "      <th>3</th>\n",
       "      <td>Sketch - Draw &amp; Paint</td>\n",
       "      <td>ART_AND_DESIGN</td>\n",
       "      <td>4.5</td>\n",
       "      <td>215644</td>\n",
       "      <td>25M</td>\n",
       "      <td>50,000,000+</td>\n",
       "      <td>Free</td>\n",
       "      <td>0</td>\n",
       "      <td>Teen</td>\n",
       "      <td>Art &amp; Design</td>\n",
       "      <td>June 8, 2018</td>\n",
       "      <td>Varies with device</td>\n",
       "      <td>4.2 and up</td>\n",
       "    </tr>\n",
       "    <tr>\n",
       "      <th>4</th>\n",
       "      <td>Pixel Draw - Number Art Coloring Book</td>\n",
       "      <td>ART_AND_DESIGN</td>\n",
       "      <td>4.3</td>\n",
       "      <td>967</td>\n",
       "      <td>2.8M</td>\n",
       "      <td>100,000+</td>\n",
       "      <td>Free</td>\n",
       "      <td>0</td>\n",
       "      <td>Everyone</td>\n",
       "      <td>Art &amp; Design;Creativity</td>\n",
       "      <td>June 20, 2018</td>\n",
       "      <td>1.1</td>\n",
       "      <td>4.4 and up</td>\n",
       "    </tr>\n",
       "  </tbody>\n",
       "</table>\n",
       "</div>"
      ],
      "text/plain": [
       "                                                 App        Category  Rating  \\\n",
       "0     Photo Editor & Candy Camera & Grid & ScrapBook  ART_AND_DESIGN     4.1   \n",
       "1                                Coloring book moana  ART_AND_DESIGN     3.9   \n",
       "2  U Launcher Lite – FREE Live Cool Themes, Hide ...  ART_AND_DESIGN     4.7   \n",
       "3                              Sketch - Draw & Paint  ART_AND_DESIGN     4.5   \n",
       "4              Pixel Draw - Number Art Coloring Book  ART_AND_DESIGN     4.3   \n",
       "\n",
       "  Reviews  Size     Installs  Type Price Content Rating  \\\n",
       "0     159   19M      10,000+  Free     0       Everyone   \n",
       "1     967   14M     500,000+  Free     0       Everyone   \n",
       "2   87510  8.7M   5,000,000+  Free     0       Everyone   \n",
       "3  215644   25M  50,000,000+  Free     0           Teen   \n",
       "4     967  2.8M     100,000+  Free     0       Everyone   \n",
       "\n",
       "                      Genres      Last Updated         Current Ver  \\\n",
       "0               Art & Design   January 7, 2018               1.0.0   \n",
       "1  Art & Design;Pretend Play  January 15, 2018               2.0.0   \n",
       "2               Art & Design    August 1, 2018               1.2.4   \n",
       "3               Art & Design      June 8, 2018  Varies with device   \n",
       "4    Art & Design;Creativity     June 20, 2018                 1.1   \n",
       "\n",
       "    Android Ver  \n",
       "0  4.0.3 and up  \n",
       "1  4.0.3 and up  \n",
       "2  4.0.3 and up  \n",
       "3    4.2 and up  \n",
       "4    4.4 and up  "
      ]
     },
     "execution_count": 2,
     "metadata": {},
     "output_type": "execute_result"
    }
   ],
   "source": [
    "data = pd.read_csv('googleplaystore.csv')\n",
    "data.head()"
   ]
  },
  {
   "cell_type": "markdown",
   "metadata": {},
   "source": [
    "We isolated the columns we need for our analysis. Since we are looking to analyze how rating affects downloads between free and paid apps, we are using the columns: 'App', 'Rating', 'Reviews', 'Installs', 'Type', 'Price'. We also got rid of any rows with null values."
   ]
  },
  {
   "cell_type": "code",
   "execution_count": 3,
   "metadata": {},
   "outputs": [
    {
     "data": {
      "text/plain": [
       "Index(['App', 'Rating', 'Reviews', 'Installs', 'Type', 'Price'], dtype='object')"
      ]
     },
     "execution_count": 3,
     "metadata": {},
     "output_type": "execute_result"
    }
   ],
   "source": [
    "apps = data[['App', 'Rating', 'Reviews', 'Installs', 'Type', 'Price']]\n",
    "apps = apps.dropna(subset=['Rating', 'Price'])\n",
    "apps.columns"
   ]
  },
  {
   "cell_type": "markdown",
   "metadata": {},
   "source": [
    "We then sorted the values by the number of Installs in descending order."
   ]
  },
  {
   "cell_type": "code",
   "execution_count": 4,
   "metadata": {},
   "outputs": [
    {
     "data": {
      "text/plain": [
       "Index(['App', 'Rating', 'Reviews', 'Installs', 'Type', 'Price'], dtype='object')"
      ]
     },
     "execution_count": 4,
     "metadata": {},
     "output_type": "execute_result"
    }
   ],
   "source": [
    "apps = apps.sort_values(by=['Installs'], ascending = False)\n",
    "apps.columns"
   ]
  },
  {
   "cell_type": "markdown",
   "metadata": {},
   "source": [
    "We found to have a row with misaligned values, so we also got rid of it."
   ]
  },
  {
   "cell_type": "code",
   "execution_count": 5,
   "metadata": {},
   "outputs": [
    {
     "data": {
      "text/html": [
       "<div>\n",
       "<style scoped>\n",
       "    .dataframe tbody tr th:only-of-type {\n",
       "        vertical-align: middle;\n",
       "    }\n",
       "\n",
       "    .dataframe tbody tr th {\n",
       "        vertical-align: top;\n",
       "    }\n",
       "\n",
       "    .dataframe thead th {\n",
       "        text-align: right;\n",
       "    }\n",
       "</style>\n",
       "<table border=\"1\" class=\"dataframe\">\n",
       "  <thead>\n",
       "    <tr style=\"text-align: right;\">\n",
       "      <th></th>\n",
       "      <th>index</th>\n",
       "      <th>App</th>\n",
       "      <th>Rating</th>\n",
       "      <th>Reviews</th>\n",
       "      <th>Installs</th>\n",
       "      <th>Type</th>\n",
       "      <th>Price</th>\n",
       "    </tr>\n",
       "  </thead>\n",
       "  <tbody>\n",
       "    <tr>\n",
       "      <th>1</th>\n",
       "      <td>431</td>\n",
       "      <td>Viber Messenger</td>\n",
       "      <td>4.3</td>\n",
       "      <td>11334973</td>\n",
       "      <td>500,000,000+</td>\n",
       "      <td>Free</td>\n",
       "      <td>0</td>\n",
       "    </tr>\n",
       "    <tr>\n",
       "      <th>2</th>\n",
       "      <td>347</td>\n",
       "      <td>imo free video calls and chat</td>\n",
       "      <td>4.3</td>\n",
       "      <td>4785892</td>\n",
       "      <td>500,000,000+</td>\n",
       "      <td>Free</td>\n",
       "      <td>0</td>\n",
       "    </tr>\n",
       "    <tr>\n",
       "      <th>3</th>\n",
       "      <td>3476</td>\n",
       "      <td>Google Calendar</td>\n",
       "      <td>4.2</td>\n",
       "      <td>858208</td>\n",
       "      <td>500,000,000+</td>\n",
       "      <td>Free</td>\n",
       "      <td>0</td>\n",
       "    </tr>\n",
       "    <tr>\n",
       "      <th>4</th>\n",
       "      <td>1759</td>\n",
       "      <td>Temple Run 2</td>\n",
       "      <td>4.3</td>\n",
       "      <td>8118937</td>\n",
       "      <td>500,000,000+</td>\n",
       "      <td>Free</td>\n",
       "      <td>0</td>\n",
       "    </tr>\n",
       "    <tr>\n",
       "      <th>5</th>\n",
       "      <td>3473</td>\n",
       "      <td>Dropbox</td>\n",
       "      <td>4.4</td>\n",
       "      <td>1861310</td>\n",
       "      <td>500,000,000+</td>\n",
       "      <td>Free</td>\n",
       "      <td>0</td>\n",
       "    </tr>\n",
       "  </tbody>\n",
       "</table>\n",
       "</div>"
      ],
      "text/plain": [
       "   index                            App  Rating   Reviews      Installs  Type  \\\n",
       "1    431                Viber Messenger     4.3  11334973  500,000,000+  Free   \n",
       "2    347  imo free video calls and chat     4.3   4785892  500,000,000+  Free   \n",
       "3   3476                Google Calendar     4.2    858208  500,000,000+  Free   \n",
       "4   1759                   Temple Run 2     4.3   8118937  500,000,000+  Free   \n",
       "5   3473                        Dropbox     4.4   1861310  500,000,000+  Free   \n",
       "\n",
       "  Price  \n",
       "1     0  \n",
       "2     0  \n",
       "3     0  \n",
       "4     0  \n",
       "5     0  "
      ]
     },
     "execution_count": 5,
     "metadata": {},
     "output_type": "execute_result"
    }
   ],
   "source": [
    "apps = apps.reset_index()\n",
    "apps = apps.drop([0])\n",
    "apps.head()"
   ]
  },
  {
   "cell_type": "markdown",
   "metadata": {},
   "source": [
    "The dataset created an index column that is not useful, so we will remove it."
   ]
  },
  {
   "cell_type": "code",
   "execution_count": 6,
   "metadata": {},
   "outputs": [
    {
     "data": {
      "text/html": [
       "<div>\n",
       "<style scoped>\n",
       "    .dataframe tbody tr th:only-of-type {\n",
       "        vertical-align: middle;\n",
       "    }\n",
       "\n",
       "    .dataframe tbody tr th {\n",
       "        vertical-align: top;\n",
       "    }\n",
       "\n",
       "    .dataframe thead th {\n",
       "        text-align: right;\n",
       "    }\n",
       "</style>\n",
       "<table border=\"1\" class=\"dataframe\">\n",
       "  <thead>\n",
       "    <tr style=\"text-align: right;\">\n",
       "      <th></th>\n",
       "      <th>App</th>\n",
       "      <th>Rating</th>\n",
       "      <th>Reviews</th>\n",
       "      <th>Installs</th>\n",
       "      <th>Type</th>\n",
       "      <th>Price</th>\n",
       "    </tr>\n",
       "  </thead>\n",
       "  <tbody>\n",
       "    <tr>\n",
       "      <th>1</th>\n",
       "      <td>Viber Messenger</td>\n",
       "      <td>4.3</td>\n",
       "      <td>11334973</td>\n",
       "      <td>500,000,000+</td>\n",
       "      <td>Free</td>\n",
       "      <td>0</td>\n",
       "    </tr>\n",
       "    <tr>\n",
       "      <th>2</th>\n",
       "      <td>imo free video calls and chat</td>\n",
       "      <td>4.3</td>\n",
       "      <td>4785892</td>\n",
       "      <td>500,000,000+</td>\n",
       "      <td>Free</td>\n",
       "      <td>0</td>\n",
       "    </tr>\n",
       "    <tr>\n",
       "      <th>3</th>\n",
       "      <td>Google Calendar</td>\n",
       "      <td>4.2</td>\n",
       "      <td>858208</td>\n",
       "      <td>500,000,000+</td>\n",
       "      <td>Free</td>\n",
       "      <td>0</td>\n",
       "    </tr>\n",
       "    <tr>\n",
       "      <th>4</th>\n",
       "      <td>Temple Run 2</td>\n",
       "      <td>4.3</td>\n",
       "      <td>8118937</td>\n",
       "      <td>500,000,000+</td>\n",
       "      <td>Free</td>\n",
       "      <td>0</td>\n",
       "    </tr>\n",
       "    <tr>\n",
       "      <th>5</th>\n",
       "      <td>Dropbox</td>\n",
       "      <td>4.4</td>\n",
       "      <td>1861310</td>\n",
       "      <td>500,000,000+</td>\n",
       "      <td>Free</td>\n",
       "      <td>0</td>\n",
       "    </tr>\n",
       "  </tbody>\n",
       "</table>\n",
       "</div>"
      ],
      "text/plain": [
       "                             App  Rating   Reviews      Installs  Type Price\n",
       "1                Viber Messenger     4.3  11334973  500,000,000+  Free     0\n",
       "2  imo free video calls and chat     4.3   4785892  500,000,000+  Free     0\n",
       "3                Google Calendar     4.2    858208  500,000,000+  Free     0\n",
       "4                   Temple Run 2     4.3   8118937  500,000,000+  Free     0\n",
       "5                        Dropbox     4.4   1861310  500,000,000+  Free     0"
      ]
     },
     "execution_count": 6,
     "metadata": {},
     "output_type": "execute_result"
    }
   ],
   "source": [
    "apps = apps[['App', 'Rating', 'Reviews', 'Installs', 'Type', 'Price']]\n",
    "apps.head()"
   ]
  },
  {
   "cell_type": "markdown",
   "metadata": {},
   "source": [
    "We then dropped the '$' from the Price column by writing a standardize_price function."
   ]
  },
  {
   "cell_type": "code",
   "execution_count": 7,
   "metadata": {},
   "outputs": [],
   "source": [
    "def standardize_price(string):\n",
    "    string = string.replace('$', '')\n",
    "    return string"
   ]
  },
  {
   "cell_type": "code",
   "execution_count": 8,
   "metadata": {},
   "outputs": [
    {
     "data": {
      "text/html": [
       "<div>\n",
       "<style scoped>\n",
       "    .dataframe tbody tr th:only-of-type {\n",
       "        vertical-align: middle;\n",
       "    }\n",
       "\n",
       "    .dataframe tbody tr th {\n",
       "        vertical-align: top;\n",
       "    }\n",
       "\n",
       "    .dataframe thead th {\n",
       "        text-align: right;\n",
       "    }\n",
       "</style>\n",
       "<table border=\"1\" class=\"dataframe\">\n",
       "  <thead>\n",
       "    <tr style=\"text-align: right;\">\n",
       "      <th></th>\n",
       "      <th>App</th>\n",
       "      <th>Rating</th>\n",
       "      <th>Reviews</th>\n",
       "      <th>Installs</th>\n",
       "      <th>Type</th>\n",
       "      <th>Price</th>\n",
       "    </tr>\n",
       "  </thead>\n",
       "  <tbody>\n",
       "    <tr>\n",
       "      <th>1</th>\n",
       "      <td>Viber Messenger</td>\n",
       "      <td>4.3</td>\n",
       "      <td>11334973</td>\n",
       "      <td>500,000,000+</td>\n",
       "      <td>Free</td>\n",
       "      <td>0.00</td>\n",
       "    </tr>\n",
       "    <tr>\n",
       "      <th>2</th>\n",
       "      <td>imo free video calls and chat</td>\n",
       "      <td>4.3</td>\n",
       "      <td>4785892</td>\n",
       "      <td>500,000,000+</td>\n",
       "      <td>Free</td>\n",
       "      <td>0.00</td>\n",
       "    </tr>\n",
       "    <tr>\n",
       "      <th>3</th>\n",
       "      <td>Google Calendar</td>\n",
       "      <td>4.2</td>\n",
       "      <td>858208</td>\n",
       "      <td>500,000,000+</td>\n",
       "      <td>Free</td>\n",
       "      <td>0.00</td>\n",
       "    </tr>\n",
       "    <tr>\n",
       "      <th>4</th>\n",
       "      <td>Temple Run 2</td>\n",
       "      <td>4.3</td>\n",
       "      <td>8118937</td>\n",
       "      <td>500,000,000+</td>\n",
       "      <td>Free</td>\n",
       "      <td>0.00</td>\n",
       "    </tr>\n",
       "    <tr>\n",
       "      <th>5</th>\n",
       "      <td>Dropbox</td>\n",
       "      <td>4.4</td>\n",
       "      <td>1861310</td>\n",
       "      <td>500,000,000+</td>\n",
       "      <td>Free</td>\n",
       "      <td>0.00</td>\n",
       "    </tr>\n",
       "    <tr>\n",
       "      <th>...</th>\n",
       "      <td>...</td>\n",
       "      <td>...</td>\n",
       "      <td>...</td>\n",
       "      <td>...</td>\n",
       "      <td>...</td>\n",
       "      <td>...</td>\n",
       "    </tr>\n",
       "    <tr>\n",
       "      <th>9362</th>\n",
       "      <td>The Pursuit of God</td>\n",
       "      <td>4.8</td>\n",
       "      <td>6</td>\n",
       "      <td>1,000+</td>\n",
       "      <td>Free</td>\n",
       "      <td>0.00</td>\n",
       "    </tr>\n",
       "    <tr>\n",
       "      <th>9363</th>\n",
       "      <td>Depths of Betrayal CE (Full)</td>\n",
       "      <td>4.3</td>\n",
       "      <td>363</td>\n",
       "      <td>1,000+</td>\n",
       "      <td>Paid</td>\n",
       "      <td>2.99</td>\n",
       "    </tr>\n",
       "    <tr>\n",
       "      <th>9364</th>\n",
       "      <td>KBA-EZ Health Guide</td>\n",
       "      <td>5.0</td>\n",
       "      <td>4</td>\n",
       "      <td>1+</td>\n",
       "      <td>Free</td>\n",
       "      <td>0.00</td>\n",
       "    </tr>\n",
       "    <tr>\n",
       "      <th>9365</th>\n",
       "      <td>Mu.F.O.</td>\n",
       "      <td>5.0</td>\n",
       "      <td>2</td>\n",
       "      <td>1+</td>\n",
       "      <td>Paid</td>\n",
       "      <td>0.99</td>\n",
       "    </tr>\n",
       "    <tr>\n",
       "      <th>9366</th>\n",
       "      <td>Ra Ga Ba</td>\n",
       "      <td>5.0</td>\n",
       "      <td>2</td>\n",
       "      <td>1+</td>\n",
       "      <td>Paid</td>\n",
       "      <td>1.49</td>\n",
       "    </tr>\n",
       "  </tbody>\n",
       "</table>\n",
       "<p>9366 rows × 6 columns</p>\n",
       "</div>"
      ],
      "text/plain": [
       "                                App  Rating   Reviews      Installs  Type  \\\n",
       "1                   Viber Messenger     4.3  11334973  500,000,000+  Free   \n",
       "2     imo free video calls and chat     4.3   4785892  500,000,000+  Free   \n",
       "3                   Google Calendar     4.2    858208  500,000,000+  Free   \n",
       "4                      Temple Run 2     4.3   8118937  500,000,000+  Free   \n",
       "5                           Dropbox     4.4   1861310  500,000,000+  Free   \n",
       "...                             ...     ...       ...           ...   ...   \n",
       "9362             The Pursuit of God     4.8         6        1,000+  Free   \n",
       "9363   Depths of Betrayal CE (Full)     4.3       363        1,000+  Paid   \n",
       "9364            KBA-EZ Health Guide     5.0         4            1+  Free   \n",
       "9365                        Mu.F.O.     5.0         2            1+  Paid   \n",
       "9366                       Ra Ga Ba     5.0         2            1+  Paid   \n",
       "\n",
       "      Price  \n",
       "1      0.00  \n",
       "2      0.00  \n",
       "3      0.00  \n",
       "4      0.00  \n",
       "5      0.00  \n",
       "...     ...  \n",
       "9362   0.00  \n",
       "9363   2.99  \n",
       "9364   0.00  \n",
       "9365   0.99  \n",
       "9366   1.49  \n",
       "\n",
       "[9366 rows x 6 columns]"
      ]
     },
     "execution_count": 8,
     "metadata": {},
     "output_type": "execute_result"
    }
   ],
   "source": [
    "apps['Price'] = apps['Price'].astype(str)\n",
    "apps['Price'] = apps['Price'].apply(standardize_price)\n",
    "apps['Price'] = apps['Price'].astype(float)\n",
    "apps"
   ]
  },
  {
   "cell_type": "markdown",
   "metadata": {},
   "source": [
    "# Data Analysis & Results"
   ]
  },
  {
   "cell_type": "markdown",
   "metadata": {},
   "source": [
    "For our data analysis, we need to explore if there is any relationship between the average rating and the number of downloads for free and priced apps on Google Play Store."
   ]
  },
  {
   "cell_type": "markdown",
   "metadata": {},
   "source": [
    "# EDA\n",
    "First, we will do EDA to look at the structure, granularity, scope, temporality, and faithfulness of our data."
   ]
  },
  {
   "cell_type": "markdown",
   "metadata": {},
   "source": [
    "## Structure"
   ]
  },
  {
   "cell_type": "code",
   "execution_count": 9,
   "metadata": {},
   "outputs": [
    {
     "data": {
      "text/html": [
       "<div>\n",
       "<style scoped>\n",
       "    .dataframe tbody tr th:only-of-type {\n",
       "        vertical-align: middle;\n",
       "    }\n",
       "\n",
       "    .dataframe tbody tr th {\n",
       "        vertical-align: top;\n",
       "    }\n",
       "\n",
       "    .dataframe thead th {\n",
       "        text-align: right;\n",
       "    }\n",
       "</style>\n",
       "<table border=\"1\" class=\"dataframe\">\n",
       "  <thead>\n",
       "    <tr style=\"text-align: right;\">\n",
       "      <th></th>\n",
       "      <th>App</th>\n",
       "      <th>Rating</th>\n",
       "      <th>Reviews</th>\n",
       "      <th>Installs</th>\n",
       "      <th>Type</th>\n",
       "      <th>Price</th>\n",
       "    </tr>\n",
       "  </thead>\n",
       "  <tbody>\n",
       "    <tr>\n",
       "      <th>1</th>\n",
       "      <td>Viber Messenger</td>\n",
       "      <td>4.3</td>\n",
       "      <td>11334973</td>\n",
       "      <td>500,000,000+</td>\n",
       "      <td>Free</td>\n",
       "      <td>0.0</td>\n",
       "    </tr>\n",
       "    <tr>\n",
       "      <th>2</th>\n",
       "      <td>imo free video calls and chat</td>\n",
       "      <td>4.3</td>\n",
       "      <td>4785892</td>\n",
       "      <td>500,000,000+</td>\n",
       "      <td>Free</td>\n",
       "      <td>0.0</td>\n",
       "    </tr>\n",
       "    <tr>\n",
       "      <th>3</th>\n",
       "      <td>Google Calendar</td>\n",
       "      <td>4.2</td>\n",
       "      <td>858208</td>\n",
       "      <td>500,000,000+</td>\n",
       "      <td>Free</td>\n",
       "      <td>0.0</td>\n",
       "    </tr>\n",
       "    <tr>\n",
       "      <th>4</th>\n",
       "      <td>Temple Run 2</td>\n",
       "      <td>4.3</td>\n",
       "      <td>8118937</td>\n",
       "      <td>500,000,000+</td>\n",
       "      <td>Free</td>\n",
       "      <td>0.0</td>\n",
       "    </tr>\n",
       "    <tr>\n",
       "      <th>5</th>\n",
       "      <td>Dropbox</td>\n",
       "      <td>4.4</td>\n",
       "      <td>1861310</td>\n",
       "      <td>500,000,000+</td>\n",
       "      <td>Free</td>\n",
       "      <td>0.0</td>\n",
       "    </tr>\n",
       "  </tbody>\n",
       "</table>\n",
       "</div>"
      ],
      "text/plain": [
       "                             App  Rating   Reviews      Installs  Type  Price\n",
       "1                Viber Messenger     4.3  11334973  500,000,000+  Free    0.0\n",
       "2  imo free video calls and chat     4.3   4785892  500,000,000+  Free    0.0\n",
       "3                Google Calendar     4.2    858208  500,000,000+  Free    0.0\n",
       "4                   Temple Run 2     4.3   8118937  500,000,000+  Free    0.0\n",
       "5                        Dropbox     4.4   1861310  500,000,000+  Free    0.0"
      ]
     },
     "execution_count": 9,
     "metadata": {},
     "output_type": "execute_result"
    }
   ],
   "source": [
    "#Look at the first few rows of apps dataset\n",
    "apps.head()"
   ]
  },
  {
   "cell_type": "markdown",
   "metadata": {},
   "source": [
    "Looking at the first few rows of our `apps` dataset, we see that this is **tabular data** with every oberservation in rows and variables in columns."
   ]
  },
  {
   "cell_type": "code",
   "execution_count": 10,
   "metadata": {},
   "outputs": [
    {
     "name": "stdout",
     "output_type": "stream",
     "text": [
      "(9366, 6)\n",
      "App          object\n",
      "Rating      float64\n",
      "Reviews      object\n",
      "Installs     object\n",
      "Type         object\n",
      "Price       float64\n",
      "dtype: object\n"
     ]
    }
   ],
   "source": [
    "# Shape of Data\n",
    "print(apps.shape)\n",
    "\n",
    "# Descriptive statistics for quantitative variables\n",
    "print(apps.dtypes)"
   ]
  },
  {
   "cell_type": "markdown",
   "metadata": {},
   "source": [
    "There are 9366 apps in our data. Most of the variables in our dataset are stored as strings except for ating and price, where they are actual numerical values."
   ]
  },
  {
   "cell_type": "markdown",
   "metadata": {},
   "source": [
    "## Granularity"
   ]
  },
  {
   "cell_type": "code",
   "execution_count": 11,
   "metadata": {},
   "outputs": [
    {
     "data": {
      "text/html": [
       "<div>\n",
       "<style scoped>\n",
       "    .dataframe tbody tr th:only-of-type {\n",
       "        vertical-align: middle;\n",
       "    }\n",
       "\n",
       "    .dataframe tbody tr th {\n",
       "        vertical-align: top;\n",
       "    }\n",
       "\n",
       "    .dataframe thead th {\n",
       "        text-align: right;\n",
       "    }\n",
       "</style>\n",
       "<table border=\"1\" class=\"dataframe\">\n",
       "  <thead>\n",
       "    <tr style=\"text-align: right;\">\n",
       "      <th></th>\n",
       "      <th>App</th>\n",
       "      <th>Rating</th>\n",
       "      <th>Reviews</th>\n",
       "      <th>Installs</th>\n",
       "      <th>Type</th>\n",
       "      <th>Price</th>\n",
       "    </tr>\n",
       "  </thead>\n",
       "  <tbody>\n",
       "    <tr>\n",
       "      <th>1</th>\n",
       "      <td>Viber Messenger</td>\n",
       "      <td>4.3</td>\n",
       "      <td>11334973</td>\n",
       "      <td>500,000,000+</td>\n",
       "      <td>Free</td>\n",
       "      <td>0.0</td>\n",
       "    </tr>\n",
       "    <tr>\n",
       "      <th>2</th>\n",
       "      <td>imo free video calls and chat</td>\n",
       "      <td>4.3</td>\n",
       "      <td>4785892</td>\n",
       "      <td>500,000,000+</td>\n",
       "      <td>Free</td>\n",
       "      <td>0.0</td>\n",
       "    </tr>\n",
       "    <tr>\n",
       "      <th>3</th>\n",
       "      <td>Google Calendar</td>\n",
       "      <td>4.2</td>\n",
       "      <td>858208</td>\n",
       "      <td>500,000,000+</td>\n",
       "      <td>Free</td>\n",
       "      <td>0.0</td>\n",
       "    </tr>\n",
       "    <tr>\n",
       "      <th>4</th>\n",
       "      <td>Temple Run 2</td>\n",
       "      <td>4.3</td>\n",
       "      <td>8118937</td>\n",
       "      <td>500,000,000+</td>\n",
       "      <td>Free</td>\n",
       "      <td>0.0</td>\n",
       "    </tr>\n",
       "    <tr>\n",
       "      <th>5</th>\n",
       "      <td>Dropbox</td>\n",
       "      <td>4.4</td>\n",
       "      <td>1861310</td>\n",
       "      <td>500,000,000+</td>\n",
       "      <td>Free</td>\n",
       "      <td>0.0</td>\n",
       "    </tr>\n",
       "  </tbody>\n",
       "</table>\n",
       "</div>"
      ],
      "text/plain": [
       "                             App  Rating   Reviews      Installs  Type  Price\n",
       "1                Viber Messenger     4.3  11334973  500,000,000+  Free    0.0\n",
       "2  imo free video calls and chat     4.3   4785892  500,000,000+  Free    0.0\n",
       "3                Google Calendar     4.2    858208  500,000,000+  Free    0.0\n",
       "4                   Temple Run 2     4.3   8118937  500,000,000+  Free    0.0\n",
       "5                        Dropbox     4.4   1861310  500,000,000+  Free    0.0"
      ]
     },
     "execution_count": 11,
     "metadata": {},
     "output_type": "execute_result"
    }
   ],
   "source": [
    "# Again, take a look at data\n",
    "apps.head()"
   ]
  },
  {
   "cell_type": "markdown",
   "metadata": {},
   "source": [
    "Every observation is in a row, while each column represents a variable. Each observation represents a different single individual app. The variables in each observation are the application's name, its rating, the number of reviews it has, a rough estimate of installs, if its free or paid, and the price of the app."
   ]
  },
  {
   "cell_type": "markdown",
   "metadata": {},
   "source": [
    "## Scope"
   ]
  },
  {
   "cell_type": "code",
   "execution_count": 12,
   "metadata": {},
   "outputs": [
    {
     "data": {
      "text/plain": [
       "False"
      ]
     },
     "execution_count": 12,
     "metadata": {},
     "output_type": "execute_result"
    }
   ],
   "source": [
    "# Check if there is any null values in our dataset\n",
    "apps.isnull().values.any()"
   ]
  },
  {
   "cell_type": "code",
   "execution_count": 13,
   "metadata": {},
   "outputs": [
    {
     "data": {
      "text/html": [
       "<div>\n",
       "<style scoped>\n",
       "    .dataframe tbody tr th:only-of-type {\n",
       "        vertical-align: middle;\n",
       "    }\n",
       "\n",
       "    .dataframe tbody tr th {\n",
       "        vertical-align: top;\n",
       "    }\n",
       "\n",
       "    .dataframe thead th {\n",
       "        text-align: right;\n",
       "    }\n",
       "</style>\n",
       "<table border=\"1\" class=\"dataframe\">\n",
       "  <thead>\n",
       "    <tr style=\"text-align: right;\">\n",
       "      <th></th>\n",
       "      <th>Rating</th>\n",
       "      <th>Price</th>\n",
       "    </tr>\n",
       "  </thead>\n",
       "  <tbody>\n",
       "    <tr>\n",
       "      <th>count</th>\n",
       "      <td>9366.000000</td>\n",
       "      <td>9366.000000</td>\n",
       "    </tr>\n",
       "    <tr>\n",
       "      <th>mean</th>\n",
       "      <td>4.191757</td>\n",
       "      <td>0.960928</td>\n",
       "    </tr>\n",
       "    <tr>\n",
       "      <th>std</th>\n",
       "      <td>0.515219</td>\n",
       "      <td>15.816585</td>\n",
       "    </tr>\n",
       "    <tr>\n",
       "      <th>min</th>\n",
       "      <td>1.000000</td>\n",
       "      <td>0.000000</td>\n",
       "    </tr>\n",
       "    <tr>\n",
       "      <th>25%</th>\n",
       "      <td>4.000000</td>\n",
       "      <td>0.000000</td>\n",
       "    </tr>\n",
       "    <tr>\n",
       "      <th>50%</th>\n",
       "      <td>4.300000</td>\n",
       "      <td>0.000000</td>\n",
       "    </tr>\n",
       "    <tr>\n",
       "      <th>75%</th>\n",
       "      <td>4.500000</td>\n",
       "      <td>0.000000</td>\n",
       "    </tr>\n",
       "    <tr>\n",
       "      <th>max</th>\n",
       "      <td>5.000000</td>\n",
       "      <td>400.000000</td>\n",
       "    </tr>\n",
       "  </tbody>\n",
       "</table>\n",
       "</div>"
      ],
      "text/plain": [
       "            Rating        Price\n",
       "count  9366.000000  9366.000000\n",
       "mean      4.191757     0.960928\n",
       "std       0.515219    15.816585\n",
       "min       1.000000     0.000000\n",
       "25%       4.000000     0.000000\n",
       "50%       4.300000     0.000000\n",
       "75%       4.500000     0.000000\n",
       "max       5.000000   400.000000"
      ]
     },
     "execution_count": 13,
     "metadata": {},
     "output_type": "execute_result"
    }
   ],
   "source": [
    "# Look at descriptive statistics for our dataset\n",
    "apps.describe()"
   ]
  },
  {
   "cell_type": "markdown",
   "metadata": {},
   "source": [
    "The range of ratings are from 1 to 5 while the range of price is from 0 to 400. The mean of the rating is 4.2 while the mean of the price is $0.96. Typically ratings are fairly high based on the mean. We can now look at different distributions of our dataset variables and relationship with one another."
   ]
  },
  {
   "cell_type": "code",
   "execution_count": 14,
   "metadata": {},
   "outputs": [
    {
     "data": {
      "text/plain": [
       "Free    8719\n",
       "Paid     647\n",
       "Name: Type, dtype: int64"
      ]
     },
     "execution_count": 14,
     "metadata": {},
     "output_type": "execute_result"
    }
   ],
   "source": [
    "# Checking value counts of Type of Apps\n",
    "apps.Type.value_counts()"
   ]
  },
  {
   "cell_type": "markdown",
   "metadata": {},
   "source": [
    "With the value_counts() method we can see that there is a massive amount of Free Apps compared to Paid Apps in our dataset."
   ]
  },
  {
   "cell_type": "code",
   "execution_count": 15,
   "metadata": {},
   "outputs": [
    {
     "data": {
      "text/plain": [
       "Text(0, 0.5, 'Amount of Appearances in Dataset')"
      ]
     },
     "execution_count": 15,
     "metadata": {},
     "output_type": "execute_result"
    },
    {
     "data": {
      "image/png": "[encoded data removed]",
      "text/plain": [
       "<Figure size 842.4x595.44 with 1 Axes>"
      ]
     },
     "metadata": {},
     "output_type": "display_data"
    }
   ],
   "source": [
    "# Create Bar Plot of Installs variable to check distribution\n",
    "installsBar = apps.Installs.value_counts().plot(kind='bar')\n",
    "plt.title('How often Number of Downloads is reached in our Dataset')\n",
    "plt.xlabel('Number of Downloads')\n",
    "plt.ylabel('Amount of Appearances in Dataset')"
   ]
  },
  {
   "cell_type": "markdown",
   "metadata": {},
   "source": [
    "As we see in our bar plot. Many of our applications in our dataset are downloaded at least 10,000+. We do not have many applications where our Number of Downloads is 50+ or lower and where it is also 500,000,000+ or higher."
   ]
  },
  {
   "cell_type": "code",
   "execution_count": 16,
   "metadata": {},
   "outputs": [
    {
     "data": {
      "image/png": "[encoded data removed]",
      "text/plain": [
       "<Figure size 842.4x595.44 with 1 Axes>"
      ]
     },
     "metadata": {},
     "output_type": "display_data"
    }
   ],
   "source": [
    "# Histogram of the average user rating throughout our dataset\n",
    "histRatings = apps.hist(column='Rating', bins=20)"
   ]
  },
  {
   "cell_type": "markdown",
   "metadata": {},
   "source": [
    "As we can see in our histogram, many of the ratings in our dataset are at least 4.0 or higher.\n",
    "\n",
    "Lets check some relationships with our variables in our dataset."
   ]
  },
  {
   "cell_type": "code",
   "execution_count": 17,
   "metadata": {},
   "outputs": [
    {
     "data": {
      "text/plain": [
       "array([[<matplotlib.axes._subplots.AxesSubplot object at 0x7fae15f8aa90>]],\n",
       "      dtype=object)"
      ]
     },
     "execution_count": 17,
     "metadata": {},
     "output_type": "execute_result"
    },
    {
     "data": {
      "image/png": "[encoded data removed]",
      "text/plain": [
       "<Figure size 842.4x595.44 with 1 Axes>"
      ]
     },
     "metadata": {},
     "output_type": "display_data"
    }
   ],
   "source": [
    "# Check average rating of free apps\n",
    "apps[apps['Type'] == 'Free'].hist(column='Rating')"
   ]
  },
  {
   "cell_type": "code",
   "execution_count": 18,
   "metadata": {},
   "outputs": [
    {
     "data": {
      "text/plain": [
       "array([[<matplotlib.axes._subplots.AxesSubplot object at 0x7fae13d2f250>]],\n",
       "      dtype=object)"
      ]
     },
     "execution_count": 18,
     "metadata": {},
     "output_type": "execute_result"
    },
    {
     "data": {
      "image/png": "[encoded data removed]",
      "text/plain": [
       "<Figure size 842.4x595.44 with 1 Axes>"
      ]
     },
     "metadata": {},
     "output_type": "display_data"
    }
   ],
   "source": [
    "# Check average rating of paid apps\n",
    "apps[apps['Type'] == 'Paid'].hist(column='Rating')"
   ]
  },
  {
   "cell_type": "markdown",
   "metadata": {},
   "source": [
    "Our distributions for both free and paid apps look very similar. With a skew toward the higher ratings for both types of apps. The paid apps, however, do have a better distribution of apps with more than a 4.5 rating.\n",
    "\n",
    "Lets look at Installs separated by Free or Paid Apps."
   ]
  },
  {
   "cell_type": "code",
   "execution_count": 19,
   "metadata": {},
   "outputs": [
    {
     "data": {
      "text/plain": [
       "Text(0, 0.5, 'Amount of Appearances in Dataset')"
      ]
     },
     "execution_count": 19,
     "metadata": {},
     "output_type": "execute_result"
    },
    {
     "data": {
      "image/png": "[encoded data removed]",
      "text/plain": [
       "<Figure size 842.4x595.44 with 1 Axes>"
      ]
     },
     "metadata": {},
     "output_type": "display_data"
    }
   ],
   "source": [
    "# Create Bar Plot of Installs variable of Free Apps to check distribution\n",
    "installsFreeBar = apps[apps['Type'] == 'Free'].Installs.value_counts().plot(kind='bar')\n",
    "plt.title('How often Number of Downloads is reached in our Dataset for Free Apps')\n",
    "plt.xlabel('Number of Downloads')\n",
    "plt.ylabel('Amount of Appearances in Dataset')"
   ]
  },
  {
   "cell_type": "code",
   "execution_count": 20,
   "metadata": {},
   "outputs": [
    {
     "data": {
      "text/plain": [
       "Text(0, 0.5, 'Amount of Appearances in Dataset')"
      ]
     },
     "execution_count": 20,
     "metadata": {},
     "output_type": "execute_result"
    },
    {
     "data": {
      "image/png": "[encoded data removed]",
      "text/plain": [
       "<Figure size 842.4x595.44 with 1 Axes>"
      ]
     },
     "metadata": {},
     "output_type": "display_data"
    }
   ],
   "source": [
    "# Create Bar Plot of Installs variable of Paid Apps to check distribution\n",
    "installsPaidBar = apps[apps['Type'] == 'Paid'].Installs.value_counts().plot(kind='bar')\n",
    "plt.title('How often Number of Downloads is reached in our Dataset for Paid Apps')\n",
    "plt.xlabel('Number of Downloads')\n",
    "plt.ylabel('Amount of Appearances in Dataset')"
   ]
  },
  {
   "cell_type": "markdown",
   "metadata": {},
   "source": [
    "Since there is more Free apps than Paid apps in our dataset, we can see that the amount of appearances of the Number of Downloads are significantly lower in our Paid apps bar plot. We can also see that there is a smaller amount of Number of Downloads for Paid apps than Free apps. The most common Number of Downloads for Paid apps is 1,000+ while the most common Number of Downloads for Free apps is 1,000,000+. This shows that Free Apps are downloaded more than Paid Apps."
   ]
  },
  {
   "cell_type": "markdown",
   "metadata": {},
   "source": [
    "## Temporality"
   ]
  },
  {
   "cell_type": "markdown",
   "metadata": {},
   "source": [
    "Our cleaned dataset contains no information about when the data was collected or what year/time period they represent. However, our question doesn't deal with time, so it is not needed."
   ]
  },
  {
   "cell_type": "markdown",
   "metadata": {},
   "source": [
    "## Faithfulness"
   ]
  },
  {
   "cell_type": "markdown",
   "metadata": {},
   "source": [
    "The dataset was from an user on kaggle.com They used webscraping to get the dataset from the Google Play Store."
   ]
  },
  {
   "cell_type": "markdown",
   "metadata": {},
   "source": [
    "There are no missing values in the dataset based on the **Scope** section, so we look at descriptive statisitcs again to see if values are reasonable. "
   ]
  },
  {
   "cell_type": "code",
   "execution_count": 21,
   "metadata": {},
   "outputs": [
    {
     "data": {
      "text/html": [
       "<div>\n",
       "<style scoped>\n",
       "    .dataframe tbody tr th:only-of-type {\n",
       "        vertical-align: middle;\n",
       "    }\n",
       "\n",
       "    .dataframe tbody tr th {\n",
       "        vertical-align: top;\n",
       "    }\n",
       "\n",
       "    .dataframe thead th {\n",
       "        text-align: right;\n",
       "    }\n",
       "</style>\n",
       "<table border=\"1\" class=\"dataframe\">\n",
       "  <thead>\n",
       "    <tr style=\"text-align: right;\">\n",
       "      <th></th>\n",
       "      <th>Rating</th>\n",
       "      <th>Price</th>\n",
       "    </tr>\n",
       "  </thead>\n",
       "  <tbody>\n",
       "    <tr>\n",
       "      <th>count</th>\n",
       "      <td>9366.000000</td>\n",
       "      <td>9366.000000</td>\n",
       "    </tr>\n",
       "    <tr>\n",
       "      <th>mean</th>\n",
       "      <td>4.191757</td>\n",
       "      <td>0.960928</td>\n",
       "    </tr>\n",
       "    <tr>\n",
       "      <th>std</th>\n",
       "      <td>0.515219</td>\n",
       "      <td>15.816585</td>\n",
       "    </tr>\n",
       "    <tr>\n",
       "      <th>min</th>\n",
       "      <td>1.000000</td>\n",
       "      <td>0.000000</td>\n",
       "    </tr>\n",
       "    <tr>\n",
       "      <th>25%</th>\n",
       "      <td>4.000000</td>\n",
       "      <td>0.000000</td>\n",
       "    </tr>\n",
       "    <tr>\n",
       "      <th>50%</th>\n",
       "      <td>4.300000</td>\n",
       "      <td>0.000000</td>\n",
       "    </tr>\n",
       "    <tr>\n",
       "      <th>75%</th>\n",
       "      <td>4.500000</td>\n",
       "      <td>0.000000</td>\n",
       "    </tr>\n",
       "    <tr>\n",
       "      <th>max</th>\n",
       "      <td>5.000000</td>\n",
       "      <td>400.000000</td>\n",
       "    </tr>\n",
       "  </tbody>\n",
       "</table>\n",
       "</div>"
      ],
      "text/plain": [
       "            Rating        Price\n",
       "count  9366.000000  9366.000000\n",
       "mean      4.191757     0.960928\n",
       "std       0.515219    15.816585\n",
       "min       1.000000     0.000000\n",
       "25%       4.000000     0.000000\n",
       "50%       4.300000     0.000000\n",
       "75%       4.500000     0.000000\n",
       "max       5.000000   400.000000"
      ]
     },
     "execution_count": 21,
     "metadata": {},
     "output_type": "execute_result"
    }
   ],
   "source": [
    "# Looking again at the descriptive statistics\n",
    "apps.describe()"
   ]
  },
  {
   "cell_type": "markdown",
   "metadata": {},
   "source": [
    "Using the describe method, we see descriptive statistics for the index rating and price. Index looks fine. And the Rating variable also looks fine, with a minimum of 1 and a maximum of 5. However, the price look suspicious, with a maximum of 400. Using a scatterplot we get the following:"
   ]
  },
  {
   "cell_type": "code",
   "execution_count": 22,
   "metadata": {},
   "outputs": [
    {
     "data": {
      "text/plain": [
       "Text(0.5, 1.0, 'Price of Apps vs # of Installs')"
      ]
     },
     "execution_count": 22,
     "metadata": {},
     "output_type": "execute_result"
    },
    {
     "data": {
      "image/png": "[encoded data removed]",
      "text/plain": [
       "<Figure size 842.4x595.44 with 1 Axes>"
      ]
     },
     "metadata": {},
     "output_type": "display_data"
    }
   ],
   "source": [
    "ax_s = sns.scatterplot(x = apps['Price'], y = apps['Installs'])\n",
    "ax_s.set_ylabel('# of installs')\n",
    "ax_s.set_xlabel('Price of App in $')\n",
    "ax_s.set_title('Price of Apps vs # of Installs')"
   ]
  },
  {
   "cell_type": "markdown",
   "metadata": {},
   "source": [
    "Looking at this graph, the few apps that seem to be outliers in terms of price, while a majority of the apps seem to fit in under the 100 dollar range. In contrast the outliers seem to be greater than or equal to the 300 dollar range."
   ]
  },
  {
   "cell_type": "code",
   "execution_count": 23,
   "metadata": {},
   "outputs": [
    {
     "data": {
      "text/html": [
       "<div>\n",
       "<style scoped>\n",
       "    .dataframe tbody tr th:only-of-type {\n",
       "        vertical-align: middle;\n",
       "    }\n",
       "\n",
       "    .dataframe tbody tr th {\n",
       "        vertical-align: top;\n",
       "    }\n",
       "\n",
       "    .dataframe thead th {\n",
       "        text-align: right;\n",
       "    }\n",
       "</style>\n",
       "<table border=\"1\" class=\"dataframe\">\n",
       "  <thead>\n",
       "    <tr style=\"text-align: right;\">\n",
       "      <th></th>\n",
       "      <th>App</th>\n",
       "      <th>Rating</th>\n",
       "      <th>Reviews</th>\n",
       "      <th>Installs</th>\n",
       "      <th>Type</th>\n",
       "      <th>Price</th>\n",
       "    </tr>\n",
       "  </thead>\n",
       "  <tbody>\n",
       "    <tr>\n",
       "      <th>1413</th>\n",
       "      <td>I Am Rich Premium</td>\n",
       "      <td>4.1</td>\n",
       "      <td>1867</td>\n",
       "      <td>50,000+</td>\n",
       "      <td>Paid</td>\n",
       "      <td>399.99</td>\n",
       "    </tr>\n",
       "    <tr>\n",
       "      <th>2416</th>\n",
       "      <td>I am Rich</td>\n",
       "      <td>4.3</td>\n",
       "      <td>180</td>\n",
       "      <td>5,000+</td>\n",
       "      <td>Paid</td>\n",
       "      <td>399.99</td>\n",
       "    </tr>\n",
       "    <tr>\n",
       "      <th>2418</th>\n",
       "      <td>I Am Rich Pro</td>\n",
       "      <td>4.4</td>\n",
       "      <td>201</td>\n",
       "      <td>5,000+</td>\n",
       "      <td>Paid</td>\n",
       "      <td>399.99</td>\n",
       "    </tr>\n",
       "    <tr>\n",
       "      <th>2432</th>\n",
       "      <td>I am rich(premium)</td>\n",
       "      <td>3.5</td>\n",
       "      <td>472</td>\n",
       "      <td>5,000+</td>\n",
       "      <td>Paid</td>\n",
       "      <td>399.99</td>\n",
       "    </tr>\n",
       "    <tr>\n",
       "      <th>3247</th>\n",
       "      <td>I am rich</td>\n",
       "      <td>3.8</td>\n",
       "      <td>3547</td>\n",
       "      <td>100,000+</td>\n",
       "      <td>Paid</td>\n",
       "      <td>399.99</td>\n",
       "    </tr>\n",
       "    <tr>\n",
       "      <th>4579</th>\n",
       "      <td>most expensive app (H)</td>\n",
       "      <td>4.3</td>\n",
       "      <td>6</td>\n",
       "      <td>100+</td>\n",
       "      <td>Paid</td>\n",
       "      <td>399.99</td>\n",
       "    </tr>\n",
       "    <tr>\n",
       "      <th>6728</th>\n",
       "      <td>💎 I'm rich</td>\n",
       "      <td>3.8</td>\n",
       "      <td>718</td>\n",
       "      <td>10,000+</td>\n",
       "      <td>Paid</td>\n",
       "      <td>399.99</td>\n",
       "    </tr>\n",
       "    <tr>\n",
       "      <th>6729</th>\n",
       "      <td>I'm Rich - Trump Edition</td>\n",
       "      <td>3.6</td>\n",
       "      <td>275</td>\n",
       "      <td>10,000+</td>\n",
       "      <td>Paid</td>\n",
       "      <td>400.00</td>\n",
       "    </tr>\n",
       "    <tr>\n",
       "      <th>6870</th>\n",
       "      <td>I Am Rich</td>\n",
       "      <td>3.6</td>\n",
       "      <td>217</td>\n",
       "      <td>10,000+</td>\n",
       "      <td>Paid</td>\n",
       "      <td>389.99</td>\n",
       "    </tr>\n",
       "    <tr>\n",
       "      <th>6915</th>\n",
       "      <td>I am rich VIP</td>\n",
       "      <td>3.8</td>\n",
       "      <td>411</td>\n",
       "      <td>10,000+</td>\n",
       "      <td>Paid</td>\n",
       "      <td>299.99</td>\n",
       "    </tr>\n",
       "    <tr>\n",
       "      <th>6931</th>\n",
       "      <td>I am Rich Plus</td>\n",
       "      <td>4.0</td>\n",
       "      <td>856</td>\n",
       "      <td>10,000+</td>\n",
       "      <td>Paid</td>\n",
       "      <td>399.99</td>\n",
       "    </tr>\n",
       "    <tr>\n",
       "      <th>8667</th>\n",
       "      <td>I am rich (Most expensive app)</td>\n",
       "      <td>4.1</td>\n",
       "      <td>129</td>\n",
       "      <td>1,000+</td>\n",
       "      <td>Paid</td>\n",
       "      <td>399.99</td>\n",
       "    </tr>\n",
       "    <tr>\n",
       "      <th>8677</th>\n",
       "      <td>I am Rich!</td>\n",
       "      <td>3.8</td>\n",
       "      <td>93</td>\n",
       "      <td>1,000+</td>\n",
       "      <td>Paid</td>\n",
       "      <td>399.99</td>\n",
       "    </tr>\n",
       "    <tr>\n",
       "      <th>8678</th>\n",
       "      <td>I am extremely Rich</td>\n",
       "      <td>2.9</td>\n",
       "      <td>41</td>\n",
       "      <td>1,000+</td>\n",
       "      <td>Paid</td>\n",
       "      <td>379.99</td>\n",
       "    </tr>\n",
       "    <tr>\n",
       "      <th>8703</th>\n",
       "      <td>I AM RICH PRO PLUS</td>\n",
       "      <td>4.0</td>\n",
       "      <td>36</td>\n",
       "      <td>1,000+</td>\n",
       "      <td>Paid</td>\n",
       "      <td>399.99</td>\n",
       "    </tr>\n",
       "  </tbody>\n",
       "</table>\n",
       "</div>"
      ],
      "text/plain": [
       "                                 App  Rating Reviews  Installs  Type   Price\n",
       "1413               I Am Rich Premium     4.1    1867   50,000+  Paid  399.99\n",
       "2416                       I am Rich     4.3     180    5,000+  Paid  399.99\n",
       "2418                   I Am Rich Pro     4.4     201    5,000+  Paid  399.99\n",
       "2432              I am rich(premium)     3.5     472    5,000+  Paid  399.99\n",
       "3247                       I am rich     3.8    3547  100,000+  Paid  399.99\n",
       "4579          most expensive app (H)     4.3       6      100+  Paid  399.99\n",
       "6728                      💎 I'm rich     3.8     718   10,000+  Paid  399.99\n",
       "6729        I'm Rich - Trump Edition     3.6     275   10,000+  Paid  400.00\n",
       "6870                       I Am Rich     3.6     217   10,000+  Paid  389.99\n",
       "6915                   I am rich VIP     3.8     411   10,000+  Paid  299.99\n",
       "6931                  I am Rich Plus     4.0     856   10,000+  Paid  399.99\n",
       "8667  I am rich (Most expensive app)     4.1     129    1,000+  Paid  399.99\n",
       "8677                      I am Rich!     3.8      93    1,000+  Paid  399.99\n",
       "8678             I am extremely Rich     2.9      41    1,000+  Paid  379.99\n",
       "8703              I AM RICH PRO PLUS     4.0      36    1,000+  Paid  399.99"
      ]
     },
     "execution_count": 23,
     "metadata": {},
     "output_type": "execute_result"
    }
   ],
   "source": [
    "positiveOutlier = apps.loc[(apps['Price'] >= 250)]\n",
    "positiveOutlier"
   ]
  },
  {
   "cell_type": "markdown",
   "metadata": {},
   "source": [
    "We see that there are paid apps that are very expensive. However, the apps and their names show that these apps are like status symbols instead of useful apps. I believe we can keep these outliers in our dataset. We are seeing if the average rating that affects the number of downloads, not the price that affects the number of downloads."
   ]
  },
  {
   "cell_type": "markdown",
   "metadata": {},
   "source": [
    "While the data was through web scraping by an user from kaggle, the dataset does seem faithful. The values seem believable with the outliers being outliers due to actually being apps on the Google Play Store."
   ]
  },
  {
   "cell_type": "markdown",
   "metadata": {},
   "source": [
    "# Analysis"
   ]
  },
  {
   "cell_type": "markdown",
   "metadata": {},
   "source": [
    "We are now done with EDA and can now continue to the actual analysis of our dataset.\n",
    "\n",
    "We will set up our dataset to help us answer our question a little bit easier"
   ]
  },
  {
   "cell_type": "code",
   "execution_count": 24,
   "metadata": {},
   "outputs": [
    {
     "name": "stdout",
     "output_type": "stream",
     "text": [
      "(8719, 6)\n",
      "(647, 6)\n"
     ]
    }
   ],
   "source": [
    "# Separate Dataset into Free vs Paid dataset for our question\n",
    "free_apps = apps.loc[apps['Type'] == 'Free']\n",
    "free_apps = free_apps.astype({'Reviews' : 'int'})\n",
    "paid_apps = apps.loc[apps['Type'] == 'Paid']\n",
    "paid_apps = paid_apps.astype({'Reviews' : 'int'})\n",
    "print(free_apps.shape)\n",
    "print(paid_apps.shape)"
   ]
  },
  {
   "cell_type": "markdown",
   "metadata": {},
   "source": [
    "We should also change the Installs variable in our dataset into an actual int instead of strings."
   ]
  },
  {
   "cell_type": "code",
   "execution_count": 25,
   "metadata": {},
   "outputs": [],
   "source": [
    "# This helps the Installs variable\n",
    "def standardize_installs(string):\n",
    "    string = string.lower()\n",
    "    string = string.strip()\n",
    "    \n",
    "    string = string.replace('+','')\n",
    "    string = string.replace(',','')\n",
    "    \n",
    "    string = string.strip()\n",
    "    \n",
    "    if string.isnumeric():\n",
    "        return int(string)\n",
    "    return np.nan"
   ]
  },
  {
   "cell_type": "code",
   "execution_count": 26,
   "metadata": {},
   "outputs": [],
   "source": [
    "# Apply the function to our datasets.\n",
    "free_apps['Installs'] = free_apps['Installs'].apply(standardize_installs)\n",
    "paid_apps['Installs'] = paid_apps['Installs'].apply(standardize_installs)"
   ]
  },
  {
   "cell_type": "markdown",
   "metadata": {},
   "source": [
    "## Taking a look at Free Apps\n",
    "\n",
    "We will begin our analysis on the free apps portion of our dataset."
   ]
  },
  {
   "cell_type": "code",
   "execution_count": 27,
   "metadata": {},
   "outputs": [
    {
     "data": {
      "text/html": [
       "<div>\n",
       "<style scoped>\n",
       "    .dataframe tbody tr th:only-of-type {\n",
       "        vertical-align: middle;\n",
       "    }\n",
       "\n",
       "    .dataframe tbody tr th {\n",
       "        vertical-align: top;\n",
       "    }\n",
       "\n",
       "    .dataframe thead th {\n",
       "        text-align: right;\n",
       "    }\n",
       "</style>\n",
       "<table border=\"1\" class=\"dataframe\">\n",
       "  <thead>\n",
       "    <tr style=\"text-align: right;\">\n",
       "      <th></th>\n",
       "      <th>App</th>\n",
       "      <th>Rating</th>\n",
       "      <th>Reviews</th>\n",
       "      <th>Installs</th>\n",
       "      <th>Type</th>\n",
       "      <th>Price</th>\n",
       "    </tr>\n",
       "  </thead>\n",
       "  <tbody>\n",
       "    <tr>\n",
       "      <th>1</th>\n",
       "      <td>Viber Messenger</td>\n",
       "      <td>4.3</td>\n",
       "      <td>11334973</td>\n",
       "      <td>500000000</td>\n",
       "      <td>Free</td>\n",
       "      <td>0.0</td>\n",
       "    </tr>\n",
       "    <tr>\n",
       "      <th>2</th>\n",
       "      <td>imo free video calls and chat</td>\n",
       "      <td>4.3</td>\n",
       "      <td>4785892</td>\n",
       "      <td>500000000</td>\n",
       "      <td>Free</td>\n",
       "      <td>0.0</td>\n",
       "    </tr>\n",
       "    <tr>\n",
       "      <th>3</th>\n",
       "      <td>Google Calendar</td>\n",
       "      <td>4.2</td>\n",
       "      <td>858208</td>\n",
       "      <td>500000000</td>\n",
       "      <td>Free</td>\n",
       "      <td>0.0</td>\n",
       "    </tr>\n",
       "    <tr>\n",
       "      <th>4</th>\n",
       "      <td>Temple Run 2</td>\n",
       "      <td>4.3</td>\n",
       "      <td>8118937</td>\n",
       "      <td>500000000</td>\n",
       "      <td>Free</td>\n",
       "      <td>0.0</td>\n",
       "    </tr>\n",
       "    <tr>\n",
       "      <th>5</th>\n",
       "      <td>Dropbox</td>\n",
       "      <td>4.4</td>\n",
       "      <td>1861310</td>\n",
       "      <td>500000000</td>\n",
       "      <td>Free</td>\n",
       "      <td>0.0</td>\n",
       "    </tr>\n",
       "  </tbody>\n",
       "</table>\n",
       "</div>"
      ],
      "text/plain": [
       "                             App  Rating   Reviews   Installs  Type  Price\n",
       "1                Viber Messenger     4.3  11334973  500000000  Free    0.0\n",
       "2  imo free video calls and chat     4.3   4785892  500000000  Free    0.0\n",
       "3                Google Calendar     4.2    858208  500000000  Free    0.0\n",
       "4                   Temple Run 2     4.3   8118937  500000000  Free    0.0\n",
       "5                        Dropbox     4.4   1861310  500000000  Free    0.0"
      ]
     },
     "execution_count": 27,
     "metadata": {},
     "output_type": "execute_result"
    }
   ],
   "source": [
    "# Look at the first few free_apps data\n",
    "free_apps.head()"
   ]
  },
  {
   "cell_type": "code",
   "execution_count": 28,
   "metadata": {},
   "outputs": [
    {
     "name": "stdout",
     "output_type": "stream",
     "text": [
      "Free apps max review: 78158306\n",
      "Free apps min review: 1\n",
      "Free apps max rating: 5.0\n",
      "Free apps min rating: 1.0\n"
     ]
    }
   ],
   "source": [
    "# Look at some statistics\n",
    "print(\"Free apps max review: \" + str(free_apps['Reviews'].max()) + \"\\nFree apps min review: \" + str(free_apps['Reviews'].min()))\n",
    "print(\"Free apps max rating: \" + str(free_apps['Rating'].max()) + \"\\nFree apps min rating: \" + str(free_apps['Rating'].min()))"
   ]
  },
  {
   "cell_type": "markdown",
   "metadata": {},
   "source": [
    "The max amount of reviews for the free apps is 78,158,306 and the min amount of reviews is 1. There is an app that got a 5.0 rating and an app that got a 1.0."
   ]
  },
  {
   "cell_type": "code",
   "execution_count": 29,
   "metadata": {},
   "outputs": [
    {
     "data": {
      "text/plain": [
       "Text(0.5, 1.0, 'Reviews (10 Millions/1E7) vs Ratings for free apps')"
      ]
     },
     "execution_count": 29,
     "metadata": {},
     "output_type": "execute_result"
    },
    {
     "data": {
      "image/png": "[encoded data removed]",
      "text/plain": [
       "<Figure size 842.4x595.44 with 1 Axes>"
      ]
     },
     "metadata": {},
     "output_type": "display_data"
    }
   ],
   "source": [
    "# Scatterplot of ratings vs reviews for free apps\n",
    "ax_f = sns.scatterplot(y='Reviews', x='Rating', data=free_apps)\n",
    "ax_f.set_ylabel('Reviews (10 Millions/1E7)')\n",
    "ax_f.set_title('Reviews (10 Millions/1E7) vs Ratings for free apps')"
   ]
  },
  {
   "cell_type": "markdown",
   "metadata": {},
   "source": [
    "The graph shows that free apps with higher ratings, approximately neighboring around 4.4 or 4.5, have more reviews than the free apps with lower ratings, lower than approximately 3.5."
   ]
  },
  {
   "cell_type": "code",
   "execution_count": 30,
   "metadata": {},
   "outputs": [
    {
     "data": {
      "text/plain": [
       "Text(0.5, 1.0, 'Reviews (Billions/1E9) vs Ratings for free apps')"
      ]
     },
     "execution_count": 30,
     "metadata": {},
     "output_type": "execute_result"
    },
    {
     "data": {
      "image/png": "[encoded data removed]",
      "text/plain": [
       "<Figure size 842.4x595.44 with 1 Axes>"
      ]
     },
     "metadata": {},
     "output_type": "display_data"
    }
   ],
   "source": [
    "# Scatterplot of ratings vs Installs for free apps\n",
    "ax_f = sns.scatterplot(y='Installs', x='Rating', data=free_apps)\n",
    "ax_f.set_ylabel('Installs (Billions/1E9)')\n",
    "ax_f.set_title('Reviews (Billions/1E9) vs Ratings for free apps')"
   ]
  },
  {
   "cell_type": "markdown",
   "metadata": {},
   "source": [
    "For free apps, it seems like rating does affect the number of installs an app gets. As the graph above illustrates, the higher the rating of the app is, the higher the number of installs the app has. The number of installs does seem to peek around the rating of between 3.8 and 4.7. This may be because not a lot of apps have a perfect rating of 5 stars.\n",
    "\n",
    "## Taking a look at Paid Apps\n",
    "\n",
    "We will now look the paid apps portion of our dataset."
   ]
  },
  {
   "cell_type": "code",
   "execution_count": 31,
   "metadata": {},
   "outputs": [
    {
     "data": {
      "text/html": [
       "<div>\n",
       "<style scoped>\n",
       "    .dataframe tbody tr th:only-of-type {\n",
       "        vertical-align: middle;\n",
       "    }\n",
       "\n",
       "    .dataframe tbody tr th {\n",
       "        vertical-align: top;\n",
       "    }\n",
       "\n",
       "    .dataframe thead th {\n",
       "        text-align: right;\n",
       "    }\n",
       "</style>\n",
       "<table border=\"1\" class=\"dataframe\">\n",
       "  <thead>\n",
       "    <tr style=\"text-align: right;\">\n",
       "      <th></th>\n",
       "      <th>App</th>\n",
       "      <th>Rating</th>\n",
       "      <th>Reviews</th>\n",
       "      <th>Installs</th>\n",
       "      <th>Type</th>\n",
       "      <th>Price</th>\n",
       "    </tr>\n",
       "  </thead>\n",
       "  <tbody>\n",
       "    <tr>\n",
       "      <th>183</th>\n",
       "      <td>NBA JAM by EA SPORTS™</td>\n",
       "      <td>4.3</td>\n",
       "      <td>56444</td>\n",
       "      <td>500000</td>\n",
       "      <td>Paid</td>\n",
       "      <td>4.99</td>\n",
       "    </tr>\n",
       "    <tr>\n",
       "      <th>209</th>\n",
       "      <td>Weather Live</td>\n",
       "      <td>4.5</td>\n",
       "      <td>76593</td>\n",
       "      <td>500000</td>\n",
       "      <td>Paid</td>\n",
       "      <td>5.99</td>\n",
       "    </tr>\n",
       "    <tr>\n",
       "      <th>287</th>\n",
       "      <td>CamScanner (License)</td>\n",
       "      <td>4.4</td>\n",
       "      <td>26358</td>\n",
       "      <td>500000</td>\n",
       "      <td>Paid</td>\n",
       "      <td>1.99</td>\n",
       "    </tr>\n",
       "    <tr>\n",
       "      <th>304</th>\n",
       "      <td>ES File Explorer/Manager PRO</td>\n",
       "      <td>4.7</td>\n",
       "      <td>81614</td>\n",
       "      <td>500000</td>\n",
       "      <td>Paid</td>\n",
       "      <td>2.99</td>\n",
       "    </tr>\n",
       "    <tr>\n",
       "      <th>351</th>\n",
       "      <td>Assassin's Creed Identity</td>\n",
       "      <td>3.7</td>\n",
       "      <td>42529</td>\n",
       "      <td>500000</td>\n",
       "      <td>Paid</td>\n",
       "      <td>1.99</td>\n",
       "    </tr>\n",
       "  </tbody>\n",
       "</table>\n",
       "</div>"
      ],
      "text/plain": [
       "                              App  Rating  Reviews  Installs  Type  Price\n",
       "183         NBA JAM by EA SPORTS™     4.3    56444    500000  Paid   4.99\n",
       "209                  Weather Live     4.5    76593    500000  Paid   5.99\n",
       "287          CamScanner (License)     4.4    26358    500000  Paid   1.99\n",
       "304  ES File Explorer/Manager PRO     4.7    81614    500000  Paid   2.99\n",
       "351     Assassin's Creed Identity     3.7    42529    500000  Paid   1.99"
      ]
     },
     "execution_count": 31,
     "metadata": {},
     "output_type": "execute_result"
    }
   ],
   "source": [
    "# Look at the first few paid_apps data\n",
    "paid_apps.head()"
   ]
  },
  {
   "cell_type": "code",
   "execution_count": 32,
   "metadata": {},
   "outputs": [
    {
     "name": "stdout",
     "output_type": "stream",
     "text": [
      "Paid apps max review: 2376564\n",
      "Paid apps min review: 1\n",
      "Paid apps max rating: 5.0\n",
      "Paid apps min rating: 1.0\n"
     ]
    }
   ],
   "source": [
    "# Look at some statistics\n",
    "print(\"Paid apps max review: \" + str(paid_apps['Reviews'].max()) + \"\\nPaid apps min review: \" + str(paid_apps['Reviews'].min()))\n",
    "print(\"Paid apps max rating: \" + str(paid_apps['Rating'].max()) + \"\\nPaid apps min rating: \" + str(paid_apps['Rating'].min()))"
   ]
  },
  {
   "cell_type": "markdown",
   "metadata": {},
   "source": [
    "The max amount of reviews for the paid apps is 2,376,564 and the min amount of reviews is 1. There is an app that got a 5.0 rating and an app that got a 1.0."
   ]
  },
  {
   "cell_type": "code",
   "execution_count": 33,
   "metadata": {},
   "outputs": [
    {
     "data": {
      "text/plain": [
       "Text(0.5, 1.0, 'Reviews (Millions/1E6) vs Ratings for paid apps')"
      ]
     },
     "execution_count": 33,
     "metadata": {},
     "output_type": "execute_result"
    },
    {
     "data": {
      "image/png": "[encoded data removed]",
      "text/plain": [
       "<Figure size 842.4x595.44 with 1 Axes>"
      ]
     },
     "metadata": {},
     "output_type": "display_data"
    }
   ],
   "source": [
    "# Scatterplot of ratings vs reviews for paid apps\n",
    "ax_p = sns.scatterplot(y='Reviews', x='Rating', data=paid_apps)\n",
    "ax_p.set_ylabel('Reviews (Millions/1E6)')\n",
    "ax_p.set_title('Reviews (Millions/1E6) vs Ratings for paid apps')"
   ]
  },
  {
   "cell_type": "markdown",
   "metadata": {},
   "source": [
    "The graph shows that paid apps with higher ratings, approximately neighboring around 4.5, have more reviews than the paid apps with lower ratings, lower than approximately 4.3"
   ]
  },
  {
   "cell_type": "code",
   "execution_count": 34,
   "metadata": {},
   "outputs": [
    {
     "data": {
      "text/plain": [
       "Text(0.5, 1.0, 'Reviews (10 Millions/1E7) vs Ratings for paid apps')"
      ]
     },
     "execution_count": 34,
     "metadata": {},
     "output_type": "execute_result"
    },
    {
     "data": {
      "image/png": "[encoded data removed]",
      "text/plain": [
       "<Figure size 842.4x595.44 with 1 Axes>"
      ]
     },
     "metadata": {},
     "output_type": "display_data"
    }
   ],
   "source": [
    "# Scatterplot of ratings vs Installs for paid apps\n",
    "ax_f = sns.scatterplot(y='Installs', x='Rating', data=paid_apps)\n",
    "ax_f.set_ylabel('Installs (10 Millions/1E7)')\n",
    "ax_f.set_title('Reviews (10 Millions/1E7) vs Ratings for paid apps')"
   ]
  },
  {
   "cell_type": "markdown",
   "metadata": {},
   "source": [
    "For paid apps, it seems like rating also affects the number of installs an app gets. As the graph above illustrates, the higher the rating of the app is, the higher the number of installs the app has. For paid apps, the number of installs seem to peek around the rating of between 4.4 and 4.7.\n",
    "\n",
    "## Regression Analysis\n",
    "\n",
    "Lets carry out regression analysis on our two types of apps and their installs."
   ]
  },
  {
   "cell_type": "code",
   "execution_count": 35,
   "metadata": {},
   "outputs": [
    {
     "name": "stdout",
     "output_type": "stream",
     "text": [
      "                            OLS Regression Results                            \n",
      "==============================================================================\n",
      "Dep. Variable:               Installs   R-squared:                       0.003\n",
      "Model:                            OLS   Adj. R-squared:                  0.003\n",
      "Method:                 Least Squares   F-statistic:                     27.19\n",
      "Date:                Tue, 16 Mar 2021   Prob (F-statistic):           1.89e-07\n",
      "Time:                        06:42:40   Log-Likelihood:            -1.7247e+05\n",
      "No. Observations:                8719   AIC:                         3.449e+05\n",
      "Df Residuals:                    8717   BIC:                         3.450e+05\n",
      "Df Model:                           1                                         \n",
      "Covariance Type:            nonrobust                                         \n",
      "==============================================================================\n",
      "                 coef    std err          t      P>|t|      [0.025      0.975]\n",
      "------------------------------------------------------------------------------\n",
      "Intercept  -2.381e+07   8.31e+06     -2.864      0.004   -4.01e+07   -7.51e+06\n",
      "Rating      1.028e+07   1.97e+06      5.214      0.000    6.41e+06    1.41e+07\n",
      "==============================================================================\n",
      "Omnibus:                    12292.447   Durbin-Watson:                   0.035\n",
      "Prob(Omnibus):                  0.000   Jarque-Bera (JB):          2444426.138\n",
      "Skew:                           8.578   Prob(JB):                         0.00\n",
      "Kurtosis:                      83.214   Cond. No.                         36.6\n",
      "==============================================================================\n",
      "\n",
      "Warnings:\n",
      "[1] Standard Errors assume that the covariance matrix of the errors is correctly specified.\n"
     ]
    }
   ],
   "source": [
    "outcomef, predictorsf = patsy.dmatrices('Installs ~ Rating', free_apps)\n",
    "modf = sm.OLS(outcomef, predictorsf)\n",
    "resf = modf.fit()\n",
    "print(resf.summary())"
   ]
  },
  {
   "cell_type": "code",
   "execution_count": 36,
   "metadata": {},
   "outputs": [
    {
     "name": "stdout",
     "output_type": "stream",
     "text": [
      "                            OLS Regression Results                            \n",
      "==============================================================================\n",
      "Dep. Variable:               Installs   R-squared:                       0.003\n",
      "Model:                            OLS   Adj. R-squared:                  0.002\n",
      "Method:                 Least Squares   F-statistic:                     2.255\n",
      "Date:                Tue, 16 Mar 2021   Prob (F-statistic):              0.134\n",
      "Time:                        06:42:40   Log-Likelihood:                -9627.6\n",
      "No. Observations:                 647   AIC:                         1.926e+04\n",
      "Df Residuals:                     645   BIC:                         1.927e+04\n",
      "Df Model:                           1                                         \n",
      "Covariance Type:            nonrobust                                         \n",
      "==============================================================================\n",
      "                 coef    std err          t      P>|t|      [0.025      0.975]\n",
      "------------------------------------------------------------------------------\n",
      "Intercept  -2.109e+05   2.17e+05     -0.971      0.332   -6.38e+05    2.16e+05\n",
      "Rating      7.585e+04   5.05e+04      1.502      0.134   -2.33e+04    1.75e+05\n",
      "==============================================================================\n",
      "Omnibus:                     1214.338   Durbin-Watson:                   0.642\n",
      "Prob(Omnibus):                  0.000   Jarque-Bera (JB):           874619.823\n",
      "Skew:                          12.956   Prob(JB):                         0.00\n",
      "Kurtosis:                     181.247   Cond. No.                         35.6\n",
      "==============================================================================\n",
      "\n",
      "Warnings:\n",
      "[1] Standard Errors assume that the covariance matrix of the errors is correctly specified.\n"
     ]
    }
   ],
   "source": [
    "outcomep, predictorsp = patsy.dmatrices('Installs ~ Rating', paid_apps)\n",
    "modp = sm.OLS(outcomep, predictorsp)\n",
    "resp = modp.fit()\n",
    "print(resp.summary())"
   ]
  },
  {
   "cell_type": "markdown",
   "metadata": {},
   "source": [
    "Using regression analysis, we get the coefficient of 1.028e+07 and 7.585e+04 for Free and Paid apps respectively. So for a 1 unit increase in rating for Free and Paid apps, we will see an increase of 10,280,000 and 75,850 installs respectively for each type of app. Interstingly however, we see that the p-value for our Free Apps regression model is 0 while the p-value for our Paid Apps regression model is 0.134. If we use the 0.05 p-value statistics test, we can see the Free Apps regression model is statisitcally significant while the Paid Apps regression model is not statistically significant. This means that we can determine that the rating does have an effect on installs on our Free Apps model while we cannot determine that the rating has an effect on installs on our Paid Apps model. "
   ]
  },
  {
   "cell_type": "markdown",
   "metadata": {},
   "source": [
    "# Ethics & Privacy"
   ]
  },
  {
   "cell_type": "markdown",
   "metadata": {},
   "source": [
    "In terms of privacy issues that might exist, there is none. This data set is about the applications on the Google Play Store, about their attributes, which are all public information. The author of the dataset used web scraping to get the information straight from the Google Play Store, information anyone can look at right now. None of the information that exists in the data set seem to be gotten through unethical means or through invasion of privacy. If one desires to use this data set to see how they can make their own app successful, they are free to do so. For other ethical issues, our question is based off the dataset and should not have any ethical ramifications if answered; we just want to see the relationship in rating and number of downloads in applications. We also believe our analysis and conclusion should not have ethical problems due to us looking at the rating and number of downloads of free and priced applications. We do not believe any of these variables will result in misuse from companies and other individuals; rather, the only conclusion other people can get from this is the effect rating has on downloads of an application.\n",
    "\n",
    "One bias that could exist though is the choice of apps on the Google Play Store. If the data set doesn't contain every single app on the play store, then there could exist bias on which apps were chosen to be put into the data set if the data wasn't collected randomly or in a unbiased way. The dataset creator has only put a certain amount of applications from the Google Play Store into the dataset and not everything, which can result in some bias; however, we believe that our conclusion is still true for any random assortment of applications from the app store. We will still put a disclaimer in our conclusion that this did not include every application on the Google Play Store."
   ]
  },
  {
   "cell_type": "markdown",
   "metadata": {},
   "source": [
    "# Conclusion & Discussion"
   ]
  },
  {
   "cell_type": "markdown",
   "metadata": {},
   "source": [
    "In the beginning of the project we asked if the average rating affects number of downloads in either free or paid apps. We had a dataset that included number of installs and average rating for many different free or paid apps. We used regression analysis to determine the answer to our question. We can conclude that the average rating does affect our number of downloads with our free apps of our dataset; however, we cannot conclude that the average rating has an effect on the number of downloads with our paid apps of our dataset. This is due to getting a p-value of 0.134 which is greater than the p-value test value of 0.05. For our free apps, a higher rating will result in higher number of downloads.\n",
    "\n",
    "Some limitations in our project that might have affected results is the limited number of paid apps in our data set; there were more than 8000 free apps in our dataset, but there were only about 600 paid apps in our dataset. This could have resulted in us not be able to conclude that paid apps were affected by rating the same way free apps were. Another limitation that arose was how the dataset did not include every app on the Google Play Store, which was a result of the author of the dataset. Other limitations might have included how apps might incentivize for ratings from users, which might not be an honest rating from the user.\n",
    "\n",
    "The impact of this work on society is that it might influence businesses or creators of applications to start thinking about creating a more positive application for users. If it is more positive, then the users are more likely to rate it higher. Based on our conclusion for free apps, the higher a rating, then there will be more installs. This will hopefull impact society to create more competitive applications in order to get a better rating compared to other applications, thus making the market of applications on the Google Play Store to be filled with quality applications for its users."
   ]
  },
  {
   "cell_type": "markdown",
   "metadata": {},
   "source": [
    "# Team Contributions"
   ]
  },
  {
   "cell_type": "markdown",
   "metadata": {},
   "source": [
    "Andrew Huh: Hypothesis, Data Cleaning Section, Write Script for Video, Conclusion\n",
    "\n",
    "Jonathan Min: EDA and Data Analysis Section, Write Script for Video, Lines For Video, Conclusion\n",
    "\n",
    "David Youn: Research Question and Dataset, Data Cleaning Section, Write Script for Video, Lines For Video, Conclusion\n",
    "\n",
    "Han Kim: Ethics and Privacy, EDA and Data Analysis Section, Write Script for Video, Conclusion\n",
    "\n",
    "Justin Lee: Overview, Background, EDA and Data Analysis Section. Write Script for Video, Conclusion"
   ]
  }
 ],
 "metadata": {
  "kernelspec": {
   "display_name": "Python 3",
   "language": "python",
   "name": "python3"
  },
  "language_info": {
   "codemirror_mode": {
    "name": "ipython",
    "version": 3
   },
   "file_extension": ".py",
   "mimetype": "text/x-python",
   "name": "python",
   "nbconvert_exporter": "python",
   "pygments_lexer": "ipython3",
   "version": "3.7.9"
  }
 },
 "nbformat": 4,
 "nbformat_minor": 2
}
