{
 "cells": [
  {
   "cell_type": "markdown",
   "metadata": {},
   "source": [
    "# COGS 108 - Do South California Drivers Drive Worse in the Rain than North California Drivers?"
   ]
  },
  {
   "cell_type": "markdown",
   "metadata": {},
   "source": [
    "# Overview"
   ]
  },
  {
   "cell_type": "markdown",
   "metadata": {},
   "source": [
    "The focus of this project is to find if Southern California drivers crash more often in the rain than Northern California drivers. From the results of our analysis, we would be able to conclude that Southern California drivers handle rainy days worse than Northern California. Our first findings showed that raining car crashes in both the Northern and Southern cities occur significantly less than collisions on dry days due to the decrease of traffic during storms. Taking the averages of rain crashes/rainy days versus dry crashes/dry days, the San Diego average denoted that drivers crash much less in the rain. Lastly, we compared the annual crash totals aligned with the amount of precipitation that year, hoping to see that more rain correlated to more collisions. The linear regressions showed a clear positive correlation for Sacramento and San Francisco. However, there was a negative correlation for San Diego and a small positive slope for Los Angeles, meaning rain was not a clear factor for the collisions. Our group then came to the conclusion that Southern California drivers may actually drive better in the rain than Northern California drivers. "
   ]
  },
  {
   "cell_type": "markdown",
   "metadata": {},
   "source": [
    "# Names\n",
    "\n",
    "- Aditya Ashar\n",
    "- Alanna Merlan\n",
    "- Andy Sunjic\n",
    "- Emma Thomsen\n",
    "- Sujay Srinivasan"
   ]
  },
  {
   "cell_type": "markdown",
   "metadata": {},
   "source": [
    "<a id='research_question'></a>\n",
    "# Research Question"
   ]
  },
  {
   "cell_type": "markdown",
   "metadata": {},
   "source": [
    "Do drivers in Southern California have a greater increase in vehicle collisions during rainy weather when compared to drivers in Northern California?"
   ]
  },
  {
   "cell_type": "markdown",
   "metadata": {},
   "source": [
    "<a id='background'></a>\n",
    "\n",
    "## Background & Prior Work"
   ]
  },
  {
   "cell_type": "markdown",
   "metadata": {},
   "source": [
    "   While no one likes driving in a thunderstorm, San Diego drivers are notorious for seeming to forget how to drive the second a drop of rain hits the asphalt. San Diego’s own Union-Tribune has published several articles with elementary tips on driving in rain to help San Diegans navigate its slippery streets (4). The correlation between rain and car accidents has been previously established, with an estimated 34% increase in collisions during rain (1). As none of us are native to San Diego, we have anecdotally witnessed an alarming amount of slothlike traffic and rampant onramp fender benders during rare rainy days here, and were curious as to whether or not San Diego’s typically sunny weather really produces more bad drivers in the rain. In order to test out this stereotype, we will be examining collision and weather data from four major California cities: San Diego, Los Angeles, Sacramento, and San Francisco. \n",
    "\n",
    "   To better inform a hypothesis, we compared average annual precipitation for each of our cities and found that San Diego receives the least rain with an annual average of 10.43 inches of rainfall, followed by Los Angeles at 14.93”, and with Sacramento and San Francisco roughly equal at 18.52” and 20.68” respectively (3). Since the northern cities get nearly twice the precipitation of San Diego, we theorized that drivers in these cities would be more experienced at driving in the rain, and would therefore have less of an increase in crashes during rain. We also found widespread media coverage of the terrible reputation of California drivers, with all four of our study cities earning spots in the top 25 of a 2019 study on the worst drivers in the United States. Sacramento ranked highest at a prestigious 5th place (5). Our project seeks to determine if Californians are simply consistently awful at operating automobiles, or if San Diego is uniquely ill-prepared for inclement weather.\n",
    "\n",
    "# References:\n",
    "\n",
    "1) Washington Post: [Study: Rain and snow increase risk of fatal car crashes by 34 percent](https://www.washingtonpost.com/weather/2019/04/24/study-rain-increases-risk-fatal-car-crashes-by-percent/)\n",
    "\n",
    "2) Times of San Diego: [California Drivers Ranked The Worst in the United States in Annual Study](https://timesofsandiego.com/life/2017/12/14/california-drivers-ranked-the-worst-in-the-united-states-in-annual-study/)\n",
    "\n",
    "3) Western Regional Climate Center: [Cooperative Climatological Data Summaries](https://wrcc.dri.edu/Climate/west_coop_summaries.php)\n",
    "\n",
    "4) San Diego Union Tribune: [Why San Diegans can't drive in the rain](https://www.sandiegouniontribune.com/sdut-san-diego-rain-driving-tips-2016jan08-story.html)\n",
    "\n",
    "5) ABC10: [Sacramento ranks fifth in worst drivers in America](https://www.abc10.com/article/news/local/sacramento/sacramento-fifth-in-worst-drivers-in-america/103-cb273291-0e2e-4d51-a1ed-4438df4b4c9d)"
   ]
  },
  {
   "cell_type": "markdown",
   "metadata": {},
   "source": [
    "# Hypothesis\n"
   ]
  },
  {
   "cell_type": "markdown",
   "metadata": {},
   "source": [
    "Because cities in Southern California receive less rainfall than cities in Northern California, drivers in Southern California cities are on average less experienced at driving in hazardous weather conditions, resulting in a greater increase in collision rates during rain compared to Northern Californians."
   ]
  },
  {
   "cell_type": "markdown",
   "metadata": {},
   "source": [
    "# Datasets"
   ]
  },
  {
   "cell_type": "markdown",
   "metadata": {},
   "source": [
    "____________________________________________________________________________________________\n",
    "Name: RainCrashData Repository\n",
    "\n",
    "Link: https://github.com/EmThomsen/RainCrashData\n",
    "\n",
    "Description: All datasets for our project are hosted in a public repository for accessibility.\n",
    "____________________________________________________________________________________________\n",
    "Name: NOAA (National Oceanic and Atmospheric Administration)\n",
    "\n",
    "Link: https://www.ncdc.noaa.gov/cdo-web/datasets#GHCND\n",
    "\n",
    "Description: The NOAA provides historical and real-time data from weather stations across the country to the public and allows users to download custom reports. We assembled a dataset of daily precipitation across 5 years, from 2015 through 2019. These are from centrally located weather stations in each of our study cities. The resulting dataset contains 29,216 unique observations.\n",
    "____________________________________________________________________________________________\n",
    "Name: SWITRS (The Statewide Integrated Traffic Records System)\n",
    "\n",
    "Link: https://iswitrs.chp.ca.gov/Reports/jsp/CollisionReports.jsp\n",
    "\n",
    "Description: SWITRS is a publicly available database managed by the state of California that aggregates collision reports from local police departments, sheriff’s departments, and the California Highway Patrol. These reports include data on location, severity, time, and conditions of each incident. We utilized SWITRS to pull reports for each of our study cities for the years 2015-2019, as 2020 data is not yet available. Before cleaning, our 2019 dataset had 3.7 million observations. The cleaned 2019 dataset contains 302,970 observations, with similar numbers expected for each of the other study years. \n",
    "____________________________________________________________________________________________\n",
    "We will use pandas for each city to concatenate each annual dataset into one larger 5-year dataframe per city. The analyses of our study cities, along with the summed weather data, will be combined into a concise final dataframe to facilitate visualizations. \n",
    "____________________________________________________________________________________________"
   ]
  },
  {
   "cell_type": "markdown",
   "metadata": {},
   "source": [
    "# Setup"
   ]
  },
  {
   "cell_type": "code",
   "execution_count": 1,
   "metadata": {},
   "outputs": [],
   "source": [
    "import pandas as pd\n",
    "import numpy as np\n",
    "import seaborn as sns\n",
    "import matplotlib\n",
    "import matplotlib.pyplot as plt\n",
    "import matplotlib.colors as mcolors\n",
    "\n",
    "import patsy\n",
    "import statsmodels.api as sm\n",
    "import scipy.stats as stats\n",
    "from scipy.stats import ttest_ind, chisquare, normaltest\n",
    "\n",
    "import warnings\n",
    "warnings.filterwarnings('ignore')"
   ]
  },
  {
   "cell_type": "code",
   "execution_count": 2,
   "metadata": {},
   "outputs": [],
   "source": [
    "# Read in .txt files from github\n",
    "la15df=pd.read_csv('https://raw.githubusercontent.com/EmThomsen/RainCrashData/main/LosAngelesData/LA2015.txt')\n",
    "la16df=pd.read_csv('https://raw.githubusercontent.com/EmThomsen/RainCrashData/main/LosAngelesData/LA2016.txt')\n",
    "la17df=pd.read_csv('https://raw.githubusercontent.com/EmThomsen/RainCrashData/main/LosAngelesData/LA2017.txt')\n",
    "la18df=pd.read_csv('https://raw.githubusercontent.com/EmThomsen/RainCrashData/main/LosAngelesData/LA2018.txt')\n",
    "la19df=pd.read_csv('https://raw.githubusercontent.com/EmThomsen/RainCrashData/main/LosAngelesData/LA2019.txt')"
   ]
  },
  {
   "cell_type": "code",
   "execution_count": 3,
   "metadata": {},
   "outputs": [],
   "source": [
    "sd15df=pd.read_csv('https://raw.githubusercontent.com/EmThomsen/RainCrashData/main/SanDiegoData/SD2015.txt')\n",
    "sd16df=pd.read_csv('https://raw.githubusercontent.com/EmThomsen/RainCrashData/main/SanDiegoData/SD2016.txt')\n",
    "sd17df=pd.read_csv('https://raw.githubusercontent.com/EmThomsen/RainCrashData/main/SanDiegoData/SD2017.txt')\n",
    "sd18df=pd.read_csv('https://raw.githubusercontent.com/EmThomsen/RainCrashData/main/SanDiegoData/SD2018.txt')\n",
    "sd19df=pd.read_csv('https://raw.githubusercontent.com/EmThomsen/RainCrashData/main/SanDiegoData/SD2019.txt')"
   ]
  },
  {
   "cell_type": "code",
   "execution_count": 4,
   "metadata": {},
   "outputs": [],
   "source": [
    "sac15df=pd.read_csv('https://raw.githubusercontent.com/EmThomsen/RainCrashData/main/SacramentoData/Sac2015.txt')\n",
    "sac16df=pd.read_csv('https://raw.githubusercontent.com/EmThomsen/RainCrashData/main/SacramentoData/Sac2016.txt')\n",
    "sac17df=pd.read_csv('https://raw.githubusercontent.com/EmThomsen/RainCrashData/main/SacramentoData/Sac2017.txt')\n",
    "sac18df=pd.read_csv('https://raw.githubusercontent.com/EmThomsen/RainCrashData/main/SacramentoData/Sac2018.txt')\n",
    "sac19df=pd.read_csv('https://raw.githubusercontent.com/EmThomsen/RainCrashData/main/SacramentoData/Sac2019.txt')"
   ]
  },
  {
   "cell_type": "code",
   "execution_count": 5,
   "metadata": {},
   "outputs": [],
   "source": [
    "sf15df=pd.read_csv('https://raw.githubusercontent.com/EmThomsen/RainCrashData/main/SanFranciscoData/SF2015.txt')\n",
    "sf16df=pd.read_csv('https://raw.githubusercontent.com/EmThomsen/RainCrashData/main/SanFranciscoData/SF2016.txt')\n",
    "sf17df=pd.read_csv('https://raw.githubusercontent.com/EmThomsen/RainCrashData/main/SanFranciscoData/SF2017.txt')\n",
    "sf18df=pd.read_csv('https://raw.githubusercontent.com/EmThomsen/RainCrashData/main/SanFranciscoData/SF2018.txt')\n",
    "sf19df=pd.read_csv('https://raw.githubusercontent.com/EmThomsen/RainCrashData/main/SanFranciscoData/SF2019.txt')"
   ]
  },
  {
   "cell_type": "markdown",
   "metadata": {},
   "source": [
    "# Data Cleaning"
   ]
  },
  {
   "cell_type": "code",
   "execution_count": 6,
   "metadata": {},
   "outputs": [],
   "source": [
    "# Combining the crash dataframes into one per city\n",
    "# Los Angeles\n",
    "laList    = [la15df, la16df, la17df, la18df, la19df]\n",
    "laCrashDf = pd.concat(laList)\n",
    "# San Diego\n",
    "sdList    = [sd15df, sd16df, sd17df, sd18df, sd19df]\n",
    "sdCrashDf = pd.concat(sdList)\n",
    "# Sacramento\n",
    "sacList   = [sac15df, sac16df, sac17df, sac18df, sac19df]\n",
    "scCrashDf = pd.concat(sacList)\n",
    "# San Francisco\n",
    "sfList    = [sf15df, sf16df, sf17df, sf18df, sf19df]\n",
    "sfCrashDf = pd.concat(sfList)"
   ]
  },
  {
   "cell_type": "code",
   "execution_count": 7,
   "metadata": {},
   "outputs": [],
   "source": [
    "# Keeping only these columns: COLLISION_DATE, WEATHER_1\n",
    "# Changing names to COLLISION_DATE ->  DATE, WEATHER_1 -> WEATHER\n",
    "# Setting the format of the dates to the default datetime format\n",
    "# Sorting dates into chronological order\n",
    "# Assigning proper labels to WEATHER and ROAD_SURFACE values\n",
    "def clean_city(city):\n",
    "\n",
    "    city = city[['COLLISION_DATE', 'WEATHER_1']]\n",
    "    city['COLLISION_DATE'] = pd.to_datetime(city['COLLISION_DATE'], format='%Y%m%d')\n",
    "    city = city.sort_values('COLLISION_DATE').reset_index(drop=True)\n",
    "    city = city.rename(columns={'COLLISION_DATE': 'DATE', 'WEATHER_1': 'WEATHER'})\n",
    "    city['WEATHER'] = city['WEATHER'].replace({'A': 'Clear', 'B': 'Cloudy', 'C': 'Rain', 'D': 'Snowing', 'E': 'Fog', 'F': 'Other', 'G': 'Wind'})\n",
    "    \n",
    "    return city\n",
    "\n",
    "\n",
    "\n",
    "laCrashDf = clean_city(laCrashDf)\n",
    "sdCrashDf = clean_city(sdCrashDf)\n",
    "scCrashDf = clean_city(scCrashDf)\n",
    "sfCrashDf = clean_city(sfCrashDf)"
   ]
  },
  {
   "cell_type": "code",
   "execution_count": 8,
   "metadata": {},
   "outputs": [
    {
     "data": {
      "text/html": [
       "<div>\n",
       "<style scoped>\n",
       "    .dataframe tbody tr th:only-of-type {\n",
       "        vertical-align: middle;\n",
       "    }\n",
       "\n",
       "    .dataframe tbody tr th {\n",
       "        vertical-align: top;\n",
       "    }\n",
       "\n",
       "    .dataframe thead th {\n",
       "        text-align: right;\n",
       "    }\n",
       "</style>\n",
       "<table border=\"1\" class=\"dataframe\">\n",
       "  <thead>\n",
       "    <tr style=\"text-align: right;\">\n",
       "      <th></th>\n",
       "      <th>DATE</th>\n",
       "      <th>WEATHER</th>\n",
       "      <th>COLLISION_COUNT</th>\n",
       "    </tr>\n",
       "  </thead>\n",
       "  <tbody>\n",
       "    <tr>\n",
       "      <th>0</th>\n",
       "      <td>2015-01-01</td>\n",
       "      <td>Clear</td>\n",
       "      <td>1</td>\n",
       "    </tr>\n",
       "    <tr>\n",
       "      <th>1</th>\n",
       "      <td>2015-01-01</td>\n",
       "      <td>Clear</td>\n",
       "      <td>1</td>\n",
       "    </tr>\n",
       "    <tr>\n",
       "      <th>2</th>\n",
       "      <td>2015-01-01</td>\n",
       "      <td>Clear</td>\n",
       "      <td>1</td>\n",
       "    </tr>\n",
       "    <tr>\n",
       "      <th>3</th>\n",
       "      <td>2015-01-01</td>\n",
       "      <td>Clear</td>\n",
       "      <td>1</td>\n",
       "    </tr>\n",
       "    <tr>\n",
       "      <th>4</th>\n",
       "      <td>2015-01-01</td>\n",
       "      <td>Clear</td>\n",
       "      <td>1</td>\n",
       "    </tr>\n",
       "    <tr>\n",
       "      <th>...</th>\n",
       "      <td>...</td>\n",
       "      <td>...</td>\n",
       "      <td>...</td>\n",
       "    </tr>\n",
       "    <tr>\n",
       "      <th>191325</th>\n",
       "      <td>2019-12-31</td>\n",
       "      <td>Clear</td>\n",
       "      <td>1</td>\n",
       "    </tr>\n",
       "    <tr>\n",
       "      <th>191326</th>\n",
       "      <td>2019-12-31</td>\n",
       "      <td>Clear</td>\n",
       "      <td>1</td>\n",
       "    </tr>\n",
       "    <tr>\n",
       "      <th>191327</th>\n",
       "      <td>2019-12-31</td>\n",
       "      <td>Clear</td>\n",
       "      <td>1</td>\n",
       "    </tr>\n",
       "    <tr>\n",
       "      <th>191328</th>\n",
       "      <td>2019-12-31</td>\n",
       "      <td>Clear</td>\n",
       "      <td>1</td>\n",
       "    </tr>\n",
       "    <tr>\n",
       "      <th>191329</th>\n",
       "      <td>2019-12-31</td>\n",
       "      <td>Clear</td>\n",
       "      <td>1</td>\n",
       "    </tr>\n",
       "  </tbody>\n",
       "</table>\n",
       "<p>191330 rows × 3 columns</p>\n",
       "</div>"
      ],
      "text/plain": [
       "             DATE WEATHER  COLLISION_COUNT\n",
       "0      2015-01-01   Clear                1\n",
       "1      2015-01-01   Clear                1\n",
       "2      2015-01-01   Clear                1\n",
       "3      2015-01-01   Clear                1\n",
       "4      2015-01-01   Clear                1\n",
       "...           ...     ...              ...\n",
       "191325 2019-12-31   Clear                1\n",
       "191326 2019-12-31   Clear                1\n",
       "191327 2019-12-31   Clear                1\n",
       "191328 2019-12-31   Clear                1\n",
       "191329 2019-12-31   Clear                1\n",
       "\n",
       "[191330 rows x 3 columns]"
      ]
     },
     "execution_count": 8,
     "metadata": {},
     "output_type": "execute_result"
    }
   ],
   "source": [
    "# We notice that dates will be repeated because there's more than one collision happening in a day\n",
    "# We want to get rid of this repetitive data by adding in a Collision_Count column, where it will give \n",
    "# the amount of collisions that occured that day.\n",
    "laCrashDf['COLLISION_COUNT'] = 1\n",
    "sdCrashDf['COLLISION_COUNT'] = 1\n",
    "scCrashDf['COLLISION_COUNT'] = 1\n",
    "sfCrashDf['COLLISION_COUNT'] = 1\n",
    "# Let's see what it looks like\n",
    "laCrashDf"
   ]
  },
  {
   "cell_type": "code",
   "execution_count": 9,
   "metadata": {},
   "outputs": [],
   "source": [
    "# Combine rows according to date, while taking the sum of the collision count\n",
    "def group_city(city):\n",
    "    aggregation_functions = {'WEATHER': 'first', 'COLLISION_COUNT': 'sum'}\n",
    "    city = city.groupby(city['DATE']).aggregate(aggregation_functions).reset_index()\n",
    "    \n",
    "    return city\n",
    "\n",
    "\n",
    "laCrashDf = group_city(laCrashDf)\n",
    "sdCrashDf = group_city(sdCrashDf)\n",
    "scCrashDf = group_city(scCrashDf)\n",
    "sfCrashDf = group_city(sfCrashDf)"
   ]
  },
  {
   "cell_type": "code",
   "execution_count": 10,
   "metadata": {},
   "outputs": [
    {
     "data": {
      "text/html": [
       "<div>\n",
       "<style scoped>\n",
       "    .dataframe tbody tr th:only-of-type {\n",
       "        vertical-align: middle;\n",
       "    }\n",
       "\n",
       "    .dataframe tbody tr th {\n",
       "        vertical-align: top;\n",
       "    }\n",
       "\n",
       "    .dataframe thead th {\n",
       "        text-align: right;\n",
       "    }\n",
       "</style>\n",
       "<table border=\"1\" class=\"dataframe\">\n",
       "  <thead>\n",
       "    <tr style=\"text-align: right;\">\n",
       "      <th></th>\n",
       "      <th>DATE</th>\n",
       "      <th>WEATHER</th>\n",
       "      <th>COLLISION_COUNT</th>\n",
       "    </tr>\n",
       "  </thead>\n",
       "  <tbody>\n",
       "    <tr>\n",
       "      <th>0</th>\n",
       "      <td>2015-01-01</td>\n",
       "      <td>Clear</td>\n",
       "      <td>13</td>\n",
       "    </tr>\n",
       "    <tr>\n",
       "      <th>1</th>\n",
       "      <td>2015-01-02</td>\n",
       "      <td>Clear</td>\n",
       "      <td>12</td>\n",
       "    </tr>\n",
       "    <tr>\n",
       "      <th>2</th>\n",
       "      <td>2015-01-03</td>\n",
       "      <td>Clear</td>\n",
       "      <td>11</td>\n",
       "    </tr>\n",
       "    <tr>\n",
       "      <th>3</th>\n",
       "      <td>2015-01-04</td>\n",
       "      <td>Clear</td>\n",
       "      <td>6</td>\n",
       "    </tr>\n",
       "    <tr>\n",
       "      <th>4</th>\n",
       "      <td>2015-01-05</td>\n",
       "      <td>Clear</td>\n",
       "      <td>17</td>\n",
       "    </tr>\n",
       "    <tr>\n",
       "      <th>...</th>\n",
       "      <td>...</td>\n",
       "      <td>...</td>\n",
       "      <td>...</td>\n",
       "    </tr>\n",
       "    <tr>\n",
       "      <th>1821</th>\n",
       "      <td>2019-12-27</td>\n",
       "      <td>Clear</td>\n",
       "      <td>12</td>\n",
       "    </tr>\n",
       "    <tr>\n",
       "      <th>1822</th>\n",
       "      <td>2019-12-28</td>\n",
       "      <td>Clear</td>\n",
       "      <td>18</td>\n",
       "    </tr>\n",
       "    <tr>\n",
       "      <th>1823</th>\n",
       "      <td>2019-12-29</td>\n",
       "      <td>Rain</td>\n",
       "      <td>10</td>\n",
       "    </tr>\n",
       "    <tr>\n",
       "      <th>1824</th>\n",
       "      <td>2019-12-30</td>\n",
       "      <td>Clear</td>\n",
       "      <td>11</td>\n",
       "    </tr>\n",
       "    <tr>\n",
       "      <th>1825</th>\n",
       "      <td>2019-12-31</td>\n",
       "      <td>Clear</td>\n",
       "      <td>11</td>\n",
       "    </tr>\n",
       "  </tbody>\n",
       "</table>\n",
       "<p>1826 rows × 3 columns</p>\n",
       "</div>"
      ],
      "text/plain": [
       "           DATE WEATHER  COLLISION_COUNT\n",
       "0    2015-01-01   Clear               13\n",
       "1    2015-01-02   Clear               12\n",
       "2    2015-01-03   Clear               11\n",
       "3    2015-01-04   Clear                6\n",
       "4    2015-01-05   Clear               17\n",
       "...         ...     ...              ...\n",
       "1821 2019-12-27   Clear               12\n",
       "1822 2019-12-28   Clear               18\n",
       "1823 2019-12-29    Rain               10\n",
       "1824 2019-12-30   Clear               11\n",
       "1825 2019-12-31   Clear               11\n",
       "\n",
       "[1826 rows x 3 columns]"
      ]
     },
     "execution_count": 10,
     "metadata": {},
     "output_type": "execute_result"
    }
   ],
   "source": [
    "# We can now see that there is only one row per date, with the sum of all collisions that occured that day\n",
    "#This also put the dates in chronological order!\n",
    "sfCrashDf"
   ]
  },
  {
   "cell_type": "markdown",
   "metadata": {},
   "source": [
    "WEATHER DATA - Manipulating the weather data before merging it with the crash data"
   ]
  },
  {
   "cell_type": "code",
   "execution_count": 11,
   "metadata": {},
   "outputs": [],
   "source": [
    "# Working with precipitation data from 4 different cities, from SD, LA, SF, AND SAC, already includes years 2015-2019\n",
    "weather=pd.read_csv('https://raw.githubusercontent.com/COGS108/group080_wi21/main/weather_data/weather.csv?token=ARKENKMWKQRLHUDXYBYL653ALBHII')"
   ]
  },
  {
   "cell_type": "code",
   "execution_count": 12,
   "metadata": {},
   "outputs": [
    {
     "data": {
      "text/html": [
       "<div>\n",
       "<style scoped>\n",
       "    .dataframe tbody tr th:only-of-type {\n",
       "        vertical-align: middle;\n",
       "    }\n",
       "\n",
       "    .dataframe tbody tr th {\n",
       "        vertical-align: top;\n",
       "    }\n",
       "\n",
       "    .dataframe thead th {\n",
       "        text-align: right;\n",
       "    }\n",
       "</style>\n",
       "<table border=\"1\" class=\"dataframe\">\n",
       "  <thead>\n",
       "    <tr style=\"text-align: right;\">\n",
       "      <th></th>\n",
       "      <th>STATION</th>\n",
       "      <th>NAME</th>\n",
       "      <th>DATE</th>\n",
       "      <th>PRCP</th>\n",
       "      <th>SNOW</th>\n",
       "    </tr>\n",
       "  </thead>\n",
       "  <tbody>\n",
       "    <tr>\n",
       "      <th>0</th>\n",
       "      <td>USW00023232</td>\n",
       "      <td>SACRAMENTO AIRPORT ASOS, CA US</td>\n",
       "      <td>1/1/15</td>\n",
       "      <td>0.0</td>\n",
       "      <td>NaN</td>\n",
       "    </tr>\n",
       "    <tr>\n",
       "      <th>1</th>\n",
       "      <td>USW00023232</td>\n",
       "      <td>SACRAMENTO AIRPORT ASOS, CA US</td>\n",
       "      <td>1/2/15</td>\n",
       "      <td>0.0</td>\n",
       "      <td>NaN</td>\n",
       "    </tr>\n",
       "    <tr>\n",
       "      <th>2</th>\n",
       "      <td>USW00023232</td>\n",
       "      <td>SACRAMENTO AIRPORT ASOS, CA US</td>\n",
       "      <td>1/3/15</td>\n",
       "      <td>0.0</td>\n",
       "      <td>NaN</td>\n",
       "    </tr>\n",
       "    <tr>\n",
       "      <th>3</th>\n",
       "      <td>USW00023232</td>\n",
       "      <td>SACRAMENTO AIRPORT ASOS, CA US</td>\n",
       "      <td>1/4/15</td>\n",
       "      <td>0.0</td>\n",
       "      <td>NaN</td>\n",
       "    </tr>\n",
       "    <tr>\n",
       "      <th>4</th>\n",
       "      <td>USW00023232</td>\n",
       "      <td>SACRAMENTO AIRPORT ASOS, CA US</td>\n",
       "      <td>1/5/15</td>\n",
       "      <td>0.0</td>\n",
       "      <td>NaN</td>\n",
       "    </tr>\n",
       "  </tbody>\n",
       "</table>\n",
       "</div>"
      ],
      "text/plain": [
       "       STATION                            NAME    DATE  PRCP  SNOW\n",
       "0  USW00023232  SACRAMENTO AIRPORT ASOS, CA US  1/1/15   0.0   NaN\n",
       "1  USW00023232  SACRAMENTO AIRPORT ASOS, CA US  1/2/15   0.0   NaN\n",
       "2  USW00023232  SACRAMENTO AIRPORT ASOS, CA US  1/3/15   0.0   NaN\n",
       "3  USW00023232  SACRAMENTO AIRPORT ASOS, CA US  1/4/15   0.0   NaN\n",
       "4  USW00023232  SACRAMENTO AIRPORT ASOS, CA US  1/5/15   0.0   NaN"
      ]
     },
     "execution_count": 12,
     "metadata": {},
     "output_type": "execute_result"
    }
   ],
   "source": [
    "# Look at first few rows and last few rows of the set and observe it\n",
    "weather.head()"
   ]
  },
  {
   "cell_type": "code",
   "execution_count": 13,
   "metadata": {},
   "outputs": [
    {
     "data": {
      "text/html": [
       "<div>\n",
       "<style scoped>\n",
       "    .dataframe tbody tr th:only-of-type {\n",
       "        vertical-align: middle;\n",
       "    }\n",
       "\n",
       "    .dataframe tbody tr th {\n",
       "        vertical-align: top;\n",
       "    }\n",
       "\n",
       "    .dataframe thead th {\n",
       "        text-align: right;\n",
       "    }\n",
       "</style>\n",
       "<table border=\"1\" class=\"dataframe\">\n",
       "  <thead>\n",
       "    <tr style=\"text-align: right;\">\n",
       "      <th></th>\n",
       "      <th>STATION</th>\n",
       "      <th>NAME</th>\n",
       "      <th>DATE</th>\n",
       "      <th>PRCP</th>\n",
       "      <th>SNOW</th>\n",
       "    </tr>\n",
       "  </thead>\n",
       "  <tbody>\n",
       "    <tr>\n",
       "      <th>7298</th>\n",
       "      <td>USW00023188</td>\n",
       "      <td>SAN DIEGO INTERNATIONAL AIRPORT, CA US</td>\n",
       "      <td>12/27/19</td>\n",
       "      <td>0.0</td>\n",
       "      <td>NaN</td>\n",
       "    </tr>\n",
       "    <tr>\n",
       "      <th>7299</th>\n",
       "      <td>USW00023188</td>\n",
       "      <td>SAN DIEGO INTERNATIONAL AIRPORT, CA US</td>\n",
       "      <td>12/28/19</td>\n",
       "      <td>0.0</td>\n",
       "      <td>NaN</td>\n",
       "    </tr>\n",
       "    <tr>\n",
       "      <th>7300</th>\n",
       "      <td>USW00023188</td>\n",
       "      <td>SAN DIEGO INTERNATIONAL AIRPORT, CA US</td>\n",
       "      <td>12/29/19</td>\n",
       "      <td>0.0</td>\n",
       "      <td>NaN</td>\n",
       "    </tr>\n",
       "    <tr>\n",
       "      <th>7301</th>\n",
       "      <td>USW00023188</td>\n",
       "      <td>SAN DIEGO INTERNATIONAL AIRPORT, CA US</td>\n",
       "      <td>12/30/19</td>\n",
       "      <td>0.0</td>\n",
       "      <td>NaN</td>\n",
       "    </tr>\n",
       "    <tr>\n",
       "      <th>7302</th>\n",
       "      <td>USW00023188</td>\n",
       "      <td>SAN DIEGO INTERNATIONAL AIRPORT, CA US</td>\n",
       "      <td>12/31/19</td>\n",
       "      <td>0.0</td>\n",
       "      <td>NaN</td>\n",
       "    </tr>\n",
       "  </tbody>\n",
       "</table>\n",
       "</div>"
      ],
      "text/plain": [
       "          STATION                                    NAME      DATE  PRCP  \\\n",
       "7298  USW00023188  SAN DIEGO INTERNATIONAL AIRPORT, CA US  12/27/19   0.0   \n",
       "7299  USW00023188  SAN DIEGO INTERNATIONAL AIRPORT, CA US  12/28/19   0.0   \n",
       "7300  USW00023188  SAN DIEGO INTERNATIONAL AIRPORT, CA US  12/29/19   0.0   \n",
       "7301  USW00023188  SAN DIEGO INTERNATIONAL AIRPORT, CA US  12/30/19   0.0   \n",
       "7302  USW00023188  SAN DIEGO INTERNATIONAL AIRPORT, CA US  12/31/19   0.0   \n",
       "\n",
       "      SNOW  \n",
       "7298   NaN  \n",
       "7299   NaN  \n",
       "7300   NaN  \n",
       "7301   NaN  \n",
       "7302   NaN  "
      ]
     },
     "execution_count": 13,
     "metadata": {},
     "output_type": "execute_result"
    }
   ],
   "source": [
    "weather.tail()"
   ]
  },
  {
   "cell_type": "code",
   "execution_count": 14,
   "metadata": {},
   "outputs": [
    {
     "data": {
      "text/html": [
       "<div>\n",
       "<style scoped>\n",
       "    .dataframe tbody tr th:only-of-type {\n",
       "        vertical-align: middle;\n",
       "    }\n",
       "\n",
       "    .dataframe tbody tr th {\n",
       "        vertical-align: top;\n",
       "    }\n",
       "\n",
       "    .dataframe thead th {\n",
       "        text-align: right;\n",
       "    }\n",
       "</style>\n",
       "<table border=\"1\" class=\"dataframe\">\n",
       "  <thead>\n",
       "    <tr style=\"text-align: right;\">\n",
       "      <th></th>\n",
       "      <th>PRCP</th>\n",
       "      <th>SNOW</th>\n",
       "    </tr>\n",
       "  </thead>\n",
       "  <tbody>\n",
       "    <tr>\n",
       "      <th>count</th>\n",
       "      <td>7303.000000</td>\n",
       "      <td>0.0</td>\n",
       "    </tr>\n",
       "    <tr>\n",
       "      <th>mean</th>\n",
       "      <td>0.044133</td>\n",
       "      <td>NaN</td>\n",
       "    </tr>\n",
       "    <tr>\n",
       "      <th>std</th>\n",
       "      <td>0.193121</td>\n",
       "      <td>NaN</td>\n",
       "    </tr>\n",
       "    <tr>\n",
       "      <th>min</th>\n",
       "      <td>0.000000</td>\n",
       "      <td>NaN</td>\n",
       "    </tr>\n",
       "    <tr>\n",
       "      <th>25%</th>\n",
       "      <td>0.000000</td>\n",
       "      <td>NaN</td>\n",
       "    </tr>\n",
       "    <tr>\n",
       "      <th>50%</th>\n",
       "      <td>0.000000</td>\n",
       "      <td>NaN</td>\n",
       "    </tr>\n",
       "    <tr>\n",
       "      <th>75%</th>\n",
       "      <td>0.000000</td>\n",
       "      <td>NaN</td>\n",
       "    </tr>\n",
       "    <tr>\n",
       "      <th>max</th>\n",
       "      <td>3.150000</td>\n",
       "      <td>NaN</td>\n",
       "    </tr>\n",
       "  </tbody>\n",
       "</table>\n",
       "</div>"
      ],
      "text/plain": [
       "              PRCP  SNOW\n",
       "count  7303.000000   0.0\n",
       "mean      0.044133   NaN\n",
       "std       0.193121   NaN\n",
       "min       0.000000   NaN\n",
       "25%       0.000000   NaN\n",
       "50%       0.000000   NaN\n",
       "75%       0.000000   NaN\n",
       "max       3.150000   NaN"
      ]
     },
     "execution_count": 14,
     "metadata": {},
     "output_type": "execute_result"
    }
   ],
   "source": [
    "# Describe the set and observe it\n",
    "weather.describe()"
   ]
  },
  {
   "cell_type": "code",
   "execution_count": 15,
   "metadata": {},
   "outputs": [
    {
     "data": {
      "text/html": [
       "<div>\n",
       "<style scoped>\n",
       "    .dataframe tbody tr th:only-of-type {\n",
       "        vertical-align: middle;\n",
       "    }\n",
       "\n",
       "    .dataframe tbody tr th {\n",
       "        vertical-align: top;\n",
       "    }\n",
       "\n",
       "    .dataframe thead th {\n",
       "        text-align: right;\n",
       "    }\n",
       "</style>\n",
       "<table border=\"1\" class=\"dataframe\">\n",
       "  <thead>\n",
       "    <tr style=\"text-align: right;\">\n",
       "      <th></th>\n",
       "      <th>CITY</th>\n",
       "      <th>DATE</th>\n",
       "      <th>PRCP_in</th>\n",
       "    </tr>\n",
       "  </thead>\n",
       "  <tbody>\n",
       "    <tr>\n",
       "      <th>0</th>\n",
       "      <td>SAC</td>\n",
       "      <td>1/1/15</td>\n",
       "      <td>0.0</td>\n",
       "    </tr>\n",
       "    <tr>\n",
       "      <th>1</th>\n",
       "      <td>SAC</td>\n",
       "      <td>1/2/15</td>\n",
       "      <td>0.0</td>\n",
       "    </tr>\n",
       "    <tr>\n",
       "      <th>2</th>\n",
       "      <td>SAC</td>\n",
       "      <td>1/3/15</td>\n",
       "      <td>0.0</td>\n",
       "    </tr>\n",
       "    <tr>\n",
       "      <th>3</th>\n",
       "      <td>SAC</td>\n",
       "      <td>1/4/15</td>\n",
       "      <td>0.0</td>\n",
       "    </tr>\n",
       "    <tr>\n",
       "      <th>4</th>\n",
       "      <td>SAC</td>\n",
       "      <td>1/5/15</td>\n",
       "      <td>0.0</td>\n",
       "    </tr>\n",
       "  </tbody>\n",
       "</table>\n",
       "</div>"
      ],
      "text/plain": [
       "  CITY    DATE  PRCP_in\n",
       "0  SAC  1/1/15      0.0\n",
       "1  SAC  1/2/15      0.0\n",
       "2  SAC  1/3/15      0.0\n",
       "3  SAC  1/4/15      0.0\n",
       "4  SAC  1/5/15      0.0"
      ]
     },
     "execution_count": 15,
     "metadata": {},
     "output_type": "execute_result"
    }
   ],
   "source": [
    "# Remove station and snow columns\n",
    "weather = weather.drop(columns=['STATION', 'SNOW'])\n",
    "# Rename 'NAME' column to 'CITY'\n",
    "# Rename 'PRCP' column to 'PRCP(in)'\n",
    "weather = weather.rename({'NAME': 'CITY', 'PRCP': 'PRCP_in'}, axis='columns')\n",
    "# Rename locations to just say the city\n",
    "weather = weather.replace(['SACRAMENTO AIRPORT ASOS, CA US', 'SAN DIEGO INTERNATIONAL AIRPORT, CA US', 'SAN FRANCISCO DOWNTOWN, CA US', 'LOS ANGELES DOWNTOWN USC, CA US'], ['SAC', 'SD', 'SF', 'LA'])\n",
    "\n",
    "# Look at it now\n",
    "weather.head()"
   ]
  },
  {
   "cell_type": "code",
   "execution_count": 16,
   "metadata": {},
   "outputs": [
    {
     "data": {
      "text/html": [
       "<div>\n",
       "<style scoped>\n",
       "    .dataframe tbody tr th:only-of-type {\n",
       "        vertical-align: middle;\n",
       "    }\n",
       "\n",
       "    .dataframe tbody tr th {\n",
       "        vertical-align: top;\n",
       "    }\n",
       "\n",
       "    .dataframe thead th {\n",
       "        text-align: right;\n",
       "    }\n",
       "</style>\n",
       "<table border=\"1\" class=\"dataframe\">\n",
       "  <thead>\n",
       "    <tr style=\"text-align: right;\">\n",
       "      <th></th>\n",
       "      <th>CITY</th>\n",
       "      <th>DATE</th>\n",
       "      <th>PRCP_in</th>\n",
       "    </tr>\n",
       "  </thead>\n",
       "  <tbody>\n",
       "    <tr>\n",
       "      <th>0</th>\n",
       "      <td>SAC</td>\n",
       "      <td>2015-01-01</td>\n",
       "      <td>0.0</td>\n",
       "    </tr>\n",
       "    <tr>\n",
       "      <th>1</th>\n",
       "      <td>SAC</td>\n",
       "      <td>2015-02-01</td>\n",
       "      <td>0.0</td>\n",
       "    </tr>\n",
       "    <tr>\n",
       "      <th>2</th>\n",
       "      <td>SAC</td>\n",
       "      <td>2015-03-01</td>\n",
       "      <td>0.0</td>\n",
       "    </tr>\n",
       "    <tr>\n",
       "      <th>3</th>\n",
       "      <td>SAC</td>\n",
       "      <td>2015-04-01</td>\n",
       "      <td>0.0</td>\n",
       "    </tr>\n",
       "    <tr>\n",
       "      <th>4</th>\n",
       "      <td>SAC</td>\n",
       "      <td>2015-05-01</td>\n",
       "      <td>0.0</td>\n",
       "    </tr>\n",
       "  </tbody>\n",
       "</table>\n",
       "</div>"
      ],
      "text/plain": [
       "  CITY       DATE  PRCP_in\n",
       "0  SAC 2015-01-01      0.0\n",
       "1  SAC 2015-02-01      0.0\n",
       "2  SAC 2015-03-01      0.0\n",
       "3  SAC 2015-04-01      0.0\n",
       "4  SAC 2015-05-01      0.0"
      ]
     },
     "execution_count": 16,
     "metadata": {},
     "output_type": "execute_result"
    }
   ],
   "source": [
    "# Changing date to default datetime format\n",
    "weather['DATE'] = pd.to_datetime(weather['DATE'], dayfirst=True)\n",
    "weather.head()"
   ]
  },
  {
   "cell_type": "code",
   "execution_count": 17,
   "metadata": {},
   "outputs": [
    {
     "data": {
      "text/html": [
       "<div>\n",
       "<style scoped>\n",
       "    .dataframe tbody tr th:only-of-type {\n",
       "        vertical-align: middle;\n",
       "    }\n",
       "\n",
       "    .dataframe tbody tr th {\n",
       "        vertical-align: top;\n",
       "    }\n",
       "\n",
       "    .dataframe thead th {\n",
       "        text-align: right;\n",
       "    }\n",
       "</style>\n",
       "<table border=\"1\" class=\"dataframe\">\n",
       "  <thead>\n",
       "    <tr style=\"text-align: right;\">\n",
       "      <th></th>\n",
       "      <th>CITY</th>\n",
       "      <th>DATE</th>\n",
       "      <th>PRCP_in</th>\n",
       "    </tr>\n",
       "  </thead>\n",
       "  <tbody>\n",
       "    <tr>\n",
       "      <th>1826</th>\n",
       "      <td>SF</td>\n",
       "      <td>2015-01-01</td>\n",
       "      <td>0.00</td>\n",
       "    </tr>\n",
       "    <tr>\n",
       "      <th>1827</th>\n",
       "      <td>SF</td>\n",
       "      <td>2015-02-01</td>\n",
       "      <td>0.00</td>\n",
       "    </tr>\n",
       "    <tr>\n",
       "      <th>1828</th>\n",
       "      <td>SF</td>\n",
       "      <td>2015-03-01</td>\n",
       "      <td>0.00</td>\n",
       "    </tr>\n",
       "    <tr>\n",
       "      <th>1829</th>\n",
       "      <td>SF</td>\n",
       "      <td>2015-04-01</td>\n",
       "      <td>0.00</td>\n",
       "    </tr>\n",
       "    <tr>\n",
       "      <th>1830</th>\n",
       "      <td>SF</td>\n",
       "      <td>2015-05-01</td>\n",
       "      <td>0.00</td>\n",
       "    </tr>\n",
       "    <tr>\n",
       "      <th>...</th>\n",
       "      <td>...</td>\n",
       "      <td>...</td>\n",
       "      <td>...</td>\n",
       "    </tr>\n",
       "    <tr>\n",
       "      <th>3646</th>\n",
       "      <td>SF</td>\n",
       "      <td>2019-12-27</td>\n",
       "      <td>0.00</td>\n",
       "    </tr>\n",
       "    <tr>\n",
       "      <th>3647</th>\n",
       "      <td>SF</td>\n",
       "      <td>2019-12-28</td>\n",
       "      <td>0.00</td>\n",
       "    </tr>\n",
       "    <tr>\n",
       "      <th>3648</th>\n",
       "      <td>SF</td>\n",
       "      <td>2019-12-29</td>\n",
       "      <td>0.51</td>\n",
       "    </tr>\n",
       "    <tr>\n",
       "      <th>3649</th>\n",
       "      <td>SF</td>\n",
       "      <td>2019-12-30</td>\n",
       "      <td>0.01</td>\n",
       "    </tr>\n",
       "    <tr>\n",
       "      <th>3650</th>\n",
       "      <td>SF</td>\n",
       "      <td>2019-12-31</td>\n",
       "      <td>0.00</td>\n",
       "    </tr>\n",
       "  </tbody>\n",
       "</table>\n",
       "<p>1825 rows × 3 columns</p>\n",
       "</div>"
      ],
      "text/plain": [
       "     CITY       DATE  PRCP_in\n",
       "1826   SF 2015-01-01     0.00\n",
       "1827   SF 2015-02-01     0.00\n",
       "1828   SF 2015-03-01     0.00\n",
       "1829   SF 2015-04-01     0.00\n",
       "1830   SF 2015-05-01     0.00\n",
       "...   ...        ...      ...\n",
       "3646   SF 2019-12-27     0.00\n",
       "3647   SF 2019-12-28     0.00\n",
       "3648   SF 2019-12-29     0.51\n",
       "3649   SF 2019-12-30     0.01\n",
       "3650   SF 2019-12-31     0.00\n",
       "\n",
       "[1825 rows x 3 columns]"
      ]
     },
     "execution_count": 17,
     "metadata": {},
     "output_type": "execute_result"
    }
   ],
   "source": [
    "# Splitting up the weather dataset into 4 separate dfs by city\n",
    "laweather=weather.loc[weather['CITY'] == 'LA']\n",
    "sdweather=weather.loc[weather['CITY'] == 'SD']\n",
    "scweather=weather.loc[weather['CITY'] == 'SAC']\n",
    "sfweather=weather.loc[weather['CITY'] == 'SF']\n",
    "\n",
    "sfweather"
   ]
  },
  {
   "cell_type": "code",
   "execution_count": 18,
   "metadata": {},
   "outputs": [
    {
     "data": {
      "text/html": [
       "<div>\n",
       "<style scoped>\n",
       "    .dataframe tbody tr th:only-of-type {\n",
       "        vertical-align: middle;\n",
       "    }\n",
       "\n",
       "    .dataframe tbody tr th {\n",
       "        vertical-align: top;\n",
       "    }\n",
       "\n",
       "    .dataframe thead th {\n",
       "        text-align: right;\n",
       "    }\n",
       "</style>\n",
       "<table border=\"1\" class=\"dataframe\">\n",
       "  <thead>\n",
       "    <tr style=\"text-align: right;\">\n",
       "      <th></th>\n",
       "      <th>CITY</th>\n",
       "      <th>DATE</th>\n",
       "      <th>PRCP_in</th>\n",
       "      <th>WEATHER</th>\n",
       "      <th>COLLISION_COUNT</th>\n",
       "    </tr>\n",
       "  </thead>\n",
       "  <tbody>\n",
       "    <tr>\n",
       "      <th>0</th>\n",
       "      <td>LA</td>\n",
       "      <td>2015-01-01</td>\n",
       "      <td>0.0</td>\n",
       "      <td>Clear</td>\n",
       "      <td>98</td>\n",
       "    </tr>\n",
       "    <tr>\n",
       "      <th>1</th>\n",
       "      <td>LA</td>\n",
       "      <td>2015-02-01</td>\n",
       "      <td>0.0</td>\n",
       "      <td>Clear</td>\n",
       "      <td>89</td>\n",
       "    </tr>\n",
       "    <tr>\n",
       "      <th>2</th>\n",
       "      <td>LA</td>\n",
       "      <td>2015-03-01</td>\n",
       "      <td>0.0</td>\n",
       "      <td>Rain</td>\n",
       "      <td>109</td>\n",
       "    </tr>\n",
       "    <tr>\n",
       "      <th>3</th>\n",
       "      <td>LA</td>\n",
       "      <td>2015-04-01</td>\n",
       "      <td>0.0</td>\n",
       "      <td>Clear</td>\n",
       "      <td>117</td>\n",
       "    </tr>\n",
       "    <tr>\n",
       "      <th>4</th>\n",
       "      <td>LA</td>\n",
       "      <td>2015-05-01</td>\n",
       "      <td>0.0</td>\n",
       "      <td>Clear</td>\n",
       "      <td>110</td>\n",
       "    </tr>\n",
       "    <tr>\n",
       "      <th>...</th>\n",
       "      <td>...</td>\n",
       "      <td>...</td>\n",
       "      <td>...</td>\n",
       "      <td>...</td>\n",
       "      <td>...</td>\n",
       "    </tr>\n",
       "    <tr>\n",
       "      <th>1821</th>\n",
       "      <td>LA</td>\n",
       "      <td>2019-12-27</td>\n",
       "      <td>0.0</td>\n",
       "      <td>Clear</td>\n",
       "      <td>79</td>\n",
       "    </tr>\n",
       "    <tr>\n",
       "      <th>1822</th>\n",
       "      <td>LA</td>\n",
       "      <td>2019-12-28</td>\n",
       "      <td>0.0</td>\n",
       "      <td>Cloudy</td>\n",
       "      <td>62</td>\n",
       "    </tr>\n",
       "    <tr>\n",
       "      <th>1823</th>\n",
       "      <td>LA</td>\n",
       "      <td>2019-12-29</td>\n",
       "      <td>0.0</td>\n",
       "      <td>Clear</td>\n",
       "      <td>87</td>\n",
       "    </tr>\n",
       "    <tr>\n",
       "      <th>1824</th>\n",
       "      <td>LA</td>\n",
       "      <td>2019-12-30</td>\n",
       "      <td>0.0</td>\n",
       "      <td>Clear</td>\n",
       "      <td>74</td>\n",
       "    </tr>\n",
       "    <tr>\n",
       "      <th>1825</th>\n",
       "      <td>LA</td>\n",
       "      <td>2019-12-31</td>\n",
       "      <td>0.0</td>\n",
       "      <td>Clear</td>\n",
       "      <td>83</td>\n",
       "    </tr>\n",
       "  </tbody>\n",
       "</table>\n",
       "<p>1826 rows × 5 columns</p>\n",
       "</div>"
      ],
      "text/plain": [
       "     CITY       DATE  PRCP_in WEATHER  COLLISION_COUNT\n",
       "0      LA 2015-01-01      0.0   Clear               98\n",
       "1      LA 2015-02-01      0.0   Clear               89\n",
       "2      LA 2015-03-01      0.0    Rain              109\n",
       "3      LA 2015-04-01      0.0   Clear              117\n",
       "4      LA 2015-05-01      0.0   Clear              110\n",
       "...   ...        ...      ...     ...              ...\n",
       "1821   LA 2019-12-27      0.0   Clear               79\n",
       "1822   LA 2019-12-28      0.0  Cloudy               62\n",
       "1823   LA 2019-12-29      0.0   Clear               87\n",
       "1824   LA 2019-12-30      0.0   Clear               74\n",
       "1825   LA 2019-12-31      0.0   Clear               83\n",
       "\n",
       "[1826 rows x 5 columns]"
      ]
     },
     "execution_count": 18,
     "metadata": {},
     "output_type": "execute_result"
    }
   ],
   "source": [
    "# Now merging each city's weather data with the collision data, using the date as the intersection/on\n",
    "ladf = laweather.merge(laCrashDf, on='DATE')\n",
    "sddf = sdweather.merge(sdCrashDf, on='DATE')\n",
    "scdf = scweather.merge(scCrashDf, on='DATE')\n",
    "sfdf = sfweather.merge(sfCrashDf, on='DATE')\n",
    "ladf"
   ]
  },
  {
   "cell_type": "code",
   "execution_count": 19,
   "metadata": {},
   "outputs": [
    {
     "data": {
      "text/html": [
       "<div>\n",
       "<style scoped>\n",
       "    .dataframe tbody tr th:only-of-type {\n",
       "        vertical-align: middle;\n",
       "    }\n",
       "\n",
       "    .dataframe tbody tr th {\n",
       "        vertical-align: top;\n",
       "    }\n",
       "\n",
       "    .dataframe thead th {\n",
       "        text-align: right;\n",
       "    }\n",
       "</style>\n",
       "<table border=\"1\" class=\"dataframe\">\n",
       "  <thead>\n",
       "    <tr style=\"text-align: right;\">\n",
       "      <th></th>\n",
       "      <th>CITY</th>\n",
       "      <th>DATE</th>\n",
       "      <th>PRCP_in</th>\n",
       "      <th>WEATHER</th>\n",
       "      <th>COLLISION_COUNT</th>\n",
       "    </tr>\n",
       "  </thead>\n",
       "  <tbody>\n",
       "    <tr>\n",
       "      <th>0</th>\n",
       "      <td>LA</td>\n",
       "      <td>2015-01-01</td>\n",
       "      <td>0.00</td>\n",
       "      <td>Clear</td>\n",
       "      <td>98</td>\n",
       "    </tr>\n",
       "    <tr>\n",
       "      <th>1</th>\n",
       "      <td>LA</td>\n",
       "      <td>2015-02-01</td>\n",
       "      <td>0.00</td>\n",
       "      <td>Clear</td>\n",
       "      <td>89</td>\n",
       "    </tr>\n",
       "    <tr>\n",
       "      <th>2</th>\n",
       "      <td>LA</td>\n",
       "      <td>2015-03-01</td>\n",
       "      <td>0.00</td>\n",
       "      <td>Rain</td>\n",
       "      <td>109</td>\n",
       "    </tr>\n",
       "    <tr>\n",
       "      <th>3</th>\n",
       "      <td>LA</td>\n",
       "      <td>2015-04-01</td>\n",
       "      <td>0.00</td>\n",
       "      <td>Clear</td>\n",
       "      <td>117</td>\n",
       "    </tr>\n",
       "    <tr>\n",
       "      <th>4</th>\n",
       "      <td>LA</td>\n",
       "      <td>2015-05-01</td>\n",
       "      <td>0.00</td>\n",
       "      <td>Clear</td>\n",
       "      <td>110</td>\n",
       "    </tr>\n",
       "    <tr>\n",
       "      <th>...</th>\n",
       "      <td>...</td>\n",
       "      <td>...</td>\n",
       "      <td>...</td>\n",
       "      <td>...</td>\n",
       "      <td>...</td>\n",
       "    </tr>\n",
       "    <tr>\n",
       "      <th>1820</th>\n",
       "      <td>SF</td>\n",
       "      <td>2019-12-27</td>\n",
       "      <td>0.00</td>\n",
       "      <td>Clear</td>\n",
       "      <td>12</td>\n",
       "    </tr>\n",
       "    <tr>\n",
       "      <th>1821</th>\n",
       "      <td>SF</td>\n",
       "      <td>2019-12-28</td>\n",
       "      <td>0.00</td>\n",
       "      <td>Clear</td>\n",
       "      <td>18</td>\n",
       "    </tr>\n",
       "    <tr>\n",
       "      <th>1822</th>\n",
       "      <td>SF</td>\n",
       "      <td>2019-12-29</td>\n",
       "      <td>0.51</td>\n",
       "      <td>Rain</td>\n",
       "      <td>10</td>\n",
       "    </tr>\n",
       "    <tr>\n",
       "      <th>1823</th>\n",
       "      <td>SF</td>\n",
       "      <td>2019-12-30</td>\n",
       "      <td>0.01</td>\n",
       "      <td>Clear</td>\n",
       "      <td>11</td>\n",
       "    </tr>\n",
       "    <tr>\n",
       "      <th>1824</th>\n",
       "      <td>SF</td>\n",
       "      <td>2019-12-31</td>\n",
       "      <td>0.00</td>\n",
       "      <td>Clear</td>\n",
       "      <td>11</td>\n",
       "    </tr>\n",
       "  </tbody>\n",
       "</table>\n",
       "<p>7302 rows × 5 columns</p>\n",
       "</div>"
      ],
      "text/plain": [
       "     CITY       DATE  PRCP_in WEATHER  COLLISION_COUNT\n",
       "0      LA 2015-01-01     0.00   Clear               98\n",
       "1      LA 2015-02-01     0.00   Clear               89\n",
       "2      LA 2015-03-01     0.00    Rain              109\n",
       "3      LA 2015-04-01     0.00   Clear              117\n",
       "4      LA 2015-05-01     0.00   Clear              110\n",
       "...   ...        ...      ...     ...              ...\n",
       "1820   SF 2019-12-27     0.00   Clear               12\n",
       "1821   SF 2019-12-28     0.00   Clear               18\n",
       "1822   SF 2019-12-29     0.51    Rain               10\n",
       "1823   SF 2019-12-30     0.01   Clear               11\n",
       "1824   SF 2019-12-31     0.00   Clear               11\n",
       "\n",
       "[7302 rows x 5 columns]"
      ]
     },
     "execution_count": 19,
     "metadata": {},
     "output_type": "execute_result"
    }
   ],
   "source": [
    "# Lastly, combine all 4 cities into one dataframe for EDA\n",
    "fullList = [ladf, sddf, scdf,  sfdf]\n",
    "weatherCrashDf = pd.concat(fullList)\n",
    "weatherCrashDf"
   ]
  },
  {
   "cell_type": "markdown",
   "metadata": {},
   "source": [
    "# Data Analysis & Results (EDA)"
   ]
  },
  {
   "cell_type": "code",
   "execution_count": 20,
   "metadata": {},
   "outputs": [
    {
     "data": {
      "text/html": [
       "<div>\n",
       "<style scoped>\n",
       "    .dataframe tbody tr th:only-of-type {\n",
       "        vertical-align: middle;\n",
       "    }\n",
       "\n",
       "    .dataframe tbody tr th {\n",
       "        vertical-align: top;\n",
       "    }\n",
       "\n",
       "    .dataframe thead th {\n",
       "        text-align: right;\n",
       "    }\n",
       "</style>\n",
       "<table border=\"1\" class=\"dataframe\">\n",
       "  <thead>\n",
       "    <tr style=\"text-align: right;\">\n",
       "      <th></th>\n",
       "      <th>PRCP_in</th>\n",
       "      <th>COLLISION_COUNT</th>\n",
       "    </tr>\n",
       "  </thead>\n",
       "  <tbody>\n",
       "    <tr>\n",
       "      <th>count</th>\n",
       "      <td>7302.000000</td>\n",
       "      <td>7302.000000</td>\n",
       "    </tr>\n",
       "    <tr>\n",
       "      <th>mean</th>\n",
       "      <td>0.044139</td>\n",
       "      <td>34.661052</td>\n",
       "    </tr>\n",
       "    <tr>\n",
       "      <th>std</th>\n",
       "      <td>0.193134</td>\n",
       "      <td>41.292941</td>\n",
       "    </tr>\n",
       "    <tr>\n",
       "      <th>min</th>\n",
       "      <td>0.000000</td>\n",
       "      <td>1.000000</td>\n",
       "    </tr>\n",
       "    <tr>\n",
       "      <th>25%</th>\n",
       "      <td>0.000000</td>\n",
       "      <td>9.000000</td>\n",
       "    </tr>\n",
       "    <tr>\n",
       "      <th>50%</th>\n",
       "      <td>0.000000</td>\n",
       "      <td>13.000000</td>\n",
       "    </tr>\n",
       "    <tr>\n",
       "      <th>75%</th>\n",
       "      <td>0.000000</td>\n",
       "      <td>47.750000</td>\n",
       "    </tr>\n",
       "    <tr>\n",
       "      <th>max</th>\n",
       "      <td>3.150000</td>\n",
       "      <td>161.000000</td>\n",
       "    </tr>\n",
       "  </tbody>\n",
       "</table>\n",
       "</div>"
      ],
      "text/plain": [
       "           PRCP_in  COLLISION_COUNT\n",
       "count  7302.000000      7302.000000\n",
       "mean      0.044139        34.661052\n",
       "std       0.193134        41.292941\n",
       "min       0.000000         1.000000\n",
       "25%       0.000000         9.000000\n",
       "50%       0.000000        13.000000\n",
       "75%       0.000000        47.750000\n",
       "max       3.150000       161.000000"
      ]
     },
     "execution_count": 20,
     "metadata": {},
     "output_type": "execute_result"
    }
   ],
   "source": [
    "# Let's look at the statistics of our precipitation and collision count columns\n",
    "weatherCrashDf.describe()"
   ]
  },
  {
   "cell_type": "code",
   "execution_count": 21,
   "metadata": {},
   "outputs": [
    {
     "data": {
      "text/html": [
       "<div>\n",
       "<style scoped>\n",
       "    .dataframe tbody tr th:only-of-type {\n",
       "        vertical-align: middle;\n",
       "    }\n",
       "\n",
       "    .dataframe tbody tr th {\n",
       "        vertical-align: top;\n",
       "    }\n",
       "\n",
       "    .dataframe thead th {\n",
       "        text-align: right;\n",
       "    }\n",
       "</style>\n",
       "<table border=\"1\" class=\"dataframe\">\n",
       "  <thead>\n",
       "    <tr style=\"text-align: right;\">\n",
       "      <th></th>\n",
       "      <th>CITY</th>\n",
       "      <th>DATE</th>\n",
       "      <th>PRCP_in</th>\n",
       "      <th>WEATHER</th>\n",
       "      <th>COLLISION_COUNT</th>\n",
       "    </tr>\n",
       "  </thead>\n",
       "  <tbody>\n",
       "    <tr>\n",
       "      <th>0</th>\n",
       "      <td>LA</td>\n",
       "      <td>2015-01-01</td>\n",
       "      <td>0.00</td>\n",
       "      <td>Clear</td>\n",
       "      <td>98</td>\n",
       "    </tr>\n",
       "    <tr>\n",
       "      <th>1</th>\n",
       "      <td>LA</td>\n",
       "      <td>2015-02-01</td>\n",
       "      <td>0.00</td>\n",
       "      <td>Clear</td>\n",
       "      <td>89</td>\n",
       "    </tr>\n",
       "    <tr>\n",
       "      <th>2</th>\n",
       "      <td>LA</td>\n",
       "      <td>2015-03-01</td>\n",
       "      <td>0.00</td>\n",
       "      <td>Rain</td>\n",
       "      <td>109</td>\n",
       "    </tr>\n",
       "    <tr>\n",
       "      <th>3</th>\n",
       "      <td>LA</td>\n",
       "      <td>2015-04-01</td>\n",
       "      <td>0.00</td>\n",
       "      <td>Clear</td>\n",
       "      <td>117</td>\n",
       "    </tr>\n",
       "    <tr>\n",
       "      <th>4</th>\n",
       "      <td>LA</td>\n",
       "      <td>2015-05-01</td>\n",
       "      <td>0.00</td>\n",
       "      <td>Clear</td>\n",
       "      <td>110</td>\n",
       "    </tr>\n",
       "    <tr>\n",
       "      <th>...</th>\n",
       "      <td>...</td>\n",
       "      <td>...</td>\n",
       "      <td>...</td>\n",
       "      <td>...</td>\n",
       "      <td>...</td>\n",
       "    </tr>\n",
       "    <tr>\n",
       "      <th>1820</th>\n",
       "      <td>SF</td>\n",
       "      <td>2019-12-27</td>\n",
       "      <td>0.00</td>\n",
       "      <td>Clear</td>\n",
       "      <td>12</td>\n",
       "    </tr>\n",
       "    <tr>\n",
       "      <th>1821</th>\n",
       "      <td>SF</td>\n",
       "      <td>2019-12-28</td>\n",
       "      <td>0.00</td>\n",
       "      <td>Clear</td>\n",
       "      <td>18</td>\n",
       "    </tr>\n",
       "    <tr>\n",
       "      <th>1822</th>\n",
       "      <td>SF</td>\n",
       "      <td>2019-12-29</td>\n",
       "      <td>0.51</td>\n",
       "      <td>Rain</td>\n",
       "      <td>10</td>\n",
       "    </tr>\n",
       "    <tr>\n",
       "      <th>1823</th>\n",
       "      <td>SF</td>\n",
       "      <td>2019-12-30</td>\n",
       "      <td>0.01</td>\n",
       "      <td>Clear</td>\n",
       "      <td>11</td>\n",
       "    </tr>\n",
       "    <tr>\n",
       "      <th>1824</th>\n",
       "      <td>SF</td>\n",
       "      <td>2019-12-31</td>\n",
       "      <td>0.00</td>\n",
       "      <td>Clear</td>\n",
       "      <td>11</td>\n",
       "    </tr>\n",
       "  </tbody>\n",
       "</table>\n",
       "<p>7182 rows × 5 columns</p>\n",
       "</div>"
      ],
      "text/plain": [
       "     CITY       DATE  PRCP_in WEATHER  COLLISION_COUNT\n",
       "0      LA 2015-01-01     0.00   Clear               98\n",
       "1      LA 2015-02-01     0.00   Clear               89\n",
       "2      LA 2015-03-01     0.00    Rain              109\n",
       "3      LA 2015-04-01     0.00   Clear              117\n",
       "4      LA 2015-05-01     0.00   Clear              110\n",
       "...   ...        ...      ...     ...              ...\n",
       "1820   SF 2019-12-27     0.00   Clear               12\n",
       "1821   SF 2019-12-28     0.00   Clear               18\n",
       "1822   SF 2019-12-29     0.51    Rain               10\n",
       "1823   SF 2019-12-30     0.01   Clear               11\n",
       "1824   SF 2019-12-31     0.00   Clear               11\n",
       "\n",
       "[7182 rows x 5 columns]"
      ]
     },
     "execution_count": 21,
     "metadata": {},
     "output_type": "execute_result"
    }
   ],
   "source": [
    "# We really only care about the days where the weather was either clear, cloudy, or raining\n",
    "# Including cloudy because cities have a great number of crashes on a dry, cloudy day, so we don't want to omit it\n",
    "weatherCrashDf = weatherCrashDf[(weatherCrashDf['WEATHER'] == 'Clear') | (weatherCrashDf['WEATHER'] == 'Cloudy') | (weatherCrashDf['WEATHER'] == 'Rain')]\n",
    "\n",
    "weatherCrashDf"
   ]
  },
  {
   "cell_type": "markdown",
   "metadata": {},
   "source": [
    "Since our claim is that the Northern Cities drive better in the rain because they are more experienced with rainy days, we want to show that rain occurs more in Sacramento and San Francisco than Los Angeles and San Diego."
   ]
  },
  {
   "cell_type": "code",
   "execution_count": 22,
   "metadata": {},
   "outputs": [
    {
     "data": {
      "text/plain": [
       "Clear     1629\n",
       "Cloudy     137\n",
       "Rain        50\n",
       "Name: WEATHER, dtype: int64"
      ]
     },
     "execution_count": 22,
     "metadata": {},
     "output_type": "execute_result"
    }
   ],
   "source": [
    "# Look at the amount of clear vs cloudy vs raining days for each city\n",
    "laWeather_counts = weatherCrashDf[weatherCrashDf['CITY'] == 'LA']['WEATHER'].value_counts()\n",
    "laWeather_counts"
   ]
  },
  {
   "cell_type": "code",
   "execution_count": 23,
   "metadata": {},
   "outputs": [
    {
     "data": {
      "text/plain": [
       "Clear     1493\n",
       "Cloudy     259\n",
       "Rain        35\n",
       "Name: WEATHER, dtype: int64"
      ]
     },
     "execution_count": 23,
     "metadata": {},
     "output_type": "execute_result"
    }
   ],
   "source": [
    "sdWeather_counts = weatherCrashDf[weatherCrashDf['CITY'] == 'SD']['WEATHER'].value_counts()\n",
    "sdWeather_counts"
   ]
  },
  {
   "cell_type": "code",
   "execution_count": 24,
   "metadata": {},
   "outputs": [
    {
     "data": {
      "text/plain": [
       "Clear     1568\n",
       "Cloudy     151\n",
       "Rain        82\n",
       "Name: WEATHER, dtype: int64"
      ]
     },
     "execution_count": 24,
     "metadata": {},
     "output_type": "execute_result"
    }
   ],
   "source": [
    "scWeather_counts = weatherCrashDf[weatherCrashDf['CITY'] == 'SAC']['WEATHER'].value_counts()\n",
    "scWeather_counts"
   ]
  },
  {
   "cell_type": "code",
   "execution_count": 25,
   "metadata": {},
   "outputs": [
    {
     "data": {
      "text/plain": [
       "Clear     1492\n",
       "Cloudy     181\n",
       "Rain       105\n",
       "Name: WEATHER, dtype: int64"
      ]
     },
     "execution_count": 25,
     "metadata": {},
     "output_type": "execute_result"
    }
   ],
   "source": [
    "sfWeather_counts = weatherCrashDf[weatherCrashDf['CITY'] == 'SF']['WEATHER'].value_counts()\n",
    "sfWeather_counts"
   ]
  },
  {
   "cell_type": "code",
   "execution_count": 26,
   "metadata": {},
   "outputs": [
    {
     "data": {
      "image/png": "[encoded data removed]",
      "text/plain": [
       "<Figure size 432x288 with 1 Axes>"
      ]
     },
     "metadata": {
      "needs_background": "light"
     },
     "output_type": "display_data"
    }
   ],
   "source": [
    "# Visualizing the amount of rainy days in each city\n",
    "# Looking to prove that the Northern cities have more rain that the South\n",
    "\n",
    "sns.countplot(x='CITY', data=weatherCrashDf[weatherCrashDf['WEATHER'] == 'Rain']).set_title('Number of Rainy Days in California Cities (2015-2019)');\n",
    "\n",
    "f2 = plt.gcf()"
   ]
  },
  {
   "cell_type": "markdown",
   "metadata": {},
   "source": [
    "Validating our assumption, there are far more rainy days in the Northern cities versus the Southern cities, about twice as much. We can also see from that value counts that San Diego actually has the most cloudy days, even more than San Francisco. Since we are only considering the increase of crashes on raining days, we will consider clear and cloudy days as normal dry/non-raining days so that we could compare it to the raining days. Therefore, let's change 'clear' and 'cloudy' to 'Dry'."
   ]
  },
  {
   "cell_type": "code",
   "execution_count": 27,
   "metadata": {},
   "outputs": [],
   "source": [
    "weatherCrashDf['WEATHER'] = weatherCrashDf['WEATHER'].replace({'Clear': 'Dry', 'Cloudy': 'Dry'})"
   ]
  },
  {
   "cell_type": "code",
   "execution_count": 28,
   "metadata": {},
   "outputs": [
    {
     "data": {
      "text/plain": [
       "Dry     6910\n",
       "Rain     272\n",
       "Name: WEATHER, dtype: int64"
      ]
     },
     "execution_count": 28,
     "metadata": {},
     "output_type": "execute_result"
    }
   ],
   "source": [
    "weatherCrashDf['WEATHER'].value_counts()"
   ]
  },
  {
   "cell_type": "markdown",
   "metadata": {},
   "source": [
    "Now that we have determined there are more raining days in the Northern cities vs the South, we must now create visuals to compare the amount of crashes on dry vs rainy days. We will approach this using histograms."
   ]
  },
  {
   "cell_type": "markdown",
   "metadata": {},
   "source": [
    "# Los Angeles"
   ]
  },
  {
   "cell_type": "code",
   "execution_count": 29,
   "metadata": {},
   "outputs": [
    {
     "data": {
      "image/png": "[encoded data removed]",
      "text/plain": [
       "<Figure size 432x288 with 1 Axes>"
      ]
     },
     "metadata": {
      "needs_background": "light"
     },
     "output_type": "display_data"
    }
   ],
   "source": [
    "ladf          = weatherCrashDf.loc[weatherCrashDf['CITY'] == 'LA']\n",
    "laDryCrashes  = ladf.loc[ladf['WEATHER'] == 'Dry']\n",
    "laRainCrashes = ladf.loc[ladf['WEATHER'] == 'Rain']\n",
    "\n",
    "# Rain and dry day distributions\n",
    "bins = np.linspace(50, 170, 100)\n",
    "\n",
    "plt.hist([laRainCrashes['COLLISION_COUNT'],laDryCrashes['COLLISION_COUNT']], bins, label=['Rainy Days', 'Dry Days'])\n",
    "plt.legend(loc='upper right')\n",
    "plt.title(\"LA Crashes on Dry vs Rainy Days (2015-2019)\")\n",
    "plt.xlabel(\"Number of Crashes\")\n",
    "plt.ylabel(\"Frequency\")\n",
    "plt.show()"
   ]
  },
  {
   "cell_type": "markdown",
   "metadata": {},
   "source": [
    "# San Diego"
   ]
  },
  {
   "cell_type": "code",
   "execution_count": 30,
   "metadata": {},
   "outputs": [
    {
     "data": {
      "image/png": "[encoded data removed]",
      "text/plain": [
       "<Figure size 432x288 with 1 Axes>"
      ]
     },
     "metadata": {
      "needs_background": "light"
     },
     "output_type": "display_data"
    }
   ],
   "source": [
    "sddf          = weatherCrashDf.loc[weatherCrashDf['CITY'] == 'SD']\n",
    "sdDryCrashes  = sddf.loc[sddf['WEATHER'] == 'Dry']\n",
    "sdRainCrashes = sddf.loc[sddf['WEATHER'] == 'Rain']\n",
    "\n",
    "# Rain and dry day distributions \n",
    "bins = np.linspace(0, 40, 100)\n",
    "\n",
    "plt.hist([sdRainCrashes['COLLISION_COUNT'], sdDryCrashes['COLLISION_COUNT']], bins, label=['Rainy Days', 'Dry Days'])\n",
    "plt.legend(loc='upper right')\n",
    "plt.title(\"SD Crashes on Dry vs Rainy Days (2015-2019)\")\n",
    "plt.xlabel(\"Number of Crashes\")\n",
    "plt.ylabel(\"Frequency\")\n",
    "plt.show()"
   ]
  },
  {
   "cell_type": "markdown",
   "metadata": {},
   "source": [
    "# Sacramento"
   ]
  },
  {
   "cell_type": "code",
   "execution_count": 31,
   "metadata": {},
   "outputs": [
    {
     "data": {
      "image/png": "[encoded data removed]",
      "text/plain": [
       "<Figure size 432x288 with 1 Axes>"
      ]
     },
     "metadata": {
      "needs_background": "light"
     },
     "output_type": "display_data"
    }
   ],
   "source": [
    "scdf          = weatherCrashDf.loc[weatherCrashDf['CITY'] == 'SAC']\n",
    "scDryCrashes  = scdf.loc[scdf['WEATHER'] == 'Dry']\n",
    "scRainCrashes = scdf.loc[scdf['WEATHER'] == 'Rain']\n",
    "\n",
    "# Rain and dry day distributions\n",
    "bins = np.linspace(0, 40, 100)\n",
    "\n",
    "plt.hist([scRainCrashes['COLLISION_COUNT'], scDryCrashes['COLLISION_COUNT']], bins, label=['Rainy Days', 'Dry Days'])\n",
    "plt.legend(loc='upper right')\n",
    "plt.title(\"SAC Crashes on Dry vs Rainy Days (2015-2019)\")\n",
    "plt.xlabel(\"Number of Crashes\")\n",
    "plt.ylabel(\"Frequency\")\n",
    "plt.show()"
   ]
  },
  {
   "cell_type": "markdown",
   "metadata": {},
   "source": [
    "# San Francisco"
   ]
  },
  {
   "cell_type": "code",
   "execution_count": 32,
   "metadata": {},
   "outputs": [
    {
     "data": {
      "image/png": "[encoded data removed]",
      "text/plain": [
       "<Figure size 432x288 with 1 Axes>"
      ]
     },
     "metadata": {
      "needs_background": "light"
     },
     "output_type": "display_data"
    }
   ],
   "source": [
    "sfdf          = weatherCrashDf.loc[weatherCrashDf['CITY'] == 'SF']\n",
    "sfDryCrashes  = sfdf.loc[sfdf['WEATHER'] == 'Dry']\n",
    "sfRainCrashes = sfdf.loc[sfdf['WEATHER'] == 'Rain']\n",
    "\n",
    "# Rain and dry day distributions\n",
    "bins = np.linspace(0, 40, 100)\n",
    "\n",
    "plt.hist([sfRainCrashes['COLLISION_COUNT'], sfDryCrashes['COLLISION_COUNT']], bins, label=['Rainy Days', 'Dry Days'])\n",
    "plt.legend(loc='upper right')\n",
    "plt.title(\"SF Crashes on Dry vs Rainy Days (2015-2019)\")\n",
    "plt.xlabel(\"Number of Crashes\")\n",
    "plt.ylabel(\"Frequency\")\n",
    "plt.show()"
   ]
  },
  {
   "cell_type": "markdown",
   "metadata": {},
   "source": [
    "--------------------------------------------------------------------------------------------"
   ]
  },
  {
   "cell_type": "markdown",
   "metadata": {},
   "source": [
    "## Major Turning Point In Our EDA\n",
    "\n",
    "As we can see in the histograms, the blue is faintly seen among the orange. There is a significantly more dry days than raining days, which was to be expected. However, assuming that more crashes would occur in the rain, we should have seen the blue further to the right of the x-axis, denoting a higher daily crash rate. We can see that for every city, the blue daily totals are still within the same domain as the orange. We then had the realization why this approach to our comparison is faulty - **we did not consider the fact that there are far less cars on the road when it is raining.** Unless the traffic amount were the same throughout all types of weather, we would not be able to continue this approach. "
   ]
  },
  {
   "cell_type": "markdown",
   "metadata": {},
   "source": [
    "**PLAN B - Pulling Traffic Data**"
   ]
  },
  {
   "cell_type": "markdown",
   "metadata": {},
   "source": [
    "The group then decided to see if we could insert additional dataframes accounting for the Annual Average Daily Traffic (called AADT datasets) in order to take the amount of crashes over the amount of traffic that day. However, these datasets were very diffuclt to pull since they were specific to each highway and street, and did not contain dates. This Plan B proved to be too much searching and wrangling, and therefore the group decided on Plan C."
   ]
  },
  {
   "cell_type": "markdown",
   "metadata": {},
   "source": [
    "**PLAN C - Comparing the average number of collisions on rainy days vs the average number of collisions on dry days indicates that each city has a different reaction in the rain.**"
   ]
  },
  {
   "cell_type": "markdown",
   "metadata": {},
   "source": [
    "One of the members of the group decided we could use ratios in order to get a better description of our data.\n",
    "If we were to take the average amount of rain collisions *over* the number of rainy days, and then compare that to the average amount of dry collisions *over* dry days, we should see that crashes are occurring more often during the rain. If the rain/dry ratio produces a number over 1.00, then there are more crashes occurring in the rain."
   ]
  },
  {
   "cell_type": "code",
   "execution_count": 33,
   "metadata": {},
   "outputs": [],
   "source": [
    "# Finding ratio of rainy mean crashes to dry mean crashes\n",
    "# (number highter than 1 would imply there are more crashes on rainy days)\n",
    "la_dry_mean   = round(ladf[ladf['WEATHER'] == 'Dry']['COLLISION_COUNT'].mean(), 2)\n",
    "la_rain_mean  = round(ladf[ladf['WEATHER'] == 'Rain']['COLLISION_COUNT'].mean(), 2)\n",
    "\n",
    "sd_dry_mean   = round(sddf[sddf['WEATHER'] == 'Dry']['COLLISION_COUNT'].mean(), 2)\n",
    "sd_rain_mean  = round(sddf[sddf['WEATHER'] == 'Rain']['COLLISION_COUNT'].mean(), 2)\n",
    "\n",
    "sc_dry_mean   = round(scdf[scdf['WEATHER'] == 'Dry']['COLLISION_COUNT'].mean(), 2)\n",
    "sc_rain_mean  = round(scdf[scdf['WEATHER'] == 'Rain']['COLLISION_COUNT'].mean(), 2)\n",
    "\n",
    "sf_dry_mean   = round(sfdf[sfdf['WEATHER'] == 'Dry']['COLLISION_COUNT'].mean(), 2)\n",
    "sf_rain_mean  = round(sfdf[sfdf['WEATHER'] == 'Rain']['COLLISION_COUNT'].mean(), 2)"
   ]
  },
  {
   "cell_type": "code",
   "execution_count": 34,
   "metadata": {},
   "outputs": [
    {
     "data": {
      "text/html": [
       "<div>\n",
       "<style scoped>\n",
       "    .dataframe tbody tr th:only-of-type {\n",
       "        vertical-align: middle;\n",
       "    }\n",
       "\n",
       "    .dataframe tbody tr th {\n",
       "        vertical-align: top;\n",
       "    }\n",
       "\n",
       "    .dataframe thead th {\n",
       "        text-align: right;\n",
       "    }\n",
       "</style>\n",
       "<table border=\"1\" class=\"dataframe\">\n",
       "  <thead>\n",
       "    <tr style=\"text-align: right;\">\n",
       "      <th></th>\n",
       "      <th>City</th>\n",
       "      <th>Rainy/Dry</th>\n",
       "    </tr>\n",
       "  </thead>\n",
       "  <tbody>\n",
       "    <tr>\n",
       "      <th>0</th>\n",
       "      <td>Los Angeles</td>\n",
       "      <td>1.05</td>\n",
       "    </tr>\n",
       "    <tr>\n",
       "      <th>1</th>\n",
       "      <td>San Diego</td>\n",
       "      <td>0.90</td>\n",
       "    </tr>\n",
       "    <tr>\n",
       "      <th>2</th>\n",
       "      <td>Sacramento</td>\n",
       "      <td>1.08</td>\n",
       "    </tr>\n",
       "    <tr>\n",
       "      <th>3</th>\n",
       "      <td>San Francisco</td>\n",
       "      <td>1.03</td>\n",
       "    </tr>\n",
       "  </tbody>\n",
       "</table>\n",
       "</div>"
      ],
      "text/plain": [
       "            City  Rainy/Dry\n",
       "0    Los Angeles       1.05\n",
       "1      San Diego       0.90\n",
       "2     Sacramento       1.08\n",
       "3  San Francisco       1.03"
      ]
     },
     "execution_count": 34,
     "metadata": {},
     "output_type": "execute_result"
    }
   ],
   "source": [
    "names      = ['Los Angeles', 'San Diego', 'Sacramento', 'San Francisco']\n",
    "rain_means = [la_rain_mean, sd_rain_mean, sc_rain_mean, sf_rain_mean]\n",
    "dry_means  = [la_dry_mean, sd_dry_mean, sc_dry_mean, sf_dry_mean]\n",
    "\n",
    "df_chart = pd.DataFrame(columns=['City', 'Rainy/Dry'])\n",
    "for i in range(len(names)):\n",
    "    df_chart = df_chart.append({'City':names[i], 'Rainy/Dry':round(rain_means[i]/dry_means[i], 2)}, ignore_index=True)\n",
    "\n",
    "df_chart"
   ]
  },
  {
   "cell_type": "markdown",
   "metadata": {},
   "source": [
    "The raw difference between the average collisions per day on rainy and dry days, demonstrated by a grouped bar chart."
   ]
  },
  {
   "cell_type": "code",
   "execution_count": 35,
   "metadata": {},
   "outputs": [
    {
     "data": {
      "image/png": "[encoded data removed]",
      "text/plain": [
       "<Figure size 432x288 with 1 Axes>"
      ]
     },
     "metadata": {
      "needs_background": "light"
     },
     "output_type": "display_data"
    }
   ],
   "source": [
    "df_bar = pd.DataFrame({'Collisions μ: Rain': rain_means, 'Collisions μ: Dry': dry_means}, index=names)\n",
    "do_it = df_bar.plot.barh(title='Average Collisions ')"
   ]
  },
  {
   "cell_type": "markdown",
   "metadata": {},
   "source": [
    "The following box plots display the standard ranges and median values of crash totals on dry and rainy days. We hope to see that the crash totals for rainy days skew higher than on dry days."
   ]
  },
  {
   "cell_type": "code",
   "execution_count": 36,
   "metadata": {},
   "outputs": [
    {
     "data": {
      "image/png": "[encoded data removed]",
      "text/plain": [
       "<Figure size 432x288 with 1 Axes>"
      ]
     },
     "metadata": {
      "needs_background": "light"
     },
     "output_type": "display_data"
    }
   ],
   "source": [
    "plt.title('Los Angeles Daily Crash Counts vs. Weather')\n",
    "plt.ylabel('Daily Crash Total')\n",
    "plt.xlabel('Weather Conditions')\n",
    "labox = sns.boxplot(x = 'WEATHER', y = 'COLLISION_COUNT', data = ladf, palette = ['tab:orange', 'tab:blue'])\n",
    "labox = plt.gcf()"
   ]
  },
  {
   "cell_type": "code",
   "execution_count": 37,
   "metadata": {},
   "outputs": [
    {
     "data": {
      "image/png": "[encoded data removed]",
      "text/plain": [
       "<Figure size 432x288 with 1 Axes>"
      ]
     },
     "metadata": {
      "needs_background": "light"
     },
     "output_type": "display_data"
    }
   ],
   "source": [
    "plt.title('San Diego Daily Crash Counts vs. Weather')\n",
    "plt.ylabel('Daily Crash Total')\n",
    "plt.xlabel('Weather Conditions')\n",
    "sdbox = sns.boxplot(x = 'WEATHER', y = 'COLLISION_COUNT', data = sddf, palette = ['tab:orange', 'tab:blue'])\n",
    "sdbox = plt.gcf()"
   ]
  },
  {
   "cell_type": "code",
   "execution_count": 38,
   "metadata": {},
   "outputs": [
    {
     "data": {
      "image/png": "[encoded data removed]",
      "text/plain": [
       "<Figure size 432x288 with 1 Axes>"
      ]
     },
     "metadata": {
      "needs_background": "light"
     },
     "output_type": "display_data"
    }
   ],
   "source": [
    "plt.title('Sacramento Daily Crash Counts vs. Weather')\n",
    "plt.ylabel('Daily Crash Total')\n",
    "plt.xlabel('Weather Conditions')\n",
    "scbox = sns.boxplot(x = 'WEATHER', y = 'COLLISION_COUNT', data = scdf, palette = ['tab:orange', 'tab:blue'])\n",
    "scbox = plt.gcf()"
   ]
  },
  {
   "cell_type": "code",
   "execution_count": 39,
   "metadata": {},
   "outputs": [
    {
     "data": {
      "image/png": "[encoded data removed]",
      "text/plain": [
       "<Figure size 432x288 with 1 Axes>"
      ]
     },
     "metadata": {
      "needs_background": "light"
     },
     "output_type": "display_data"
    }
   ],
   "source": [
    "plt.title('San Francisco Daily Crash Counts vs. Weather')\n",
    "plt.ylabel('Daily Crash Total')\n",
    "plt.xlabel('Weather Conditions')\n",
    "sfbox = sns.boxplot(x = 'WEATHER', y = 'COLLISION_COUNT', data = sfdf, palette = ['tab:orange', 'tab:blue'])\n",
    "sfbox = plt.gcf()"
   ]
  },
  {
   "cell_type": "markdown",
   "metadata": {},
   "source": [
    "What do we see here? The ratios show that all cities *besides* San Diego have crashes occurring more often on their rainy days than dry since the ratios provided numbers over 1.00. Only San Diego has a higher average amount of dry crashes, thus causing a fraction smaller than 1. The box plot for San Diego corroborates this assertion, as the median daily crash total is lower for rainy days.\n",
    "\n",
    "It was expected that every city would have more collisions on rainy days, and the goal was to prove that Los Angeles and San Diego would have far higher ratios. We have proven this for LA, but unfortunately not San Diego. Why is this?"
   ]
  },
  {
   "cell_type": "markdown",
   "metadata": {},
   "source": [
    "The group considered that since San Diego is a beach city, the forecast is changing all the time (more often than San Francisco). There are multiple shifts in forecast within a 24hr period. This means that there could be a very slight amount of rain in the middle of the day, but nice and sunny for the rest. However, that day could still be labeled as a 'Rain' day in our dataset. Even though it had rained for a short amount of time, it does not mean there would be a significant increase in crashes since most of the day was 'Dry'. So could we take yet another different approach to prove that LA and SD crash more in the rain?"
   ]
  },
  {
   "cell_type": "markdown",
   "metadata": {},
   "source": [
    "**Plan D - Total Annual Precipitation vs Total Annual Collisions**"
   ]
  },
  {
   "cell_type": "markdown",
   "metadata": {},
   "source": [
    "After brainstorming and careful consideration, the group decided that we could bring the precipitation data to great use. We will take the total amount of crashes (dry + rain) for each of the 5 years, and then the total amount of inches rained in that year. With this data for each city, we should then expect to see that the amount of crashes on a year with more precipitation would be higher than a year with less inches. \n",
    "\n",
    "Ultimately, we should see that the Northern cities handled the years with more rain better than the Southern cities!"
   ]
  },
  {
   "cell_type": "code",
   "execution_count": 40,
   "metadata": {},
   "outputs": [],
   "source": [
    "def annualTotalsDF(df):\n",
    "    df2015 = df[df['DATE'].dt.year == 2015]\n",
    "    df2016 = df[df['DATE'].dt.year == 2016]\n",
    "    df2017 = df[df['DATE'].dt.year == 2017]\n",
    "    df2018 = df[df['DATE'].dt.year == 2018]\n",
    "    df2019 = df[df['DATE'].dt.year == 2019]\n",
    "    rainTotal2015 = df2015['PRCP_in'].sum()\n",
    "    rainTotal2016 = df2016['PRCP_in'].sum()\n",
    "    rainTotal2017 = df2017['PRCP_in'].sum()\n",
    "    rainTotal2018 = df2018['PRCP_in'].sum()\n",
    "    rainTotal2019 = df2019['PRCP_in'].sum()\n",
    "    crashTotal2015 = df2015['COLLISION_COUNT'].sum()\n",
    "    crashTotal2016 = df2016['COLLISION_COUNT'].sum()\n",
    "    crashTotal2017 = df2017['COLLISION_COUNT'].sum()\n",
    "    crashTotal2018 = df2018['COLLISION_COUNT'].sum()\n",
    "    crashTotal2019 = df2019['COLLISION_COUNT'].sum()\n",
    "    \n",
    "    data = {'PRCPtotal': [rainTotal2015, rainTotal2016, rainTotal2017, rainTotal2018, rainTotal2019],\n",
    "            'CrashTotal': [crashTotal2015, crashTotal2016, crashTotal2017, crashTotal2018, crashTotal2019]} \n",
    "\n",
    "    annualTotals = pd.DataFrame(data, index =['2015', '2016', '2017', '2018', '2019'])\n",
    "    return annualTotals"
   ]
  },
  {
   "cell_type": "code",
   "execution_count": 41,
   "metadata": {},
   "outputs": [],
   "source": [
    "laAnnualTotals = annualTotalsDF(ladf)\n",
    "sdAnnualTotals = annualTotalsDF(sddf)\n",
    "scAnnualTotals = annualTotalsDF(scdf)\n",
    "sfAnnualTotals = annualTotalsDF(sfdf)"
   ]
  },
  {
   "cell_type": "markdown",
   "metadata": {},
   "source": [
    "We will now display the annual totals for each city, as well as the line graphs showing the totals' trends over time.\n",
    "By using line graphs, we should see a causation correlation between percipitation and crashes displayed through the patterns of the lines. If the crash trend has a similar pattern to the percipitation trend, then we could theoretically (not directly) conclude that more precipitation causes more crashes."
   ]
  },
  {
   "cell_type": "markdown",
   "metadata": {},
   "source": [
    "## Los Angeles"
   ]
  },
  {
   "cell_type": "code",
   "execution_count": 42,
   "metadata": {},
   "outputs": [
    {
     "data": {
      "text/html": [
       "<div>\n",
       "<style scoped>\n",
       "    .dataframe tbody tr th:only-of-type {\n",
       "        vertical-align: middle;\n",
       "    }\n",
       "\n",
       "    .dataframe tbody tr th {\n",
       "        vertical-align: top;\n",
       "    }\n",
       "\n",
       "    .dataframe thead th {\n",
       "        text-align: right;\n",
       "    }\n",
       "</style>\n",
       "<table border=\"1\" class=\"dataframe\">\n",
       "  <thead>\n",
       "    <tr style=\"text-align: right;\">\n",
       "      <th></th>\n",
       "      <th>PRCPtotal</th>\n",
       "      <th>CrashTotal</th>\n",
       "    </tr>\n",
       "  </thead>\n",
       "  <tbody>\n",
       "    <tr>\n",
       "      <th>2015</th>\n",
       "      <td>7.66</td>\n",
       "      <td>36560</td>\n",
       "    </tr>\n",
       "    <tr>\n",
       "      <th>2016</th>\n",
       "      <td>11.80</td>\n",
       "      <td>38374</td>\n",
       "    </tr>\n",
       "    <tr>\n",
       "      <th>2017</th>\n",
       "      <td>13.24</td>\n",
       "      <td>39125</td>\n",
       "    </tr>\n",
       "    <tr>\n",
       "      <th>2018</th>\n",
       "      <td>8.86</td>\n",
       "      <td>38466</td>\n",
       "    </tr>\n",
       "    <tr>\n",
       "      <th>2019</th>\n",
       "      <td>21.55</td>\n",
       "      <td>37733</td>\n",
       "    </tr>\n",
       "  </tbody>\n",
       "</table>\n",
       "</div>"
      ],
      "text/plain": [
       "      PRCPtotal  CrashTotal\n",
       "2015       7.66       36560\n",
       "2016      11.80       38374\n",
       "2017      13.24       39125\n",
       "2018       8.86       38466\n",
       "2019      21.55       37733"
      ]
     },
     "execution_count": 42,
     "metadata": {},
     "output_type": "execute_result"
    }
   ],
   "source": [
    "laAnnualTotals"
   ]
  },
  {
   "cell_type": "code",
   "execution_count": 43,
   "metadata": {},
   "outputs": [
    {
     "data": {
      "text/plain": [
       "numpy.ndarray"
      ]
     },
     "execution_count": 43,
     "metadata": {},
     "output_type": "execute_result"
    },
    {
     "data": {
      "image/png": "[encoded data removed]",
      "text/plain": [
       "<Figure size 432x288 with 2 Axes>"
      ]
     },
     "metadata": {
      "needs_background": "light"
     },
     "output_type": "display_data"
    }
   ],
   "source": [
    "axes = laAnnualTotals.plot.line(subplots=True)\n",
    "type(axes)"
   ]
  },
  {
   "cell_type": "code",
   "execution_count": 44,
   "metadata": {},
   "outputs": [
    {
     "data": {
      "image/png": "[encoded data removed]",
      "text/plain": [
       "<Figure size 432x360 with 1 Axes>"
      ]
     },
     "metadata": {
      "needs_background": "light"
     },
     "output_type": "display_data"
    }
   ],
   "source": [
    "palette = sns.color_palette(\"RdPu\", 10)\n",
    "sns.lmplot(x='CrashTotal', y='PRCPtotal', data=laAnnualTotals, ci=None, aspect=1.2, line_kws={'color': 'red'});"
   ]
  },
  {
   "cell_type": "markdown",
   "metadata": {},
   "source": [
    "## San Diego"
   ]
  },
  {
   "cell_type": "code",
   "execution_count": 45,
   "metadata": {},
   "outputs": [
    {
     "data": {
      "text/html": [
       "<div>\n",
       "<style scoped>\n",
       "    .dataframe tbody tr th:only-of-type {\n",
       "        vertical-align: middle;\n",
       "    }\n",
       "\n",
       "    .dataframe tbody tr th {\n",
       "        vertical-align: top;\n",
       "    }\n",
       "\n",
       "    .dataframe thead th {\n",
       "        text-align: right;\n",
       "    }\n",
       "</style>\n",
       "<table border=\"1\" class=\"dataframe\">\n",
       "  <thead>\n",
       "    <tr style=\"text-align: right;\">\n",
       "      <th></th>\n",
       "      <th>PRCPtotal</th>\n",
       "      <th>CrashTotal</th>\n",
       "    </tr>\n",
       "  </thead>\n",
       "  <tbody>\n",
       "    <tr>\n",
       "      <th>2015</th>\n",
       "      <td>9.01</td>\n",
       "      <td>4417</td>\n",
       "    </tr>\n",
       "    <tr>\n",
       "      <th>2016</th>\n",
       "      <td>10.22</td>\n",
       "      <td>4436</td>\n",
       "    </tr>\n",
       "    <tr>\n",
       "      <th>2017</th>\n",
       "      <td>7.92</td>\n",
       "      <td>4148</td>\n",
       "    </tr>\n",
       "    <tr>\n",
       "      <th>2018</th>\n",
       "      <td>7.65</td>\n",
       "      <td>4198</td>\n",
       "    </tr>\n",
       "    <tr>\n",
       "      <th>2019</th>\n",
       "      <td>14.55</td>\n",
       "      <td>4062</td>\n",
       "    </tr>\n",
       "  </tbody>\n",
       "</table>\n",
       "</div>"
      ],
      "text/plain": [
       "      PRCPtotal  CrashTotal\n",
       "2015       9.01        4417\n",
       "2016      10.22        4436\n",
       "2017       7.92        4148\n",
       "2018       7.65        4198\n",
       "2019      14.55        4062"
      ]
     },
     "execution_count": 45,
     "metadata": {},
     "output_type": "execute_result"
    }
   ],
   "source": [
    "sdAnnualTotals"
   ]
  },
  {
   "cell_type": "code",
   "execution_count": 46,
   "metadata": {},
   "outputs": [
    {
     "data": {
      "text/plain": [
       "numpy.ndarray"
      ]
     },
     "execution_count": 46,
     "metadata": {},
     "output_type": "execute_result"
    },
    {
     "data": {
      "image/png": "[encoded data removed]",
      "text/plain": [
       "<Figure size 432x288 with 2 Axes>"
      ]
     },
     "metadata": {
      "needs_background": "light"
     },
     "output_type": "display_data"
    }
   ],
   "source": [
    "axes = sdAnnualTotals.plot.line(subplots=True)\n",
    "type(axes)"
   ]
  },
  {
   "cell_type": "code",
   "execution_count": 47,
   "metadata": {},
   "outputs": [
    {
     "data": {
      "image/png": "[encoded data removed]",
      "text/plain": [
       "<Figure size 432x360 with 1 Axes>"
      ]
     },
     "metadata": {
      "needs_background": "light"
     },
     "output_type": "display_data"
    }
   ],
   "source": [
    "sns.lmplot(x='CrashTotal', y='PRCPtotal', data=sdAnnualTotals, ci=None, aspect=1.2, line_kws={'color': 'red'});"
   ]
  },
  {
   "cell_type": "markdown",
   "metadata": {},
   "source": [
    "## Sacramento"
   ]
  },
  {
   "cell_type": "code",
   "execution_count": 48,
   "metadata": {},
   "outputs": [
    {
     "data": {
      "text/html": [
       "<div>\n",
       "<style scoped>\n",
       "    .dataframe tbody tr th:only-of-type {\n",
       "        vertical-align: middle;\n",
       "    }\n",
       "\n",
       "    .dataframe tbody tr th {\n",
       "        vertical-align: top;\n",
       "    }\n",
       "\n",
       "    .dataframe thead th {\n",
       "        text-align: right;\n",
       "    }\n",
       "</style>\n",
       "<table border=\"1\" class=\"dataframe\">\n",
       "  <thead>\n",
       "    <tr style=\"text-align: right;\">\n",
       "      <th></th>\n",
       "      <th>PRCPtotal</th>\n",
       "      <th>CrashTotal</th>\n",
       "    </tr>\n",
       "  </thead>\n",
       "  <tbody>\n",
       "    <tr>\n",
       "      <th>2015</th>\n",
       "      <td>8.51</td>\n",
       "      <td>2724</td>\n",
       "    </tr>\n",
       "    <tr>\n",
       "      <th>2016</th>\n",
       "      <td>21.55</td>\n",
       "      <td>3107</td>\n",
       "    </tr>\n",
       "    <tr>\n",
       "      <th>2017</th>\n",
       "      <td>26.05</td>\n",
       "      <td>2837</td>\n",
       "    </tr>\n",
       "    <tr>\n",
       "      <th>2018</th>\n",
       "      <td>17.90</td>\n",
       "      <td>2995</td>\n",
       "    </tr>\n",
       "    <tr>\n",
       "      <th>2019</th>\n",
       "      <td>24.88</td>\n",
       "      <td>3410</td>\n",
       "    </tr>\n",
       "  </tbody>\n",
       "</table>\n",
       "</div>"
      ],
      "text/plain": [
       "      PRCPtotal  CrashTotal\n",
       "2015       8.51        2724\n",
       "2016      21.55        3107\n",
       "2017      26.05        2837\n",
       "2018      17.90        2995\n",
       "2019      24.88        3410"
      ]
     },
     "execution_count": 48,
     "metadata": {},
     "output_type": "execute_result"
    }
   ],
   "source": [
    "scAnnualTotals"
   ]
  },
  {
   "cell_type": "code",
   "execution_count": 49,
   "metadata": {},
   "outputs": [
    {
     "data": {
      "text/plain": [
       "numpy.ndarray"
      ]
     },
     "execution_count": 49,
     "metadata": {},
     "output_type": "execute_result"
    },
    {
     "data": {
      "image/png": "[encoded data removed]",
      "text/plain": [
       "<Figure size 432x288 with 2 Axes>"
      ]
     },
     "metadata": {
      "needs_background": "light"
     },
     "output_type": "display_data"
    }
   ],
   "source": [
    "axes = scAnnualTotals.plot.line(subplots=True)\n",
    "type(axes)"
   ]
  },
  {
   "cell_type": "code",
   "execution_count": 50,
   "metadata": {},
   "outputs": [
    {
     "data": {
      "image/png": "[encoded data removed]",
      "text/plain": [
       "<Figure size 432x360 with 1 Axes>"
      ]
     },
     "metadata": {
      "needs_background": "light"
     },
     "output_type": "display_data"
    }
   ],
   "source": [
    "sns.lmplot(x='CrashTotal', y='PRCPtotal', data=scAnnualTotals, ci=None, aspect=1.2, line_kws={'color': 'red'});"
   ]
  },
  {
   "cell_type": "markdown",
   "metadata": {},
   "source": [
    "## San Francisco"
   ]
  },
  {
   "cell_type": "code",
   "execution_count": 51,
   "metadata": {},
   "outputs": [
    {
     "data": {
      "text/html": [
       "<div>\n",
       "<style scoped>\n",
       "    .dataframe tbody tr th:only-of-type {\n",
       "        vertical-align: middle;\n",
       "    }\n",
       "\n",
       "    .dataframe tbody tr th {\n",
       "        vertical-align: top;\n",
       "    }\n",
       "\n",
       "    .dataframe thead th {\n",
       "        text-align: right;\n",
       "    }\n",
       "</style>\n",
       "<table border=\"1\" class=\"dataframe\">\n",
       "  <thead>\n",
       "    <tr style=\"text-align: right;\">\n",
       "      <th></th>\n",
       "      <th>PRCPtotal</th>\n",
       "      <th>CrashTotal</th>\n",
       "    </tr>\n",
       "  </thead>\n",
       "  <tbody>\n",
       "    <tr>\n",
       "      <th>2015</th>\n",
       "      <td>9.91</td>\n",
       "      <td>4608</td>\n",
       "    </tr>\n",
       "    <tr>\n",
       "      <th>2016</th>\n",
       "      <td>24.83</td>\n",
       "      <td>5116</td>\n",
       "    </tr>\n",
       "    <tr>\n",
       "      <th>2017</th>\n",
       "      <td>26.24</td>\n",
       "      <td>4940</td>\n",
       "    </tr>\n",
       "    <tr>\n",
       "      <th>2018</th>\n",
       "      <td>19.87</td>\n",
       "      <td>4642</td>\n",
       "    </tr>\n",
       "    <tr>\n",
       "      <th>2019</th>\n",
       "      <td>25.72</td>\n",
       "      <td>4820</td>\n",
       "    </tr>\n",
       "  </tbody>\n",
       "</table>\n",
       "</div>"
      ],
      "text/plain": [
       "      PRCPtotal  CrashTotal\n",
       "2015       9.91        4608\n",
       "2016      24.83        5116\n",
       "2017      26.24        4940\n",
       "2018      19.87        4642\n",
       "2019      25.72        4820"
      ]
     },
     "execution_count": 51,
     "metadata": {},
     "output_type": "execute_result"
    }
   ],
   "source": [
    "sfAnnualTotals"
   ]
  },
  {
   "cell_type": "code",
   "execution_count": 52,
   "metadata": {},
   "outputs": [
    {
     "data": {
      "text/plain": [
       "numpy.ndarray"
      ]
     },
     "execution_count": 52,
     "metadata": {},
     "output_type": "execute_result"
    },
    {
     "data": {
      "image/png": "[encoded data removed]",
      "text/plain": [
       "<Figure size 432x288 with 2 Axes>"
      ]
     },
     "metadata": {
      "needs_background": "light"
     },
     "output_type": "display_data"
    }
   ],
   "source": [
    "axes = sfAnnualTotals.plot.line(subplots=True)\n",
    "type(axes)"
   ]
  },
  {
   "cell_type": "code",
   "execution_count": 53,
   "metadata": {},
   "outputs": [
    {
     "data": {
      "image/png": "[encoded data removed]",
      "text/plain": [
       "<Figure size 432x360 with 1 Axes>"
      ]
     },
     "metadata": {
      "needs_background": "light"
     },
     "output_type": "display_data"
    }
   ],
   "source": [
    "sns.lmplot(x='CrashTotal', y='PRCPtotal', data=sfAnnualTotals, ci=None, aspect=1.2, line_kws={'color': 'red'});"
   ]
  },
  {
   "cell_type": "markdown",
   "metadata": {},
   "source": [
    "As we can see by the line graphs, San Francisco and Sacramento's crash trends reflect a similar pattern to the precipitation trends. For example, both of SF's trends increase during 2016, dip in 2018, and then rise again in 2019.\n",
    "\n",
    "The scatterplots for the Northern cities show a correlation between the two quantative variables. The positive relationship in their linear regression is clear to see. As precipitation increases, so do the amount of crashes.\n",
    "\n",
    "However, our hypothesis was yet again disproved by San Diego's data. In 2016, we barely saw an increase in crashes when there was over an inch more in rain than the previous year. 2019 then showed the complete *opposite* of our expectation. When the precipitation **doubled**, we see the crash total *dips*. Although this is just one year of data, the other 4 years do little to support our hypothesis as well. We ultimately see that the scatterplot gives a negative linear relationship. As the amount of precipitation increases, the crashes decrease.\n",
    "\n",
    "Los Angeles showed a similar pattern in trends, all up until 2019 as well. 2019 provided over 24 inches in rain and yet the amount of collisions decreased. The scatterplot shows a very small slope in the positive linear regression.\n",
    "\n",
    "Our group decided that in 2019, many people in Southern California were either able to avoid driving due to the increase of storms, or, as we had hoped for the contrary, that **Southern Californians may actually drive better in the rain than Northern Californians.**"
   ]
  },
  {
   "cell_type": "markdown",
   "metadata": {},
   "source": [
    "## Predictor to Outcome\n",
    "\n",
    "We can finalize our EDA by checking if precipitation was a valid predictor to the amount of crashes."
   ]
  },
  {
   "cell_type": "code",
   "execution_count": 54,
   "metadata": {},
   "outputs": [
    {
     "name": "stdout",
     "output_type": "stream",
     "text": [
      "                            OLS Regression Results                            \n",
      "==============================================================================\n",
      "Dep. Variable:        COLLISION_COUNT   R-squared:                       0.003\n",
      "Model:                            OLS   Adj. R-squared:                  0.003\n",
      "Method:                 Least Squares   F-statistic:                     5.999\n",
      "Date:                Wed, 17 Mar 2021   Prob (F-statistic):             0.0144\n",
      "Time:                        23:36:51   Log-Likelihood:                -7395.4\n",
      "No. Observations:                1816   AIC:                         1.479e+04\n",
      "Df Residuals:                    1814   BIC:                         1.481e+04\n",
      "Df Model:                           1                                         \n",
      "Covariance Type:            nonrobust                                         \n",
      "==============================================================================\n",
      "                 coef    std err          t      P>|t|      [0.025      0.975]\n",
      "------------------------------------------------------------------------------\n",
      "Intercept    104.6161      0.339    308.462      0.000     103.951     105.281\n",
      "PRCP_in        4.3602      1.780      2.449      0.014       0.869       7.852\n",
      "==============================================================================\n",
      "Omnibus:                       10.677   Durbin-Watson:                   1.591\n",
      "Prob(Omnibus):                  0.005   Jarque-Bera (JB):               12.722\n",
      "Skew:                           0.102   Prob(JB):                      0.00173\n",
      "Kurtosis:                       3.356   Cond. No.                         5.35\n",
      "==============================================================================\n",
      "\n",
      "Warnings:\n",
      "[1] Standard Errors assume that the covariance matrix of the errors is correctly specified.\n"
     ]
    }
   ],
   "source": [
    "# Los Angeles\n",
    "outcome, predictors = patsy.dmatrices('COLLISION_COUNT ~ PRCP_in ', ladf)\n",
    "mod = sm.OLS(outcome, predictors)\n",
    "res = mod.fit()\n",
    "print(res.summary())"
   ]
  },
  {
   "cell_type": "code",
   "execution_count": 55,
   "metadata": {},
   "outputs": [
    {
     "name": "stdout",
     "output_type": "stream",
     "text": [
      "                            OLS Regression Results                            \n",
      "==============================================================================\n",
      "Dep. Variable:        COLLISION_COUNT   R-squared:                       0.003\n",
      "Model:                            OLS   Adj. R-squared:                  0.003\n",
      "Method:                 Least Squares   F-statistic:                     5.679\n",
      "Date:                Wed, 17 Mar 2021   Prob (F-statistic):             0.0173\n",
      "Time:                        23:36:51   Log-Likelihood:                -4954.2\n",
      "No. Observations:                1787   AIC:                             9912.\n",
      "Df Residuals:                    1785   BIC:                             9923.\n",
      "Df Model:                           1                                         \n",
      "Covariance Type:            nonrobust                                         \n",
      "==============================================================================\n",
      "                 coef    std err          t      P>|t|      [0.025      0.975]\n",
      "------------------------------------------------------------------------------\n",
      "Intercept     11.9376      0.093    128.174      0.000      11.755      12.120\n",
      "PRCP_in       -1.4480      0.608     -2.383      0.017      -2.640      -0.256\n",
      "==============================================================================\n",
      "Omnibus:                       32.317   Durbin-Watson:                   1.833\n",
      "Prob(Omnibus):                  0.000   Jarque-Bera (JB):               33.644\n",
      "Skew:                           0.334   Prob(JB):                     4.95e-08\n",
      "Kurtosis:                       3.078   Cond. No.                         6.64\n",
      "==============================================================================\n",
      "\n",
      "Warnings:\n",
      "[1] Standard Errors assume that the covariance matrix of the errors is correctly specified.\n"
     ]
    }
   ],
   "source": [
    "# San Diego\n",
    "outcome, predictors = patsy.dmatrices('COLLISION_COUNT ~ PRCP_in ', sddf)\n",
    "mod = sm.OLS(outcome, predictors)\n",
    "res = mod.fit()\n",
    "print(res.summary())"
   ]
  },
  {
   "cell_type": "code",
   "execution_count": 56,
   "metadata": {},
   "outputs": [
    {
     "name": "stdout",
     "output_type": "stream",
     "text": [
      "                            OLS Regression Results                            \n",
      "==============================================================================\n",
      "Dep. Variable:        COLLISION_COUNT   R-squared:                       0.001\n",
      "Model:                            OLS   Adj. R-squared:                  0.000\n",
      "Method:                 Least Squares   F-statistic:                     1.204\n",
      "Date:                Wed, 17 Mar 2021   Prob (F-statistic):              0.273\n",
      "Time:                        23:36:51   Log-Likelihood:                -4658.2\n",
      "No. Observations:                1801   AIC:                             9320.\n",
      "Df Residuals:                    1799   BIC:                             9331.\n",
      "Df Model:                           1                                         \n",
      "Covariance Type:            nonrobust                                         \n",
      "==============================================================================\n",
      "                 coef    std err          t      P>|t|      [0.025      0.975]\n",
      "------------------------------------------------------------------------------\n",
      "Intercept      8.3478      0.078    106.690      0.000       8.194       8.501\n",
      "PRCP_in        0.3898      0.355      1.097      0.273      -0.307       1.087\n",
      "==============================================================================\n",
      "Omnibus:                       78.979   Durbin-Watson:                   1.887\n",
      "Prob(Omnibus):                  0.000   Jarque-Bera (JB):               90.201\n",
      "Skew:                           0.503   Prob(JB):                     2.59e-20\n",
      "Kurtosis:                       3.436   Cond. No.                         4.70\n",
      "==============================================================================\n",
      "\n",
      "Warnings:\n",
      "[1] Standard Errors assume that the covariance matrix of the errors is correctly specified.\n"
     ]
    }
   ],
   "source": [
    "# Sacramento\n",
    "outcome, predictors = patsy.dmatrices('COLLISION_COUNT ~ PRCP_in ', scdf)\n",
    "mod = sm.OLS(outcome, predictors)\n",
    "res = mod.fit()\n",
    "print(res.summary())"
   ]
  },
  {
   "cell_type": "code",
   "execution_count": 57,
   "metadata": {},
   "outputs": [
    {
     "name": "stdout",
     "output_type": "stream",
     "text": [
      "                            OLS Regression Results                            \n",
      "==============================================================================\n",
      "Dep. Variable:        COLLISION_COUNT   R-squared:                       0.000\n",
      "Model:                            OLS   Adj. R-squared:                 -0.000\n",
      "Method:                 Least Squares   F-statistic:                    0.6308\n",
      "Date:                Wed, 17 Mar 2021   Prob (F-statistic):              0.427\n",
      "Time:                        23:36:51   Log-Likelihood:                -5112.0\n",
      "No. Observations:                1778   AIC:                         1.023e+04\n",
      "Df Residuals:                    1776   BIC:                         1.024e+04\n",
      "Df Model:                           1                                         \n",
      "Covariance Type:            nonrobust                                         \n",
      "==============================================================================\n",
      "                 coef    std err          t      P>|t|      [0.025      0.975]\n",
      "------------------------------------------------------------------------------\n",
      "Intercept     13.5467      0.106    128.233      0.000      13.340      13.754\n",
      "PRCP_in        0.3745      0.472      0.794      0.427      -0.550       1.299\n",
      "==============================================================================\n",
      "Omnibus:                       36.897   Durbin-Watson:                   1.758\n",
      "Prob(Omnibus):                  0.000   Jarque-Bera (JB):               38.669\n",
      "Skew:                           0.354   Prob(JB):                     4.01e-09\n",
      "Kurtosis:                       3.145   Cond. No.                         4.65\n",
      "==============================================================================\n",
      "\n",
      "Warnings:\n",
      "[1] Standard Errors assume that the covariance matrix of the errors is correctly specified.\n"
     ]
    }
   ],
   "source": [
    "# San Francisco\n",
    "outcome, predictors = patsy.dmatrices('COLLISION_COUNT ~ PRCP_in ', sfdf)\n",
    "mod = sm.OLS(outcome, predictors)\n",
    "res = mod.fit()\n",
    "print(res.summary())"
   ]
  },
  {
   "cell_type": "markdown",
   "metadata": {},
   "source": [
    "We see that all of the p-values are greater than 0.01. Los Angeles and San Diego are very close to this alpha value, in which we could still consider rain to be a reasonable predictor in crashes. However, Sacramento and San Francisco are significantly off. We then failed to reject the null hypothesis for these Northern Cities. This means that the linear regression showing the Southern cities could be better trusted than the Northern cities. \n",
    "\n",
    "This serves as the third and official analysis in which we are unable to prove that Southern Californian drivers drive worse in the rain than Northern Californians."
   ]
  },
  {
   "cell_type": "markdown",
   "metadata": {},
   "source": [
    "____________________________________________________________________________________________\n",
    "In the end, the group agreed that data containing the amount of cars on the road during a given day would have come to great use. However, this data was difficult to collect due to it being divided upon specific streets and freeways, and did not contain specific dates. \n",
    "\n",
    "We also agreed that we could have collected more annual datasets as 2019 made up 1/5th of our data, causing a great contrast in our overall findings."
   ]
  },
  {
   "cell_type": "markdown",
   "metadata": {},
   "source": [
    "# Ethics & Privacy"
   ]
  },
  {
   "cell_type": "markdown",
   "metadata": {},
   "source": [
    "   Because we are using publicly sourced data sets with no personally identifiable information, we do not anticipate any privacy concerns with obtaining or utilizing the datasets necessary for our project. From an ethics standpoint, NWS data for each city should not have any bias issues as collection of weather data does not significantly involve individuals and communities within these cities. Data sourced from SWITRS is dependent on the accuracy of the reporting by police officers, and as a result may be influenced by human error. It should be noted that all of the cities studied in this project have had publicized issues with over-policing in predominantly Black, Latino, and low-income areas, and these areas may be overrepresented in officially reported crime statistics. However, because our dataset will only be using daily totals of recorded car accidents for each city as a whole, we do not believe that this potential bias invalidates the data we are working with. We unfortunately do not have a concrete method of determining subtle bias in our data at this time due to both the scope of the project and the lack of open public data on the information we would need to assess implicit bias in SWITRS data.\n",
    "   \n",
    "   Because similar studies have been done on the subject of regional bad driving, we do not predict any unique negative impacts as a result of our project. While our conclusions could potentially be used to justify negative stereotypes of drivers in certain cities, our project is unlikely to gain enough exposure to do this to a significant degree. We hope that our findings will instead be used for good to inform infrastructure improvements such as better road visibility in cities with high rates of collisions during inclement weather."
   ]
  },
  {
   "cell_type": "markdown",
   "metadata": {},
   "source": [
    "# Conclusion & Discussion"
   ]
  },
  {
   "cell_type": "markdown",
   "metadata": {},
   "source": [
    "While brainstorming ideas for this project, one of the teammates had brought up their frustration with drivers in San Diego when it’s raining. Since they were from Northern California, they suggested that Northern California drivers handle the rain far better than Southern Californians. This idea then became the idea for our implementation. We hypothesized that drivers in Southern California are prone to vehicle collisions than drivers in Northern California because it rains more often in the Northern areas than the south. These cities we decided to study were Los Angeles, San Diego, Sacramento, and San Francisco.\n",
    "\n",
    "After pulling collision and weather datasets, cleaning and wrangling the data, and having generated visuals, we came to the first roadblock in our analysis. The results showed that there was a much higher frequency of crashes occurring on non-rainy days, which seemed counterintuitive; however, we realized we hadn’t taken into account that there are far less drivers on the road when it is raining.\n",
    "\n",
    "As the Average Annual Daily Traffic datasets were too difficult to pull, we attempted to overcome this obstacle by comparing the average crashes on rainy days vs non-rainy days. We did this by taking the aggregate sum of all crashes of the rainy and non-rainy days and dividing this by the total number of rainy and non-rainy days respectively. Doing this gave us an average crashes-per-day statistic of the rainy and non-rainy days. These results showed us that there were more average crashes per rainy day in Los Angeles, Sacramento, and San Francisco, but not San Diego. Our group considered that this discrepancy in the San Diego data may be attributed to the fact that the San Diego weather forecast is ever-changing. There might have been rain forecasted on certain days where it only rained a small amount and the rest of the day was clear. This could lead those days in our data to be labeled as rainy days where in reality, most of the day was dry, thus causing no problems to drivers.\n",
    "\n",
    "We again attempted to pursue further analysis by looking at the precipitation totals and comparing it to the total number of crashes for any year in any given city. These results showed a positive correlation between the precipitation and crashes for the Northern California cities, but not for San Diego. San Diego had a clear negative relationship between total rain and number of crashes. The total rain almost doubled from 2018 to 2019 and the number of crashes *decreased* during this time.\n",
    "\n",
    "We were ultimately unable to prove our hypothesis correct through our analysis. In turn, our group decided that Southern Californians may in fact drive better in rainy weather than their Northern Californian counterparts.\n",
    "\n",
    "**Moving Forward**\n",
    "\n",
    "In the future, if we were to continue this project to create a more robust and thorough analysis, our group would try and include more annual datasets as our dataset for 2019 comprised about 20% of our total data. In addition to this, we would try and find datasets that give us information regarding how many cars are on the road on any given day in these cities. The AADT datasets we looked at didn’t contain any dates in regard to the amount of cars on the streets and highways listed. Having this information would allow us to carry out a much more accurate analysis regarding the average amount of crashes per day in any given city."
   ]
  },
  {
   "cell_type": "markdown",
   "metadata": {},
   "source": [
    "# Team Contributions"
   ]
  },
  {
   "cell_type": "markdown",
   "metadata": {},
   "source": [
    "Aditya Ashar: Background, Hypothesis, Conclusion, Video Script/Presentation, Finalized Project\n",
    "\n",
    "Alanna Merlan: Background, Hypothesis, Dataset selection, Data Cleaning, EDA, Data Visualization, Finalized Project\n",
    "\n",
    "Andy Sunjic: Background, Hypothesis, Data Cleaning, EDA, Data Visualization, Finalized Project\n",
    "\n",
    "Emma Thomsen: Background, Hypothesis, Dataset selection/aggregation, Ethics/Privacy, Video Script/Presentation, Finalized Project\n",
    "\n",
    "Sujay Srinivasan: Overview,  Background, Hypothesis, Video Script/Presentation, Finalized Project"
   ]
  }
 ],
 "metadata": {
  "kernelspec": {
   "display_name": "Python 3",
   "language": "python",
   "name": "python3"
  },
  "language_info": {
   "codemirror_mode": {
    "name": "ipython",
    "version": 3
   },
   "file_extension": ".py",
   "mimetype": "text/x-python",
   "name": "python",
   "nbconvert_exporter": "python",
   "pygments_lexer": "ipython3",
   "version": "3.7.9"
  }
 },
 "nbformat": 4,
 "nbformat_minor": 2
}
