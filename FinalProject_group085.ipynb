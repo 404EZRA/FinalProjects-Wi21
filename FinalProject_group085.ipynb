{
 "cells": [
  {
   "cell_type": "markdown",
   "metadata": {},
   "source": [
    "# COGS 108 - Final Project \n",
    "# Effect of Education Attainment on Lowering Poverty Rates"
   ]
  },
  {
   "cell_type": "markdown",
   "metadata": {},
   "source": [
    "# Overview"
   ]
  },
  {
   "cell_type": "markdown",
   "metadata": {},
   "source": [
    "The goal of our project was to determine whether there is a correlation between the education level and the poverty rate in the United States. We analyzed high school attendance data and the poverty by region data from United States Census Bureau from 1959 to 2019. After performing a linear regression test and EDA, we were not able to find a significant correlation between education level and poverty rates. However, it is important to note the fact that many confounding variables were not included in our consideration. If we have a cleaner dataset without those confounding variables, it is possible to lead to a different outcome. "
   ]
  },
  {
   "cell_type": "markdown",
   "metadata": {},
   "source": [
    "# Names\n",
    "\n",
    "- Shan Mo\n",
    "- Sherry Zeng\n",
    "- Tianqi Xia\n",
    "- Jingxi Chen"
   ]
  },
  {
   "cell_type": "markdown",
   "metadata": {},
   "source": [
    "<a id='research_question'></a>\n",
    "# Research Question"
   ]
  },
  {
   "cell_type": "markdown",
   "metadata": {},
   "source": [
    "To what extend does high school education attainment play a role in the lowering of poverty rates in the United States?"
   ]
  },
  {
   "cell_type": "markdown",
   "metadata": {},
   "source": [
    "<a id='background'></a>\n",
    "\n",
    "## Background & Prior Work"
   ]
  },
  {
   "cell_type": "markdown",
   "metadata": {},
   "source": [
    "As of 2021, the COVID-19 pandemic has resulted in the skyrocketing of unemployment, the rise of poverty, and a steady increase in economic inequality. However, poverty has not been a recent issue that emerged from the pandemic--- it has been an issue that world leaders are trying to find a solution to for decades. People living in extreme poverty, as defined by the World Bank, are those that live on 1.90 USD per day, while those that live on between 1.0 USD and 3.10 USD per day belong in the moderate poor class. In 2019, about 14.4% of underaged Americans, 9.4% aged 18-64, 8.9% of those over 64, and 10.5% of all Americans live in poverty. The education attainment rate we will be focusing on is the completion of a high school degree or higher. In 2019, about 90.1% of Americans aged 25 or older have a high school degree and 36.0% have a bachelor's degree or higher. \n",
    "\n",
    "In creating the formula for eradicating poverty, education is often seen playing a big role. Previous studies have shown a correlation between education and poverty; countries with a larger proportion of the population living in poverty tend to have lower mean years in schooling. Moreover, in the United States, families with parents having a higher degree in school are shown to be less likely to live in poverty households. This trend is also only seen in countries with lower GDP growth, such as Pakistan, where an increase in educational achievements is linked with a lower possibility of poverty. \n",
    "\n",
    "\n",
    "References:\n",
    "- 1)https://ourworldindata.org/extreme-poverty\n",
    "- 2)https://nces.ed.gov/programs/coe/indicator_cce.asp\n",
    "- 3)https://www.researchgate.net/publication/215442733_Impact_of_education_on_poverty_reduction"
   ]
  },
  {
   "cell_type": "markdown",
   "metadata": {},
   "source": [
    "# Hypothesis\n"
   ]
  },
  {
   "cell_type": "markdown",
   "metadata": {},
   "source": [
    "Based on the findings of previous studies and unconfirmed claims, we hypothesize that a higher rate of high school education attainment will result in a lower poverty rate in the United States. \n"
   ]
  },
  {
   "cell_type": "markdown",
   "metadata": {},
   "source": [
    "# Dataset(s)"
   ]
  },
  {
   "cell_type": "markdown",
   "metadata": {},
   "source": [
    "\n",
    "- Percent of People 25 Years and Over Who Have Completed High School or College: Selected Years 1940 to 2019\n",
    "- https://www.census.gov/data/tables/time-series/demo/educational-attainment/cps-historical-time-series.html\n",
    "- 63 sets of observations\n",
    "- Documented by the United States Census Bureau, this data table shows the percentage of Americans 25 years and over who has completed a high school degree or higher. Although the table includes data from 1940, some records for several earlier years are missing. \n",
    "\n",
    "\n",
    "- Poverty of People by Reigion\n",
    "- https://www2.census.gov/programs-surveys/cps/tables/time-series/historical-poverty-people/hstpov9.xlsx\n",
    "- 55 sets of observations\n",
    "- Also taken from the United States Census Bureau, this table shows the number and percentage of people living in povery from 1959 to 2019 with regard to regions. The statistics for the total polulation are also included. It organizes the data by year. There are no missing data from this dataset. \n"
   ]
  },
  {
   "cell_type": "markdown",
   "metadata": {},
   "source": [
    "# Setup"
   ]
  },
  {
   "cell_type": "code",
   "execution_count": 2,
   "metadata": {},
   "outputs": [],
   "source": [
    "import pandas as pd\n",
    "import numpy as np\n",
    "\n",
    "# Import seaborn and apply its plotting styles\n",
    "import seaborn as sns\n",
    "sns.set(style=\"white\", font_scale=2)\n",
    "\n",
    "# import matplotlib\n",
    "import matplotlib as mpl\n",
    "import matplotlib.pyplot as plt\n",
    "# set plotting size parameter\n",
    "plt.rcParams['figure.figsize'] = (10, 5)\n",
    "\n",
    "# Statmodels & patsy\n",
    "import patsy\n",
    "import statsmodels.api as sm\n",
    "\n",
    "import warnings\n",
    "warnings.filterwarnings('ignore')\n",
    "\n",
    "from scipy.stats import skewnorm\n",
    "from scipy.stats import pearsonr\n"
   ]
  },
  {
   "cell_type": "markdown",
   "metadata": {},
   "source": [
    "# Data Cleaning"
   ]
  },
  {
   "cell_type": "markdown",
   "metadata": {},
   "source": [
    "For the two datasets, we found on the United States Census Bureau official website, there were invalid data contained in the first few rows. Also, the high school attendance dataset contained data from 1940 to 1958, which were not included in the poverty rate dataset. Thus, we need to exclude these data in order to perform a consistent correlation test. "
   ]
  },
  {
   "cell_type": "markdown",
   "metadata": {},
   "source": [
    "We cleaned the high school attendence dataset first."
   ]
  },
  {
   "cell_type": "code",
   "execution_count": 3,
   "metadata": {},
   "outputs": [
    {
     "name": "stdout",
     "output_type": "stream",
     "text": [
      "(284, 34)\n"
     ]
    },
    {
     "data": {
      "text/html": [
       "<div>\n",
       "<style scoped>\n",
       "    .dataframe tbody tr th:only-of-type {\n",
       "        vertical-align: middle;\n",
       "    }\n",
       "\n",
       "    .dataframe tbody tr th {\n",
       "        vertical-align: top;\n",
       "    }\n",
       "\n",
       "    .dataframe thead th {\n",
       "        text-align: right;\n",
       "    }\n",
       "</style>\n",
       "<table border=\"1\" class=\"dataframe\">\n",
       "  <thead>\n",
       "    <tr style=\"text-align: right;\">\n",
       "      <th></th>\n",
       "      <th>Table with row headers in column A and column headers in rows 5 through 6.</th>\n",
       "      <th>Unnamed: 1</th>\n",
       "      <th>Unnamed: 2</th>\n",
       "      <th>Unnamed: 3</th>\n",
       "      <th>Unnamed: 4</th>\n",
       "      <th>Unnamed: 5</th>\n",
       "      <th>Unnamed: 6</th>\n",
       "      <th>Unnamed: 7</th>\n",
       "      <th>Unnamed: 8</th>\n",
       "      <th>Unnamed: 9</th>\n",
       "      <th>...</th>\n",
       "      <th>Unnamed: 24</th>\n",
       "      <th>Unnamed: 25</th>\n",
       "      <th>Unnamed: 26</th>\n",
       "      <th>Unnamed: 27</th>\n",
       "      <th>Unnamed: 28</th>\n",
       "      <th>Unnamed: 29</th>\n",
       "      <th>Unnamed: 30</th>\n",
       "      <th>Unnamed: 31</th>\n",
       "      <th>Unnamed: 32</th>\n",
       "      <th>Unnamed: 33</th>\n",
       "    </tr>\n",
       "  </thead>\n",
       "  <tbody>\n",
       "    <tr>\n",
       "      <th>0</th>\n",
       "      <td>Table  A-2.  Percent of People 25 Years and Ov...</td>\n",
       "      <td>NaN</td>\n",
       "      <td>NaN</td>\n",
       "      <td>NaN</td>\n",
       "      <td>NaN</td>\n",
       "      <td>NaN</td>\n",
       "      <td>NaN</td>\n",
       "      <td>NaN</td>\n",
       "      <td>NaN</td>\n",
       "      <td>NaN</td>\n",
       "      <td>...</td>\n",
       "      <td>NaN</td>\n",
       "      <td>NaN</td>\n",
       "      <td>NaN</td>\n",
       "      <td>NaN</td>\n",
       "      <td>NaN</td>\n",
       "      <td>NaN</td>\n",
       "      <td>NaN</td>\n",
       "      <td>NaN</td>\n",
       "      <td>NaN</td>\n",
       "      <td>NaN</td>\n",
       "    </tr>\n",
       "    <tr>\n",
       "      <th>1</th>\n",
       "      <td>(Noninstitutionalized population)</td>\n",
       "      <td>NaN</td>\n",
       "      <td>NaN</td>\n",
       "      <td>NaN</td>\n",
       "      <td>NaN</td>\n",
       "      <td>NaN</td>\n",
       "      <td>NaN</td>\n",
       "      <td>NaN</td>\n",
       "      <td>NaN</td>\n",
       "      <td>NaN</td>\n",
       "      <td>...</td>\n",
       "      <td>NaN</td>\n",
       "      <td>NaN</td>\n",
       "      <td>NaN</td>\n",
       "      <td>NaN</td>\n",
       "      <td>NaN</td>\n",
       "      <td>NaN</td>\n",
       "      <td>NaN</td>\n",
       "      <td>NaN</td>\n",
       "      <td>NaN</td>\n",
       "      <td>NaN</td>\n",
       "    </tr>\n",
       "    <tr>\n",
       "      <th>2</th>\n",
       "      <td>NaN</td>\n",
       "      <td>NaN</td>\n",
       "      <td>NaN</td>\n",
       "      <td>NaN</td>\n",
       "      <td>NaN</td>\n",
       "      <td>NaN</td>\n",
       "      <td>NaN</td>\n",
       "      <td>NaN</td>\n",
       "      <td>NaN</td>\n",
       "      <td>NaN</td>\n",
       "      <td>...</td>\n",
       "      <td>NaN</td>\n",
       "      <td>NaN</td>\n",
       "      <td>NaN</td>\n",
       "      <td>NaN</td>\n",
       "      <td>NaN</td>\n",
       "      <td>NaN</td>\n",
       "      <td>NaN</td>\n",
       "      <td>NaN</td>\n",
       "      <td>NaN</td>\n",
       "      <td>NaN</td>\n",
       "    </tr>\n",
       "    <tr>\n",
       "      <th>3</th>\n",
       "      <td>Age and year</td>\n",
       "      <td>NaN</td>\n",
       "      <td>NaN</td>\n",
       "      <td>All races</td>\n",
       "      <td>NaN</td>\n",
       "      <td>NaN</td>\n",
       "      <td>White</td>\n",
       "      <td>NaN</td>\n",
       "      <td>NaN</td>\n",
       "      <td>Non-Hispanic White</td>\n",
       "      <td>...</td>\n",
       "      <td>Non-Hispanic White alone or in combination</td>\n",
       "      <td>NaN</td>\n",
       "      <td>NaN</td>\n",
       "      <td>Black alone or in combination</td>\n",
       "      <td>NaN</td>\n",
       "      <td>NaN</td>\n",
       "      <td>Asian alone or in combination</td>\n",
       "      <td>NaN</td>\n",
       "      <td>NaN</td>\n",
       "      <td>NaN</td>\n",
       "    </tr>\n",
       "    <tr>\n",
       "      <th>4</th>\n",
       "      <td>NaN</td>\n",
       "      <td>NaN</td>\n",
       "      <td>NaN</td>\n",
       "      <td>Total</td>\n",
       "      <td>Male</td>\n",
       "      <td>Female</td>\n",
       "      <td>Total</td>\n",
       "      <td>Male</td>\n",
       "      <td>Female</td>\n",
       "      <td>Total</td>\n",
       "      <td>...</td>\n",
       "      <td>Total</td>\n",
       "      <td>Male</td>\n",
       "      <td>Female</td>\n",
       "      <td>Total</td>\n",
       "      <td>Male</td>\n",
       "      <td>Female</td>\n",
       "      <td>Total</td>\n",
       "      <td>Male</td>\n",
       "      <td>Female</td>\n",
       "      <td>NaN</td>\n",
       "    </tr>\n",
       "  </tbody>\n",
       "</table>\n",
       "<p>5 rows × 34 columns</p>\n",
       "</div>"
      ],
      "text/plain": [
       "  Table with row headers in column A and column headers in rows 5 through 6.  \\\n",
       "0  Table  A-2.  Percent of People 25 Years and Ov...                           \n",
       "1                  (Noninstitutionalized population)                           \n",
       "2                                                NaN                           \n",
       "3                                       Age and year                           \n",
       "4                                                NaN                           \n",
       "\n",
       "  Unnamed: 1 Unnamed: 2 Unnamed: 3 Unnamed: 4 Unnamed: 5 Unnamed: 6  \\\n",
       "0        NaN        NaN        NaN        NaN        NaN        NaN   \n",
       "1        NaN        NaN        NaN        NaN        NaN        NaN   \n",
       "2        NaN        NaN        NaN        NaN        NaN        NaN   \n",
       "3        NaN        NaN  All races        NaN        NaN      White   \n",
       "4        NaN        NaN      Total       Male     Female      Total   \n",
       "\n",
       "  Unnamed: 7 Unnamed: 8          Unnamed: 9  ...  \\\n",
       "0        NaN        NaN                 NaN  ...   \n",
       "1        NaN        NaN                 NaN  ...   \n",
       "2        NaN        NaN                 NaN  ...   \n",
       "3        NaN        NaN  Non-Hispanic White  ...   \n",
       "4       Male     Female               Total  ...   \n",
       "\n",
       "                                  Unnamed: 24 Unnamed: 25 Unnamed: 26  \\\n",
       "0                                         NaN         NaN         NaN   \n",
       "1                                         NaN         NaN         NaN   \n",
       "2                                         NaN         NaN         NaN   \n",
       "3  Non-Hispanic White alone or in combination         NaN         NaN   \n",
       "4                                       Total        Male      Female   \n",
       "\n",
       "                     Unnamed: 27 Unnamed: 28 Unnamed: 29  \\\n",
       "0                            NaN         NaN         NaN   \n",
       "1                            NaN         NaN         NaN   \n",
       "2                            NaN         NaN         NaN   \n",
       "3  Black alone or in combination         NaN         NaN   \n",
       "4                          Total        Male      Female   \n",
       "\n",
       "                     Unnamed: 30 Unnamed: 31 Unnamed: 32 Unnamed: 33  \n",
       "0                            NaN         NaN         NaN         NaN  \n",
       "1                            NaN         NaN         NaN         NaN  \n",
       "2                            NaN         NaN         NaN         NaN  \n",
       "3  Asian alone or in combination         NaN         NaN         NaN  \n",
       "4                          Total        Male      Female         NaN  \n",
       "\n",
       "[5 rows x 34 columns]"
      ]
     },
     "execution_count": 3,
     "metadata": {},
     "output_type": "execute_result"
    }
   ],
   "source": [
    "ed_data = pd.read_csv('https://raw.githubusercontent.com/COGS108/group085_wi21/main/education-attainment.csv?token=ASNGQOAMJ4WS5BYMM6GPTFTAKSQDY')\n",
    "print(ed_data.shape)\n",
    "ed_data.head()\n",
    "\n",
    "#read in the raw csv file of education attainment rates "
   ]
  },
  {
   "cell_type": "markdown",
   "metadata": {},
   "source": [
    "We see that the dataset is organized by race, gender, and different education attainment degrees. However, since we only want to focus on all Americans who are 25 years of age with at least a high school degree, we will be dropping the other columns containing data we do not need. Also, the column names of the data subset will also be renamed so they are informative. "
   ]
  },
  {
   "cell_type": "code",
   "execution_count": 4,
   "metadata": {},
   "outputs": [
    {
     "data": {
      "text/html": [
       "<div>\n",
       "<style scoped>\n",
       "    .dataframe tbody tr th:only-of-type {\n",
       "        vertical-align: middle;\n",
       "    }\n",
       "\n",
       "    .dataframe tbody tr th {\n",
       "        vertical-align: top;\n",
       "    }\n",
       "\n",
       "    .dataframe thead th {\n",
       "        text-align: right;\n",
       "    }\n",
       "</style>\n",
       "<table border=\"1\" class=\"dataframe\">\n",
       "  <thead>\n",
       "    <tr style=\"text-align: right;\">\n",
       "      <th></th>\n",
       "      <th>Year</th>\n",
       "      <th>High school degree attainment</th>\n",
       "    </tr>\n",
       "  </thead>\n",
       "  <tbody>\n",
       "    <tr>\n",
       "      <th>0</th>\n",
       "      <td>2019</td>\n",
       "      <td>90.1</td>\n",
       "    </tr>\n",
       "    <tr>\n",
       "      <th>1</th>\n",
       "      <td>2018</td>\n",
       "      <td>89.8</td>\n",
       "    </tr>\n",
       "    <tr>\n",
       "      <th>2</th>\n",
       "      <td>2017</td>\n",
       "      <td>89.6</td>\n",
       "    </tr>\n",
       "    <tr>\n",
       "      <th>3</th>\n",
       "      <td>2016</td>\n",
       "      <td>89.1</td>\n",
       "    </tr>\n",
       "    <tr>\n",
       "      <th>4</th>\n",
       "      <td>2015</td>\n",
       "      <td>88.4</td>\n",
       "    </tr>\n",
       "    <tr>\n",
       "      <th>5</th>\n",
       "      <td>2014</td>\n",
       "      <td>88.3</td>\n",
       "    </tr>\n",
       "    <tr>\n",
       "      <th>6</th>\n",
       "      <td>2013</td>\n",
       "      <td>88.2</td>\n",
       "    </tr>\n",
       "    <tr>\n",
       "      <th>7</th>\n",
       "      <td>2012 1</td>\n",
       "      <td>87.6</td>\n",
       "    </tr>\n",
       "    <tr>\n",
       "      <th>8</th>\n",
       "      <td>2011</td>\n",
       "      <td>87.6</td>\n",
       "    </tr>\n",
       "    <tr>\n",
       "      <th>9</th>\n",
       "      <td>2010</td>\n",
       "      <td>87.1</td>\n",
       "    </tr>\n",
       "  </tbody>\n",
       "</table>\n",
       "</div>"
      ],
      "text/plain": [
       "     Year High school degree attainment\n",
       "0    2019                          90.1\n",
       "1    2018                          89.8\n",
       "2    2017                          89.6\n",
       "3    2016                          89.1\n",
       "4    2015                          88.4\n",
       "5    2014                          88.3\n",
       "6    2013                          88.2\n",
       "7  2012 1                          87.6\n",
       "8    2011                          87.6\n",
       "9    2010                          87.1"
      ]
     },
     "execution_count": 4,
     "metadata": {},
     "output_type": "execute_result"
    }
   ],
   "source": [
    "#these rows contain data for those who are 25 years old or above with at least four years of high school education. \n",
    "ed_data = ed_data[9:71]\n",
    "\n",
    "#these columns are the year and the corresponding percentage of educational attainment for the entire population \n",
    "ed_data = ed_data.iloc[:, 2:4]\n",
    "\n",
    "#renaming the columns for a better idea of what they store \n",
    "ed_data = ed_data.rename(columns = {'Unnamed: 2':'Year',\n",
    "                           'Unnamed: 3':'High school degree attainment'\n",
    "                            })\n",
    "#reseting the index \n",
    "ed_data.reset_index(drop=True, inplace=True)\n",
    "\n",
    "ed_data.head(10)\n"
   ]
  },
  {
   "cell_type": "markdown",
   "metadata": {},
   "source": [
    "Now we have the subset of data that we want. The first column is the year in which the data is describing and the second column is the percentage of people with at least four years of high school. Since we want to graph and analyze the data, they must be in numerical format. "
   ]
  },
  {
   "cell_type": "code",
   "execution_count": 5,
   "metadata": {},
   "outputs": [
    {
     "data": {
      "text/plain": [
       "Year                             object\n",
       "High school degree attainment    object\n",
       "dtype: object"
      ]
     },
     "execution_count": 5,
     "metadata": {},
     "output_type": "execute_result"
    }
   ],
   "source": [
    "#check the type of data in dataframe \n",
    "ed_data.dtypes"
   ]
  },
  {
   "cell_type": "markdown",
   "metadata": {},
   "source": [
    "Since percentage of high school degree attainment is in decimal form, it will be converted to a float type object. "
   ]
  },
  {
   "cell_type": "code",
   "execution_count": 6,
   "metadata": {},
   "outputs": [
    {
     "data": {
      "text/html": [
       "<div>\n",
       "<style scoped>\n",
       "    .dataframe tbody tr th:only-of-type {\n",
       "        vertical-align: middle;\n",
       "    }\n",
       "\n",
       "    .dataframe tbody tr th {\n",
       "        vertical-align: top;\n",
       "    }\n",
       "\n",
       "    .dataframe thead th {\n",
       "        text-align: right;\n",
       "    }\n",
       "</style>\n",
       "<table border=\"1\" class=\"dataframe\">\n",
       "  <thead>\n",
       "    <tr style=\"text-align: right;\">\n",
       "      <th></th>\n",
       "      <th>Year</th>\n",
       "      <th>High school degree attainment</th>\n",
       "    </tr>\n",
       "  </thead>\n",
       "  <tbody>\n",
       "    <tr>\n",
       "      <th>0</th>\n",
       "      <td>2019</td>\n",
       "      <td>90.1</td>\n",
       "    </tr>\n",
       "    <tr>\n",
       "      <th>1</th>\n",
       "      <td>2018</td>\n",
       "      <td>89.8</td>\n",
       "    </tr>\n",
       "    <tr>\n",
       "      <th>2</th>\n",
       "      <td>2017</td>\n",
       "      <td>89.6</td>\n",
       "    </tr>\n",
       "    <tr>\n",
       "      <th>3</th>\n",
       "      <td>2016</td>\n",
       "      <td>89.1</td>\n",
       "    </tr>\n",
       "    <tr>\n",
       "      <th>4</th>\n",
       "      <td>2015</td>\n",
       "      <td>88.4</td>\n",
       "    </tr>\n",
       "  </tbody>\n",
       "</table>\n",
       "</div>"
      ],
      "text/plain": [
       "   Year  High school degree attainment\n",
       "0  2019                           90.1\n",
       "1  2018                           89.8\n",
       "2  2017                           89.6\n",
       "3  2016                           89.1\n",
       "4  2015                           88.4"
      ]
     },
     "execution_count": 6,
     "metadata": {},
     "output_type": "execute_result"
    }
   ],
   "source": [
    "#convert string to float\n",
    "ed_data['High school degree attainment'] = pd.to_numeric(ed_data['High school degree attainment'])\n",
    "ed_data.head()"
   ]
  },
  {
   "cell_type": "markdown",
   "metadata": {},
   "source": [
    "Some of the data for the year number is followed by a footnote number with a space in between them. To only return a numerical type of the year number, the space and the footnote number will be remove. First, the specific data with footnote numbers is identified and then manipulated. \n"
   ]
  },
  {
   "cell_type": "code",
   "execution_count": 7,
   "metadata": {},
   "outputs": [],
   "source": [
    "#check which data has more than four digits and remove the footnote annotation by replacing and slicing \n",
    "for item in ed_data['Year']:\n",
    "    if len(item)>4:\n",
    "        year = item[0:4]\n",
    "        ed_data = ed_data.replace([item],year)\n",
    "    else:\n",
    "        continue\n",
    "        \n",
    "ed_data['Year'] = pd.to_numeric(ed_data['Year'])"
   ]
  },
  {
   "cell_type": "markdown",
   "metadata": {},
   "source": [
    "Now, the type of the two data will both be in numerical format; Year is a interger type and high school degree is a float type. "
   ]
  },
  {
   "cell_type": "code",
   "execution_count": 8,
   "metadata": {},
   "outputs": [
    {
     "name": "stdout",
     "output_type": "stream",
     "text": [
      "Year                               int64\n",
      "High school degree attainment    float64\n",
      "dtype: object\n"
     ]
    },
    {
     "data": {
      "text/html": [
       "<div>\n",
       "<style scoped>\n",
       "    .dataframe tbody tr th:only-of-type {\n",
       "        vertical-align: middle;\n",
       "    }\n",
       "\n",
       "    .dataframe tbody tr th {\n",
       "        vertical-align: top;\n",
       "    }\n",
       "\n",
       "    .dataframe thead th {\n",
       "        text-align: right;\n",
       "    }\n",
       "</style>\n",
       "<table border=\"1\" class=\"dataframe\">\n",
       "  <thead>\n",
       "    <tr style=\"text-align: right;\">\n",
       "      <th></th>\n",
       "      <th>Year</th>\n",
       "      <th>High school degree attainment</th>\n",
       "    </tr>\n",
       "  </thead>\n",
       "  <tbody>\n",
       "    <tr>\n",
       "      <th>0</th>\n",
       "      <td>2019</td>\n",
       "      <td>90.1</td>\n",
       "    </tr>\n",
       "    <tr>\n",
       "      <th>1</th>\n",
       "      <td>2018</td>\n",
       "      <td>89.8</td>\n",
       "    </tr>\n",
       "    <tr>\n",
       "      <th>2</th>\n",
       "      <td>2017</td>\n",
       "      <td>89.6</td>\n",
       "    </tr>\n",
       "    <tr>\n",
       "      <th>3</th>\n",
       "      <td>2016</td>\n",
       "      <td>89.1</td>\n",
       "    </tr>\n",
       "    <tr>\n",
       "      <th>4</th>\n",
       "      <td>2015</td>\n",
       "      <td>88.4</td>\n",
       "    </tr>\n",
       "    <tr>\n",
       "      <th>5</th>\n",
       "      <td>2014</td>\n",
       "      <td>88.3</td>\n",
       "    </tr>\n",
       "    <tr>\n",
       "      <th>6</th>\n",
       "      <td>2013</td>\n",
       "      <td>88.2</td>\n",
       "    </tr>\n",
       "    <tr>\n",
       "      <th>7</th>\n",
       "      <td>2012</td>\n",
       "      <td>87.6</td>\n",
       "    </tr>\n",
       "    <tr>\n",
       "      <th>8</th>\n",
       "      <td>2011</td>\n",
       "      <td>87.6</td>\n",
       "    </tr>\n",
       "    <tr>\n",
       "      <th>9</th>\n",
       "      <td>2010</td>\n",
       "      <td>87.1</td>\n",
       "    </tr>\n",
       "  </tbody>\n",
       "</table>\n",
       "</div>"
      ],
      "text/plain": [
       "   Year  High school degree attainment\n",
       "0  2019                           90.1\n",
       "1  2018                           89.8\n",
       "2  2017                           89.6\n",
       "3  2016                           89.1\n",
       "4  2015                           88.4\n",
       "5  2014                           88.3\n",
       "6  2013                           88.2\n",
       "7  2012                           87.6\n",
       "8  2011                           87.6\n",
       "9  2010                           87.1"
      ]
     },
     "execution_count": 8,
     "metadata": {},
     "output_type": "execute_result"
    }
   ],
   "source": [
    "print(ed_data.dtypes)\n",
    "ed_data.head(10)"
   ]
  },
  {
   "cell_type": "markdown",
   "metadata": {},
   "source": [
    "The process described above will be applied to the dataset for poverty rates dataset as well. "
   ]
  },
  {
   "cell_type": "code",
   "execution_count": 9,
   "metadata": {},
   "outputs": [
    {
     "data": {
      "text/html": [
       "<div>\n",
       "<style scoped>\n",
       "    .dataframe tbody tr th:only-of-type {\n",
       "        vertical-align: middle;\n",
       "    }\n",
       "\n",
       "    .dataframe tbody tr th {\n",
       "        vertical-align: top;\n",
       "    }\n",
       "\n",
       "    .dataframe thead th {\n",
       "        text-align: right;\n",
       "    }\n",
       "</style>\n",
       "<table border=\"1\" class=\"dataframe\">\n",
       "  <thead>\n",
       "    <tr style=\"text-align: right;\">\n",
       "      <th></th>\n",
       "      <th>Table with row headers in column A and column headers in rows 4 through 6</th>\n",
       "      <th>Unnamed: 1</th>\n",
       "      <th>Unnamed: 2</th>\n",
       "      <th>Unnamed: 3</th>\n",
       "      <th>Unnamed: 4</th>\n",
       "      <th>Unnamed: 5</th>\n",
       "      <th>Unnamed: 6</th>\n",
       "      <th>Unnamed: 7</th>\n",
       "      <th>Unnamed: 8</th>\n",
       "      <th>Unnamed: 9</th>\n",
       "      <th>Unnamed: 10</th>\n",
       "      <th>Unnamed: 11</th>\n",
       "      <th>Unnamed: 12</th>\n",
       "      <th>Unnamed: 13</th>\n",
       "      <th>Unnamed: 14</th>\n",
       "      <th>Unnamed: 15</th>\n",
       "    </tr>\n",
       "  </thead>\n",
       "  <tbody>\n",
       "    <tr>\n",
       "      <th>0</th>\n",
       "      <td>Table 9. Poverty of People by Region: 1959 to ...</td>\n",
       "      <td>NaN</td>\n",
       "      <td>NaN</td>\n",
       "      <td>NaN</td>\n",
       "      <td>NaN</td>\n",
       "      <td>NaN</td>\n",
       "      <td>NaN</td>\n",
       "      <td>NaN</td>\n",
       "      <td>NaN</td>\n",
       "      <td>NaN</td>\n",
       "      <td>NaN</td>\n",
       "      <td>NaN</td>\n",
       "      <td>NaN</td>\n",
       "      <td>NaN</td>\n",
       "      <td>NaN</td>\n",
       "      <td>NaN</td>\n",
       "    </tr>\n",
       "    <tr>\n",
       "      <th>1</th>\n",
       "      <td>(Population in thousands. Population as of Mar...</td>\n",
       "      <td>NaN</td>\n",
       "      <td>NaN</td>\n",
       "      <td>NaN</td>\n",
       "      <td>NaN</td>\n",
       "      <td>NaN</td>\n",
       "      <td>NaN</td>\n",
       "      <td>NaN</td>\n",
       "      <td>NaN</td>\n",
       "      <td>NaN</td>\n",
       "      <td>NaN</td>\n",
       "      <td>NaN</td>\n",
       "      <td>NaN</td>\n",
       "      <td>NaN</td>\n",
       "      <td>NaN</td>\n",
       "      <td>NaN</td>\n",
       "    </tr>\n",
       "    <tr>\n",
       "      <th>2</th>\n",
       "      <td>Year</td>\n",
       "      <td>Total</td>\n",
       "      <td>NaN</td>\n",
       "      <td>NaN</td>\n",
       "      <td>Northeast</td>\n",
       "      <td>NaN</td>\n",
       "      <td>NaN</td>\n",
       "      <td>Midwest</td>\n",
       "      <td>NaN</td>\n",
       "      <td>NaN</td>\n",
       "      <td>South</td>\n",
       "      <td>NaN</td>\n",
       "      <td>NaN</td>\n",
       "      <td>West</td>\n",
       "      <td>NaN</td>\n",
       "      <td>NaN</td>\n",
       "    </tr>\n",
       "    <tr>\n",
       "      <th>3</th>\n",
       "      <td>NaN</td>\n",
       "      <td>Total</td>\n",
       "      <td>Below poverty</td>\n",
       "      <td>NaN</td>\n",
       "      <td>Total</td>\n",
       "      <td>Below poverty</td>\n",
       "      <td>NaN</td>\n",
       "      <td>Total</td>\n",
       "      <td>Below poverty</td>\n",
       "      <td>NaN</td>\n",
       "      <td>Total</td>\n",
       "      <td>Below poverty</td>\n",
       "      <td>NaN</td>\n",
       "      <td>Total</td>\n",
       "      <td>Below poverty</td>\n",
       "      <td>NaN</td>\n",
       "    </tr>\n",
       "    <tr>\n",
       "      <th>4</th>\n",
       "      <td>NaN</td>\n",
       "      <td>NaN</td>\n",
       "      <td>Number</td>\n",
       "      <td>Percent</td>\n",
       "      <td>NaN</td>\n",
       "      <td>Number</td>\n",
       "      <td>Percent</td>\n",
       "      <td>NaN</td>\n",
       "      <td>Number</td>\n",
       "      <td>Percent</td>\n",
       "      <td>NaN</td>\n",
       "      <td>Number</td>\n",
       "      <td>Percent</td>\n",
       "      <td>NaN</td>\n",
       "      <td>Number</td>\n",
       "      <td>Percent</td>\n",
       "    </tr>\n",
       "  </tbody>\n",
       "</table>\n",
       "</div>"
      ],
      "text/plain": [
       "  Table with row headers in column A and column headers in rows 4 through 6  \\\n",
       "0  Table 9. Poverty of People by Region: 1959 to ...                          \n",
       "1  (Population in thousands. Population as of Mar...                          \n",
       "2                                               Year                          \n",
       "3                                                NaN                          \n",
       "4                                                NaN                          \n",
       "\n",
       "  Unnamed: 1     Unnamed: 2 Unnamed: 3 Unnamed: 4     Unnamed: 5 Unnamed: 6  \\\n",
       "0        NaN            NaN        NaN        NaN            NaN        NaN   \n",
       "1        NaN            NaN        NaN        NaN            NaN        NaN   \n",
       "2      Total            NaN        NaN  Northeast            NaN        NaN   \n",
       "3      Total  Below poverty        NaN      Total  Below poverty        NaN   \n",
       "4        NaN         Number    Percent        NaN         Number    Percent   \n",
       "\n",
       "  Unnamed: 7     Unnamed: 8 Unnamed: 9 Unnamed: 10    Unnamed: 11 Unnamed: 12  \\\n",
       "0        NaN            NaN        NaN         NaN            NaN         NaN   \n",
       "1        NaN            NaN        NaN         NaN            NaN         NaN   \n",
       "2    Midwest            NaN        NaN       South            NaN         NaN   \n",
       "3      Total  Below poverty        NaN       Total  Below poverty         NaN   \n",
       "4        NaN         Number    Percent         NaN         Number     Percent   \n",
       "\n",
       "  Unnamed: 13    Unnamed: 14 Unnamed: 15  \n",
       "0         NaN            NaN         NaN  \n",
       "1         NaN            NaN         NaN  \n",
       "2        West            NaN         NaN  \n",
       "3       Total  Below poverty         NaN  \n",
       "4         NaN         Number     Percent  "
      ]
     },
     "execution_count": 9,
     "metadata": {},
     "output_type": "execute_result"
    }
   ],
   "source": [
    "# read in the raw csv file of poverty rates\n",
    "pov_data = pd.read_csv(\"https://raw.githubusercontent.com/COGS108/group085_wi21/main/hstpov9.csv?token=ASNGQOGCXYEFFDAV7PWFTHDAKSQUO\")\n",
    "pov_data.head()\n",
    "    "
   ]
  },
  {
   "cell_type": "code",
   "execution_count": 10,
   "metadata": {},
   "outputs": [
    {
     "data": {
      "text/html": [
       "<div>\n",
       "<style scoped>\n",
       "    .dataframe tbody tr th:only-of-type {\n",
       "        vertical-align: middle;\n",
       "    }\n",
       "\n",
       "    .dataframe tbody tr th {\n",
       "        vertical-align: top;\n",
       "    }\n",
       "\n",
       "    .dataframe thead th {\n",
       "        text-align: right;\n",
       "    }\n",
       "</style>\n",
       "<table border=\"1\" class=\"dataframe\">\n",
       "  <thead>\n",
       "    <tr style=\"text-align: right;\">\n",
       "      <th></th>\n",
       "      <th>Year</th>\n",
       "      <th>Percentage of Poverty</th>\n",
       "    </tr>\n",
       "  </thead>\n",
       "  <tbody>\n",
       "    <tr>\n",
       "      <th>0</th>\n",
       "      <td>2019</td>\n",
       "      <td>10.5</td>\n",
       "    </tr>\n",
       "    <tr>\n",
       "      <th>1</th>\n",
       "      <td>2018</td>\n",
       "      <td>11.8</td>\n",
       "    </tr>\n",
       "    <tr>\n",
       "      <th>2</th>\n",
       "      <td>2017 (21)</td>\n",
       "      <td>12.3</td>\n",
       "    </tr>\n",
       "    <tr>\n",
       "      <th>3</th>\n",
       "      <td>2017</td>\n",
       "      <td>12.3</td>\n",
       "    </tr>\n",
       "    <tr>\n",
       "      <th>4</th>\n",
       "      <td>2016</td>\n",
       "      <td>12.7</td>\n",
       "    </tr>\n",
       "  </tbody>\n",
       "</table>\n",
       "</div>"
      ],
      "text/plain": [
       "        Year Percentage of Poverty\n",
       "0       2019                  10.5\n",
       "1       2018                  11.8\n",
       "2  2017 (21)                  12.3\n",
       "3       2017                  12.3\n",
       "4       2016                  12.7"
      ]
     },
     "execution_count": 10,
     "metadata": {},
     "output_type": "execute_result"
    }
   ],
   "source": [
    "# Although the origianl data also includes data with regards to regions, we will be focusing on the population statistics only.\n",
    "# Excludes the unwanted rows\n",
    "pov_data = pov_data[5 : 60]\n",
    "\n",
    "# Filter out the columns of the Year and the corresponding poverty data\n",
    "pov_data = pov_data.iloc[:, [0,3]]\n",
    "\n",
    "# Rename the columns with readable names\n",
    "pov_data = pov_data.rename(columns = {\"Table with row headers in column A and column headers in rows 4 through 6\" : \"Year\", \n",
    "                                \"Unnamed: 3\" : \"Percentage of Poverty\"})\n",
    "\n",
    "# Reset index for further steps\n",
    "pov_data.reset_index(drop=True, inplace=True)\n",
    "\n",
    "pov_data.head()"
   ]
  },
  {
   "cell_type": "code",
   "execution_count": 11,
   "metadata": {},
   "outputs": [
    {
     "data": {
      "text/plain": [
       "Year                     object\n",
       "Percentage of Poverty    object\n",
       "dtype: object"
      ]
     },
     "execution_count": 11,
     "metadata": {},
     "output_type": "execute_result"
    }
   ],
   "source": [
    "pov_data.dtypes"
   ]
  },
  {
   "cell_type": "code",
   "execution_count": 12,
   "metadata": {},
   "outputs": [
    {
     "data": {
      "text/plain": [
       "Year                       int64\n",
       "Percentage of Poverty    float64\n",
       "dtype: object"
      ]
     },
     "execution_count": 12,
     "metadata": {},
     "output_type": "execute_result"
    }
   ],
   "source": [
    "#transform Percentage of Poverty to numerical format\n",
    "pov_data['Percentage of Poverty'] = pd.to_numeric(pov_data['Percentage of Poverty'])\n",
    "\n",
    "#check which data has more than four digits and remove the footnote annotation by replacing and slicing \n",
    "for item in pov_data['Year']:\n",
    "    if len(item)>4:\n",
    "        year = item[0:4]\n",
    "        pov_data = pov_data.replace([item],year)\n",
    "\n",
    "    else:\n",
    "        continue\n",
    "        \n",
    "pov_data['Year'] = pd.to_numeric(pov_data['Year'])\n",
    "\n",
    "#check element types again\n",
    "pov_data.dtypes\n",
    "\n",
    "\n"
   ]
  },
  {
   "cell_type": "code",
   "execution_count": 13,
   "metadata": {
    "scrolled": true
   },
   "outputs": [
    {
     "data": {
      "text/html": [
       "<div>\n",
       "<style scoped>\n",
       "    .dataframe tbody tr th:only-of-type {\n",
       "        vertical-align: middle;\n",
       "    }\n",
       "\n",
       "    .dataframe tbody tr th {\n",
       "        vertical-align: top;\n",
       "    }\n",
       "\n",
       "    .dataframe thead th {\n",
       "        text-align: right;\n",
       "    }\n",
       "</style>\n",
       "<table border=\"1\" class=\"dataframe\">\n",
       "  <thead>\n",
       "    <tr style=\"text-align: right;\">\n",
       "      <th></th>\n",
       "      <th>Year</th>\n",
       "      <th>Percentage of Poverty</th>\n",
       "    </tr>\n",
       "  </thead>\n",
       "  <tbody>\n",
       "    <tr>\n",
       "      <th>0</th>\n",
       "      <td>2019</td>\n",
       "      <td>10.5</td>\n",
       "    </tr>\n",
       "    <tr>\n",
       "      <th>1</th>\n",
       "      <td>2018</td>\n",
       "      <td>11.8</td>\n",
       "    </tr>\n",
       "    <tr>\n",
       "      <th>2</th>\n",
       "      <td>2017</td>\n",
       "      <td>12.3</td>\n",
       "    </tr>\n",
       "    <tr>\n",
       "      <th>3</th>\n",
       "      <td>2017</td>\n",
       "      <td>12.3</td>\n",
       "    </tr>\n",
       "    <tr>\n",
       "      <th>4</th>\n",
       "      <td>2016</td>\n",
       "      <td>12.7</td>\n",
       "    </tr>\n",
       "  </tbody>\n",
       "</table>\n",
       "</div>"
      ],
      "text/plain": [
       "   Year  Percentage of Poverty\n",
       "0  2019                   10.5\n",
       "1  2018                   11.8\n",
       "2  2017                   12.3\n",
       "3  2017                   12.3\n",
       "4  2016                   12.7"
      ]
     },
     "execution_count": 13,
     "metadata": {},
     "output_type": "execute_result"
    }
   ],
   "source": [
    "pov_data.head()"
   ]
  },
  {
   "cell_type": "code",
   "execution_count": 14,
   "metadata": {},
   "outputs": [
    {
     "name": "stdout",
     "output_type": "stream",
     "text": [
      "Year                             0\n",
      "High school degree attainment    0\n",
      "dtype: int64\n",
      "Year                     0\n",
      "Percentage of Poverty    0\n",
      "dtype: int64\n"
     ]
    }
   ],
   "source": [
    "#check for missing values\n",
    "print(ed_data.isnull().sum())\n",
    "print(pov_data.isnull().sum())"
   ]
  },
  {
   "cell_type": "markdown",
   "metadata": {},
   "source": [
    "There are no missing datas from the subset that we have extracted. "
   ]
  },
  {
   "cell_type": "markdown",
   "metadata": {},
   "source": [
    "# Data Analysis & Results \n",
    "\n",
    "## Descriptive Analysis \n",
    "Before analyzation, lets get a better idea of what each dataset looks like. "
   ]
  },
  {
   "cell_type": "code",
   "execution_count": 15,
   "metadata": {},
   "outputs": [
    {
     "name": "stdout",
     "output_type": "stream",
     "text": [
      "(62, 2)\n"
     ]
    },
    {
     "data": {
      "text/html": [
       "<div>\n",
       "<style scoped>\n",
       "    .dataframe tbody tr th:only-of-type {\n",
       "        vertical-align: middle;\n",
       "    }\n",
       "\n",
       "    .dataframe tbody tr th {\n",
       "        vertical-align: top;\n",
       "    }\n",
       "\n",
       "    .dataframe thead th {\n",
       "        text-align: right;\n",
       "    }\n",
       "</style>\n",
       "<table border=\"1\" class=\"dataframe\">\n",
       "  <thead>\n",
       "    <tr style=\"text-align: right;\">\n",
       "      <th></th>\n",
       "      <th>Year</th>\n",
       "      <th>High school degree attainment</th>\n",
       "    </tr>\n",
       "  </thead>\n",
       "  <tbody>\n",
       "    <tr>\n",
       "      <th>count</th>\n",
       "      <td>62.000000</td>\n",
       "      <td>62.000000</td>\n",
       "    </tr>\n",
       "    <tr>\n",
       "      <th>mean</th>\n",
       "      <td>1987.919355</td>\n",
       "      <td>71.550000</td>\n",
       "    </tr>\n",
       "    <tr>\n",
       "      <th>std</th>\n",
       "      <td>19.083336</td>\n",
       "      <td>16.083835</td>\n",
       "    </tr>\n",
       "    <tr>\n",
       "      <th>min</th>\n",
       "      <td>1947.000000</td>\n",
       "      <td>33.100000</td>\n",
       "    </tr>\n",
       "    <tr>\n",
       "      <th>25%</th>\n",
       "      <td>1973.250000</td>\n",
       "      <td>60.150000</td>\n",
       "    </tr>\n",
       "    <tr>\n",
       "      <th>50%</th>\n",
       "      <td>1988.500000</td>\n",
       "      <td>76.550000</td>\n",
       "    </tr>\n",
       "    <tr>\n",
       "      <th>75%</th>\n",
       "      <td>2003.750000</td>\n",
       "      <td>85.050000</td>\n",
       "    </tr>\n",
       "    <tr>\n",
       "      <th>max</th>\n",
       "      <td>2019.000000</td>\n",
       "      <td>90.100000</td>\n",
       "    </tr>\n",
       "  </tbody>\n",
       "</table>\n",
       "</div>"
      ],
      "text/plain": [
       "              Year  High school degree attainment\n",
       "count    62.000000                      62.000000\n",
       "mean   1987.919355                      71.550000\n",
       "std      19.083336                      16.083835\n",
       "min    1947.000000                      33.100000\n",
       "25%    1973.250000                      60.150000\n",
       "50%    1988.500000                      76.550000\n",
       "75%    2003.750000                      85.050000\n",
       "max    2019.000000                      90.100000"
      ]
     },
     "execution_count": 15,
     "metadata": {},
     "output_type": "execute_result"
    }
   ],
   "source": [
    "#shape and descriptive information of education dataset\n",
    "print(ed_data.shape)\n",
    "ed_data.describe()"
   ]
  },
  {
   "cell_type": "code",
   "execution_count": 16,
   "metadata": {},
   "outputs": [
    {
     "name": "stdout",
     "output_type": "stream",
     "text": [
      "(55, 2)\n"
     ]
    },
    {
     "data": {
      "text/html": [
       "<div>\n",
       "<style scoped>\n",
       "    .dataframe tbody tr th:only-of-type {\n",
       "        vertical-align: middle;\n",
       "    }\n",
       "\n",
       "    .dataframe tbody tr th {\n",
       "        vertical-align: top;\n",
       "    }\n",
       "\n",
       "    .dataframe thead th {\n",
       "        text-align: right;\n",
       "    }\n",
       "</style>\n",
       "<table border=\"1\" class=\"dataframe\">\n",
       "  <thead>\n",
       "    <tr style=\"text-align: right;\">\n",
       "      <th></th>\n",
       "      <th>Year</th>\n",
       "      <th>Percentage of Poverty</th>\n",
       "    </tr>\n",
       "  </thead>\n",
       "  <tbody>\n",
       "    <tr>\n",
       "      <th>count</th>\n",
       "      <td>55.000000</td>\n",
       "      <td>55.000000</td>\n",
       "    </tr>\n",
       "    <tr>\n",
       "      <th>mean</th>\n",
       "      <td>1993.509091</td>\n",
       "      <td>13.421818</td>\n",
       "    </tr>\n",
       "    <tr>\n",
       "      <th>std</th>\n",
       "      <td>16.277538</td>\n",
       "      <td>2.137036</td>\n",
       "    </tr>\n",
       "    <tr>\n",
       "      <th>min</th>\n",
       "      <td>1959.000000</td>\n",
       "      <td>10.500000</td>\n",
       "    </tr>\n",
       "    <tr>\n",
       "      <th>25%</th>\n",
       "      <td>1980.500000</td>\n",
       "      <td>12.200000</td>\n",
       "    </tr>\n",
       "    <tr>\n",
       "      <th>50%</th>\n",
       "      <td>1994.000000</td>\n",
       "      <td>13.000000</td>\n",
       "    </tr>\n",
       "    <tr>\n",
       "      <th>75%</th>\n",
       "      <td>2007.500000</td>\n",
       "      <td>14.350000</td>\n",
       "    </tr>\n",
       "    <tr>\n",
       "      <th>max</th>\n",
       "      <td>2019.000000</td>\n",
       "      <td>22.400000</td>\n",
       "    </tr>\n",
       "  </tbody>\n",
       "</table>\n",
       "</div>"
      ],
      "text/plain": [
       "              Year  Percentage of Poverty\n",
       "count    55.000000              55.000000\n",
       "mean   1993.509091              13.421818\n",
       "std      16.277538               2.137036\n",
       "min    1959.000000              10.500000\n",
       "25%    1980.500000              12.200000\n",
       "50%    1994.000000              13.000000\n",
       "75%    2007.500000              14.350000\n",
       "max    2019.000000              22.400000"
      ]
     },
     "execution_count": 16,
     "metadata": {},
     "output_type": "execute_result"
    }
   ],
   "source": [
    "#shape and descriptive information of poverty dataset\n",
    "print(pov_data.shape)\n",
    "pov_data.describe()"
   ]
  },
  {
   "cell_type": "markdown",
   "metadata": {},
   "source": [
    "The mean percentage of high school degree attainment is 70.49% and the mean percentage of poverty is 13%. However, the record for education attainment starts from 1940 and 1959 for poverty percentage. Before merging the two datasets, let's take a look at the general trend of the records.  "
   ]
  },
  {
   "cell_type": "code",
   "execution_count": 17,
   "metadata": {},
   "outputs": [
    {
     "data": {
      "text/plain": [
       "<matplotlib.axes._subplots.AxesSubplot at 0x7f8629e6acd0>"
      ]
     },
     "execution_count": 17,
     "metadata": {},
     "output_type": "execute_result"
    },
    {
     "data": {
      "image/png": "[encoded data removed]",
      "text/plain": [
       "<Figure size 720x360 with 1 Axes>"
      ]
     },
     "metadata": {},
     "output_type": "display_data"
    }
   ],
   "source": [
    "#plot a line graph of the general trend of education attainment percentage\n",
    "sns.lineplot(x='Year', y='High school degree attainment', data=ed_data)"
   ]
  },
  {
   "cell_type": "code",
   "execution_count": 18,
   "metadata": {},
   "outputs": [
    {
     "data": {
      "text/plain": [
       "<matplotlib.axes._subplots.AxesSubplot at 0x7f8629d04e90>"
      ]
     },
     "execution_count": 18,
     "metadata": {},
     "output_type": "execute_result"
    },
    {
     "data": {
      "image/png": "[encoded data removed]",
      "text/plain": [
       "<Figure size 720x360 with 1 Axes>"
      ]
     },
     "metadata": {},
     "output_type": "display_data"
    }
   ],
   "source": [
    "#plot a line graph of the general trend of poverty percentage\n",
    "sns.lineplot(x='Year', y='Percentage of Poverty', data=pov_data)"
   ]
  },
  {
   "cell_type": "markdown",
   "metadata": {},
   "source": [
    "It seems that there is a trend in an increase in education attainment rate as the year increases. However, the trend for poverty rate fluctuates quite a lot, starting with a sharp decrease followed by a number of fluctuations. "
   ]
  },
  {
   "cell_type": "markdown",
   "metadata": {},
   "source": [
    "## EDA\n",
    "To analyze our data, first we will have merge the two subsets into one. "
   ]
  },
  {
   "cell_type": "code",
   "execution_count": 19,
   "metadata": {},
   "outputs": [
    {
     "name": "stdout",
     "output_type": "stream",
     "text": [
      "(64, 3)\n"
     ]
    },
    {
     "data": {
      "text/html": [
       "<div>\n",
       "<style scoped>\n",
       "    .dataframe tbody tr th:only-of-type {\n",
       "        vertical-align: middle;\n",
       "    }\n",
       "\n",
       "    .dataframe tbody tr th {\n",
       "        vertical-align: top;\n",
       "    }\n",
       "\n",
       "    .dataframe thead th {\n",
       "        text-align: right;\n",
       "    }\n",
       "</style>\n",
       "<table border=\"1\" class=\"dataframe\">\n",
       "  <thead>\n",
       "    <tr style=\"text-align: right;\">\n",
       "      <th></th>\n",
       "      <th>Year</th>\n",
       "      <th>High school degree attainment</th>\n",
       "      <th>Percentage of Poverty</th>\n",
       "    </tr>\n",
       "  </thead>\n",
       "  <tbody>\n",
       "    <tr>\n",
       "      <th>0</th>\n",
       "      <td>2019</td>\n",
       "      <td>90.1</td>\n",
       "      <td>10.5</td>\n",
       "    </tr>\n",
       "    <tr>\n",
       "      <th>1</th>\n",
       "      <td>2018</td>\n",
       "      <td>89.8</td>\n",
       "      <td>11.8</td>\n",
       "    </tr>\n",
       "    <tr>\n",
       "      <th>2</th>\n",
       "      <td>2017</td>\n",
       "      <td>89.6</td>\n",
       "      <td>12.3</td>\n",
       "    </tr>\n",
       "    <tr>\n",
       "      <th>3</th>\n",
       "      <td>2017</td>\n",
       "      <td>89.6</td>\n",
       "      <td>12.3</td>\n",
       "    </tr>\n",
       "    <tr>\n",
       "      <th>4</th>\n",
       "      <td>2016</td>\n",
       "      <td>89.1</td>\n",
       "      <td>12.7</td>\n",
       "    </tr>\n",
       "    <tr>\n",
       "      <th>...</th>\n",
       "      <td>...</td>\n",
       "      <td>...</td>\n",
       "      <td>...</td>\n",
       "    </tr>\n",
       "    <tr>\n",
       "      <th>59</th>\n",
       "      <td>1959</td>\n",
       "      <td>43.7</td>\n",
       "      <td>22.4</td>\n",
       "    </tr>\n",
       "    <tr>\n",
       "      <th>60</th>\n",
       "      <td>1957</td>\n",
       "      <td>41.6</td>\n",
       "      <td>NaN</td>\n",
       "    </tr>\n",
       "    <tr>\n",
       "      <th>61</th>\n",
       "      <td>1952</td>\n",
       "      <td>38.8</td>\n",
       "      <td>NaN</td>\n",
       "    </tr>\n",
       "    <tr>\n",
       "      <th>62</th>\n",
       "      <td>1950</td>\n",
       "      <td>34.3</td>\n",
       "      <td>NaN</td>\n",
       "    </tr>\n",
       "    <tr>\n",
       "      <th>63</th>\n",
       "      <td>1947</td>\n",
       "      <td>33.1</td>\n",
       "      <td>NaN</td>\n",
       "    </tr>\n",
       "  </tbody>\n",
       "</table>\n",
       "<p>64 rows × 3 columns</p>\n",
       "</div>"
      ],
      "text/plain": [
       "    Year  High school degree attainment  Percentage of Poverty\n",
       "0   2019                           90.1                   10.5\n",
       "1   2018                           89.8                   11.8\n",
       "2   2017                           89.6                   12.3\n",
       "3   2017                           89.6                   12.3\n",
       "4   2016                           89.1                   12.7\n",
       "..   ...                            ...                    ...\n",
       "59  1959                           43.7                   22.4\n",
       "60  1957                           41.6                    NaN\n",
       "61  1952                           38.8                    NaN\n",
       "62  1950                           34.3                    NaN\n",
       "63  1947                           33.1                    NaN\n",
       "\n",
       "[64 rows x 3 columns]"
      ]
     },
     "execution_count": 19,
     "metadata": {},
     "output_type": "execute_result"
    }
   ],
   "source": [
    "#left merge of two subsets \n",
    "ed_pov = pd.merge(ed_data, pov_data, how='left', left_on='Year', right_on='Year')\n",
    "print(ed_pov.shape)\n",
    "ed_pov"
   ]
  },
  {
   "cell_type": "markdown",
   "metadata": {},
   "source": [
    "Since the number of rows for the two subsets are not equal, merging the data will result in missing values. The rows with missing values will be dropped. "
   ]
  },
  {
   "cell_type": "code",
   "execution_count": 20,
   "metadata": {},
   "outputs": [
    {
     "data": {
      "text/plain": [
       "Year                              0\n",
       "High school degree attainment     0\n",
       "Percentage of Poverty            10\n",
       "dtype: int64"
      ]
     },
     "execution_count": 20,
     "metadata": {},
     "output_type": "execute_result"
    }
   ],
   "source": [
    "#check for missing rows \n",
    "ed_pov.isnull().sum()"
   ]
  },
  {
   "cell_type": "code",
   "execution_count": 21,
   "metadata": {},
   "outputs": [
    {
     "data": {
      "text/plain": [
       "(54, 3)"
      ]
     },
     "execution_count": 21,
     "metadata": {},
     "output_type": "execute_result"
    }
   ],
   "source": [
    "#drop NaNs and check shape of subset\n",
    "ed_pov = ed_pov.dropna(how='any')\n",
    "ed_pov.shape\n"
   ]
  },
  {
   "cell_type": "code",
   "execution_count": 22,
   "metadata": {},
   "outputs": [
    {
     "data": {
      "text/html": [
       "<div>\n",
       "<style scoped>\n",
       "    .dataframe tbody tr th:only-of-type {\n",
       "        vertical-align: middle;\n",
       "    }\n",
       "\n",
       "    .dataframe tbody tr th {\n",
       "        vertical-align: top;\n",
       "    }\n",
       "\n",
       "    .dataframe thead th {\n",
       "        text-align: right;\n",
       "    }\n",
       "</style>\n",
       "<table border=\"1\" class=\"dataframe\">\n",
       "  <thead>\n",
       "    <tr style=\"text-align: right;\">\n",
       "      <th></th>\n",
       "      <th>Year</th>\n",
       "      <th>High school degree attainment</th>\n",
       "      <th>Percentage of Poverty</th>\n",
       "    </tr>\n",
       "  </thead>\n",
       "  <tbody>\n",
       "    <tr>\n",
       "      <th>0</th>\n",
       "      <td>2019</td>\n",
       "      <td>90.1</td>\n",
       "      <td>10.5</td>\n",
       "    </tr>\n",
       "    <tr>\n",
       "      <th>1</th>\n",
       "      <td>2018</td>\n",
       "      <td>89.8</td>\n",
       "      <td>11.8</td>\n",
       "    </tr>\n",
       "    <tr>\n",
       "      <th>2</th>\n",
       "      <td>2017</td>\n",
       "      <td>89.6</td>\n",
       "      <td>12.3</td>\n",
       "    </tr>\n",
       "    <tr>\n",
       "      <th>3</th>\n",
       "      <td>2017</td>\n",
       "      <td>89.6</td>\n",
       "      <td>12.3</td>\n",
       "    </tr>\n",
       "    <tr>\n",
       "      <th>4</th>\n",
       "      <td>2016</td>\n",
       "      <td>89.1</td>\n",
       "      <td>12.7</td>\n",
       "    </tr>\n",
       "  </tbody>\n",
       "</table>\n",
       "</div>"
      ],
      "text/plain": [
       "   Year  High school degree attainment  Percentage of Poverty\n",
       "0  2019                           90.1                   10.5\n",
       "1  2018                           89.8                   11.8\n",
       "2  2017                           89.6                   12.3\n",
       "3  2017                           89.6                   12.3\n",
       "4  2016                           89.1                   12.7"
      ]
     },
     "execution_count": 22,
     "metadata": {},
     "output_type": "execute_result"
    }
   ],
   "source": [
    "ed_pov.head()"
   ]
  },
  {
   "cell_type": "code",
   "execution_count": 24,
   "metadata": {},
   "outputs": [
    {
     "data": {
      "text/plain": [
       "array([[<matplotlib.axes._subplots.AxesSubplot object at 0x7f8629b81bd0>]],\n",
       "      dtype=object)"
      ]
     },
     "execution_count": 24,
     "metadata": {},
     "output_type": "execute_result"
    },
    {
     "data": {
      "image/png": "[encoded data removed]",
      "text/plain": [
       "<Figure size 720x360 with 1 Axes>"
      ]
     },
     "metadata": {},
     "output_type": "display_data"
    }
   ],
   "source": [
    "#Histogram of high school degree attainment\n",
    "ed_pov.hist(column = \"High school degree attainment\")"
   ]
  },
  {
   "cell_type": "code",
   "execution_count": 26,
   "metadata": {},
   "outputs": [
    {
     "data": {
      "text/plain": [
       "array([[<matplotlib.axes._subplots.AxesSubplot object at 0x7f8629ba27d0>]],\n",
       "      dtype=object)"
      ]
     },
     "execution_count": 26,
     "metadata": {},
     "output_type": "execute_result"
    },
    {
     "data": {
      "image/png": "[encoded data removed]",
      "text/plain": [
       "<Figure size 720x360 with 1 Axes>"
      ]
     },
     "metadata": {},
     "output_type": "display_data"
    }
   ],
   "source": [
    "#Histogram of percentage of poverty\n",
    "ed_pov.hist(column = \"Percentage of Poverty\", bins = 20)"
   ]
  },
  {
   "cell_type": "markdown",
   "metadata": {},
   "source": [
    "We can tell from the distribution of percentage of poverty that there is an outlier in our merged dataset. Since the outlier would drastically affect the result of our analysis, the row with the outlier will be dropped."
   ]
  },
  {
   "cell_type": "code",
   "execution_count": 27,
   "metadata": {},
   "outputs": [],
   "source": [
    "ed_pov = ed_pov[ed_pov['Percentage of Poverty'] < 20]"
   ]
  },
  {
   "cell_type": "markdown",
   "metadata": {},
   "source": [
    "Now we take a look at the histogram again."
   ]
  },
  {
   "cell_type": "code",
   "execution_count": 28,
   "metadata": {},
   "outputs": [
    {
     "data": {
      "text/plain": [
       "array([[<matplotlib.axes._subplots.AxesSubplot object at 0x7f8629cf2350>]],\n",
       "      dtype=object)"
      ]
     },
     "execution_count": 28,
     "metadata": {},
     "output_type": "execute_result"
    },
    {
     "data": {
      "image/png": "[encoded data removed]",
      "text/plain": [
       "<Figure size 720x360 with 1 Axes>"
      ]
     },
     "metadata": {},
     "output_type": "display_data"
    }
   ],
   "source": [
    "#Histogram of high school degree attainment\n",
    "ed_pov.hist(column = \"High school degree attainment\")\n",
    "\n"
   ]
  },
  {
   "cell_type": "code",
   "execution_count": 29,
   "metadata": {},
   "outputs": [
    {
     "data": {
      "text/plain": [
       "array([[<matplotlib.axes._subplots.AxesSubplot object at 0x7f8629a8be10>]],\n",
       "      dtype=object)"
      ]
     },
     "execution_count": 29,
     "metadata": {},
     "output_type": "execute_result"
    },
    {
     "data": {
      "image/png": "[encoded data removed]",
      "text/plain": [
       "<Figure size 720x360 with 1 Axes>"
      ]
     },
     "metadata": {},
     "output_type": "display_data"
    }
   ],
   "source": [
    "#Histogram of percentage of poverty\n",
    "ed_pov.hist(column = \"Percentage of Poverty\", bins = 20)\n"
   ]
  },
  {
   "cell_type": "code",
   "execution_count": 27,
   "metadata": {},
   "outputs": [
    {
     "data": {
      "text/html": [
       "<div>\n",
       "<style scoped>\n",
       "    .dataframe tbody tr th:only-of-type {\n",
       "        vertical-align: middle;\n",
       "    }\n",
       "\n",
       "    .dataframe tbody tr th {\n",
       "        vertical-align: top;\n",
       "    }\n",
       "\n",
       "    .dataframe thead th {\n",
       "        text-align: right;\n",
       "    }\n",
       "</style>\n",
       "<table border=\"1\" class=\"dataframe\">\n",
       "  <thead>\n",
       "    <tr style=\"text-align: right;\">\n",
       "      <th></th>\n",
       "      <th>Year</th>\n",
       "      <th>High school degree attainment</th>\n",
       "      <th>Percentage of Poverty</th>\n",
       "    </tr>\n",
       "  </thead>\n",
       "  <tbody>\n",
       "    <tr>\n",
       "      <th>0</th>\n",
       "      <td>2019</td>\n",
       "      <td>90.1</td>\n",
       "      <td>10.5</td>\n",
       "    </tr>\n",
       "    <tr>\n",
       "      <th>1</th>\n",
       "      <td>2018</td>\n",
       "      <td>89.8</td>\n",
       "      <td>11.8</td>\n",
       "    </tr>\n",
       "    <tr>\n",
       "      <th>2</th>\n",
       "      <td>2017</td>\n",
       "      <td>89.6</td>\n",
       "      <td>12.3</td>\n",
       "    </tr>\n",
       "    <tr>\n",
       "      <th>3</th>\n",
       "      <td>2017</td>\n",
       "      <td>89.6</td>\n",
       "      <td>12.3</td>\n",
       "    </tr>\n",
       "    <tr>\n",
       "      <th>4</th>\n",
       "      <td>2016</td>\n",
       "      <td>89.1</td>\n",
       "      <td>12.7</td>\n",
       "    </tr>\n",
       "    <tr>\n",
       "      <th>5</th>\n",
       "      <td>2015</td>\n",
       "      <td>88.4</td>\n",
       "      <td>13.5</td>\n",
       "    </tr>\n",
       "    <tr>\n",
       "      <th>6</th>\n",
       "      <td>2014</td>\n",
       "      <td>88.3</td>\n",
       "      <td>14.8</td>\n",
       "    </tr>\n",
       "    <tr>\n",
       "      <th>7</th>\n",
       "      <td>2013</td>\n",
       "      <td>88.2</td>\n",
       "      <td>14.8</td>\n",
       "    </tr>\n",
       "    <tr>\n",
       "      <th>8</th>\n",
       "      <td>2013</td>\n",
       "      <td>88.2</td>\n",
       "      <td>14.5</td>\n",
       "    </tr>\n",
       "    <tr>\n",
       "      <th>9</th>\n",
       "      <td>2012</td>\n",
       "      <td>87.6</td>\n",
       "      <td>15.0</td>\n",
       "    </tr>\n",
       "    <tr>\n",
       "      <th>10</th>\n",
       "      <td>2011</td>\n",
       "      <td>87.6</td>\n",
       "      <td>15.0</td>\n",
       "    </tr>\n",
       "    <tr>\n",
       "      <th>11</th>\n",
       "      <td>2010</td>\n",
       "      <td>87.1</td>\n",
       "      <td>15.1</td>\n",
       "    </tr>\n",
       "    <tr>\n",
       "      <th>12</th>\n",
       "      <td>2009</td>\n",
       "      <td>86.7</td>\n",
       "      <td>14.3</td>\n",
       "    </tr>\n",
       "    <tr>\n",
       "      <th>13</th>\n",
       "      <td>2008</td>\n",
       "      <td>86.6</td>\n",
       "      <td>13.2</td>\n",
       "    </tr>\n",
       "    <tr>\n",
       "      <th>14</th>\n",
       "      <td>2007</td>\n",
       "      <td>85.7</td>\n",
       "      <td>12.5</td>\n",
       "    </tr>\n",
       "    <tr>\n",
       "      <th>15</th>\n",
       "      <td>2006</td>\n",
       "      <td>85.5</td>\n",
       "      <td>12.3</td>\n",
       "    </tr>\n",
       "    <tr>\n",
       "      <th>16</th>\n",
       "      <td>2005</td>\n",
       "      <td>85.2</td>\n",
       "      <td>12.6</td>\n",
       "    </tr>\n",
       "    <tr>\n",
       "      <th>17</th>\n",
       "      <td>2004</td>\n",
       "      <td>85.2</td>\n",
       "      <td>12.7</td>\n",
       "    </tr>\n",
       "    <tr>\n",
       "      <th>18</th>\n",
       "      <td>2003</td>\n",
       "      <td>84.6</td>\n",
       "      <td>12.5</td>\n",
       "    </tr>\n",
       "    <tr>\n",
       "      <th>19</th>\n",
       "      <td>2002</td>\n",
       "      <td>84.1</td>\n",
       "      <td>12.1</td>\n",
       "    </tr>\n",
       "    <tr>\n",
       "      <th>20</th>\n",
       "      <td>2001</td>\n",
       "      <td>84.1</td>\n",
       "      <td>11.7</td>\n",
       "    </tr>\n",
       "    <tr>\n",
       "      <th>21</th>\n",
       "      <td>2000</td>\n",
       "      <td>84.1</td>\n",
       "      <td>11.3</td>\n",
       "    </tr>\n",
       "    <tr>\n",
       "      <th>22</th>\n",
       "      <td>1999</td>\n",
       "      <td>83.4</td>\n",
       "      <td>11.9</td>\n",
       "    </tr>\n",
       "    <tr>\n",
       "      <th>23</th>\n",
       "      <td>1998</td>\n",
       "      <td>82.8</td>\n",
       "      <td>12.7</td>\n",
       "    </tr>\n",
       "    <tr>\n",
       "      <th>24</th>\n",
       "      <td>1997</td>\n",
       "      <td>82.1</td>\n",
       "      <td>13.3</td>\n",
       "    </tr>\n",
       "    <tr>\n",
       "      <th>25</th>\n",
       "      <td>1996</td>\n",
       "      <td>81.7</td>\n",
       "      <td>13.7</td>\n",
       "    </tr>\n",
       "    <tr>\n",
       "      <th>26</th>\n",
       "      <td>1995</td>\n",
       "      <td>81.7</td>\n",
       "      <td>13.8</td>\n",
       "    </tr>\n",
       "    <tr>\n",
       "      <th>27</th>\n",
       "      <td>1994</td>\n",
       "      <td>80.9</td>\n",
       "      <td>14.5</td>\n",
       "    </tr>\n",
       "    <tr>\n",
       "      <th>28</th>\n",
       "      <td>1993</td>\n",
       "      <td>80.2</td>\n",
       "      <td>15.1</td>\n",
       "    </tr>\n",
       "    <tr>\n",
       "      <th>29</th>\n",
       "      <td>1992</td>\n",
       "      <td>79.4</td>\n",
       "      <td>14.8</td>\n",
       "    </tr>\n",
       "    <tr>\n",
       "      <th>30</th>\n",
       "      <td>1991</td>\n",
       "      <td>78.4</td>\n",
       "      <td>14.2</td>\n",
       "    </tr>\n",
       "    <tr>\n",
       "      <th>31</th>\n",
       "      <td>1990</td>\n",
       "      <td>77.6</td>\n",
       "      <td>13.5</td>\n",
       "    </tr>\n",
       "    <tr>\n",
       "      <th>32</th>\n",
       "      <td>1989</td>\n",
       "      <td>76.9</td>\n",
       "      <td>12.8</td>\n",
       "    </tr>\n",
       "    <tr>\n",
       "      <th>33</th>\n",
       "      <td>1988</td>\n",
       "      <td>76.2</td>\n",
       "      <td>13.0</td>\n",
       "    </tr>\n",
       "    <tr>\n",
       "      <th>34</th>\n",
       "      <td>1987</td>\n",
       "      <td>75.6</td>\n",
       "      <td>13.4</td>\n",
       "    </tr>\n",
       "    <tr>\n",
       "      <th>35</th>\n",
       "      <td>1986</td>\n",
       "      <td>74.7</td>\n",
       "      <td>13.6</td>\n",
       "    </tr>\n",
       "    <tr>\n",
       "      <th>36</th>\n",
       "      <td>1985</td>\n",
       "      <td>73.9</td>\n",
       "      <td>14.0</td>\n",
       "    </tr>\n",
       "    <tr>\n",
       "      <th>37</th>\n",
       "      <td>1984</td>\n",
       "      <td>73.3</td>\n",
       "      <td>14.4</td>\n",
       "    </tr>\n",
       "    <tr>\n",
       "      <th>38</th>\n",
       "      <td>1983</td>\n",
       "      <td>72.1</td>\n",
       "      <td>15.2</td>\n",
       "    </tr>\n",
       "    <tr>\n",
       "      <th>39</th>\n",
       "      <td>1982</td>\n",
       "      <td>71.0</td>\n",
       "      <td>15.0</td>\n",
       "    </tr>\n",
       "    <tr>\n",
       "      <th>40</th>\n",
       "      <td>1981</td>\n",
       "      <td>69.7</td>\n",
       "      <td>14.0</td>\n",
       "    </tr>\n",
       "    <tr>\n",
       "      <th>41</th>\n",
       "      <td>1980</td>\n",
       "      <td>68.6</td>\n",
       "      <td>13.0</td>\n",
       "    </tr>\n",
       "    <tr>\n",
       "      <th>42</th>\n",
       "      <td>1979</td>\n",
       "      <td>67.7</td>\n",
       "      <td>11.7</td>\n",
       "    </tr>\n",
       "    <tr>\n",
       "      <th>43</th>\n",
       "      <td>1978</td>\n",
       "      <td>65.9</td>\n",
       "      <td>11.4</td>\n",
       "    </tr>\n",
       "    <tr>\n",
       "      <th>44</th>\n",
       "      <td>1977</td>\n",
       "      <td>64.9</td>\n",
       "      <td>11.6</td>\n",
       "    </tr>\n",
       "    <tr>\n",
       "      <th>45</th>\n",
       "      <td>1976</td>\n",
       "      <td>64.1</td>\n",
       "      <td>11.8</td>\n",
       "    </tr>\n",
       "    <tr>\n",
       "      <th>46</th>\n",
       "      <td>1975</td>\n",
       "      <td>62.5</td>\n",
       "      <td>12.3</td>\n",
       "    </tr>\n",
       "    <tr>\n",
       "      <th>47</th>\n",
       "      <td>1974</td>\n",
       "      <td>61.2</td>\n",
       "      <td>11.2</td>\n",
       "    </tr>\n",
       "    <tr>\n",
       "      <th>48</th>\n",
       "      <td>1973</td>\n",
       "      <td>59.8</td>\n",
       "      <td>11.1</td>\n",
       "    </tr>\n",
       "    <tr>\n",
       "      <th>49</th>\n",
       "      <td>1972</td>\n",
       "      <td>58.2</td>\n",
       "      <td>11.9</td>\n",
       "    </tr>\n",
       "    <tr>\n",
       "      <th>50</th>\n",
       "      <td>1971</td>\n",
       "      <td>56.4</td>\n",
       "      <td>12.5</td>\n",
       "    </tr>\n",
       "    <tr>\n",
       "      <th>51</th>\n",
       "      <td>1970</td>\n",
       "      <td>55.2</td>\n",
       "      <td>12.6</td>\n",
       "    </tr>\n",
       "    <tr>\n",
       "      <th>52</th>\n",
       "      <td>1969</td>\n",
       "      <td>54.0</td>\n",
       "      <td>12.1</td>\n",
       "    </tr>\n",
       "  </tbody>\n",
       "</table>\n",
       "</div>"
      ],
      "text/plain": [
       "    Year  High school degree attainment  Percentage of Poverty\n",
       "0   2019                           90.1                   10.5\n",
       "1   2018                           89.8                   11.8\n",
       "2   2017                           89.6                   12.3\n",
       "3   2017                           89.6                   12.3\n",
       "4   2016                           89.1                   12.7\n",
       "5   2015                           88.4                   13.5\n",
       "6   2014                           88.3                   14.8\n",
       "7   2013                           88.2                   14.8\n",
       "8   2013                           88.2                   14.5\n",
       "9   2012                           87.6                   15.0\n",
       "10  2011                           87.6                   15.0\n",
       "11  2010                           87.1                   15.1\n",
       "12  2009                           86.7                   14.3\n",
       "13  2008                           86.6                   13.2\n",
       "14  2007                           85.7                   12.5\n",
       "15  2006                           85.5                   12.3\n",
       "16  2005                           85.2                   12.6\n",
       "17  2004                           85.2                   12.7\n",
       "18  2003                           84.6                   12.5\n",
       "19  2002                           84.1                   12.1\n",
       "20  2001                           84.1                   11.7\n",
       "21  2000                           84.1                   11.3\n",
       "22  1999                           83.4                   11.9\n",
       "23  1998                           82.8                   12.7\n",
       "24  1997                           82.1                   13.3\n",
       "25  1996                           81.7                   13.7\n",
       "26  1995                           81.7                   13.8\n",
       "27  1994                           80.9                   14.5\n",
       "28  1993                           80.2                   15.1\n",
       "29  1992                           79.4                   14.8\n",
       "30  1991                           78.4                   14.2\n",
       "31  1990                           77.6                   13.5\n",
       "32  1989                           76.9                   12.8\n",
       "33  1988                           76.2                   13.0\n",
       "34  1987                           75.6                   13.4\n",
       "35  1986                           74.7                   13.6\n",
       "36  1985                           73.9                   14.0\n",
       "37  1984                           73.3                   14.4\n",
       "38  1983                           72.1                   15.2\n",
       "39  1982                           71.0                   15.0\n",
       "40  1981                           69.7                   14.0\n",
       "41  1980                           68.6                   13.0\n",
       "42  1979                           67.7                   11.7\n",
       "43  1978                           65.9                   11.4\n",
       "44  1977                           64.9                   11.6\n",
       "45  1976                           64.1                   11.8\n",
       "46  1975                           62.5                   12.3\n",
       "47  1974                           61.2                   11.2\n",
       "48  1973                           59.8                   11.1\n",
       "49  1972                           58.2                   11.9\n",
       "50  1971                           56.4                   12.5\n",
       "51  1970                           55.2                   12.6\n",
       "52  1969                           54.0                   12.1"
      ]
     },
     "execution_count": 27,
     "metadata": {},
     "output_type": "execute_result"
    }
   ],
   "source": [
    "#the dataset we will be using to perform inferential analysis on\n",
    "ed_pov"
   ]
  },
  {
   "cell_type": "markdown",
   "metadata": {},
   "source": [
    "Once the outliers are removed from each histogram, the resulting dataset is the one we will be using to perform inferential analysis on. To see if there is a correlation between the two factors, a scatter plot can be useful to visual the relationship between them. "
   ]
  },
  {
   "cell_type": "code",
   "execution_count": 28,
   "metadata": {},
   "outputs": [
    {
     "data": {
      "text/plain": [
       "Text(0, 0.5, 'Percentage of Poverty')"
      ]
     },
     "execution_count": 28,
     "metadata": {},
     "output_type": "execute_result"
    },
    {
     "data": {
      "image/png": "[encoded data removed]",
      "text/plain": [
       "<Figure size 720x360 with 1 Axes>"
      ]
     },
     "metadata": {},
     "output_type": "display_data"
    }
   ],
   "source": [
    "# Scatter plot of high school degree attainment and percentage of poverty\n",
    "plt.scatter(x='High school degree attainment', y='Percentage of Poverty', data=ed_pov)\n",
    "plt.xlabel('High school degree attainment')\n",
    "plt.ylabel('Percentage of Poverty')\n"
   ]
  },
  {
   "cell_type": "markdown",
   "metadata": {},
   "source": [
    "Here, we see that there seems to be a weak trend of a positive correlation between the two factors. The poverty percentage seems to fluctuate in this graph as well. Thus, to examine the correlation further, an inferential analysis will be carried out. "
   ]
  },
  {
   "cell_type": "markdown",
   "metadata": {},
   "source": [
    "## Inferential Analysis and Results "
   ]
  },
  {
   "cell_type": "markdown",
   "metadata": {},
   "source": [
    "To determine whether there is a correlation between the percentage of high school attainment and the poverty rate, we will first create a linear regression model using the Ordinary Least Square (OLS) estimation method. In this model, the predictor will be high school degree attainment and the outcome will be poverty percentage. By setting the predictors and the outcome variables this way, we will be examining the impact of educational attainment on poverty percentage. \n"
   ]
  },
  {
   "cell_type": "code",
   "execution_count": 29,
   "metadata": {},
   "outputs": [
    {
     "data": {
      "text/html": [
       "<table class=\"simpletable\">\n",
       "<caption>OLS Regression Results</caption>\n",
       "<tr>\n",
       "  <th>Dep. Variable:</th>    <td>Percentage of Poverty</td> <th>  R-squared:         </th> <td>   0.078</td>\n",
       "</tr>\n",
       "<tr>\n",
       "  <th>Model:</th>                     <td>OLS</td>          <th>  Adj. R-squared:    </th> <td>   0.060</td>\n",
       "</tr>\n",
       "<tr>\n",
       "  <th>Method:</th>               <td>Least Squares</td>     <th>  F-statistic:       </th> <td>   4.320</td>\n",
       "</tr>\n",
       "<tr>\n",
       "  <th>Date:</th>               <td>Wed, 17 Mar 2021</td>    <th>  Prob (F-statistic):</th>  <td>0.0427</td> \n",
       "</tr>\n",
       "<tr>\n",
       "  <th>Time:</th>                   <td>23:54:05</td>        <th>  Log-Likelihood:    </th> <td> -84.936</td>\n",
       "</tr>\n",
       "<tr>\n",
       "  <th>No. Observations:</th>        <td>    53</td>         <th>  AIC:               </th> <td>   173.9</td>\n",
       "</tr>\n",
       "<tr>\n",
       "  <th>Df Residuals:</th>            <td>    51</td>         <th>  BIC:               </th> <td>   177.8</td>\n",
       "</tr>\n",
       "<tr>\n",
       "  <th>Df Model:</th>                <td>     1</td>         <th>                     </th>     <td> </td>   \n",
       "</tr>\n",
       "<tr>\n",
       "  <th>Covariance Type:</th>        <td>nonrobust</td>       <th>                     </th>     <td> </td>   \n",
       "</tr>\n",
       "</table>\n",
       "<table class=\"simpletable\">\n",
       "<tr>\n",
       "                <td></td>                   <th>coef</th>     <th>std err</th>      <th>t</th>      <th>P>|t|</th>  <th>[0.025</th>    <th>0.975]</th>  \n",
       "</tr>\n",
       "<tr>\n",
       "  <th>const</th>                         <td>   10.4684</td> <td>    1.271</td> <td>    8.237</td> <td> 0.000</td> <td>    7.917</td> <td>   13.020</td>\n",
       "</tr>\n",
       "<tr>\n",
       "  <th>High school degree attainment</th> <td>    0.0336</td> <td>    0.016</td> <td>    2.079</td> <td> 0.043</td> <td>    0.001</td> <td>    0.066</td>\n",
       "</tr>\n",
       "</table>\n",
       "<table class=\"simpletable\">\n",
       "<tr>\n",
       "  <th>Omnibus:</th>       <td> 1.784</td> <th>  Durbin-Watson:     </th> <td>   0.255</td>\n",
       "</tr>\n",
       "<tr>\n",
       "  <th>Prob(Omnibus):</th> <td> 0.410</td> <th>  Jarque-Bera (JB):  </th> <td>   1.203</td>\n",
       "</tr>\n",
       "<tr>\n",
       "  <th>Skew:</th>          <td>-0.012</td> <th>  Prob(JB):          </th> <td>   0.548</td>\n",
       "</tr>\n",
       "<tr>\n",
       "  <th>Kurtosis:</th>      <td> 2.262</td> <th>  Cond. No.          </th> <td>    593.</td>\n",
       "</tr>\n",
       "</table><br/><br/>Warnings:<br/>[1] Standard Errors assume that the covariance matrix of the errors is correctly specified."
      ],
      "text/plain": [
       "<class 'statsmodels.iolib.summary.Summary'>\n",
       "\"\"\"\n",
       "                              OLS Regression Results                             \n",
       "=================================================================================\n",
       "Dep. Variable:     Percentage of Poverty   R-squared:                       0.078\n",
       "Model:                               OLS   Adj. R-squared:                  0.060\n",
       "Method:                    Least Squares   F-statistic:                     4.320\n",
       "Date:                   Wed, 17 Mar 2021   Prob (F-statistic):             0.0427\n",
       "Time:                           23:54:05   Log-Likelihood:                -84.936\n",
       "No. Observations:                     53   AIC:                             173.9\n",
       "Df Residuals:                         51   BIC:                             177.8\n",
       "Df Model:                              1                                         \n",
       "Covariance Type:               nonrobust                                         \n",
       "=================================================================================================\n",
       "                                    coef    std err          t      P>|t|      [0.025      0.975]\n",
       "-------------------------------------------------------------------------------------------------\n",
       "const                            10.4684      1.271      8.237      0.000       7.917      13.020\n",
       "High school degree attainment     0.0336      0.016      2.079      0.043       0.001       0.066\n",
       "==============================================================================\n",
       "Omnibus:                        1.784   Durbin-Watson:                   0.255\n",
       "Prob(Omnibus):                  0.410   Jarque-Bera (JB):                1.203\n",
       "Skew:                          -0.012   Prob(JB):                        0.548\n",
       "Kurtosis:                       2.262   Cond. No.                         593.\n",
       "==============================================================================\n",
       "\n",
       "Warnings:\n",
       "[1] Standard Errors assume that the covariance matrix of the errors is correctly specified.\n",
       "\"\"\""
      ]
     },
     "execution_count": 29,
     "metadata": {},
     "output_type": "execute_result"
    }
   ],
   "source": [
    "# y is the outomce and x is the predictor\n",
    "y = ed_pov['Percentage of Poverty']\n",
    "x = ed_pov['High school degree attainment']\n",
    "\n",
    "#adds a constant to our model \n",
    "x = sm.add_constant(x)\n",
    "\n",
    "#fit the model and show results\n",
    "model = sm.OLS(y, x).fit() \n",
    "predictions = model.predict(x)\n",
    "model.summary()"
   ]
  },
  {
   "cell_type": "markdown",
   "metadata": {},
   "source": [
    "The results reveal several important points. First, the effect size is shown by Coef = 0.0336, indicating that when high school degree attainment increases by 1, the value of poverty percentage increases by 0.0336. Moreover, the constant indicates that when the educational attainment rate is 0, the baseline percentage of poverty is 10.4684. Through these values, we can create a linear regression line and evaluate how well it fits out data. \n"
   ]
  },
  {
   "cell_type": "markdown",
   "metadata": {},
   "source": [
    "___Poverty Percentage = 0.0336 * High school degree attainment + 10.4684___"
   ]
  },
  {
   "cell_type": "code",
   "execution_count": 30,
   "metadata": {},
   "outputs": [
    {
     "data": {
      "image/png": "[encoded data removed]",
      "text/plain": [
       "<Figure size 720x360 with 1 Axes>"
      ]
     },
     "metadata": {},
     "output_type": "display_data"
    }
   ],
   "source": [
    "#create same scatter plot\n",
    "plt.scatter(x='High school degree attainment', y='Percentage of Poverty', data=ed_pov)\n",
    "\n",
    "#use the values derived from the linear regression model and plot it on the scatter plot \n",
    "xs = np.arange(ed_pov['High school degree attainment'].min(), ed_pov['High school degree attainment'].max())\n",
    "ys = 0.0336 * xs + 10.4684\n",
    "plt.plot(xs, ys, '--k', linewidth=2, label='Model')\n",
    "\n",
    "#set lables and legend\n",
    "plt.xlabel('High school degree attainment')\n",
    "plt.ylabel('Percentage of Poverty');\n",
    "plt.legend();\n"
   ]
  },
  {
   "cell_type": "markdown",
   "metadata": {},
   "source": [
    "As we can see from the regression line, there is only a slight slope of the regression line. This indicates that the correlation between education attainment and poverty percentage does not have a strong relationship. However, it must be noted that we do see a positive correlation between them, where when one increases, so does the other. "
   ]
  },
  {
   "cell_type": "markdown",
   "metadata": {},
   "source": [
    "Another way to examine the degree of correlation between the two factors is by determining the Pearsons correlation. The closer the absolute value of the Pearson correlation is to 1, the stronger the correlation. "
   ]
  },
  {
   "cell_type": "code",
   "execution_count": 31,
   "metadata": {},
   "outputs": [
    {
     "name": "stdout",
     "output_type": "stream",
     "text": [
      "Pearsons correlation coefficient = 0.279, (p=0.043)\n"
     ]
    }
   ],
   "source": [
    "#pearsonr to evaluate Pearson's correlation \n",
    "y = ed_pov['Percentage of Poverty']\n",
    "x = ed_pov['High school degree attainment']\n",
    "pearsonr(x, y)\n",
    "print('Pearsons correlation coefficient = %.3f, (p=%.3f)' % (pearsonr(x, y)[0], pearsonr(x, y)[1]))\n"
   ]
  },
  {
   "cell_type": "markdown",
   "metadata": {},
   "source": [
    "The Pearson correlation is 0.279 and the p-value is 0.043. The Pearson correlation is very small, implying that the correlation between education attainment and poverty percentage is weak. p-value <0.05 indicates that the probability to observe this correlation is statistically significant. \n",
    "\n",
    "The results of the analysis show that as educational attainment increases, so the poverty percentage. A positive correlation between the two factors is observed. However, the correlation is not strong since the effect size and the Pearson correlation are both very small. "
   ]
  },
  {
   "cell_type": "markdown",
   "metadata": {},
   "source": [
    "# Ethics & Privacy"
   ]
  },
  {
   "cell_type": "markdown",
   "metadata": {},
   "source": [
    "   - Data Permission   \n",
    "     \n",
    "   The two datasets we used were web scraped off of the United States Census Bureau. It states that the content could be copied, modified, and redistributed. However, the site must be acknowledged as we linked all of the charts and data we scraped from the website. Unite States Census Bureau is also a public source of information on the Internet that is legal for use according to the copyleft licenses.  \n",
    "       \n",
    "       \n",
    "   - Data Discrepancy and biases  \n",
    "     \n",
    "   The dataset is still limited to our question. For the first dataset, the data contained some other information and columns which are unrelated to our question. We cleaned the dataset to eliminate race, gender, different education degrees and only extract the data of what percentage of people 25 years and over who have completed high school or college. Our dataset does have some bias. There is a discrepancy between the ranges of the two data. The first data collects information from 1940 to 2019, and the second data is collected from 1959 to 2019. The lack of time period in the second data may discredit our research. \n",
    "    We do have the confidence to believe that the datasets we included in our research are less biased as they are all facts and census investigation results. However, we can only have an overview of these data as there may be individuals that were initially excluded from the census result. It may be biased from the lens of the government.  \n",
    "    \n",
    "         \n",
    "   - Missing data  \n",
    "        \n",
    "   There are a few missing data for the first data set, that some information related to recent years are missing. Thus, the existence of missing data can exert some impact on the predictive trends. The politicians could make use of the data to support or go against certain political goals.      \n",
    "          \n",
    "          \n",
    "   - Data Privacy  \n",
    "     \n",
    "   In terms of data privacy, every individual’s information is protected by the United States Census Bureau. The commitment applies to individuals, households, and businesses. It followed FOIA for its protected data. Therefore, the origin of our first dataset is pretty reliable.  \n",
    "   \n",
    "   \n",
    "   - Implications:\n",
    "   \n",
    "   Since the results of our analysis demonstrated that as education attainment increases, so does the poverty rate. This does not mean that we are implying that in order to reduce poverty rates, the education attainment rate must also be reduced. Moreover, it does not mean that education has a negative effect. It must be noted that the implications of the results must be considered with caution. "
   ]
  },
  {
   "cell_type": "markdown",
   "metadata": {},
   "source": [
    "# Conclusion & Discussion"
   ]
  },
  {
   "cell_type": "markdown",
   "metadata": {},
   "source": [
    "The Question of our research is to explore the correlation between the education level and the poverty rate in the United States. We started by trying to operationally define the term education level. We decided to use the high school attainment rate to define education level. After doing certain web research, we decided to use the datasets from the United States Census Bureau, which is official, confidential, and more precise with its protection of privacy. Therefore, we choose two datasets. One for exploring the percentage of high school attainments versus time and another is for examining the poverty rate versus years. Initially, we thought that there is a negative correlation between the education level and the poverty rate. The higher the education level is, the poverty rate seemed to decrease. However, once the data points were plotted, the results seem to be the opposite of what we had hypothesized. \n",
    "  \n",
    "\n",
    "However, we need to confirm the relationship between education attainment and the poverty rate in a more concrete way. Thus, a linear regression test is carried out to figure out what is the impact value of education on poverty and the whether the correlation between the two factors is considered significantly strong. The results of the OLS regression model indicated that the impact value of education on poverty was significant, with a 0.0336% increase in poverty rate when the education rate increases by 1%. The regression line for the dataset was \n",
    "___Poverty Percentage = 0.0336 * High school degree attainment + 10.4684___. In order to examine the strength of the regression model, we analyzed the Pearson correlation, which was 0.279. This indicated that the positive correlation between the poverty rate and education is not particularly strong. \n",
    "\n",
    "\n",
    "Thus, with the analytical results in mind, we reject our hypothesis. This demonstrated that the poverty rate would ___not___ decrease in poverty rate if education attainment increased. The results of the analysis were shocking in comparison to the background research (and common intuition) that we had before carrying out the analysis. However, it must be noted that although the results indicated that there would be an increase in the poverty rate if the education rate increased, the strength of this correlation is weak and so is the effect size. \n",
    "\n",
    "  \n",
    "It was important to note that there are certain limitations to our datasets. Specifically, the ideal number of observations is around 1000. However, it is theoretically impossible for us to gather more than 1000 observations. Also, there are many confounding variables that did not include in our initial research such as financial factors, political influence, or the stock market. We could not get a precise correlation between the education level and the poverty rate without excluding these confounding factors. We could only give an overview of this topic and anticipate future research and discussions. Another important idea that must be understood is that correlation does not equate to causation. There is simply a positive correlation observed, but it does not mean that one causes the other. \n",
    "\n",
    "Improvements could be made to our attempt at answering the question of whether education helps reduce poverty rates. Such improvements include the consideration of confounding elements such as the stock market and the overall economy of the United States during a specific year. Moreover, the range of the research could be narrowed down. For example, instead of looking at the United States as a whole, the datasets could be separated by states and the analysis will focus on the change in education attainment and the poverty percentage of the state from the 1940s to the 2020s. Another way of analysis could be used to examine this topic from another view as well. Instead of using a temporal analysis, we could carry out a more spatially focused one. An example would be to look at the individual education attainment and poverty rate at each state from 2019 and compare these data. "
   ]
  },
  {
   "cell_type": "markdown",
   "metadata": {},
   "source": [
    "# Team Contributions"
   ]
  },
  {
   "cell_type": "markdown",
   "metadata": {},
   "source": [
    "- Shan Mo  \n",
    "Background research, high school attendance data collection and cleaning, main data visualization and analysis, helped with conclusion and discussion\n",
    "- Sherry Zeng  \n",
    "Poverty rate data collection and cleaning, data analysis, content editing, conclusion and discussion editing.\n",
    "- Tianqi Xia  \n",
    "Ethics and Privacy editing, conclusion and discussion editing.\n",
    "- Jingxi Chen  \n",
    "Data visualization, EDA analysis"
   ]
  }
 ],
 "metadata": {
  "kernelspec": {
   "display_name": "Python 3",
   "language": "python",
   "name": "python3"
  },
  "language_info": {
   "codemirror_mode": {
    "name": "ipython",
    "version": 3
   },
   "file_extension": ".py",
   "mimetype": "text/x-python",
   "name": "python",
   "nbconvert_exporter": "python",
   "pygments_lexer": "ipython3",
   "version": "3.7.9"
  }
 },
 "nbformat": 4,
 "nbformat_minor": 2
}
