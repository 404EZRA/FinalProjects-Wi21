{
 "cells": [
  {
   "cell_type": "markdown",
   "metadata": {},
   "source": [
    "# COGS 108 - The Effect of Political Tweets on Voter Registration "
   ]
  },
  {
   "cell_type": "markdown",
   "metadata": {},
   "source": [
    "# Overview"
   ]
  },
  {
   "cell_type": "markdown",
   "metadata": {},
   "source": [
    "Our project investigates if there was an increase in political activism due to COVID on Twitter in 2020 relative to 2016 whether or not this reflects an increase in new voter registration during these election years. Using a two-sample proportion z-test on Twitter API data from randomly sampled times, we found a significant increase in the amount of political Tweets in 2020 compared to 2016 (p < 0.0001). And using the Mann-Whitney U test, we found that there was actually a statistically significant decrease in median proportion of registration from 2016 to 2020 (p = 0.003). Both tests used an alpha level of 0.05. Overall, it appears that the increase in political Twitter activity reflects a decrease in new voter registration, but we cannot make any for certain conclusions due to various limitations of our data and confounding variables with recent events in addition to COVID."
   ]
  },
  {
   "cell_type": "markdown",
   "metadata": {},
   "source": [
    "# Names\n",
    "\n",
    "- Naomi Rivera\n",
    "- Natalie Hun\n",
    "- Sam Liu\n",
    "- Samuel Lucero"
   ]
  },
  {
   "cell_type": "markdown",
   "metadata": {},
   "source": [
    "<a id='research_question'></a>\n",
    "# Research Question"
   ]
  },
  {
   "cell_type": "markdown",
   "metadata": {},
   "source": [
    "*Did the amount of politically charged Tweets (i.e. Tweets containing political keywords like election, voting, president) increase in 2020 relative to 2016 and did this reflect a change in new voter registration between these two election years?*"
   ]
  },
  {
   "cell_type": "markdown",
   "metadata": {},
   "source": [
    "<a id='background'></a>\n",
    "\n",
    "## Background & Prior Work"
   ]
  },
  {
   "cell_type": "markdown",
   "metadata": {},
   "source": [
    "The COVID-19 pandemic has been a trying time for everyone around the world and it has changed the way that we go about our daily lives in various ways. One prominent effect of the pandemic has been the switch to an (almost) entirely virtual platform for work, school, and entertainment. With people becoming more comfortable participating in online environments, our team was curious about a possible increase in posts about political activism on Twitter during the pandemic. More specifically, we were curious if there was an increase in posts regarding the 2020 election pushing people to participate in voting (for either party). \n",
    "\n",
    "Every member of our group has noticed an increase of political posts on our feeds during the pandemic. There has been a surge of people using social media as a medium for people to voice their opinions and be more informed about political movements (_Young People Turn To Online Political Engagement during COVID-19_). This led us to believe that more people would be posting information regarding the 2020 election in an attempt to provide people with information about one party or another. \n",
    "\n",
    "To build off of this idea, we were also interested in seeing if this increase in election/political posts also led to an increase in overall voter turnout. As much as people may post and boost information on social media, they may not actually follow up on the information that they post. Therefore, our primary aim is to find out if this increase in posts created had an actual effect on voter turnout.\n"
   ]
  },
  {
   "cell_type": "markdown",
   "metadata": {},
   "source": [
    "### __Prior Work__"
   ]
  },
  {
   "cell_type": "markdown",
   "metadata": {},
   "source": [
    "More people are getting the latest political events directly on their social media feed as people are getting more comfortable posting about it. In the study _Public Attitudes Toward Political Engagement on Social Media_, by J. Clement (2018), it revealed that 34% of Americans have taken part in a group on social media that shares an interest in an issue or cause and and 32% says they have encouraged others to take action on an issue that is important to them revealing how prevalent and connected social media is within politics. \n",
    "\n",
    "In a more recent study (2020), Willem Roper discusses in _Using Social Media for Social Issues_, that 57% and 60% of Black and Hispanics considered social media to be vital in terms of voicing opinions on political issues. Thus, showing an increase in the popular use of social media surrounding politics. With this information, we can analyze and compare the trends of social media use in relation to political activism such as voter turnout. \n",
    "\n",
    "References:\n",
    "\n",
    "- 1) Young People Turn to Online Political Engagement During COVID-19, https://circle.tufts.edu/latest-research/young-people-turn-online-political-engagement-during-covid-19\n",
    "- 2) Public Attitudes Toward Political Engagement on Social Media, https://www.pewresearch.org/internet/2018/07/11/public-attitudes-toward-political-engagement-on-social-media/\n",
    "- 3) Using Social Media for Social Issues, https://www.statista.com/chart/22264/social-media-for-cultural-social-issues/\n"
   ]
  },
  {
   "cell_type": "markdown",
   "metadata": {},
   "source": [
    "# Hypothesis\n"
   ]
  },
  {
   "cell_type": "markdown",
   "metadata": {},
   "source": [
    "_After COVID-19 placed stay-at-home orders, people have become more politically active on various forms of social media. We hypothesize that this increase in online engagement led to an increase in Twitter posts regarding political involvement for the 2020 election, which reflects an increase in early voter registration for the 2020 election._"
   ]
  },
  {
   "cell_type": "markdown",
   "metadata": {},
   "source": [
    "# Dataset(s)"
   ]
  },
  {
   "cell_type": "markdown",
   "metadata": {},
   "source": [
    "- **Dataset Name:** Voter Registration\n",
    "- **Link to the dataset:** https://github.com/fivethirtyeight/data/blob/master/voter-registration/new-voter-registrations.csv \n",
    "- **Number of observations:** 106 observations of voter registration across different states between the early months of the year \n",
    "<br><br>\n",
    "The voter registration CSV dataset contains the number of people registered to vote early in 2020 vs early 2016 in only 11 states (and Washington, DC) since information to retrieve early voter registration in other states was unavailable. Number of people registering to vote was recorded from January to April for all 12 and data recorded through May is available for four states and Washington, DC. \n",
    "\n",
    "| Column Name  | Description | Type |\n",
    "|----------|----------|----------|\n",
    "|Jurisdiction|U.S. State (and Washington D.C.)| Text\n",
    "|Year|The election year|Number|\n",
    "|Month|Months of the year|Text|\n",
    "|New registered voters|Number of new voters that registered|Number|\n",
    "\n",
    "\n",
    "- **Dataset Name:** Archive Team: The Twitter Stream Grab\n",
    "- **Link to the dataset:** https://archive.org/details/twitterstream?sort=-publicdate&and[]=year%3A%222016%22&and[]=year%3A%222020%22 \n",
    "- **Number of Observations:** The dataset was too large to find the exact number of observations, but a rough estimate is 90 million per dataset, broken down by month at a rate of about 2000 Tweets per minute\n",
    "<br><br>\n",
    "The Twitter Stream Grab dataset contains a large archive of past Tweets, grouped and `.tar`'ed by month. Within each month tarball is a set of highly granular JSON files grouped on the order of minutes. Each file contains a list of JSON objects, and each object represents one Tweet. Entries include timestamps, user IDs, Tweet message body, hashtags, users tagged, and various other metadata about the user, some of which nest other JSON objects. The entries of interest that we extracted are listed below. For our purposes, the months examined were January, February, March, April for voter registration in both 2016 and 2020. Within each month, a random day and 4 random times were chosen for Twitter political activity. Note that the files were named under UTC time, but the actual timestamps were in UTC+07:00, so there were some overlap in days.\n",
    "\n",
    "| Column Name  | Description | Type |\n",
    "|----------|----------|----------|\n",
    "|Year|Year the Tweet was posted|Number|\n",
    "|Month|Month the Tweet was posted|Number|\n",
    "|Day|Calendar day the Tweet was posted|Number|\n",
    "|Hour|Hour the Tweet was posted in a 24-hour format and period|Number|\n",
    "|Minute|Minute the Tweet was posted in a 60-minute period|Number|\n",
    "|Tweet|Tweet posted by user|Text|\n",
    "|Hashtags|The hashtags in the tweet |Text|\n",
    "|Mentions|The mentions in the tweet |Text|\n",
    "|Political|Categorizes the Tweets if political (1) or not political (0)| Number|\n",
    "\n",
    "\n",
    "| Date  | Time 1 | Time 2  | Time 3 | Time 4 |\n",
    "|---|---|---|---|---|\n",
    "|01-14 | 03:00| 09:00 | 13:00 | 22:00 |\n",
    "|02-04 |02:00 |15:00 |16:00 |20:00 |\n",
    "|03-21 |04:00 |10:00 |16:00 |19:00 |\n",
    "|04-11 |01:00 |05:00 |17:00 |21:00 |\n",
    "\n",
    "- **Dataset Name:** US Census: Annual Estimates of the Resident Population for the United States, Regions, States, and the District of Columbia\n",
    "- **Link to the dataset:** https://www.census.gov/programs-surveys/popest/technical-documentation/research/evaluation-estimates.html\n",
    "- **Number of observations:** 55 observations for 50 states, 4 regions, and 1 total US population\n",
    "<br><br>\n",
    "The US Census Population Estimate CSV dataset contains the populations of each of the 50 states, 4 regions (West, South, Midwest, Northeast), and the US as a whole from 2010 to 2020.\n",
    "\n",
    "| Column Name  | Description | Type |\n",
    "|----------|----------|----------|\n",
    "|Geographic Area|The region in the U.S.|Text|\n",
    "|Census|The population estimation|Number|\n",
    "|Estimate Base|The population count used as the starting point in the estimation process|Number|\n",
    "|2010|The population for 2010|Number|\n",
    "|2011|The population for 2011|Number|\n",
    "|...|...|...|\n",
    "|2020|The population for 2020|Number|"
   ]
  },
  {
   "cell_type": "markdown",
   "metadata": {},
   "source": [
    "# Setup"
   ]
  },
  {
   "cell_type": "code",
   "execution_count": 1,
   "metadata": {},
   "outputs": [],
   "source": [
    "import pandas as pd\n",
    "import numpy as np\n",
    "import seaborn as sns\n",
    "import matplotlib.pyplot as plt\n",
    "import bz2\n",
    "import json\n",
    "import datetime\n",
    "from statsmodels.stats.proportion import proportions_ztest\n",
    "from scipy.stats import mannwhitneyu"
   ]
  },
  {
   "cell_type": "code",
   "execution_count": 2,
   "metadata": {},
   "outputs": [],
   "source": [
    "# Load initial datasets\n",
    "registration = pd.read_csv('data/new_voter_registration.csv')\n",
    "political_tweets = pd.read_csv('data/political_determined_tweets.csv')\n",
    "population = pd.read_csv('data/census_population.csv', skiprows=[0,1,2])\n",
    "\n",
    "# Set Color Scheme\n",
    "color_2016 = '#ff4133'\n",
    "color_2020 = '#335fff'\n",
    "palette = dict(zip([2016, 2020], sns.color_palette([color_2016, color_2020])))"
   ]
  },
  {
   "cell_type": "code",
   "execution_count": 3,
   "metadata": {},
   "outputs": [
    {
     "data": {
      "text/html": [
       "<div>\n",
       "<style scoped>\n",
       "    .dataframe tbody tr th:only-of-type {\n",
       "        vertical-align: middle;\n",
       "    }\n",
       "\n",
       "    .dataframe tbody tr th {\n",
       "        vertical-align: top;\n",
       "    }\n",
       "\n",
       "    .dataframe thead th {\n",
       "        text-align: right;\n",
       "    }\n",
       "</style>\n",
       "<table border=\"1\" class=\"dataframe\">\n",
       "  <thead>\n",
       "    <tr style=\"text-align: right;\">\n",
       "      <th></th>\n",
       "      <th>Jurisdiction</th>\n",
       "      <th>Year</th>\n",
       "      <th>Month</th>\n",
       "      <th>New registered voters</th>\n",
       "    </tr>\n",
       "  </thead>\n",
       "  <tbody>\n",
       "    <tr>\n",
       "      <th>0</th>\n",
       "      <td>Arizona</td>\n",
       "      <td>2016</td>\n",
       "      <td>Jan</td>\n",
       "      <td>25852</td>\n",
       "    </tr>\n",
       "    <tr>\n",
       "      <th>1</th>\n",
       "      <td>Arizona</td>\n",
       "      <td>2016</td>\n",
       "      <td>Feb</td>\n",
       "      <td>51155</td>\n",
       "    </tr>\n",
       "    <tr>\n",
       "      <th>2</th>\n",
       "      <td>Arizona</td>\n",
       "      <td>2016</td>\n",
       "      <td>Mar</td>\n",
       "      <td>48614</td>\n",
       "    </tr>\n",
       "    <tr>\n",
       "      <th>3</th>\n",
       "      <td>Arizona</td>\n",
       "      <td>2016</td>\n",
       "      <td>Apr</td>\n",
       "      <td>30668</td>\n",
       "    </tr>\n",
       "    <tr>\n",
       "      <th>4</th>\n",
       "      <td>Arizona</td>\n",
       "      <td>2020</td>\n",
       "      <td>Jan</td>\n",
       "      <td>33229</td>\n",
       "    </tr>\n",
       "  </tbody>\n",
       "</table>\n",
       "</div>"
      ],
      "text/plain": [
       "  Jurisdiction  Year Month  New registered voters\n",
       "0      Arizona  2016   Jan                  25852\n",
       "1      Arizona  2016   Feb                  51155\n",
       "2      Arizona  2016   Mar                  48614\n",
       "3      Arizona  2016   Apr                  30668\n",
       "4      Arizona  2020   Jan                  33229"
      ]
     },
     "execution_count": 3,
     "metadata": {},
     "output_type": "execute_result"
    }
   ],
   "source": [
    "registration.head()"
   ]
  },
  {
   "cell_type": "code",
   "execution_count": 4,
   "metadata": {},
   "outputs": [
    {
     "data": {
      "text/html": [
       "<div>\n",
       "<style scoped>\n",
       "    .dataframe tbody tr th:only-of-type {\n",
       "        vertical-align: middle;\n",
       "    }\n",
       "\n",
       "    .dataframe tbody tr th {\n",
       "        vertical-align: top;\n",
       "    }\n",
       "\n",
       "    .dataframe thead th {\n",
       "        text-align: right;\n",
       "    }\n",
       "</style>\n",
       "<table border=\"1\" class=\"dataframe\">\n",
       "  <thead>\n",
       "    <tr style=\"text-align: right;\">\n",
       "      <th></th>\n",
       "      <th>Year</th>\n",
       "      <th>Month</th>\n",
       "      <th>Day</th>\n",
       "      <th>Hour</th>\n",
       "      <th>Minute</th>\n",
       "      <th>Political</th>\n",
       "    </tr>\n",
       "  </thead>\n",
       "  <tbody>\n",
       "    <tr>\n",
       "      <th>0</th>\n",
       "      <td>2016</td>\n",
       "      <td>1</td>\n",
       "      <td>14</td>\n",
       "      <td>20</td>\n",
       "      <td>0</td>\n",
       "      <td>0</td>\n",
       "    </tr>\n",
       "    <tr>\n",
       "      <th>1</th>\n",
       "      <td>2016</td>\n",
       "      <td>1</td>\n",
       "      <td>14</td>\n",
       "      <td>20</td>\n",
       "      <td>0</td>\n",
       "      <td>0</td>\n",
       "    </tr>\n",
       "    <tr>\n",
       "      <th>2</th>\n",
       "      <td>2016</td>\n",
       "      <td>1</td>\n",
       "      <td>14</td>\n",
       "      <td>20</td>\n",
       "      <td>0</td>\n",
       "      <td>0</td>\n",
       "    </tr>\n",
       "    <tr>\n",
       "      <th>3</th>\n",
       "      <td>2016</td>\n",
       "      <td>1</td>\n",
       "      <td>14</td>\n",
       "      <td>20</td>\n",
       "      <td>0</td>\n",
       "      <td>0</td>\n",
       "    </tr>\n",
       "    <tr>\n",
       "      <th>4</th>\n",
       "      <td>2016</td>\n",
       "      <td>1</td>\n",
       "      <td>14</td>\n",
       "      <td>20</td>\n",
       "      <td>0</td>\n",
       "      <td>0</td>\n",
       "    </tr>\n",
       "  </tbody>\n",
       "</table>\n",
       "</div>"
      ],
      "text/plain": [
       "   Year  Month  Day  Hour  Minute  Political\n",
       "0  2016      1   14    20       0          0\n",
       "1  2016      1   14    20       0          0\n",
       "2  2016      1   14    20       0          0\n",
       "3  2016      1   14    20       0          0\n",
       "4  2016      1   14    20       0          0"
      ]
     },
     "execution_count": 4,
     "metadata": {},
     "output_type": "execute_result"
    }
   ],
   "source": [
    "political_tweets.head()"
   ]
  },
  {
   "cell_type": "code",
   "execution_count": 5,
   "metadata": {},
   "outputs": [
    {
     "data": {
      "text/html": [
       "<div>\n",
       "<style scoped>\n",
       "    .dataframe tbody tr th:only-of-type {\n",
       "        vertical-align: middle;\n",
       "    }\n",
       "\n",
       "    .dataframe tbody tr th {\n",
       "        vertical-align: top;\n",
       "    }\n",
       "\n",
       "    .dataframe thead th {\n",
       "        text-align: right;\n",
       "    }\n",
       "</style>\n",
       "<table border=\"1\" class=\"dataframe\">\n",
       "  <thead>\n",
       "    <tr style=\"text-align: right;\">\n",
       "      <th></th>\n",
       "      <th>Unnamed: 0</th>\n",
       "      <th>Census</th>\n",
       "      <th>Estimates Base</th>\n",
       "      <th>2010</th>\n",
       "      <th>2011</th>\n",
       "      <th>2012</th>\n",
       "      <th>2013</th>\n",
       "      <th>2014</th>\n",
       "      <th>2015</th>\n",
       "      <th>2016</th>\n",
       "      <th>2017</th>\n",
       "      <th>2018</th>\n",
       "      <th>2019</th>\n",
       "      <th>2020</th>\n",
       "    </tr>\n",
       "  </thead>\n",
       "  <tbody>\n",
       "    <tr>\n",
       "      <th>0</th>\n",
       "      <td>United States</td>\n",
       "      <td>308,745,538</td>\n",
       "      <td>308,758,105</td>\n",
       "      <td>309,327,143</td>\n",
       "      <td>311,583,481</td>\n",
       "      <td>313,877,662</td>\n",
       "      <td>316,059,947</td>\n",
       "      <td>318,386,329</td>\n",
       "      <td>320,738,994</td>\n",
       "      <td>323,071,755</td>\n",
       "      <td>325,122,128</td>\n",
       "      <td>326,838,199</td>\n",
       "      <td>328,329,953</td>\n",
       "      <td>329,484,123</td>\n",
       "    </tr>\n",
       "    <tr>\n",
       "      <th>1</th>\n",
       "      <td>Northeast</td>\n",
       "      <td>55,317,240</td>\n",
       "      <td>55,318,414</td>\n",
       "      <td>55,380,764</td>\n",
       "      <td>55,608,318</td>\n",
       "      <td>55,782,661</td>\n",
       "      <td>55,912,775</td>\n",
       "      <td>56,021,339</td>\n",
       "      <td>56,052,790</td>\n",
       "      <td>56,063,777</td>\n",
       "      <td>56,083,383</td>\n",
       "      <td>56,084,543</td>\n",
       "      <td>56,002,934</td>\n",
       "      <td>55,849,869</td>\n",
       "    </tr>\n",
       "    <tr>\n",
       "      <th>2</th>\n",
       "      <td>Midwest</td>\n",
       "      <td>66,927,001</td>\n",
       "      <td>66,929,737</td>\n",
       "      <td>66,975,328</td>\n",
       "      <td>67,164,092</td>\n",
       "      <td>67,348,275</td>\n",
       "      <td>67,576,524</td>\n",
       "      <td>67,765,576</td>\n",
       "      <td>67,885,682</td>\n",
       "      <td>68,018,175</td>\n",
       "      <td>68,160,342</td>\n",
       "      <td>68,263,019</td>\n",
       "      <td>68,340,091</td>\n",
       "      <td>68,316,744</td>\n",
       "    </tr>\n",
       "    <tr>\n",
       "      <th>3</th>\n",
       "      <td>South</td>\n",
       "      <td>114,555,744</td>\n",
       "      <td>114,563,042</td>\n",
       "      <td>114,869,421</td>\n",
       "      <td>116,019,483</td>\n",
       "      <td>117,264,196</td>\n",
       "      <td>118,397,213</td>\n",
       "      <td>119,666,248</td>\n",
       "      <td>121,049,223</td>\n",
       "      <td>122,419,547</td>\n",
       "      <td>123,611,036</td>\n",
       "      <td>124,649,156</td>\n",
       "      <td>125,686,544</td>\n",
       "      <td>126,662,754</td>\n",
       "    </tr>\n",
       "    <tr>\n",
       "      <th>4</th>\n",
       "      <td>West</td>\n",
       "      <td>71,945,553</td>\n",
       "      <td>71,946,912</td>\n",
       "      <td>72,101,630</td>\n",
       "      <td>72,791,588</td>\n",
       "      <td>73,482,530</td>\n",
       "      <td>74,173,435</td>\n",
       "      <td>74,933,166</td>\n",
       "      <td>75,751,299</td>\n",
       "      <td>76,570,256</td>\n",
       "      <td>77,267,367</td>\n",
       "      <td>77,841,481</td>\n",
       "      <td>78,300,384</td>\n",
       "      <td>78,654,756</td>\n",
       "    </tr>\n",
       "  </tbody>\n",
       "</table>\n",
       "</div>"
      ],
      "text/plain": [
       "      Unnamed: 0       Census Estimates Base         2010         2011  \\\n",
       "0  United States  308,745,538    308,758,105  309,327,143  311,583,481   \n",
       "1      Northeast   55,317,240     55,318,414   55,380,764   55,608,318   \n",
       "2        Midwest   66,927,001     66,929,737   66,975,328   67,164,092   \n",
       "3          South  114,555,744    114,563,042  114,869,421  116,019,483   \n",
       "4           West   71,945,553     71,946,912   72,101,630   72,791,588   \n",
       "\n",
       "          2012         2013         2014         2015         2016  \\\n",
       "0  313,877,662  316,059,947  318,386,329  320,738,994  323,071,755   \n",
       "1   55,782,661   55,912,775   56,021,339   56,052,790   56,063,777   \n",
       "2   67,348,275   67,576,524   67,765,576   67,885,682   68,018,175   \n",
       "3  117,264,196  118,397,213  119,666,248  121,049,223  122,419,547   \n",
       "4   73,482,530   74,173,435   74,933,166   75,751,299   76,570,256   \n",
       "\n",
       "          2017         2018         2019         2020  \n",
       "0  325,122,128  326,838,199  328,329,953  329,484,123  \n",
       "1   56,083,383   56,084,543   56,002,934   55,849,869  \n",
       "2   68,160,342   68,263,019   68,340,091   68,316,744  \n",
       "3  123,611,036  124,649,156  125,686,544  126,662,754  \n",
       "4   77,267,367   77,841,481   78,300,384   78,654,756  "
      ]
     },
     "execution_count": 5,
     "metadata": {},
     "output_type": "execute_result"
    }
   ],
   "source": [
    "population.head()"
   ]
  },
  {
   "cell_type": "markdown",
   "metadata": {},
   "source": [
    "# Data Cleaning"
   ]
  },
  {
   "cell_type": "markdown",
   "metadata": {},
   "source": [
    "### New Voter Registration "
   ]
  },
  {
   "cell_type": "markdown",
   "metadata": {},
   "source": [
    "The size of this dataset was reasonable enough to manually scan through every entry to verify that they are well-formatted and error-free (i.e. observations in rows, variables in columns, values make sense given the context). There's just two small things to clean with this dataset. The first is to make the column names more concise and consistent where they can be with other datasets. The other is to convert the Month string to an integer value to make it consistent with the Twitter Stream Grab dataset."
   ]
  },
  {
   "cell_type": "code",
   "execution_count": 6,
   "metadata": {},
   "outputs": [
    {
     "data": {
      "text/html": [
       "<div>\n",
       "<style scoped>\n",
       "    .dataframe tbody tr th:only-of-type {\n",
       "        vertical-align: middle;\n",
       "    }\n",
       "\n",
       "    .dataframe tbody tr th {\n",
       "        vertical-align: top;\n",
       "    }\n",
       "\n",
       "    .dataframe thead th {\n",
       "        text-align: right;\n",
       "    }\n",
       "</style>\n",
       "<table border=\"1\" class=\"dataframe\">\n",
       "  <thead>\n",
       "    <tr style=\"text-align: right;\">\n",
       "      <th></th>\n",
       "      <th>State</th>\n",
       "      <th>Year</th>\n",
       "      <th>Month</th>\n",
       "      <th>New Voters</th>\n",
       "    </tr>\n",
       "  </thead>\n",
       "  <tbody>\n",
       "    <tr>\n",
       "      <th>0</th>\n",
       "      <td>Arizona</td>\n",
       "      <td>2016</td>\n",
       "      <td>1</td>\n",
       "      <td>25852</td>\n",
       "    </tr>\n",
       "    <tr>\n",
       "      <th>1</th>\n",
       "      <td>Arizona</td>\n",
       "      <td>2016</td>\n",
       "      <td>2</td>\n",
       "      <td>51155</td>\n",
       "    </tr>\n",
       "    <tr>\n",
       "      <th>2</th>\n",
       "      <td>Arizona</td>\n",
       "      <td>2016</td>\n",
       "      <td>3</td>\n",
       "      <td>48614</td>\n",
       "    </tr>\n",
       "    <tr>\n",
       "      <th>3</th>\n",
       "      <td>Arizona</td>\n",
       "      <td>2016</td>\n",
       "      <td>4</td>\n",
       "      <td>30668</td>\n",
       "    </tr>\n",
       "    <tr>\n",
       "      <th>4</th>\n",
       "      <td>Arizona</td>\n",
       "      <td>2020</td>\n",
       "      <td>1</td>\n",
       "      <td>33229</td>\n",
       "    </tr>\n",
       "  </tbody>\n",
       "</table>\n",
       "</div>"
      ],
      "text/plain": [
       "     State  Year  Month  New Voters\n",
       "0  Arizona  2016      1       25852\n",
       "1  Arizona  2016      2       51155\n",
       "2  Arizona  2016      3       48614\n",
       "3  Arizona  2016      4       30668\n",
       "4  Arizona  2020      1       33229"
      ]
     },
     "execution_count": 6,
     "metadata": {},
     "output_type": "execute_result"
    }
   ],
   "source": [
    "#renames columns and converts months to int values \n",
    "registration = registration.rename(columns={'Jurisdiction': 'State', 'New registered voters': 'New Voters'})\n",
    "registration['Month'] = registration['Month'].apply(lambda x: datetime.datetime.strptime(x, '%b').month)\n",
    "registration.head()"
   ]
  },
  {
   "cell_type": "markdown",
   "metadata": {},
   "source": [
    "### Twitter Stream Grab"
   ]
  },
  {
   "cell_type": "markdown",
   "metadata": {},
   "source": [
    "The steps to clean the JSON files (compressed as data.json.bz2) and convert the JSON data to CSV can be traced in the program below. Since the dataset is huge (40+ GBs per month for 4 months), we will show the functions to clean a particular JSON file, but will not be running the cleaning steps here. Everything will be pre-cleaned into a new CSV based on the dates and times listed in the \"Datasets\" section."
   ]
  },
  {
   "cell_type": "code",
   "execution_count": 7,
   "metadata": {},
   "outputs": [],
   "source": [
    "def convert_jsonbz2_to_csv(file_path, outfile):\n",
    "    tweets_compressed = bz2.open(file_path)\n",
    "\n",
    "    while True:\n",
    "        line = tweets_compressed.readline()\n",
    "        \n",
    "        # End of File\n",
    "        if not line:\n",
    "            break\n",
    "        \n",
    "        data = json.loads(line)\n",
    "        \n",
    "        # Dataset also contains info about deleted Tweets, we only care about new Tweets\n",
    "        if not 'created_at' in data:\n",
    "            continue\n",
    "            \n",
    "        # Parse timestamp based on it's format in the dataset\n",
    "        timestamp = datetime.datetime.strptime(data['created_at'], '%a %b %d %H:%M:%S %z %Y')\n",
    "        \n",
    "        # Newlines, commas, and quotation marks are irrelevant to analysis and make it difficult to format to CSV\n",
    "        tweet = data['text'].replace('\\n', ' ').replace(',', ' ').replace('\"', ' ')\n",
    "        \n",
    "        \n",
    "        # Combine list of hashtags and mentions into a single string\n",
    "        hashtags = ','.join(tag['text'] for tag in data['entities']['hashtags'])\n",
    "        mentions  = ','.join([mention['screen_name'] for mention in data['entities']['user_mentions']])\n",
    "        \n",
    "        outfile.write(f'{timestamp.year},{timestamp.month},{timestamp.day},{timestamp.hour},{timestamp.minute},\"{tweet}\",\"{hashtags}\",\"{mentions}\"\\n')\n",
    "        \n",
    "    tweets_compressed.close()"
   ]
  },
  {
   "cell_type": "markdown",
   "metadata": {},
   "source": [
    "A sample of the cleaned output can be found below:"
   ]
  },
  {
   "cell_type": "code",
   "execution_count": 8,
   "metadata": {},
   "outputs": [
    {
     "data": {
      "text/html": [
       "<div>\n",
       "<style scoped>\n",
       "    .dataframe tbody tr th:only-of-type {\n",
       "        vertical-align: middle;\n",
       "    }\n",
       "\n",
       "    .dataframe tbody tr th {\n",
       "        vertical-align: top;\n",
       "    }\n",
       "\n",
       "    .dataframe thead th {\n",
       "        text-align: right;\n",
       "    }\n",
       "</style>\n",
       "<table border=\"1\" class=\"dataframe\">\n",
       "  <thead>\n",
       "    <tr style=\"text-align: right;\">\n",
       "      <th></th>\n",
       "      <th>Year</th>\n",
       "      <th>Month</th>\n",
       "      <th>Day</th>\n",
       "      <th>Hour</th>\n",
       "      <th>Minute</th>\n",
       "      <th>Tweet</th>\n",
       "      <th>Hashtags</th>\n",
       "      <th>Mentions</th>\n",
       "    </tr>\n",
       "  </thead>\n",
       "  <tbody>\n",
       "    <tr>\n",
       "      <th>0</th>\n",
       "      <td>2020</td>\n",
       "      <td>3</td>\n",
       "      <td>22</td>\n",
       "      <td>1</td>\n",
       "      <td>0</td>\n",
       "      <td>Sobrang kati potek</td>\n",
       "      <td>NaN</td>\n",
       "      <td>NaN</td>\n",
       "    </tr>\n",
       "    <tr>\n",
       "      <th>1</th>\n",
       "      <td>2020</td>\n",
       "      <td>3</td>\n",
       "      <td>22</td>\n",
       "      <td>1</td>\n",
       "      <td>0</td>\n",
       "      <td>YA NOS VOLVIMOS LOCOS? YA NOS VOLVIMOS LOCOS? ...</td>\n",
       "      <td>NaN</td>\n",
       "      <td>NaN</td>\n",
       "    </tr>\n",
       "    <tr>\n",
       "      <th>2</th>\n",
       "      <td>2020</td>\n",
       "      <td>3</td>\n",
       "      <td>22</td>\n",
       "      <td>1</td>\n",
       "      <td>0</td>\n",
       "      <td>ชีวิตไม่ได้เป็นทุกข์เพราะสิ่งที่อยู่ตรงหน้า แต...</td>\n",
       "      <td>NaN</td>\n",
       "      <td>NaN</td>\n",
       "    </tr>\n",
       "    <tr>\n",
       "      <th>3</th>\n",
       "      <td>2020</td>\n",
       "      <td>3</td>\n",
       "      <td>22</td>\n",
       "      <td>1</td>\n",
       "      <td>0</td>\n",
       "      <td>الّلهم أنِر ما انطفأ من قلوبنا.</td>\n",
       "      <td>NaN</td>\n",
       "      <td>NaN</td>\n",
       "    </tr>\n",
       "    <tr>\n",
       "      <th>4</th>\n",
       "      <td>2020</td>\n",
       "      <td>3</td>\n",
       "      <td>22</td>\n",
       "      <td>1</td>\n",
       "      <td>0</td>\n",
       "      <td>Shelby Miller(ATL) Age.25 33登板6勝17敗 防御率3.02 投球...</td>\n",
       "      <td>NaN</td>\n",
       "      <td>NaN</td>\n",
       "    </tr>\n",
       "  </tbody>\n",
       "</table>\n",
       "</div>"
      ],
      "text/plain": [
       "   Year   Month   Day   Hour   Minute  \\\n",
       "0  2020       3    22      1        0   \n",
       "1  2020       3    22      1        0   \n",
       "2  2020       3    22      1        0   \n",
       "3  2020       3    22      1        0   \n",
       "4  2020       3    22      1        0   \n",
       "\n",
       "                                               Tweet   Hashtags  Mentions  \n",
       "0                                 Sobrang kati potek        NaN       NaN  \n",
       "1  YA NOS VOLVIMOS LOCOS? YA NOS VOLVIMOS LOCOS? ...        NaN       NaN  \n",
       "2  ชีวิตไม่ได้เป็นทุกข์เพราะสิ่งที่อยู่ตรงหน้า แต...        NaN       NaN  \n",
       "3                    الّلهم أنِر ما انطفأ من قلوبنا.        NaN       NaN  \n",
       "4  Shelby Miller(ATL) Age.25 33登板6勝17敗 防御率3.02 投球...        NaN       NaN  "
      ]
     },
     "execution_count": 8,
     "metadata": {},
     "output_type": "execute_result"
    }
   ],
   "source": [
    "sample_tweets = pd.read_csv('data/tweet_dataset_sample.csv')\n",
    "sample_tweets.head()"
   ]
  },
  {
   "cell_type": "markdown",
   "metadata": {},
   "source": [
    "### US Census Annual Population Estimates"
   ]
  },
  {
   "cell_type": "markdown",
   "metadata": {},
   "source": [
    "This dataset was originally a Excel with some cells merged together, which caused some issues with the column naming when converting to CSV. First, we will need to fix the column names."
   ]
  },
  {
   "cell_type": "code",
   "execution_count": 9,
   "metadata": {},
   "outputs": [],
   "source": [
    "#renames column name to state \n",
    "population = population.rename(columns={population.columns[0]: 'State'})"
   ]
  },
  {
   "cell_type": "markdown",
   "metadata": {},
   "source": [
    "We will then drop any rows that do not relate to the US states."
   ]
  },
  {
   "cell_type": "code",
   "execution_count": 10,
   "metadata": {},
   "outputs": [],
   "source": [
    "#selects rows to drop \n",
    "population = population.iloc[5:-5]"
   ]
  },
  {
   "cell_type": "markdown",
   "metadata": {},
   "source": [
    "Lastly, we will fix the parsing issues with state names having a dot in front, and we will convert the numbers from string to int."
   ]
  },
  {
   "cell_type": "code",
   "execution_count": 11,
   "metadata": {},
   "outputs": [],
   "source": [
    "def standardize_state_name(name):\n",
    "    return name.replace('.','') #replaces dot with empty space\n",
    "\n",
    "def standardize_number(val):\n",
    "    return int(val.replace(',','')) #replaces comma with empty space \n",
    "\n",
    "population['State'] = population['State'].apply(standardize_state_name) #applies function to column \n",
    "\n",
    "for column in population:\n",
    "    if column != 'State':\n",
    "        population[column] = population[column].apply(standardize_number) #applies the function to all columns except State"
   ]
  },
  {
   "cell_type": "code",
   "execution_count": 12,
   "metadata": {},
   "outputs": [
    {
     "data": {
      "text/html": [
       "<div>\n",
       "<style scoped>\n",
       "    .dataframe tbody tr th:only-of-type {\n",
       "        vertical-align: middle;\n",
       "    }\n",
       "\n",
       "    .dataframe tbody tr th {\n",
       "        vertical-align: top;\n",
       "    }\n",
       "\n",
       "    .dataframe thead th {\n",
       "        text-align: right;\n",
       "    }\n",
       "</style>\n",
       "<table border=\"1\" class=\"dataframe\">\n",
       "  <thead>\n",
       "    <tr style=\"text-align: right;\">\n",
       "      <th></th>\n",
       "      <th>State</th>\n",
       "      <th>Census</th>\n",
       "      <th>Estimates Base</th>\n",
       "      <th>2010</th>\n",
       "      <th>2011</th>\n",
       "      <th>2012</th>\n",
       "      <th>2013</th>\n",
       "      <th>2014</th>\n",
       "      <th>2015</th>\n",
       "      <th>2016</th>\n",
       "      <th>2017</th>\n",
       "      <th>2018</th>\n",
       "      <th>2019</th>\n",
       "      <th>2020</th>\n",
       "    </tr>\n",
       "  </thead>\n",
       "  <tbody>\n",
       "    <tr>\n",
       "      <th>5</th>\n",
       "      <td>Alabama</td>\n",
       "      <td>4779736</td>\n",
       "      <td>4780118</td>\n",
       "      <td>4785514</td>\n",
       "      <td>4799642</td>\n",
       "      <td>4816632</td>\n",
       "      <td>4831586</td>\n",
       "      <td>4843737</td>\n",
       "      <td>4854803</td>\n",
       "      <td>4866824</td>\n",
       "      <td>4877989</td>\n",
       "      <td>4891628</td>\n",
       "      <td>4907965</td>\n",
       "      <td>4921532</td>\n",
       "    </tr>\n",
       "    <tr>\n",
       "      <th>6</th>\n",
       "      <td>Alaska</td>\n",
       "      <td>710231</td>\n",
       "      <td>710246</td>\n",
       "      <td>713982</td>\n",
       "      <td>722349</td>\n",
       "      <td>730810</td>\n",
       "      <td>737626</td>\n",
       "      <td>737075</td>\n",
       "      <td>738430</td>\n",
       "      <td>742575</td>\n",
       "      <td>740983</td>\n",
       "      <td>736624</td>\n",
       "      <td>733603</td>\n",
       "      <td>731158</td>\n",
       "    </tr>\n",
       "    <tr>\n",
       "      <th>7</th>\n",
       "      <td>Arizona</td>\n",
       "      <td>6392017</td>\n",
       "      <td>6392292</td>\n",
       "      <td>6407342</td>\n",
       "      <td>6473416</td>\n",
       "      <td>6556344</td>\n",
       "      <td>6634690</td>\n",
       "      <td>6732873</td>\n",
       "      <td>6832810</td>\n",
       "      <td>6944767</td>\n",
       "      <td>7048088</td>\n",
       "      <td>7164228</td>\n",
       "      <td>7291843</td>\n",
       "      <td>7421401</td>\n",
       "    </tr>\n",
       "    <tr>\n",
       "      <th>8</th>\n",
       "      <td>Arkansas</td>\n",
       "      <td>2915918</td>\n",
       "      <td>2916029</td>\n",
       "      <td>2921998</td>\n",
       "      <td>2941038</td>\n",
       "      <td>2952876</td>\n",
       "      <td>2960459</td>\n",
       "      <td>2968759</td>\n",
       "      <td>2979732</td>\n",
       "      <td>2991815</td>\n",
       "      <td>3003855</td>\n",
       "      <td>3012161</td>\n",
       "      <td>3020985</td>\n",
       "      <td>3030522</td>\n",
       "    </tr>\n",
       "    <tr>\n",
       "      <th>9</th>\n",
       "      <td>California</td>\n",
       "      <td>37253956</td>\n",
       "      <td>37254522</td>\n",
       "      <td>37319550</td>\n",
       "      <td>37636311</td>\n",
       "      <td>37944551</td>\n",
       "      <td>38253768</td>\n",
       "      <td>38586706</td>\n",
       "      <td>38904296</td>\n",
       "      <td>39149186</td>\n",
       "      <td>39337785</td>\n",
       "      <td>39437463</td>\n",
       "      <td>39437610</td>\n",
       "      <td>39368078</td>\n",
       "    </tr>\n",
       "  </tbody>\n",
       "</table>\n",
       "</div>"
      ],
      "text/plain": [
       "        State    Census  Estimates Base      2010      2011      2012  \\\n",
       "5     Alabama   4779736         4780118   4785514   4799642   4816632   \n",
       "6      Alaska    710231          710246    713982    722349    730810   \n",
       "7     Arizona   6392017         6392292   6407342   6473416   6556344   \n",
       "8    Arkansas   2915918         2916029   2921998   2941038   2952876   \n",
       "9  California  37253956        37254522  37319550  37636311  37944551   \n",
       "\n",
       "       2013      2014      2015      2016      2017      2018      2019  \\\n",
       "5   4831586   4843737   4854803   4866824   4877989   4891628   4907965   \n",
       "6    737626    737075    738430    742575    740983    736624    733603   \n",
       "7   6634690   6732873   6832810   6944767   7048088   7164228   7291843   \n",
       "8   2960459   2968759   2979732   2991815   3003855   3012161   3020985   \n",
       "9  38253768  38586706  38904296  39149186  39337785  39437463  39437610   \n",
       "\n",
       "       2020  \n",
       "5   4921532  \n",
       "6    731158  \n",
       "7   7421401  \n",
       "8   3030522  \n",
       "9  39368078  "
      ]
     },
     "execution_count": 12,
     "metadata": {},
     "output_type": "execute_result"
    }
   ],
   "source": [
    "population.head()"
   ]
  },
  {
   "cell_type": "markdown",
   "metadata": {},
   "source": [
    "# Data Analysis & Results"
   ]
  },
  {
   "cell_type": "markdown",
   "metadata": {},
   "source": [
    "### Twitter Stream Grab"
   ]
  },
  {
   "cell_type": "markdown",
   "metadata": {},
   "source": [
    "First, let's take a look at the Twitter data. To start, let's place each Tweet in the dataset into two categories: political (1) and not political (0). This would form a Bernoulli distribution. To do this, we selected a few key words that believed to have political meaning behind them to check whether or not the Tweet contains a political word or a political hashtag. Again, since the dataset is huge, the data has been pre-parsed using the function below:"
   ]
  },
  {
   "cell_type": "code",
   "execution_count": 13,
   "metadata": {},
   "outputs": [
    {
     "data": {
      "text/html": [
       "<div>\n",
       "<style scoped>\n",
       "    .dataframe tbody tr th:only-of-type {\n",
       "        vertical-align: middle;\n",
       "    }\n",
       "\n",
       "    .dataframe tbody tr th {\n",
       "        vertical-align: top;\n",
       "    }\n",
       "\n",
       "    .dataframe thead th {\n",
       "        text-align: right;\n",
       "    }\n",
       "</style>\n",
       "<table border=\"1\" class=\"dataframe\">\n",
       "  <thead>\n",
       "    <tr style=\"text-align: right;\">\n",
       "      <th></th>\n",
       "      <th>Year</th>\n",
       "      <th>Month</th>\n",
       "      <th>Day</th>\n",
       "      <th>Hour</th>\n",
       "      <th>Minute</th>\n",
       "      <th>Political</th>\n",
       "    </tr>\n",
       "  </thead>\n",
       "  <tbody>\n",
       "    <tr>\n",
       "      <th>0</th>\n",
       "      <td>2016</td>\n",
       "      <td>1</td>\n",
       "      <td>14</td>\n",
       "      <td>20</td>\n",
       "      <td>0</td>\n",
       "      <td>0</td>\n",
       "    </tr>\n",
       "    <tr>\n",
       "      <th>1</th>\n",
       "      <td>2016</td>\n",
       "      <td>1</td>\n",
       "      <td>14</td>\n",
       "      <td>20</td>\n",
       "      <td>0</td>\n",
       "      <td>0</td>\n",
       "    </tr>\n",
       "    <tr>\n",
       "      <th>2</th>\n",
       "      <td>2016</td>\n",
       "      <td>1</td>\n",
       "      <td>14</td>\n",
       "      <td>20</td>\n",
       "      <td>0</td>\n",
       "      <td>0</td>\n",
       "    </tr>\n",
       "    <tr>\n",
       "      <th>3</th>\n",
       "      <td>2016</td>\n",
       "      <td>1</td>\n",
       "      <td>14</td>\n",
       "      <td>20</td>\n",
       "      <td>0</td>\n",
       "      <td>0</td>\n",
       "    </tr>\n",
       "    <tr>\n",
       "      <th>4</th>\n",
       "      <td>2016</td>\n",
       "      <td>1</td>\n",
       "      <td>14</td>\n",
       "      <td>20</td>\n",
       "      <td>0</td>\n",
       "      <td>0</td>\n",
       "    </tr>\n",
       "  </tbody>\n",
       "</table>\n",
       "</div>"
      ],
      "text/plain": [
       "   Year  Month  Day  Hour  Minute  Political\n",
       "0  2016      1   14    20       0          0\n",
       "1  2016      1   14    20       0          0\n",
       "2  2016      1   14    20       0          0\n",
       "3  2016      1   14    20       0          0\n",
       "4  2016      1   14    20       0          0"
      ]
     },
     "execution_count": 13,
     "metadata": {},
     "output_type": "execute_result"
    }
   ],
   "source": [
    "def is_political(tweet, hashtags):\n",
    "    POLITICAL_WORDS = [\n",
    "        'democrat', 'voting','voted','vote','forthepeople','election','politics','trump','maga','donaldtrump',\n",
    "        'joebiden','congress','democrats','covid','ivoted','presidentialelection','votingmatters','govote','democratscare','republicanscare',\n",
    "        'maga','blm','harris','kamala','stopthesteal','sleepyjoe','blacklivesmatter','georgefloyd','witchhunt','fracking',\n",
    "        'communism','communists','media','riots','rioting','immigration','looting','looters','republican','makeamericagreatagain',\n",
    "        'biden','donald','trump','voteblue','votered','protestors','snowflakes','libtards','libertards','ballots',\n",
    "        'bluestate','redstate','emails','taxes','tax','lra','rightwing','leftwing','sheeple','notourpresident',\n",
    "        'notmypresident','barack','obama','clinton','hillary','election','communism','socialism','aoc','sanders',\n",
    "        'bernie','feelthebern','fakenews','fakenewsmedia','lamestreammedia','crooked','sleepyjoe','mandate','stimulus','daca',\n",
    "        'caresact','acab','police','policebrutality','injustice','buildthewall','immigrants','illegals','taxreform','detentioncenters',\n",
    "        'muslimban','deportation','constitution','supremecourt','capitalism','socialist','communist','capitalist'\n",
    "    ]\n",
    "\n",
    "    for word in POLITICAL_WORDS:\n",
    "        # Make everything lowercase and remove spaces to match keywords easier\n",
    "        if word in tweet.lower().replace(' ', ''):\n",
    "            return 1\n",
    "        elif word in hashtags.lower().replace(' ', ''):\n",
    "            return 1\n",
    "\n",
    "    return 0\n",
    "\n",
    "political_tweets.head()"
   ]
  },
  {
   "cell_type": "markdown",
   "metadata": {},
   "source": [
    "Let's take a look at the number of political vs non-political Tweets in each year."
   ]
  },
  {
   "cell_type": "code",
   "execution_count": 14,
   "metadata": {},
   "outputs": [],
   "source": [
    "tweets_2016 = political_tweets[political_tweets['Year'] == 2016]\n",
    "tweets_2020 = political_tweets[political_tweets['Year'] == 2020]"
   ]
  },
  {
   "cell_type": "code",
   "execution_count": 15,
   "metadata": {},
   "outputs": [
    {
     "name": "stdout",
     "output_type": "stream",
     "text": [
      "Total: 2005410\n"
     ]
    },
    {
     "data": {
      "text/plain": [
       "0    1967085\n",
       "1      38325\n",
       "Name: Political, dtype: int64"
      ]
     },
     "execution_count": 15,
     "metadata": {},
     "output_type": "execute_result"
    }
   ],
   "source": [
    "num_tweets_2016 = len(tweets_2016)\n",
    "print(f'Total: {num_tweets_2016}')\n",
    "tweets_2016['Political'].value_counts()"
   ]
  },
  {
   "cell_type": "markdown",
   "metadata": {},
   "source": [
    "In 2016, there was a total of 2,005,410 tweets between the months of January through April. Among those tweets, there were 1,967,085 non-political tweets and 38,325 political tweets."
   ]
  },
  {
   "cell_type": "code",
   "execution_count": 16,
   "metadata": {},
   "outputs": [
    {
     "name": "stdout",
     "output_type": "stream",
     "text": [
      "Total: 2294931\n"
     ]
    },
    {
     "data": {
      "text/plain": [
       "0    2209102\n",
       "1      85829\n",
       "Name: Political, dtype: int64"
      ]
     },
     "execution_count": 16,
     "metadata": {},
     "output_type": "execute_result"
    }
   ],
   "source": [
    "num_tweets_2020 = len(tweets_2020)\n",
    "print(f'Total: {num_tweets_2020}')\n",
    "tweets_2020['Political'].value_counts()"
   ]
  },
  {
   "cell_type": "markdown",
   "metadata": {},
   "source": [
    "In 2020, there was a total of 2,294,931 tweets between the months of January through April. Among those tweets, there were 2,209,102 non-political tweets and 85,829 political tweets. "
   ]
  },
  {
   "cell_type": "markdown",
   "metadata": {},
   "source": [
    "As we can see, there's roughly a 10% increase in total number of Tweets in 2020 compared to 2016, so to normalize this, we will find the proportions of political vs non-political Tweets."
   ]
  },
  {
   "cell_type": "code",
   "execution_count": 17,
   "metadata": {},
   "outputs": [
    {
     "data": {
      "text/html": [
       "<div>\n",
       "<style scoped>\n",
       "    .dataframe tbody tr th:only-of-type {\n",
       "        vertical-align: middle;\n",
       "    }\n",
       "\n",
       "    .dataframe tbody tr th {\n",
       "        vertical-align: top;\n",
       "    }\n",
       "\n",
       "    .dataframe thead th {\n",
       "        text-align: right;\n",
       "    }\n",
       "</style>\n",
       "<table border=\"1\" class=\"dataframe\">\n",
       "  <thead>\n",
       "    <tr style=\"text-align: right;\">\n",
       "      <th></th>\n",
       "      <th>Year</th>\n",
       "      <th>Political</th>\n",
       "      <th>Non-Political</th>\n",
       "    </tr>\n",
       "  </thead>\n",
       "  <tbody>\n",
       "    <tr>\n",
       "      <th>0</th>\n",
       "      <td>2016</td>\n",
       "      <td>0.019111</td>\n",
       "      <td>0.980889</td>\n",
       "    </tr>\n",
       "    <tr>\n",
       "      <th>1</th>\n",
       "      <td>2020</td>\n",
       "      <td>0.037399</td>\n",
       "      <td>0.962601</td>\n",
       "    </tr>\n",
       "  </tbody>\n",
       "</table>\n",
       "</div>"
      ],
      "text/plain": [
       "   Year  Political  Non-Political\n",
       "0  2016   0.019111       0.980889\n",
       "1  2020   0.037399       0.962601"
      ]
     },
     "execution_count": 17,
     "metadata": {},
     "output_type": "execute_result"
    }
   ],
   "source": [
    "tweet_prop_2016 = tweets_2016['Political'].value_counts() / num_tweets_2016\n",
    "tweet_prop_2020 = tweets_2020['Political'].value_counts() / num_tweets_2020\n",
    "tweet_proportions = pd.DataFrame([[2016, tweet_prop_2016[1], tweet_prop_2016[0]], [2020, tweet_prop_2020[1], tweet_prop_2020[0]]], columns=['Year', 'Political', 'Non-Political'])\n",
    "tweet_proportions"
   ]
  },
  {
   "cell_type": "markdown",
   "metadata": {},
   "source": [
    "We created a table containing the proportion of political and non-political tweets and then plotted those proportions of political tweets for 2016 and 2020."
   ]
  },
  {
   "cell_type": "code",
   "execution_count": 18,
   "metadata": {},
   "outputs": [
    {
     "data": {
      "image/png": "[encoded data removed]",
      "text/plain": [
       "<Figure size 432x288 with 1 Axes>"
      ]
     },
     "metadata": {
      "needs_background": "light"
     },
     "output_type": "display_data"
    }
   ],
   "source": [
    "sns.barplot(data=tweet_proportions, x='Year', y='Political', palette=palette)\n",
    "plt.title('Proportion of Political Tweets for 2016 and 2020')\n",
    "plt.show()"
   ]
  },
  {
   "cell_type": "markdown",
   "metadata": {},
   "source": [
    "The barplot above suggests that there is a noticable increase in the proportion of political Tweets between 2016 and 2020. But is the difference between these results statistically significant? "
   ]
  },
  {
   "cell_type": "markdown",
   "metadata": {},
   "source": [
    "Since we are working with proportions, we will use a two-sample proportion z-test with an alpha level of 0.05 to check for statistical significance. And since we are checking for an increase in political Tweets, we will use a one-sided alternative hypothesis. Our hypotheses for this test will be the following:\n",
    "\n",
    "<center>Null: There is no increase in the proportion of political Tweets from 2016 to 2020. In other words, P(2016) = P(2020) or P(2016) - P(2020) = 0.</center>\n",
    "<center>Alternative : There is a increase in the proportion of political Tweets from 2016 to 2020. In other words, P(2016) &lt P(2020) or P(2016) - P(2020) &lt 0.</center>"
   ]
  },
  {
   "cell_type": "code",
   "execution_count": 19,
   "metadata": {},
   "outputs": [
    {
     "name": "stdout",
     "output_type": "stream",
     "text": [
      "P-Value: 0.0000000000\n"
     ]
    }
   ],
   "source": [
    "successes = [tweets_2016['Political'].sum(), tweets_2020['Political'].sum()]\n",
    "totals = [num_tweets_2016, num_tweets_2020]\n",
    "z_stat, p_value = proportions_ztest(successes, totals, value=0, alternative='smaller')\n",
    "\n",
    "print(f'P-Value: {p_value:.10f}')"
   ]
  },
  {
   "cell_type": "markdown",
   "metadata": {},
   "source": [
    "From our z-test, we got an extremely small p-value that is essentially 0, much smaller than our alpha level of 0.05. This implies that we should reject the null hypothesis in favor of the alternative, and that there is a significant increase in the proportion of Tweets from 2016 to 2020."
   ]
  },
  {
   "cell_type": "markdown",
   "metadata": {},
   "source": [
    "### New Voter Registration"
   ]
  },
  {
   "cell_type": "markdown",
   "metadata": {},
   "source": [
    "We will now take a look at the New Voter Registration dataset."
   ]
  },
  {
   "cell_type": "code",
   "execution_count": 20,
   "metadata": {},
   "outputs": [
    {
     "data": {
      "text/html": [
       "<div>\n",
       "<style scoped>\n",
       "    .dataframe tbody tr th:only-of-type {\n",
       "        vertical-align: middle;\n",
       "    }\n",
       "\n",
       "    .dataframe tbody tr th {\n",
       "        vertical-align: top;\n",
       "    }\n",
       "\n",
       "    .dataframe thead th {\n",
       "        text-align: right;\n",
       "    }\n",
       "</style>\n",
       "<table border=\"1\" class=\"dataframe\">\n",
       "  <thead>\n",
       "    <tr style=\"text-align: right;\">\n",
       "      <th></th>\n",
       "      <th>State</th>\n",
       "      <th>Year</th>\n",
       "      <th>Month</th>\n",
       "      <th>New Voters</th>\n",
       "    </tr>\n",
       "  </thead>\n",
       "  <tbody>\n",
       "    <tr>\n",
       "      <th>0</th>\n",
       "      <td>Arizona</td>\n",
       "      <td>2016</td>\n",
       "      <td>1</td>\n",
       "      <td>25852</td>\n",
       "    </tr>\n",
       "    <tr>\n",
       "      <th>1</th>\n",
       "      <td>Arizona</td>\n",
       "      <td>2016</td>\n",
       "      <td>2</td>\n",
       "      <td>51155</td>\n",
       "    </tr>\n",
       "    <tr>\n",
       "      <th>2</th>\n",
       "      <td>Arizona</td>\n",
       "      <td>2016</td>\n",
       "      <td>3</td>\n",
       "      <td>48614</td>\n",
       "    </tr>\n",
       "    <tr>\n",
       "      <th>3</th>\n",
       "      <td>Arizona</td>\n",
       "      <td>2016</td>\n",
       "      <td>4</td>\n",
       "      <td>30668</td>\n",
       "    </tr>\n",
       "    <tr>\n",
       "      <th>4</th>\n",
       "      <td>Arizona</td>\n",
       "      <td>2020</td>\n",
       "      <td>1</td>\n",
       "      <td>33229</td>\n",
       "    </tr>\n",
       "  </tbody>\n",
       "</table>\n",
       "</div>"
      ],
      "text/plain": [
       "     State  Year  Month  New Voters\n",
       "0  Arizona  2016      1       25852\n",
       "1  Arizona  2016      2       51155\n",
       "2  Arizona  2016      3       48614\n",
       "3  Arizona  2016      4       30668\n",
       "4  Arizona  2020      1       33229"
      ]
     },
     "execution_count": 20,
     "metadata": {},
     "output_type": "execute_result"
    }
   ],
   "source": [
    "registration.head()"
   ]
  },
  {
   "cell_type": "code",
   "execution_count": 21,
   "metadata": {},
   "outputs": [
    {
     "data": {
      "text/html": [
       "<div>\n",
       "<style scoped>\n",
       "    .dataframe tbody tr th:only-of-type {\n",
       "        vertical-align: middle;\n",
       "    }\n",
       "\n",
       "    .dataframe tbody tr th {\n",
       "        vertical-align: top;\n",
       "    }\n",
       "\n",
       "    .dataframe thead th {\n",
       "        text-align: right;\n",
       "    }\n",
       "</style>\n",
       "<table border=\"1\" class=\"dataframe\">\n",
       "  <thead>\n",
       "    <tr style=\"text-align: right;\">\n",
       "      <th></th>\n",
       "      <th>Year</th>\n",
       "      <th>Month</th>\n",
       "      <th>New Voters</th>\n",
       "    </tr>\n",
       "  </thead>\n",
       "  <tbody>\n",
       "    <tr>\n",
       "      <th>count</th>\n",
       "      <td>106.000000</td>\n",
       "      <td>106.000000</td>\n",
       "      <td>106.000000</td>\n",
       "    </tr>\n",
       "    <tr>\n",
       "      <th>mean</th>\n",
       "      <td>2018.000000</td>\n",
       "      <td>2.735849</td>\n",
       "      <td>48223.462264</td>\n",
       "    </tr>\n",
       "    <tr>\n",
       "      <th>std</th>\n",
       "      <td>2.009501</td>\n",
       "      <td>1.296897</td>\n",
       "      <td>48596.080089</td>\n",
       "    </tr>\n",
       "    <tr>\n",
       "      <th>min</th>\n",
       "      <td>2016.000000</td>\n",
       "      <td>1.000000</td>\n",
       "      <td>589.000000</td>\n",
       "    </tr>\n",
       "    <tr>\n",
       "      <th>25%</th>\n",
       "      <td>2016.000000</td>\n",
       "      <td>2.000000</td>\n",
       "      <td>19137.500000</td>\n",
       "    </tr>\n",
       "    <tr>\n",
       "      <th>50%</th>\n",
       "      <td>2018.000000</td>\n",
       "      <td>3.000000</td>\n",
       "      <td>33301.500000</td>\n",
       "    </tr>\n",
       "    <tr>\n",
       "      <th>75%</th>\n",
       "      <td>2020.000000</td>\n",
       "      <td>4.000000</td>\n",
       "      <td>55257.500000</td>\n",
       "    </tr>\n",
       "    <tr>\n",
       "      <th>max</th>\n",
       "      <td>2020.000000</td>\n",
       "      <td>5.000000</td>\n",
       "      <td>238281.000000</td>\n",
       "    </tr>\n",
       "  </tbody>\n",
       "</table>\n",
       "</div>"
      ],
      "text/plain": [
       "              Year       Month     New Voters\n",
       "count   106.000000  106.000000     106.000000\n",
       "mean   2018.000000    2.735849   48223.462264\n",
       "std       2.009501    1.296897   48596.080089\n",
       "min    2016.000000    1.000000     589.000000\n",
       "25%    2016.000000    2.000000   19137.500000\n",
       "50%    2018.000000    3.000000   33301.500000\n",
       "75%    2020.000000    4.000000   55257.500000\n",
       "max    2020.000000    5.000000  238281.000000"
      ]
     },
     "execution_count": 21,
     "metadata": {},
     "output_type": "execute_result"
    }
   ],
   "source": [
    "registration.describe()"
   ]
  },
  {
   "cell_type": "code",
   "execution_count": 22,
   "metadata": {},
   "outputs": [
    {
     "data": {
      "text/plain": [
       "State         object\n",
       "Year           int64\n",
       "Month          int64\n",
       "New Voters     int64\n",
       "dtype: object"
      ]
     },
     "execution_count": 22,
     "metadata": {},
     "output_type": "execute_result"
    }
   ],
   "source": [
    "registration.dtypes"
   ]
  },
  {
   "cell_type": "code",
   "execution_count": 23,
   "metadata": {},
   "outputs": [
    {
     "data": {
      "text/plain": [
       "array(['Arizona', 'California', 'Colorado', 'Delaware',\n",
       "       'District of Columbia', 'Florida', 'Georgia', 'Illinois',\n",
       "       'Maryland', 'North Carolina', 'Texas', 'Virginia'], dtype=object)"
      ]
     },
     "execution_count": 23,
     "metadata": {},
     "output_type": "execute_result"
    }
   ],
   "source": [
    "registration['State'].unique()"
   ]
  },
  {
   "cell_type": "code",
   "execution_count": 24,
   "metadata": {},
   "outputs": [
    {
     "data": {
      "text/plain": [
       "4    24\n",
       "3    24\n",
       "2    24\n",
       "1    24\n",
       "5    10\n",
       "Name: Month, dtype: int64"
      ]
     },
     "execution_count": 24,
     "metadata": {},
     "output_type": "execute_result"
    }
   ],
   "source": [
    "registration['Month'].value_counts()"
   ]
  },
  {
   "cell_type": "markdown",
   "metadata": {},
   "source": [
    "Our dataset appears to be structured and typed correctly after our cleaning based on the dtypes and the head of the dataframe. Our New Voter Registration dataset only contains information on 11 states + Washington D.C, so we will need to restrict our analysis to only these 12 locations. We can also see that for the months January to April, there are 24 rows for each month (12 locations * 2 years), but only 10 rows for May, which means that we only have May data for 5 of the 12 locations. Because of this, we will also restrict our analysis to the months January to April to keep our data consistent and comparable."
   ]
  },
  {
   "cell_type": "code",
   "execution_count": 25,
   "metadata": {},
   "outputs": [
    {
     "data": {
      "text/html": [
       "<div>\n",
       "<style scoped>\n",
       "    .dataframe tbody tr th:only-of-type {\n",
       "        vertical-align: middle;\n",
       "    }\n",
       "\n",
       "    .dataframe tbody tr th {\n",
       "        vertical-align: top;\n",
       "    }\n",
       "\n",
       "    .dataframe thead th {\n",
       "        text-align: right;\n",
       "    }\n",
       "</style>\n",
       "<table border=\"1\" class=\"dataframe\">\n",
       "  <thead>\n",
       "    <tr style=\"text-align: right;\">\n",
       "      <th></th>\n",
       "      <th>Year</th>\n",
       "      <th>Month</th>\n",
       "      <th>New Voters</th>\n",
       "    </tr>\n",
       "  </thead>\n",
       "  <tbody>\n",
       "    <tr>\n",
       "      <th>count</th>\n",
       "      <td>96.000000</td>\n",
       "      <td>96.000000</td>\n",
       "      <td>96.000000</td>\n",
       "    </tr>\n",
       "    <tr>\n",
       "      <th>mean</th>\n",
       "      <td>2018.000000</td>\n",
       "      <td>2.500000</td>\n",
       "      <td>50630.000000</td>\n",
       "    </tr>\n",
       "    <tr>\n",
       "      <th>std</th>\n",
       "      <td>2.010499</td>\n",
       "      <td>1.123903</td>\n",
       "      <td>49841.581825</td>\n",
       "    </tr>\n",
       "    <tr>\n",
       "      <th>min</th>\n",
       "      <td>2016.000000</td>\n",
       "      <td>1.000000</td>\n",
       "      <td>589.000000</td>\n",
       "    </tr>\n",
       "    <tr>\n",
       "      <th>25%</th>\n",
       "      <td>2016.000000</td>\n",
       "      <td>1.750000</td>\n",
       "      <td>19919.000000</td>\n",
       "    </tr>\n",
       "    <tr>\n",
       "      <th>50%</th>\n",
       "      <td>2018.000000</td>\n",
       "      <td>2.500000</td>\n",
       "      <td>35082.500000</td>\n",
       "    </tr>\n",
       "    <tr>\n",
       "      <th>75%</th>\n",
       "      <td>2020.000000</td>\n",
       "      <td>3.250000</td>\n",
       "      <td>60817.750000</td>\n",
       "    </tr>\n",
       "    <tr>\n",
       "      <th>max</th>\n",
       "      <td>2020.000000</td>\n",
       "      <td>4.000000</td>\n",
       "      <td>238281.000000</td>\n",
       "    </tr>\n",
       "  </tbody>\n",
       "</table>\n",
       "</div>"
      ],
      "text/plain": [
       "              Year      Month     New Voters\n",
       "count    96.000000  96.000000      96.000000\n",
       "mean   2018.000000   2.500000   50630.000000\n",
       "std       2.010499   1.123903   49841.581825\n",
       "min    2016.000000   1.000000     589.000000\n",
       "25%    2016.000000   1.750000   19919.000000\n",
       "50%    2018.000000   2.500000   35082.500000\n",
       "75%    2020.000000   3.250000   60817.750000\n",
       "max    2020.000000   4.000000  238281.000000"
      ]
     },
     "execution_count": 25,
     "metadata": {},
     "output_type": "execute_result"
    }
   ],
   "source": [
    "registration = registration[registration['Month'] != 5]\n",
    "registration.describe()"
   ]
  },
  {
   "cell_type": "markdown",
   "metadata": {},
   "source": [
    "We can also see that the standard deviation of the number of New Voters is abnormally large. This is most likely due to the fact that the dataset contains raw counts for each location without taking into account the total population of that state. In order to make our analysis meaningful, we will need to incorporate the US Census population data for the corresponding years to find the proportions."
   ]
  },
  {
   "cell_type": "code",
   "execution_count": 26,
   "metadata": {},
   "outputs": [
    {
     "data": {
      "text/html": [
       "<div>\n",
       "<style scoped>\n",
       "    .dataframe tbody tr th:only-of-type {\n",
       "        vertical-align: middle;\n",
       "    }\n",
       "\n",
       "    .dataframe tbody tr th {\n",
       "        vertical-align: top;\n",
       "    }\n",
       "\n",
       "    .dataframe thead th {\n",
       "        text-align: right;\n",
       "    }\n",
       "</style>\n",
       "<table border=\"1\" class=\"dataframe\">\n",
       "  <thead>\n",
       "    <tr style=\"text-align: right;\">\n",
       "      <th></th>\n",
       "      <th>State</th>\n",
       "      <th>Year</th>\n",
       "      <th>Month</th>\n",
       "      <th>New Voters</th>\n",
       "      <th>Population 2016</th>\n",
       "      <th>Population 2020</th>\n",
       "      <th>Proportion</th>\n",
       "    </tr>\n",
       "  </thead>\n",
       "  <tbody>\n",
       "    <tr>\n",
       "      <th>0</th>\n",
       "      <td>Arizona</td>\n",
       "      <td>2016</td>\n",
       "      <td>1</td>\n",
       "      <td>25852</td>\n",
       "      <td>6944767</td>\n",
       "      <td>7421401</td>\n",
       "      <td>0.003723</td>\n",
       "    </tr>\n",
       "    <tr>\n",
       "      <th>1</th>\n",
       "      <td>Arizona</td>\n",
       "      <td>2016</td>\n",
       "      <td>2</td>\n",
       "      <td>51155</td>\n",
       "      <td>6944767</td>\n",
       "      <td>7421401</td>\n",
       "      <td>0.007366</td>\n",
       "    </tr>\n",
       "    <tr>\n",
       "      <th>2</th>\n",
       "      <td>Arizona</td>\n",
       "      <td>2016</td>\n",
       "      <td>3</td>\n",
       "      <td>48614</td>\n",
       "      <td>6944767</td>\n",
       "      <td>7421401</td>\n",
       "      <td>0.007000</td>\n",
       "    </tr>\n",
       "    <tr>\n",
       "      <th>3</th>\n",
       "      <td>Arizona</td>\n",
       "      <td>2016</td>\n",
       "      <td>4</td>\n",
       "      <td>30668</td>\n",
       "      <td>6944767</td>\n",
       "      <td>7421401</td>\n",
       "      <td>0.004416</td>\n",
       "    </tr>\n",
       "    <tr>\n",
       "      <th>4</th>\n",
       "      <td>Arizona</td>\n",
       "      <td>2020</td>\n",
       "      <td>1</td>\n",
       "      <td>33229</td>\n",
       "      <td>6944767</td>\n",
       "      <td>7421401</td>\n",
       "      <td>0.004477</td>\n",
       "    </tr>\n",
       "  </tbody>\n",
       "</table>\n",
       "</div>"
      ],
      "text/plain": [
       "     State  Year  Month  New Voters  Population 2016  Population 2020  \\\n",
       "0  Arizona  2016      1       25852          6944767          7421401   \n",
       "1  Arizona  2016      2       51155          6944767          7421401   \n",
       "2  Arizona  2016      3       48614          6944767          7421401   \n",
       "3  Arizona  2016      4       30668          6944767          7421401   \n",
       "4  Arizona  2020      1       33229          6944767          7421401   \n",
       "\n",
       "   Proportion  \n",
       "0    0.003723  \n",
       "1    0.007366  \n",
       "2    0.007000  \n",
       "3    0.004416  \n",
       "4    0.004477  "
      ]
     },
     "execution_count": 26,
     "metadata": {},
     "output_type": "execute_result"
    }
   ],
   "source": [
    "def calculate_proportion(row):\n",
    "    if row['Year'] == 2016:\n",
    "           return row['New Voters'] / row['Population 2016']\n",
    "    else:\n",
    "        return row['New Voters'] / row['Population 2020']\n",
    "\n",
    "population_election_years = population[['State', '2016', '2020']]\n",
    "registration = registration.merge(population_election_years, how='left')\n",
    "registration = registration.rename(columns={'2016': 'Population 2016', '2020': 'Population 2020'})\n",
    "\n",
    "registration['Proportion'] = registration.apply(calculate_proportion, axis=1)\n",
    "registration.head()"
   ]
  },
  {
   "cell_type": "markdown",
   "metadata": {},
   "source": [
    "In the table above, we observed the number of new voters from January-April for the 11 states and Washington D.C. We then calculated the proportion of new voters that registered in that month. Now, let's take a look at the distribution of new voters!"
   ]
  },
  {
   "cell_type": "code",
   "execution_count": 27,
   "metadata": {},
   "outputs": [
    {
     "data": {
      "image/png": "[encoded data removed]",
      "text/plain": [
       "<Figure size 432x288 with 1 Axes>"
      ]
     },
     "metadata": {
      "needs_background": "light"
     },
     "output_type": "display_data"
    }
   ],
   "source": [
    "sns.histplot(data=registration, x='Proportion', color='#b849fc')\n",
    "plt.xlabel('Proportion of New Voters')\n",
    "plt.ylabel('Count')\n",
    "plt.title('Count of Proportion of New Registered Voters for Eleven States + Washington, D.C in 2016 and 2020')\n",
    "plt.show()"
   ]
  },
  {
   "cell_type": "markdown",
   "metadata": {},
   "source": [
    "This graph represents the count of proportions for new voters that appear from January-April for both 2016 and 2020. There definitely appears so be some sort of right skew with the proportions of new voters. What if we separate it by year?"
   ]
  },
  {
   "cell_type": "code",
   "execution_count": 28,
   "metadata": {},
   "outputs": [
    {
     "data": {
      "image/png": "[encoded data removed]",
      "text/plain": [
       "<Figure size 432x288 with 1 Axes>"
      ]
     },
     "metadata": {
      "needs_background": "light"
     },
     "output_type": "display_data"
    }
   ],
   "source": [
    "sns.histplot(data=registration[registration['Year'] == 2016], x='Proportion', bins=10, color=color_2016)\n",
    "plt.xlabel('Proportion of New Voters')\n",
    "plt.ylabel('Count')\n",
    "plt.title('Count of Proportion of New Registered Voters for Eleven States + Washington, D.C in 2016')\n",
    "plt.show()"
   ]
  },
  {
   "cell_type": "markdown",
   "metadata": {},
   "source": [
    "This is the the count of proportions for new voters in 2016. We see that there is almost a normal distribution with a slight right skew. There appears to be no outliers. Now, we look into the count of proportions for new voters in 2020. "
   ]
  },
  {
   "cell_type": "code",
   "execution_count": 29,
   "metadata": {},
   "outputs": [
    {
     "data": {
      "image/png": "[encoded data removed]",
      "text/plain": [
       "<Figure size 432x288 with 1 Axes>"
      ]
     },
     "metadata": {
      "needs_background": "light"
     },
     "output_type": "display_data"
    }
   ],
   "source": [
    "sns.histplot(data=registration[registration['Year'] == 2020], x='Proportion', bins=10, color=color_2020)\n",
    "plt.xlabel('Proportion of New Voters')\n",
    "plt.ylabel('Count')\n",
    "plt.title('Count of Proportions of New Registered Voters for Eleven States + Washington, D.C in 2020')\n",
    "plt.show()"
   ]
  },
  {
   "cell_type": "markdown",
   "metadata": {},
   "source": [
    "After plotting the count of proportions for new voters in 2020 there appears to be a right skew around ~0.008. This suggests that there is an outlier in the 2020 dataset that could be affecting our results. Now, let's find which datatpoint contains this outlier. "
   ]
  },
  {
   "cell_type": "code",
   "execution_count": 30,
   "metadata": {},
   "outputs": [
    {
     "data": {
      "text/html": [
       "<div>\n",
       "<style scoped>\n",
       "    .dataframe tbody tr th:only-of-type {\n",
       "        vertical-align: middle;\n",
       "    }\n",
       "\n",
       "    .dataframe tbody tr th {\n",
       "        vertical-align: top;\n",
       "    }\n",
       "\n",
       "    .dataframe thead th {\n",
       "        text-align: right;\n",
       "    }\n",
       "</style>\n",
       "<table border=\"1\" class=\"dataframe\">\n",
       "  <thead>\n",
       "    <tr style=\"text-align: right;\">\n",
       "      <th></th>\n",
       "      <th>State</th>\n",
       "      <th>Year</th>\n",
       "      <th>Month</th>\n",
       "      <th>New Voters</th>\n",
       "      <th>Population 2016</th>\n",
       "      <th>Population 2020</th>\n",
       "      <th>Proportion</th>\n",
       "    </tr>\n",
       "  </thead>\n",
       "  <tbody>\n",
       "    <tr>\n",
       "      <th>73</th>\n",
       "      <td>North Carolina</td>\n",
       "      <td>2016</td>\n",
       "      <td>2</td>\n",
       "      <td>84357</td>\n",
       "      <td>10161802</td>\n",
       "      <td>10600823</td>\n",
       "      <td>0.008301</td>\n",
       "    </tr>\n",
       "    <tr>\n",
       "      <th>76</th>\n",
       "      <td>North Carolina</td>\n",
       "      <td>2020</td>\n",
       "      <td>1</td>\n",
       "      <td>111990</td>\n",
       "      <td>10161802</td>\n",
       "      <td>10600823</td>\n",
       "      <td>0.010564</td>\n",
       "    </tr>\n",
       "  </tbody>\n",
       "</table>\n",
       "</div>"
      ],
      "text/plain": [
       "             State  Year  Month  New Voters  Population 2016  Population 2020  \\\n",
       "73  North Carolina  2016      2       84357         10161802         10600823   \n",
       "76  North Carolina  2020      1      111990         10161802         10600823   \n",
       "\n",
       "    Proportion  \n",
       "73    0.008301  \n",
       "76    0.010564  "
      ]
     },
     "execution_count": 30,
     "metadata": {},
     "output_type": "execute_result"
    }
   ],
   "source": [
    "registration[registration['Proportion'] > 0.008]"
   ]
  },
  {
   "cell_type": "markdown",
   "metadata": {},
   "source": [
    "There appears to be no issues here. It looks like North Carolina just has an above average new voter registration proportion. \n"
   ]
  },
  {
   "cell_type": "markdown",
   "metadata": {},
   "source": [
    "While on first glance, it seems like the proportion of new voters in 2016 and 2020 are roughly equal, let's graph them to see it side by side, since these are very small proportions we are working with. Since the data is skewed, we will check both the mean and median, since means are more sensitive to skews and extreme values."
   ]
  },
  {
   "cell_type": "code",
   "execution_count": 31,
   "metadata": {},
   "outputs": [
    {
     "data": {
      "image/png": "[encoded data removed]",
      "text/plain": [
       "<Figure size 432x288 with 1 Axes>"
      ]
     },
     "metadata": {
      "needs_background": "light"
     },
     "output_type": "display_data"
    },
    {
     "data": {
      "text/html": [
       "<div>\n",
       "<style scoped>\n",
       "    .dataframe tbody tr th:only-of-type {\n",
       "        vertical-align: middle;\n",
       "    }\n",
       "\n",
       "    .dataframe tbody tr th {\n",
       "        vertical-align: top;\n",
       "    }\n",
       "\n",
       "    .dataframe thead th {\n",
       "        text-align: right;\n",
       "    }\n",
       "</style>\n",
       "<table border=\"1\" class=\"dataframe\">\n",
       "  <thead>\n",
       "    <tr style=\"text-align: right;\">\n",
       "      <th></th>\n",
       "      <th>Year</th>\n",
       "      <th>Month</th>\n",
       "      <th>New Voters</th>\n",
       "      <th>Population 2016</th>\n",
       "      <th>Population 2020</th>\n",
       "      <th>Proportion</th>\n",
       "    </tr>\n",
       "  </thead>\n",
       "  <tbody>\n",
       "    <tr>\n",
       "      <th>0</th>\n",
       "      <td>2016</td>\n",
       "      <td>2.5</td>\n",
       "      <td>54068.375</td>\n",
       "      <td>12461106.75</td>\n",
       "      <td>1.282797e+07</td>\n",
       "      <td>0.004554</td>\n",
       "    </tr>\n",
       "    <tr>\n",
       "      <th>1</th>\n",
       "      <td>2020</td>\n",
       "      <td>2.5</td>\n",
       "      <td>47191.625</td>\n",
       "      <td>12461106.75</td>\n",
       "      <td>1.282797e+07</td>\n",
       "      <td>0.003572</td>\n",
       "    </tr>\n",
       "  </tbody>\n",
       "</table>\n",
       "</div>"
      ],
      "text/plain": [
       "   Year  Month  New Voters  Population 2016  Population 2020  Proportion\n",
       "0  2016    2.5   54068.375      12461106.75     1.282797e+07    0.004554\n",
       "1  2020    2.5   47191.625      12461106.75     1.282797e+07    0.003572"
      ]
     },
     "execution_count": 31,
     "metadata": {},
     "output_type": "execute_result"
    }
   ],
   "source": [
    "mean_registration = registration.groupby('Year', as_index=False).mean()\n",
    "\n",
    "palette_mean = dict(zip([2016, 2020], sns.color_palette(['#ff7d88', '#817dff'])))\n",
    "sns.barplot(data=mean_registration, x='Year', y='Proportion', palette=palette_mean)\n",
    "plt.title('Mean Proportion of Registration in 2016 and 2020')\n",
    "plt.show()\n",
    "mean_registration"
   ]
  },
  {
   "cell_type": "markdown",
   "metadata": {},
   "source": [
    "Again, since means are more sensitive to skews and extreme values, we will put more focus on the median."
   ]
  },
  {
   "cell_type": "code",
   "execution_count": 32,
   "metadata": {},
   "outputs": [
    {
     "data": {
      "image/png": "[encoded data removed]",
      "text/plain": [
       "<Figure size 432x288 with 1 Axes>"
      ]
     },
     "metadata": {
      "needs_background": "light"
     },
     "output_type": "display_data"
    },
    {
     "data": {
      "text/html": [
       "<div>\n",
       "<style scoped>\n",
       "    .dataframe tbody tr th:only-of-type {\n",
       "        vertical-align: middle;\n",
       "    }\n",
       "\n",
       "    .dataframe tbody tr th {\n",
       "        vertical-align: top;\n",
       "    }\n",
       "\n",
       "    .dataframe thead th {\n",
       "        text-align: right;\n",
       "    }\n",
       "</style>\n",
       "<table border=\"1\" class=\"dataframe\">\n",
       "  <thead>\n",
       "    <tr style=\"text-align: right;\">\n",
       "      <th></th>\n",
       "      <th>Year</th>\n",
       "      <th>Month</th>\n",
       "      <th>New Voters</th>\n",
       "      <th>Population 2016</th>\n",
       "      <th>Population 2020</th>\n",
       "      <th>Proportion</th>\n",
       "    </tr>\n",
       "  </thead>\n",
       "  <tbody>\n",
       "    <tr>\n",
       "      <th>0</th>\n",
       "      <td>2016</td>\n",
       "      <td>2.5</td>\n",
       "      <td>40736.5</td>\n",
       "      <td>9289726.5</td>\n",
       "      <td>9595693.0</td>\n",
       "      <td>0.004290</td>\n",
       "    </tr>\n",
       "    <tr>\n",
       "      <th>1</th>\n",
       "      <td>2020</td>\n",
       "      <td>2.5</td>\n",
       "      <td>31682.0</td>\n",
       "      <td>9289726.5</td>\n",
       "      <td>9595693.0</td>\n",
       "      <td>0.003543</td>\n",
       "    </tr>\n",
       "  </tbody>\n",
       "</table>\n",
       "</div>"
      ],
      "text/plain": [
       "   Year  Month  New Voters  Population 2016  Population 2020  Proportion\n",
       "0  2016    2.5     40736.5        9289726.5        9595693.0    0.004290\n",
       "1  2020    2.5     31682.0        9289726.5        9595693.0    0.003543"
      ]
     },
     "execution_count": 32,
     "metadata": {},
     "output_type": "execute_result"
    }
   ],
   "source": [
    "median_registration = registration.groupby('Year', as_index=False).median()\n",
    "\n",
    "sns.barplot(data=median_registration, x='Year', y='Proportion', palette=palette)\n",
    "plt.title('Median Proportion of Registration in 2016 and 2020')\n",
    "plt.show()\n",
    "median_registration"
   ]
  },
  {
   "cell_type": "markdown",
   "metadata": {},
   "source": [
    "It looks like both the mean and median proportion of new voter registration actually decreased in 2020, with the mean proportion in 2016 being slightly higher than the median proportion of 2016 and the mean and median proportions of 2020 being roughly the same."
   ]
  },
  {
   "cell_type": "markdown",
   "metadata": {},
   "source": [
    "Again, we will use statistical analysis to verify our original hypothesis. Since our data is skewed right, we will have to use nonparametric tests to determine if there is a difference in the proportions. The alternative hypothesis here will also be one-tailed, as we are looking specifically for an increase in median proportion. We will use the rank-based Mann-Whitney U test with an alpha level of 0.05 under the following hypotheses:\n",
    "\n",
    "<center>Null: There is no increase in the median proportion of new voter registrations from 2016 to 2020 in our 12 states/jurisdictions.</center>\n",
    "<center>Alternative : There is an increase in the median proportion of new voter registrations from 2016 to 2020 in our in our 12 states/jurisdictions.</center>"
   ]
  },
  {
   "cell_type": "code",
   "execution_count": 33,
   "metadata": {},
   "outputs": [
    {
     "name": "stdout",
     "output_type": "stream",
     "text": [
      "P-Value: 0.9970997655\n"
     ]
    }
   ],
   "source": [
    "propotions_2016 = registration[registration['Year'] == 2016]['Proportion']\n",
    "propotions_2020 = registration[registration['Year'] == 2020]['Proportion']\n",
    "u_stat, p_value = mannwhitneyu(propotions_2016, propotions_2020, alternative='less')\n",
    "\n",
    "print(f'P-Value: {p_value:.10f}')"
   ]
  },
  {
   "cell_type": "markdown",
   "metadata": {},
   "source": [
    "The Mann-Whitney U test generated a p-value of about 0.997, which is much greater than our alpha level of 0.05. This implies that we fail to reject the null hypothesis and that there is no significant increase in the median proportion of new voter registrations between 2016 and 2020 in our 12 states/jurisdictions."
   ]
  },
  {
   "cell_type": "markdown",
   "metadata": {},
   "source": [
    "We do, however, see from our EDA that there seems to be a decrease in median proportion of new voter registration. Let's check whether or not the decrease is significant using the same test and alpha level but checking the other tail: \n",
    "\n",
    "<center>Null: There is no decrease in the median proportion of new voter registrations from 2016 to 2020 in our 12 states/jurisdictions.</center>\n",
    "<center>Alternative : There is an decrease in the median proportion of new voter registrations from 2016 to 2020 in our in our 12 states/jurisdictions.</center>"
   ]
  },
  {
   "cell_type": "code",
   "execution_count": 34,
   "metadata": {},
   "outputs": [
    {
     "name": "stdout",
     "output_type": "stream",
     "text": [
      "P-Value: 0.0029659248\n"
     ]
    }
   ],
   "source": [
    "u_stat, p_value = mannwhitneyu(propotions_2016, propotions_2020, alternative='greater')\n",
    "\n",
    "print(f'P-Value: {p_value:.10f}')"
   ]
  },
  {
   "cell_type": "markdown",
   "metadata": {},
   "source": [
    "The other tail generated a p-value of about 0.003, which is much less than our alpha level of 0.05. Here, we can reject the null hypothesis, and there is in fact a significant decrease in the median proportion of new voter registrations from 2016 to 2020."
   ]
  },
  {
   "cell_type": "markdown",
   "metadata": {},
   "source": [
    "# Results & Conclusion"
   ]
  },
  {
   "cell_type": "markdown",
   "metadata": {},
   "source": [
    "We hypothesized that there would be an increase both in the proportions of political Tweets and in new voter registration between 2016 and 2020. When looking over our EDA data prior to any analyses, we saw an increase in the proportion of political tweets between 2016 and 2020. Additionally, we noticed a decrease in the median proportion of new registered voters across our dataset. After running a two-sample proportions z-test, we found a significant increase (p<0.0001) in the proportion of political tweets from 2016 to 2020. This evidence supports our hypothesis that there was an increase in political activity on Twitter between the two years. Furthermore, when we investigated the median proportions of newly registered voters in 2016 and 2020 with an upper-tail Mann-Whitney U test we found that there was no significant increase across the two years (p=0.997). Thus, we failed to find support for our hypothesis and decided to investigate if there was any difference between the median proportions at all. To do so, we ran a lower-tail test on the proportions of tweets to newly registered voters and found that there was a statistically significant decrease (p=0.003) in the median proportions. Therefore, the results of our data showed support for the inverse of our hypothesis, that there would be a decrease rather than an increase in the proportion of new registered voters when following the trend of increasing political Twitter activity.\n",
    "\n",
    "Overall, there seems to be some sort of correlational relationship between political tweet activity and new voter registration but it is difficult to propose any causal relation between the two variables due to various limitations within our data discussed later."
   ]
  },
  {
   "cell_type": "markdown",
   "metadata": {},
   "source": [
    "# Discussion"
   ]
  },
  {
   "cell_type": "markdown",
   "metadata": {},
   "source": [
    "It is perhaps intuitive to see that there were a higher number of political tweets in 2020 when compared to 2016 because of COVID restrictions. Stay at home and lockdown orders across the country could have influenced people to become more active on Twitter and other social media platforms to show more support for their preferred political party and other activism opportunities. On a similar note, politicians could have turned to Twitter to gain attention for their campaign and to better connect with their supporters, especially since people were likely using social media more than usual. \n",
    "\n",
    "On the contrary, it was surprising to see that the proportion of newly registered voters had decreased between 2016 and 2020 when political activity on Twitter had increased. Although we were led to reject the null hypothesis, the alternative hypothesis that we proposed did not correspond with the results we saw in our analyses. It was hypothesized that after seeing an increase in the number of political tweets there would also be an increase in the number of newly registered voters. Again, COVID restrictions could have had an effect on new voter registration as the pandemic might have made it harder for people to leave their homes to register to vote. People may have also been discouraged from going out to submit their  registration forms because of the pandemic, especially older populations since they are at a higher risk of contracting the virus. \n",
    "\n",
    "It is important to remember that all of the aforementioned situations are purely speculation based on current events. While this study examined the relationship between political activity on Twitter and new voter registration, it did not explore the direct impact of COVID on voter registration so we cannot draw any concrete conclusions about why the results presented themselves in this manner. Based on our data, there seems to be some relationship between our two variables and it just so happened that COVID and the 2020 election occurred during the same year. Further research is needed to determine the true causes of the changes observed, especially since there are many other variables that could be confounding the results.  "
   ]
  },
  {
   "cell_type": "markdown",
   "metadata": {},
   "source": [
    "# Limitations"
   ]
  },
  {
   "cell_type": "markdown",
   "metadata": {},
   "source": [
    "A major limitation of this study is that we were solely looking at the possible effect of political tweets on new voter registration between two points in time. There are many other variables that could be influencing our results that we did not account for in our analyses. To begin with, we used a small sample of tweets relative to the amount of tweets we could have used if we had the computing power. The twitter scraping API had tweets from every month out of the year for the past 10 years with tweets for each month, day, and minute. However, because of our limited time frame, storage capacity, and processing power we had to select just 4 months out of each year and for each of those 4 months we randomly selected 4 days and 4 times. With this select number of tweets it is very likely that the random selection process could have skipped over days and even times that had more political tweets than others. Had we been able to look over tweets for the whole year our data may have captured more political sentiment than our random sample. Furthermore, we did not take the location of the tweet into account so there were tweets from outside of the US included in our dataset. While this could have added to the number of political tweets captured in our data, these accounts would not have been able to register to vote since they are not US citizens. The data used in our analyses also only included newly registered voters from 10 out of 50 states. Much like the limited time points, the limited number of states included in the data definitely affected the proportions that we saw. Although the difference in proportions might have been the same, it is likely that the proportions for either year would look different when all 50 states are included rather than just 10. On that note, some of the accounts could have been bot accounts which would also confound the proportion of newly registered voters to political tweets.\n",
    "\n",
    "Additionally, the only data that was collected for analysis was from 2016 and 2020 so any data points in between those years were not included. The data showed an increase in the number of political tweets between 2016 and 2020 but since only these two years were included it is possible that there was a consistent pattern of growth in the number of political tweets over the years in between. Thus, although we saw a spike in the number of political tweets this could have been due to other factors besides simply increased political awareness. The classification of political tweets was done through a list of keywords that the members of our group came up with so there may have been unconscious bias toward more recent events and keywords, and  a more comprehensive and balanced list would have captured a wider range of words. This could have increased the number of political tweets and therefore influenced the proportions that were produced in the analyses. \n",
    "\n",
    "Lastly, new voter registration numbers were likely influenced by COVID restrictions and people’s personal preferences. By this, we mean that people may have been apprehensive to vote to avoid coming in contact with other people, even with the option to vote by mail many prefer to vote in person. On top of that, there were many suspicions about voting by mail being a fraudulent process. \n"
   ]
  },
  {
   "cell_type": "markdown",
   "metadata": {},
   "source": [
    "# Implications"
   ]
  },
  {
   "cell_type": "markdown",
   "metadata": {},
   "source": [
    "Considering the limitations of our data and the results that were obtained from our analyses, this study provides some insight into the effect or lack thereof of political activity on social media. People seemingly became more active with regard to social justice issues but this increase in activity may have simply been performative. Since there were many social justice issues that arose during this election year people presumably wanted to show their support but may not have actually wanted to get involved in a more active role. Our results could be showing that increases in political activity through social media do not influence people to become more active in politics in the United States."
   ]
  },
  {
   "cell_type": "markdown",
   "metadata": {},
   "source": [
    "# Future Directions"
   ]
  },
  {
   "cell_type": "markdown",
   "metadata": {},
   "source": [
    "Future studies on this subject should take into account and control for the aforementioned confounding variables. For example, removing accounts of people outside of the United States from the dataset, including more data points in the set used for analyses, especially for the remaining 39 states not considered here, and using a more comprehensive list of political keywords to categorize tweets. Such a list could be available from other studies investigating political activity on Twitter. An interesting route to take for a future study could be to look on a more specific level and investigate tweets by region/state to see if there was any change in party preference in those areas. Swing states would be particularly interesting areas to investigate as they have a larger effect on the outcome of elections than states that are normally red or blue. "
   ]
  },
  {
   "cell_type": "markdown",
   "metadata": {},
   "source": [
    "# Ethics & Privacy"
   ]
  },
  {
   "cell_type": "markdown",
   "metadata": {},
   "source": [
    "Twitter believes in data privacy and has strict policies to ensure developers are not misusing users’ data and following Twitter’s data policies. Our research will involve obtaining tweets posted by users containing certain keywords/buzzwords about the 2016 and 2020 election. Since we are not accessing personal data, our investigation will ensure that users’ privacy is maintained. Since we are only analyzing the frequency of political keywords around the election, we would not need personal Twitter handles or any profile information. We will get rid of any personal information that we come across in our research and ensure we are only using public information, such as tweets. \n",
    "\n",
    "An ethical/privacy concern that may occur is collecting tweets from underage Twitter users who may have posted political tweets. Twitter allows people to use their services as long as they are 13 and older. This may cause a problem because there are laws that protect the privacy of minors and would require us to obtain permission from their parents or guardian. Another issue that may occur is unable to determine the age of the user we collected tweets from. This information would be important for us to filter out minors with a Twitter account. However, we cannot ensure we are not using tweets posted by minors who lied about their age when making their account. It will be difficult to examine all Twitter accounts to filter out all minors since some accounts do not have their age public and some users may be lying about their true age. By knowing this information, we can look out for tweets that were potentially posted by minors and maintain users’ privacy by only collecting tweets of 18+ users. \n",
    "\n",
    "Another privacy concern may arise when handling data on voter registration. This is a big privacy concern because when people are filling out the voter registration forms they are giving personal information such as name, age, and address. If we ever come across a dataset that includes personal information on individuals we will get rid of it immediately and only use the number of people registered to vote. We care about people’s privacy and we will ensure to remove any information that was given without their consent. The only information we will be needing will be the number of people who registered, state, and time all of which are relevant in order to answer our question. In our project, we were able to use anonymised registration data that only contains the number of people who registered to vote in certain states from January to April in the years 2016 and 2020. \n"
   ]
  },
  {
   "cell_type": "markdown",
   "metadata": {},
   "source": [
    "# Team Contributions"
   ]
  },
  {
   "cell_type": "markdown",
   "metadata": {},
   "source": [
    "||Naomi|Natalie|Sam|Samuel|\n",
    "|---|---|---|---|---|\n",
    "|Overview|X||||\n",
    "|Background & Prior Work||X|||\n",
    "|Finding Datasets|X|X|X|X|\n",
    "|Data Cleaning|||X||\n",
    "|EDA|||X||\n",
    "|Analysis & Results|X|X|X||\n",
    "|Conclusion||||X|\n",
    "|Discussion||||X|\n",
    "|Limitations||||X|\n",
    "|Implications||||X|\n",
    "|Future Directions||||X|\n",
    "|Ethics & Privacy|X||||\n",
    "|Video Script||X|||\n",
    "|Video Slides|X|X|X|X|\n",
    "|Video Recording|X|X|X|X|\n"
   ]
  }
 ],
 "metadata": {
  "kernelspec": {
   "display_name": "Python 3",
   "language": "python",
   "name": "python3"
  },
  "language_info": {
   "codemirror_mode": {
    "name": "ipython",
    "version": 3
   },
   "file_extension": ".py",
   "mimetype": "text/x-python",
   "name": "python",
   "nbconvert_exporter": "python",
   "pygments_lexer": "ipython3",
   "version": "3.7.9"
  }
 },
 "nbformat": 4,
 "nbformat_minor": 4
}
