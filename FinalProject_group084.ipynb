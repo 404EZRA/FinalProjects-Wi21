{
 "cells": [
  {
   "cell_type": "markdown",
   "metadata": {
    "slideshow": {
     "slide_type": "-"
    }
   },
   "source": [
    "# COGS 108 - COVID-19 Impact on UCSD Students"
   ]
  },
  {
   "cell_type": "markdown",
   "metadata": {},
   "source": [
    "# Overview"
   ]
  },
  {
   "cell_type": "markdown",
   "metadata": {},
   "source": [
    "We are interested in answering the question of how remote learning has affected UCSD students’ grades as a consequence of the pandemic. To answer this, we collected and organized data from UCSD’s CAPEs by web scraping. We then cleaned our data, standardized functions, and defined variables to generate our visualizations. From our observations, in contrast to our hypothesis, we found that UCSD students received better grades compared to previous years by a significant amount."
   ]
  },
  {
   "cell_type": "markdown",
   "metadata": {},
   "source": [
    "# Names\n",
    "\n",
    "- Lily Yu\n",
    "- Sophia Alonso\n",
    "- Kelly Tran\n",
    "- Yining Wang"
   ]
  },
  {
   "cell_type": "markdown",
   "metadata": {},
   "source": [
    "<a id='research_question'></a>\n",
    "# Research Question"
   ]
  },
  {
   "cell_type": "markdown",
   "metadata": {},
   "source": [
    "How has remote learning during the COVID-19 pandemic affected UCSD students’ grades and learning experience?\n",
    "\n",
    "(Here we measure learning experience by the rate students reccomend classes)"
   ]
  },
  {
   "cell_type": "markdown",
   "metadata": {},
   "source": [
    "<a id='background'></a>\n",
    "\n",
    "## Background & Prior Work"
   ]
  },
  {
   "cell_type": "markdown",
   "metadata": {},
   "source": [
    "The COVID-19 pandemic has led to school closures worldwide and has caused a shift to remote learning for many students [2]. This shift has been noted to have a negative impact on many, due to issues with accessing the internet, the lack of socializing, and large shift in routine [1]. McKinsey & Company released an article addressing possible future impacts because of this shift, and mentions the possibility of larger achievement gaps between students, which could lead to a loss in future earnings and GDP gains [3].\n",
    "McKinsey & Company also highlighted how the negative effects of remote learning might be disproportionately felt by low-income students [3], while Edward Roesch points out that only a fraction of African students have access to remote learning in the first place [1]. We address these ideas more in our ethics and privacy section. Roesch also brings up that China and India have started delivering remote learning through televisions [1]. Such different policies undoubtedly result in different learning outcomes, and fuel our interest in the impacts of remote learning on a more local scale.\n",
    "The Global Partnership blog has put together a list of eight data-related tools that measure the effects of COVID-19 and remote learning on students [4]. While these trackers do not directly measure the effect on student grades or performance, they are relevant for tracking specific education plans by country, or effects on government budgets that affect education spending. Specifically, the UNESCO COVID-19 Impact on Education tracker [1] has an interactive map that shows the increase in affected learners as the pandemic progressed. This relates to our data science project because we want to figure out how much the changes due to COVID-19 is affecting students, and in what ways.\n",
    "\n",
    "\n",
    "References:\n",
    "- 1) https://elearningindustry.com/shift-to-remote-learning-affects-students-used-face-to-face\n",
    "- 2) https://en.unesco.org/covid19/educationresponse\n",
    "- 3）https://www.mckinsey.com/industries/public-and-social-sector/our-insights/covid-19-and-student-learning-in-the-united-states-the-hurt-could-last-a-lifetime\\\n",
    "- 4) https://www.globalpartnership.org/blog/8-tracking-tools-covid-19-data-education"
   ]
  },
  {
   "cell_type": "markdown",
   "metadata": {},
   "source": [
    "# Hypothesis\n"
   ]
  },
  {
   "cell_type": "markdown",
   "metadata": {},
   "source": [
    "We hypothesize that remote learning will generally have a negative impact on education, for reasons such as disparate internet access, easier distractions, and transitioning to a very different learning environment. We predict that for these reasons, we will see lower grades and measures that point to worse learning outcomes correlate with the adoption of remote learning."
   ]
  },
  {
   "cell_type": "markdown",
   "metadata": {},
   "source": [
    "# Dataset(s)"
   ]
  },
  {
   "cell_type": "markdown",
   "metadata": {},
   "source": [
    "#### Dataset Name: UCSD CAPES Data\n",
    "\n",
    "Link to the dataset: https://cape.ucsd.edu/\n",
    "\n",
    "Number of observations: 49752\n",
    "\n",
    "UCSD course evaluation data dating back to 2007, including observations of the average grade students expected/received, and the percentages of those surveyed that would recommend the class or instructor. This data wasn’t conveniently available in an easily workable format, so we used Python to scrape the data, as seen below."
   ]
  },
  {
   "cell_type": "markdown",
   "metadata": {},
   "source": [
    "### Data Scraping"
   ]
  },
  {
   "cell_type": "code",
   "execution_count": 1,
   "metadata": {},
   "outputs": [],
   "source": [
    "#Tools we'll need to scrape the data\n",
    "from selenium import webdriver\n",
    "import time\n",
    "import re\n",
    "import pandas as pd"
   ]
  },
  {
   "cell_type": "code",
   "execution_count": 2,
   "metadata": {},
   "outputs": [],
   "source": [
    "#Read in credentials\n",
    "\n",
    "#These credentials are not included with this respoitory, to run this code,\n",
    "#create a credentials.config file with your SSO username on the first line and password on the second.\n",
    "\n",
    "with open(\"credentials.config\", \"r\") as f:\n",
    "    user = f.readline().strip(\"\\n\")\n",
    "    password = f.readline().strip(\"\\n\")"
   ]
  },
  {
   "cell_type": "code",
   "execution_count": 3,
   "metadata": {},
   "outputs": [],
   "source": [
    "#Read in list of departments, taken from source of https://act.ucsd.edu/scheduleOfClasses/scheduleOfClassesStudent.htm \n",
    "\n",
    "with open(\"departments.txt\", \"r\") as f:\n",
    "    departments_raw = f.read()\n",
    "    \n",
    "#Strip off opening HTML tag\n",
    "departments_raw = departments_raw.split('\\t\\t\\t\\t\\t\\t\\n\\t\\t\\t\\t\\t')[1]\n",
    "\n",
    "#Extract list of department codes\n",
    "departments = re.split('<option value=\"|\"', departments_raw)[1::2]\n",
    "\n",
    "#Strip all trailing spaces\n",
    "departments = [dept.strip() for dept in departments]"
   ]
  },
  {
   "cell_type": "code",
   "execution_count": 4,
   "metadata": {},
   "outputs": [],
   "source": [
    "url = \"https://cape.ucsd.edu/responses/Results.aspx\"\n",
    "\n",
    "#Create webdriver and load page\n",
    "driver = webdriver.Firefox()\n",
    "driver.get(url)\n",
    "\n",
    "#Send login info\n",
    "driver.find_element_by_id(\"ssousername\").send_keys(user)\n",
    "driver.find_element_by_id(\"ssopassword\").send_keys(password)\n",
    "driver.find_element_by_name(\"_eventId_proceed\").click()"
   ]
  },
  {
   "cell_type": "markdown",
   "metadata": {},
   "source": [
    "**At this point, you will have to approve two factor authentication before running further cells. (this cannot be handled through Python)** "
   ]
  },
  {
   "cell_type": "code",
   "execution_count": 5,
   "metadata": {},
   "outputs": [],
   "source": [
    "df = pd.DataFrame()\n",
    "text_box = driver.find_element_by_id(\"ContentPlaceHolder1_txtCourse\")\n",
    "error_list = []\n",
    "\n",
    "#Iterate through all departments\n",
    "for department in departments:\n",
    "    \n",
    "    #Input department code in text box\n",
    "    text_box.clear()\n",
    "    text_box.send_keys(department)\n",
    "    driver.find_element_by_id(\"ContentPlaceHolder1_btnSubmit\").click()\n",
    "\n",
    "    #Keep waiting until loading animation is gone\n",
    "    time.sleep(1)\n",
    "    loading_animation = driver.find_element_by_id(\"ContentPlaceHolder1_UpdateProgress1\")\n",
    "    while loading_animation.get_attribute(\"aria-hidden\") == \"false\":\n",
    "        time.sleep(1)\n",
    "\n",
    "    temp_df = pd.DataFrame(pd.read_html(driver.page_source)[0])\n",
    "    if len(temp_df) > 1:\n",
    "        df = df.append(temp_df)\n",
    "    else:\n",
    "        #print(\"No classes for {}\".format(department))\n",
    "        error_list.append(department)"
   ]
  },
  {
   "cell_type": "code",
   "execution_count": 6,
   "metadata": {},
   "outputs": [],
   "source": [
    "#Drop any exact duplicates and save our data\n",
    "df = df.drop_duplicates()\n",
    "df.to_csv(\"CAPES_data.csv\", index = False)\n",
    "driver.close()"
   ]
  },
  {
   "cell_type": "markdown",
   "metadata": {},
   "source": [
    "# Setup"
   ]
  },
  {
   "cell_type": "code",
   "execution_count": 11,
   "metadata": {},
   "outputs": [],
   "source": [
    "#import packages\n",
    "import pandas as pd\n",
    "import numpy as np\n",
    "import matplotlib.pyplot as plt\n",
    "from scipy import stats\n",
    "import statistics"
   ]
  },
  {
   "cell_type": "code",
   "execution_count": 12,
   "metadata": {},
   "outputs": [
    {
     "data": {
      "text/html": [
       "<div>\n",
       "<style scoped>\n",
       "    .dataframe tbody tr th:only-of-type {\n",
       "        vertical-align: middle;\n",
       "    }\n",
       "\n",
       "    .dataframe tbody tr th {\n",
       "        vertical-align: top;\n",
       "    }\n",
       "\n",
       "    .dataframe thead th {\n",
       "        text-align: right;\n",
       "    }\n",
       "</style>\n",
       "<table border=\"1\" class=\"dataframe\">\n",
       "  <thead>\n",
       "    <tr style=\"text-align: right;\">\n",
       "      <th></th>\n",
       "      <th>Instructor</th>\n",
       "      <th>Course</th>\n",
       "      <th>Term</th>\n",
       "      <th>Enroll</th>\n",
       "      <th>Evals Made</th>\n",
       "      <th>Rcmnd Class</th>\n",
       "      <th>Rcmnd Instr</th>\n",
       "      <th>Study Hrs/wk</th>\n",
       "      <th>Avg Grade Expected</th>\n",
       "      <th>Avg Grade Received</th>\n",
       "    </tr>\n",
       "  </thead>\n",
       "  <tbody>\n",
       "    <tr>\n",
       "      <th>0</th>\n",
       "      <td>Andrews, Abigail Leslie</td>\n",
       "      <td>AIP 197T - AIP: Special Programs (B)</td>\n",
       "      <td>FA20</td>\n",
       "      <td>34</td>\n",
       "      <td>11</td>\n",
       "      <td>100.0%</td>\n",
       "      <td>100.0%</td>\n",
       "      <td>4.06</td>\n",
       "      <td>B+ (3.67)</td>\n",
       "      <td>NaN</td>\n",
       "    </tr>\n",
       "    <tr>\n",
       "      <th>1</th>\n",
       "      <td>Hill, Seth J</td>\n",
       "      <td>AIP 197DC - Washington, DC Internship (A)</td>\n",
       "      <td>FA19</td>\n",
       "      <td>24</td>\n",
       "      <td>3</td>\n",
       "      <td>0.0%</td>\n",
       "      <td>0.0%</td>\n",
       "      <td>4.50</td>\n",
       "      <td>NaN</td>\n",
       "      <td>NaN</td>\n",
       "    </tr>\n",
       "    <tr>\n",
       "      <th>2</th>\n",
       "      <td>Wienhausen, Gabriele</td>\n",
       "      <td>AIP 197T - AIP: Special Programs (A)</td>\n",
       "      <td>FA19</td>\n",
       "      <td>11</td>\n",
       "      <td>4</td>\n",
       "      <td>100.0%</td>\n",
       "      <td>100.0%</td>\n",
       "      <td>2.00</td>\n",
       "      <td>NaN</td>\n",
       "      <td>NaN</td>\n",
       "    </tr>\n",
       "    <tr>\n",
       "      <th>3</th>\n",
       "      <td>Wienhausen, Gabriele</td>\n",
       "      <td>AIP 197T - AIP: Special Programs (A)</td>\n",
       "      <td>S319</td>\n",
       "      <td>31</td>\n",
       "      <td>3</td>\n",
       "      <td>66.7%</td>\n",
       "      <td>50.0%</td>\n",
       "      <td>7.83</td>\n",
       "      <td>NaN</td>\n",
       "      <td>NaN</td>\n",
       "    </tr>\n",
       "    <tr>\n",
       "      <th>4</th>\n",
       "      <td>Hill, Seth J</td>\n",
       "      <td>AIP 197DC - Washington, DC Internship (A)</td>\n",
       "      <td>SP19</td>\n",
       "      <td>22</td>\n",
       "      <td>6</td>\n",
       "      <td>100.0%</td>\n",
       "      <td>100.0%</td>\n",
       "      <td>8.90</td>\n",
       "      <td>A (4.00)</td>\n",
       "      <td>NaN</td>\n",
       "    </tr>\n",
       "  </tbody>\n",
       "</table>\n",
       "</div>"
      ],
      "text/plain": [
       "                Instructor                                     Course  Term  \\\n",
       "0  Andrews, Abigail Leslie       AIP 197T - AIP: Special Programs (B)  FA20   \n",
       "1             Hill, Seth J  AIP 197DC - Washington, DC Internship (A)  FA19   \n",
       "2     Wienhausen, Gabriele       AIP 197T - AIP: Special Programs (A)  FA19   \n",
       "3     Wienhausen, Gabriele       AIP 197T - AIP: Special Programs (A)  S319   \n",
       "4             Hill, Seth J  AIP 197DC - Washington, DC Internship (A)  SP19   \n",
       "\n",
       "   Enroll  Evals Made Rcmnd Class Rcmnd Instr  Study Hrs/wk  \\\n",
       "0      34          11      100.0%      100.0%          4.06   \n",
       "1      24           3        0.0%        0.0%          4.50   \n",
       "2      11           4      100.0%      100.0%          2.00   \n",
       "3      31           3       66.7%       50.0%          7.83   \n",
       "4      22           6      100.0%      100.0%          8.90   \n",
       "\n",
       "  Avg Grade Expected Avg Grade Received  \n",
       "0          B+ (3.67)                NaN  \n",
       "1                NaN                NaN  \n",
       "2                NaN                NaN  \n",
       "3                NaN                NaN  \n",
       "4           A (4.00)                NaN  "
      ]
     },
     "execution_count": 12,
     "metadata": {},
     "output_type": "execute_result"
    }
   ],
   "source": [
    "capes = pd.read_csv(\"CAPES_data.csv\")\n",
    "capes.head()"
   ]
  },
  {
   "cell_type": "code",
   "execution_count": 13,
   "metadata": {},
   "outputs": [
    {
     "data": {
      "text/plain": [
       "49752"
      ]
     },
     "execution_count": 13,
     "metadata": {},
     "output_type": "execute_result"
    }
   ],
   "source": [
    "len(capes)"
   ]
  },
  {
   "cell_type": "markdown",
   "metadata": {},
   "source": [
    "# Data Cleaning"
   ]
  },
  {
   "cell_type": "markdown",
   "metadata": {},
   "source": [
    "### Standardizing Columns"
   ]
  },
  {
   "cell_type": "markdown",
   "metadata": {},
   "source": [
    "To clean our data, we standardized the `Avg Grade Expected` and `Avg Grade Received` columns. In our dataset, these columns came in the format of `LETTER (NUMBER)`, like `A (4.00)`. To make analysis easier, we discarded the letters, and kept only the numbers inside, converted to a float.\n",
    "\n",
    "We performed a similar operation for the `Rcmnd Class` and `Rcmnd Instr` columns. These columns originally came in the format `NUMBER%`, like `93.3%`. We discarded the percent signs, and again converted the leftover string to floats, for easier analysis.\n",
    "\n",
    "Furthermore, our dataset's `Term` column came in the format `TERMYEAR`, like `FA20`. Strings like this are difficult for us to sort chronologically, so we extracted the term and year information, and put them into two new columns, `Term_num` and `Year`. For the `Term_num` column, we mapped every term to the order it comes in a year (ex. \"WI\" is term 1, \"SP\" is term 2...), then saved this number as an int. For the `Year` column, we simply extracted the year, appended \"20\" to the front, so \"15\" becomes \"2015\" (there are no rows that are pre-2000 in this dataset), and saved the year as an int.\n",
    "\n",
    "Finally, we also extracted the department code (ex. \"COGS\") from our dataset's `Course` column, adding it to a `Department` column. To do this, we simply took the first chunk of text before a space. We verified that this simple solution works for all our observations. "
   ]
  },
  {
   "cell_type": "code",
   "execution_count": 14,
   "metadata": {},
   "outputs": [],
   "source": [
    "def standardize_grades(text):\n",
    "    #Handle if function has already been run\n",
    "    if type(text) == float:\n",
    "        return text\n",
    "    \n",
    "    #Keep all text after last parentheses open\n",
    "    grade = text.split(\"(\")[-1]\n",
    "    \n",
    "    #Cut off trailing parentheses close\n",
    "    grade = grade.replace(\")\", \"\")\n",
    "    \n",
    "    #Convert to float\n",
    "    grade = float(grade)\n",
    "    \n",
    "    return grade"
   ]
  },
  {
   "cell_type": "code",
   "execution_count": 15,
   "metadata": {},
   "outputs": [],
   "source": [
    "#Convert both grade columns to floats\n",
    "capes[\"Avg Grade Expected\"] = capes[\"Avg Grade Expected\"].apply(standardize_grades)\n",
    "capes[\"Avg Grade Received\"] = capes[\"Avg Grade Received\"].apply(standardize_grades)"
   ]
  },
  {
   "cell_type": "code",
   "execution_count": 16,
   "metadata": {},
   "outputs": [],
   "source": [
    "def standardize_recommendations(text):\n",
    "    #Handle if function has already been run\n",
    "    if type(text) == float:\n",
    "        return text\n",
    "    \n",
    "    pct = text.replace(\"%\", \"\")\n",
    "    \n",
    "    #Convert to float\n",
    "    pct = float(pct)\n",
    "    \n",
    "    return pct"
   ]
  },
  {
   "cell_type": "code",
   "execution_count": 17,
   "metadata": {},
   "outputs": [],
   "source": [
    "#Convert both recommend percent columns to floats\n",
    "capes[\"Rcmnd Class\"] = capes[\"Rcmnd Class\"].apply(standardize_recommendations)\n",
    "capes[\"Rcmnd Instr\"] = capes[\"Rcmnd Instr\"].apply(standardize_recommendations)"
   ]
  },
  {
   "cell_type": "code",
   "execution_count": 18,
   "metadata": {},
   "outputs": [],
   "source": [
    "def extract_term(text):\n",
    "    TERMS = { \"WI\": 1, \"SP\": 2, \"S1\": 3, \"S2\": 4, \"S3\": 5, \"FA\": 6, \"SU\" : 7}\n",
    "    \n",
    "    term = text[:2]\n",
    "    term = TERMS[term]\n",
    "    \n",
    "    return term"
   ]
  },
  {
   "cell_type": "code",
   "execution_count": 19,
   "metadata": {},
   "outputs": [],
   "source": [
    "def extract_year(text):\n",
    "    \n",
    "    year = text[2:]\n",
    "    year = int(\"20\" + year)\n",
    "    \n",
    "    return year"
   ]
  },
  {
   "cell_type": "code",
   "execution_count": 20,
   "metadata": {},
   "outputs": [],
   "source": [
    "#Extract year and term as ints from term column\n",
    "capes['Term_num'] = capes['Term'].apply(extract_term)\n",
    "capes['Year'] = capes['Term'].apply(extract_year)"
   ]
  },
  {
   "cell_type": "code",
   "execution_count": 21,
   "metadata": {},
   "outputs": [],
   "source": [
    "def extract_department(text):\n",
    "    return text.split(\" \")[0]"
   ]
  },
  {
   "cell_type": "code",
   "execution_count": 22,
   "metadata": {},
   "outputs": [],
   "source": [
    "capes['Department'] = capes['Course'].apply(extract_department)"
   ]
  },
  {
   "cell_type": "code",
   "execution_count": 23,
   "metadata": {},
   "outputs": [
    {
     "data": {
      "text/html": [
       "<div>\n",
       "<style scoped>\n",
       "    .dataframe tbody tr th:only-of-type {\n",
       "        vertical-align: middle;\n",
       "    }\n",
       "\n",
       "    .dataframe tbody tr th {\n",
       "        vertical-align: top;\n",
       "    }\n",
       "\n",
       "    .dataframe thead th {\n",
       "        text-align: right;\n",
       "    }\n",
       "</style>\n",
       "<table border=\"1\" class=\"dataframe\">\n",
       "  <thead>\n",
       "    <tr style=\"text-align: right;\">\n",
       "      <th></th>\n",
       "      <th>Instructor</th>\n",
       "      <th>Course</th>\n",
       "      <th>Term</th>\n",
       "      <th>Enroll</th>\n",
       "      <th>Evals Made</th>\n",
       "      <th>Rcmnd Class</th>\n",
       "      <th>Rcmnd Instr</th>\n",
       "      <th>Study Hrs/wk</th>\n",
       "      <th>Avg Grade Expected</th>\n",
       "      <th>Avg Grade Received</th>\n",
       "      <th>Term_num</th>\n",
       "      <th>Year</th>\n",
       "      <th>Department</th>\n",
       "    </tr>\n",
       "  </thead>\n",
       "  <tbody>\n",
       "    <tr>\n",
       "      <th>0</th>\n",
       "      <td>Andrews, Abigail Leslie</td>\n",
       "      <td>AIP 197T - AIP: Special Programs (B)</td>\n",
       "      <td>FA20</td>\n",
       "      <td>34</td>\n",
       "      <td>11</td>\n",
       "      <td>100.0</td>\n",
       "      <td>100.0</td>\n",
       "      <td>4.06</td>\n",
       "      <td>3.67</td>\n",
       "      <td>NaN</td>\n",
       "      <td>6</td>\n",
       "      <td>2020</td>\n",
       "      <td>AIP</td>\n",
       "    </tr>\n",
       "    <tr>\n",
       "      <th>1</th>\n",
       "      <td>Hill, Seth J</td>\n",
       "      <td>AIP 197DC - Washington, DC Internship (A)</td>\n",
       "      <td>FA19</td>\n",
       "      <td>24</td>\n",
       "      <td>3</td>\n",
       "      <td>0.0</td>\n",
       "      <td>0.0</td>\n",
       "      <td>4.50</td>\n",
       "      <td>NaN</td>\n",
       "      <td>NaN</td>\n",
       "      <td>6</td>\n",
       "      <td>2019</td>\n",
       "      <td>AIP</td>\n",
       "    </tr>\n",
       "    <tr>\n",
       "      <th>2</th>\n",
       "      <td>Wienhausen, Gabriele</td>\n",
       "      <td>AIP 197T - AIP: Special Programs (A)</td>\n",
       "      <td>FA19</td>\n",
       "      <td>11</td>\n",
       "      <td>4</td>\n",
       "      <td>100.0</td>\n",
       "      <td>100.0</td>\n",
       "      <td>2.00</td>\n",
       "      <td>NaN</td>\n",
       "      <td>NaN</td>\n",
       "      <td>6</td>\n",
       "      <td>2019</td>\n",
       "      <td>AIP</td>\n",
       "    </tr>\n",
       "    <tr>\n",
       "      <th>3</th>\n",
       "      <td>Wienhausen, Gabriele</td>\n",
       "      <td>AIP 197T - AIP: Special Programs (A)</td>\n",
       "      <td>S319</td>\n",
       "      <td>31</td>\n",
       "      <td>3</td>\n",
       "      <td>66.7</td>\n",
       "      <td>50.0</td>\n",
       "      <td>7.83</td>\n",
       "      <td>NaN</td>\n",
       "      <td>NaN</td>\n",
       "      <td>5</td>\n",
       "      <td>2019</td>\n",
       "      <td>AIP</td>\n",
       "    </tr>\n",
       "    <tr>\n",
       "      <th>4</th>\n",
       "      <td>Hill, Seth J</td>\n",
       "      <td>AIP 197DC - Washington, DC Internship (A)</td>\n",
       "      <td>SP19</td>\n",
       "      <td>22</td>\n",
       "      <td>6</td>\n",
       "      <td>100.0</td>\n",
       "      <td>100.0</td>\n",
       "      <td>8.90</td>\n",
       "      <td>4.00</td>\n",
       "      <td>NaN</td>\n",
       "      <td>2</td>\n",
       "      <td>2019</td>\n",
       "      <td>AIP</td>\n",
       "    </tr>\n",
       "    <tr>\n",
       "      <th>...</th>\n",
       "      <td>...</td>\n",
       "      <td>...</td>\n",
       "      <td>...</td>\n",
       "      <td>...</td>\n",
       "      <td>...</td>\n",
       "      <td>...</td>\n",
       "      <td>...</td>\n",
       "      <td>...</td>\n",
       "      <td>...</td>\n",
       "      <td>...</td>\n",
       "      <td>...</td>\n",
       "      <td>...</td>\n",
       "      <td>...</td>\n",
       "    </tr>\n",
       "    <tr>\n",
       "      <th>49747</th>\n",
       "      <td>Adler, Steven</td>\n",
       "      <td>WCWP 10A - The Writing Course A (9)</td>\n",
       "      <td>FA10</td>\n",
       "      <td>15</td>\n",
       "      <td>10</td>\n",
       "      <td>60.0</td>\n",
       "      <td>90.0</td>\n",
       "      <td>8.70</td>\n",
       "      <td>3.30</td>\n",
       "      <td>NaN</td>\n",
       "      <td>6</td>\n",
       "      <td>2010</td>\n",
       "      <td>WCWP</td>\n",
       "    </tr>\n",
       "    <tr>\n",
       "      <th>49748</th>\n",
       "      <td>Picciotto, Madeleine</td>\n",
       "      <td>WCWP 10B - The Writing Course B (B)</td>\n",
       "      <td>FA10</td>\n",
       "      <td>19</td>\n",
       "      <td>12</td>\n",
       "      <td>66.7</td>\n",
       "      <td>100.0</td>\n",
       "      <td>7.50</td>\n",
       "      <td>3.08</td>\n",
       "      <td>NaN</td>\n",
       "      <td>6</td>\n",
       "      <td>2010</td>\n",
       "      <td>WCWP</td>\n",
       "    </tr>\n",
       "    <tr>\n",
       "      <th>49749</th>\n",
       "      <td>Picciotto, Madeleine</td>\n",
       "      <td>WCWP 10B - The Writing Course B (C)</td>\n",
       "      <td>FA10</td>\n",
       "      <td>21</td>\n",
       "      <td>12</td>\n",
       "      <td>91.7</td>\n",
       "      <td>100.0</td>\n",
       "      <td>7.59</td>\n",
       "      <td>3.09</td>\n",
       "      <td>2.83</td>\n",
       "      <td>6</td>\n",
       "      <td>2010</td>\n",
       "      <td>WCWP</td>\n",
       "    </tr>\n",
       "    <tr>\n",
       "      <th>49750</th>\n",
       "      <td>Chapin, Benjamin Nodin</td>\n",
       "      <td>WCWP 10B - The Writing Course B (A)</td>\n",
       "      <td>SU10</td>\n",
       "      <td>14</td>\n",
       "      <td>6</td>\n",
       "      <td>66.7</td>\n",
       "      <td>100.0</td>\n",
       "      <td>8.17</td>\n",
       "      <td>3.33</td>\n",
       "      <td>NaN</td>\n",
       "      <td>7</td>\n",
       "      <td>2010</td>\n",
       "      <td>WCWP</td>\n",
       "    </tr>\n",
       "    <tr>\n",
       "      <th>49751</th>\n",
       "      <td>Turner, Catherine</td>\n",
       "      <td>WCWP 10B - The Writing Course B (A)</td>\n",
       "      <td>SU09</td>\n",
       "      <td>13</td>\n",
       "      <td>4</td>\n",
       "      <td>50.0</td>\n",
       "      <td>100.0</td>\n",
       "      <td>11.00</td>\n",
       "      <td>3.00</td>\n",
       "      <td>NaN</td>\n",
       "      <td>7</td>\n",
       "      <td>2009</td>\n",
       "      <td>WCWP</td>\n",
       "    </tr>\n",
       "  </tbody>\n",
       "</table>\n",
       "<p>49752 rows × 13 columns</p>\n",
       "</div>"
      ],
      "text/plain": [
       "                    Instructor                                     Course  \\\n",
       "0      Andrews, Abigail Leslie       AIP 197T - AIP: Special Programs (B)   \n",
       "1                 Hill, Seth J  AIP 197DC - Washington, DC Internship (A)   \n",
       "2         Wienhausen, Gabriele       AIP 197T - AIP: Special Programs (A)   \n",
       "3         Wienhausen, Gabriele       AIP 197T - AIP: Special Programs (A)   \n",
       "4                 Hill, Seth J  AIP 197DC - Washington, DC Internship (A)   \n",
       "...                        ...                                        ...   \n",
       "49747            Adler, Steven        WCWP 10A - The Writing Course A (9)   \n",
       "49748     Picciotto, Madeleine        WCWP 10B - The Writing Course B (B)   \n",
       "49749     Picciotto, Madeleine        WCWP 10B - The Writing Course B (C)   \n",
       "49750   Chapin, Benjamin Nodin        WCWP 10B - The Writing Course B (A)   \n",
       "49751        Turner, Catherine        WCWP 10B - The Writing Course B (A)   \n",
       "\n",
       "       Term  Enroll  Evals Made  Rcmnd Class  Rcmnd Instr  Study Hrs/wk  \\\n",
       "0      FA20      34          11        100.0        100.0          4.06   \n",
       "1      FA19      24           3          0.0          0.0          4.50   \n",
       "2      FA19      11           4        100.0        100.0          2.00   \n",
       "3      S319      31           3         66.7         50.0          7.83   \n",
       "4      SP19      22           6        100.0        100.0          8.90   \n",
       "...     ...     ...         ...          ...          ...           ...   \n",
       "49747  FA10      15          10         60.0         90.0          8.70   \n",
       "49748  FA10      19          12         66.7        100.0          7.50   \n",
       "49749  FA10      21          12         91.7        100.0          7.59   \n",
       "49750  SU10      14           6         66.7        100.0          8.17   \n",
       "49751  SU09      13           4         50.0        100.0         11.00   \n",
       "\n",
       "       Avg Grade Expected  Avg Grade Received  Term_num  Year Department  \n",
       "0                    3.67                 NaN         6  2020        AIP  \n",
       "1                     NaN                 NaN         6  2019        AIP  \n",
       "2                     NaN                 NaN         6  2019        AIP  \n",
       "3                     NaN                 NaN         5  2019        AIP  \n",
       "4                    4.00                 NaN         2  2019        AIP  \n",
       "...                   ...                 ...       ...   ...        ...  \n",
       "49747                3.30                 NaN         6  2010       WCWP  \n",
       "49748                3.08                 NaN         6  2010       WCWP  \n",
       "49749                3.09                2.83         6  2010       WCWP  \n",
       "49750                3.33                 NaN         7  2010       WCWP  \n",
       "49751                3.00                 NaN         7  2009       WCWP  \n",
       "\n",
       "[49752 rows x 13 columns]"
      ]
     },
     "execution_count": 23,
     "metadata": {},
     "output_type": "execute_result"
    }
   ],
   "source": [
    "capes"
   ]
  },
  {
   "cell_type": "markdown",
   "metadata": {},
   "source": [
    "### NaN Values Investigaiton"
   ]
  },
  {
   "cell_type": "markdown",
   "metadata": {},
   "source": [
    "There are 14586 observations with NaN values in our dataset of size $n = 49752$.\n",
    "\n",
    "As seen below, the vast majority of these NaN values are in classes where professors choose not to provide average grade data.\n",
    "\n",
    "\n",
    "We dropped these rows, a total of 14586 observations. As this is a large number of data points to drop, we plan to further investigate these dropped columns to ensure significant bias was not introduced before we finalize our project."
   ]
  },
  {
   "cell_type": "code",
   "execution_count": 24,
   "metadata": {},
   "outputs": [
    {
     "data": {
      "text/plain": [
       "14586"
      ]
     },
     "execution_count": 24,
     "metadata": {},
     "output_type": "execute_result"
    }
   ],
   "source": [
    "capes.isna().any(axis=1).sum()"
   ]
  },
  {
   "cell_type": "code",
   "execution_count": 25,
   "metadata": {},
   "outputs": [
    {
     "data": {
      "text/plain": [
       "Instructor                6\n",
       "Course                    0\n",
       "Term                      0\n",
       "Enroll                    0\n",
       "Evals Made                0\n",
       "Rcmnd Class               0\n",
       "Rcmnd Instr               0\n",
       "Study Hrs/wk              1\n",
       "Avg Grade Expected     1289\n",
       "Avg Grade Received    14299\n",
       "Term_num                  0\n",
       "Year                      0\n",
       "Department                0\n",
       "dtype: int64"
      ]
     },
     "execution_count": 25,
     "metadata": {},
     "output_type": "execute_result"
    }
   ],
   "source": [
    "capes.isna().sum()"
   ]
  },
  {
   "cell_type": "code",
   "execution_count": 26,
   "metadata": {},
   "outputs": [],
   "source": [
    "#Partition data into pre and post COVID\n",
    "#Here we define pre-covid as Winter quarter of 2020, and before\n",
    "pre_covid = capes[capes['Year'] < 2020]\n",
    "pre_covid = pre_covid.append(capes[(capes['Year'] == 2020) & (capes['Term_num'] <= 2)])\n",
    "\n",
    "covid = capes[(capes['Year'] == 2020) & (capes['Term_num'] > 2)]"
   ]
  },
  {
   "cell_type": "code",
   "execution_count": 27,
   "metadata": {},
   "outputs": [
    {
     "data": {
      "text/plain": [
       "0.29659826874305717"
      ]
     },
     "execution_count": 27,
     "metadata": {},
     "output_type": "execute_result"
    }
   ],
   "source": [
    "#Pre-COVID NaN Rate\n",
    "pre_covid.isna().any(axis=1).sum() / len(pre_covid)"
   ]
  },
  {
   "cell_type": "code",
   "execution_count": 28,
   "metadata": {
    "scrolled": true
   },
   "outputs": [
    {
     "data": {
      "text/plain": [
       "0.21313081822635963"
      ]
     },
     "execution_count": 28,
     "metadata": {},
     "output_type": "execute_result"
    }
   ],
   "source": [
    "#COVID NaN Rate\n",
    "covid.isna().any(axis=1).sum() / len(covid)"
   ]
  },
  {
   "cell_type": "code",
   "execution_count": 29,
   "metadata": {
    "scrolled": true
   },
   "outputs": [
    {
     "data": {
      "image/png": "[encoded data removed]",
      "text/plain": [
       "<Figure size 1080x360 with 1 Axes>"
      ]
     },
     "metadata": {
      "needs_background": "light"
     },
     "output_type": "display_data"
    }
   ],
   "source": [
    "no_summer = capes[capes['Term_num'].isin([1,2,6])]\n",
    "no_summer.set_index(['Year', 'Term_num']).isna().groupby(['Year', 'Term_num']).mean()['Avg Grade Received'].plot(figsize = (15, 5))\n",
    "plt.ylabel(\"NaN Rate\")\n",
    "plt.title(\"NaN Rate Per Quarter (Excluding Summer Sessions)\")\n",
    "plt.xlabel(\"Year, Quarter\")\n",
    "plt.show()"
   ]
  },
  {
   "cell_type": "markdown",
   "metadata": {},
   "source": [
    "We found that 29.66% of our pre-COVID observations have NaN values, while 21.31% of our post-COVID observations have NaN values. In general, there has been a trend downward over time.\n",
    "\n",
    "We acknowledge that these omissions absolutely bias our grade data - professors that would choose not to provide average grade data most probably also have a tendency to grade higher or lower than the mean. This would be very problematic if we were trying to infer the population average grade or predict future average grades. However, since we are comparing means across a time axis, we believe this bas will be less impactful and are opting to drop these observations."
   ]
  },
  {
   "cell_type": "code",
   "execution_count": 30,
   "metadata": {},
   "outputs": [],
   "source": [
    "capes.dropna(inplace = True)"
   ]
  },
  {
   "cell_type": "markdown",
   "metadata": {},
   "source": [
    "# Data Analysis & Results"
   ]
  },
  {
   "cell_type": "markdown",
   "metadata": {},
   "source": [
    "## EDA"
   ]
  },
  {
   "cell_type": "code",
   "execution_count": 31,
   "metadata": {},
   "outputs": [],
   "source": [
    "#Redo pre/post COVID partition, with NaN values dropped\n",
    "#Here we define pre-covid as Winter quarter of 2020, and before\n",
    "pre_covid = capes[capes['Year'] < 2020]\n",
    "pre_covid = pre_covid.append(capes[(capes['Year'] == 2020) & (capes['Term_num'] <= 2)])\n",
    "\n",
    "covid = capes[(capes['Year'] == 2020) & (capes['Term_num'] > 2)]"
   ]
  },
  {
   "cell_type": "code",
   "execution_count": 32,
   "metadata": {},
   "outputs": [
    {
     "data": {
      "text/plain": [
       "<matplotlib.legend.Legend at 0x1c544d42c70>"
      ]
     },
     "execution_count": 32,
     "metadata": {},
     "output_type": "execute_result"
    },
    {
     "data": {
      "image/png": "[encoded data removed]",
      "text/plain": [
       "<Figure size 432x288 with 1 Axes>"
      ]
     },
     "metadata": {
      "needs_background": "light"
     },
     "output_type": "display_data"
    }
   ],
   "source": [
    "pre_covid_grades = pre_covid['Avg Grade Received']\n",
    "covid_grades = covid['Avg Grade Received']\n",
    "\n",
    "plt.hist(pre_covid_grades, alpha = 0.4, label = \"Pre-Covid grades\", density = True, bins = 30)\n",
    "plt.hist(covid_grades, alpha = 0.4, label = \"Covid grades\", density = True, bins = 30)\n",
    "plt.title(\"Histogram of Grades\")\n",
    "plt.xlabel(\"Grade\")\n",
    "plt.ylabel(\"Density\")\n",
    "plt.legend()"
   ]
  },
  {
   "cell_type": "markdown",
   "metadata": {},
   "source": [
    "Here we see a surprising result: the central tendency of grades during covid is higher than pre-covid. One possibility that this could be explained by is that professors were more lenient and accommodating in general during covid, resulting in a higher average of grades. We should note that the dataset size for pre-covid and during covid is very different, 32170 vs 1372. However, this visualization shows a difference between the two distributions that should prompt further investigation."
   ]
  },
  {
   "cell_type": "code",
   "execution_count": 33,
   "metadata": {},
   "outputs": [
    {
     "data": {
      "text/plain": [
       "<matplotlib.legend.Legend at 0x1c53f6eb7f0>"
      ]
     },
     "execution_count": 33,
     "metadata": {},
     "output_type": "execute_result"
    },
    {
     "data": {
      "image/png": "[encoded data removed]",
      "text/plain": [
       "<Figure size 432x288 with 1 Axes>"
      ]
     },
     "metadata": {
      "needs_background": "light"
     },
     "output_type": "display_data"
    }
   ],
   "source": [
    "pre_covid_rcmnd_class = capes[capes['Year'] < 2020]['Rcmnd Class']\n",
    "pre_covid_rcmnd_class = pre_covid_rcmnd_class.append(capes[(capes['Year'] == 2020) & (capes['Term_num'] <= 2)]['Rcmnd Class'])\n",
    "covid_rcmnd_class = capes[(capes['Year'] == 2020) & (capes['Term_num'] > 2)]['Rcmnd Class']\n",
    "plt.hist(pre_covid_rcmnd_class, alpha = 0.4, label = \"Pre-Covid Recommend Class\", density = True, bins = 30)\n",
    "plt.hist(covid_rcmnd_class, alpha = 0.4, label = \"Covid Recommend Class\", density = True, bins = 30)\n",
    "plt.title(\"Histogram of Class Recommendation Rate\")\n",
    "plt.xlabel(\"Recommendation Rate\")\n",
    "plt.ylabel(\"Density\")\n",
    "plt.legend()"
   ]
  },
  {
   "cell_type": "markdown",
   "metadata": {},
   "source": [
    "From the histogram, we can see that the courses which have their recommended rate of 100 percent or close to 100 percent are highly increased. In which case, the median shifts from 90.5 to 93.0, and the mean shifts from 87.52 to 89.42. We can conclude that the appraisal for courses are increased during the covid, compared to the pre-covid periods. The reason that causes the rate to change might be the decrease of the difficulty of the courses due to the covid. However, noticing that the samples after the covid is less than the samples before, the covid-time result owns more highly by chance possibility and may be caused by students becoming harder to get access to the internet to rate."
   ]
  },
  {
   "cell_type": "code",
   "execution_count": 34,
   "metadata": {},
   "outputs": [
    {
     "name": "stderr",
     "output_type": "stream",
     "text": [
      "C:\\ProgramData\\Anaconda3\\lib\\site-packages\\pandas\\plotting\\_matplotlib\\boxplot.py:385: UserWarning: When passing multiple axes, sharex and sharey are ignored. These settings must be specified when creating axes\n",
      "  ax = boxplot(\n"
     ]
    },
    {
     "data": {
      "text/plain": [
       "Text(0, 0.5, 'Grade')"
      ]
     },
     "execution_count": 34,
     "metadata": {},
     "output_type": "execute_result"
    },
    {
     "data": {
      "image/png": "[encoded data removed]",
      "text/plain": [
       "<Figure size 720x360 with 1 Axes>"
      ]
     },
     "metadata": {
      "needs_background": "light"
     },
     "output_type": "display_data"
    }
   ],
   "source": [
    "#boxplot of average grade received from 2007-2020\n",
    "#need to neatly format\n",
    "scores=capes[['Avg Grade Received','Year']]\n",
    "ax = scores.boxplot(by='Year', meanline=True, showmeans=True, showcaps=True, \n",
    "                showbox=True, showfliers=False, return_type='axes', figsize = (10, 5))\n",
    "a2 = capes[['Avg Grade Received','Year']]\n",
    "a2.boxplot(by='Year', meanline=True, showmeans=True, showcaps=True, \n",
    "           showbox=True, showfliers=False, ax=ax)\n",
    "plt.ylabel(\"Grade\")"
   ]
  },
  {
   "cell_type": "markdown",
   "metadata": {},
   "source": [
    "From this boxplot of student’s average grades received from 2007 to 2020, we can see that there was a steady, slight increase from 2007 to 2019 in gpa but we see a dramatic increase in 2020. Not only are the medians and means of grades are higher by about 0.25 gpa from 2019 to 2020, there are less students receiving grades below 2.50 gpa compared to previous years. The interquartile range and minimum outliers shifted up in 2020 and shows that students are getting better grades during covid."
   ]
  },
  {
   "cell_type": "code",
   "execution_count": 35,
   "metadata": {},
   "outputs": [
    {
     "data": {
      "text/plain": [
       "<matplotlib.legend.Legend at 0x1c5446bf700>"
      ]
     },
     "execution_count": 35,
     "metadata": {},
     "output_type": "execute_result"
    },
    {
     "data": {
      "image/png": "[encoded data removed]",
      "text/plain": [
       "<Figure size 1080x360 with 1 Axes>"
      ]
     },
     "metadata": {
      "needs_background": "light"
     },
     "output_type": "display_data"
    }
   ],
   "source": [
    "capes.groupby(['Year', 'Term_num']).mean()['Avg Grade Expected'].plot(figsize = (15, 5), label = \"Grade Expected\")\n",
    "capes.groupby(['Year', 'Term_num']).mean()['Avg Grade Received'].plot(figsize = (15, 5), label = \"Grade Recieved\")\n",
    "plt.xlabel(\"Year, Quarter\")\n",
    "plt.ylabel(\"Grade\")\n",
    "plt.title(\"Grades Expected/Recieved by Quarter (Including Summer Sessions)\")\n",
    "plt.legend()"
   ]
  },
  {
   "cell_type": "markdown",
   "metadata": {},
   "source": [
    "This graph plots the average grades received and expected each quarter. We should note that the x-axis does not linearlly represent time, as quarters do not have equally spaced start dates.\n",
    "\n",
    "We can observe an interesting periodicity here: approximately every year, there is a spike in both grade expected and recieved. If we investigate a bit further, as seen below, we find that all of these outliers are from term 5 (Special Summer Session) except for one in Spring 2020."
   ]
  },
  {
   "cell_type": "code",
   "execution_count": 36,
   "metadata": {},
   "outputs": [
    {
     "data": {
      "text/plain": [
       "Year  Term_num\n",
       "2011  5           3.648333\n",
       "2012  5           3.666667\n",
       "2013  5           3.728000\n",
       "2014  5           3.886667\n",
       "2015  5           3.910000\n",
       "2018  5           3.738333\n",
       "2019  5           3.641250\n",
       "2020  2           3.671912\n",
       "Name: Avg Grade Received, dtype: float64"
      ]
     },
     "execution_count": 36,
     "metadata": {},
     "output_type": "execute_result"
    }
   ],
   "source": [
    "#Outliers in Avg. Grade Received\n",
    "test = capes.groupby(['Year', 'Term_num']).mean()['Avg Grade Received']\n",
    "test[test > 3.5]"
   ]
  },
  {
   "cell_type": "code",
   "execution_count": 37,
   "metadata": {},
   "outputs": [
    {
     "data": {
      "text/plain": [
       "<matplotlib.legend.Legend at 0x1c543c24970>"
      ]
     },
     "execution_count": 37,
     "metadata": {},
     "output_type": "execute_result"
    },
    {
     "data": {
      "image/png": "[encoded data removed]",
      "text/plain": [
       "<Figure size 1080x360 with 1 Axes>"
      ]
     },
     "metadata": {
      "needs_background": "light"
     },
     "output_type": "display_data"
    }
   ],
   "source": [
    "no_summer = capes[capes['Term_num'].isin([1,2,6])]\n",
    "no_summer.groupby(['Year', 'Term_num']).mean()['Avg Grade Expected'].plot(figsize = (15, 5), label = \"Grade Expected\")\n",
    "no_summer.groupby(['Year', 'Term_num']).mean()['Avg Grade Received'].plot(figsize = (15, 5), label = \"Grade Recieved\")\n",
    "plt.xlabel(\"Year, Quarter\")\n",
    "plt.ylabel(\"Grade\")\n",
    "plt.title(\"Grades Expected/Recieved by Quarter (Excluding Summer Sessions)\")\n",
    "plt.legend()"
   ]
  },
  {
   "cell_type": "markdown",
   "metadata": {},
   "source": [
    "If we filter out Summer Sessions, we see grades hold much more steadily over time, with fewer outliers. However, some outliers still remain in 2020, which we will zoom into and analyze further below."
   ]
  },
  {
   "cell_type": "code",
   "execution_count": 38,
   "metadata": {},
   "outputs": [
    {
     "data": {
      "text/html": [
       "<div>\n",
       "<style scoped>\n",
       "    .dataframe tbody tr th:only-of-type {\n",
       "        vertical-align: middle;\n",
       "    }\n",
       "\n",
       "    .dataframe tbody tr th {\n",
       "        vertical-align: top;\n",
       "    }\n",
       "\n",
       "    .dataframe thead th {\n",
       "        text-align: right;\n",
       "    }\n",
       "</style>\n",
       "<table border=\"1\" class=\"dataframe\">\n",
       "  <thead>\n",
       "    <tr style=\"text-align: right;\">\n",
       "      <th></th>\n",
       "      <th>grade_expected</th>\n",
       "      <th>grade_received</th>\n",
       "    </tr>\n",
       "    <tr>\n",
       "      <th>Term</th>\n",
       "      <th></th>\n",
       "      <th></th>\n",
       "    </tr>\n",
       "  </thead>\n",
       "  <tbody>\n",
       "    <tr>\n",
       "      <th>FA18</th>\n",
       "      <td>3.437163</td>\n",
       "      <td>3.250999</td>\n",
       "    </tr>\n",
       "    <tr>\n",
       "      <th>WI19</th>\n",
       "      <td>3.434051</td>\n",
       "      <td>3.234226</td>\n",
       "    </tr>\n",
       "    <tr>\n",
       "      <th>SP19</th>\n",
       "      <td>3.452793</td>\n",
       "      <td>3.303001</td>\n",
       "    </tr>\n",
       "    <tr>\n",
       "      <th>FA19</th>\n",
       "      <td>3.430582</td>\n",
       "      <td>3.272026</td>\n",
       "    </tr>\n",
       "    <tr>\n",
       "      <th>WI20</th>\n",
       "      <td>3.453440</td>\n",
       "      <td>3.394990</td>\n",
       "    </tr>\n",
       "    <tr>\n",
       "      <th>SP20</th>\n",
       "      <td>3.613237</td>\n",
       "      <td>3.671912</td>\n",
       "    </tr>\n",
       "    <tr>\n",
       "      <th>FA20</th>\n",
       "      <td>3.532935</td>\n",
       "      <td>3.399794</td>\n",
       "    </tr>\n",
       "  </tbody>\n",
       "</table>\n",
       "</div>"
      ],
      "text/plain": [
       "      grade_expected  grade_received\n",
       "Term                                \n",
       "FA18        3.437163        3.250999\n",
       "WI19        3.434051        3.234226\n",
       "SP19        3.452793        3.303001\n",
       "FA19        3.430582        3.272026\n",
       "WI20        3.453440        3.394990\n",
       "SP20        3.613237        3.671912\n",
       "FA20        3.532935        3.399794"
      ]
     },
     "execution_count": 38,
     "metadata": {},
     "output_type": "execute_result"
    }
   ],
   "source": [
    "#creation of line chart\n",
    "\n",
    "terms = [\"FA18\", \"WI19\", \"SP19\", \"FA19\", \"WI20\", \"SP20\", \"FA20\"]\n",
    "grade_expected = []\n",
    "grade_received = []\n",
    "\n",
    "#function to calculate average grades expected and average grades received\n",
    "\n",
    "def average_expected():\n",
    "    for term in terms:\n",
    "        df = capes[capes['Term'] == term]\n",
    "        average_e = sum(df['Avg Grade Expected'])/len(df)\n",
    "        grade_expected.append(average_e)\n",
    "        \n",
    "        average_r = sum(df['Avg Grade Received'])/len(df)\n",
    "        grade_received.append(average_r)\n",
    "\n",
    "average_expected()\n",
    "            \n",
    "#creation of dataframe with results\n",
    "\n",
    "data = {'grade_expected': grade_expected,\n",
    "        'grade_received': grade_received,\n",
    "       'Term': [\"FA18\", \"WI19\", \"SP19\", \"FA19\", \"WI20\", \"SP20\", \"FA20\"]}\n",
    "\n",
    "\n",
    "average_grades = pd.DataFrame(data, columns = ['grade_expected','grade_received','Term'])\n",
    "            \n",
    "average_grades = average_grades.set_index('Term')\n",
    "\n",
    "average_grades\n"
   ]
  },
  {
   "cell_type": "code",
   "execution_count": 39,
   "metadata": {},
   "outputs": [
    {
     "data": {
      "text/plain": [
       "Text(0, 0.5, 'Grade')"
      ]
     },
     "execution_count": 39,
     "metadata": {},
     "output_type": "execute_result"
    },
    {
     "data": {
      "image/png": "[encoded data removed]",
      "text/plain": [
       "<Figure size 432x288 with 1 Axes>"
      ]
     },
     "metadata": {
      "needs_background": "light"
     },
     "output_type": "display_data"
    }
   ],
   "source": [
    "average_grades.plot.line(title = 'Grades by Quarter')\n",
    "plt.ylabel(\"Grade\")"
   ]
  },
  {
   "cell_type": "markdown",
   "metadata": {},
   "source": [
    "This zoomed in view of the above two graphs depicts grades expected and grades recieved over time from Fall 2018 to Fall 2020. The COVID epidemic began to affect college students in Winter 2020 when students living on campus were encouraged to move out before spring break in March. This led to all finals being held remotely in Winter 2020. In this graph we can see the spike in grades in Winter 2020, possibly due to this change. Since Fall 2019, the average grades expected and recieved have remained above the previous year, possibly due to increased leniency, open-book tests, and the effect of quarantine on students' free time. Another thing to notice is that the average grade received in Fall 2020 decreased from Spring 2020, for the first time since the pandemic started. This could possibly indicate that professors are reducing leniency, or are getting used to the online format of classes."
   ]
  },
  {
   "cell_type": "markdown",
   "metadata": {},
   "source": [
    "## Inference: t-tests"
   ]
  },
  {
   "cell_type": "markdown",
   "metadata": {},
   "source": [
    "### Grades"
   ]
  },
  {
   "cell_type": "markdown",
   "metadata": {},
   "source": [
    "We would like to perform a formal hypothesis test to determine if there is a statistically significant difference between grades pre and post COVID. We plan on employing a t-test to do so, with the following null and alternative hypotheses:\n",
    "\n",
    "$H_0 : \\bar{x}_{pre-COVID} = \\bar{y}_{post-COVID}$\n",
    "\n",
    "$H_a : \\bar{x}_{pre-COVID} \\neq \\bar{y}_{post-COVID}$"
   ]
  },
  {
   "cell_type": "markdown",
   "metadata": {},
   "source": [
    "Before we perform our t-test, let's verify the following t-test assumptions:\n",
    "\n",
    "- Data are continuous\n",
    "- Normally distributed\n",
    "- Large enough sample size\n",
    "- Equal variance between groups"
   ]
  },
  {
   "cell_type": "markdown",
   "metadata": {},
   "source": [
    "#### Data are continuous - Satisfied\n",
    "\n",
    "Our GPA data is a column of numerical values ranging from 0.00 to 4.00. It has been rounded down to two decimal places, but it is continuous."
   ]
  },
  {
   "cell_type": "markdown",
   "metadata": {},
   "source": [
    "#### Normally distributed - Satisfied\n",
    "We performed Shapiro-Wilk tests of normality on both pre and post COVID grades. For both samples, we found a p-value $ < 0.001$, indicating that our data is normally distributed."
   ]
  },
  {
   "cell_type": "code",
   "execution_count": 40,
   "metadata": {},
   "outputs": [
    {
     "name": "stdout",
     "output_type": "stream",
     "text": [
      "Pre-COVID:\n",
      "ShapiroResult(statistic=0.9890048503875732, pvalue=1.6114932339735396e-43)\n",
      "\n",
      "Post-COVID:\n",
      "ShapiroResult(statistic=0.9721975922584534, pvalue=4.554546119095371e-17)\n"
     ]
    },
    {
     "name": "stderr",
     "output_type": "stream",
     "text": [
      "C:\\ProgramData\\Anaconda3\\lib\\site-packages\\scipy\\stats\\morestats.py:1681: UserWarning: p-value may not be accurate for N > 5000.\n",
      "  warnings.warn(\"p-value may not be accurate for N > 5000.\")\n"
     ]
    }
   ],
   "source": [
    "#Shapiro-Wilk tests for normality\n",
    "\n",
    "print(\"Pre-COVID:\")\n",
    "print(stats.shapiro(pre_covid_grades))\n",
    "print(\"\\nPost-COVID:\")\n",
    "print(stats.shapiro(covid_grades))"
   ]
  },
  {
   "cell_type": "code",
   "execution_count": 54,
   "metadata": {},
   "outputs": [
    {
     "data": {
      "text/plain": [
       "KstestResult(statistic=0.988584231318827, pvalue=0.0)"
      ]
     },
     "execution_count": 54,
     "metadata": {},
     "output_type": "execute_result"
    }
   ],
   "source": [
    "stats.kstest(covid_grades, 'norm', N = 1)"
   ]
  },
  {
   "cell_type": "markdown",
   "metadata": {},
   "source": [
    "#### Large enough sample size -Satisfied\n",
    "We have sample sizes of $n = 33560$ pre-COVID, and $n = 1606$ post-COVID, sufficient for our t-test."
   ]
  },
  {
   "cell_type": "code",
   "execution_count": 41,
   "metadata": {},
   "outputs": [
    {
     "data": {
      "text/plain": [
       "33560"
      ]
     },
     "execution_count": 41,
     "metadata": {},
     "output_type": "execute_result"
    }
   ],
   "source": [
    "len(pre_covid_grades)"
   ]
  },
  {
   "cell_type": "code",
   "execution_count": 42,
   "metadata": {},
   "outputs": [
    {
     "data": {
      "text/plain": [
       "1606"
      ]
     },
     "execution_count": 42,
     "metadata": {},
     "output_type": "execute_result"
    }
   ],
   "source": [
    "len(covid_grades)"
   ]
  },
  {
   "cell_type": "markdown",
   "metadata": {},
   "source": [
    "#### Equal variance between groups - Not Satisfied\n",
    "We performed a one-way ANOVA test to compare the variance between our pre and post COVID groups. We found a p-value $< 0.001$ for observing the variances of the two groups from the same population, indicating that our samples do not have equal variances."
   ]
  },
  {
   "cell_type": "code",
   "execution_count": 43,
   "metadata": {},
   "outputs": [
    {
     "data": {
      "text/plain": [
       "F_onewayResult(statistic=266.1131792124293, pvalue=1.322023554045015e-59)"
      ]
     },
     "execution_count": 43,
     "metadata": {},
     "output_type": "execute_result"
    }
   ],
   "source": [
    "#One way ANOVA test for variance\n",
    "stats.f_oneway(pre_covid_grades, covid_grades)"
   ]
  },
  {
   "cell_type": "markdown",
   "metadata": {},
   "source": [
    "#### t-test\n",
    "Since we found that our two groups of data satisfied all assumptions except for equal variance, we will be using a Welch t-test, which unlike Student's t-test, accounts for unequal variance. From our Welch t-test, we found a p-value $< 0.001$ of finding these two means from different samples from a single population. This indicates that we should reject our null hypothesis in favor of our alternative.\n",
    "\n",
    "In other words, there is a statistically significant difference between mean GPA pre and post COVID. "
   ]
  },
  {
   "cell_type": "code",
   "execution_count": 44,
   "metadata": {},
   "outputs": [
    {
     "data": {
      "text/plain": [
       "Ttest_indResult(statistic=-17.75058041605319, pvalue=4.469420164803651e-65)"
      ]
     },
     "execution_count": 44,
     "metadata": {},
     "output_type": "execute_result"
    }
   ],
   "source": [
    "#Welch t-test\n",
    "stats.ttest_ind(pre_covid_grades, covid_grades, equal_var = False)"
   ]
  },
  {
   "cell_type": "markdown",
   "metadata": {},
   "source": [
    "### Class Recommendation Rates"
   ]
  },
  {
   "cell_type": "markdown",
   "metadata": {},
   "source": [
    "We repeated the same tests for Class/Instructor Recommendation rates. Here is a summary of our test for our assumptions and our results for Class Recommendation Rates:\n",
    "\n",
    "- Data are continuous - Satisfied\n",
    "\n",
    "Data is continuous range from 0.0 to 100.0\n",
    "- Normally distributed - Satisfied\n",
    "\n",
    "Shapiro-Wilk tests with p-values $ < 0.001$\n",
    "- Large enough sample size - Satisfied\n",
    "\n",
    "$n = 33560$ pre-COVID, and $n = 1606$ post-COVID\n",
    "- Equal variance between groups - Not Satisfied\n",
    "\n",
    "ANOVA test with p-value $ < 0.001$ (indicating unequal variance)\n",
    "\n",
    "Informed by these results, we again performed a Welsh t-test and found a p-value $ < 0.001$, indicating that we should reject our null hypothesis."
   ]
  },
  {
   "cell_type": "code",
   "execution_count": 45,
   "metadata": {},
   "outputs": [
    {
     "name": "stdout",
     "output_type": "stream",
     "text": [
      "CLASS RECOMMENDATION RATE\n",
      "\n",
      "Pre-COVID:\n",
      "ShapiroResult(statistic=0.8690725564956665, pvalue=0.0)\n",
      "\n",
      "Post-COVID:\n",
      "ShapiroResult(statistic=0.8211362957954407, pvalue=5.193060768553625e-39)\n",
      "\n",
      "ANOVA test:\n",
      "F_onewayResult(statistic=40.11866270289128, pvalue=2.4187959605043754e-10)\n",
      "\n",
      "t-test:\n",
      "Ttest_indResult(statistic=-6.461941678053005, pvalue=1.332727411702565e-10)\n"
     ]
    }
   ],
   "source": [
    "#Analysis for Class Recommendation Rates\n",
    "pre_covid_rcmd_class = pre_covid['Rcmnd Class']\n",
    "covid_rcmd_class = covid['Rcmnd Class']\n",
    "print(\"CLASS RECOMMENDATION RATE\")\n",
    "\n",
    "#Shapiro-Wilk tests for normality\n",
    "print(\"\\nPre-COVID:\")\n",
    "print(stats.shapiro(pre_covid_rcmd_class))\n",
    "print(\"\\nPost-COVID:\")\n",
    "print(stats.shapiro(covid_rcmd_class))\n",
    "\n",
    "#One way ANOVA test for variance\n",
    "print(\"\\nANOVA test:\")\n",
    "print(stats.f_oneway(pre_covid_rcmd_class, covid_rcmd_class))\n",
    "\n",
    "#Welch t-test:\n",
    "print(\"\\nt-test:\")\n",
    "print(stats.ttest_ind(pre_covid_rcmd_class, covid_rcmd_class, equal_var = False))"
   ]
  },
  {
   "cell_type": "code",
   "execution_count": 47,
   "metadata": {},
   "outputs": [
    {
     "data": {
      "image/png": "[encoded data removed]",
      "text/plain": [
       "<Figure size 432x288 with 1 Axes>"
      ]
     },
     "execution_count": 47,
     "metadata": {},
     "output_type": "execute_result"
    },
    {
     "data": {
      "image/png": "[encoded data removed]",
      "text/plain": [
       "<Figure size 432x288 with 1 Axes>"
      ]
     },
     "metadata": {
      "needs_background": "light"
     },
     "output_type": "display_data"
    }
   ],
   "source": [
    "import statsmodels.api as sm\n",
    "sm.qqplot(covid_grades)"
   ]
  },
  {
   "cell_type": "markdown",
   "metadata": {},
   "source": [
    "# Ethics & Privacy"
   ]
  },
  {
   "cell_type": "markdown",
   "metadata": {},
   "source": [
    "We acknowledge that there may be potential biases and unintended use of our data and results. And to the best of our abilities, considered all possible privacy and ethical concerns to address.  \n",
    "For our question, we focused on the University of California, San Diego student population and only used UCSD’s CAPEs website as the dataset. So, there is no significant bias in our chosen dataset because it is mostly representative and in scope of our question’s population. The data itself and analyses though may contain bias as some are dependent on student’s subjective evaluations. As well, not all students are required to evaluate their courses so we are missing a set of data that could otherwise make a difference to the results. Our question, data, and analyses then can not be generalizable to other populations since our findings are unique to UCSD and its students.\n",
    "Since we are observing a school, informed consent of individuals does not apply. But, the source from the school is only accessible by UCSD-affiliated individuals. So, we made sure the collection of CAPE scores are anonymous and contain no private information of their students. But, this may be a breach of privacy by outsiders who may misuse this information for their own benefit which may not be ethical. \n",
    "In cleaning data, we did drop some rows with null values for average grade data but we investigated these further to make sure there is no significant bias. And in our analyses, we noted that the dataset size shrunk from pre-covid to during covid which could affect our determination of results and prompts for further investigation.\n",
    "There are assumptions about the increase in grades during the pandemic at UCSD, but we do not know the exact reasons or causes from our observations. However, this is interesting for further investigation and discussion!"
   ]
  },
  {
   "cell_type": "markdown",
   "metadata": {},
   "source": [
    "# Conclusion & Discussion"
   ]
  },
  {
   "cell_type": "markdown",
   "metadata": {},
   "source": [
    "Our goal for this project was to determine how remote learning during the COVID-19 pandemic has affected students’ grades and learning experiences at the University of California San Diego. We hypothesized that remote learning would have a negative effect overall due to factors such as the abrupt transition, the change in environment, and cases of disparate internet access. Using data from the UCSD CAPE website (Course and Professor Evaluations), we were able to see differences in how students filled out their CAPEs surveys before and during the pandemic. We measured the effect on students’ grades with CAPEs data for average grades received and expected, and learning experience based on the course recommendation rate given by students.\n",
    "\n",
    "After cleaning and analyzing the data, we found a general upwards trend in all three categories. To verify the conclusions we drew from the visualizations, we performed Welsh t-tests on the average grades received and the course recommendation rates pre- versus during COVID. For both tests, a p-value < 0.001 was found, indicating we reject the null hypothesis: that there is no statistically significant difference between pre- and during COVID GPA and recommendation rates. \n",
    " \n",
    "This indicates that despites the drawbacks from the effects of a\n",
    "global pandemic and quarantine, students' grades and rankings of courses have\n",
    "overall improved. This is a surprising result because of the drawbacks of\n",
    "online learning we outlined in our background. We can only speculate on the cause for the shift, and it may be due to some of the adjustments professors and classes have made due to online learning. For example, many students may do better with classes that instated open-book tests, or with the flexibility that comes with recorded lectures. It is also interesting to note that in the line chart visualizations, the upward spike appears to be falling despite UCSD still relying on online learning. This could indicate professors that are being less lenient as the pandemic continues, and grades may approach the level they were pre-pandemic again.\n",
    "\n",
    "However, there are several limitations to our analysis. For one, different classes are offered different quarters, and professors often rotate. This makes it difficult to directly compare grades pre- and during the pandemic since there is variation due to these outside factors. Our dataset is also limited by CAPEs surveys being voluntary, leading to inconsistent response rates. Students may choose to only leave CAPEs if they have strongly negative or positive experiences for example, possibly causing\n",
    "the data to not be representative of the whole student population. Our dataset is also limited by the amount of NaN values in the dataset, over 20%. This could introduce bias into our data since professors may elect to not provide certain data if it is much above or below the mean. Lastly, our largest limitation is the implementation of the Pass/No Pass grade option during the pandemic. Many major departments opt to let students take major classes for Pass/No Pass, and the deadline has been extended to the last week of instruction, Week 10, to change the grading option. This clearly introduces bias in our data because students struggling in classes can easily choose to take a class Pass/No Pass, and their grade thus does not affect the averages reported on CAPEs.\n",
    "\n",
    "Since both the visualizations and statistics tests show that grades and course recommendations on CAPEs have increased, it appears that the pandemic did not negatively affect students’ GPA and learning experience, and instead positively affected both. However, when considering the limitations, we cannot fully conclude this without unbiased data and a more complete dataset not affected by implementation of Pass/No Pass. Therefore we conclude that with the data available, there is a statistically significant increase in students’ grades and recommendation rates on CAPEs, but it may not represent the UCSD student population as a whole."
   ]
  },
  {
   "cell_type": "markdown",
   "metadata": {},
   "source": [
    "# Team Contributions"
   ]
  },
  {
   "cell_type": "markdown",
   "metadata": {},
   "source": [
    "Kelly wrote the overview, ethics and privacy section, created the box plot in the EDA section, and edited the presentation video. Lily handled the scraping and cleaning of data, and wrote the code/annotations for the inferential analysis section. Sophia wrote the conclusion and discussion section, and created the quarterly line plot in the EDA section. Yining wrote the background section, and created histograms for the EDA section. Furthermore, every group member contributed to the presentation video by recording a section."
   ]
  }
 ],
 "metadata": {
  "kernelspec": {
   "display_name": "Python 3",
   "language": "python",
   "name": "python3"
  },
  "language_info": {
   "codemirror_mode": {
    "name": "ipython",
    "version": 3
   },
   "file_extension": ".py",
   "mimetype": "text/x-python",
   "name": "python",
   "nbconvert_exporter": "python",
   "pygments_lexer": "ipython3",
   "version": "3.7.9"
  }
 },
 "nbformat": 4,
 "nbformat_minor": 2
}
